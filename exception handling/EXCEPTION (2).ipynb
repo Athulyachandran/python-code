{
 "cells": [
  {
   "cell_type": "markdown",
   "id": "0daf6d11",
   "metadata": {},
   "source": [
    "#### here exponent of 1000 is impossible so except part will execute"
   ]
  },
  {
   "cell_type": "code",
   "execution_count": 2,
   "id": "34fc91fa",
   "metadata": {},
   "outputs": [
    {
     "name": "stdout",
     "output_type": "stream",
     "text": [
      "(<class 'OverflowError'>, OverflowError('math range error'), <traceback object at 0x0000017287D84CC0>)\n"
     ]
    }
   ],
   "source": [
    "import math ## module import\n",
    "import sys ## module import\n",
    "try:\n",
    "    print(math.exp(1000)) ## cant find the expo of 1000 so error occure except part will execute\n",
    "except OverflowError:\n",
    "    print(sys.exc_info())\n",
    "else:\n",
    "    print(\"no exception occured\")"
   ]
  },
  {
   "cell_type": "markdown",
   "id": "5c5acb94",
   "metadata": {},
   "source": [
    "#### here expo of 100 is possible so answer and else part will execute"
   ]
  },
  {
   "cell_type": "code",
   "execution_count": 4,
   "id": "319b40ac",
   "metadata": {},
   "outputs": [
    {
     "name": "stdout",
     "output_type": "stream",
     "text": [
      "2.6881171418161356e+43\n",
      "no exeption occured\n"
     ]
    }
   ],
   "source": [
    "try:\n",
    "    print(math.exp(100))\n",
    "except OverflowError:\n",
    "    print(sys.exc_info())\n",
    "else:\n",
    "    print(\"no exeption occured\")"
   ]
  },
  {
   "cell_type": "markdown",
   "id": "6e15c607",
   "metadata": {},
   "source": [
    "#### here error occur but we mention index portion so the first error postion only print(over flow eeror track back will avoid)"
   ]
  },
  {
   "cell_type": "code",
   "execution_count": 5,
   "id": "942b7159",
   "metadata": {},
   "outputs": [
    {
     "name": "stdout",
     "output_type": "stream",
     "text": [
      "math range error\n"
     ]
    }
   ],
   "source": [
    "try:\n",
    "    print(math.exp(1000))\n",
    "except:\n",
    "    print(sys.exc_info()[1])\n",
    "else:\n",
    "    print(\"no exeption occured\")"
   ]
  },
  {
   "cell_type": "markdown",
   "id": "bbfc074f",
   "metadata": {},
   "source": [
    "#### if error occcur or not the finally statemnt will execute"
   ]
  },
  {
   "cell_type": "markdown",
   "id": "1bb36461",
   "metadata": {},
   "source": [
    "#### here error exist so exception will execute also finally will execute"
   ]
  },
  {
   "cell_type": "code",
   "execution_count": 6,
   "id": "5ff237c9",
   "metadata": {},
   "outputs": [
    {
     "name": "stdout",
     "output_type": "stream",
     "text": [
      "(<class 'OverflowError'>, OverflowError('math range error'), <traceback object at 0x0000017287D82940>)\n",
      "program is completed...clean the memory\n"
     ]
    }
   ],
   "source": [
    "import math\n",
    "try:\n",
    "    print(math.exp(1000))\n",
    "except OverflowError:\n",
    "    print(sys.exc_info())\n",
    "else:\n",
    "    print(\"no excption occured\")\n",
    "finally:\n",
    "    print('program is completed...clean the memory')"
   ]
  },
  {
   "cell_type": "markdown",
   "id": "b5a99365",
   "metadata": {},
   "source": [
    "#### here is no error so output and finally stamnt will print"
   ]
  },
  {
   "cell_type": "code",
   "execution_count": 7,
   "id": "91a908d7",
   "metadata": {},
   "outputs": [
    {
     "name": "stdout",
     "output_type": "stream",
     "text": [
      "2.6881171418161356e+43\n",
      "no excption occured\n",
      "program is completed...clean the memory\n"
     ]
    }
   ],
   "source": [
    "import math\n",
    "try:\n",
    "    print(math.exp(100))\n",
    "except OverflowError:\n",
    "    print(sys.exc_info())\n",
    "else:\n",
    "    print(\"no excption occured\")\n",
    "finally:\n",
    "    print('program is completed...clean the memory')"
   ]
  },
  {
   "cell_type": "markdown",
   "id": "6d1aeb90",
   "metadata": {},
   "source": [
    "### zero division error"
   ]
  },
  {
   "cell_type": "code",
   "execution_count": 1,
   "id": "2ec8d3bf",
   "metadata": {},
   "outputs": [
    {
     "ename": "ZeroDivisionError",
     "evalue": "division by zero",
     "output_type": "error",
     "traceback": [
      "\u001b[1;31m---------------------------------------------------------------------------\u001b[0m",
      "\u001b[1;31mZeroDivisionError\u001b[0m                         Traceback (most recent call last)",
      "Input \u001b[1;32mIn [1]\u001b[0m, in \u001b[0;36m<cell line: 3>\u001b[1;34m()\u001b[0m\n\u001b[0;32m      1\u001b[0m a\u001b[38;5;241m=\u001b[39m\u001b[38;5;241m5\u001b[39m\n\u001b[0;32m      2\u001b[0m b\u001b[38;5;241m=\u001b[39m\u001b[38;5;241m0\u001b[39m\n\u001b[1;32m----> 3\u001b[0m c\u001b[38;5;241m=\u001b[39m\u001b[43ma\u001b[49m\u001b[38;5;241;43m/\u001b[39;49m\u001b[43mb\u001b[49m\n\u001b[0;32m      4\u001b[0m \u001b[38;5;28mprint\u001b[39m(c)\n",
      "\u001b[1;31mZeroDivisionError\u001b[0m: division by zero"
     ]
    }
   ],
   "source": [
    "a=5 ### we cant divide anything with zero\n",
    "b=0\n",
    "c=a/b\n",
    "print(c)"
   ]
  },
  {
   "cell_type": "code",
   "execution_count": 2,
   "id": "7e1220cf",
   "metadata": {},
   "outputs": [
    {
     "name": "stdout",
     "output_type": "stream",
     "text": [
      "number cannot be divided by zero\n"
     ]
    }
   ],
   "source": [
    "a=10\n",
    "b=0\n",
    "try:\n",
    "    print(a/b)\n",
    "except:\n",
    "    print(\"number cannot be divided by zero\")"
   ]
  },
  {
   "cell_type": "code",
   "execution_count": 3,
   "id": "2939bd3d",
   "metadata": {},
   "outputs": [
    {
     "name": "stdout",
     "output_type": "stream",
     "text": [
      "number canot be divided by zero\n"
     ]
    }
   ],
   "source": [
    "a=10\n",
    "b=0\n",
    "try:\n",
    "    print(a/b)\n",
    "except ZeroDivisionError:\n",
    "    print(\"number canot be divided by zero\")\n",
    "    "
   ]
  },
  {
   "cell_type": "code",
   "execution_count": 4,
   "id": "498fe238",
   "metadata": {},
   "outputs": [
    {
     "name": "stdout",
     "output_type": "stream",
     "text": [
      "number not divided by zero\n"
     ]
    }
   ],
   "source": [
    "a=10\n",
    "b=0\n",
    "try:\n",
    "    print(a/b)\n",
    "except:\n",
    "    print(\"number not divided by zero\")"
   ]
  },
  {
   "cell_type": "code",
   "execution_count": 5,
   "id": "f59657ce",
   "metadata": {},
   "outputs": [
    {
     "name": "stdout",
     "output_type": "stream",
     "text": [
      "(<class 'ZeroDivisionError'>, ZeroDivisionError('division by zero'), <traceback object at 0x0000021A94962480>)\n"
     ]
    }
   ],
   "source": [
    "import sys\n",
    "a=10\n",
    "b=0\n",
    "try:\n",
    "    print(a/b)\n",
    "except:\n",
    "    print(sys.exc_info())"
   ]
  },
  {
   "cell_type": "code",
   "execution_count": 6,
   "id": "ea20cc44",
   "metadata": {},
   "outputs": [
    {
     "name": "stdout",
     "output_type": "stream",
     "text": [
      "division by zero\n"
     ]
    }
   ],
   "source": [
    "import sys\n",
    "a=10\n",
    "b=0\n",
    "try:\n",
    "    print(a/b)\n",
    "except:\n",
    "    print(sys.exc_info()[1])"
   ]
  },
  {
   "cell_type": "code",
   "execution_count": 7,
   "id": "491dfbc9",
   "metadata": {},
   "outputs": [
    {
     "name": "stdout",
     "output_type": "stream",
     "text": [
      "1.0\n",
      "no exception occur\n"
     ]
    }
   ],
   "source": [
    "import sys ### here is no exception occur bz a and b are divisible\n",
    "a=10\n",
    "b=10\n",
    "try:\n",
    "    print(a/b)\n",
    "except:\n",
    "    print(sys.exc_info())\n",
    "else:\n",
    "    print(\"no exception occur\")"
   ]
  },
  {
   "cell_type": "code",
   "execution_count": 8,
   "id": "aba9c967",
   "metadata": {},
   "outputs": [
    {
     "name": "stdout",
     "output_type": "stream",
     "text": [
      "1.0\n",
      "no exception occured\n",
      "run the block for cleanup process\n"
     ]
    }
   ],
   "source": [
    "import sys\n",
    "a=10\n",
    "b=10\n",
    "try:\n",
    "    print(a/b)\n",
    "except:\n",
    "    print(sys.exc_info())\n",
    "else:\n",
    "    print(\"no exception occured\")\n",
    "finally:\n",
    "    print(\"run the block for cleanup process\")"
   ]
  },
  {
   "cell_type": "markdown",
   "id": "548a7af7",
   "metadata": {},
   "source": [
    "### name error"
   ]
  },
  {
   "cell_type": "markdown",
   "id": "418346bc",
   "metadata": {},
   "source": [
    "### if name not specified"
   ]
  },
  {
   "cell_type": "code",
   "execution_count": 10,
   "id": "6a3b9402",
   "metadata": {},
   "outputs": [
    {
     "name": "stdout",
     "output_type": "stream",
     "text": [
      "y is not defined\n"
     ]
    }
   ],
   "source": [
    "try: ### here y is not specified but try to print y so execption will execute\n",
    "    print(y)\n",
    "except:\n",
    "    print(\"y is not defined\")"
   ]
  },
  {
   "cell_type": "code",
   "execution_count": 11,
   "id": "72949d5c",
   "metadata": {},
   "outputs": [
    {
     "name": "stdout",
     "output_type": "stream",
     "text": [
      "(<class 'NameError'>, NameError(\"name 'x' is not defined\"), <traceback object at 0x0000021A963F5640>)\n"
     ]
    }
   ],
   "source": [
    "import sys\n",
    "try:\n",
    "    print(x)\n",
    "except:\n",
    "    print(sys.exc_info())"
   ]
  },
  {
   "cell_type": "code",
   "execution_count": 12,
   "id": "8758abb8",
   "metadata": {},
   "outputs": [
    {
     "name": "stdout",
     "output_type": "stream",
     "text": [
      "10\n"
     ]
    }
   ],
   "source": [
    "x=10\n",
    "try:\n",
    "    print(x)\n",
    "except:\n",
    "    print(sys.exc_info())"
   ]
  },
  {
   "cell_type": "markdown",
   "id": "9672059b",
   "metadata": {},
   "source": [
    "### assertion error"
   ]
  },
  {
   "cell_type": "markdown",
   "id": "a893c61a",
   "metadata": {},
   "source": [
    "#### tgis exception occure when assert stmnt fails"
   ]
  },
  {
   "cell_type": "code",
   "execution_count": 13,
   "id": "ab2ee4f6",
   "metadata": {},
   "outputs": [
    {
     "name": "stdout",
     "output_type": "stream",
     "text": [
      "(<class 'AssertionError'>, AssertionError(), <traceback object at 0x0000021A95CB6700>)\n"
     ]
    }
   ],
   "source": [
    "a=12\n",
    "b=\"athulya\"\n",
    "try:\n",
    "    assert a==b\n",
    "except AssertionError:\n",
    "    print(sys.exc_info())"
   ]
  },
  {
   "cell_type": "markdown",
   "id": "4755d9bd",
   "metadata": {},
   "source": [
    "### file notfound error"
   ]
  },
  {
   "cell_type": "markdown",
   "id": "cf2a3d33",
   "metadata": {},
   "source": [
    "#### when specified  file not got"
   ]
  },
  {
   "cell_type": "code",
   "execution_count": 14,
   "id": "413629f4",
   "metadata": {},
   "outputs": [
    {
     "name": "stdout",
     "output_type": "stream",
     "text": [
      "(<class 'FileNotFoundError'>, FileNotFoundError(2, 'The system cannot find the file specified'), <traceback object at 0x0000021A94915900>)\n",
      "run this code again\n"
     ]
    }
   ],
   "source": [
    "import os\n",
    "import sys\n",
    "try:\n",
    "    os.remove(\"test.txt\")\n",
    "except:\n",
    "    print(sys.exc_info())\n",
    "else:\n",
    "    print(\"no exception occure\")\n",
    "finally:\n",
    "    print(\"run this code again\")"
   ]
  },
  {
   "cell_type": "markdown",
   "id": "e15bf764",
   "metadata": {},
   "source": [
    "### module not found error"
   ]
  },
  {
   "cell_type": "markdown",
   "id": "cff51b24",
   "metadata": {},
   "source": [
    "#### it will occur particular module is notfoumd"
   ]
  },
  {
   "cell_type": "code",
   "execution_count": 15,
   "id": "aabcf778",
   "metadata": {},
   "outputs": [],
   "source": [
    "try:\n",
    "    import sys\n",
    "except ModuleNotFoundError:\n",
    "    print(\"module not found error\")"
   ]
  },
  {
   "cell_type": "code",
   "execution_count": 16,
   "id": "a48e650d",
   "metadata": {},
   "outputs": [
    {
     "name": "stdout",
     "output_type": "stream",
     "text": [
      "module not found error\n"
     ]
    }
   ],
   "source": [
    "try:\n",
    "    import athulya\n",
    "except ModuleNotFoundError:\n",
    "    print(\"module not found error\")"
   ]
  },
  {
   "cell_type": "code",
   "execution_count": 17,
   "id": "6ae383cf",
   "metadata": {},
   "outputs": [
    {
     "name": "stdout",
     "output_type": "stream",
     "text": [
      "module not found error\n"
     ]
    }
   ],
   "source": [
    "try:\n",
    "    import newdata\n",
    "except ModuleNotFoundError:\n",
    "    print(\"module not found error\")"
   ]
  },
  {
   "cell_type": "markdown",
   "id": "eb5cccf4",
   "metadata": {},
   "source": [
    "#### KEYERROR"
   ]
  },
  {
   "cell_type": "markdown",
   "id": "0eda2810",
   "metadata": {},
   "source": [
    "#### occur the particular key is ocured here 4 th key is not exist only up to 3 is exist so exception occur"
   ]
  },
  {
   "cell_type": "code",
   "execution_count": 18,
   "id": "c610394b",
   "metadata": {},
   "outputs": [
    {
     "name": "stdout",
     "output_type": "stream",
     "text": [
      "keyerror exception is occured\n"
     ]
    }
   ],
   "source": [
    "m={1:'divya',2:'sitha',3:'rekha'}\n",
    "try:\n",
    "    print(m[4])\n",
    "except:\n",
    "    print(\"keyerror exception is occured\")"
   ]
  },
  {
   "cell_type": "markdown",
   "id": "f0ba2c91",
   "metadata": {},
   "source": [
    "### indexError"
   ]
  },
  {
   "cell_type": "markdown",
   "id": "c2593511",
   "metadata": {},
   "source": [
    "#### it occur specified index not exist ,here only 5 index exist.searching for 6 th one"
   ]
  },
  {
   "cell_type": "code",
   "execution_count": 19,
   "id": "be7e9250",
   "metadata": {},
   "outputs": [
    {
     "name": "stdout",
     "output_type": "stream",
     "text": [
      "index error\n"
     ]
    }
   ],
   "source": [
    "l=[1,3,4,5,6,7]\n",
    "try:\n",
    "    print(l[6])\n",
    "except:\n",
    "    print(\"index error\")"
   ]
  },
  {
   "cell_type": "markdown",
   "id": "8d1de57e",
   "metadata": {},
   "source": [
    "### TypeError"
   ]
  },
  {
   "cell_type": "markdown",
   "id": "fc1539e3",
   "metadata": {},
   "source": [
    "### it occure when 2 diferent type try to combine"
   ]
  },
  {
   "cell_type": "code",
   "execution_count": 20,
   "id": "6206131a",
   "metadata": {},
   "outputs": [
    {
     "name": "stdout",
     "output_type": "stream",
     "text": [
      "type error exception occured\n"
     ]
    }
   ],
   "source": [
    "a=12 ### here we try to divide integer type to string\n",
    "b=\"athu\"\n",
    "try:\n",
    "    print(a/b)\n",
    "except TypeError:\n",
    "    print(\"type error exception occured\")"
   ]
  },
  {
   "cell_type": "markdown",
   "id": "7394d1f7",
   "metadata": {},
   "source": [
    "### attributeexception"
   ]
  },
  {
   "cell_type": "markdown",
   "id": "4d430fb3",
   "metadata": {},
   "source": [
    "#####  this occure atribute reference is incorrect"
   ]
  },
  {
   "cell_type": "code",
   "execution_count": 21,
   "id": "f5361b56",
   "metadata": {},
   "outputs": [
    {
     "name": "stdout",
     "output_type": "stream",
     "text": [
      "ATTRIBUTEERROR EXCEPTION occured\n"
     ]
    }
   ],
   "source": [
    "a=12\n",
    "try:\n",
    "    print(a.upper())\n",
    "except AttributeError:\n",
    "    print(\"ATTRIBUTEERROR EXCEPTION occured\")"
   ]
  },
  {
   "cell_type": "code",
   "execution_count": 22,
   "id": "82c4310b",
   "metadata": {},
   "outputs": [
    {
     "name": "stdout",
     "output_type": "stream",
     "text": [
      "enter first num67\n",
      "enter second num3\n",
      "22.333333333333332\n",
      "file not found error exception occured\n"
     ]
    }
   ],
   "source": [
    "import os\n",
    "import sys\n",
    "try:\n",
    "    x=int(input(\"enter first num\"))\n",
    "    y=int(input(\"enter second num\"))\n",
    "    print(x/y)\n",
    "    os.remove(\"test1.txt\")\n",
    "except FileNotFoundError:\n",
    "    print(\"file not found error exception occured\")\n",
    "except ZeroDivisionError:\n",
    "    print(\"zero division exception occured\")"
   ]
  },
  {
   "cell_type": "code",
   "execution_count": 2,
   "id": "067f567a",
   "metadata": {},
   "outputs": [
    {
     "name": "stdout",
     "output_type": "stream",
     "text": [
      "enter number67\n",
      "(<class 'ValueError'>, ValueError(67), <traceback object at 0x000001A4A3D7FCC0>)\n"
     ]
    }
   ],
   "source": [
    "import sys\n",
    "try:\n",
    "    x=int(input(\"enter number\"))\n",
    "    if x>50:\n",
    "        raise ValueError(x)\n",
    "except:\n",
    "    print(sys.exc_info())\n",
    "else:\n",
    "    print(\"no exception occured\")"
   ]
  },
  {
   "cell_type": "code",
   "execution_count": null,
   "id": "889a6c66",
   "metadata": {},
   "outputs": [],
   "source": []
  },
  {
   "cell_type": "code",
   "execution_count": null,
   "id": "fbf9892f",
   "metadata": {},
   "outputs": [],
   "source": []
  }
 ],
 "metadata": {
  "kernelspec": {
   "display_name": "Python 3 (ipykernel)",
   "language": "python",
   "name": "python3"
  },
  "language_info": {
   "codemirror_mode": {
    "name": "ipython",
    "version": 3
   },
   "file_extension": ".py",
   "mimetype": "text/x-python",
   "name": "python",
   "nbconvert_exporter": "python",
   "pygments_lexer": "ipython3",
   "version": "3.9.12"
  }
 },
 "nbformat": 4,
 "nbformat_minor": 5
}
