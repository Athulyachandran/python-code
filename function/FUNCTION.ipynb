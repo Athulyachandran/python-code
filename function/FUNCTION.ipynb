{
 "cells": [
  {
   "cell_type": "code",
   "execution_count": 1,
   "id": "ae7e2fef",
   "metadata": {},
   "outputs": [
    {
     "name": "stdout",
     "output_type": "stream",
     "text": [
      "hello lets learn function\n"
     ]
    }
   ],
   "source": [
    "def my(): ##function defenition\n",
    "    print(\"hello lets learn function\")\n",
    "my() ##function calling"
   ]
  },
  {
   "cell_type": "code",
   "execution_count": 2,
   "id": "08ca817c",
   "metadata": {},
   "outputs": [
    {
     "name": "stdout",
     "output_type": "stream",
     "text": [
      "enter number5\n",
      "enter number3\n",
      "sub 2\n"
     ]
    }
   ],
   "source": [
    "def sub():\n",
    "    a=int(input(\"enter number\"))\n",
    "    b=int(input(\"enter number\"))\n",
    "    \n",
    "    c=a-b\n",
    "    print(\"sub\",c)\n",
    "sub()"
   ]
  },
  {
   "cell_type": "code",
   "execution_count": 18,
   "id": "9f853978",
   "metadata": {},
   "outputs": [
    {
     "name": "stdout",
     "output_type": "stream",
     "text": [
      "ennter number16\n",
      "16 is not prime number\n"
     ]
    }
   ],
   "source": [
    "def prime():\n",
    "    n=int(input(\"ennter number\"))\n",
    "    for i in range(2,n):\n",
    "        if n%i==0:\n",
    "            print(n,\"is not prime number\")\n",
    "            break\n",
    "    else:\n",
    "            print(n,\"prime number\")\n",
    "prime()\n",
    "        "
   ]
  },
  {
   "cell_type": "code",
   "execution_count": 3,
   "id": "3a872b27",
   "metadata": {},
   "outputs": [
    {
     "name": "stdout",
     "output_type": "stream",
     "text": [
      "enter num2\n",
      "4\n"
     ]
    }
   ],
   "source": [
    "def sqr():\n",
    "    x=int(input(\"enter num\"))\n",
    "    y=x**2\n",
    "    print(y)\n",
    "sqr()"
   ]
  },
  {
   "cell_type": "code",
   "execution_count": 9,
   "id": "7526dc67",
   "metadata": {},
   "outputs": [
    {
     "name": "stdout",
     "output_type": "stream",
     "text": [
      "enter num10\n",
      "1\n",
      "2\n",
      "5\n",
      "10\n"
     ]
    }
   ],
   "source": [
    "def fact():\n",
    "    num=int(input(\"enter num\"))\n",
    "    for i in range(1,num+1):\n",
    "        if num%i==0:\n",
    "            print(i)\n",
    "fact()"
   ]
  },
  {
   "cell_type": "markdown",
   "id": "db57f216",
   "metadata": {},
   "source": [
    "#### parameter"
   ]
  },
  {
   "cell_type": "code",
   "execution_count": 19,
   "id": "5666bdf9",
   "metadata": {},
   "outputs": [
    {
     "name": "stdout",
     "output_type": "stream",
     "text": [
      "enter the first number7\n",
      "enter scnd number8\n",
      "56\n"
     ]
    }
   ],
   "source": [
    "def mul(x,y): ##parameter\n",
    "    z=x*y\n",
    "    print(z)\n",
    "    \n",
    "a=int(input(\"enter the first number\"))\n",
    "b=int(input(\"enter scnd number\"))\n",
    "mul(a,b) ## argument"
   ]
  },
  {
   "cell_type": "markdown",
   "id": "c2bc0ed6",
   "metadata": {},
   "source": [
    "### argument"
   ]
  },
  {
   "cell_type": "code",
   "execution_count": 1,
   "id": "738c0edb",
   "metadata": {},
   "outputs": [
    {
     "name": "stdout",
     "output_type": "stream",
     "text": [
      "enter number7\n",
      "7 prime number\n"
     ]
    }
   ],
   "source": [
    "def prime(n): ##parameter\n",
    "    \n",
    "    for i in range(2,n):\n",
    "        if n%i==0:\n",
    "            print(n,\"is not prime number\")\n",
    "            break\n",
    "    else:\n",
    "            print(n,\"prime number\")\n",
    "number=int(input(\"enter number\"))\n",
    "prime(number)## argument\n",
    "        "
   ]
  },
  {
   "cell_type": "code",
   "execution_count": 2,
   "id": "28395af5",
   "metadata": {},
   "outputs": [
    {
     "name": "stdout",
     "output_type": "stream",
     "text": [
      "id: 89\n",
      "name: athulya\n",
      "salary: 18000\n"
     ]
    }
   ],
   "source": [
    "### function to print user details\n",
    "def info(i,n,s):\n",
    "    print(\"id:\",i)\n",
    "    print(\"name:\",n)\n",
    "    print(\"salary:\",s)\n",
    "info(89,\"athulya\",18000)"
   ]
  },
  {
   "cell_type": "code",
   "execution_count": 5,
   "id": "6124e171",
   "metadata": {},
   "outputs": [
    {
     "name": "stdout",
     "output_type": "stream",
     "text": [
      "enter id2\n",
      "enter nameathu\n",
      "enter salary18000\n",
      "id: 2\n",
      "name: athu\n",
      "salary: 18000\n"
     ]
    }
   ],
   "source": [
    "def info(i,n,s):\n",
    "    print(\"id:\",i)\n",
    "    print(\"name:\",n)\n",
    "    print(\"salary:\",s)\n",
    "ei=int(input(\"enter id\"))\n",
    "ni=input(\"enter name\")\n",
    "si=int(input(\"enter salary\"))\n",
    "info(ei,ni,si)"
   ]
  },
  {
   "cell_type": "markdown",
   "id": "6a40c6ff",
   "metadata": {},
   "source": [
    "#### global scope"
   ]
  },
  {
   "cell_type": "code",
   "execution_count": 1,
   "id": "008a7c6d",
   "metadata": {},
   "outputs": [
    {
     "name": "stdout",
     "output_type": "stream",
     "text": [
      "100\n",
      "100\n"
     ]
    }
   ],
   "source": [
    "v=100 ###globalscope\n",
    "def myfun():\n",
    "    print(v)\n",
    "myfun()\n",
    "print(v)"
   ]
  },
  {
   "cell_type": "code",
   "execution_count": 2,
   "id": "e45719c3",
   "metadata": {},
   "outputs": [
    {
     "name": "stdout",
     "output_type": "stream",
     "text": [
      "12\n",
      "100\n"
     ]
    }
   ],
   "source": [
    "def myfun():\n",
    "    v=12 ### local scope\n",
    "    print(v)\n",
    "myfun()\n",
    "print(v)"
   ]
  },
  {
   "cell_type": "code",
   "execution_count": 3,
   "id": "1977e22a",
   "metadata": {},
   "outputs": [
    {
     "name": "stdout",
     "output_type": "stream",
     "text": [
      "enter number4\n",
      "enter number5\n",
      "product 20\n"
     ]
    }
   ],
   "source": [
    "def product(x,y):\n",
    "    z=x*y\n",
    "    return z\n",
    "a=int(input(\"enter number\"))\n",
    "b=int(input(\"enter number\"))\n",
    "res=product(a,b)\n",
    "print(\"product\",res)"
   ]
  },
  {
   "cell_type": "code",
   "execution_count": 5,
   "id": "aabfdf06",
   "metadata": {},
   "outputs": [
    {
     "name": "stdout",
     "output_type": "stream",
     "text": [
      "enter number4\n",
      "enter number2\n",
      "select choice from the below menu\n",
      "1.addition\n",
      "2.subtraction\n",
      "3.multiplication\n",
      ".4division\n",
      "1\n",
      "6\n"
     ]
    }
   ],
   "source": [
    "def add(x,y):\n",
    "    z=x+y\n",
    "    return z\n",
    "\n",
    "def sub(x,y):\n",
    "    z=x-y\n",
    "    return z\n",
    "def mul(x,y):\n",
    "    z=x*y\n",
    "    return z\n",
    "\n",
    "def div(x,y):\n",
    "    z=x/y\n",
    "    return z\n",
    "a=int(input(\"enter number\"))\n",
    "b=int(input(\"enter number\"))\n",
    "choice=int(input(\"select choice from the below menu\\n1.addition\\n2.subtraction\\n3.multiplication\\n.4division\\n\"))\n",
    "if choice==1:\n",
    "    addition=add(a,b)\n",
    "    print(addition)\n",
    "elif choice==2:\n",
    "    subtraction=sub(a,b)\n",
    "    print(subtraction)\n",
    "    \n",
    "elif choice==3:\n",
    "    multiplication=mul(a,b)\n",
    "    print(multiplication)\n",
    "elif choice==4:\n",
    "    division==div(a,b)\n",
    "    print(division)\n",
    "else:\n",
    "    print(\"enter a valid choice\")"
   ]
  },
  {
   "cell_type": "code",
   "execution_count": 1,
   "id": "a5d67af5",
   "metadata": {},
   "outputs": [
    {
     "name": "stdout",
     "output_type": "stream",
     "text": [
      "enter number4\n",
      "enter number5\n",
      "addition (9, -1, 20, 0.8)\n",
      "subtraction (9, -1, 20, 0.8)\n",
      "multiplication (9, -1, 20, 0.8)\n",
      "division (9, -1, 20, 0.8)\n"
     ]
    }
   ],
   "source": [
    "def operation(x,y):\n",
    "    return x+y,x-y,x*y,x/y\n",
    "a=int(input(\"enter number\"))\n",
    "b=int(input(\"enter number\"))\n",
    "t=operation(a,b)\n",
    "print(\"addition\",t)\n",
    "print(\"subtraction\",t)\n",
    "print(\"multiplication\",t)\n",
    "print(\"division\",t)"
   ]
  },
  {
   "cell_type": "code",
   "execution_count": 38,
   "id": "607d9ca0",
   "metadata": {},
   "outputs": [
    {
     "name": "stdout",
     "output_type": "stream",
     "text": [
      "enter number5\n",
      "120\n"
     ]
    }
   ],
   "source": [
    "def fac():\n",
    "    n=int(input(\"enter number\"))\n",
    "    num=1\n",
    "\n",
    "    while n>1:\n",
    "        num=num*n\n",
    "        n=n-1\n",
    "    \n",
    "    return num\n",
    "\n",
    "\n",
    "print(fac())"
   ]
  },
  {
   "cell_type": "markdown",
   "id": "7bad9947",
   "metadata": {},
   "source": [
    "### arg"
   ]
  },
  {
   "cell_type": "code",
   "execution_count": 16,
   "id": "bf9b2d1a",
   "metadata": {},
   "outputs": [],
   "source": [
    "def add(*args):\n",
    "    return sum(args)"
   ]
  },
  {
   "cell_type": "code",
   "execution_count": 17,
   "id": "055c0085",
   "metadata": {},
   "outputs": [
    {
     "name": "stdout",
     "output_type": "stream",
     "text": [
      "6\n",
      "50\n",
      "238\n"
     ]
    }
   ],
   "source": [
    "print(add(1,2,3))\n",
    "print(add(11,12,13,14))\n",
    "print(add(7,8,9,12,45,67,90))"
   ]
  },
  {
   "cell_type": "code",
   "execution_count": 19,
   "id": "3b94d138",
   "metadata": {},
   "outputs": [
    {
     "name": "stdout",
     "output_type": "stream",
     "text": [
      "140\n"
     ]
    }
   ],
   "source": [
    "l1=[1,2,3,56,78]\n",
    "print(add(*l1))"
   ]
  },
  {
   "cell_type": "code",
   "execution_count": 23,
   "id": "6548d1db",
   "metadata": {},
   "outputs": [
    {
     "name": "stdout",
     "output_type": "stream",
     "text": [
      "1\n"
     ]
    }
   ],
   "source": [
    "def add(*args):\n",
    "    return min(args)\n",
    "l1=[1,2,3,56,78]\n",
    "\n",
    "print(add(*l1))"
   ]
  },
  {
   "cell_type": "code",
   "execution_count": 21,
   "id": "da27fa2c",
   "metadata": {},
   "outputs": [
    {
     "name": "stdout",
     "output_type": "stream",
     "text": [
      "78\n"
     ]
    }
   ],
   "source": [
    "def add(*args):\n",
    "    return max(args)\n",
    "l1=[1,2,3,56,78]\n",
    "print(add(*l1))"
   ]
  },
  {
   "cell_type": "code",
   "execution_count": 38,
   "id": "e6f05138",
   "metadata": {},
   "outputs": [
    {
     "data": {
      "text/plain": [
       "54"
      ]
     },
     "execution_count": 38,
     "metadata": {},
     "output_type": "execute_result"
    }
   ],
   "source": [
    "def maximum(*args):\n",
    "    return max(args)\n",
    "l1=[2,54,32]\n",
    "maximum(*l1)"
   ]
  },
  {
   "cell_type": "code",
   "execution_count": 24,
   "id": "b78a60bd",
   "metadata": {},
   "outputs": [
    {
     "name": "stdout",
     "output_type": "stream",
     "text": [
      "('shiv', 12, 6788, 'hr', 'assistace manager')\n"
     ]
    }
   ],
   "source": [
    "def user(*args):\n",
    "    print(args)\n",
    "    \n",
    "user(\"shiv\",12,6788,\"hr\",\"assistace manager\")"
   ]
  },
  {
   "cell_type": "code",
   "execution_count": 25,
   "id": "7313093f",
   "metadata": {},
   "outputs": [
    {
     "name": "stdout",
     "output_type": "stream",
     "text": [
      "('divya', 6788)\n"
     ]
    }
   ],
   "source": [
    "user(\"divya\",6788)"
   ]
  },
  {
   "cell_type": "markdown",
   "id": "3c856379",
   "metadata": {},
   "source": [
    "### kwargs"
   ]
  },
  {
   "cell_type": "code",
   "execution_count": 36,
   "id": "0401f425",
   "metadata": {},
   "outputs": [
    {
     "name": "stdout",
     "output_type": "stream",
     "text": [
      "name shiv\n",
      "sno 12\n",
      "salary 45000\n"
     ]
    }
   ],
   "source": [
    "def user(**kwargs):\n",
    "    for key,val in kwargs.items():\n",
    "        print(key,val)\n",
    "user(name=\"shiv\",sno=12,salary=45000)"
   ]
  },
  {
   "cell_type": "code",
   "execution_count": 28,
   "id": "3c7fccf9",
   "metadata": {},
   "outputs": [
    {
     "name": "stdout",
     "output_type": "stream",
     "text": [
      "the first name isjohn\n"
     ]
    }
   ],
   "source": [
    "def my_function(fname):\n",
    "    print(\"the first name is\"+fname)\n",
    "my_function(\"john\")"
   ]
  },
  {
   "cell_type": "markdown",
   "id": "8f4bee35",
   "metadata": {},
   "source": [
    "### lambda"
   ]
  },
  {
   "cell_type": "markdown",
   "id": "b0ae31d4",
   "metadata": {},
   "source": [
    "####  A lambda function is a small anonymous function.\n",
    "\n",
    "A lambda function can take any number of arguments, but can only have one expression.\n",
    "\n"
   ]
  },
  {
   "cell_type": "code",
   "execution_count": 1,
   "id": "6144403b",
   "metadata": {},
   "outputs": [
    {
     "name": "stdout",
     "output_type": "stream",
     "text": [
      "56\n"
     ]
    }
   ],
   "source": [
    "add=lambda a:a+50 ###lamda arguments:expresion\n",
    "print(add(6))"
   ]
  },
  {
   "cell_type": "code",
   "execution_count": 2,
   "id": "91eab0c4",
   "metadata": {},
   "outputs": [
    {
     "name": "stdout",
     "output_type": "stream",
     "text": [
      "156\n"
     ]
    }
   ],
   "source": [
    "add=lambda a,b:a+b\n",
    "print(add(67,89))\n"
   ]
  },
  {
   "cell_type": "code",
   "execution_count": 3,
   "id": "a1fef3db",
   "metadata": {},
   "outputs": [
    {
     "data": {
      "text/plain": [
       "(20, 67, 9)"
      ]
     },
     "execution_count": 3,
     "metadata": {},
     "output_type": "execute_result"
    }
   ],
   "source": [
    "r=(lambda *args:max(args))\n",
    "r(10,20),r(45,56,67),r(8,9,6,7,4)"
   ]
  },
  {
   "cell_type": "code",
   "execution_count": 4,
   "id": "c98bb6d6",
   "metadata": {},
   "outputs": [
    {
     "data": {
      "text/plain": [
       "20"
      ]
     },
     "execution_count": 4,
     "metadata": {},
     "output_type": "execute_result"
    }
   ],
   "source": [
    "r=(lambda *args:max(args))\n",
    "r(10,20)"
   ]
  },
  {
   "cell_type": "code",
   "execution_count": 7,
   "id": "6fc9d04b",
   "metadata": {},
   "outputs": [
    {
     "data": {
      "text/plain": [
       "(10, 1)"
      ]
     },
     "execution_count": 7,
     "metadata": {},
     "output_type": "execute_result"
    }
   ],
   "source": [
    "a=(lambda *args:min(args))\n",
    "a(10,20),a(1,2,3)"
   ]
  },
  {
   "cell_type": "code",
   "execution_count": 8,
   "id": "443ef512",
   "metadata": {},
   "outputs": [
    {
     "data": {
      "text/plain": [
       "(8, 12)"
      ]
     },
     "execution_count": 8,
     "metadata": {},
     "output_type": "execute_result"
    }
   ],
   "source": [
    "res=(lambda **kwargs:min(kwargs.values()))\n",
    "res(a=10,b=20,c=8),res(a=12,b=23,c=45,d=89)"
   ]
  },
  {
   "cell_type": "markdown",
   "id": "694352d3",
   "metadata": {},
   "source": [
    "### arguments"
   ]
  },
  {
   "cell_type": "markdown",
   "id": "30eb0a02",
   "metadata": {},
   "source": [
    "#### positional arguments"
   ]
  },
  {
   "cell_type": "code",
   "execution_count": 9,
   "id": "e74109fa",
   "metadata": {},
   "outputs": [
    {
     "name": "stdout",
     "output_type": "stream",
     "text": [
      "1 2 3\n"
     ]
    }
   ],
   "source": [
    "def func(a,b,c):\n",
    "    print(a,b,c)\n",
    "func(1,2,3)"
   ]
  },
  {
   "cell_type": "code",
   "execution_count": 1,
   "id": "25496123",
   "metadata": {},
   "outputs": [
    {
     "name": "stdout",
     "output_type": "stream",
     "text": [
      "10 5\n"
     ]
    }
   ],
   "source": [
    "def swap(x,y): ## swap of 2 number using positional arguments\n",
    "    z=x\n",
    "    x=y\n",
    "    y=z\n",
    "    print(x,y)\n",
    "swap(5,10)"
   ]
  },
  {
   "cell_type": "code",
   "execution_count": 5,
   "id": "4fa6de6e",
   "metadata": {},
   "outputs": [
    {
     "name": "stdout",
     "output_type": "stream",
     "text": [
      "10 5\n"
     ]
    }
   ],
   "source": [
    "def swap(a,b):\n",
    "    a=a+b\n",
    "    b=a-b\n",
    "    a=a-b\n",
    "    print(a,b)\n",
    "swap(5,10)"
   ]
  },
  {
   "cell_type": "markdown",
   "id": "827a8ea2",
   "metadata": {},
   "source": [
    "#### keyword argument"
   ]
  },
  {
   "cell_type": "code",
   "execution_count": 10,
   "id": "269653e1",
   "metadata": {},
   "outputs": [
    {
     "name": "stdout",
     "output_type": "stream",
     "text": [
      "1 3 2\n"
     ]
    }
   ],
   "source": [
    "def func(a,b,c):\n",
    "    print(a,b,c)\n",
    "func(a=1,c=2,b=3)"
   ]
  },
  {
   "cell_type": "code",
   "execution_count": 6,
   "id": "6dcc4635",
   "metadata": {},
   "outputs": [
    {
     "name": "stdout",
     "output_type": "stream",
     "text": [
      "10 5\n"
     ]
    }
   ],
   "source": [
    "def swap(x,y): ## swap of 2 number using keyword argument\n",
    "    x=x*y\n",
    "    y=x//y\n",
    "    x=x//y\n",
    "    print(x,y)\n",
    "swap(x=5,y=10)"
   ]
  },
  {
   "cell_type": "markdown",
   "id": "26dd5748",
   "metadata": {},
   "source": [
    "#### variable positional arguments"
   ]
  },
  {
   "cell_type": "code",
   "execution_count": 7,
   "id": "888e423e",
   "metadata": {},
   "outputs": [
    {
     "name": "stdout",
     "output_type": "stream",
     "text": [
      "-7\n"
     ]
    }
   ],
   "source": [
    "def minimum(*n):\n",
    "    if n:\n",
    "        mn=n[0]\n",
    "        for value in n[1:]:\n",
    "            if value<mn:\n",
    "                mn=value\n",
    "        print(mn)\n",
    "minimum(1,3,-7,9)\n",
    "minimum()\n",
    "                "
   ]
  },
  {
   "cell_type": "code",
   "execution_count": 8,
   "id": "77368d1e",
   "metadata": {},
   "outputs": [
    {
     "name": "stdout",
     "output_type": "stream",
     "text": [
      "9\n"
     ]
    }
   ],
   "source": [
    "def maximum(*n):\n",
    "    if n:\n",
    "        mn=n[0]\n",
    "        for value in n[1:]:\n",
    "            if value>mn:\n",
    "                mn=value\n",
    "        print(mn)\n",
    "maximum(1,3,-7,9)\n",
    "maximum()"
   ]
  },
  {
   "cell_type": "markdown",
   "id": "e3d59b16",
   "metadata": {},
   "source": [
    "#### variable keyword  argument"
   ]
  },
  {
   "cell_type": "code",
   "execution_count": 11,
   "id": "c2f252f0",
   "metadata": {},
   "outputs": [
    {
     "name": "stdout",
     "output_type": "stream",
     "text": [
      "{'a': 1, 'b': 42}\n",
      "<class 'dict'>\n",
      "{'a': 1, 'b': 42}\n",
      "<class 'dict'>\n",
      "{'a': 1, 'b': 42}\n",
      "<class 'dict'>\n"
     ]
    }
   ],
   "source": [
    "def func(**kwargs):\n",
    "    print(kwargs)\n",
    "    print(type(kwargs))\n",
    "func(a=1,b=42)\n",
    "func(**{\"a\":1,\"b\":42})\n",
    "func(**dict(a=1,b=42))"
   ]
  },
  {
   "cell_type": "markdown",
   "id": "98bb85ca",
   "metadata": {},
   "source": [
    "#### keyword only argument"
   ]
  },
  {
   "cell_type": "code",
   "execution_count": 12,
   "id": "c5c18bda",
   "metadata": {},
   "outputs": [
    {
     "name": "stdout",
     "output_type": "stream",
     "text": [
      "(1, 2, 3) 7\n",
      "() 7\n"
     ]
    },
    {
     "ename": "TypeError",
     "evalue": "kwo() missing 1 required keyword-only argument: 'c'",
     "output_type": "error",
     "traceback": [
      "\u001b[1;31m---------------------------------------------------------------------------\u001b[0m",
      "\u001b[1;31mTypeError\u001b[0m                                 Traceback (most recent call last)",
      "Input \u001b[1;32mIn [12]\u001b[0m, in \u001b[0;36m<cell line: 5>\u001b[1;34m()\u001b[0m\n\u001b[0;32m      3\u001b[0m kwo(\u001b[38;5;241m1\u001b[39m,\u001b[38;5;241m2\u001b[39m,\u001b[38;5;241m3\u001b[39m,c\u001b[38;5;241m=\u001b[39m\u001b[38;5;241m7\u001b[39m)\n\u001b[0;32m      4\u001b[0m kwo(c\u001b[38;5;241m=\u001b[39m\u001b[38;5;241m7\u001b[39m)\n\u001b[1;32m----> 5\u001b[0m \u001b[43mkwo\u001b[49m\u001b[43m(\u001b[49m\u001b[38;5;241;43m1\u001b[39;49m\u001b[43m,\u001b[49m\u001b[38;5;241;43m2\u001b[39;49m\u001b[43m)\u001b[49m\n",
      "\u001b[1;31mTypeError\u001b[0m: kwo() missing 1 required keyword-only argument: 'c'"
     ]
    }
   ],
   "source": [
    "def kwo(*a,c):## a is args thats why can pass multiple values\n",
    "    print(a,c)\n",
    "kwo(1,2,3,c=7)\n",
    "kwo(c=7)\n",
    "kwo(1,2)## here not passing value for the c thats why error showing here"
   ]
  },
  {
   "cell_type": "markdown",
   "id": "aec6be36",
   "metadata": {},
   "source": [
    "### default parameter"
   ]
  },
  {
   "cell_type": "code",
   "execution_count": 1,
   "id": "cc382bcc",
   "metadata": {},
   "outputs": [
    {
     "name": "stdout",
     "output_type": "stream",
     "text": [
      "i am fromsweedon\n",
      "i am fromindia\n",
      "i am fromnorway\n",
      "i am frombrazil\n"
     ]
    }
   ],
   "source": [
    "def my_function(country=\"norway\"):\n",
    "    print(\"i am from\"+country)\n",
    "my_function(\"sweedon\")\n",
    "my_function(\"india\")\n",
    "my_function()\n",
    "my_function(\"brazil\")"
   ]
  },
  {
   "cell_type": "code",
   "execution_count": 2,
   "id": "7ab03eca",
   "metadata": {},
   "outputs": [],
   "source": [
    "def factorial(n=5):\n",
    "    fact=1\n",
    "    for i in range(1,n+1):\n",
    "        fact=fact*i\n",
    "    print(fact)"
   ]
  },
  {
   "cell_type": "code",
   "execution_count": 3,
   "id": "a17321e6",
   "metadata": {},
   "outputs": [
    {
     "name": "stdout",
     "output_type": "stream",
     "text": [
      "120\n"
     ]
    }
   ],
   "source": [
    "factorial()"
   ]
  },
  {
   "cell_type": "code",
   "execution_count": 4,
   "id": "4fd47b3e",
   "metadata": {},
   "outputs": [
    {
     "name": "stdout",
     "output_type": "stream",
     "text": [
      "5040\n"
     ]
    }
   ],
   "source": [
    "factorial(7)"
   ]
  },
  {
   "cell_type": "code",
   "execution_count": 5,
   "id": "3aac8300",
   "metadata": {},
   "outputs": [
    {
     "name": "stdout",
     "output_type": "stream",
     "text": [
      "5 * 1 = 5\n",
      "5 * 2 = 10\n",
      "5 * 3 = 15\n",
      "5 * 4 = 20\n",
      "5 * 5 = 25\n",
      "5 * 6 = 30\n",
      "5 * 7 = 35\n",
      "5 * 8 = 40\n",
      "5 * 9 = 45\n",
      "5 * 10 = 50\n"
     ]
    }
   ],
   "source": [
    "def table(n=5):\n",
    "    for i in range(1,11):\n",
    "        print(n,\"*\",i,\"=\",n*i)\n",
    "table()"
   ]
  },
  {
   "cell_type": "code",
   "execution_count": 6,
   "id": "4cd5e18b",
   "metadata": {},
   "outputs": [
    {
     "name": "stdout",
     "output_type": "stream",
     "text": [
      "6 * 1 = 6\n",
      "6 * 2 = 12\n",
      "6 * 3 = 18\n",
      "6 * 4 = 24\n",
      "6 * 5 = 30\n",
      "6 * 6 = 36\n",
      "6 * 7 = 42\n",
      "6 * 8 = 48\n",
      "6 * 9 = 54\n",
      "6 * 10 = 60\n"
     ]
    }
   ],
   "source": [
    "table(6)"
   ]
  },
  {
   "cell_type": "code",
   "execution_count": 9,
   "id": "ebecfd71",
   "metadata": {},
   "outputs": [
    {
     "name": "stdout",
     "output_type": "stream",
     "text": [
      "0\n",
      "1\n",
      "1\n",
      "2\n",
      "3\n",
      "5\n",
      "8\n",
      "13\n",
      "21\n",
      "34\n"
     ]
    }
   ],
   "source": [
    "def fibi(n=5):\n",
    "    n1,n2=0,1\n",
    "    count=0\n",
    "    while count<n:\n",
    "        print(n1)\n",
    "        nth=n1+n2\n",
    "        n1=n2\n",
    "        n2=nth\n",
    "        count=count+1\n",
    "fibi(10)"
   ]
  },
  {
   "cell_type": "code",
   "execution_count": 10,
   "id": "f12cbf74",
   "metadata": {},
   "outputs": [
    {
     "name": "stdout",
     "output_type": "stream",
     "text": [
      "0\n",
      "1\n",
      "1\n",
      "2\n",
      "3\n"
     ]
    }
   ],
   "source": [
    "fibi()"
   ]
  },
  {
   "cell_type": "code",
   "execution_count": 11,
   "id": "4161468c",
   "metadata": {},
   "outputs": [
    {
     "name": "stdout",
     "output_type": "stream",
     "text": [
      "456\n",
      "543\n"
     ]
    }
   ],
   "source": [
    "def reversed(num=345):\n",
    "    reverse=0\n",
    "    while num!=0:\n",
    "        dig=num%10\n",
    "        reverse=reverse*10+dig\n",
    "        num//=10\n",
    "    print(reverse)\n",
    "reversed(654)\n",
    "reversed()"
   ]
  },
  {
   "cell_type": "markdown",
   "id": "e3ef44da",
   "metadata": {},
   "source": [
    "### return multiple values in function"
   ]
  },
  {
   "cell_type": "code",
   "execution_count": 8,
   "id": "9c50f77c",
   "metadata": {},
   "outputs": [
    {
     "data": {
      "text/plain": [
       "(27, 140)"
      ]
     },
     "execution_count": 8,
     "metadata": {},
     "output_type": "execute_result"
    }
   ],
   "source": [
    "def fun(a,b):\n",
    "    x=a+b\n",
    "    y=a*b\n",
    "    return(x,y)\n",
    "fun(20,7)"
   ]
  },
  {
   "cell_type": "markdown",
   "id": "68b8a4ca",
   "metadata": {},
   "source": [
    "### filter"
   ]
  },
  {
   "cell_type": "markdown",
   "id": "f1d39e7e",
   "metadata": {},
   "source": [
    "#### it is used to filter the iterable/sequence as per the conditions.\n",
    "filter function filters the original iterable and passes the items that returns true for the function provided to filter.\n",
    "it is normally used with lambda function to filter list,tuple or sets.\n",
    "filter() method takes two parameters:\n",
    "function-function tests if elements of an iterable returns true or false.\n",
    "iterable - sequence which needs to be filtered ,could be sets,lists ,tuples or any iterators\n",
    "filter(function,iterable) "
   ]
  },
  {
   "cell_type": "code",
   "execution_count": 2,
   "id": "44a6d501",
   "metadata": {},
   "outputs": [],
   "source": [
    "list1=[1,2,3,4,5,6,7,8]\n",
    "def odd(n):\n",
    "    if n%2==1:\n",
    "        return True\n",
    "    else:\n",
    "        return False"
   ]
  },
  {
   "cell_type": "code",
   "execution_count": 3,
   "id": "c6a9177e",
   "metadata": {},
   "outputs": [
    {
     "data": {
      "text/plain": [
       "<filter at 0x12c0552d2b0>"
      ]
     },
     "execution_count": 3,
     "metadata": {},
     "output_type": "execute_result"
    }
   ],
   "source": [
    "a=filter(odd,list1)\n",
    "a"
   ]
  },
  {
   "cell_type": "code",
   "execution_count": 4,
   "id": "403dd923",
   "metadata": {},
   "outputs": [
    {
     "name": "stdout",
     "output_type": "stream",
     "text": [
      "<filter object at 0x0000012C0552D2B0>\n"
     ]
    }
   ],
   "source": [
    "print(a)"
   ]
  },
  {
   "cell_type": "code",
   "execution_count": 5,
   "id": "8be41dff",
   "metadata": {},
   "outputs": [
    {
     "data": {
      "text/plain": [
       "[1, 3, 5, 7]"
      ]
     },
     "execution_count": 5,
     "metadata": {},
     "output_type": "execute_result"
    }
   ],
   "source": [
    "result=list(filter(odd,list1))\n",
    "result"
   ]
  },
  {
   "cell_type": "markdown",
   "id": "8c30b329",
   "metadata": {},
   "source": [
    "### map"
   ]
  },
  {
   "cell_type": "markdown",
   "id": "25086a5d",
   "metadata": {},
   "source": [
    "##### the map() function applies a given function to each item of an iterable (list,tuple) and returns a list to the results.\n",
    "map() function takes two parametes:\n",
    "function - the function to execute for each item of given iterable\n",
    "iterable - it is a iterable which is to be mapped.\n",
    "returns: returns a list of the results after applying the given function to each item of a given iterable(list,tuple)"
   ]
  },
  {
   "cell_type": "code",
   "execution_count": 6,
   "id": "cabce68e",
   "metadata": {},
   "outputs": [
    {
     "data": {
      "text/plain": [
       "[9, 25, 49, 81, 121]"
      ]
     },
     "execution_count": 6,
     "metadata": {},
     "output_type": "execute_result"
    }
   ],
   "source": [
    "list1=[3,5,7,9,11]\n",
    "def twice(n):\n",
    "    return n*n\n",
    "d=list(map(twice,list1))\n",
    "d"
   ]
  },
  {
   "cell_type": "code",
   "execution_count": 8,
   "id": "1a079821",
   "metadata": {},
   "outputs": [
    {
     "data": {
      "text/plain": [
       "[6, 10, 14, 18, 22]"
      ]
     },
     "execution_count": 8,
     "metadata": {},
     "output_type": "execute_result"
    }
   ],
   "source": [
    "list1=3,5,7,9,11\n",
    "def twice(n):\n",
    "    return n*2\n",
    "d=list(map(twice,list1))\n",
    "d"
   ]
  },
  {
   "cell_type": "code",
   "execution_count": 9,
   "id": "7741f66e",
   "metadata": {},
   "outputs": [
    {
     "data": {
      "text/plain": [
       "tuple"
      ]
     },
     "execution_count": 9,
     "metadata": {},
     "output_type": "execute_result"
    }
   ],
   "source": [
    "type(list1)"
   ]
  },
  {
   "cell_type": "code",
   "execution_count": 10,
   "id": "3e159e0f",
   "metadata": {},
   "outputs": [
    {
     "data": {
      "text/plain": [
       "list"
      ]
     },
     "execution_count": 10,
     "metadata": {},
     "output_type": "execute_result"
    }
   ],
   "source": [
    "type(d)"
   ]
  },
  {
   "cell_type": "markdown",
   "id": "4a18d3c9",
   "metadata": {},
   "source": [
    "### reduce"
   ]
  },
  {
   "cell_type": "code",
   "execution_count": 2,
   "id": "cd013f89",
   "metadata": {},
   "outputs": [
    {
     "data": {
      "text/plain": [
       "20"
      ]
     },
     "execution_count": 2,
     "metadata": {},
     "output_type": "execute_result"
    }
   ],
   "source": [
    "from functools import reduce\n",
    "list1=[2,5,6,7]\n",
    "def add(a,b):\n",
    "    return a+b\n",
    "\n",
    "s=reduce(add,list1)\n",
    "s"
   ]
  },
  {
   "cell_type": "code",
   "execution_count": null,
   "id": "980e116a",
   "metadata": {},
   "outputs": [],
   "source": []
  }
 ],
 "metadata": {
  "kernelspec": {
   "display_name": "Python 3 (ipykernel)",
   "language": "python",
   "name": "python3"
  },
  "language_info": {
   "codemirror_mode": {
    "name": "ipython",
    "version": 3
   },
   "file_extension": ".py",
   "mimetype": "text/x-python",
   "name": "python",
   "nbconvert_exporter": "python",
   "pygments_lexer": "ipython3",
   "version": "3.9.12"
  }
 },
 "nbformat": 4,
 "nbformat_minor": 5
}
