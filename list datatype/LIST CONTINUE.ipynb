{
 "cells": [
  {
   "cell_type": "markdown",
   "id": "bd984a9a",
   "metadata": {},
   "source": [
    "## reverse list"
   ]
  },
  {
   "cell_type": "code",
   "execution_count": 16,
   "id": "b06b374d",
   "metadata": {},
   "outputs": [
    {
     "data": {
      "text/plain": [
       "[1, 2, 3, 4, 5, 6, 7]"
      ]
     },
     "execution_count": 16,
     "metadata": {},
     "output_type": "execute_result"
    }
   ],
   "source": [
    "l1=[1,2,3,4,5,6,7]\n",
    "l1"
   ]
  },
  {
   "cell_type": "code",
   "execution_count": 17,
   "id": "cafc3bf7",
   "metadata": {},
   "outputs": [
    {
     "data": {
      "text/plain": [
       "[7, 6, 5, 4, 3, 2, 1]"
      ]
     },
     "execution_count": 17,
     "metadata": {},
     "output_type": "execute_result"
    }
   ],
   "source": [
    "l1.reverse()\n",
    "l1"
   ]
  },
  {
   "cell_type": "code",
   "execution_count": 18,
   "id": "2cab5c5c",
   "metadata": {},
   "outputs": [
    {
     "data": {
      "text/plain": [
       "[1, 2, 3, 4, 5, 6, 7]"
      ]
     },
     "execution_count": 18,
     "metadata": {},
     "output_type": "execute_result"
    }
   ],
   "source": [
    "l1=l1[::-1]\n",
    "l1"
   ]
  },
  {
   "cell_type": "markdown",
   "id": "b0728286",
   "metadata": {},
   "source": [
    "### count element of list"
   ]
  },
  {
   "cell_type": "code",
   "execution_count": 19,
   "id": "8983437f",
   "metadata": {},
   "outputs": [
    {
     "data": {
      "text/plain": [
       "1"
      ]
     },
     "execution_count": 19,
     "metadata": {},
     "output_type": "execute_result"
    }
   ],
   "source": [
    "l=[2,3,4,5,6,7]\n",
    "l.count(4)"
   ]
  },
  {
   "cell_type": "markdown",
   "id": "725aa47c",
   "metadata": {},
   "source": [
    "## repeating the element of list"
   ]
  },
  {
   "cell_type": "code",
   "execution_count": 20,
   "id": "ff7898e5",
   "metadata": {},
   "outputs": [
    {
     "data": {
      "text/plain": [
       "[2, 3, 4, 2, 3, 4]"
      ]
     },
     "execution_count": 20,
     "metadata": {},
     "output_type": "execute_result"
    }
   ],
   "source": [
    "l=[2,3,4]\n",
    "l*2"
   ]
  },
  {
   "cell_type": "markdown",
   "id": "05146b71",
   "metadata": {},
   "source": [
    "## sort a list"
   ]
  },
  {
   "cell_type": "code",
   "execution_count": 22,
   "id": "ba36d9e4",
   "metadata": {},
   "outputs": [
    {
     "data": {
      "text/plain": [
       "[10, 23, 36, 45, 56, 67, 78, 89]"
      ]
     },
     "execution_count": 22,
     "metadata": {},
     "output_type": "execute_result"
    }
   ],
   "source": [
    "l1=[10,36,56,78,89,23,45,67]\n",
    "l1.sort()\n",
    "l1"
   ]
  },
  {
   "cell_type": "markdown",
   "id": "6373d1a7",
   "metadata": {},
   "source": [
    "### sort in descending order"
   ]
  },
  {
   "cell_type": "code",
   "execution_count": 23,
   "id": "230266cd",
   "metadata": {},
   "outputs": [
    {
     "data": {
      "text/plain": [
       "[89, 78, 67, 56, 45, 36, 23, 10]"
      ]
     },
     "execution_count": 23,
     "metadata": {},
     "output_type": "execute_result"
    }
   ],
   "source": [
    "l1.sort(reverse=True)\n",
    "l1"
   ]
  },
  {
   "cell_type": "markdown",
   "id": "0cb1c207",
   "metadata": {},
   "source": [
    "### case insensitive sort"
   ]
  },
  {
   "cell_type": "code",
   "execution_count": 24,
   "id": "f4516f21",
   "metadata": {},
   "outputs": [
    {
     "data": {
      "text/plain": [
       "['Delhi', 'banglore', 'chennai', 'punjab', 'kokata', 'Mp']"
      ]
     },
     "execution_count": 24,
     "metadata": {},
     "output_type": "execute_result"
    }
   ],
   "source": [
    "l=[\"Delhi\",\"banglore\",\"chennai\",\"punjab\",'kokata',\"Mp\"]\n",
    "l"
   ]
  },
  {
   "cell_type": "code",
   "execution_count": 25,
   "id": "c9542aa9",
   "metadata": {},
   "outputs": [
    {
     "data": {
      "text/plain": [
       "['Delhi', 'Mp', 'banglore', 'chennai', 'kokata', 'punjab']"
      ]
     },
     "execution_count": 25,
     "metadata": {},
     "output_type": "execute_result"
    }
   ],
   "source": [
    "l.sort()#uppercase letters come first\n",
    "l"
   ]
  },
  {
   "cell_type": "code",
   "execution_count": 26,
   "id": "c1b36e81",
   "metadata": {},
   "outputs": [
    {
     "data": {
      "text/plain": [
       "['banglore', 'chennai', 'Delhi', 'kokata', 'Mp', 'punjab']"
      ]
     },
     "execution_count": 26,
     "metadata": {},
     "output_type": "execute_result"
    }
   ],
   "source": [
    "l=[\"Delhi\",\"banglore\",\"chennai\",\"punjab\",'kokata',\"Mp\"]## if we use lower but it not taking this case only sort acording to alphabet\n",
    "l.sort(key=str.lower)\n",
    "l"
   ]
  },
  {
   "cell_type": "code",
   "execution_count": 28,
   "id": "610078fc",
   "metadata": {},
   "outputs": [
    {
     "data": {
      "text/plain": [
       "['aany', 'aarthi', 'teena', 'tiya', 'tiya']"
      ]
     },
     "execution_count": 28,
     "metadata": {},
     "output_type": "execute_result"
    }
   ],
   "source": [
    "l1=[\"aarthi\",\"aany\",\"teena\",\"tiya\",\"tiya\"]\n",
    "l1.sort()\n",
    "l1"
   ]
  },
  {
   "cell_type": "code",
   "execution_count": 29,
   "id": "d93522b2",
   "metadata": {},
   "outputs": [
    {
     "data": {
      "text/plain": [
       "['aany', 'aarthi', 'teena', 'tiya', 'tiya']"
      ]
     },
     "execution_count": 29,
     "metadata": {},
     "output_type": "execute_result"
    }
   ],
   "source": [
    "l1.sort(key=str.lower)\n",
    "l1"
   ]
  },
  {
   "cell_type": "markdown",
   "id": "ec111cea",
   "metadata": {},
   "source": [
    "### return a new sorted list and doent change the original list"
   ]
  },
  {
   "cell_type": "code",
   "execution_count": 30,
   "id": "215a5d52",
   "metadata": {},
   "outputs": [
    {
     "data": {
      "text/plain": [
       "[4, 8, 45, 67, 90]"
      ]
     },
     "execution_count": 30,
     "metadata": {},
     "output_type": "execute_result"
    }
   ],
   "source": [
    "l2=[45,4,67,8,90]\n",
    "sorted(l2)"
   ]
  },
  {
   "cell_type": "code",
   "execution_count": 31,
   "id": "9ae5ea7b",
   "metadata": {},
   "outputs": [
    {
     "name": "stdout",
     "output_type": "stream",
     "text": [
      "[45, 4, 67, 8, 90]\n"
     ]
    }
   ],
   "source": [
    "print(l2)"
   ]
  },
  {
   "cell_type": "markdown",
   "id": "803f757f",
   "metadata": {},
   "source": [
    "### loop through a list"
   ]
  },
  {
   "cell_type": "code",
   "execution_count": 32,
   "id": "7a7aa506",
   "metadata": {},
   "outputs": [
    {
     "name": "stdout",
     "output_type": "stream",
     "text": [
      "23\n",
      "56\n",
      "78\n",
      "90\n",
      "11\n",
      "12\n"
     ]
    }
   ],
   "source": [
    "l=[23,56,78,90,11,12]\n",
    "for i in l:\n",
    "    print(i)"
   ]
  },
  {
   "cell_type": "markdown",
   "id": "7cdc3a5f",
   "metadata": {},
   "source": [
    "### loop through index number"
   ]
  },
  {
   "cell_type": "code",
   "execution_count": 39,
   "id": "49d1acc3",
   "metadata": {},
   "outputs": [
    {
     "name": "stdout",
     "output_type": "stream",
     "text": [
      "45\n",
      "56\n",
      "78\n",
      "89\n",
      "90\n",
      "11\n",
      "23\n"
     ]
    }
   ],
   "source": [
    "s=[45,56,78,89,90,11,23]#for loop\n",
    "for i in range(len(s)):\n",
    "    print(s[i])\n",
    "   "
   ]
  },
  {
   "cell_type": "code",
   "execution_count": 40,
   "id": "815bffe8",
   "metadata": {},
   "outputs": [
    {
     "data": {
      "text/plain": [
       "90"
      ]
     },
     "execution_count": 40,
     "metadata": {},
     "output_type": "execute_result"
    }
   ],
   "source": [
    "max(s)"
   ]
  },
  {
   "cell_type": "code",
   "execution_count": 41,
   "id": "7935a470",
   "metadata": {},
   "outputs": [
    {
     "data": {
      "text/plain": [
       "11"
      ]
     },
     "execution_count": 41,
     "metadata": {},
     "output_type": "execute_result"
    }
   ],
   "source": [
    "min(s)"
   ]
  },
  {
   "cell_type": "markdown",
   "id": "972d44d2",
   "metadata": {},
   "source": [
    "### while loop"
   ]
  },
  {
   "cell_type": "code",
   "execution_count": 1,
   "id": "7eb98644",
   "metadata": {},
   "outputs": [
    {
     "name": "stdout",
     "output_type": "stream",
     "text": [
      "34\n",
      "56\n",
      "78\n",
      "89\n",
      "90\n",
      "11\n"
     ]
    }
   ],
   "source": [
    "l=[34,56,78,89,90,11]\n",
    "i=0\n",
    "while i<len(l):\n",
    "    print(l[i])\n",
    "    i=i+1"
   ]
  },
  {
   "cell_type": "markdown",
   "id": "7e932010",
   "metadata": {},
   "source": [
    "### all/any"
   ]
  },
  {
   "cell_type": "code",
   "execution_count": 2,
   "id": "33fd2483",
   "metadata": {},
   "outputs": [
    {
     "data": {
      "text/plain": [
       "False"
      ]
     },
     "execution_count": 2,
     "metadata": {},
     "output_type": "execute_result"
    }
   ],
   "source": [
    "l=[1,2,3,\"radha\",False]\n",
    "all(l)"
   ]
  },
  {
   "cell_type": "code",
   "execution_count": 3,
   "id": "34c0403b",
   "metadata": {},
   "outputs": [
    {
     "data": {
      "text/plain": [
       "True"
      ]
     },
     "execution_count": 3,
     "metadata": {},
     "output_type": "execute_result"
    }
   ],
   "source": [
    "any(l)"
   ]
  },
  {
   "cell_type": "code",
   "execution_count": 4,
   "id": "d67e2dc5",
   "metadata": {},
   "outputs": [
    {
     "data": {
      "text/plain": [
       "True"
      ]
     },
     "execution_count": 4,
     "metadata": {},
     "output_type": "execute_result"
    }
   ],
   "source": [
    "l=[1,2,3,\"radha\"]\n",
    "all(l)"
   ]
  },
  {
   "cell_type": "markdown",
   "id": "a4f208e5",
   "metadata": {},
   "source": [
    "## list comprehension"
   ]
  },
  {
   "cell_type": "markdown",
   "id": "273b96a4",
   "metadata": {},
   "source": [
    "#### iterating through a string using a list comprehension"
   ]
  },
  {
   "cell_type": "code",
   "execution_count": 5,
   "id": "d12d1b4a",
   "metadata": {},
   "outputs": [
    {
     "data": {
      "text/plain": [
       "['w', 'e', 'l', 'c', 'o', 'm', 'e']"
      ]
     },
     "execution_count": 5,
     "metadata": {},
     "output_type": "execute_result"
    }
   ],
   "source": [
    "m=\"welcome\"\n",
    "my=[i for i in m]\n",
    "my"
   ]
  },
  {
   "cell_type": "code",
   "execution_count": 6,
   "id": "c9fc884f",
   "metadata": {},
   "outputs": [
    {
     "data": {
      "text/plain": [
       "str"
      ]
     },
     "execution_count": 6,
     "metadata": {},
     "output_type": "execute_result"
    }
   ],
   "source": [
    "type(m)"
   ]
  },
  {
   "cell_type": "code",
   "execution_count": 7,
   "id": "7d1093e4",
   "metadata": {},
   "outputs": [
    {
     "data": {
      "text/plain": [
       "list"
      ]
     },
     "execution_count": 7,
     "metadata": {},
     "output_type": "execute_result"
    }
   ],
   "source": [
    "type(my)"
   ]
  },
  {
   "cell_type": "markdown",
   "id": "20c53785",
   "metadata": {},
   "source": [
    "### display all even number btwn 0 to 50 using list comprehension"
   ]
  },
  {
   "cell_type": "code",
   "execution_count": 8,
   "id": "ab9516af",
   "metadata": {},
   "outputs": [
    {
     "data": {
      "text/plain": [
       "[0,\n",
       " 2,\n",
       " 4,\n",
       " 6,\n",
       " 8,\n",
       " 10,\n",
       " 12,\n",
       " 14,\n",
       " 16,\n",
       " 18,\n",
       " 20,\n",
       " 22,\n",
       " 24,\n",
       " 26,\n",
       " 28,\n",
       " 30,\n",
       " 32,\n",
       " 34,\n",
       " 36,\n",
       " 38,\n",
       " 40,\n",
       " 42,\n",
       " 44,\n",
       " 46,\n",
       " 48]"
      ]
     },
     "execution_count": 8,
     "metadata": {},
     "output_type": "execute_result"
    }
   ],
   "source": [
    "num=[i for i in range(50) if i%2==0]\n",
    "num"
   ]
  },
  {
   "cell_type": "code",
   "execution_count": null,
   "id": "77f40837",
   "metadata": {},
   "outputs": [],
   "source": []
  }
 ],
 "metadata": {
  "kernelspec": {
   "display_name": "Python 3 (ipykernel)",
   "language": "python",
   "name": "python3"
  },
  "language_info": {
   "codemirror_mode": {
    "name": "ipython",
    "version": 3
   },
   "file_extension": ".py",
   "mimetype": "text/x-python",
   "name": "python",
   "nbconvert_exporter": "python",
   "pygments_lexer": "ipython3",
   "version": "3.9.12"
  }
 },
 "nbformat": 4,
 "nbformat_minor": 5
}
