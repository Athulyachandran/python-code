{
 "cells": [
  {
   "cell_type": "code",
   "execution_count": 4,
   "id": "eea7c24f",
   "metadata": {},
   "outputs": [
    {
     "name": "stdout",
     "output_type": "stream",
     "text": [
      "enter the number1\n",
      "one\n"
     ]
    }
   ],
   "source": [
    "num=int(input(\"enter the number\"))\n",
    "if num==1:\n",
    "    print(\"one\")\n",
    "elif num==2:\n",
    "    print(\"two\")\n",
    "elif num==3:\n",
    "    print(\"three\")\n",
    "else:\n",
    "    print(\"not a value\")"
   ]
  },
  {
   "cell_type": "code",
   "execution_count": 5,
   "id": "9b9a0786",
   "metadata": {},
   "outputs": [
    {
     "name": "stdout",
     "output_type": "stream",
     "text": [
      "3-got a true expresion\n"
     ]
    }
   ],
   "source": [
    "var=100\n",
    "if var==200:\n",
    "    print(\"1-got a true expression value\")\n",
    "elif var==150:\n",
    "    print(\"2-got a true expresion value\")\n",
    "elif var==100:\n",
    "    print(\"3-got a true expresion\")\n",
    "else:\n",
    "    print(\"4-got a true expresion\")\n",
    "    print(\"good bye\")"
   ]
  },
  {
   "cell_type": "code",
   "execution_count": null,
   "id": "50d3e385",
   "metadata": {},
   "outputs": [],
   "source": []
  }
 ],
 "metadata": {
  "kernelspec": {
   "display_name": "Python 3 (ipykernel)",
   "language": "python",
   "name": "python3"
  },
  "language_info": {
   "codemirror_mode": {
    "name": "ipython",
    "version": 3
   },
   "file_extension": ".py",
   "mimetype": "text/x-python",
   "name": "python",
   "nbconvert_exporter": "python",
   "pygments_lexer": "ipython3",
   "version": "3.9.12"
  }
 },
 "nbformat": 4,
 "nbformat_minor": 5
}
