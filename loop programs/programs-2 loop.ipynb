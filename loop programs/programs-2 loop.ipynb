{
 "cells": [
  {
   "cell_type": "markdown",
   "id": "387519b6",
   "metadata": {},
   "source": [
    "### find factor of a number"
   ]
  },
  {
   "cell_type": "markdown",
   "id": "379a6991",
   "metadata": {},
   "source": [
    "#### using for loop"
   ]
  },
  {
   "cell_type": "code",
   "execution_count": 4,
   "id": "17e43913",
   "metadata": {},
   "outputs": [
    {
     "name": "stdout",
     "output_type": "stream",
     "text": [
      "enter number10\n",
      "1\n",
      "2\n",
      "5\n",
      "10\n"
     ]
    }
   ],
   "source": [
    "num=int(input(\"enter number\"))### factor of number,exactly divisible .no remainder\n",
    "for i in range(1,num+1):\n",
    "    if num%i==0:\n",
    "        print(i)"
   ]
  },
  {
   "cell_type": "markdown",
   "id": "bde1063a",
   "metadata": {},
   "source": [
    "#### using while loop"
   ]
  },
  {
   "cell_type": "code",
   "execution_count": null,
   "id": "47cc9220",
   "metadata": {},
   "outputs": [
    {
     "name": "stdout",
     "output_type": "stream",
     "text": [
      "enter number10\n",
      "1\n",
      "2\n"
     ]
    }
   ],
   "source": [
    "num=int(input(\"enter number\"))\n",
    "i=1\n",
    "while i<=num:\n",
    "    if num%i==0:\n",
    "        print(i)\n",
    "        i=i+1\n",
    "        "
   ]
  },
  {
   "cell_type": "markdown",
   "id": "41b41e7d",
   "metadata": {},
   "source": [
    "### check given string is palindrom or not"
   ]
  },
  {
   "cell_type": "code",
   "execution_count": 5,
   "id": "2c3770a0",
   "metadata": {},
   "outputs": [
    {
     "name": "stdout",
     "output_type": "stream",
     "text": [
      "enter stringmalayalam\n",
      "malayalam is a palindrom\n"
     ]
    }
   ],
   "source": [
    "string=input(\"enter string\")##palindrom is that we can write the same way reverse\n",
    "if string == string[::-1]:\n",
    "    print(string,\"is a palindrom\")\n",
    "else:\n",
    "    print(\"not palindrom\")"
   ]
  },
  {
   "cell_type": "markdown",
   "id": "c5c0c37d",
   "metadata": {},
   "source": [
    "### check the given number is palindrom or not"
   ]
  },
  {
   "cell_type": "code",
   "execution_count": 5,
   "id": "96644b2f",
   "metadata": {},
   "outputs": [
    {
     "name": "stdout",
     "output_type": "stream",
     "text": [
      "enter num121\n",
      "the number is palindrom\n"
     ]
    }
   ],
   "source": [
    "n=int(input(\"enter num\"))\n",
    "temp=n\n",
    "rev=0\n",
    "while n>0:\n",
    "    dig=n%10\n",
    "    rev=rev*10+dig\n",
    "    n=n//10\n",
    "if temp==rev:\n",
    "    print(\"the number is palindrom\")\n",
    "else:\n",
    "    print(\"the number is not palindrom\")\n",
    "    \n",
    "    \n"
   ]
  },
  {
   "cell_type": "markdown",
   "id": "7f63a24d",
   "metadata": {},
   "source": [
    "### program to print reverse of a number"
   ]
  },
  {
   "cell_type": "code",
   "execution_count": 7,
   "id": "b6c397d5",
   "metadata": {},
   "outputs": [
    {
     "name": "stdout",
     "output_type": "stream",
     "text": [
      "enter num32156\n",
      "the reverse of a number 65123\n"
     ]
    }
   ],
   "source": [
    "n=int(input(\"enter num\"))\n",
    "temp=n\n",
    "rev=0\n",
    "while n>0:\n",
    "    dig=n%10\n",
    "    rev=rev*10+dig\n",
    "    n=n//10\n",
    "print(\"the reverse of a number\",rev)"
   ]
  },
  {
   "cell_type": "markdown",
   "id": "e8cadd2f",
   "metadata": {},
   "source": [
    "### program to print sum of reverse of a number"
   ]
  },
  {
   "cell_type": "code",
   "execution_count": 9,
   "id": "0ad195c8",
   "metadata": {},
   "outputs": [
    {
     "name": "stdout",
     "output_type": "stream",
     "text": [
      "enter num456\n",
      "15\n"
     ]
    }
   ],
   "source": [
    "n=int(input(\"enter num\"))\n",
    "rev=0\n",
    "while n>0:\n",
    "    dig=n%10\n",
    "    \n",
    "    rev=rev+dig\n",
    "    \n",
    "    n=n//10\n",
    "print(rev)\n",
    "    "
   ]
  },
  {
   "cell_type": "code",
   "execution_count": 10,
   "id": "a97cd6fd",
   "metadata": {},
   "outputs": [
    {
     "name": "stdout",
     "output_type": "stream",
     "text": [
      "apple\n",
      "banana\n",
      "cherry\n"
     ]
    }
   ],
   "source": [
    "fruits=[\"apple\",\"banana\",\"cherry\"]\n",
    "for x in fruits:\n",
    "    print(x)"
   ]
  },
  {
   "cell_type": "code",
   "execution_count": 11,
   "id": "1ab6ac65",
   "metadata": {},
   "outputs": [
    {
     "name": "stdout",
     "output_type": "stream",
     "text": [
      "0\n",
      "1\n",
      "2\n",
      "3\n",
      "4\n",
      "5\n",
      "finally finished!\n"
     ]
    }
   ],
   "source": [
    "for x in range(6):\n",
    "    print(x)\n",
    "else:\n",
    "    print(\"finally finished!\")"
   ]
  },
  {
   "cell_type": "markdown",
   "id": "dd07b19e",
   "metadata": {},
   "source": [
    "### program to print number range in reverse(1 to 10 to 10 to 1)"
   ]
  },
  {
   "cell_type": "code",
   "execution_count": 1,
   "id": "24ee5e9f",
   "metadata": {},
   "outputs": [
    {
     "name": "stdout",
     "output_type": "stream",
     "text": [
      "num11\n",
      "11\n",
      "10\n",
      "9\n",
      "8\n",
      "7\n",
      "6\n",
      "5\n",
      "4\n",
      "3\n",
      "2\n",
      "1\n",
      "0\n"
     ]
    }
   ],
   "source": [
    "number=int(input(\"num\"))\n",
    "i=number\n",
    "while i>=0:\n",
    "    print(i)\n",
    "    i=i-1"
   ]
  },
  {
   "cell_type": "code",
   "execution_count": 2,
   "id": "a5262900",
   "metadata": {},
   "outputs": [
    {
     "name": "stdout",
     "output_type": "stream",
     "text": [
      "num10\n",
      "10\n",
      "9\n",
      "8\n",
      "7\n",
      "6\n",
      "5\n",
      "4\n",
      "3\n",
      "2\n",
      "1\n",
      "0\n"
     ]
    }
   ],
   "source": [
    "number=int(input(\"num\"))\n",
    "while number>=0:\n",
    "    print(number)\n",
    "    number=number-1"
   ]
  },
  {
   "cell_type": "code",
   "execution_count": 3,
   "id": "888420d0",
   "metadata": {},
   "outputs": [
    {
     "name": "stdout",
     "output_type": "stream",
     "text": [
      "0 is less than 5\n",
      "1 is less than 5\n",
      "2 is less than 5\n",
      "3 is less than 5\n",
      "4 is less than 5\n",
      "4 is not less than 5\n"
     ]
    }
   ],
   "source": [
    "for x in range(5):\n",
    "    print(x,\"is less than 5\")\n",
    "else:\n",
    "    print(x,\"is not less than 5\")"
   ]
  },
  {
   "cell_type": "markdown",
   "id": "3b7209c2",
   "metadata": {},
   "source": [
    "### check the given number is prime number or not"
   ]
  },
  {
   "cell_type": "code",
   "execution_count": 1,
   "id": "85acbb4f",
   "metadata": {},
   "outputs": [
    {
     "name": "stdout",
     "output_type": "stream",
     "text": [
      "enter number8\n",
      "8 is not prime number\n"
     ]
    }
   ],
   "source": [
    "num=int(input(\"enter number\"))\n",
    "for i in range(2,num):\n",
    "    if num%i==0:\n",
    "        print(num,\"is not prime number\")\n",
    "        break\n",
    "else:\n",
    "    print(num,\"prime number\")"
   ]
  },
  {
   "cell_type": "markdown",
   "id": "cb596139",
   "metadata": {},
   "source": [
    "### program to print prime number between 1 to 100"
   ]
  },
  {
   "cell_type": "code",
   "execution_count": 3,
   "id": "3c573ccc",
   "metadata": {},
   "outputs": [
    {
     "name": "stdout",
     "output_type": "stream",
     "text": [
      "2\n",
      "3\n",
      "5\n",
      "7\n",
      "11\n",
      "13\n",
      "17\n",
      "19\n",
      "23\n",
      "29\n",
      "31\n",
      "37\n",
      "41\n",
      "43\n",
      "47\n",
      "53\n",
      "59\n",
      "61\n",
      "67\n",
      "71\n",
      "73\n",
      "79\n",
      "83\n",
      "89\n",
      "97\n"
     ]
    }
   ],
   "source": [
    "\n",
    "for i in range(1,101):\n",
    "    if i>1:\n",
    "        for j in range(2,i):\n",
    "            if i%j==0:\n",
    "                break\n",
    "        else:\n",
    "            print(i)\n",
    "        \n",
    "       \n",
    "    \n",
    "    "
   ]
  },
  {
   "cell_type": "markdown",
   "id": "5d08f3fc",
   "metadata": {},
   "source": [
    "### cube up to given number"
   ]
  },
  {
   "cell_type": "code",
   "execution_count": 6,
   "id": "b0cd4f11",
   "metadata": {},
   "outputs": [
    {
     "name": "stdout",
     "output_type": "stream",
     "text": [
      "enter number10\n",
      "1\n",
      "8\n",
      "27\n",
      "64\n",
      "125\n",
      "216\n",
      "343\n",
      "512\n",
      "729\n",
      "1000\n"
     ]
    }
   ],
   "source": [
    "x=int(input(\"enter number\"))\n",
    "for i in range(1,x+1):\n",
    "    a=i**3\n",
    "    print(a)"
   ]
  },
  {
   "cell_type": "markdown",
   "id": "cd080b4e",
   "metadata": {},
   "source": [
    "### break"
   ]
  },
  {
   "cell_type": "code",
   "execution_count": null,
   "id": "c02b36d8",
   "metadata": {},
   "outputs": [],
   "source": [
    "### come out from particular loop"
   ]
  },
  {
   "cell_type": "code",
   "execution_count": 14,
   "id": "e0443ac1",
   "metadata": {},
   "outputs": [
    {
     "name": "stdout",
     "output_type": "stream",
     "text": [
      "0\n",
      "1\n",
      "2\n",
      "3\n",
      "4\n"
     ]
    }
   ],
   "source": [
    "for i in range(10):\n",
    "    if i==5:\n",
    "        break\n",
    "    else:\n",
    "        print(i)"
   ]
  },
  {
   "cell_type": "markdown",
   "id": "6f637e47",
   "metadata": {},
   "source": [
    "### continue"
   ]
  },
  {
   "cell_type": "code",
   "execution_count": null,
   "id": "bb257d71",
   "metadata": {},
   "outputs": [],
   "source": [
    "##it bring the program control to the begining of the loop,it skip the remaining  code inside"
   ]
  },
  {
   "cell_type": "code",
   "execution_count": 15,
   "id": "b0593df7",
   "metadata": {},
   "outputs": [
    {
     "name": "stdout",
     "output_type": "stream",
     "text": [
      "0\n",
      "1\n",
      "2\n",
      "3\n",
      "4\n",
      "6\n",
      "7\n",
      "8\n",
      "9\n"
     ]
    }
   ],
   "source": [
    "for i in range(10):\n",
    "    if i==5:\n",
    "        continue\n",
    "    else:\n",
    "        print(i)"
   ]
  },
  {
   "cell_type": "markdown",
   "id": "4c0153b9",
   "metadata": {},
   "source": [
    "### pass"
   ]
  },
  {
   "cell_type": "markdown",
   "id": "3ebabc22",
   "metadata": {},
   "source": [
    "##### not execute nothing\n"
   ]
  },
  {
   "cell_type": "code",
   "execution_count": 16,
   "id": "31d2fa55",
   "metadata": {},
   "outputs": [
    {
     "name": "stdout",
     "output_type": "stream",
     "text": [
      "0\n",
      "1\n",
      "2\n",
      "3\n",
      "4\n",
      "it is pass block\n",
      "5\n",
      "6\n",
      "7\n",
      "8\n",
      "9\n"
     ]
    }
   ],
   "source": [
    "for i in range(10):\n",
    "    if i==5:\n",
    "        pass\n",
    "        print(\"it is pass block\")\n",
    "    print(i)"
   ]
  },
  {
   "cell_type": "markdown",
   "id": "8e310800",
   "metadata": {},
   "source": [
    "### program to count the total number of digit in a number"
   ]
  },
  {
   "cell_type": "code",
   "execution_count": 1,
   "id": "0fc044aa",
   "metadata": {},
   "outputs": [
    {
     "name": "stdout",
     "output_type": "stream",
     "text": [
      "enter number123\n",
      "no.of digits in the given number 3\n"
     ]
    }
   ],
   "source": [
    "num=int(input(\"enter number\"))\n",
    "count=0\n",
    "while num>0:\n",
    "    count=count+1\n",
    "    num=num//10\n",
    "print(\"no.of digits in the given number\",count)"
   ]
  },
  {
   "cell_type": "markdown",
   "id": "0c7bbf02",
   "metadata": {},
   "source": [
    "### program to print fibanocci series"
   ]
  },
  {
   "cell_type": "code",
   "execution_count": 2,
   "id": "c0d94836",
   "metadata": {},
   "outputs": [
    {
     "name": "stdout",
     "output_type": "stream",
     "text": [
      "enter number10\n",
      "0\n",
      "1\n",
      "1\n",
      "2\n",
      "3\n",
      "5\n",
      "8\n"
     ]
    }
   ],
   "source": [
    "n=int(input(\"enter number\"))\n",
    "first=0\n",
    "second=1\n",
    "z=0\n",
    "while z<=n:\n",
    "    print(z)\n",
    "    first=second\n",
    "    second=z\n",
    "    z=first+second"
   ]
  },
  {
   "cell_type": "code",
   "execution_count": 1,
   "id": "ad5f16ca",
   "metadata": {},
   "outputs": [
    {
     "name": "stdout",
     "output_type": "stream",
     "text": [
      "enter number10\n",
      "0\n",
      "1\n",
      "1\n",
      "2\n",
      "3\n",
      "5\n",
      "8\n",
      "13\n",
      "21\n",
      "34\n",
      "55\n"
     ]
    }
   ],
   "source": [
    "t=int(input('enter number'))\n",
    "n1,n2=0,1\n",
    "count=0\n",
    "if t<=0:\n",
    "    print(\"please enter +ve value\")\n",
    "elif t==1:\n",
    "    print(n2)\n",
    "else:\n",
    "    while count<=t:\n",
    "        print(n1)\n",
    "        n=n1+n2\n",
    "        n1=n2\n",
    "        n2=n\n",
    "        count+=1"
   ]
  },
  {
   "cell_type": "markdown",
   "id": "5f48559f",
   "metadata": {},
   "source": [
    "### given number is amstrong number or not"
   ]
  },
  {
   "cell_type": "code",
   "execution_count": 5,
   "id": "13a83c56",
   "metadata": {},
   "outputs": [
    {
     "name": "stdout",
     "output_type": "stream",
     "text": [
      "enter number153\n",
      "153 amstrong number\n"
     ]
    }
   ],
   "source": [
    "n=int(input(\"enter number\"))\n",
    "x=len(str(n))\n",
    "temp=n\n",
    "sum=0\n",
    "while n>0:\n",
    "    r=n%10\n",
    "    sum=sum+r**x\n",
    "    n=n//10\n",
    "if temp==sum:\n",
    "    print(temp,\"amstrong number\")\n",
    "else:\n",
    "    print(temp,\"not an amstrong number\")"
   ]
  },
  {
   "cell_type": "markdown",
   "id": "a45fa6b2",
   "metadata": {},
   "source": [
    "### check the given number is strong or not"
   ]
  },
  {
   "cell_type": "code",
   "execution_count": 9,
   "id": "e5e0b8ff",
   "metadata": {},
   "outputs": [
    {
     "name": "stdout",
     "output_type": "stream",
     "text": [
      "enter number145\n",
      "145 is a strong number\n"
     ]
    }
   ],
   "source": [
    "n=int(input(\"enter number\"))\n",
    "strong=n\n",
    "sum=0\n",
    "while n>0:\n",
    "    r=n%10\n",
    "    f=1\n",
    "    for i in range(1,r+1):\n",
    "        f=f*i\n",
    "              \n",
    "    sum=sum+f\n",
    "    n=n//10\n",
    "if strong==sum:\n",
    "    print(strong,\"is a strong number\")\n",
    "else:\n",
    "    print(strong,'is not strong number')"
   ]
  },
  {
   "cell_type": "markdown",
   "id": "05553537",
   "metadata": {},
   "source": [
    "### check whether a given number is perfect number or not"
   ]
  },
  {
   "cell_type": "code",
   "execution_count": null,
   "id": "5599dc5b",
   "metadata": {},
   "outputs": [],
   "source": [
    "n=int(input(\"enter number\"))\n",
    "sum=0\n",
    "for i in range(1,int(n/2)+1):\n",
    "    if n%i==0:\n",
    "        sum=sum+i\n",
    "if n==sum:\n",
    "    print(n,\"is perfect number\")\n",
    "else:\n",
    "    print(n,\"is not a perfect number\")"
   ]
  },
  {
   "cell_type": "code",
   "execution_count": 3,
   "id": "a68ab323",
   "metadata": {},
   "outputs": [
    {
     "name": "stdout",
     "output_type": "stream",
     "text": [
      "enter number10\n",
      "10\n",
      "9\n",
      "8\n",
      "7\n",
      "6\n",
      "5\n",
      "4\n",
      "3\n",
      "2\n",
      "1\n"
     ]
    }
   ],
   "source": [
    "number=int(input(\"enter number\"))\n",
    "while number>0:\n",
    "    print(number)\n",
    "    number=number-1"
   ]
  },
  {
   "cell_type": "code",
   "execution_count": 5,
   "id": "d2e5f8b9",
   "metadata": {},
   "outputs": [
    {
     "name": "stdout",
     "output_type": "stream",
     "text": [
      "number2\n",
      "1\n",
      "8\n"
     ]
    }
   ],
   "source": [
    "n=int(input(\"number\"))\n",
    "for i in range(1,n+1):\n",
    "    a=i**3\n",
    "    print(a)\n"
   ]
  },
  {
   "cell_type": "code",
   "execution_count": 9,
   "id": "96b5ddc9",
   "metadata": {},
   "outputs": [
    {
     "name": "stdout",
     "output_type": "stream",
     "text": [
      "enter number10\n",
      "1\n",
      "2\n",
      "5\n",
      "10\n"
     ]
    }
   ],
   "source": [
    "n=int(input(\"enter number\"))\n",
    "for i in range(1,n+1):\n",
    "    if n%i==0:\n",
    "        print(i)"
   ]
  },
  {
   "cell_type": "code",
   "execution_count": null,
   "id": "7f3c9ab2",
   "metadata": {},
   "outputs": [],
   "source": []
  }
 ],
 "metadata": {
  "kernelspec": {
   "display_name": "Python 3 (ipykernel)",
   "language": "python",
   "name": "python3"
  },
  "language_info": {
   "codemirror_mode": {
    "name": "ipython",
    "version": 3
   },
   "file_extension": ".py",
   "mimetype": "text/x-python",
   "name": "python",
   "nbconvert_exporter": "python",
   "pygments_lexer": "ipython3",
   "version": "3.9.12"
  }
 },
 "nbformat": 4,
 "nbformat_minor": 5
}
