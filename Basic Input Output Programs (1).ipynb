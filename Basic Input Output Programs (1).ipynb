{
 "cells": [
  {
   "cell_type": "markdown",
   "id": "ac521c6a",
   "metadata": {},
   "source": [
    "#### 1. Write a program to print yourself introduction"
   ]
  },
  {
   "cell_type": "code",
   "execution_count": 1,
   "id": "412cf33a",
   "metadata": {},
   "outputs": [
    {
     "name": "stdout",
     "output_type": "stream",
     "text": [
      "Enter nameathulya chandran\n",
      "Enter age25\n",
      "Enter qualifiationb.tech\n",
      "Enter hobbiesreading,traveling\n",
      "My name is athulya chandran and am 25 years old  am a b.tech graduate reading,traveling are my hobbies\n"
     ]
    }
   ],
   "source": [
    "name=input(\"Enter name\")\n",
    "age=int(input(\"Enter age\"))\n",
    "education=input(\"Enter qualifiation\")\n",
    "hobi=input(\"Enter hobbies\")\n",
    "print(\"My name is\",name,\"and am\",age,\"years old\", \" am a\",education, \"graduate\",hobi, \"are my hobbies\")\n"
   ]
  },
  {
   "cell_type": "markdown",
   "id": "0dca5a6c",
   "metadata": {},
   "source": [
    "#### 2.Write a program to perform the following operations:\n",
    "- Addition\n",
    "- Subtraction\n",
    "- Multiplication\n",
    "- Division\n",
    "- Modulus\n",
    "- Exponent"
   ]
  },
  {
   "cell_type": "code",
   "execution_count": null,
   "id": "c4894078",
   "metadata": {},
   "outputs": [],
   "source": [
    "num1=int(input(\"Enter number\"))\n",
    "num2=int(input(\"Enter number\"))\n",
    "add=num1+num2\n",
    "diff=num1-num2\n",
    "mul=num1*num2\n",
    "div=num1/num2\n",
    "mod=num1%num2\n",
    "expo=num1**num2\n",
    "print(\"The sum of two number is\",add)\n",
    "print(\"The difference of two number is\",diff)\n",
    "print(\"The multiplication of two number is\",mul)\n",
    "print(\"The division of two number of two numbers is\",div)\n",
    "print(\"The modulus of two number is\",mod)\n",
    "print('The exponent of given number is',expo)"
   ]
  },
  {
   "cell_type": "markdown",
   "id": "93733493",
   "metadata": {},
   "source": [
    "#### 3.Swap two numbers "
   ]
  },
  {
   "cell_type": "code",
   "execution_count": 3,
   "id": "b1f7b5ca",
   "metadata": {},
   "outputs": [
    {
     "name": "stdout",
     "output_type": "stream",
     "text": [
      "5 10\n"
     ]
    }
   ],
   "source": [
    "num1=10\n",
    "num2=5\n",
    "temp=num1\n",
    "num1=num2\n",
    "num2=temp\n",
    "print(\"Numbers after swaping\",num1,num2)"
   ]
  },
  {
   "cell_type": "markdown",
   "id": "84c088c5",
   "metadata": {},
   "source": [
    "#### 4.Write a program to swap two numbers without using third parameter"
   ]
  },
  {
   "cell_type": "code",
   "execution_count": 4,
   "id": "8b4c1c1a",
   "metadata": {},
   "outputs": [
    {
     "name": "stdout",
     "output_type": "stream",
     "text": [
      "5 10\n"
     ]
    }
   ],
   "source": [
    "num1=10\n",
    "num2=5\n",
    "num1=num1+num2\n",
    "num2=num1-num2\n",
    "num1=num1-num2\n",
    "print(\"Numbers after swaping\",num1,num2)"
   ]
  },
  {
   "cell_type": "markdown",
   "id": "837da962",
   "metadata": {},
   "source": [
    "#### 5.Write a program to compute simple interest"
   ]
  },
  {
   "cell_type": "code",
   "execution_count": null,
   "id": "757ba189",
   "metadata": {},
   "outputs": [],
   "source": [
    "p=int(input(\"Enter number\"))\n",
    "r=int(input(\"Enter number\"))\n",
    "t=int(input(\"Enter number\"))\n",
    "si=(s*r*t)/100\n",
    "print(\"Simple interest is\",si)\n"
   ]
  },
  {
   "cell_type": "markdown",
   "id": "25a09372",
   "metadata": {},
   "source": [
    "#### 6.Write a program to find average of 5 numbers by user input"
   ]
  },
  {
   "cell_type": "code",
   "execution_count": null,
   "id": "41a20073",
   "metadata": {},
   "outputs": [],
   "source": [
    "num1=int(input(\"Enter number\"))\n",
    "num2=int(input(\"Enter number\"))\n",
    "num3=int(input(\"Enter number\"))\n",
    "num4=int(input(\"Enter number\"))\n",
    "num5=int(input(\"Enter number\"))\n",
    "sum=num1+num2+num3+num4+num5\n",
    "avg=sum/5\n",
    "print(\"Average of 5 numbers is\",avg)"
   ]
  },
  {
   "cell_type": "markdown",
   "id": "60c2b114",
   "metadata": {},
   "source": [
    "#### 7.Write a program to calculate the discriminant of quadratic equation."
   ]
  },
  {
   "cell_type": "code",
   "execution_count": null,
   "id": "b78e23d2",
   "metadata": {},
   "outputs": [],
   "source": [
    "b=int(input(\"Enter number\"))\n",
    "a=int(input(\"Enter number\"))\n",
    "c=int(input(\"Enter number\"))\n",
    "eq=(b**2)-(4*a*c)\n",
    "print(\"Discriminant of quadratic equation is\",eq)"
   ]
  },
  {
   "cell_type": "markdown",
   "id": "4d556cdb",
   "metadata": {},
   "source": [
    "#### 8.Write a program to calculate the area of following shapes:"
   ]
  },
  {
   "cell_type": "markdown",
   "id": "f5b07b60",
   "metadata": {},
   "source": [
    "- Rectangle\n",
    "- Square\n",
    "- Triangle\n",
    "- Circle"
   ]
  },
  {
   "cell_type": "markdown",
   "id": "d96984a7",
   "metadata": {},
   "source": [
    "#### a)Rectangle"
   ]
  },
  {
   "cell_type": "code",
   "execution_count": null,
   "id": "d90a6d8a",
   "metadata": {},
   "outputs": [],
   "source": [
    "length=int(input(\"Enter number\"))\n",
    "width=int(input(\"Enter number\"))\n",
    "area=length*width\n",
    "print(\"The area of rectangle is\",area)"
   ]
  },
  {
   "cell_type": "markdown",
   "id": "9e72e82e",
   "metadata": {},
   "source": [
    "#### b)Square"
   ]
  },
  {
   "cell_type": "code",
   "execution_count": null,
   "id": "34b0f7fc",
   "metadata": {},
   "outputs": [],
   "source": [
    "side=int(input(\"Enter number\"))\n",
    "area=side*side\n",
    "print(\"Area of sqaure is\",area)\n"
   ]
  },
  {
   "cell_type": "markdown",
   "id": "11021ef9",
   "metadata": {},
   "source": [
    "#### c)Triangle"
   ]
  },
  {
   "cell_type": "code",
   "execution_count": null,
   "id": "75c86604",
   "metadata": {},
   "outputs": [],
   "source": [
    "side1=int(input(\"Enter value\"))\n",
    "side2=int(input(\"Enter value\"))\n",
    "side3=int(input(\"Enter value\"))\n",
    "s=side1+side2+side3/2\n",
    "area=(s*(s-side1)*(s-side2)*(s-side3))**0.5\n",
    "print(\"Area of triangle is\",area)\n"
   ]
  },
  {
   "cell_type": "markdown",
   "id": "fb5acf8a",
   "metadata": {},
   "source": [
    "#### d) circle"
   ]
  },
  {
   "cell_type": "code",
   "execution_count": null,
   "id": "02eddda2",
   "metadata": {},
   "outputs": [],
   "source": [
    "radius=int(input(\"Enter value\"))\n",
    "area=3.14*radius*radius\n",
    "print(\"Area of circle is\",area)"
   ]
  },
  {
   "cell_type": "markdown",
   "id": "b616e2aa",
   "metadata": {},
   "source": [
    "#### 9.Write a program to calculate net salary  of an employee whose basic salary is entered by the user.DA is 5% of basic salary.HRA is 7% of basic salary and PF 3% of basic salary"
   ]
  },
  {
   "cell_type": "code",
   "execution_count": 1,
   "id": "b43b89e7",
   "metadata": {},
   "outputs": [
    {
     "name": "stdout",
     "output_type": "stream",
     "text": [
      "Enter basesalary10000\n",
      "The net salary of  employee is 10900.0\n"
     ]
    }
   ],
   "source": [
    "basesal=int(input(\"Enter basesalary\"))\n",
    "da=basesal*0.05\n",
    "hra=basesal*0.07\n",
    "pf=basesal*0.03\n",
    "netsal=(basesal+hra+da)-pf\n",
    "print(\"The net salary of  employee is\",netsal)"
   ]
  },
  {
   "cell_type": "markdown",
   "id": "d533c507",
   "metadata": {},
   "source": [
    "#### 10.Write a program to calculate power of a number"
   ]
  },
  {
   "cell_type": "code",
   "execution_count": 2,
   "id": "34e35460",
   "metadata": {},
   "outputs": [
    {
     "name": "stdout",
     "output_type": "stream",
     "text": [
      "Enter number3\n",
      "power of the number is 9\n"
     ]
    }
   ],
   "source": [
    "num=int(input(\"Enter number\"))\n",
    "power=num**2\n",
    "print(\"power of the number is\",power)"
   ]
  },
  {
   "cell_type": "markdown",
   "id": "f12d826d",
   "metadata": {},
   "source": [
    "#### 11.Write a program to calculate the python version you are using"
   ]
  },
  {
   "cell_type": "code",
   "execution_count": 3,
   "id": "11878864",
   "metadata": {},
   "outputs": [
    {
     "name": "stdout",
     "output_type": "stream",
     "text": [
      "The python version is 3.9.12\n"
     ]
    }
   ],
   "source": [
    "from platform import python_version\n",
    "print(\"The python version is\",python_version())"
   ]
  },
  {
   "cell_type": "code",
   "execution_count": null,
   "id": "305cdec7",
   "metadata": {},
   "outputs": [],
   "source": []
  }
 ],
 "metadata": {
  "kernelspec": {
   "display_name": "Python 3 (ipykernel)",
   "language": "python",
   "name": "python3"
  },
  "language_info": {
   "codemirror_mode": {
    "name": "ipython",
    "version": 3
   },
   "file_extension": ".py",
   "mimetype": "text/x-python",
   "name": "python",
   "nbconvert_exporter": "python",
   "pygments_lexer": "ipython3",
   "version": "3.9.12"
  }
 },
 "nbformat": 4,
 "nbformat_minor": 5
}
