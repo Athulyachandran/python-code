{
 "cells": [
  {
   "cell_type": "markdown",
   "id": "8b718556",
   "metadata": {},
   "source": [
    "# list"
   ]
  },
  {
   "cell_type": "code",
   "execution_count": 3,
   "id": "7ebd46ff",
   "metadata": {},
   "outputs": [
    {
     "data": {
      "text/plain": [
       "list"
      ]
     },
     "execution_count": 3,
     "metadata": {},
     "output_type": "execute_result"
    }
   ],
   "source": [
    "type(list)"
   ]
  },
  {
   "cell_type": "markdown",
   "id": "20a975fc",
   "metadata": {},
   "source": [
    "## print list"
   ]
  },
  {
   "cell_type": "code",
   "execution_count": 2,
   "id": "5f66e534",
   "metadata": {},
   "outputs": [
    {
     "name": "stdout",
     "output_type": "stream",
     "text": [
      "[1, 1, 'hello', 'world', 34]\n"
     ]
    }
   ],
   "source": [
    "list=[1,1,\"hello\",\"world\",34]\n",
    "print(list)"
   ]
  },
  {
   "cell_type": "markdown",
   "id": "011aad6c",
   "metadata": {},
   "source": [
    "## index of list"
   ]
  },
  {
   "cell_type": "code",
   "execution_count": 1,
   "id": "65c72b30",
   "metadata": {},
   "outputs": [
    {
     "name": "stdout",
     "output_type": "stream",
     "text": [
      "banana\n"
     ]
    }
   ],
   "source": [
    "fruit=[\"apple\",\"banana\",\"cherry\"]\n",
    "print(fruit[1])"
   ]
  },
  {
   "cell_type": "code",
   "execution_count": 1,
   "id": "5bff4b78",
   "metadata": {},
   "outputs": [
    {
     "name": "stdout",
     "output_type": "stream",
     "text": [
      "<class 'list'>\n"
     ]
    }
   ],
   "source": [
    "l=[12,\"shiv\",6.7,True,2+5j]#different type\n",
    "print(type(l))"
   ]
  },
  {
   "cell_type": "code",
   "execution_count": 3,
   "id": "787191c1",
   "metadata": {},
   "outputs": [
    {
     "name": "stdout",
     "output_type": "stream",
     "text": [
      "5\n"
     ]
    }
   ],
   "source": [
    "print(len(l))#length from list"
   ]
  },
  {
   "cell_type": "code",
   "execution_count": 4,
   "id": "ee5582fd",
   "metadata": {},
   "outputs": [
    {
     "name": "stdout",
     "output_type": "stream",
     "text": [
      "['shiv', 'divya', 'karna', 'leena']\n"
     ]
    }
   ],
   "source": [
    "name=[\"shiv\",\"divya\",\"karna\",\"leena\"]#same type data\n",
    "print(name)"
   ]
  },
  {
   "cell_type": "code",
   "execution_count": 3,
   "id": "afc92b20",
   "metadata": {},
   "outputs": [
    {
     "name": "stdout",
     "output_type": "stream",
     "text": [
      "['apple', 'orange', 'banana', 'cherry']\n"
     ]
    }
   ],
   "source": [
    "#insert\n",
    "fruit=[\"apple\",\"banana\",\"cherry\"]\n",
    "fruit.insert(1,\"orange\")\n",
    "print(fruit)"
   ]
  },
  {
   "cell_type": "code",
   "execution_count": 6,
   "id": "95877b00",
   "metadata": {},
   "outputs": [
    {
     "data": {
      "text/plain": [
       "[12, 'shiv', 6, 7, True]"
      ]
     },
     "execution_count": 6,
     "metadata": {},
     "output_type": "execute_result"
    }
   ],
   "source": [
    "ll=[12,\"shiv\",6,7,True]\n",
    "ll"
   ]
  },
  {
   "cell_type": "code",
   "execution_count": 11,
   "id": "035d0e31",
   "metadata": {},
   "outputs": [
    {
     "name": "stdout",
     "output_type": "stream",
     "text": [
      "['apple', 'banana']\n"
     ]
    }
   ],
   "source": [
    "fruit=[\"apple\",\"banana\",\"cherry\"]\n",
    "fruit.remove(\"cherry\")\n",
    "print(fruit)"
   ]
  },
  {
   "cell_type": "code",
   "execution_count": 12,
   "id": "7a208d91",
   "metadata": {},
   "outputs": [
    {
     "data": {
      "text/plain": [
       "'banana'"
      ]
     },
     "execution_count": 12,
     "metadata": {},
     "output_type": "execute_result"
    }
   ],
   "source": [
    "fruit.pop()"
   ]
  },
  {
   "cell_type": "code",
   "execution_count": 7,
   "id": "e52ea874",
   "metadata": {},
   "outputs": [
    {
     "data": {
      "text/plain": [
       "6"
      ]
     },
     "execution_count": 7,
     "metadata": {},
     "output_type": "execute_result"
    }
   ],
   "source": [
    "ll[2]"
   ]
  },
  {
   "cell_type": "code",
   "execution_count": 8,
   "id": "18177fbc",
   "metadata": {},
   "outputs": [
    {
     "data": {
      "text/plain": [
       "'shiv'"
      ]
     },
     "execution_count": 8,
     "metadata": {},
     "output_type": "execute_result"
    }
   ],
   "source": [
    "ll[1]"
   ]
  },
  {
   "cell_type": "code",
   "execution_count": 9,
   "id": "092f312d",
   "metadata": {},
   "outputs": [],
   "source": [
    "#create empty list\n",
    "list=[]"
   ]
  },
  {
   "cell_type": "code",
   "execution_count": 10,
   "id": "a20c17f0",
   "metadata": {},
   "outputs": [
    {
     "name": "stdout",
     "output_type": "stream",
     "text": [
      "<class 'list'>\n"
     ]
    }
   ],
   "source": [
    "print(type(list))"
   ]
  },
  {
   "cell_type": "markdown",
   "id": "715a2e2f",
   "metadata": {},
   "source": [
    "## creating list using constructor"
   ]
  },
  {
   "cell_type": "code",
   "execution_count": 1,
   "id": "4b8a1757",
   "metadata": {},
   "outputs": [],
   "source": [
    "list2=list(('divya',89,67.8,44))\n",
    "\n"
   ]
  },
  {
   "cell_type": "code",
   "execution_count": 2,
   "id": "80c31719",
   "metadata": {},
   "outputs": [
    {
     "data": {
      "text/plain": [
       "['divya', 89, 67.8, 44]"
      ]
     },
     "execution_count": 2,
     "metadata": {},
     "output_type": "execute_result"
    }
   ],
   "source": [
    "list2"
   ]
  },
  {
   "cell_type": "code",
   "execution_count": 3,
   "id": "1f3d5e43",
   "metadata": {},
   "outputs": [
    {
     "data": {
      "text/plain": [
       "[12, 56, 67]"
      ]
     },
     "execution_count": 3,
     "metadata": {},
     "output_type": "execute_result"
    }
   ],
   "source": [
    "b=[12,56,67]#list of integr\n",
    "b"
   ]
  },
  {
   "cell_type": "code",
   "execution_count": 4,
   "id": "dc1409db",
   "metadata": {},
   "outputs": [
    {
     "data": {
      "text/plain": [
       "[12.4, 45.6, 7.8]"
      ]
     },
     "execution_count": 4,
     "metadata": {},
     "output_type": "execute_result"
    }
   ],
   "source": [
    "b1=[12.4,45.6,7.8]#list of float\n",
    "b1"
   ]
  },
  {
   "cell_type": "markdown",
   "id": "71c3ee36",
   "metadata": {},
   "source": [
    "## nested list"
   ]
  },
  {
   "cell_type": "code",
   "execution_count": 5,
   "id": "b5c0bda1",
   "metadata": {},
   "outputs": [
    {
     "data": {
      "text/plain": [
       "['athu', 56, [3, 4, 5], [45, 56]]"
      ]
     },
     "execution_count": 5,
     "metadata": {},
     "output_type": "execute_result"
    }
   ],
   "source": [
    "k1=[\"athu\",56,[3,4,5],[45,56]]\n",
    "k1"
   ]
  },
  {
   "cell_type": "code",
   "execution_count": 6,
   "id": "5acbd27b",
   "metadata": {},
   "outputs": [
    {
     "data": {
      "text/plain": [
       "'athu'"
      ]
     },
     "execution_count": 6,
     "metadata": {},
     "output_type": "execute_result"
    }
   ],
   "source": [
    "k1[0]"
   ]
  },
  {
   "cell_type": "code",
   "execution_count": 7,
   "id": "2948976a",
   "metadata": {},
   "outputs": [
    {
     "data": {
      "text/plain": [
       "[3, 4, 5]"
      ]
     },
     "execution_count": 7,
     "metadata": {},
     "output_type": "execute_result"
    }
   ],
   "source": [
    "k1[2]"
   ]
  },
  {
   "cell_type": "code",
   "execution_count": 2,
   "id": "d0fd72fb",
   "metadata": {},
   "outputs": [
    {
     "data": {
      "text/plain": [
       "3"
      ]
     },
     "execution_count": 2,
     "metadata": {},
     "output_type": "execute_result"
    }
   ],
   "source": [
    "k1=[\"athu\",56,[3,4,5],[45,56]]\n",
    "k1[2][0]"
   ]
  },
  {
   "cell_type": "code",
   "execution_count": 9,
   "id": "f1c9a074",
   "metadata": {},
   "outputs": [
    {
     "data": {
      "text/plain": [
       "4"
      ]
     },
     "execution_count": 9,
     "metadata": {},
     "output_type": "execute_result"
    }
   ],
   "source": [
    "len(k1)"
   ]
  },
  {
   "cell_type": "markdown",
   "id": "70b19456",
   "metadata": {},
   "source": [
    "## list indexing"
   ]
  },
  {
   "cell_type": "code",
   "execution_count": 10,
   "id": "20c6e179",
   "metadata": {},
   "outputs": [
    {
     "data": {
      "text/plain": [
       "[45, 56]"
      ]
     },
     "execution_count": 10,
     "metadata": {},
     "output_type": "execute_result"
    }
   ],
   "source": [
    "#retrive last element of the list\n",
    "k1[-1]"
   ]
  },
  {
   "cell_type": "markdown",
   "id": "8c91c467",
   "metadata": {},
   "source": [
    "k1[0][2]#acess first charecter from first list"
   ]
  },
  {
   "cell_type": "markdown",
   "id": "c9c7bab8",
   "metadata": {},
   "source": [
    "## list slicing"
   ]
  },
  {
   "cell_type": "code",
   "execution_count": 13,
   "id": "6a3ec129",
   "metadata": {},
   "outputs": [
    {
     "data": {
      "text/plain": [
       "['divya', 56, [6, 7, 7], [78, 90]]"
      ]
     },
     "execution_count": 13,
     "metadata": {},
     "output_type": "execute_result"
    }
   ],
   "source": [
    "# return all item from 0 to 4 position\n",
    "k=['divya',56,[6,7,7],[78,90]]\n",
    "k"
   ]
  },
  {
   "cell_type": "code",
   "execution_count": 14,
   "id": "6e768082",
   "metadata": {},
   "outputs": [
    {
     "data": {
      "text/plain": [
       "['divya', 56, [6, 7, 7]]"
      ]
     },
     "execution_count": 14,
     "metadata": {},
     "output_type": "execute_result"
    }
   ],
   "source": [
    "k[0:3]"
   ]
  },
  {
   "cell_type": "markdown",
   "id": "588e0c5a",
   "metadata": {},
   "source": [
    "## return whole list"
   ]
  },
  {
   "cell_type": "code",
   "execution_count": 19,
   "id": "eeddbde1",
   "metadata": {},
   "outputs": [
    {
     "data": {
      "text/plain": [
       "['divya', 56, [6, 7, 7], [78, 90]]"
      ]
     },
     "execution_count": 19,
     "metadata": {},
     "output_type": "execute_result"
    }
   ],
   "source": [
    "#return whole list\n",
    "k[:]"
   ]
  },
  {
   "cell_type": "code",
   "execution_count": 16,
   "id": "a145b200",
   "metadata": {},
   "outputs": [
    {
     "data": {
      "text/plain": [
       "['divya', 56, [6, 7, 7]]"
      ]
     },
     "execution_count": 16,
     "metadata": {},
     "output_type": "execute_result"
    }
   ],
   "source": [
    "k[0:3]"
   ]
  },
  {
   "cell_type": "code",
   "execution_count": 17,
   "id": "15bb06da",
   "metadata": {},
   "outputs": [
    {
     "data": {
      "text/plain": [
       "['divya']"
      ]
     },
     "execution_count": 17,
     "metadata": {},
     "output_type": "execute_result"
    }
   ],
   "source": [
    "k[:1]"
   ]
  },
  {
   "cell_type": "code",
   "execution_count": 18,
   "id": "76c7873b",
   "metadata": {},
   "outputs": [
    {
     "data": {
      "text/plain": [
       "[[6, 7, 7], [78, 90]]"
      ]
     },
     "execution_count": 18,
     "metadata": {},
     "output_type": "execute_result"
    }
   ],
   "source": [
    "k[-2:]"
   ]
  },
  {
   "cell_type": "markdown",
   "id": "35b2d1ce",
   "metadata": {},
   "source": [
    "## add item"
   ]
  },
  {
   "cell_type": "code",
   "execution_count": 20,
   "id": "ea00c7de",
   "metadata": {},
   "outputs": [
    {
     "data": {
      "text/plain": [
       "[12, 23, 44, 78, 90]"
      ]
     },
     "execution_count": 20,
     "metadata": {},
     "output_type": "execute_result"
    }
   ],
   "source": [
    "l=[12,23,44,78,90]\n",
    "l"
   ]
  },
  {
   "cell_type": "code",
   "execution_count": 21,
   "id": "c1da261d",
   "metadata": {},
   "outputs": [
    {
     "data": {
      "text/plain": [
       "[12, 23, 44, 78, 90, 10]"
      ]
     },
     "execution_count": 21,
     "metadata": {},
     "output_type": "execute_result"
    }
   ],
   "source": [
    "l.append(10)#append function append the item in the last position\n",
    "l"
   ]
  },
  {
   "cell_type": "markdown",
   "id": "53b57fe8",
   "metadata": {},
   "source": [
    "### add item in the end of list"
   ]
  },
  {
   "cell_type": "code",
   "execution_count": 23,
   "id": "fc8e89fc",
   "metadata": {},
   "outputs": [
    {
     "data": {
      "text/plain": [
       "[63, 12, 23, 44, 78, 90, 10, 11]"
      ]
     },
     "execution_count": 23,
     "metadata": {},
     "output_type": "execute_result"
    }
   ],
   "source": [
    "l.insert(0,63)## adding item in the index position\n",
    "l"
   ]
  },
  {
   "cell_type": "code",
   "execution_count": null,
   "id": "9f5d8a8b",
   "metadata": {},
   "outputs": [],
   "source": []
  },
  {
   "cell_type": "code",
   "execution_count": 22,
   "id": "acd55ad2",
   "metadata": {},
   "outputs": [
    {
     "data": {
      "text/plain": [
       "[12, 23, 44, 78, 90, 10, 11]"
      ]
     },
     "execution_count": 22,
     "metadata": {},
     "output_type": "execute_result"
    }
   ],
   "source": [
    "l.append(11)\n",
    "l"
   ]
  },
  {
   "cell_type": "markdown",
   "id": "fe60dae7",
   "metadata": {},
   "source": [
    "### adding item using extend function"
   ]
  },
  {
   "cell_type": "code",
   "execution_count": 4,
   "id": "e49a6101",
   "metadata": {},
   "outputs": [
    {
     "name": "stdout",
     "output_type": "stream",
     "text": [
      "[34, 56, 67, 101, 340, 34]\n"
     ]
    }
   ],
   "source": [
    "l=[101,340,34]\n",
    "t=[34,56,67]\n",
    "t.extend(l)\n",
    "print(t)"
   ]
  },
  {
   "cell_type": "code",
   "execution_count": 5,
   "id": "c91325c8",
   "metadata": {},
   "outputs": [
    {
     "data": {
      "text/plain": [
       "['divya', 56, [6, 8], [78, 90]]"
      ]
     },
     "execution_count": 5,
     "metadata": {},
     "output_type": "execute_result"
    }
   ],
   "source": [
    "l5=[\"divya\",56,[6,8],[78,90]]\n",
    "l5"
   ]
  },
  {
   "cell_type": "code",
   "execution_count": 6,
   "id": "132fbb96",
   "metadata": {},
   "outputs": [
    {
     "data": {
      "text/plain": [
       "['divya', 56, [6, 8], [78, 90], 66]"
      ]
     },
     "execution_count": 6,
     "metadata": {},
     "output_type": "execute_result"
    }
   ],
   "source": [
    "l5.append(66)\n",
    "l5"
   ]
  },
  {
   "cell_type": "code",
   "execution_count": 7,
   "id": "b23d065f",
   "metadata": {},
   "outputs": [
    {
     "data": {
      "text/plain": [
       "['divya', 56, [6, 8], [78, 90], 66, 88]"
      ]
     },
     "execution_count": 7,
     "metadata": {},
     "output_type": "execute_result"
    }
   ],
   "source": [
    "l5.append(88)\n",
    "l5"
   ]
  },
  {
   "cell_type": "code",
   "execution_count": 8,
   "id": "bde82d01",
   "metadata": {},
   "outputs": [
    {
     "data": {
      "text/plain": [
       "['divya', 56, [6, 8], [78, 90], 66, 88, 80]"
      ]
     },
     "execution_count": 8,
     "metadata": {},
     "output_type": "execute_result"
    }
   ],
   "source": [
    "l5.append(80)\n",
    "l5"
   ]
  },
  {
   "cell_type": "markdown",
   "id": "48883853",
   "metadata": {},
   "source": [
    "## remove item"
   ]
  },
  {
   "cell_type": "code",
   "execution_count": 9,
   "id": "f9315c2f",
   "metadata": {},
   "outputs": [
    {
     "data": {
      "text/plain": [
       "[56, 78, 68]"
      ]
     },
     "execution_count": 9,
     "metadata": {},
     "output_type": "execute_result"
    }
   ],
   "source": [
    "l=[67,56,78,68]#removing the mentioned element\n",
    "l.remove(67)\n",
    "l"
   ]
  },
  {
   "cell_type": "code",
   "execution_count": 10,
   "id": "719e6946",
   "metadata": {},
   "outputs": [
    {
     "ename": "ValueError",
     "evalue": "list.remove(x): x not in list",
     "output_type": "error",
     "traceback": [
      "\u001b[1;31m---------------------------------------------------------------------------\u001b[0m",
      "\u001b[1;31mValueError\u001b[0m                                Traceback (most recent call last)",
      "Input \u001b[1;32mIn [10]\u001b[0m, in \u001b[0;36m<cell line: 1>\u001b[1;34m()\u001b[0m\n\u001b[1;32m----> 1\u001b[0m \u001b[43ml\u001b[49m\u001b[38;5;241;43m.\u001b[39;49m\u001b[43mremove\u001b[49m\u001b[43m(\u001b[49m\u001b[38;5;241;43m69\u001b[39;49m\u001b[43m)\u001b[49m\n\u001b[0;32m      2\u001b[0m l\n",
      "\u001b[1;31mValueError\u001b[0m: list.remove(x): x not in list"
     ]
    }
   ],
   "source": [
    "l.remove(69)#the value mentioned here is not in the list so value error\n",
    "l"
   ]
  },
  {
   "cell_type": "markdown",
   "id": "8a1aa0b0",
   "metadata": {},
   "source": [
    "## remove last element in list"
   ]
  },
  {
   "cell_type": "code",
   "execution_count": 11,
   "id": "4e394f55",
   "metadata": {},
   "outputs": [
    {
     "data": {
      "text/plain": [
       "68"
      ]
     },
     "execution_count": 11,
     "metadata": {},
     "output_type": "execute_result"
    }
   ],
   "source": [
    "l.pop()#pop pop the last elememt"
   ]
  },
  {
   "cell_type": "code",
   "execution_count": 5,
   "id": "e40bd1b6",
   "metadata": {},
   "outputs": [
    {
     "data": {
      "text/plain": [
       "56"
      ]
     },
     "execution_count": 5,
     "metadata": {},
     "output_type": "execute_result"
    }
   ],
   "source": [
    "l=[67,56,78,68]#if index mention that value will pop\n",
    "l.pop(1)\n"
   ]
  },
  {
   "cell_type": "code",
   "execution_count": 6,
   "id": "464b52a6",
   "metadata": {},
   "outputs": [
    {
     "data": {
      "text/plain": [
       "68"
      ]
     },
     "execution_count": 6,
     "metadata": {},
     "output_type": "execute_result"
    }
   ],
   "source": [
    "l.pop(-1)"
   ]
  },
  {
   "cell_type": "code",
   "execution_count": 14,
   "id": "36fdd702",
   "metadata": {},
   "outputs": [
    {
     "data": {
      "text/plain": [
       "78"
      ]
     },
     "execution_count": 14,
     "metadata": {},
     "output_type": "execute_result"
    }
   ],
   "source": [
    "l=[67,56,78,68]\n",
    "l.pop(-2)"
   ]
  },
  {
   "cell_type": "markdown",
   "id": "be6b6e6a",
   "metadata": {},
   "source": [
    "## remove item at index location using del"
   ]
  },
  {
   "cell_type": "code",
   "execution_count": 11,
   "id": "d7c848be",
   "metadata": {},
   "outputs": [
    {
     "data": {
      "text/plain": [
       "[45, 77, 0.6, 'divan']"
      ]
     },
     "execution_count": 11,
     "metadata": {},
     "output_type": "execute_result"
    }
   ],
   "source": [
    "a=[\"10\",\"10.4\",\"shiva\",\"3\"]\n",
    "l"
   ]
  },
  {
   "cell_type": "code",
   "execution_count": 12,
   "id": "405b2bbc",
   "metadata": {
    "scrolled": true
   },
   "outputs": [
    {
     "data": {
      "text/plain": [
       "[45, 0.6, 'divan']"
      ]
     },
     "execution_count": 12,
     "metadata": {},
     "output_type": "execute_result"
    }
   ],
   "source": [
    "del l[1]\n",
    "l"
   ]
  },
  {
   "cell_type": "markdown",
   "id": "f60127e9",
   "metadata": {},
   "source": [
    "## update list"
   ]
  },
  {
   "cell_type": "code",
   "execution_count": 15,
   "id": "d045d448",
   "metadata": {},
   "outputs": [
    {
     "data": {
      "text/plain": [
       "[89, 45, 77, 89]"
      ]
     },
     "execution_count": 15,
     "metadata": {},
     "output_type": "execute_result"
    }
   ],
   "source": [
    "l=[23,45,67,89]\n",
    "l[0]=89\n",
    "l[2]=77\n",
    "l"
   ]
  },
  {
   "cell_type": "markdown",
   "id": "bef4b8e4",
   "metadata": {},
   "source": [
    "## change a range of item values"
   ]
  },
  {
   "cell_type": "code",
   "execution_count": 16,
   "id": "33f30cad",
   "metadata": {},
   "outputs": [
    {
     "data": {
      "text/plain": [
       "['delhi', 'bombay', 'bihar', 'punjab', 'kolkata', 'mp']"
      ]
     },
     "execution_count": 16,
     "metadata": {},
     "output_type": "execute_result"
    }
   ],
   "source": [
    "l=[\"delhi\",\"banglore\",\"chennai\",\"punjab\",\"kolkata\",\"mp\"]\n",
    "l[1:3]=[\"bombay\",\"bihar\"]\n",
    "l"
   ]
  },
  {
   "cell_type": "code",
   "execution_count": 17,
   "id": "7e6e42b5",
   "metadata": {},
   "outputs": [
    {
     "data": {
      "text/plain": [
       "['delhi', 'bombay', 'bihar', 'chennai']"
      ]
     },
     "execution_count": 17,
     "metadata": {},
     "output_type": "execute_result"
    }
   ],
   "source": [
    "l=[\"delhi\",\"banglore\",\"chennai\"]\n",
    "l[1:2]=[\"bombay\",\"bihar\"]\n",
    "l"
   ]
  },
  {
   "cell_type": "markdown",
   "id": "c99da6b9",
   "metadata": {},
   "source": [
    "## clear item of a list"
   ]
  },
  {
   "cell_type": "code",
   "execution_count": 1,
   "id": "2efa908a",
   "metadata": {},
   "outputs": [
    {
     "data": {
      "text/plain": [
       "[45, 56, 78, 90]"
      ]
     },
     "execution_count": 1,
     "metadata": {},
     "output_type": "execute_result"
    }
   ],
   "source": [
    "l=[45,56,78,90]#for clear all item\n",
    "l"
   ]
  },
  {
   "cell_type": "code",
   "execution_count": 2,
   "id": "eb80bd65",
   "metadata": {},
   "outputs": [
    {
     "data": {
      "text/plain": [
       "[]"
      ]
     },
     "execution_count": 2,
     "metadata": {},
     "output_type": "execute_result"
    }
   ],
   "source": [
    "l.clear()\n",
    "l"
   ]
  },
  {
   "cell_type": "code",
   "execution_count": 4,
   "id": "695952ec",
   "metadata": {},
   "outputs": [
    {
     "ename": "TypeError",
     "evalue": "list.clear() takes no arguments (1 given)",
     "output_type": "error",
     "traceback": [
      "\u001b[1;31m---------------------------------------------------------------------------\u001b[0m",
      "\u001b[1;31mTypeError\u001b[0m                                 Traceback (most recent call last)",
      "Input \u001b[1;32mIn [4]\u001b[0m, in \u001b[0;36m<cell line: 1>\u001b[1;34m()\u001b[0m\n\u001b[1;32m----> 1\u001b[0m \u001b[43ml\u001b[49m\u001b[38;5;241;43m.\u001b[39;49m\u001b[43mclear\u001b[49m\u001b[43m(\u001b[49m\u001b[38;5;241;43m45\u001b[39;49m\u001b[43m)\u001b[49m\n\u001b[0;32m      2\u001b[0m l\n",
      "\u001b[1;31mTypeError\u001b[0m: list.clear() takes no arguments (1 given)"
     ]
    }
   ],
   "source": [
    "l.clear(45)#particular item cant clear only enteir list will clear\n",
    "l"
   ]
  },
  {
   "cell_type": "markdown",
   "id": "90dfbeba",
   "metadata": {},
   "source": [
    "## compare list"
   ]
  },
  {
   "cell_type": "code",
   "execution_count": 5,
   "id": "2518dd0d",
   "metadata": {},
   "outputs": [
    {
     "data": {
      "text/plain": [
       "False"
      ]
     },
     "execution_count": 5,
     "metadata": {},
     "output_type": "execute_result"
    }
   ],
   "source": [
    "l=[45,\"athulya\",77,.6,\"div\"]#comparing 2 list diferent position so false\n",
    "l1=[45,\"div\",77,.6,\"athulya\"]\n",
    "l==l1"
   ]
  },
  {
   "cell_type": "code",
   "execution_count": 6,
   "id": "f5e018c6",
   "metadata": {},
   "outputs": [
    {
     "data": {
      "text/plain": [
       "True"
      ]
     },
     "execution_count": 6,
     "metadata": {},
     "output_type": "execute_result"
    }
   ],
   "source": [
    "l=[45,\"div\",77,.6,\"divan\"]## eual list compare\n",
    "l1=[45,\"div\",77,.6,\"divan\"]\n",
    "l==l1"
   ]
  },
  {
   "cell_type": "code",
   "execution_count": 7,
   "id": "ef24f53c",
   "metadata": {},
   "outputs": [
    {
     "data": {
      "text/plain": [
       "False"
      ]
     },
     "execution_count": 7,
     "metadata": {},
     "output_type": "execute_result"
    }
   ],
   "source": [
    "l=[45,\"Div\",77,.6,\"divan\"]## change in upper lower case so false\n",
    "l1=[45,\"div\",77,.6,\"divan\"]\n",
    "l==l1"
   ]
  },
  {
   "cell_type": "markdown",
   "id": "054a7f77",
   "metadata": {},
   "source": [
    "## convert any sequence to list"
   ]
  },
  {
   "cell_type": "code",
   "execution_count": 8,
   "id": "b9efee6c",
   "metadata": {},
   "outputs": [
    {
     "data": {
      "text/plain": [
       "['h', 'e', 'l', 'l', 'o', ' ', 'l', 'e', 't', 's']"
      ]
     },
     "execution_count": 8,
     "metadata": {},
     "output_type": "execute_result"
    }
   ],
   "source": [
    "s=\"hello lets\"#converting string to list\n",
    "l2=list(s)\n",
    "l2"
   ]
  },
  {
   "cell_type": "code",
   "execution_count": 9,
   "id": "4b949556",
   "metadata": {},
   "outputs": [
    {
     "data": {
      "text/plain": [
       "list"
      ]
     },
     "execution_count": 9,
     "metadata": {},
     "output_type": "execute_result"
    }
   ],
   "source": [
    "type(l2)"
   ]
  },
  {
   "cell_type": "code",
   "execution_count": 13,
   "id": "b95e55d4",
   "metadata": {},
   "outputs": [
    {
     "data": {
      "text/plain": [
       "\"hello let's\""
      ]
     },
     "execution_count": 13,
     "metadata": {},
     "output_type": "execute_result"
    }
   ],
   "source": [
    "s1=\"hello let's\"\n",
    "s1"
   ]
  },
  {
   "cell_type": "code",
   "execution_count": 14,
   "id": "191df031",
   "metadata": {},
   "outputs": [
    {
     "name": "stdout",
     "output_type": "stream",
     "text": [
      "hello let's\n"
     ]
    }
   ],
   "source": [
    "print(s1)"
   ]
  },
  {
   "cell_type": "code",
   "execution_count": 16,
   "id": "47fd4c89",
   "metadata": {},
   "outputs": [
    {
     "data": {
      "text/plain": [
       "['h', 'e', 'l', 'l', 'o', ' ', 'l', 'e', 't', \"'\", 's']"
      ]
     },
     "execution_count": 16,
     "metadata": {},
     "output_type": "execute_result"
    }
   ],
   "source": [
    "s2=list(s1)\n",
    "s2"
   ]
  },
  {
   "cell_type": "markdown",
   "id": "8a658e48",
   "metadata": {},
   "source": [
    "## copy list"
   ]
  },
  {
   "cell_type": "code",
   "execution_count": 17,
   "id": "3bbb2e08",
   "metadata": {},
   "outputs": [
    {
     "data": {
      "text/plain": [
       "[45, 'athu', 49, 'shiv', 33]"
      ]
     },
     "execution_count": 17,
     "metadata": {},
     "output_type": "execute_result"
    }
   ],
   "source": [
    "l1=[45,\"athu\",49,\"shiv\",33]\n",
    "l1"
   ]
  },
  {
   "cell_type": "code",
   "execution_count": 20,
   "id": "fcda2679",
   "metadata": {},
   "outputs": [],
   "source": [
    "l2=l1"
   ]
  },
  {
   "cell_type": "code",
   "execution_count": 21,
   "id": "7474f1d4",
   "metadata": {},
   "outputs": [
    {
     "data": {
      "text/plain": [
       "2118401291904"
      ]
     },
     "execution_count": 21,
     "metadata": {},
     "output_type": "execute_result"
    }
   ],
   "source": [
    "id(l2)"
   ]
  },
  {
   "cell_type": "code",
   "execution_count": 22,
   "id": "be3507ef",
   "metadata": {},
   "outputs": [
    {
     "data": {
      "text/plain": [
       "2118401291904"
      ]
     },
     "execution_count": 22,
     "metadata": {},
     "output_type": "execute_result"
    }
   ],
   "source": [
    "id(l1)"
   ]
  },
  {
   "cell_type": "code",
   "execution_count": 23,
   "id": "d735c3c1",
   "metadata": {},
   "outputs": [
    {
     "data": {
      "text/plain": [
       "[67, 'athu', 60, 'rohit']"
      ]
     },
     "execution_count": 23,
     "metadata": {},
     "output_type": "execute_result"
    }
   ],
   "source": [
    "l1=[67,\"athu\",60,\"rohit\"]\n",
    "l1"
   ]
  },
  {
   "cell_type": "code",
   "execution_count": 25,
   "id": "4d97d3c8",
   "metadata": {},
   "outputs": [
    {
     "data": {
      "text/plain": [
       "[67, 'athu', 60, 'rohit']"
      ]
     },
     "execution_count": 25,
     "metadata": {},
     "output_type": "execute_result"
    }
   ],
   "source": [
    "l3=l1.copy()\n",
    "l3"
   ]
  },
  {
   "cell_type": "code",
   "execution_count": 26,
   "id": "8407e4dc",
   "metadata": {},
   "outputs": [
    {
     "data": {
      "text/plain": [
       "2118400267968"
      ]
     },
     "execution_count": 26,
     "metadata": {},
     "output_type": "execute_result"
    }
   ],
   "source": [
    "id(l1)"
   ]
  },
  {
   "cell_type": "code",
   "execution_count": 27,
   "id": "e9e332a4",
   "metadata": {},
   "outputs": [
    {
     "data": {
      "text/plain": [
       "2118401297920"
      ]
     },
     "execution_count": 27,
     "metadata": {},
     "output_type": "execute_result"
    }
   ],
   "source": [
    "id(l3)"
   ]
  },
  {
   "cell_type": "code",
   "execution_count": 28,
   "id": "94c3559d",
   "metadata": {},
   "outputs": [],
   "source": [
    "l1[0]=96\n"
   ]
  },
  {
   "cell_type": "code",
   "execution_count": 29,
   "id": "18c3c85b",
   "metadata": {},
   "outputs": [
    {
     "data": {
      "text/plain": [
       "[96, 'athu', 60, 'rohit']"
      ]
     },
     "execution_count": 29,
     "metadata": {},
     "output_type": "execute_result"
    }
   ],
   "source": [
    "l1"
   ]
  },
  {
   "cell_type": "code",
   "execution_count": 30,
   "id": "9625553e",
   "metadata": {},
   "outputs": [
    {
     "data": {
      "text/plain": [
       "[67, 'athu', 60, 'rohit']"
      ]
     },
     "execution_count": 30,
     "metadata": {},
     "output_type": "execute_result"
    }
   ],
   "source": [
    "l3"
   ]
  },
  {
   "cell_type": "markdown",
   "id": "7d66b117",
   "metadata": {},
   "source": [
    "## join list"
   ]
  },
  {
   "cell_type": "code",
   "execution_count": 31,
   "id": "76864615",
   "metadata": {},
   "outputs": [],
   "source": [
    "l1=[1,2,3,4,5]\n",
    "l2=[6,7,8,9,10]"
   ]
  },
  {
   "cell_type": "code",
   "execution_count": 32,
   "id": "ab62edcc",
   "metadata": {},
   "outputs": [
    {
     "data": {
      "text/plain": [
       "[1, 2, 3, 4, 5, 6, 7, 8, 9, 10]"
      ]
     },
     "execution_count": 32,
     "metadata": {},
     "output_type": "execute_result"
    }
   ],
   "source": [
    "l3=l1+l2#joing 2 list with+operator\n",
    "l3"
   ]
  },
  {
   "cell_type": "code",
   "execution_count": 34,
   "id": "f688e664",
   "metadata": {},
   "outputs": [
    {
     "name": "stdout",
     "output_type": "stream",
     "text": [
      "['divya', 'athulya', 'kiran', 1, 2, 3]\n"
     ]
    }
   ],
   "source": [
    "##joining 2 list with append\n",
    "l4=[\"divya\",\"athulya\",\"kiran\"]\n",
    "l5=[1,2,3]\n",
    "\n",
    "for x in l5:\n",
    "   l4.append(x)\n",
    "print(l4)"
   ]
  },
  {
   "cell_type": "code",
   "execution_count": 36,
   "id": "b47fccae",
   "metadata": {},
   "outputs": [
    {
     "data": {
      "text/plain": [
       "['divya', 'athulya', 'kiran', 1, 2, 3, 1, 2, 3, 1, 2, 3]"
      ]
     },
     "execution_count": 36,
     "metadata": {},
     "output_type": "execute_result"
    }
   ],
   "source": [
    "##joining using extend\n",
    "l4.extend(l5)\n",
    "l4"
   ]
  },
  {
   "cell_type": "markdown",
   "id": "cc76c849",
   "metadata": {},
   "source": [
    "### membership operator in list"
   ]
  },
  {
   "cell_type": "code",
   "execution_count": 37,
   "id": "04eef64b",
   "metadata": {},
   "outputs": [
    {
     "data": {
      "text/plain": [
       "[1, 2, 3, 4, 5]"
      ]
     },
     "execution_count": 37,
     "metadata": {},
     "output_type": "execute_result"
    }
   ],
   "source": [
    "l1=[1,2,3,4,5]\n",
    "l1"
   ]
  },
  {
   "cell_type": "code",
   "execution_count": 38,
   "id": "1c37038c",
   "metadata": {},
   "outputs": [
    {
     "data": {
      "text/plain": [
       "True"
      ]
     },
     "execution_count": 38,
     "metadata": {},
     "output_type": "execute_result"
    }
   ],
   "source": [
    "2 in l1"
   ]
  },
  {
   "cell_type": "code",
   "execution_count": 39,
   "id": "00d73aab",
   "metadata": {},
   "outputs": [
    {
     "data": {
      "text/plain": [
       "False"
      ]
     },
     "execution_count": 39,
     "metadata": {},
     "output_type": "execute_result"
    }
   ],
   "source": [
    "6 in l1"
   ]
  },
  {
   "cell_type": "code",
   "execution_count": null,
   "id": "eac0643a",
   "metadata": {},
   "outputs": [],
   "source": []
  }
 ],
 "metadata": {
  "kernelspec": {
   "display_name": "Python 3 (ipykernel)",
   "language": "python",
   "name": "python3"
  },
  "language_info": {
   "codemirror_mode": {
    "name": "ipython",
    "version": 3
   },
   "file_extension": ".py",
   "mimetype": "text/x-python",
   "name": "python",
   "nbconvert_exporter": "python",
   "pygments_lexer": "ipython3",
   "version": "3.9.12"
  }
 },
 "nbformat": 4,
 "nbformat_minor": 5
}
