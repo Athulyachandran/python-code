{
 "cells": [
  {
   "cell_type": "markdown",
   "id": "aacacc9b",
   "metadata": {},
   "source": [
    "### creating metrix"
   ]
  },
  {
   "cell_type": "code",
   "execution_count": 1,
   "id": "4c6d66bc",
   "metadata": {},
   "outputs": [
    {
     "name": "stdout",
     "output_type": "stream",
     "text": [
      "[[1 2 3]\n",
      " [4 5 6]]\n"
     ]
    }
   ],
   "source": [
    "import numpy as np\n",
    "x=np.array([[1,2,3],[4,5,6]])\n",
    "print(x)"
   ]
  },
  {
   "cell_type": "markdown",
   "id": "0b2a8ec5",
   "metadata": {},
   "source": [
    "#### creating vectors"
   ]
  },
  {
   "cell_type": "code",
   "execution_count": 2,
   "id": "73d211f1",
   "metadata": {},
   "outputs": [],
   "source": [
    "import numpy\n"
   ]
  },
  {
   "cell_type": "code",
   "execution_count": 3,
   "id": "be8d8e20",
   "metadata": {},
   "outputs": [
    {
     "name": "stdout",
     "output_type": "stream",
     "text": [
      "[ 3  8 11  9]\n"
     ]
    }
   ],
   "source": [
    "x=numpy.array([1,4,6,8])\n",
    "y=numpy.array([2,4,5,1])\n",
    "z=x+y\n",
    "print(z)"
   ]
  },
  {
   "cell_type": "code",
   "execution_count": 4,
   "id": "7b4ce96d",
   "metadata": {},
   "outputs": [
    {
     "data": {
      "text/plain": [
       "numpy.ndarray"
      ]
     },
     "execution_count": 4,
     "metadata": {},
     "output_type": "execute_result"
    }
   ],
   "source": [
    "type(z)"
   ]
  },
  {
   "cell_type": "code",
   "execution_count": 5,
   "id": "710a48e3",
   "metadata": {},
   "outputs": [
    {
     "data": {
      "text/plain": [
       "(4,)"
      ]
     },
     "execution_count": 5,
     "metadata": {},
     "output_type": "execute_result"
    }
   ],
   "source": [
    "z.shape ### one dimesion if it is 2 dimentiom something will after 4,"
   ]
  },
  {
   "cell_type": "code",
   "execution_count": 7,
   "id": "301187d6",
   "metadata": {},
   "outputs": [
    {
     "data": {
      "text/plain": [
       "4"
      ]
     },
     "execution_count": 7,
     "metadata": {},
     "output_type": "execute_result"
    }
   ],
   "source": [
    "z.size"
   ]
  },
  {
   "cell_type": "code",
   "execution_count": 8,
   "id": "f58247b9",
   "metadata": {},
   "outputs": [
    {
     "data": {
      "text/plain": [
       "1"
      ]
     },
     "execution_count": 8,
     "metadata": {},
     "output_type": "execute_result"
    }
   ],
   "source": [
    "z.ndim ### no.of dimention of an array"
   ]
  },
  {
   "cell_type": "code",
   "execution_count": 9,
   "id": "e5a5b2f7",
   "metadata": {},
   "outputs": [
    {
     "data": {
      "text/plain": [
       "dtype('int32')"
      ]
     },
     "execution_count": 9,
     "metadata": {},
     "output_type": "execute_result"
    }
   ],
   "source": [
    "z.dtype"
   ]
  },
  {
   "cell_type": "code",
   "execution_count": 10,
   "id": "2cfb8624",
   "metadata": {},
   "outputs": [
    {
     "data": {
      "text/plain": [
       "4"
      ]
     },
     "execution_count": 10,
     "metadata": {},
     "output_type": "execute_result"
    }
   ],
   "source": [
    "z.itemsize"
   ]
  },
  {
   "cell_type": "code",
   "execution_count": 11,
   "id": "5b2cfd56",
   "metadata": {},
   "outputs": [
    {
     "data": {
      "text/plain": [
       "<memory at 0x000002D9595D3D00>"
      ]
     },
     "execution_count": 11,
     "metadata": {},
     "output_type": "execute_result"
    }
   ],
   "source": [
    "z.data ### memory location will print"
   ]
  },
  {
   "cell_type": "code",
   "execution_count": 12,
   "id": "7c0e36b0",
   "metadata": {},
   "outputs": [
    {
     "data": {
      "text/plain": [
       "array([ 3,  8, 11,  9])"
      ]
     },
     "execution_count": 12,
     "metadata": {},
     "output_type": "execute_result"
    }
   ],
   "source": [
    "z"
   ]
  },
  {
   "cell_type": "markdown",
   "id": "9c484194",
   "metadata": {},
   "source": [
    "### numpy statistics"
   ]
  },
  {
   "cell_type": "code",
   "execution_count": 15,
   "id": "e51d2a91",
   "metadata": {},
   "outputs": [
    {
     "data": {
      "text/plain": [
       "3.0"
      ]
     },
     "execution_count": 15,
     "metadata": {},
     "output_type": "execute_result"
    }
   ],
   "source": [
    "a=np.array([1,4,3,8,9,2,3],float)\n",
    "np.median(a)"
   ]
  },
  {
   "cell_type": "code",
   "execution_count": 16,
   "id": "636d3a31",
   "metadata": {},
   "outputs": [
    {
     "data": {
      "text/plain": [
       "array([[1.        , 0.72870505],\n",
       "       [0.72870505, 1.        ]])"
      ]
     },
     "execution_count": 16,
     "metadata": {},
     "output_type": "execute_result"
    }
   ],
   "source": [
    "a=np.array([[1,2,1,3],[5,3,1,8]],float)\n",
    "c=np.corrcoef(a)\n",
    "c"
   ]
  },
  {
   "cell_type": "code",
   "execution_count": 17,
   "id": "463fafb2",
   "metadata": {},
   "outputs": [
    {
     "data": {
      "text/plain": [
       "array([[0.91666667, 2.08333333],\n",
       "       [2.08333333, 8.91666667]])"
      ]
     },
     "execution_count": 17,
     "metadata": {},
     "output_type": "execute_result"
    }
   ],
   "source": [
    "np.cov(a)"
   ]
  },
  {
   "cell_type": "markdown",
   "id": "12167e68",
   "metadata": {},
   "source": [
    "### import library"
   ]
  },
  {
   "cell_type": "code",
   "execution_count": 1,
   "id": "4a984087",
   "metadata": {},
   "outputs": [],
   "source": [
    "import numpy as np"
   ]
  },
  {
   "cell_type": "markdown",
   "id": "723912eb",
   "metadata": {},
   "source": [
    "#### np.array()"
   ]
  },
  {
   "cell_type": "markdown",
   "id": "c0f136b0",
   "metadata": {},
   "source": [
    "##### this method help us to create basic ndarray"
   ]
  },
  {
   "cell_type": "code",
   "execution_count": 2,
   "id": "be584063",
   "metadata": {},
   "outputs": [
    {
     "data": {
      "text/plain": [
       "[12, 23, 34, 54, 67, 78]"
      ]
     },
     "execution_count": 2,
     "metadata": {},
     "output_type": "execute_result"
    }
   ],
   "source": [
    "l=[12,23,34,54,67,78]\n",
    "l"
   ]
  },
  {
   "cell_type": "markdown",
   "id": "a3c49279",
   "metadata": {},
   "source": [
    "#### display type of an object"
   ]
  },
  {
   "cell_type": "code",
   "execution_count": 3,
   "id": "d023057d",
   "metadata": {},
   "outputs": [
    {
     "data": {
      "text/plain": [
       "list"
      ]
     },
     "execution_count": 3,
     "metadata": {},
     "output_type": "execute_result"
    }
   ],
   "source": [
    "type(l)"
   ]
  },
  {
   "cell_type": "markdown",
   "id": "4b725c4f",
   "metadata": {},
   "source": [
    "#### convert list to numpy array"
   ]
  },
  {
   "cell_type": "code",
   "execution_count": 4,
   "id": "522f7e63",
   "metadata": {},
   "outputs": [
    {
     "data": {
      "text/plain": [
       "array([12, 23, 34, 54, 67, 78])"
      ]
     },
     "execution_count": 4,
     "metadata": {},
     "output_type": "execute_result"
    }
   ],
   "source": [
    "a1=np.array(l)\n",
    "a1"
   ]
  },
  {
   "cell_type": "code",
   "execution_count": 5,
   "id": "f73a6c05",
   "metadata": {},
   "outputs": [
    {
     "data": {
      "text/plain": [
       "numpy.ndarray"
      ]
     },
     "execution_count": 5,
     "metadata": {},
     "output_type": "execute_result"
    }
   ],
   "source": [
    "type(a1)"
   ]
  },
  {
   "cell_type": "markdown",
   "id": "bcd34154",
   "metadata": {},
   "source": [
    "#### memory address of an array object"
   ]
  },
  {
   "cell_type": "code",
   "execution_count": 6,
   "id": "76ca5285",
   "metadata": {},
   "outputs": [
    {
     "data": {
      "text/plain": [
       "<memory at 0x00000146753F5D00>"
      ]
     },
     "execution_count": 6,
     "metadata": {},
     "output_type": "execute_result"
    }
   ],
   "source": [
    "a1.data"
   ]
  },
  {
   "cell_type": "markdown",
   "id": "176c6254",
   "metadata": {},
   "source": [
    "#### datatype of an array object"
   ]
  },
  {
   "cell_type": "code",
   "execution_count": 7,
   "id": "c4ac8ddd",
   "metadata": {},
   "outputs": [
    {
     "data": {
      "text/plain": [
       "dtype('int32')"
      ]
     },
     "execution_count": 7,
     "metadata": {},
     "output_type": "execute_result"
    }
   ],
   "source": [
    "a1.dtype"
   ]
  },
  {
   "cell_type": "markdown",
   "id": "1285b094",
   "metadata": {},
   "source": [
    "#### convert integer array to float"
   ]
  },
  {
   "cell_type": "code",
   "execution_count": 8,
   "id": "3ec7b89d",
   "metadata": {},
   "outputs": [
    {
     "data": {
      "text/plain": [
       "array([12., 23., 34., 54., 67., 78.])"
      ]
     },
     "execution_count": 8,
     "metadata": {},
     "output_type": "execute_result"
    }
   ],
   "source": [
    "a1=a1.astype(float)\n",
    "a1"
   ]
  },
  {
   "cell_type": "code",
   "execution_count": 9,
   "id": "7a77068f",
   "metadata": {},
   "outputs": [
    {
     "data": {
      "text/plain": [
       "dtype('float64')"
      ]
     },
     "execution_count": 9,
     "metadata": {},
     "output_type": "execute_result"
    }
   ],
   "source": [
    "a1.dtype"
   ]
  },
  {
   "cell_type": "markdown",
   "id": "76797cff",
   "metadata": {},
   "source": [
    "#### generate equal spaced number between 0 to 20"
   ]
  },
  {
   "cell_type": "code",
   "execution_count": 10,
   "id": "940d30cc",
   "metadata": {},
   "outputs": [
    {
     "data": {
      "text/plain": [
       "array([ 0,  1,  2,  3,  4,  5,  6,  7,  8,  9, 10, 11, 12, 13, 14, 15, 16,\n",
       "       17, 18, 19])"
      ]
     },
     "execution_count": 10,
     "metadata": {},
     "output_type": "execute_result"
    }
   ],
   "source": [
    "np.arange(0,20)"
   ]
  },
  {
   "cell_type": "code",
   "execution_count": 12,
   "id": "e1abacfb",
   "metadata": {},
   "outputs": [
    {
     "data": {
      "text/plain": [
       "array([ 0,  2,  4,  6,  8, 10, 12, 14, 16, 18, 20])"
      ]
     },
     "execution_count": 12,
     "metadata": {},
     "output_type": "execute_result"
    }
   ],
   "source": [
    "np.arange(0,21,2) ### it will print difference of 2"
   ]
  },
  {
   "cell_type": "markdown",
   "id": "f60ef6f3",
   "metadata": {},
   "source": [
    "#### generate number between 0 to 50 with space of 5"
   ]
  },
  {
   "cell_type": "code",
   "execution_count": 13,
   "id": "4c6260b9",
   "metadata": {},
   "outputs": [
    {
     "data": {
      "text/plain": [
       "array([ 0,  5, 10, 15, 20, 25, 30, 35, 40, 45])"
      ]
     },
     "execution_count": 13,
     "metadata": {},
     "output_type": "execute_result"
    }
   ],
   "source": [
    "np.arange(0,50,5)"
   ]
  },
  {
   "cell_type": "code",
   "execution_count": 14,
   "id": "ff3bcb2b",
   "metadata": {},
   "outputs": [
    {
     "data": {
      "text/plain": [
       "array([ 0,  1,  2,  3,  4,  5,  6,  7,  8,  9, 10, 11, 12, 13, 14, 15, 16,\n",
       "       17, 18, 19, 20, 21, 22])"
      ]
     },
     "execution_count": 14,
     "metadata": {},
     "output_type": "execute_result"
    }
   ],
   "source": [
    "a2=np.arange(0,23)\n",
    "a2"
   ]
  },
  {
   "cell_type": "markdown",
   "id": "ff0f05c5",
   "metadata": {},
   "source": [
    "### shape of an array"
   ]
  },
  {
   "cell_type": "markdown",
   "id": "b5678c2a",
   "metadata": {},
   "source": [
    "##### shape of array"
   ]
  },
  {
   "cell_type": "code",
   "execution_count": 15,
   "id": "ae48fbf7",
   "metadata": {},
   "outputs": [
    {
     "data": {
      "text/plain": [
       "(23,)"
      ]
     },
     "execution_count": 15,
     "metadata": {},
     "output_type": "execute_result"
    }
   ],
   "source": [
    "a2.shape"
   ]
  },
  {
   "cell_type": "markdown",
   "id": "ab181245",
   "metadata": {},
   "source": [
    "##### size of array"
   ]
  },
  {
   "cell_type": "code",
   "execution_count": 16,
   "id": "9efd91d6",
   "metadata": {},
   "outputs": [
    {
     "data": {
      "text/plain": [
       "23"
      ]
     },
     "execution_count": 16,
     "metadata": {},
     "output_type": "execute_result"
    }
   ],
   "source": [
    "a2.size"
   ]
  },
  {
   "cell_type": "markdown",
   "id": "97b3a34b",
   "metadata": {},
   "source": [
    "##### dimension"
   ]
  },
  {
   "cell_type": "code",
   "execution_count": 17,
   "id": "1949621a",
   "metadata": {},
   "outputs": [
    {
     "data": {
      "text/plain": [
       "1"
      ]
     },
     "execution_count": 17,
     "metadata": {},
     "output_type": "execute_result"
    }
   ],
   "source": [
    "a2.ndim"
   ]
  },
  {
   "cell_type": "markdown",
   "id": "e84fa758",
   "metadata": {},
   "source": [
    "##### byte consumed by one elemnt of an array object"
   ]
  },
  {
   "cell_type": "code",
   "execution_count": 18,
   "id": "5e76e8dc",
   "metadata": {},
   "outputs": [
    {
     "data": {
      "text/plain": [
       "4"
      ]
     },
     "execution_count": 18,
     "metadata": {},
     "output_type": "execute_result"
    }
   ],
   "source": [
    "a2.itemsize"
   ]
  },
  {
   "cell_type": "markdown",
   "id": "d4aa7757",
   "metadata": {},
   "source": [
    "#### bytes consumed by an array object"
   ]
  },
  {
   "cell_type": "code",
   "execution_count": 19,
   "id": "16fb4d45",
   "metadata": {},
   "outputs": [
    {
     "data": {
      "text/plain": [
       "92"
      ]
     },
     "execution_count": 19,
     "metadata": {},
     "output_type": "execute_result"
    }
   ],
   "source": [
    "a2.nbytes"
   ]
  },
  {
   "cell_type": "markdown",
   "id": "c9af71ae",
   "metadata": {},
   "source": [
    "#### length of array"
   ]
  },
  {
   "cell_type": "code",
   "execution_count": 20,
   "id": "dec580c0",
   "metadata": {},
   "outputs": [
    {
     "data": {
      "text/plain": [
       "23"
      ]
     },
     "execution_count": 20,
     "metadata": {},
     "output_type": "execute_result"
    }
   ],
   "source": [
    "len(a2)"
   ]
  },
  {
   "cell_type": "markdown",
   "id": "32c9b753",
   "metadata": {},
   "source": [
    "#### generate array of zeros"
   ]
  },
  {
   "cell_type": "code",
   "execution_count": 21,
   "id": "7ecb430c",
   "metadata": {},
   "outputs": [
    {
     "data": {
      "text/plain": [
       "array([0., 0., 0., 0., 0., 0., 0., 0., 0., 0., 0., 0.])"
      ]
     },
     "execution_count": 21,
     "metadata": {},
     "output_type": "execute_result"
    }
   ],
   "source": [
    "np.zeros(12)"
   ]
  },
  {
   "cell_type": "markdown",
   "id": "76612464",
   "metadata": {},
   "source": [
    "#### generate array of oncs"
   ]
  },
  {
   "cell_type": "code",
   "execution_count": 22,
   "id": "8fc60abc",
   "metadata": {},
   "outputs": [
    {
     "data": {
      "text/plain": [
       "array([1., 1., 1., 1., 1., 1., 1., 1., 1., 1.])"
      ]
     },
     "execution_count": 22,
     "metadata": {},
     "output_type": "execute_result"
    }
   ],
   "source": [
    "np.ones(10)"
   ]
  },
  {
   "cell_type": "markdown",
   "id": "f7e19426",
   "metadata": {},
   "source": [
    "#### repeat 5 four time in an array"
   ]
  },
  {
   "cell_type": "code",
   "execution_count": 23,
   "id": "a59e7976",
   "metadata": {},
   "outputs": [
    {
     "data": {
      "text/plain": [
       "array([5, 5, 5, 5])"
      ]
     },
     "execution_count": 23,
     "metadata": {},
     "output_type": "execute_result"
    }
   ],
   "source": [
    "np.repeat(5,4)"
   ]
  },
  {
   "cell_type": "markdown",
   "id": "23a6ddf5",
   "metadata": {},
   "source": [
    "##### repeat each elemnt in an array five times"
   ]
  },
  {
   "cell_type": "code",
   "execution_count": 24,
   "id": "95269387",
   "metadata": {},
   "outputs": [
    {
     "data": {
      "text/plain": [
       "array([12, 12, 12, 12, 12, 23, 23, 23, 23, 23, 34, 34, 34, 34, 34])"
      ]
     },
     "execution_count": 24,
     "metadata": {},
     "output_type": "execute_result"
    }
   ],
   "source": [
    "a3=np.array([12,23,34]) ##each elemnt need to repaet 5 time\n",
    "np.repeat(a3,5)"
   ]
  },
  {
   "cell_type": "markdown",
   "id": "8a960e09",
   "metadata": {},
   "source": [
    "#### array of 8's"
   ]
  },
  {
   "cell_type": "code",
   "execution_count": 25,
   "id": "be6c090c",
   "metadata": {},
   "outputs": [
    {
     "data": {
      "text/plain": [
       "array([8, 8, 8, 8, 8])"
      ]
     },
     "execution_count": 25,
     "metadata": {},
     "output_type": "execute_result"
    }
   ],
   "source": [
    "np.full(5,8)"
   ]
  },
  {
   "cell_type": "code",
   "execution_count": 2,
   "id": "91131079",
   "metadata": {},
   "outputs": [],
   "source": [
    "import numpy as np"
   ]
  },
  {
   "cell_type": "code",
   "execution_count": 3,
   "id": "6ea9239f",
   "metadata": {},
   "outputs": [
    {
     "data": {
      "text/plain": [
       "array([4, 4, 4, 4, 4])"
      ]
     },
     "execution_count": 3,
     "metadata": {},
     "output_type": "execute_result"
    }
   ],
   "source": [
    "np.full(5,4) "
   ]
  },
  {
   "cell_type": "markdown",
   "id": "f35023e2",
   "metadata": {},
   "source": [
    "#### generate aray of even numbers"
   ]
  },
  {
   "cell_type": "code",
   "execution_count": 4,
   "id": "64929ecb",
   "metadata": {},
   "outputs": [
    {
     "data": {
      "text/plain": [
       "array([ 2,  4,  6,  8, 10, 12, 14, 16, 18, 20, 22, 24, 26, 28, 30, 32, 34,\n",
       "       36, 38, 40, 42, 44, 46, 48, 50, 52, 54, 56, 58, 60, 62, 64, 66, 68,\n",
       "       70, 72, 74, 76, 78, 80, 82, 84, 86, 88, 90, 92, 94, 96, 98])"
      ]
     },
     "execution_count": 4,
     "metadata": {},
     "output_type": "execute_result"
    }
   ],
   "source": [
    "a4=np.arange(1,100)\n",
    "a4[a4%2==0]"
   ]
  },
  {
   "cell_type": "markdown",
   "id": "cfcda8a8",
   "metadata": {},
   "source": [
    "#### generate array of odd numbers"
   ]
  },
  {
   "cell_type": "code",
   "execution_count": 5,
   "id": "53b56df7",
   "metadata": {},
   "outputs": [
    {
     "data": {
      "text/plain": [
       "array([ 1,  3,  5,  7,  9, 11, 13, 15, 17, 19, 21, 23, 25, 27, 29, 31, 33,\n",
       "       35, 37, 39, 41, 43, 45, 47, 49, 51, 53, 55, 57, 59, 61, 63, 65, 67,\n",
       "       69, 71, 73, 75, 77, 79, 81, 83, 85, 87, 89, 91, 93, 95, 97, 99])"
      ]
     },
     "execution_count": 5,
     "metadata": {},
     "output_type": "execute_result"
    }
   ],
   "source": [
    "a4=np.arange(1,100)\n",
    "a4[a4%2==1]"
   ]
  },
  {
   "cell_type": "markdown",
   "id": "978f5994",
   "metadata": {},
   "source": [
    "### generate evently spaced 4 number between 10 to 25"
   ]
  },
  {
   "cell_type": "code",
   "execution_count": 6,
   "id": "a7c1dc5a",
   "metadata": {},
   "outputs": [
    {
     "data": {
      "text/plain": [
       "array([10.  , 13.75, 17.5 , 21.25, 25.  ])"
      ]
     },
     "execution_count": 6,
     "metadata": {},
     "output_type": "execute_result"
    }
   ],
   "source": [
    "np.linspace(10,25,5)"
   ]
  },
  {
   "cell_type": "code",
   "execution_count": 7,
   "id": "5884109f",
   "metadata": {},
   "outputs": [
    {
     "data": {
      "text/plain": [
       "array([10.        , 11.66666667, 13.33333333, 15.        , 16.66666667,\n",
       "       18.33333333, 20.        , 21.66666667, 23.33333333, 25.        ])"
      ]
     },
     "execution_count": 7,
     "metadata": {},
     "output_type": "execute_result"
    }
   ],
   "source": [
    "np.linspace(10,25,10)"
   ]
  },
  {
   "cell_type": "markdown",
   "id": "5074d468",
   "metadata": {},
   "source": [
    "#### create array of random values"
   ]
  },
  {
   "cell_type": "code",
   "execution_count": 8,
   "id": "a4c72f48",
   "metadata": {},
   "outputs": [
    {
     "data": {
      "text/plain": [
       "array([0.26861552, 0.66537342, 0.68111907, 0.02463767])"
      ]
     },
     "execution_count": 8,
     "metadata": {},
     "output_type": "execute_result"
    }
   ],
   "source": [
    "np.random.random(4)"
   ]
  },
  {
   "cell_type": "markdown",
   "id": "a87278c3",
   "metadata": {},
   "source": [
    "#### generate an array of random integer number"
   ]
  },
  {
   "cell_type": "code",
   "execution_count": 9,
   "id": "9bedd3e2",
   "metadata": {},
   "outputs": [
    {
     "data": {
      "text/plain": [
       "array([84, 59, 35,  0, 31, 19, 55, 84, 20, 15])"
      ]
     },
     "execution_count": 9,
     "metadata": {},
     "output_type": "execute_result"
    }
   ],
   "source": [
    "np.random.randint(0,100,10)"
   ]
  },
  {
   "cell_type": "code",
   "execution_count": 10,
   "id": "7f72e828",
   "metadata": {},
   "outputs": [
    {
     "data": {
      "text/plain": [
       "array([8.00821654, 6.30950397, 8.55504962, 6.7590862 , 5.70900847,\n",
       "       9.80038399, 5.34852692, 9.58991036])"
      ]
     },
     "execution_count": 10,
     "metadata": {},
     "output_type": "execute_result"
    }
   ],
   "source": [
    "a5=np.random.uniform(5,10,8) ### 5 and 10 is not included all number b/w this will get printed\n",
    "a5"
   ]
  },
  {
   "cell_type": "code",
   "execution_count": 11,
   "id": "67ac09f7",
   "metadata": {},
   "outputs": [
    {
     "data": {
      "text/plain": [
       "array([8., 6., 8., 6., 5., 9., 5., 9.])"
      ]
     },
     "execution_count": 11,
     "metadata": {},
     "output_type": "execute_result"
    }
   ],
   "source": [
    "np.floor(a5) ###fractional part will not execute"
   ]
  },
  {
   "cell_type": "code",
   "execution_count": 12,
   "id": "49ebc56f",
   "metadata": {},
   "outputs": [
    {
     "data": {
      "text/plain": [
       "array([8., 6., 8., 6., 5., 9., 5., 9.])"
      ]
     },
     "execution_count": 12,
     "metadata": {},
     "output_type": "execute_result"
    }
   ],
   "source": [
    "np.trunc(a5) ###franctional part will not execute same as floor"
   ]
  },
  {
   "cell_type": "markdown",
   "id": "eb66a94d",
   "metadata": {},
   "source": [
    "#### check version of version of numpy"
   ]
  },
  {
   "cell_type": "code",
   "execution_count": 13,
   "id": "c8874202",
   "metadata": {},
   "outputs": [
    {
     "name": "stdout",
     "output_type": "stream",
     "text": [
      "1.21.5\n"
     ]
    }
   ],
   "source": [
    "print(np.__version__)"
   ]
  },
  {
   "cell_type": "markdown",
   "id": "ce4803a0",
   "metadata": {},
   "source": [
    "### creating array from list"
   ]
  },
  {
   "cell_type": "code",
   "execution_count": 15,
   "id": "f3d9c700",
   "metadata": {},
   "outputs": [
    {
     "name": "stdout",
     "output_type": "stream",
     "text": [
      "[12 22 23 34 45]\n",
      "<class 'numpy.ndarray'>\n"
     ]
    }
   ],
   "source": [
    "### creating array from list\n",
    "import numpy as np\n",
    "a=np.array([12,22,23,34,45])\n",
    "print(a)\n",
    "print(type(a))"
   ]
  },
  {
   "cell_type": "markdown",
   "id": "6f38318e",
   "metadata": {},
   "source": [
    "### creating array from tuple"
   ]
  },
  {
   "cell_type": "code",
   "execution_count": 16,
   "id": "3d9cc8ed",
   "metadata": {},
   "outputs": [
    {
     "name": "stdout",
     "output_type": "stream",
     "text": [
      "[12 22 23 34 45]\n",
      "<class 'numpy.ndarray'>\n"
     ]
    }
   ],
   "source": [
    "### creating array from tuple\n",
    "at=np.array((12,22,23,34,45))\n",
    "print(at)\n",
    "print(type(at))"
   ]
  },
  {
   "cell_type": "markdown",
   "id": "d981684a",
   "metadata": {},
   "source": [
    "### dimension"
   ]
  },
  {
   "cell_type": "markdown",
   "id": "cc5ae89c",
   "metadata": {},
   "source": [
    "#### 0-D array"
   ]
  },
  {
   "cell_type": "code",
   "execution_count": null,
   "id": "ce2f5b43",
   "metadata": {},
   "outputs": [],
   "source": [
    "##0 d array or scalar array are the elemnt in an array each value in array is od"
   ]
  },
  {
   "cell_type": "code",
   "execution_count": 17,
   "id": "efda4fd6",
   "metadata": {},
   "outputs": [
    {
     "name": "stdout",
     "output_type": "stream",
     "text": [
      "67\n"
     ]
    }
   ],
   "source": [
    "ae=np.array(67)\n",
    "print(ae)"
   ]
  },
  {
   "cell_type": "code",
   "execution_count": 18,
   "id": "182957b3",
   "metadata": {},
   "outputs": [
    {
     "data": {
      "text/plain": [
       "0"
      ]
     },
     "execution_count": 18,
     "metadata": {},
     "output_type": "execute_result"
    }
   ],
   "source": [
    "ae.ndim"
   ]
  },
  {
   "cell_type": "markdown",
   "id": "a636e7e0",
   "metadata": {},
   "source": [
    "### 1-D array"
   ]
  },
  {
   "cell_type": "code",
   "execution_count": null,
   "id": "422a521c",
   "metadata": {},
   "outputs": [],
   "source": [
    "### array more than one elemnt is called 1d array"
   ]
  },
  {
   "cell_type": "code",
   "execution_count": 19,
   "id": "0e7ceb16",
   "metadata": {},
   "outputs": [
    {
     "name": "stdout",
     "output_type": "stream",
     "text": [
      "[56 78 89]\n"
     ]
    }
   ],
   "source": [
    "a1=np.array([56,78,89])\n",
    "print(a1)"
   ]
  },
  {
   "cell_type": "code",
   "execution_count": 20,
   "id": "a692835a",
   "metadata": {},
   "outputs": [
    {
     "data": {
      "text/plain": [
       "1"
      ]
     },
     "execution_count": 20,
     "metadata": {},
     "output_type": "execute_result"
    }
   ],
   "source": [
    "a1.ndim"
   ]
  },
  {
   "cell_type": "markdown",
   "id": "28dd15b3",
   "metadata": {},
   "source": [
    "### 2 D ARRAY"
   ]
  },
  {
   "cell_type": "code",
   "execution_count": null,
   "id": "2c63d18e",
   "metadata": {},
   "outputs": [],
   "source": [
    "### USED TO REPRESENT METRICS"
   ]
  },
  {
   "cell_type": "code",
   "execution_count": 21,
   "id": "89d0a59a",
   "metadata": {},
   "outputs": [
    {
     "name": "stdout",
     "output_type": "stream",
     "text": [
      "[[1 2 3]\n",
      " [4 5 6]\n",
      " [7 8 9]]\n"
     ]
    }
   ],
   "source": [
    "a2=np.array([[1,2,3],[4,5,6],[7,8,9]])\n",
    "print(a2)"
   ]
  },
  {
   "cell_type": "code",
   "execution_count": 22,
   "id": "a600e9a5",
   "metadata": {},
   "outputs": [
    {
     "name": "stdout",
     "output_type": "stream",
     "text": [
      "[['1' '2' '3']\n",
      " ['4' '5' '6']\n",
      " ['7' '8' '9']]\n"
     ]
    }
   ],
   "source": [
    "a=[\"1\",\"2\",\"3\"]\n",
    "b=[4,5,6]\n",
    "c=[7,8,9]\n",
    "a3=np.array([a,b,c]) ### converting number to string(num can convert to sting bu string cant be convert to number)\n",
    "print(a3)"
   ]
  },
  {
   "cell_type": "markdown",
   "id": "08201acd",
   "metadata": {},
   "source": [
    "#### 3D ARRAY"
   ]
  },
  {
   "cell_type": "code",
   "execution_count": null,
   "id": "ac381884",
   "metadata": {},
   "outputs": [],
   "source": [
    "### array that has 2d array as its elemnts is called 3d array"
   ]
  },
  {
   "cell_type": "code",
   "execution_count": 23,
   "id": "9ba33cb2",
   "metadata": {},
   "outputs": [
    {
     "name": "stdout",
     "output_type": "stream",
     "text": [
      "[[[ 1  2  3]\n",
      "  [ 4  5  6]]\n",
      "\n",
      " [[11 12 13]\n",
      "  [22 33 44]]]\n"
     ]
    }
   ],
   "source": [
    "a3=np.array([[[1,2,3],[4,5,6]],[[11,12,13],[22,33,44]]])\n",
    "print(a3)"
   ]
  },
  {
   "cell_type": "markdown",
   "id": "fd72bec2",
   "metadata": {},
   "source": [
    "### acess array elemnt"
   ]
  },
  {
   "cell_type": "code",
   "execution_count": 24,
   "id": "640da2eb",
   "metadata": {},
   "outputs": [
    {
     "name": "stdout",
     "output_type": "stream",
     "text": [
      "11\n"
     ]
    }
   ],
   "source": [
    "a1=np.array([11,34,56,78,89]) ###printing first elemt of an array\n",
    "print(a1[0])"
   ]
  },
  {
   "cell_type": "code",
   "execution_count": 25,
   "id": "462a9140",
   "metadata": {},
   "outputs": [
    {
     "name": "stdout",
     "output_type": "stream",
     "text": [
      "78\n"
     ]
    }
   ],
   "source": [
    "print(a1[3])"
   ]
  },
  {
   "cell_type": "markdown",
   "id": "7f618010",
   "metadata": {},
   "source": [
    "### get secnd and fourth elemnt from the array and add it"
   ]
  },
  {
   "cell_type": "code",
   "execution_count": null,
   "id": "c219aa38",
   "metadata": {},
   "outputs": [],
   "source": [
    "a1=np.array([11,34,56,78,89])\n"
   ]
  },
  {
   "cell_type": "code",
   "execution_count": 27,
   "id": "3935750b",
   "metadata": {},
   "outputs": [
    {
     "name": "stdout",
     "output_type": "stream",
     "text": [
      "34\n"
     ]
    }
   ],
   "source": [
    "print(a1[1])"
   ]
  },
  {
   "cell_type": "code",
   "execution_count": 28,
   "id": "e51e1816",
   "metadata": {},
   "outputs": [
    {
     "name": "stdout",
     "output_type": "stream",
     "text": [
      "78\n"
     ]
    }
   ],
   "source": [
    "print(a1[3])"
   ]
  },
  {
   "cell_type": "code",
   "execution_count": 34,
   "id": "03b83976",
   "metadata": {},
   "outputs": [
    {
     "name": "stdout",
     "output_type": "stream",
     "text": [
      "112\n"
     ]
    }
   ],
   "source": [
    "add=a1[1]+a1[3]\n",
    "print(add)"
   ]
  },
  {
   "cell_type": "code",
   "execution_count": null,
   "id": "c81b1382",
   "metadata": {},
   "outputs": [],
   "source": [
    "### subtraction"
   ]
  },
  {
   "cell_type": "code",
   "execution_count": 33,
   "id": "17f4443f",
   "metadata": {},
   "outputs": [
    {
     "name": "stdout",
     "output_type": "stream",
     "text": [
      "-44\n"
     ]
    }
   ],
   "source": [
    "sub=a1[1]-a1[3]\n",
    "print(sub)"
   ]
  },
  {
   "cell_type": "code",
   "execution_count": null,
   "id": "2ca9548f",
   "metadata": {},
   "outputs": [],
   "source": [
    "### multiplication"
   ]
  },
  {
   "cell_type": "code",
   "execution_count": 32,
   "id": "1dbb6447",
   "metadata": {},
   "outputs": [
    {
     "name": "stdout",
     "output_type": "stream",
     "text": [
      "2652\n"
     ]
    }
   ],
   "source": [
    "mul=a1[1]*a1[3]\n",
    "print(mul)"
   ]
  },
  {
   "cell_type": "code",
   "execution_count": 36,
   "id": "a64df4ba",
   "metadata": {
    "scrolled": true
   },
   "outputs": [
    {
     "name": "stdout",
     "output_type": "stream",
     "text": [
      "[[ 1  2  3  4  5]\n",
      " [ 6  7  8  9 10]]\n"
     ]
    }
   ],
   "source": [
    "a2=np.array([[1,2,3,4,5],[6,7,8,9,10]])\n",
    "print(a2)"
   ]
  },
  {
   "cell_type": "code",
   "execution_count": 37,
   "id": "66a63448",
   "metadata": {},
   "outputs": [
    {
     "name": "stdout",
     "output_type": "stream",
     "text": [
      "2\n"
     ]
    }
   ],
   "source": [
    "print(a2[0,1])"
   ]
  },
  {
   "cell_type": "code",
   "execution_count": 38,
   "id": "2edd202c",
   "metadata": {},
   "outputs": [
    {
     "name": "stdout",
     "output_type": "stream",
     "text": [
      "7\n"
     ]
    }
   ],
   "source": [
    "print(a2[1,1])"
   ]
  },
  {
   "cell_type": "code",
   "execution_count": 39,
   "id": "33bd6085",
   "metadata": {},
   "outputs": [
    {
     "name": "stdout",
     "output_type": "stream",
     "text": [
      "9\n"
     ]
    }
   ],
   "source": [
    "print(a2[1,3])"
   ]
  },
  {
   "cell_type": "code",
   "execution_count": 40,
   "id": "96fbfbc2",
   "metadata": {},
   "outputs": [
    {
     "name": "stdout",
     "output_type": "stream",
     "text": [
      "10\n"
     ]
    }
   ],
   "source": [
    "print(a2[1,-1])"
   ]
  },
  {
   "cell_type": "code",
   "execution_count": 41,
   "id": "f6c1340e",
   "metadata": {},
   "outputs": [
    {
     "name": "stdout",
     "output_type": "stream",
     "text": [
      "3 7\n"
     ]
    }
   ],
   "source": [
    "print(a2[0,-3],a2[1,1])"
   ]
  },
  {
   "cell_type": "markdown",
   "id": "85a870af",
   "metadata": {},
   "source": [
    "### slicing"
   ]
  },
  {
   "cell_type": "code",
   "execution_count": 42,
   "id": "00aae750",
   "metadata": {},
   "outputs": [
    {
     "data": {
      "text/plain": [
       "array([11, 34, 56, 78, 89])"
      ]
     },
     "execution_count": 42,
     "metadata": {},
     "output_type": "execute_result"
    }
   ],
   "source": [
    "a1\n"
   ]
  },
  {
   "cell_type": "code",
   "execution_count": 43,
   "id": "7c3c79bc",
   "metadata": {},
   "outputs": [
    {
     "name": "stdout",
     "output_type": "stream",
     "text": [
      "[78 89]\n"
     ]
    }
   ],
   "source": [
    "print(a1[3:])"
   ]
  },
  {
   "cell_type": "code",
   "execution_count": 44,
   "id": "3801ba10",
   "metadata": {},
   "outputs": [
    {
     "name": "stdout",
     "output_type": "stream",
     "text": [
      "[11 34 56]\n"
     ]
    }
   ],
   "source": [
    "print(a1[:3])"
   ]
  },
  {
   "cell_type": "code",
   "execution_count": 45,
   "id": "a7f8af5b",
   "metadata": {},
   "outputs": [
    {
     "name": "stdout",
     "output_type": "stream",
     "text": [
      "[34 56 78]\n"
     ]
    }
   ],
   "source": [
    "print(a1[-4:-1])"
   ]
  },
  {
   "cell_type": "code",
   "execution_count": 46,
   "id": "4ef71103",
   "metadata": {},
   "outputs": [
    {
     "name": "stdout",
     "output_type": "stream",
     "text": [
      "[34 56 78 89]\n"
     ]
    }
   ],
   "source": [
    "print(a1[-4:])"
   ]
  },
  {
   "cell_type": "code",
   "execution_count": 47,
   "id": "dfc2100f",
   "metadata": {},
   "outputs": [
    {
     "name": "stdout",
     "output_type": "stream",
     "text": [
      "[11 78]\n"
     ]
    }
   ],
   "source": [
    "print(a1[::3]) ### no end value start value so takig first value and "
   ]
  },
  {
   "cell_type": "code",
   "execution_count": 48,
   "id": "d8e47bce",
   "metadata": {},
   "outputs": [
    {
     "data": {
      "text/plain": [
       "array([[ 1,  2,  3,  4,  5],\n",
       "       [ 6,  7,  8,  9, 10]])"
      ]
     },
     "execution_count": 48,
     "metadata": {},
     "output_type": "execute_result"
    }
   ],
   "source": [
    "a2"
   ]
  },
  {
   "cell_type": "code",
   "execution_count": 49,
   "id": "2be81767",
   "metadata": {},
   "outputs": [
    {
     "name": "stdout",
     "output_type": "stream",
     "text": [
      "[1 2 3]\n"
     ]
    }
   ],
   "source": [
    "print(a2[0,0:3]) ## 0 is first row and slicing from there"
   ]
  },
  {
   "cell_type": "code",
   "execution_count": 50,
   "id": "581a225a",
   "metadata": {},
   "outputs": [
    {
     "name": "stdout",
     "output_type": "stream",
     "text": [
      "[7 8 9]\n"
     ]
    }
   ],
   "source": [
    "print(a2[1,1:4])"
   ]
  },
  {
   "cell_type": "code",
   "execution_count": 51,
   "id": "61316115",
   "metadata": {},
   "outputs": [
    {
     "name": "stdout",
     "output_type": "stream",
     "text": [
      "[[1 2 3]]\n"
     ]
    }
   ],
   "source": [
    "print(a2[0:1,0:3])"
   ]
  },
  {
   "cell_type": "markdown",
   "id": "ea217c5f",
   "metadata": {},
   "source": [
    "### data types in numpy"
   ]
  },
  {
   "cell_type": "code",
   "execution_count": null,
   "id": "909b11ab",
   "metadata": {},
   "outputs": [],
   "source": [
    "##i-interger\n",
    "#b-boolean\n",
    "##u-unsigned integer\n",
    "##f-float\n",
    "##c-complex float\n",
    "## m-datetime\n",
    "##o-object\n",
    "##s-string\n",
    "##u-unicode string\n"
   ]
  },
  {
   "cell_type": "code",
   "execution_count": 52,
   "id": "b47a4923",
   "metadata": {},
   "outputs": [],
   "source": [
    "import numpy as np"
   ]
  },
  {
   "cell_type": "code",
   "execution_count": 53,
   "id": "63e1db5d",
   "metadata": {},
   "outputs": [
    {
     "name": "stdout",
     "output_type": "stream",
     "text": [
      "<U7\n"
     ]
    }
   ],
   "source": [
    "ast=np.array([\"deepika\",\"karan\",\"joy\"])\n",
    "print(ast.dtype)"
   ]
  },
  {
   "cell_type": "code",
   "execution_count": 54,
   "id": "2225f294",
   "metadata": {},
   "outputs": [
    {
     "data": {
      "text/plain": [
       "array([11, 34, 56, 78, 89])"
      ]
     },
     "execution_count": 54,
     "metadata": {},
     "output_type": "execute_result"
    }
   ],
   "source": [
    "a1=np.array([11,34,56,78,89])\n",
    "a1"
   ]
  },
  {
   "cell_type": "code",
   "execution_count": 55,
   "id": "c4b35b99",
   "metadata": {},
   "outputs": [
    {
     "name": "stdout",
     "output_type": "stream",
     "text": [
      "int32\n"
     ]
    }
   ],
   "source": [
    "print(a1.dtype)"
   ]
  },
  {
   "cell_type": "code",
   "execution_count": 57,
   "id": "27ccaa3e",
   "metadata": {},
   "outputs": [
    {
     "name": "stdout",
     "output_type": "stream",
     "text": [
      "[b'1' b'256' b'31' b'4098']\n",
      "|S4\n"
     ]
    }
   ],
   "source": [
    "arr=np.array([1,256,31,4098],dtype=\"S\")\n",
    "print(arr)\n",
    "print(arr.dtype) ## WHEN ADD DTYPE AUTOMATIALLY CONVERT TO THAT TYPE.HERE S FOR STRING AND CONVERTED TO STRING"
   ]
  },
  {
   "cell_type": "code",
   "execution_count": 58,
   "id": "525c84c7",
   "metadata": {},
   "outputs": [
    {
     "name": "stdout",
     "output_type": "stream",
     "text": [
      "['1' '2' '3' '4']\n",
      "<U1\n"
     ]
    }
   ],
   "source": [
    "arr=np.array(['1','2','3','4'])\n",
    "print(arr)\n",
    "print(arr.dtype)"
   ]
  },
  {
   "cell_type": "code",
   "execution_count": 59,
   "id": "75e5090a",
   "metadata": {},
   "outputs": [
    {
     "data": {
      "text/plain": [
       "array([1, 2, 3, 4])"
      ]
     },
     "execution_count": 59,
     "metadata": {},
     "output_type": "execute_result"
    }
   ],
   "source": [
    "ai=np.array([1,2,3,4],dtype=\"i4\")\n",
    "ai"
   ]
  },
  {
   "cell_type": "code",
   "execution_count": 60,
   "id": "ad6e921d",
   "metadata": {},
   "outputs": [
    {
     "name": "stdout",
     "output_type": "stream",
     "text": [
      "int32\n"
     ]
    }
   ],
   "source": [
    "print(ai.dtype)"
   ]
  },
  {
   "cell_type": "markdown",
   "id": "c3a52890",
   "metadata": {},
   "source": [
    "### operation on array"
   ]
  },
  {
   "cell_type": "code",
   "execution_count": 61,
   "id": "f51f8be5",
   "metadata": {},
   "outputs": [
    {
     "data": {
      "text/plain": [
       "array([0, 1, 2, 3, 4, 5, 6, 7, 8, 9])"
      ]
     },
     "execution_count": 61,
     "metadata": {},
     "output_type": "execute_result"
    }
   ],
   "source": [
    "ar=np.arange(0,10)\n",
    "ar"
   ]
  },
  {
   "cell_type": "markdown",
   "id": "91fbddb1",
   "metadata": {},
   "source": [
    "#### sum"
   ]
  },
  {
   "cell_type": "code",
   "execution_count": 62,
   "id": "d77ebe7b",
   "metadata": {},
   "outputs": [
    {
     "data": {
      "text/plain": [
       "45"
      ]
     },
     "execution_count": 62,
     "metadata": {},
     "output_type": "execute_result"
    }
   ],
   "source": [
    "ar.sum()"
   ]
  },
  {
   "cell_type": "markdown",
   "id": "24d55181",
   "metadata": {},
   "source": [
    "#### cumulative sum"
   ]
  },
  {
   "cell_type": "code",
   "execution_count": 63,
   "id": "b29912fe",
   "metadata": {},
   "outputs": [
    {
     "name": "stdout",
     "output_type": "stream",
     "text": [
      "[ 0  1  3  6 10 15 21 28 36 45]\n"
     ]
    }
   ],
   "source": [
    "cs=np.cumsum(ar) ###  eac value is sum of previous elmnt\n",
    "print(cs)"
   ]
  },
  {
   "cell_type": "code",
   "execution_count": 64,
   "id": "c87bbe2f",
   "metadata": {},
   "outputs": [
    {
     "name": "stdout",
     "output_type": "stream",
     "text": [
      "[ 0  1  3  6 10 15 21 28 36 45]\n"
     ]
    }
   ],
   "source": [
    "print(np.cumsum(ar)) ### direct method find cumulative sum"
   ]
  },
  {
   "cell_type": "markdown",
   "id": "56f489d4",
   "metadata": {},
   "source": [
    "### minimum value"
   ]
  },
  {
   "cell_type": "code",
   "execution_count": 65,
   "id": "ac59063b",
   "metadata": {},
   "outputs": [
    {
     "data": {
      "text/plain": [
       "0"
      ]
     },
     "execution_count": 65,
     "metadata": {},
     "output_type": "execute_result"
    }
   ],
   "source": [
    "ar.min()"
   ]
  },
  {
   "cell_type": "markdown",
   "id": "ba142cbd",
   "metadata": {},
   "source": [
    "#### maximum value"
   ]
  },
  {
   "cell_type": "code",
   "execution_count": 66,
   "id": "b729a841",
   "metadata": {},
   "outputs": [
    {
     "data": {
      "text/plain": [
       "9"
      ]
     },
     "execution_count": 66,
     "metadata": {},
     "output_type": "execute_result"
    }
   ],
   "source": [
    "ar.max()"
   ]
  },
  {
   "cell_type": "markdown",
   "id": "7fb647eb",
   "metadata": {},
   "source": [
    "#### mean value"
   ]
  },
  {
   "cell_type": "code",
   "execution_count": 67,
   "id": "e4a2b4f1",
   "metadata": {},
   "outputs": [
    {
     "data": {
      "text/plain": [
       "4.5"
      ]
     },
     "execution_count": 67,
     "metadata": {},
     "output_type": "execute_result"
    }
   ],
   "source": [
    "ar.mean()"
   ]
  },
  {
   "cell_type": "markdown",
   "id": "ea03777b",
   "metadata": {},
   "source": [
    "#### median"
   ]
  },
  {
   "cell_type": "code",
   "execution_count": 68,
   "id": "3ad2542d",
   "metadata": {},
   "outputs": [
    {
     "data": {
      "text/plain": [
       "4.5"
      ]
     },
     "execution_count": 68,
     "metadata": {},
     "output_type": "execute_result"
    }
   ],
   "source": [
    "np.median(ar)"
   ]
  },
  {
   "cell_type": "code",
   "execution_count": 69,
   "id": "020f1c4c",
   "metadata": {},
   "outputs": [
    {
     "data": {
      "text/plain": [
       "array([78, 89, 54, 12, 79, 65])"
      ]
     },
     "execution_count": 69,
     "metadata": {},
     "output_type": "execute_result"
    }
   ],
   "source": [
    "ar=np.array([78,89,54,12,79,65])\n",
    "ar"
   ]
  },
  {
   "cell_type": "markdown",
   "id": "eda71673",
   "metadata": {},
   "source": [
    "#### index value of minimum number in array"
   ]
  },
  {
   "cell_type": "code",
   "execution_count": 70,
   "id": "cec0fdb0",
   "metadata": {},
   "outputs": [
    {
     "data": {
      "text/plain": [
       "3"
      ]
     },
     "execution_count": 70,
     "metadata": {},
     "output_type": "execute_result"
    }
   ],
   "source": [
    "ar.argmin()"
   ]
  },
  {
   "cell_type": "markdown",
   "id": "4fb9672b",
   "metadata": {},
   "source": [
    "#### index value of maximum value in the array"
   ]
  },
  {
   "cell_type": "code",
   "execution_count": 71,
   "id": "ed87628e",
   "metadata": {},
   "outputs": [
    {
     "data": {
      "text/plain": [
       "1"
      ]
     },
     "execution_count": 71,
     "metadata": {},
     "output_type": "execute_result"
    }
   ],
   "source": [
    "ar.argmax()"
   ]
  },
  {
   "cell_type": "markdown",
   "id": "d5712231",
   "metadata": {},
   "source": [
    "### variance"
   ]
  },
  {
   "cell_type": "code",
   "execution_count": 72,
   "id": "d09ffbb1",
   "metadata": {},
   "outputs": [
    {
     "data": {
      "text/plain": [
       "640.4722222222222"
      ]
     },
     "execution_count": 72,
     "metadata": {},
     "output_type": "execute_result"
    }
   ],
   "source": [
    "np.var(ar)"
   ]
  },
  {
   "cell_type": "markdown",
   "id": "9b55e7cb",
   "metadata": {},
   "source": [
    "#### standard deviation"
   ]
  },
  {
   "cell_type": "code",
   "execution_count": 73,
   "id": "dbd35f74",
   "metadata": {},
   "outputs": [
    {
     "data": {
      "text/plain": [
       "25.307552671529148"
      ]
     },
     "execution_count": 73,
     "metadata": {},
     "output_type": "execute_result"
    }
   ],
   "source": [
    "np.std(ar)"
   ]
  },
  {
   "cell_type": "markdown",
   "id": "ff79e4be",
   "metadata": {},
   "source": [
    "### percentile"
   ]
  },
  {
   "cell_type": "code",
   "execution_count": 1,
   "id": "5ef05524",
   "metadata": {},
   "outputs": [],
   "source": [
    "import numpy as np"
   ]
  },
  {
   "cell_type": "code",
   "execution_count": 2,
   "id": "45a7a4b1",
   "metadata": {},
   "outputs": [
    {
     "data": {
      "text/plain": [
       "array([78,  8, 54, 12, 79, 65])"
      ]
     },
     "execution_count": 2,
     "metadata": {},
     "output_type": "execute_result"
    }
   ],
   "source": [
    "ar=np.array([78,8,54,12,79,65])\n",
    "ar"
   ]
  },
  {
   "cell_type": "code",
   "execution_count": 3,
   "id": "c8a1f1b9",
   "metadata": {},
   "outputs": [
    {
     "data": {
      "text/plain": [
       "74.75"
      ]
     },
     "execution_count": 3,
     "metadata": {},
     "output_type": "execute_result"
    }
   ],
   "source": [
    "np.percentile(ar,75)"
   ]
  },
  {
   "cell_type": "code",
   "execution_count": 4,
   "id": "617ab157",
   "metadata": {},
   "outputs": [
    {
     "data": {
      "text/plain": [
       "59.5"
      ]
     },
     "execution_count": 4,
     "metadata": {},
     "output_type": "execute_result"
    }
   ],
   "source": [
    "np.percentile(ar,50)"
   ]
  },
  {
   "cell_type": "code",
   "execution_count": 5,
   "id": "01876fa4",
   "metadata": {},
   "outputs": [
    {
     "data": {
      "text/plain": [
       "22.5"
      ]
     },
     "execution_count": 5,
     "metadata": {},
     "output_type": "execute_result"
    }
   ],
   "source": [
    "np.percentile(ar,25)"
   ]
  },
  {
   "cell_type": "code",
   "execution_count": 6,
   "id": "00da1c3d",
   "metadata": {},
   "outputs": [
    {
     "data": {
      "text/plain": [
       "8.0"
      ]
     },
     "execution_count": 6,
     "metadata": {},
     "output_type": "execute_result"
    }
   ],
   "source": [
    "np.percentile(ar,0)"
   ]
  },
  {
   "cell_type": "code",
   "execution_count": 7,
   "id": "11a331a0",
   "metadata": {},
   "outputs": [
    {
     "data": {
      "text/plain": [
       "79.0"
      ]
     },
     "execution_count": 7,
     "metadata": {},
     "output_type": "execute_result"
    }
   ],
   "source": [
    "np.percentile(ar,100)"
   ]
  },
  {
   "cell_type": "markdown",
   "id": "1e1e91c6",
   "metadata": {},
   "source": [
    "### copy of an array"
   ]
  },
  {
   "cell_type": "markdown",
   "id": "6948cbfa",
   "metadata": {},
   "source": [
    "#### changes in the old array not affected the copied array"
   ]
  },
  {
   "cell_type": "code",
   "execution_count": 8,
   "id": "402958a8",
   "metadata": {},
   "outputs": [
    {
     "name": "stdout",
     "output_type": "stream",
     "text": [
      "[12 23 34 89 56]\n",
      "[12 23 34 45 56]\n"
     ]
    }
   ],
   "source": [
    "ac=np.array([12,23,34,45,56])\n",
    "y=ac.copy()\n",
    "ac[3]=89\n",
    "print(ac)\n",
    "print(y)"
   ]
  },
  {
   "cell_type": "markdown",
   "id": "b77c9f3a",
   "metadata": {},
   "source": [
    "### view"
   ]
  },
  {
   "cell_type": "markdown",
   "id": "da74f151",
   "metadata": {},
   "source": [
    "#### changes made in old aray olso reflect the copied array"
   ]
  },
  {
   "cell_type": "code",
   "execution_count": 9,
   "id": "d8cbe66f",
   "metadata": {},
   "outputs": [
    {
     "name": "stdout",
     "output_type": "stream",
     "text": [
      "[12 23 34 89 56]\n",
      "[12 23 34 89 56]\n"
     ]
    }
   ],
   "source": [
    "ac=np.array([12,23,34,45,56])\n",
    "y=ac.view()\n",
    "ac[3]=89\n",
    "print(ac)\n",
    "print(y)"
   ]
  },
  {
   "cell_type": "markdown",
   "id": "2a4197e1",
   "metadata": {},
   "source": [
    "### diff b/w copy and view"
   ]
  },
  {
   "cell_type": "markdown",
   "id": "25968109",
   "metadata": {},
   "source": [
    "###### copy is a new array and view is just a view of the original array.\n",
    "##### the copy owns the data and any changes made to the copy will not affect original array and any mades to the original array will not affect the copy.\n",
    "###### the view does not own the data and any changes made to the view will affect the original array and any changes made to the original array will affect the view."
   ]
  },
  {
   "cell_type": "markdown",
   "id": "2f6260d8",
   "metadata": {},
   "source": [
    "## base"
   ]
  },
  {
   "cell_type": "code",
   "execution_count": null,
   "id": "55e0f7ff",
   "metadata": {},
   "outputs": [],
   "source": [
    "##numpy array has the attribute base it return none if we use copy if use view it return the original one"
   ]
  },
  {
   "cell_type": "code",
   "execution_count": 11,
   "id": "edc715df",
   "metadata": {},
   "outputs": [
    {
     "name": "stdout",
     "output_type": "stream",
     "text": [
      "None\n",
      "[12 23 34 45 56]\n"
     ]
    }
   ],
   "source": [
    "ac=np.array([12,23,34,45,56])\n",
    "y=ac.copy()\n",
    "x=ac.view()\n",
    "print(y.base)\n",
    "print(x.base)"
   ]
  },
  {
   "cell_type": "markdown",
   "id": "4215160a",
   "metadata": {},
   "source": [
    "### reshaping"
   ]
  },
  {
   "cell_type": "code",
   "execution_count": 12,
   "id": "88b2765c",
   "metadata": {},
   "outputs": [
    {
     "data": {
      "text/plain": [
       "array([ 1,  2, 34, 45, 56, 67, 78, 89])"
      ]
     },
     "execution_count": 12,
     "metadata": {},
     "output_type": "execute_result"
    }
   ],
   "source": [
    "ar=np.array([1,2,34,45,56,67,78,89])\n",
    "ar"
   ]
  },
  {
   "cell_type": "code",
   "execution_count": 13,
   "id": "2e8213e8",
   "metadata": {},
   "outputs": [
    {
     "name": "stdout",
     "output_type": "stream",
     "text": [
      "[[ 1  2 34 45]\n",
      " [56 67 78 89]]\n"
     ]
    }
   ],
   "source": [
    "n=ar.reshape(2,4) ## reshaping the aaray first value represnt row secnd is column\n",
    "print(n)"
   ]
  },
  {
   "cell_type": "code",
   "execution_count": 14,
   "id": "e2373c40",
   "metadata": {},
   "outputs": [
    {
     "data": {
      "text/plain": [
       "array([ 1,  2, 34, 45, 56, 67, 78])"
      ]
     },
     "execution_count": 14,
     "metadata": {},
     "output_type": "execute_result"
    }
   ],
   "source": [
    "ar1=np.array([1,2,34,45,56,67,78])\n",
    "ar1"
   ]
  },
  {
   "cell_type": "code",
   "execution_count": 15,
   "id": "c39e9e3b",
   "metadata": {},
   "outputs": [
    {
     "ename": "ValueError",
     "evalue": "cannot reshape array of size 7 into shape (2,3)",
     "output_type": "error",
     "traceback": [
      "\u001b[1;31m---------------------------------------------------------------------------\u001b[0m",
      "\u001b[1;31mValueError\u001b[0m                                Traceback (most recent call last)",
      "Input \u001b[1;32mIn [15]\u001b[0m, in \u001b[0;36m<cell line: 1>\u001b[1;34m()\u001b[0m\n\u001b[1;32m----> 1\u001b[0m n\u001b[38;5;241m=\u001b[39m\u001b[43mar1\u001b[49m\u001b[38;5;241;43m.\u001b[39;49m\u001b[43mreshape\u001b[49m\u001b[43m(\u001b[49m\u001b[38;5;241;43m2\u001b[39;49m\u001b[43m,\u001b[49m\u001b[38;5;241;43m3\u001b[39;49m\u001b[43m)\u001b[49m\n\u001b[0;32m      2\u001b[0m \u001b[38;5;28mprint\u001b[39m(n)\n",
      "\u001b[1;31mValueError\u001b[0m: cannot reshape array of size 7 into shape (2,3)"
     ]
    }
   ],
   "source": [
    "n=ar1.reshape(2,3)\n",
    "print(n)"
   ]
  },
  {
   "cell_type": "code",
   "execution_count": 16,
   "id": "b142b063",
   "metadata": {},
   "outputs": [
    {
     "ename": "ValueError",
     "evalue": "cannot reshape array of size 7 into shape (2,2)",
     "output_type": "error",
     "traceback": [
      "\u001b[1;31m---------------------------------------------------------------------------\u001b[0m",
      "\u001b[1;31mValueError\u001b[0m                                Traceback (most recent call last)",
      "Input \u001b[1;32mIn [16]\u001b[0m, in \u001b[0;36m<cell line: 1>\u001b[1;34m()\u001b[0m\n\u001b[1;32m----> 1\u001b[0m n\u001b[38;5;241m=\u001b[39m\u001b[43mar1\u001b[49m\u001b[38;5;241;43m.\u001b[39;49m\u001b[43mreshape\u001b[49m\u001b[43m(\u001b[49m\u001b[38;5;241;43m2\u001b[39;49m\u001b[43m,\u001b[49m\u001b[38;5;241;43m2\u001b[39;49m\u001b[43m)\u001b[49m\n\u001b[0;32m      2\u001b[0m \u001b[38;5;28mprint\u001b[39m(n)\n",
      "\u001b[1;31mValueError\u001b[0m: cannot reshape array of size 7 into shape (2,2)"
     ]
    }
   ],
   "source": [
    "n=ar1.reshape(2,2)\n",
    "print(n)"
   ]
  },
  {
   "cell_type": "markdown",
   "id": "2e85ccf1",
   "metadata": {},
   "source": [
    "### iterating array"
   ]
  },
  {
   "cell_type": "code",
   "execution_count": 17,
   "id": "48f822c8",
   "metadata": {},
   "outputs": [
    {
     "name": "stdout",
     "output_type": "stream",
     "text": [
      "1\n",
      "2\n",
      "34\n",
      "45\n",
      "56\n",
      "67\n",
      "78\n",
      "89\n"
     ]
    }
   ],
   "source": [
    "for i in ar:\n",
    "    print(i)"
   ]
  },
  {
   "cell_type": "code",
   "execution_count": 18,
   "id": "1ef1bad2",
   "metadata": {},
   "outputs": [
    {
     "name": "stdout",
     "output_type": "stream",
     "text": [
      "[ 1  2 34 45]\n",
      "[56 67 78 89]\n"
     ]
    }
   ],
   "source": [
    "for i in n:\n",
    "    print(i)"
   ]
  },
  {
   "cell_type": "code",
   "execution_count": 19,
   "id": "663b780d",
   "metadata": {},
   "outputs": [
    {
     "name": "stdout",
     "output_type": "stream",
     "text": [
      "1\n",
      "2\n",
      "34\n",
      "45\n",
      "56\n",
      "67\n",
      "78\n",
      "89\n"
     ]
    }
   ],
   "source": [
    "for i in n:\n",
    "    for j in i:\n",
    "        print(j)"
   ]
  },
  {
   "cell_type": "markdown",
   "id": "96c16df9",
   "metadata": {},
   "source": [
    "## join two array"
   ]
  },
  {
   "cell_type": "code",
   "execution_count": 20,
   "id": "32e655a2",
   "metadata": {},
   "outputs": [
    {
     "name": "stdout",
     "output_type": "stream",
     "text": [
      "[1 2 3 4 5 6]\n"
     ]
    }
   ],
   "source": [
    "a=np.array([1,2,3])\n",
    "b=np.array([4,5,6])\n",
    "con=np.concatenate((a,b))\n",
    "print(con)"
   ]
  },
  {
   "cell_type": "code",
   "execution_count": 21,
   "id": "0ce873db",
   "metadata": {},
   "outputs": [
    {
     "name": "stdout",
     "output_type": "stream",
     "text": [
      "[[1 2 3]\n",
      " [4 5 6]]\n",
      "[[ 7  8  9]\n",
      " [10 11 12]]\n"
     ]
    }
   ],
   "source": [
    "c=np.array([[1,2,3],[4,5,6]])\n",
    "d=np.array([[7,8,9],[10,11,12]])\n",
    "print(c)\n",
    "print(d)"
   ]
  },
  {
   "cell_type": "code",
   "execution_count": 22,
   "id": "37a9befa",
   "metadata": {},
   "outputs": [
    {
     "name": "stdout",
     "output_type": "stream",
     "text": [
      "[[ 1  2  3]\n",
      " [ 4  5  6]\n",
      " [ 7  8  9]\n",
      " [10 11 12]]\n"
     ]
    }
   ],
   "source": [
    "con1=np.concatenate((c,d),axis=0)\n",
    "print(con1)"
   ]
  },
  {
   "cell_type": "code",
   "execution_count": 26,
   "id": "067d7918",
   "metadata": {},
   "outputs": [
    {
     "name": "stdout",
     "output_type": "stream",
     "text": [
      "[[ 1  2  3  6  7  8  9  8]\n",
      " [ 4  5  6  2 10 11 12 78]]\n"
     ]
    }
   ],
   "source": [
    "c=np.array([[1,2,3,6],[4,5,6,2]])\n",
    "d=np.array([[7,8,9,8],[10,11,12,78]])\n",
    "\n",
    "con1=np.concatenate((c,d),axis=1)\n",
    "print(con1)\n"
   ]
  },
  {
   "cell_type": "markdown",
   "id": "7f5c548c",
   "metadata": {},
   "source": [
    "### joining array using stack function"
   ]
  },
  {
   "cell_type": "code",
   "execution_count": 27,
   "id": "c56a81cf",
   "metadata": {},
   "outputs": [
    {
     "data": {
      "text/plain": [
       "array([1, 2, 3])"
      ]
     },
     "execution_count": 27,
     "metadata": {},
     "output_type": "execute_result"
    }
   ],
   "source": [
    "c=np.array([1,2,3])\n",
    "d=np.array([7,8,12])\n",
    "c"
   ]
  },
  {
   "cell_type": "code",
   "execution_count": 28,
   "id": "91970e18",
   "metadata": {},
   "outputs": [
    {
     "data": {
      "text/plain": [
       "array([ 7,  8, 12])"
      ]
     },
     "execution_count": 28,
     "metadata": {},
     "output_type": "execute_result"
    }
   ],
   "source": [
    "d"
   ]
  },
  {
   "cell_type": "code",
   "execution_count": 29,
   "id": "1dd309f8",
   "metadata": {},
   "outputs": [
    {
     "name": "stdout",
     "output_type": "stream",
     "text": [
      "[[ 1  7]\n",
      " [ 2  8]\n",
      " [ 3 12]]\n"
     ]
    }
   ],
   "source": [
    "con1=np.stack((c,d),axis=1)\n",
    "print(con1)"
   ]
  },
  {
   "cell_type": "code",
   "execution_count": 30,
   "id": "ff7e8445",
   "metadata": {},
   "outputs": [
    {
     "name": "stdout",
     "output_type": "stream",
     "text": [
      "[[ 1  2  3]\n",
      " [ 7  8 12]]\n"
     ]
    }
   ],
   "source": [
    "con1=np.stack((c,d),axis=0)\n",
    "print(con1)"
   ]
  },
  {
   "cell_type": "markdown",
   "id": "6756227a",
   "metadata": {},
   "source": [
    "## fstack()"
   ]
  },
  {
   "cell_type": "code",
   "execution_count": 31,
   "id": "712acf69",
   "metadata": {},
   "outputs": [
    {
     "name": "stdout",
     "output_type": "stream",
     "text": [
      "[ 1  2  3  7  8 12]\n"
     ]
    }
   ],
   "source": [
    "c=np.array([1,2,3])\n",
    "d=np.array([7,8,12])\n",
    "con1=np.hstack((c,d))\n",
    "print(con1)"
   ]
  },
  {
   "cell_type": "markdown",
   "id": "07f0fdec",
   "metadata": {},
   "source": [
    "### vstack()"
   ]
  },
  {
   "cell_type": "code",
   "execution_count": 32,
   "id": "51b16269",
   "metadata": {},
   "outputs": [
    {
     "name": "stdout",
     "output_type": "stream",
     "text": [
      "[[ 1  2  3]\n",
      " [ 7  8 12]]\n"
     ]
    }
   ],
   "source": [
    "c=np.array([1,2,3])\n",
    "d=np.array([7,8,12])\n",
    "con1=np.vstack((c,d))\n",
    "print(con1)"
   ]
  },
  {
   "cell_type": "code",
   "execution_count": 33,
   "id": "2deaa1ab",
   "metadata": {},
   "outputs": [
    {
     "data": {
      "text/plain": [
       "2"
      ]
     },
     "execution_count": 33,
     "metadata": {},
     "output_type": "execute_result"
    }
   ],
   "source": [
    "con1.ndim"
   ]
  },
  {
   "cell_type": "markdown",
   "id": "c6375c8b",
   "metadata": {},
   "source": [
    "## dstack()"
   ]
  },
  {
   "cell_type": "code",
   "execution_count": 34,
   "id": "c646d653",
   "metadata": {},
   "outputs": [
    {
     "name": "stdout",
     "output_type": "stream",
     "text": [
      "[[[ 1  7]\n",
      "  [ 2  8]\n",
      "  [ 3 12]\n",
      "  [96 78]]]\n"
     ]
    }
   ],
   "source": [
    "c=np.array([1,2,3,96])\n",
    "d=np.array([7,8,12,78])\n",
    "con1=np.dstack((c,d))\n",
    "print(con1)"
   ]
  },
  {
   "cell_type": "code",
   "execution_count": 35,
   "id": "ebbebe1c",
   "metadata": {},
   "outputs": [
    {
     "data": {
      "text/plain": [
       "dtype('int32')"
      ]
     },
     "execution_count": 35,
     "metadata": {},
     "output_type": "execute_result"
    }
   ],
   "source": [
    "con1.dtype"
   ]
  },
  {
   "cell_type": "code",
   "execution_count": 36,
   "id": "df8f1f00",
   "metadata": {},
   "outputs": [
    {
     "data": {
      "text/plain": [
       "3"
      ]
     },
     "execution_count": 36,
     "metadata": {},
     "output_type": "execute_result"
    }
   ],
   "source": [
    "con1.ndim"
   ]
  },
  {
   "cell_type": "markdown",
   "id": "d7178163",
   "metadata": {},
   "source": [
    "### splitting array"
   ]
  },
  {
   "cell_type": "code",
   "execution_count": 37,
   "id": "57176baf",
   "metadata": {},
   "outputs": [
    {
     "data": {
      "text/plain": [
       "array([31, 21, 30, 44, 15, 61, 70, 18,  9])"
      ]
     },
     "execution_count": 37,
     "metadata": {},
     "output_type": "execute_result"
    }
   ],
   "source": [
    "a1=np.array([31,21,30,44,15,61,70,18,9])\n",
    "a1"
   ]
  },
  {
   "cell_type": "code",
   "execution_count": 38,
   "id": "450f36c8",
   "metadata": {},
   "outputs": [
    {
     "name": "stdout",
     "output_type": "stream",
     "text": [
      "[array([31, 21, 30]), array([44, 15]), array([61, 70]), array([18,  9])]\n"
     ]
    }
   ],
   "source": [
    "n=np.array_split(a1,4) ## number after array shows how much array need \n",
    "print(n)"
   ]
  },
  {
   "cell_type": "code",
   "execution_count": 39,
   "id": "31fea521",
   "metadata": {},
   "outputs": [
    {
     "name": "stdout",
     "output_type": "stream",
     "text": [
      "[array([31, 21]), array([30, 44]), array([15, 61]), array([70, 18]), array([9])]\n"
     ]
    }
   ],
   "source": [
    "a1=np.array([31,21,30,44,15,61,70,18,9])\n",
    "n=np.array_split(a1,5)\n",
    "print(n)"
   ]
  },
  {
   "cell_type": "markdown",
   "id": "6b596d13",
   "metadata": {},
   "source": [
    "#### splitting 2D array"
   ]
  },
  {
   "cell_type": "code",
   "execution_count": 40,
   "id": "ac114720",
   "metadata": {},
   "outputs": [
    {
     "name": "stdout",
     "output_type": "stream",
     "text": [
      "[[ 1  2  3]\n",
      " [ 4  5  6]\n",
      " [ 7  8  9]\n",
      " [10 11 12]]\n"
     ]
    }
   ],
   "source": [
    "a2=np.array([[1,2,3],[4,5,6],[7,8,9],[10,11,12]])\n",
    "print(a2)"
   ]
  },
  {
   "cell_type": "code",
   "execution_count": 41,
   "id": "f87dca06",
   "metadata": {},
   "outputs": [
    {
     "name": "stdout",
     "output_type": "stream",
     "text": [
      "[array([[1, 2, 3],\n",
      "       [4, 5, 6]]), array([[ 7,  8,  9],\n",
      "       [10, 11, 12]])]\n"
     ]
    }
   ],
   "source": [
    "n1=np.array_split(a2,2)## splitting array in to 2\n",
    "print(n1)"
   ]
  },
  {
   "cell_type": "code",
   "execution_count": 42,
   "id": "566a488a",
   "metadata": {},
   "outputs": [
    {
     "name": "stdout",
     "output_type": "stream",
     "text": [
      "[[ 7  8  9]\n",
      " [10 11 12]]\n"
     ]
    }
   ],
   "source": [
    "print(n1[1]) ##represet secnd st array"
   ]
  },
  {
   "cell_type": "code",
   "execution_count": 43,
   "id": "2363984b",
   "metadata": {},
   "outputs": [
    {
     "name": "stdout",
     "output_type": "stream",
     "text": [
      "[[1 2 3]\n",
      " [4 5 6]]\n"
     ]
    }
   ],
   "source": [
    "print(n1[0])"
   ]
  },
  {
   "cell_type": "markdown",
   "id": "eb5b9cac",
   "metadata": {},
   "source": [
    "### hsplit()"
   ]
  },
  {
   "cell_type": "code",
   "execution_count": 44,
   "id": "1d75d38b",
   "metadata": {},
   "outputs": [
    {
     "data": {
      "text/plain": [
       "array([[ 1,  2,  3],\n",
       "       [ 4,  5,  6],\n",
       "       [ 7,  8,  9],\n",
       "       [10, 11, 12]])"
      ]
     },
     "execution_count": 44,
     "metadata": {},
     "output_type": "execute_result"
    }
   ],
   "source": [
    "a2=np.array([[1,2,3],[4,5,6],[7,8,9],[10,11,12]])\n",
    "a2"
   ]
  },
  {
   "cell_type": "code",
   "execution_count": 45,
   "id": "322326c2",
   "metadata": {},
   "outputs": [
    {
     "name": "stdout",
     "output_type": "stream",
     "text": [
      "[array([[ 1],\n",
      "       [ 4],\n",
      "       [ 7],\n",
      "       [10]]), array([[ 2],\n",
      "       [ 5],\n",
      "       [ 8],\n",
      "       [11]]), array([[ 3],\n",
      "       [ 6],\n",
      "       [ 9],\n",
      "       [12]])]\n"
     ]
    }
   ],
   "source": [
    "n1=np.hsplit(a2,3)\n",
    "print(n1)"
   ]
  },
  {
   "cell_type": "code",
   "execution_count": 46,
   "id": "46366ba7",
   "metadata": {},
   "outputs": [
    {
     "data": {
      "text/plain": [
       "array([[ 2],\n",
       "       [ 5],\n",
       "       [ 8],\n",
       "       [11]])"
      ]
     },
     "execution_count": 46,
     "metadata": {},
     "output_type": "execute_result"
    }
   ],
   "source": [
    "n1[1]"
   ]
  },
  {
   "cell_type": "code",
   "execution_count": 47,
   "id": "10175653",
   "metadata": {},
   "outputs": [
    {
     "data": {
      "text/plain": [
       "array([[ 1],\n",
       "       [ 4],\n",
       "       [ 7],\n",
       "       [10]])"
      ]
     },
     "execution_count": 47,
     "metadata": {},
     "output_type": "execute_result"
    }
   ],
   "source": [
    "n1[0]"
   ]
  },
  {
   "cell_type": "markdown",
   "id": "fe4f78fc",
   "metadata": {},
   "source": [
    "### vsplit()"
   ]
  },
  {
   "cell_type": "code",
   "execution_count": 48,
   "id": "a7a7feda",
   "metadata": {},
   "outputs": [
    {
     "data": {
      "text/plain": [
       "array([[ 1,  2,  3],\n",
       "       [ 4,  5,  6],\n",
       "       [ 7,  8,  9],\n",
       "       [10, 11, 12]])"
      ]
     },
     "execution_count": 48,
     "metadata": {},
     "output_type": "execute_result"
    }
   ],
   "source": [
    "a2=np.array(([1,2,3],[4,5,6],[7,8,9],[10,11,12]))\n",
    "a2"
   ]
  },
  {
   "cell_type": "code",
   "execution_count": 49,
   "id": "1f80fa03",
   "metadata": {},
   "outputs": [
    {
     "name": "stdout",
     "output_type": "stream",
     "text": [
      "[array([[1, 2, 3],\n",
      "       [4, 5, 6]]), array([[ 7,  8,  9],\n",
      "       [10, 11, 12]])]\n"
     ]
    }
   ],
   "source": [
    "n1=np.vsplit(a2,2)\n",
    "print(n1)"
   ]
  },
  {
   "cell_type": "markdown",
   "id": "e3fc8800",
   "metadata": {},
   "source": [
    "### dsplit()"
   ]
  },
  {
   "cell_type": "code",
   "execution_count": 50,
   "id": "9ebe6357",
   "metadata": {},
   "outputs": [
    {
     "data": {
      "text/plain": [
       "array([[[1, 2, 3],\n",
       "        [4, 5, 6],\n",
       "        [7, 8, 9]]])"
      ]
     },
     "execution_count": 50,
     "metadata": {},
     "output_type": "execute_result"
    }
   ],
   "source": [
    "c=np.array([[[1,2,3],[4,5,6],[7,8,9]]])\n",
    "c"
   ]
  },
  {
   "cell_type": "code",
   "execution_count": 51,
   "id": "441f8658",
   "metadata": {},
   "outputs": [
    {
     "name": "stdout",
     "output_type": "stream",
     "text": [
      "[array([[[1],\n",
      "        [4],\n",
      "        [7]]]), array([[[2],\n",
      "        [5],\n",
      "        [8]]]), array([[[3],\n",
      "        [6],\n",
      "        [9]]])]\n"
     ]
    }
   ],
   "source": [
    "con1=np.dsplit(c,3)\n",
    "print(con1)"
   ]
  },
  {
   "cell_type": "markdown",
   "id": "6d3b0ee2",
   "metadata": {},
   "source": [
    "### searching array"
   ]
  },
  {
   "cell_type": "code",
   "execution_count": 53,
   "id": "65357d15",
   "metadata": {},
   "outputs": [
    {
     "name": "stdout",
     "output_type": "stream",
     "text": [
      "(array([0, 5], dtype=int64),)\n"
     ]
    }
   ],
   "source": [
    "arr=np.array([56,67,89,99,12,56,77])\n",
    "a=np.where(arr==56) ## 56 in 2 time so 2 position will reflect\n",
    "print(a)"
   ]
  },
  {
   "cell_type": "code",
   "execution_count": 55,
   "id": "9f0c2774",
   "metadata": {},
   "outputs": [
    {
     "name": "stdout",
     "output_type": "stream",
     "text": [
      "(array([], dtype=int64),)\n"
     ]
    }
   ],
   "source": [
    "a=np.where(arr==1)## shows empty bz no such elemnt so empty\n",
    "print(a)"
   ]
  },
  {
   "cell_type": "code",
   "execution_count": 56,
   "id": "b52e8d77",
   "metadata": {},
   "outputs": [
    {
     "name": "stdout",
     "output_type": "stream",
     "text": [
      "(array([4], dtype=int64),)\n"
     ]
    }
   ],
   "source": [
    "a=np.where(arr==12)\n",
    "print(a)"
   ]
  },
  {
   "cell_type": "markdown",
   "id": "c4b52b35",
   "metadata": {},
   "source": [
    "### replace elemnts in array"
   ]
  },
  {
   "cell_type": "code",
   "execution_count": 57,
   "id": "476c1cb0",
   "metadata": {},
   "outputs": [
    {
     "data": {
      "text/plain": [
       "array([ 1,  2,  3,  4,  5,  6,  7,  8,  9, 10, 11, 12, 13, 14, 15, 16, 17,\n",
       "       18, 19, 20])"
      ]
     },
     "execution_count": 57,
     "metadata": {},
     "output_type": "execute_result"
    }
   ],
   "source": [
    "ar=np.arange(1,21)\n",
    "ar"
   ]
  },
  {
   "cell_type": "code",
   "execution_count": 58,
   "id": "33c8bb86",
   "metadata": {},
   "outputs": [
    {
     "name": "stdout",
     "output_type": "stream",
     "text": [
      "[ 1  0  3  0  5  0  7  0  9  0 11  0 13  0 15  0 17  0 19  0]\n"
     ]
    }
   ],
   "source": [
    "rep=np.where(ar%2==0,0,ar) ## replce even number with zero\n",
    "print(rep)"
   ]
  },
  {
   "cell_type": "markdown",
   "id": "c1ec4961",
   "metadata": {},
   "source": [
    "### missing value in an array"
   ]
  },
  {
   "cell_type": "code",
   "execution_count": 59,
   "id": "839770a4",
   "metadata": {},
   "outputs": [
    {
     "data": {
      "text/plain": [
       "array([ 1., nan, 78., 86., 90., nan,  8., nan])"
      ]
     },
     "execution_count": 59,
     "metadata": {},
     "output_type": "execute_result"
    }
   ],
   "source": [
    "a=np.array([1,np.nan,78,86,90,np.nan,8,np.nan])\n",
    "a"
   ]
  },
  {
   "cell_type": "code",
   "execution_count": 60,
   "id": "ecae9897",
   "metadata": {},
   "outputs": [
    {
     "data": {
      "text/plain": [
       "array([False,  True, False, False, False,  True, False,  True])"
      ]
     },
     "execution_count": 60,
     "metadata": {},
     "output_type": "execute_result"
    }
   ],
   "source": [
    "np.isnan(a)"
   ]
  },
  {
   "cell_type": "code",
   "execution_count": 61,
   "id": "5a32b0c8",
   "metadata": {},
   "outputs": [
    {
     "data": {
      "text/plain": [
       "array([ 1., nan, 78., 86., 90., nan,  8., nan])"
      ]
     },
     "execution_count": 61,
     "metadata": {},
     "output_type": "execute_result"
    }
   ],
   "source": [
    "a"
   ]
  },
  {
   "cell_type": "markdown",
   "id": "1b1128e8",
   "metadata": {},
   "source": [
    "##### replace all missing value in an array with 65"
   ]
  },
  {
   "cell_type": "code",
   "execution_count": 62,
   "id": "65b18dc3",
   "metadata": {},
   "outputs": [
    {
     "data": {
      "text/plain": [
       "array([ 1., 65., 78., 86., 90., 65.,  8., 65.])"
      ]
     },
     "execution_count": 62,
     "metadata": {},
     "output_type": "execute_result"
    }
   ],
   "source": [
    "a[np.isnan(a)]=65\n",
    "a"
   ]
  },
  {
   "cell_type": "markdown",
   "id": "a92928ee",
   "metadata": {},
   "source": [
    "#### check if array has any null values"
   ]
  },
  {
   "cell_type": "code",
   "execution_count": 63,
   "id": "8ca05d86",
   "metadata": {},
   "outputs": [
    {
     "data": {
      "text/plain": [
       "False"
      ]
     },
     "execution_count": 63,
     "metadata": {},
     "output_type": "execute_result"
    }
   ],
   "source": [
    "np.isnan(a).any() ### check if array has any null values"
   ]
  },
  {
   "cell_type": "markdown",
   "id": "23c4749c",
   "metadata": {},
   "source": [
    "### common items between 2 arrays"
   ]
  },
  {
   "cell_type": "code",
   "execution_count": 64,
   "id": "c2347eed",
   "metadata": {},
   "outputs": [],
   "source": [
    "a=np.array([10,11,12,13,14,15,16,17])\n",
    "b=np.array([12,13,45,67,34,10,11,78])"
   ]
  },
  {
   "cell_type": "code",
   "execution_count": 65,
   "id": "2e3f9608",
   "metadata": {},
   "outputs": [
    {
     "data": {
      "text/plain": [
       "array([10, 11, 12, 13])"
      ]
     },
     "execution_count": 65,
     "metadata": {},
     "output_type": "execute_result"
    }
   ],
   "source": [
    "np.intersect1d(a,b)"
   ]
  },
  {
   "cell_type": "markdown",
   "id": "76ff1ab3",
   "metadata": {},
   "source": [
    "### remove common elemnts"
   ]
  },
  {
   "cell_type": "code",
   "execution_count": 66,
   "id": "69fdbf2f",
   "metadata": {},
   "outputs": [
    {
     "data": {
      "text/plain": [
       "array([10, 11, 12, 13, 14, 15, 16, 17])"
      ]
     },
     "execution_count": 66,
     "metadata": {},
     "output_type": "execute_result"
    }
   ],
   "source": [
    "a"
   ]
  },
  {
   "cell_type": "code",
   "execution_count": 67,
   "id": "1011708e",
   "metadata": {},
   "outputs": [
    {
     "data": {
      "text/plain": [
       "array([12, 13, 45, 67, 34, 10, 11, 78])"
      ]
     },
     "execution_count": 67,
     "metadata": {},
     "output_type": "execute_result"
    }
   ],
   "source": [
    "b"
   ]
  },
  {
   "cell_type": "code",
   "execution_count": 68,
   "id": "93da6214",
   "metadata": {},
   "outputs": [
    {
     "data": {
      "text/plain": [
       "array([14, 15, 16, 17])"
      ]
     },
     "execution_count": 68,
     "metadata": {},
     "output_type": "execute_result"
    }
   ],
   "source": [
    "np.setdiff1d(a,b) ##elemnts in a not in b"
   ]
  },
  {
   "cell_type": "code",
   "execution_count": 69,
   "id": "0504cf31",
   "metadata": {},
   "outputs": [
    {
     "data": {
      "text/plain": [
       "array([34, 45, 67, 78])"
      ]
     },
     "execution_count": 69,
     "metadata": {},
     "output_type": "execute_result"
    }
   ],
   "source": [
    "np.setdiff1d(b,a)"
   ]
  },
  {
   "cell_type": "markdown",
   "id": "b675454a",
   "metadata": {},
   "source": [
    "### checking for elemnts in an array using isin()"
   ]
  },
  {
   "cell_type": "code",
   "execution_count": 70,
   "id": "04fc8c87",
   "metadata": {},
   "outputs": [
    {
     "data": {
      "text/plain": [
       "array([10, 20, 30, 40, 50, 60, 78])"
      ]
     },
     "execution_count": 70,
     "metadata": {},
     "output_type": "execute_result"
    }
   ],
   "source": [
    "a=np.array([10,20,30,40,50,60,78])\n",
    "a"
   ]
  },
  {
   "cell_type": "code",
   "execution_count": 71,
   "id": "29502a03",
   "metadata": {},
   "outputs": [
    {
     "data": {
      "text/plain": [
       "array([False, False, False,  True, False,  True, False])"
      ]
     },
     "execution_count": 71,
     "metadata": {},
     "output_type": "execute_result"
    }
   ],
   "source": [
    "np.isin(a,[40,60])"
   ]
  },
  {
   "cell_type": "markdown",
   "id": "af4380ba",
   "metadata": {},
   "source": [
    "### reverse an array"
   ]
  },
  {
   "cell_type": "code",
   "execution_count": 72,
   "id": "f94a6298",
   "metadata": {},
   "outputs": [
    {
     "data": {
      "text/plain": [
       "array([100,  20, 130,  40, 150,  60,  78])"
      ]
     },
     "execution_count": 72,
     "metadata": {},
     "output_type": "execute_result"
    }
   ],
   "source": [
    "a=np.array([100,20,130,40,150,60,78])\n",
    "a"
   ]
  },
  {
   "cell_type": "code",
   "execution_count": 73,
   "id": "6f90b8fb",
   "metadata": {},
   "outputs": [
    {
     "data": {
      "text/plain": [
       "array([ 78,  60, 150,  40, 130,  20, 100])"
      ]
     },
     "execution_count": 73,
     "metadata": {},
     "output_type": "execute_result"
    }
   ],
   "source": [
    "np.flip(a) ### flip is used to reverse an array"
   ]
  },
  {
   "cell_type": "markdown",
   "id": "a8f4c9e0",
   "metadata": {},
   "source": [
    "### sort an array"
   ]
  },
  {
   "cell_type": "code",
   "execution_count": 74,
   "id": "d933191e",
   "metadata": {},
   "outputs": [
    {
     "data": {
      "text/plain": [
       "array([67, 43, 23, 11, 89, 65, 45, 88])"
      ]
     },
     "execution_count": 74,
     "metadata": {},
     "output_type": "execute_result"
    }
   ],
   "source": [
    "b=np.array([67,43,23,11,89,65,45,88])\n",
    "b"
   ]
  },
  {
   "cell_type": "code",
   "execution_count": 75,
   "id": "164ab7b0",
   "metadata": {},
   "outputs": [
    {
     "data": {
      "text/plain": [
       "array([11, 23, 43, 45, 65, 67, 88, 89])"
      ]
     },
     "execution_count": 75,
     "metadata": {},
     "output_type": "execute_result"
    }
   ],
   "source": [
    "np.sort(b)"
   ]
  },
  {
   "cell_type": "markdown",
   "id": "a0f47bd3",
   "metadata": {},
   "source": [
    "### operation on 2D array"
   ]
  },
  {
   "cell_type": "code",
   "execution_count": 76,
   "id": "176008b8",
   "metadata": {},
   "outputs": [
    {
     "data": {
      "text/plain": [
       "array([[100,   2,  93],\n",
       "       [ 41,   5,   6],\n",
       "       [  7,   8,  90]])"
      ]
     },
     "execution_count": 76,
     "metadata": {},
     "output_type": "execute_result"
    }
   ],
   "source": [
    "a=np.array([[100,2,93],[41,5,6],[7,8,90]])\n",
    "a"
   ]
  },
  {
   "cell_type": "code",
   "execution_count": 78,
   "id": "81d528f1",
   "metadata": {},
   "outputs": [
    {
     "data": {
      "text/plain": [
       "array([7, 2, 6])"
      ]
     },
     "execution_count": 78,
     "metadata": {},
     "output_type": "execute_result"
    }
   ],
   "source": [
    "np.amin(a,axis=0) ##columnwise min value"
   ]
  },
  {
   "cell_type": "code",
   "execution_count": 79,
   "id": "9a9a7c62",
   "metadata": {},
   "outputs": [
    {
     "data": {
      "text/plain": [
       "array([2, 5, 7])"
      ]
     },
     "execution_count": 79,
     "metadata": {},
     "output_type": "execute_result"
    }
   ],
   "source": [
    "np.amin(a,axis=1) ##row wise min value"
   ]
  },
  {
   "cell_type": "code",
   "execution_count": 80,
   "id": "7502870f",
   "metadata": {},
   "outputs": [
    {
     "data": {
      "text/plain": [
       "array([100,   8,  93])"
      ]
     },
     "execution_count": 80,
     "metadata": {},
     "output_type": "execute_result"
    }
   ],
   "source": [
    "np.amax(a,axis=0) ##column wise max value"
   ]
  },
  {
   "cell_type": "code",
   "execution_count": 81,
   "id": "1baa3749",
   "metadata": {},
   "outputs": [
    {
     "data": {
      "text/plain": [
       "array([100,  41,  90])"
      ]
     },
     "execution_count": 81,
     "metadata": {},
     "output_type": "execute_result"
    }
   ],
   "source": [
    "np.amax(a,axis=1) ##row wisw max value"
   ]
  },
  {
   "cell_type": "code",
   "execution_count": null,
   "id": "de77c2f5",
   "metadata": {},
   "outputs": [],
   "source": []
  }
 ],
 "metadata": {
  "kernelspec": {
   "display_name": "Python 3 (ipykernel)",
   "language": "python",
   "name": "python3"
  },
  "language_info": {
   "codemirror_mode": {
    "name": "ipython",
    "version": 3
   },
   "file_extension": ".py",
   "mimetype": "text/x-python",
   "name": "python",
   "nbconvert_exporter": "python",
   "pygments_lexer": "ipython3",
   "version": "3.9.12"
  }
 },
 "nbformat": 4,
 "nbformat_minor": 5
}
