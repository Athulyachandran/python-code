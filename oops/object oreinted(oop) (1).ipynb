{
 "cells": [
  {
   "cell_type": "code",
   "execution_count": 22,
   "id": "a3a7bc3e",
   "metadata": {},
   "outputs": [
    {
     "name": "stdout",
     "output_type": "stream",
     "text": [
      "10\n"
     ]
    }
   ],
   "source": [
    "class my:\n",
    "    v=10\n",
    "obj=my()\n",
    "print(obj.v)"
   ]
  },
  {
   "cell_type": "code",
   "execution_count": 3,
   "id": "727cd327",
   "metadata": {},
   "outputs": [
    {
     "name": "stdout",
     "output_type": "stream",
     "text": [
      "id: 12\n",
      "name: divya\n",
      "welcome for joining!!! divya\n"
     ]
    }
   ],
   "source": [
    "class employee:\n",
    "    def __init__(self,name,eid):\n",
    "        self.name=name\n",
    "        self.eid=eid\n",
    "    def greet(self):\n",
    "        print(\"welcome for joining!!!\",self.name)\n",
    "emp1=employee(\"divya\",12)\n",
    "print(\"id:\",emp1.eid)\n",
    "print(\"name:\",emp1.name)\n",
    "emp1.greet()"
   ]
  },
  {
   "cell_type": "code",
   "execution_count": 11,
   "id": "eb56a089",
   "metadata": {},
   "outputs": [
    {
     "name": "stdout",
     "output_type": "stream",
     "text": [
      "enter number3\n",
      "enter number2\n",
      "sum 5\n"
     ]
    }
   ],
   "source": [
    "class num:\n",
    "    def sum(self,a,b):\n",
    "        s=a+b\n",
    "        print(\"sum\",s)\n",
    "a=int(input(\"enter number\"))\n",
    "b=int(input(\"enter number\"))\n",
    "obj=num()\n",
    "obj.sum(a,b)"
   ]
  },
  {
   "cell_type": "code",
   "execution_count": 6,
   "id": "ca996296",
   "metadata": {},
   "outputs": [
    {
     "name": "stdout",
     "output_type": "stream",
     "text": [
      "welcome for joining !!! shalinu\n"
     ]
    }
   ],
   "source": [
    "class employee:\n",
    "    def greet(self):\n",
    "        s=\"shalinu\"\n",
    "        print(\"welcome for joining !!!\",s)\n",
    "emp1=employee()\n",
    "emp1.greet()\n"
   ]
  },
  {
   "cell_type": "markdown",
   "id": "fa2277b0",
   "metadata": {},
   "source": [
    "### built_ class_attribute"
   ]
  },
  {
   "cell_type": "code",
   "execution_count": 4,
   "id": "234fe34c",
   "metadata": {},
   "outputs": [
    {
     "name": "stdout",
     "output_type": "stream",
     "text": [
      "{'__module__': '__main__', '__init__': <function employee.__init__ at 0x00000260225E1C10>, 'greet': <function employee.greet at 0x00000260225E1430>, '__dict__': <attribute '__dict__' of 'employee' objects>, '__weakref__': <attribute '__weakref__' of 'employee' objects>, '__doc__': None}\n"
     ]
    }
   ],
   "source": [
    "print(employee.__dict__)"
   ]
  },
  {
   "cell_type": "code",
   "execution_count": 5,
   "id": "688e917b",
   "metadata": {},
   "outputs": [
    {
     "name": "stdout",
     "output_type": "stream",
     "text": [
      "None\n"
     ]
    }
   ],
   "source": [
    "print(employee.__doc__)"
   ]
  },
  {
   "cell_type": "code",
   "execution_count": 7,
   "id": "4e590d2c",
   "metadata": {},
   "outputs": [
    {
     "name": "stdout",
     "output_type": "stream",
     "text": [
      "employee\n"
     ]
    }
   ],
   "source": [
    "print(employee.__name__)"
   ]
  },
  {
   "cell_type": "code",
   "execution_count": 31,
   "id": "2ba2e853",
   "metadata": {},
   "outputs": [
    {
     "name": "stdout",
     "output_type": "stream",
     "text": [
      "__main__\n"
     ]
    }
   ],
   "source": [
    "print(employee.__module__)"
   ]
  },
  {
   "cell_type": "code",
   "execution_count": 32,
   "id": "558110f4",
   "metadata": {},
   "outputs": [
    {
     "name": "stdout",
     "output_type": "stream",
     "text": [
      "(<class 'object'>,)\n"
     ]
    }
   ],
   "source": [
    "print(employee.__bases__)"
   ]
  },
  {
   "cell_type": "code",
   "execution_count": 6,
   "id": "c9ef8053",
   "metadata": {},
   "outputs": [
    {
     "data": {
      "text/plain": [
       "'rohini'"
      ]
     },
     "execution_count": 6,
     "metadata": {},
     "output_type": "execute_result"
    }
   ],
   "source": [
    "emp1.name=\"rohini\"\n",
    "emp1.name"
   ]
  },
  {
   "cell_type": "code",
   "execution_count": 7,
   "id": "e08ce3a1",
   "metadata": {},
   "outputs": [
    {
     "name": "stdout",
     "output_type": "stream",
     "text": [
      "id: 12\n",
      "name: divya\n",
      "welcome for joining!!! divya\n"
     ]
    }
   ],
   "source": [
    "class employee:\n",
    "    def __init__(self,name,eid):\n",
    "        self.name=name\n",
    "        self.eid=eid\n",
    "    def greet(self):\n",
    "        print(\"welcome for joining!!!\",self.name)\n",
    "emp1=employee(\"divya\",12)\n",
    "print(\"id:\",emp1.eid)\n",
    "print(\"name:\",emp1.name)\n",
    "emp1.greet()"
   ]
  },
  {
   "cell_type": "code",
   "execution_count": 8,
   "id": "e6c77677",
   "metadata": {},
   "outputs": [],
   "source": [
    "del emp1.eid"
   ]
  },
  {
   "cell_type": "code",
   "execution_count": 9,
   "id": "b37c3154",
   "metadata": {},
   "outputs": [
    {
     "ename": "AttributeError",
     "evalue": "'employee' object has no attribute 'eid'",
     "output_type": "error",
     "traceback": [
      "\u001b[1;31m---------------------------------------------------------------------------\u001b[0m",
      "\u001b[1;31mAttributeError\u001b[0m                            Traceback (most recent call last)",
      "Input \u001b[1;32mIn [9]\u001b[0m, in \u001b[0;36m<cell line: 1>\u001b[1;34m()\u001b[0m\n\u001b[1;32m----> 1\u001b[0m \u001b[43memp1\u001b[49m\u001b[38;5;241;43m.\u001b[39;49m\u001b[43meid\u001b[49m\n",
      "\u001b[1;31mAttributeError\u001b[0m: 'employee' object has no attribute 'eid'"
     ]
    }
   ],
   "source": [
    "emp1.eid ## after deleting file we cant teke that"
   ]
  },
  {
   "cell_type": "markdown",
   "id": "97f52345",
   "metadata": {},
   "source": [
    "### constructor"
   ]
  },
  {
   "cell_type": "markdown",
   "id": "cdd4ddd6",
   "metadata": {},
   "source": [
    "#### parameterised constructor"
   ]
  },
  {
   "cell_type": "code",
   "execution_count": 5,
   "id": "0aa6a0a0",
   "metadata": {},
   "outputs": [
    {
     "name": "stdout",
     "output_type": "stream",
     "text": [
      "id: 12\n",
      "name: divya\n",
      "welcome for joining!!! divya\n"
     ]
    }
   ],
   "source": [
    "class employee:\n",
    "    def __init__(self,name,eid):\n",
    "        self.name=name\n",
    "        self.eid=eid\n",
    "    def greet(self):\n",
    "        print(\"welcome for joining!!!\",self.name)\n",
    "emp1=employee(\"divya\",12) ##passing parameter\n",
    "print(\"id:\",emp1.eid)\n",
    "print(\"name:\",emp1.name)\n",
    "emp1.greet()"
   ]
  },
  {
   "cell_type": "markdown",
   "id": "6bc2279a",
   "metadata": {},
   "source": [
    "#### non parameterised constructor"
   ]
  },
  {
   "cell_type": "code",
   "execution_count": 8,
   "id": "3b9769df",
   "metadata": {},
   "outputs": [
    {
     "name": "stdout",
     "output_type": "stream",
     "text": [
      "welcome for joining!! riyas 78\n"
     ]
    }
   ],
   "source": [
    "class employee:\n",
    "    def __init__self(self):\n",
    "        print(\"i am creting non parameterised constructor\")\n",
    "        \n",
    "    def greet(self,name,eid):\n",
    "        print(\"welcome for joining!!\",name,eid)\n",
    "emp1=employee()\n",
    "emp1.greet(\"riyas\",78)\n",
    "        "
   ]
  },
  {
   "cell_type": "markdown",
   "id": "5f2e0e97",
   "metadata": {},
   "source": [
    "### inheritance"
   ]
  },
  {
   "cell_type": "markdown",
   "id": "025c76c1",
   "metadata": {},
   "source": [
    "##### simple inheretance"
   ]
  },
  {
   "cell_type": "code",
   "execution_count": 9,
   "id": "77df1fcf",
   "metadata": {},
   "outputs": [],
   "source": [
    "class person: ##parent class\n",
    "    def __init__(self,name,age):\n",
    "        self.name=name\n",
    "        self.age=age\n",
    "    def personinfo(self):\n",
    "        print(\"name:\",self.name,\"age:\",self.age)"
   ]
  },
  {
   "cell_type": "code",
   "execution_count": 10,
   "id": "e0727837",
   "metadata": {},
   "outputs": [
    {
     "name": "stdout",
     "output_type": "stream",
     "text": [
      "student details\n",
      "name: hari age: 23\n",
      "id: 101 fees: 6700\n"
     ]
    }
   ],
   "source": [
    "class student(person): ##child lass\n",
    "    def __init__(self,name,age,stid,fees):\n",
    "        person.__init__(self,name,age)\n",
    "        self.stid=stid\n",
    "        self.fees=fees\n",
    "    def studentinfo(self):\n",
    "        print(\"id:\",self.stid,\"fees:\",self.fees)\n",
    "s1=student(\"hari\",23,101,6700)\n",
    "print(\"student details\")\n",
    "s1.personinfo()\n",
    "s1.studentinfo()"
   ]
  },
  {
   "cell_type": "code",
   "execution_count": 27,
   "id": "182bc2b0",
   "metadata": {},
   "outputs": [],
   "source": [
    "class employee():\n",
    "    def __init__(self,name,age,gender,salary):\n",
    "        self.name=name\n",
    "        self.age=age\n",
    "        self.gender=gender\n",
    "        self.salary=salary\n",
    "    def empdetails(self):\n",
    "        print(\"name:\",self.name,\"age:\",self.age,\"gender:\",self.gender,\"salary:\",self.salary)"
   ]
  },
  {
   "cell_type": "code",
   "execution_count": 29,
   "id": "ca451880",
   "metadata": {},
   "outputs": [
    {
     "name": "stdout",
     "output_type": "stream",
     "text": [
      "employee details\n",
      "name: hari age: 24 gender: male salary: 34000\n",
      "department name: logistics technology: python\n"
     ]
    }
   ],
   "source": [
    "class employeedept(employee):\n",
    "    def __init__(self,name,age,gender,salary,deptname,technology):\n",
    "        employee.__init__(self,name,age,gender,salary)\n",
    "        self.deptname=deptname\n",
    "        self.technology=technology\n",
    "    def deptdetails(self):\n",
    "        print(\"department name:\",self.deptname,\"technology:\",self.technology)\n",
    "s1=employeedept(\"hari\",24,\"male\",34000,\"logistics\",\"python\")\n",
    "print(\"employee details\")\n",
    "s1.empdetails()\n",
    "s1.deptdetails()"
   ]
  },
  {
   "cell_type": "code",
   "execution_count": 30,
   "id": "40b771b9",
   "metadata": {},
   "outputs": [
    {
     "name": "stdout",
     "output_type": "stream",
     "text": [
      "name: athu year: 20\n",
      "passout: 2013 dep: cse\n"
     ]
    }
   ],
   "source": [
    "class college:\n",
    "    def __init__(self,name,year):\n",
    "        self.name=name\n",
    "        self.year=year\n",
    "    def collegeinfo(self):\n",
    "        print(\"name:\",self.name,\"year:\",self.year)\n",
    "class details(college):\n",
    "    def __init__(self,name,year,passout,dep):\n",
    "        college.__init__(self,name,year)\n",
    "        self.passout=passout\n",
    "        self.dep=dep\n",
    "    def detailsinfo(self):\n",
    "        print(\"passout:\",self.passout,\"dep:\",self.dep)\n",
    "R=details(\"athu\",20,2013,\"cse\")\n",
    "R.collegeinfo()\n",
    "R.detailsinfo()"
   ]
  },
  {
   "cell_type": "markdown",
   "id": "bc329fd5",
   "metadata": {},
   "source": [
    "### single inheritance"
   ]
  },
  {
   "cell_type": "code",
   "execution_count": 23,
   "id": "88cb8b97",
   "metadata": {},
   "outputs": [],
   "source": [
    "class add:\n",
    "    def __init__(self,num1,num2):\n",
    "        self.num1=num1\n",
    "        self.num2=num2\n",
    "        \n",
    "        \n",
    "    def addinfo(self):\n",
    "        total=self.num1+self.num2\n",
    "        print(\"the add of two number\",total)"
   ]
  },
  {
   "cell_type": "code",
   "execution_count": 24,
   "id": "26f4225b",
   "metadata": {},
   "outputs": [
    {
     "name": "stdout",
     "output_type": "stream",
     "text": [
      "the add of two number 15\n",
      "the sub of two numbers 5\n"
     ]
    }
   ],
   "source": [
    "class sub(add):\n",
    "    def __init__(self,num1,num2):\n",
    "        add.__init__(self,num1,num2)\n",
    "        \n",
    "        \n",
    "    def subinfo(self):\n",
    "        sub=self.num1-self.num2\n",
    "        print(\"the sub of two numbers\",sub)\n",
    "obj=sub(10,5)\n",
    "obj.addinfo()\n",
    "obj.subinfo()\n",
    "        \n",
    "    \n"
   ]
  },
  {
   "cell_type": "code",
   "execution_count": 18,
   "id": "1f46d704",
   "metadata": {},
   "outputs": [
    {
     "name": "stdout",
     "output_type": "stream",
     "text": [
      "function\n",
      "function2\n"
     ]
    }
   ],
   "source": [
    "class Base:\n",
    "    def fun1(self):\n",
    "        print(\"function\")\n",
    "        \n",
    "class Derived(Base):\n",
    "    def fun2(self):\n",
    "        print(\"function2\")\n",
    "d=Derived()\n",
    "d.fun1()\n",
    "d.fun2()"
   ]
  },
  {
   "cell_type": "code",
   "execution_count": 3,
   "id": "f620c084",
   "metadata": {},
   "outputs": [
    {
     "name": "stdout",
     "output_type": "stream",
     "text": [
      "name: athulya age: 22\n",
      "payment is: 12000 self.id: 1\n"
     ]
    }
   ],
   "source": [
    "class employee:\n",
    "    def __init__(self,name,age):\n",
    "        self.name=name\n",
    "        self.age=age\n",
    "    def empdetails(self):\n",
    "        print(\"name:\",self.name,\"age:\",self.age)\n",
    "class salary(employee):\n",
    "    def __init__(self,name,age,pay,id):\n",
    "        employee.__init__(self,name,age)\n",
    "        self.pay=pay\n",
    "        self.id=id\n",
    "    def saldetail(self):\n",
    "        print(\"payment is:\",self.pay,\"self.id:\",self.id)\n",
    "d=salary(\"athulya\",22,12000,1)\n",
    "d.empdetails()\n",
    "d.saldetail()\n",
    "        \n",
    "        \n",
    "    "
   ]
  },
  {
   "cell_type": "markdown",
   "id": "e6abdba3",
   "metadata": {},
   "source": [
    "### multiple inheritance"
   ]
  },
  {
   "cell_type": "code",
   "execution_count": null,
   "id": "0112e9dc",
   "metadata": {},
   "outputs": [],
   "source": [
    "class member(object):\n",
    "     def __init__(self,name,id):\n",
    "        self.name=name\n",
    "        self.id=id\n",
    "        \n",
    "class workers(object):\n",
    "    def __init__(self,payment,jobtitle):\n",
    "        self.payment=payment\n",
    "        self.jobtitle=jobtitle\n",
    "        \n",
    "class teamleader(member,worker):\n",
    "    def __init__(self,name,id,payment,jobtitle):\n",
    "        member.__init__(self,name,id)\n",
    "        workers.__init__(self,payment,jobtitle)\n",
    "        print(\"name is\",self.name,)\n",
    "        \n",
    "    "
   ]
  },
  {
   "cell_type": "code",
   "execution_count": null,
   "id": "6be975c4",
   "metadata": {},
   "outputs": [],
   "source": [
    "class parent1:\n",
    "    def __init__(self,a,b):\n",
    "        self.a=a\n",
    "        self.b=b\n",
    "    def addinfo(self):\n",
    "        total=self.a+self.b\n",
    "        print(\"the add of two number\",total)\n",
    "class parent2:\n",
    "    def__init__(self,c,d):\n",
    "        self.c=c\n",
    "        self.d=d\n",
    "        def subinfo(self):\n",
    "        total=self.c-self.d\n",
    "        print(\"the add of two number\",total)\n",
    "        \n",
    "class answer(parent1,parent2):\n",
    "    def __init__(self,a,b,c,d):\n",
    "        parent1.__init__(self,a,b)\n",
    "        parent2.__init__(self,c,d)\n",
    "        \n"
   ]
  },
  {
   "cell_type": "code",
   "execution_count": 1,
   "id": "feadad9d",
   "metadata": {},
   "outputs": [],
   "source": [
    "class employee:\n",
    "    def __init__(self,name,age,gender):\n",
    "        self.name=name\n",
    "        self.age=age\n",
    "        self.gender=gender\n",
    "    def empdetails(self):\n",
    "        print(\"name:\",self.name,\"age:\",self.age,\"gender:\",self.gender)"
   ]
  },
  {
   "cell_type": "code",
   "execution_count": 11,
   "id": "6ff9baf7",
   "metadata": {},
   "outputs": [],
   "source": [
    "class salary:\n",
    "    def __init__(self,sal):\n",
    "        self.sal=sal\n",
    "    def empsalary(self):\n",
    "        print(\"salary:\",self.sal)"
   ]
  },
  {
   "cell_type": "code",
   "execution_count": 12,
   "id": "8b559cc8",
   "metadata": {},
   "outputs": [
    {
     "name": "stdout",
     "output_type": "stream",
     "text": [
      "employee details\n",
      "Name:  arjun \n",
      "Age:  24 \n",
      "Gender:  male\n",
      "salary: 10000\n",
      "department name: logistics technology: python\n"
     ]
    }
   ],
   "source": [
    "class employeedept(employee,salary):\n",
    "    def __init__(self,name,age,gender,sal,deptname,technology):\n",
    "        employee.__init__(self,name,age,gender)\n",
    "        salary.__init__(self,sal)\n",
    "        self.deptname=deptname\n",
    "        self.technology=technology\n",
    "    def deptdetails(self):\n",
    "        print(\"department name:\",self.deptname,\"technology:\",self.technology)\n",
    "e1=employeedept(\"arjun\",\"24\",\"male\",10000,\"logistics\",\"python\")\n",
    "print(\"employee details\")\n",
    "e1.empdetails()\n",
    "e1.empsalary()\n",
    "e1.deptdetails()"
   ]
  },
  {
   "cell_type": "code",
   "execution_count": 19,
   "id": "7a5b8db0",
   "metadata": {},
   "outputs": [
    {
     "name": "stdout",
     "output_type": "stream",
     "text": [
      "function1\n",
      "function2\n",
      "function3\n"
     ]
    }
   ],
   "source": [
    "class Base1:\n",
    "    def fun1(self):\n",
    "        print(\"function1\")\n",
    "class Base2:\n",
    "    def fun2(self):\n",
    "        print(\"function2\")\n",
    "class Derived(Base1,Base2):\n",
    "    def fun3(self):\n",
    "        print(\"function3\")\n",
    "d=Derived()\n",
    "d.fun1()\n",
    "d.fun2()\n",
    "d.fun3()"
   ]
  },
  {
   "cell_type": "markdown",
   "id": "f020215a",
   "metadata": {},
   "source": [
    "### multilevel inheritance"
   ]
  },
  {
   "cell_type": "code",
   "execution_count": 13,
   "id": "017a2c75",
   "metadata": {},
   "outputs": [
    {
     "ename": "NameError",
     "evalue": "name 'captains' is not defined",
     "output_type": "error",
     "traceback": [
      "\u001b[1;31m---------------------------------------------------------------------------\u001b[0m",
      "\u001b[1;31mNameError\u001b[0m                                 Traceback (most recent call last)",
      "Input \u001b[1;32mIn [13]\u001b[0m, in \u001b[0;36m<cell line: 15>\u001b[1;34m()\u001b[0m\n\u001b[0;32m     12\u001b[0m         game\u001b[38;5;241m.\u001b[39mshow_game(\u001b[38;5;28mself\u001b[39m)\n\u001b[0;32m     13\u001b[0m         \u001b[38;5;28mprint\u001b[39m(\u001b[38;5;28mself\u001b[39m\u001b[38;5;241m.\u001b[39mcaptains)\n\u001b[1;32m---> 15\u001b[0m \u001b[38;5;28;01mclass\u001b[39;00m \u001b[38;5;21;01mvice_captain\u001b[39;00m(\u001b[43mcaptains\u001b[49m):\n\u001b[0;32m     16\u001b[0m     \u001b[38;5;28;01mdef\u001b[39;00m \u001b[38;5;21m__init__\u001b[39m(\u001b[38;5;28mself\u001b[39m,games,captains,vice_captains):\n\u001b[0;32m     17\u001b[0m         captain\u001b[38;5;241m.\u001b[39m\u001b[38;5;21m__init__\u001b[39m(\u001b[38;5;28mself\u001b[39m,games,captains)\n",
      "\u001b[1;31mNameError\u001b[0m: name 'captains' is not defined"
     ]
    }
   ],
   "source": [
    "class game:\n",
    "    def __init__(self,games):\n",
    "        self.games=games\n",
    "    def show_game(self):\n",
    "        print(\"welcome in game:\",self.games)\n",
    "        \n",
    "class captian(game):\n",
    "    def __init__(self,games,captains):\n",
    "        game.__init__(self,games)\n",
    "        self.captains=captians\n",
    "    def show_captain(self):\n",
    "        game.show_game(self)\n",
    "        print(self.captains)\n",
    "        \n",
    "class vice_captain(captains):\n",
    "    def __init__(self,games,captains,vice_captains):\n",
    "        captain.__init__(self,games,captains)\n",
    "        self.vice_captains=vice_captains\n",
    "        captain.show_captain(self)\n",
    "    def show_vice_captain(self):\n",
    "        print(self.vice_captains)\n",
    "        \n",
    "gc=vice_captain(\"ceicket\",\"rohit\",\"virat\")\n",
    "gc.show_captain()\n",
    "gc.show_vice_captains()\n",
    "    "
   ]
  },
  {
   "cell_type": "code",
   "execution_count": 5,
   "id": "40a94797",
   "metadata": {},
   "outputs": [],
   "source": [
    "class add:\n",
    "    def __init__(self,num1,num2):\n",
    "        self.num1=num1\n",
    "        self.num2=num2\n",
    "    def addinfo(self):\n",
    "        total=self.num1+self.num2\n",
    "        print(\"the add of two number\",total)\n",
    "    \n",
    "\n",
    "    \n",
    "    "
   ]
  },
  {
   "cell_type": "code",
   "execution_count": 6,
   "id": "d0202494",
   "metadata": {},
   "outputs": [],
   "source": [
    "class sub(add):\n",
    "    def __init__(self,num1,num2):\n",
    "        add.__init__(self,num1,num2)\n",
    "        \n",
    "        \n",
    "    def subinfo(self):\n",
    "        sub=self.num1-self.num2\n",
    "        print(\"the sub of two numbers\",sub)"
   ]
  },
  {
   "cell_type": "code",
   "execution_count": null,
   "id": "324ae0b3",
   "metadata": {},
   "outputs": [],
   "source": [
    "class mul(sub):\n",
    "    def __init__(self,num1,num2):\n",
    "        "
   ]
  },
  {
   "cell_type": "code",
   "execution_count": 7,
   "id": "440012d2",
   "metadata": {},
   "outputs": [
    {
     "name": "stdout",
     "output_type": "stream",
     "text": [
      "Employee Details\n",
      "Name:  Arjun \n",
      "Age:  24 \n",
      "Gender:  Male\n",
      "Salary:  10000\n",
      "Department Name:  Logistics \n",
      "Technology:  Python\n"
     ]
    }
   ],
   "source": [
    "class employee:\n",
    "    def __init__(self,name,age,gender):\n",
    "        self.name=name\n",
    "        self.age=age\n",
    "        self.gender=gender\n",
    "    def empdetails(self):\n",
    "        print(\"Name: \",self.name,\"\\nAge: \",self.age,\"\\nGender: \",self.gender)\n",
    "        \n",
    "class salary(employee):\n",
    "    def __init__(self,name,age,gender,sal):\n",
    "        employee.__init__(self,name,age,gender)\n",
    "        self.sal=sal\n",
    "    def empsalary(self):\n",
    "        employee.empdetails(self)\n",
    "        print(\"Salary: \",self.sal)\n",
    "        \n",
    "class employeedept(salary):\n",
    "    def __init__(self,name,age,gender,sal,deptname,technology):\n",
    "        salary.__init__(self,name,age,gender,sal)\n",
    "        self.deptname=deptname\n",
    "        self.technology=technology\n",
    "    def deptdetails(self):\n",
    "        salary.empsalary(self)\n",
    "        print(\"Department Name: \",self.deptname,\"\\nTechnology: \",self.technology)\n",
    "        \n",
    "e1=employeedept(\"Arjun\",\"24\",\"Male\",10000,\"Logistics\",\"Python\")\n",
    "print(\"Employee Details\")\n",
    "e1.deptdetails()"
   ]
  },
  {
   "cell_type": "code",
   "execution_count": 9,
   "id": "6764655a",
   "metadata": {},
   "outputs": [
    {
     "name": "stdout",
     "output_type": "stream",
     "text": [
      "Total number of doctors: 25\n",
      "MRI:  2\n",
      "MBBS Students:  20\n"
     ]
    }
   ],
   "source": [
    "class hospital:\n",
    "    def __init__(self,doctors):\n",
    "        self.doctors=doctors\n",
    "    def hospitalinfo(self):\n",
    "        print('Total number of doctors:',self.doctors)\n",
    "        \n",
    "class facility(hospital):\n",
    "    def __init__(self,doctors,MRI):\n",
    "        hospital.__init__(self,doctors)\n",
    "        self.MRI=MRI\n",
    "    def facilityinfo(self):\n",
    "        hospital.hospitalinfo(self)\n",
    "        print(\"MRI: \",self.MRI)\n",
    "        \n",
    "class doctors(facility):\n",
    "    def __init__(self,doctors,MRI,MBBS):\n",
    "        facility.__init__(self,doctors,MRI)\n",
    "        self.MBBS=MBBS\n",
    "    def doctorsinfo(self):\n",
    "        facility.facilityinfo(self)\n",
    "        print(\"MBBS Students: \",self.MBBS)\n",
    "        \n",
    "hs=doctors(25,2,20)\n",
    "hs.doctorsinfo()\n",
    "\n"
   ]
  },
  {
   "cell_type": "markdown",
   "id": "e3024ebe",
   "metadata": {},
   "source": [
    "### heirartial inheritance"
   ]
  },
  {
   "cell_type": "code",
   "execution_count": 17,
   "id": "a5d7fb84",
   "metadata": {},
   "outputs": [
    {
     "ename": "TypeError",
     "evalue": "Cannot create a consistent method resolution\norder (MRO) for bases employee, department",
     "output_type": "error",
     "traceback": [
      "\u001b[1;31m---------------------------------------------------------------------------\u001b[0m",
      "\u001b[1;31mTypeError\u001b[0m                                 Traceback (most recent call last)",
      "Input \u001b[1;32mIn [17]\u001b[0m, in \u001b[0;36m<cell line: 15>\u001b[1;34m()\u001b[0m\n\u001b[0;32m     13\u001b[0m     \u001b[38;5;28;01mdef\u001b[39;00m \u001b[38;5;21mdeptinfo\u001b[39m(\u001b[38;5;28mself\u001b[39m):\n\u001b[0;32m     14\u001b[0m         \u001b[38;5;28mprint\u001b[39m(\u001b[38;5;124m\"\u001b[39m\u001b[38;5;124mdepartment:\u001b[39m\u001b[38;5;124m\"\u001b[39m,\u001b[38;5;28mself\u001b[39m\u001b[38;5;241m.\u001b[39mdept,\u001b[38;5;124m\"\u001b[39m\u001b[38;5;124mtechnology:\u001b[39m\u001b[38;5;124m\"\u001b[39m,\u001b[38;5;28mself\u001b[39m\u001b[38;5;241m.\u001b[39mtechnology)\n\u001b[1;32m---> 15\u001b[0m \u001b[38;5;28;01mclass\u001b[39;00m \u001b[38;5;21;01mderived\u001b[39;00m(employee,department):\n\u001b[0;32m     16\u001b[0m     \u001b[38;5;28;01mdef\u001b[39;00m \u001b[38;5;21m__init__\u001b[39m(\u001b[38;5;28mself\u001b[39m,name,age,gender,dept,technology,salary):\n\u001b[0;32m     17\u001b[0m         department\u001b[38;5;241m.\u001b[39m\u001b[38;5;21m__init__\u001b[39m(\u001b[38;5;28mself\u001b[39m,name,age,gender,dept,technology)\n",
      "\u001b[1;31mTypeError\u001b[0m: Cannot create a consistent method resolution\norder (MRO) for bases employee, department"
     ]
    }
   ],
   "source": [
    "class employee:\n",
    "    def __init__(self,name,age,gender):\n",
    "        self.name=name\n",
    "        self.age=age\n",
    "        self.gender=gender\n",
    "    def empdetails(self):\n",
    "        print(\"name:\",self.name,\"age:\",self.age,\"gender:\",self.gender)\n",
    "class department(employee):\n",
    "    def __init__(self,name,age,gender,dept,technology):\n",
    "        employee.__init__(self,name,age,gender)\n",
    "        self.dept=dept\n",
    "        self.technology=technology\n",
    "    def deptinfo(self):\n",
    "        print(\"department:\",self.dept,\"technology:\",self.technology)\n",
    "class derived(employee,department):\n",
    "    def __init__(self,name,age,gender,dept,technology,salary):\n",
    "        department.__init__(self,name,age,gender,dept,technology)\n",
    "        self.salary=salary\n",
    "    def deri(self):\n",
    "        print(\"salary is\",self.salary)\n",
    "        \n",
    "d1=derived1()\n",
    "d2=derived2()\n",
    "d1.empdetails()\n",
    "d1.deptinfo()\n",
    "d2.empdetails()\n",
    "d2.deri()\n",
    "\n",
    "        \n",
    "        \n",
    "    "
   ]
  },
  {
   "cell_type": "markdown",
   "id": "cd08f11c",
   "metadata": {},
   "source": [
    "### single inheritance"
   ]
  },
  {
   "cell_type": "code",
   "execution_count": 4,
   "id": "15cd88ae",
   "metadata": {},
   "outputs": [
    {
     "name": "stdout",
     "output_type": "stream",
     "text": [
      "name: athulya age: 22\n",
      "payment is: 12000 self.id: 1\n"
     ]
    }
   ],
   "source": [
    "class employee:\n",
    "    def __init__(self,name,age):\n",
    "        self.name=name\n",
    "        self.age=age\n",
    "    def empdetails(self):\n",
    "        print(\"name:\",self.name,\"age:\",self.age)\n",
    "class salary(employee):\n",
    "    def __init__(self,name,age,pay,id):\n",
    "        employee.__init__(self,name,age)\n",
    "        self.pay=pay\n",
    "        self.id=id\n",
    "    def saldetail(self):\n",
    "        print(\"payment is:\",self.pay,\"self.id:\",self.id)\n",
    "d=salary(\"athulya\",22,12000,1)\n",
    "d.empdetails()\n",
    "d.saldetail()\n",
    "        \n",
    "        "
   ]
  },
  {
   "cell_type": "markdown",
   "id": "4700a5fb",
   "metadata": {},
   "source": [
    "### multiple inheritance"
   ]
  },
  {
   "cell_type": "code",
   "execution_count": null,
   "id": "e0c8c9f0",
   "metadata": {},
   "outputs": [],
   "source": [
    "class employee:\n",
    "    def __init__(self,name,age):\n",
    "        self.name=name\n",
    "        self.age=age\n",
    "    def empdetails(self):\n",
    "        print(\"name of employee is:\",self.name,\"age of employee is:\",self.age)\n",
    "        \n",
    "class department:\n",
    "    def __init__(self,deptname,deptblock):\n",
    "        self.deptname=deptname\n",
    "        self.deptblock=deptblock\n",
    "    def deptdetails(self):\n",
    "        print(\"department name is:\",self.deptname,\"block number of departments\",self.deptblock)\n",
    "class salary(employee,department):\n",
    "    def __init__(self,name,age,deptname,deptblock,salary,incentive):\n",
    "        employee.__init__(self,name,age)\n",
    "        department.__init__(self,deptname,deptblock)\n",
    "        self.salary=salary\n",
    "        self.incentive=incentive\n",
    "    def saldetails(self):\n",
    "        \n",
    "        print(\"salary of employee:\",self.salary,\"incentive of eac employee depends on:\",self.incentive)\n",
    "d=salary(\"athulya\",25,\"logistics\",\"block a\",15000,\"according to performance\")\n",
    "d.empdetails()\n",
    "d.deptdetails()\n",
    "d.saldetails()"
   ]
  },
  {
   "cell_type": "markdown",
   "id": "b8b710ad",
   "metadata": {},
   "source": [
    "### heirarchial inheritance"
   ]
  },
  {
   "cell_type": "code",
   "execution_count": 1,
   "id": "df9a650a",
   "metadata": {},
   "outputs": [
    {
     "name": "stdout",
     "output_type": "stream",
     "text": [
      "name of employee: athu age of employee 25\n",
      "department name is: cse block of particular department is: blockq\n",
      "salary of employee: 18000 incentive based on: according to performance\n"
     ]
    }
   ],
   "source": [
    "class employee:\n",
    "    def __init__(self,name,age):\n",
    "        self.name=name\n",
    "        self.age=age\n",
    "    def empdetails(self):\n",
    "        print(\"name of employee:\",self.name,\"age of employee\",self.age)\n",
    "class department(employee):\n",
    "    def __init__(self,departmentname,deptblock,name,age):\n",
    "        employee.__init__(self,name,age)\n",
    "        self.departmentname=departmentname\n",
    "        self.deptblock=deptblock\n",
    "    def deptdetails(self):\n",
    "        print(\"department name is:\",self.departmentname,\"block of particular department is:\",self.deptblock)\n",
    "class salary(employee):\n",
    "    def __init__(self,salary,incentive,name,age):\n",
    "        employee.__init__(self,name,age)\n",
    "        self.salary=salary\n",
    "        self.incentive=incentive\n",
    "    def salaryinfo(self):\n",
    "        print(\"salary of employee:\",self.salary,\"incentive based on:\",self.incentive)\n",
    "\n",
    "d=department(\"cse\",\"blockq\",\"athu\",25)\n",
    "d.empdetails()\n",
    "d.deptdetails()\n",
    "d1=salary(18000,\"according to performance\",\"athu\",25)\n",
    "d1.salaryinfo()\n",
    "\n",
    "\n"
   ]
  },
  {
   "cell_type": "markdown",
   "id": "69689789",
   "metadata": {},
   "source": [
    "### multilevel"
   ]
  },
  {
   "cell_type": "code",
   "execution_count": 3,
   "id": "017b8167",
   "metadata": {},
   "outputs": [
    {
     "name": "stdout",
     "output_type": "stream",
     "text": [
      "name of employee: athu age of employee is: 25\n",
      "salry of employee cse incentive of employee is: block2\n"
     ]
    }
   ],
   "source": [
    "class employee:\n",
    "    def __init__(self,name,age):\n",
    "        self.name=name\n",
    "        self.age=age\n",
    "    def empdetails(self):\n",
    "        print(\"name of employee:\",self.name,\"age of employee is:\",self.age)\n",
    "class department(employee):\n",
    "    def __init__(self,name,age,deptname,deptblock):\n",
    "        employee.__init__(self,name,age)\n",
    "        self.deptname=deptname\n",
    "        self.deptblock=deptblock\n",
    "    def deptinfo(self):\n",
    "        print(\"departmentname is:\",self.deptname,\"block number is:\",self.deptblock)\n",
    "class salary(department):\n",
    "    def __init__(self,name,age,salaryy,incentive,deptname,deptblock):\n",
    "        department.__init__(self,name,age,deptblock,deptname)\n",
    "    \n",
    "        self.salaryy=salaryy\n",
    "        self.incentive=incentive\n",
    "    def salinfo(self):\n",
    "        print(\"salry of employee\",self.salaryy,\"incentive of employee is:\",self.incentive)\n",
    "obj=salary(\"athu\",25,\"cse\",\"block2\",23000,\"according to performance\")\n",
    "obj.empdetails()\n",
    "obj.salinfo()\n",
    "\n",
    "\n",
    "        "
   ]
  },
  {
   "cell_type": "markdown",
   "id": "8019e04b",
   "metadata": {},
   "source": [
    "### hybrid"
   ]
  },
  {
   "cell_type": "code",
   "execution_count": 6,
   "id": "d44685dd",
   "metadata": {},
   "outputs": [
    {
     "name": "stdout",
     "output_type": "stream",
     "text": [
      "Hosiptal Details one\n",
      "Name of the Hospital: SVN Hospital\n",
      "No. of general doctors:  50\n",
      "No. of artho doctors:  10\n",
      "No. of surgeon doctors:  20\n",
      "Total No. of Doctors:  80\n",
      "MRI:  5\n",
      "MBBS Students:  780\n",
      "============================================\n",
      "Hosiptal Details two\n",
      "Name of the Hospital: SVN Hospital\n",
      "No. of general doctors:  50\n",
      "No. of artho doctors:  10\n",
      "No. of surgeon doctors:  20\n",
      "Total No. of Doctors:  80\n",
      "MRI:  5\n",
      "No. of Professors 70\n"
     ]
    }
   ],
   "source": [
    "class hospital:\n",
    "    def __init__(self,name):\n",
    "        self.name=name\n",
    "    def hospitalname(self):\n",
    "        print('Name of the Hospital:',self.name)\n",
    "        \n",
    "class specializeddoctors:\n",
    "    def __init__(self,general_doctor,artho_doctor,surgeon_doctor):\n",
    "        self.general_doctor=general_doctor\n",
    "        self.artho_doctor=artho_doctor\n",
    "        self.surgeon_doctor=surgeon_doctor\n",
    "    def doctors(self):\n",
    "        print(\"No. of general doctors: \",self.general_doctor)\n",
    "        print(\"No. of artho doctors: \",self.artho_doctor)\n",
    "        print(\"No. of surgeon doctors: \",self.surgeon_doctor)\n",
    "        \n",
    "\n",
    "class doctor_list(hospital,specializeddoctors):\n",
    "    def __init__(self,name,general_doctor,artho_doctor,surgeon_doctor,total):\n",
    "        hospital.__init__(self,name)\n",
    "        specializeddoctors.__init__(self,general_doctor,artho_doctor,surgeon_doctor)\n",
    "        self.total=total\n",
    "        \n",
    "    def totaldoctors(self):\n",
    "        hospital.hospitalname(self)\n",
    "        specializeddoctors.doctors(self)\n",
    "        print(\"Total No. of Doctors: \",self.total)\n",
    "class facility(doctor_list):\n",
    "    def __init__(self,name,general_doctor,artho_doctor,surgeon_doctor,total,MRI):\n",
    "        doctor_list.__init__(self,name,general_doctor,artho_doctor,surgeon_doctor,total)\n",
    "        self.MRI=MRI\n",
    "    def facilityinfo(self):\n",
    "        doctor_list.totaldoctors(self)\n",
    "        print(\"MRI: \",self.MRI)\n",
    "        \n",
    "class medical_students(facility):\n",
    "    def __init__(self,name,general_doctor,artho_doctor,surgeon_doctor,total,MRI,MBBS):\n",
    "        facility.__init__(self,name,general_doctor,artho_doctor,surgeon_doctor,total,MRI)\n",
    "        self.MBBS=MBBS\n",
    "    def doctorsinfo(self):\n",
    "        facility.facilityinfo(self)\n",
    "        print(\"MBBS Students: \",self.MBBS)\n",
    "        \n",
    "class totalprofessors(facility):\n",
    "    def __init__(self,name,general_doctor,artho_doctor,surgeon_doctor,total,MRI,professors):\n",
    "        facility.__init__(self,name,general_doctor,artho_doctor,surgeon_doctor,total,MRI)\n",
    "        self.professors=professors\n",
    "    def doctorsinfo(self):\n",
    "        facility.facilityinfo(self)\n",
    "        print(\"No. of Professors\",self.professors)\n",
    "print(\"Hosiptal Details one\")        \n",
    "a=medical_students(\"SVN Hospital\",\"50\",\"10\",\"20\",\"80\",\"5\",\"780\")\n",
    "a.doctorsinfo()\n",
    "print(\"============================================\")\n",
    "print(\"Hosiptal Details two\") \n",
    "b=totalprofessors(\"SVN Hospital\",\"50\",\"10\",\"20\",\"80\",\"5\",\"70\")\n",
    "b.doctorsinfo()\n",
    "\n"
   ]
  },
  {
   "cell_type": "markdown",
   "id": "330e84d4",
   "metadata": {},
   "source": [
    "### super"
   ]
  },
  {
   "cell_type": "markdown",
   "id": "dad58de1",
   "metadata": {},
   "source": [
    "#### The super() function is used to give access to methods and properties of a parent or sibling class.\n",
    "#### The super() function returns an object that represents the parent class."
   ]
  },
  {
   "cell_type": "code",
   "execution_count": 8,
   "id": "78818d7a",
   "metadata": {},
   "outputs": [
    {
     "name": "stdout",
     "output_type": "stream",
     "text": [
      "constructor of base class\n",
      "constructor of child class\n",
      "creaing function in class A\n",
      "creating function in class B\n"
     ]
    }
   ],
   "source": [
    "class A:\n",
    "    def __init__(self):\n",
    "        print(\"constructor of base class\")\n",
    "    def show(self):\n",
    "        print(\"creaing function in class A\")\n",
    "        \n",
    "class B(A):\n",
    "    def __init__(self):\n",
    "        super().__init__()\n",
    "        print(\"constructor of child class\")\n",
    "    def show(self):\n",
    "        super().show()\n",
    "        print(\"creating function in class B\")\n",
    "        \n",
    "b=B()\n",
    "b.show()"
   ]
  },
  {
   "cell_type": "markdown",
   "id": "28d067c0",
   "metadata": {},
   "source": [
    "### method resolution order"
   ]
  },
  {
   "cell_type": "markdown",
   "id": "92033dc1",
   "metadata": {},
   "source": [
    "#### if 2 class have same method it will use  the left one not shows the right one"
   ]
  },
  {
   "cell_type": "code",
   "execution_count": 9,
   "id": "d21eb7c8",
   "metadata": {},
   "outputs": [
    {
     "name": "stdout",
     "output_type": "stream",
     "text": [
      "constructor of base class A\n",
      "constructor of child class\n",
      "creating function in class B\n",
      "creating function in class C\n"
     ]
    }
   ],
   "source": [
    "class A:\n",
    "    def __init__(self):\n",
    "        print(\"constructor of base class A\")\n",
    "    def show(self):\n",
    "        print(\"creating function in class A\")\n",
    "        \n",
    "class B:\n",
    "    def __init__(self):\n",
    "        print(\"constructor class B\")\n",
    "        \n",
    "    def show1(self):\n",
    "        print(\"creating function in class B\")\n",
    "        \n",
    "class C(A,B):\n",
    "    def __init__(self):\n",
    "        super().__init__()\n",
    "        print(\"constructor of child class\")\n",
    "    def show(self):\n",
    "        super().show1()\n",
    "        print(\"creating function in class C\")\n",
    "        \n",
    "b=C()\n",
    "b.show()"
   ]
  },
  {
   "cell_type": "code",
   "execution_count": 22,
   "id": "b3b8122f",
   "metadata": {},
   "outputs": [
    {
     "name": "stdout",
     "output_type": "stream",
     "text": [
      "constructor of base class a\n",
      "constructor of child class\n",
      "creating function in class a\n",
      "creating function in clss b\n"
     ]
    }
   ],
   "source": [
    "class a:\n",
    "    def __init__(self):\n",
    "        print(\"constructor of base class a\")\n",
    "    def show(self):\n",
    "        print(\"creating function in class a\")\n",
    "        \n",
    "class b(a):\n",
    "    def __init__(self):\n",
    "        super().__init__()\n",
    "        print(\"constructor of child class\")\n",
    "        \n",
    "    def show(self):\n",
    "        super().show()\n",
    "        print(\"creating function in clss b\")\n",
    "        \n",
    "B=b()\n",
    "B.show()"
   ]
  },
  {
   "cell_type": "markdown",
   "id": "c8a8e8af",
   "metadata": {},
   "source": [
    "### polymorphism"
   ]
  },
  {
   "cell_type": "code",
   "execution_count": null,
   "id": "34502639",
   "metadata": {},
   "outputs": [],
   "source": [
    "### Polymorphism¶\n",
    "poly means 'Many' + morphism means 'forms or shape'\n",
    "\n",
    "It is one such OOP methodology where one task can be performed in several different ways. \n",
    "To put it in simple words, it is a property of an object which allows it to take multiple forms.\n",
    "\n",
    "Polymorphism is of two types:\n",
    "\n",
    "Compile-time Polymorphism\n",
    "Run-time Polymorphis"
   ]
  },
  {
   "cell_type": "code",
   "execution_count": null,
   "id": "4806df4d",
   "metadata": {},
   "outputs": [],
   "source": [
    "## Compile-time Polymorphism:\n",
    "A compile-time polymorphism also called as static polymorphism which gets resolved during the compilation time of the program. \n",
    "One common example is “method overloading”.\n",
    "Python does not support method overloading."
   ]
  },
  {
   "cell_type": "code",
   "execution_count": 13,
   "id": "292fd458",
   "metadata": {},
   "outputs": [
    {
     "name": "stdout",
     "output_type": "stream",
     "text": [
      "12\n",
      "5\n"
     ]
    }
   ],
   "source": [
    "print(len(\"polymorphism\"))\n",
    "print(len([1,2,5.2,6.4,78]))"
   ]
  },
  {
   "cell_type": "code",
   "execution_count": 14,
   "id": "53a3c8ed",
   "metadata": {},
   "outputs": [
    {
     "name": "stdout",
     "output_type": "stream",
     "text": [
      "divya sign\n",
      "17\n"
     ]
    }
   ],
   "source": [
    "print(\"divya\"+\" \"+\"sign\")\n",
    "print(8+9)"
   ]
  },
  {
   "cell_type": "code",
   "execution_count": 15,
   "id": "82d2a6c7",
   "metadata": {},
   "outputs": [
    {
     "name": "stdout",
     "output_type": "stream",
     "text": [
      "14\n",
      "8\n",
      "72\n"
     ]
    }
   ],
   "source": [
    "def add(a,b=2,c=10):\n",
    "    return a+b+c\n",
    "print(add(2))\n",
    "print(add(5,1,2))\n",
    "print(add(5,65,2))"
   ]
  },
  {
   "cell_type": "code",
   "execution_count": 18,
   "id": "3cf328fc",
   "metadata": {},
   "outputs": [
    {
     "name": "stdout",
     "output_type": "stream",
     "text": [
      "harshit is his name\n",
      "3000 is his salary\n",
      "rahul is his name\n",
      "4000 is his salary\n"
     ]
    }
   ],
   "source": [
    "## polymorphism with function and object\n",
    "class employee1:\n",
    "    def name(self):\n",
    "        print(\"harshit is his name\")\n",
    "    def salary(self):\n",
    "        print(\"3000 is his salary\")\n",
    "        \n",
    "class employee2:\n",
    "    def name(self):\n",
    "        print(\"rahul is his name\")\n",
    "    def salary(self):\n",
    "        print(\"4000 is his salary\")\n",
    "        \n",
    "def func(obj):\n",
    "    obj.name()\n",
    "    obj.salary()\n",
    "    \n",
    "obj_emp1 = employee1()\n",
    "obj_emp2 = employee2()\n",
    "\n",
    "func(obj_emp1)\n",
    "func(obj_emp2)"
   ]
  },
  {
   "cell_type": "code",
   "execution_count": 20,
   "id": "380dc1bb",
   "metadata": {},
   "outputs": [
    {
     "name": "stdout",
     "output_type": "stream",
     "text": [
      "divya\n",
      "hindi and english\n",
      "diksha\n",
      "french\n"
     ]
    }
   ],
   "source": [
    "##polymorphism with class method\n",
    "class student1:\n",
    "    def name(self):\n",
    "        print(\"divya\")\n",
    "    def languague(self):\n",
    "        print(\"hindi and english\")\n",
    "        \n",
    "class student2:\n",
    "    def name(self):\n",
    "        print(\"diksha\")\n",
    "    def languague(self):\n",
    "        print(\"french\")\n",
    "        \n",
    "obj_1=student1()\n",
    "obj_2=student2()\n",
    "for std in (obj_1,obj_2):\n",
    "    std.name()\n",
    "    std.languague()"
   ]
  },
  {
   "cell_type": "markdown",
   "id": "c6ea0034",
   "metadata": {},
   "source": [
    "### runtime polymorphism"
   ]
  },
  {
   "cell_type": "code",
   "execution_count": null,
   "id": "79eee8a2",
   "metadata": {},
   "outputs": [],
   "source": [
    "Run-time Polymorphism:¶\n",
    "A run-time Polymorphism is also, called as dynamic polymorphism where it gets resolved into the run time. \n",
    "One common example of Run-time polymorphism is “method overriding”."
   ]
  },
  {
   "cell_type": "code",
   "execution_count": null,
   "id": "2ca91052",
   "metadata": {},
   "outputs": [],
   "source": [
    "Polymorphism in python defines methods in the child class that have the same name as the methods in the parent class. \n",
    "In inheritance, the child class inherits the methods from the parent class. \n",
    "Also, it is possible to modify a method in a child class that it has inherited from the parent class.\n",
    "\n",
    "This is mostly used in cases where the method inherited from the parent class doesn’t fit the child class.\n",
    "This process of re-implementing a method in the child class is known as Method Overriding."
   ]
  },
  {
   "cell_type": "code",
   "execution_count": 21,
   "id": "99b6a6f7",
   "metadata": {},
   "outputs": [
    {
     "name": "stdout",
     "output_type": "stream",
     "text": [
      "welcome to university\n",
      "most of student interested in tech course\n",
      "welcome to university\n",
      "learn java\n",
      "welcome to university\n",
      "learn python from scratch\n"
     ]
    }
   ],
   "source": [
    "class student:\n",
    "    def intro(self):\n",
    "        print(\"welcome to university\")\n",
    "    def course(self):\n",
    "        print(\"most of student interested in tech course\")\n",
    "        \n",
    "class java(student):\n",
    "    def course(self):\n",
    "        print(\"learn java\")\n",
    "        \n",
    "class python(student):\n",
    "    def course(self):\n",
    "        print(\"learn python from scratch\")\n",
    "        \n",
    "obj_s=student()\n",
    "obj_j=java()\n",
    "obj_p=python()\n",
    "\n",
    "obj_s.intro()\n",
    "obj_s.course()\n",
    "\n",
    "obj_j.intro()\n",
    "obj_j.course()\n",
    "\n",
    "obj_p.intro()\n",
    "obj_p.course()\n",
    "\n",
    "\n",
    "        \n"
   ]
  },
  {
   "cell_type": "markdown",
   "id": "a0877318",
   "metadata": {},
   "source": [
    "### method overriding"
   ]
  },
  {
   "cell_type": "code",
   "execution_count": null,
   "id": "c6dd1470",
   "metadata": {},
   "outputs": [],
   "source": [
    "#Overriding is a very important part of object oriented programming because it makes inheritance exploit its full power.\n",
    "#Overriding is the ability of a class (Sub class/child class/derived class) to change the implementation of a method provided by one of its parent classes.\n",
    "When a method in a subclass has the same name ,same parameter and same return type as a method in its super class then the method in the subclass is said to override the method in the super class.\n",
    "the version of a method that is executed will be determined by the object that is used to invoke it.\n",
    "if an object of a parent class is used to invoke the method.then the version in the parent class will be executed but if an object of the subclass is used to invoke the method ,then the version in the child class will be executedOverriding is a very important part of object oriented programming because it makes inheritance exploit its full power.\n",
    "Overriding is the ability of a class (Sub class/child class/derived class) to change the implementation of a method provided by one of its parent classes.\n",
    "When a method in a subclass has the same name ,same parameter and same return type as a method in its super class then the method in the subclass is said to override the method in the super class.\n",
    "the version of a method that is executed will be determined by the object that is used to invoke it.\n",
    "if an object of a parent class is used to invoke the method.then the version in the parent class will be executed but if an object of the subclass is used to invoke the method ,then the version in the child class will be executedOverriding is a very important part of object oriented programming because it makes inheritance exploit its full power.\n",
    "Overriding is the ability of a class (Sub class/child class/derived class) to change the implementation of a method provided by one of its parent classes.\n",
    "When a method in a subclass has the same name ,same parameter and same return type as a method in its super class then the method in the subclass is said to override the method in the super class.\n",
    "the version of a method that is executed will be determined by the object that is used to invoke it.\n",
    "if an object of a parent class is used to invoke the method.\n",
    "then the version in the parent class will be executed but if an object of the subclass is used to invoke the method ,\n",
    "then the version in the child class will be executed"
   ]
  },
  {
   "cell_type": "code",
   "execution_count": 1,
   "id": "13ff3f54",
   "metadata": {},
   "outputs": [
    {
     "name": "stdout",
     "output_type": "stream",
     "text": [
      "hello sudent\n",
      "divya 56 female 8 45000\n",
      "hello persdon\n",
      "shiv 12 male\n"
     ]
    }
   ],
   "source": [
    "class person: #parent class\n",
    "    def __init__(self,name,age,gender):\n",
    "        self.name=name\n",
    "        self.age=age\n",
    "        self.gender=gender\n",
    "        \n",
    "    def greet(self) :##function in parent class\n",
    "        print(\"hello persdon\")\n",
    "        print(self.name,self.age,self.gender)\n",
    "        \n",
    "class student(person): ##child class\n",
    "    def __init__(self,name,age,gender,sid,fees):\n",
    "        person.__init__(self,name,age,gender)\n",
    "        self.sid=sid\n",
    "        self.fees=fees\n",
    "        \n",
    "    def greet(self): ##function in child class(same in parent class)\n",
    "        print(\"hello sudent\")\n",
    "        print(self.name,self.age,self.gender,self.sid,self.fees)\n",
    "        \n",
    "stud=student(\"divya\",56,\"female\",8,45000) #object created to parenrclas and function clalled\n",
    "stud.greet()\n",
    "\n",
    "p=person(\"shiv\",12,\"male\")##separate objuect created and function called\n",
    "p.greet()"
   ]
  },
  {
   "cell_type": "markdown",
   "id": "9bf68b55",
   "metadata": {},
   "source": [
    "### epsulation"
   ]
  },
  {
   "cell_type": "code",
   "execution_count": null,
   "id": "f38924d5",
   "metadata": {},
   "outputs": [],
   "source": [
    "Encapsulation :¶\n",
    "It is one of the fundamental concepts of OOPS.\n",
    "It describe the idea of wrapping data and methods that work on data within one unit.\n",
    "It is used to restrict access to method and variables.\n",
    "Code and data are wrapped and make one single unit.\n",
    "Using OOP in Python, we can restrict access to methods and variables. This prevents data from direct modification which is called encapsulation. In Python, we denote private attributes using underscore as the prefix i.e single _ or double __.\n",
    "Python provides access to all the variables and methods globally."
   ]
  },
  {
   "cell_type": "code",
   "execution_count": 2,
   "id": "126932c3",
   "metadata": {},
   "outputs": [
    {
     "name": "stdout",
     "output_type": "stream",
     "text": [
      "shivani\n",
      "30\n",
      "shivani\n",
      "30\n"
     ]
    }
   ],
   "source": [
    "class person:\n",
    "    def __init__(self,name,age):\n",
    "        self.name=name\n",
    "        self.age=age\n",
    "    def display(self):\n",
    "        print(self.name)\n",
    "        print(self.age)\n",
    "        \n",
    "p=person(\"shivani\",30)\n",
    "##accessingusing class method\n",
    "p.display()\n",
    "##acessing directly from outide\n",
    "print(p.name)\n",
    "print(p.age)"
   ]
  },
  {
   "cell_type": "code",
   "execution_count": 4,
   "id": "7f54be10",
   "metadata": {},
   "outputs": [
    {
     "name": "stdout",
     "output_type": "stream",
     "text": [
      "shivani\n",
      "39\n",
      "tying to acess variable from outside the class\n",
      "shivani\n"
     ]
    },
    {
     "ename": "AttributeError",
     "evalue": "'person' object has no attribute '__age'",
     "output_type": "error",
     "traceback": [
      "\u001b[1;31m---------------------------------------------------------------------------\u001b[0m",
      "\u001b[1;31mAttributeError\u001b[0m                            Traceback (most recent call last)",
      "Input \u001b[1;32mIn [4]\u001b[0m, in \u001b[0;36m<cell line: 16>\u001b[1;34m()\u001b[0m\n\u001b[0;32m     14\u001b[0m \u001b[38;5;28mprint\u001b[39m(\u001b[38;5;124m\"\u001b[39m\u001b[38;5;124mtying to acess variable from outside the class\u001b[39m\u001b[38;5;124m\"\u001b[39m)\n\u001b[0;32m     15\u001b[0m \u001b[38;5;28mprint\u001b[39m(p\u001b[38;5;241m.\u001b[39mname)\n\u001b[1;32m---> 16\u001b[0m \u001b[38;5;28mprint\u001b[39m(\u001b[43mp\u001b[49m\u001b[38;5;241;43m.\u001b[39;49m\u001b[43m__age\u001b[49m)\n",
      "\u001b[1;31mAttributeError\u001b[0m: 'person' object has no attribute '__age'"
     ]
    }
   ],
   "source": [
    "class person:\n",
    "    def __init__(self,name,age=0):\n",
    "        self.name=name\n",
    "        self.__age=age ##making age as private cant acees outside used __\n",
    "        \n",
    "    def display(self):\n",
    "        print(self.name)\n",
    "        print(self.__age)\n",
    "        \n",
    "p=person(\"shivani\",39)\n",
    "##acessing using class method\n",
    "p.display()\n",
    "##acessing directly from outside\n",
    "print(\"tying to acess variable from outside the class\")\n",
    "print(p.name)\n",
    "print(p.__age)"
   ]
  },
  {
   "cell_type": "code",
   "execution_count": 5,
   "id": "777598be",
   "metadata": {},
   "outputs": [
    {
     "name": "stdout",
     "output_type": "stream",
     "text": [
      "shivani\n",
      "39\n",
      "tying to acess variable from outside the class\n",
      "shivani\n",
      "39\n"
     ]
    }
   ],
   "source": [
    "## single _ is not restrict data from acesing outside\n",
    "class person:\n",
    "    def __init__(self,name,age=0):\n",
    "        self.name=name\n",
    "        self._age=age \n",
    "        \n",
    "    def display(self):\n",
    "        print(self.name)\n",
    "        print(self._age)\n",
    "        \n",
    "p=person(\"shivani\",39)\n",
    "##acessing using class method\n",
    "p.display()\n",
    "##acessing directly from outside\n",
    "print(\"tying to acess variable from outside the class\")\n",
    "print(p.name)\n",
    "print(p._age)"
   ]
  },
  {
   "cell_type": "code",
   "execution_count": 7,
   "id": "a8c9d33f",
   "metadata": {},
   "outputs": [
    {
     "name": "stdout",
     "output_type": "stream",
     "text": [
      "shivani\n",
      "39\n",
      "17\n"
     ]
    }
   ],
   "source": [
    "class person:\n",
    "    def __init__(self,name,age):\n",
    "        self.name=name\n",
    "        self.__age=age\n",
    "        \n",
    "    def display(self):\n",
    "        print(self.name)\n",
    "        print(self.__age)\n",
    "        \n",
    "    def getAge(self):\n",
    "        print(self.__age)\n",
    "        \n",
    "    def setAge(self,age):\n",
    "        self.__age=age\n",
    "        \n",
    "p=person(\"shivani\",39)\n",
    "p.display()\n",
    "p.setAge(17)\n",
    "p.getAge()"
   ]
  },
  {
   "cell_type": "code",
   "execution_count": null,
   "id": "62e6a3a6",
   "metadata": {},
   "outputs": [],
   "source": [
    "class computer:\n",
    "    def __init__(self):\n",
    "        self.__maxprice=900\n",
    "    def sell(self):\n",
    "        print(\"selllingprice:{}\".format(self.__maxprice))\n",
    "    def setMaxprice(self,price):\n",
    "        self.__maxprice=price\n",
    "        \n",
    "c=computer()\n",
    "c.sell()\n",
    "##change the price\n",
    "c.__maxprice=1000\n",
    "c.sell()\n",
    "##using setter function\n",
    "c.setMaxprice(1200)\n",
    "c.sell()"
   ]
  },
  {
   "cell_type": "markdown",
   "id": "4165aa35",
   "metadata": {},
   "source": [
    "### data abstraction"
   ]
  },
  {
   "cell_type": "code",
   "execution_count": null,
   "id": "32cf70b6",
   "metadata": {},
   "outputs": [],
   "source": [
    "Data abstraction and encapsulation are synonyms.\n",
    "It is used to hide internal details and show only required functionalities.\n",
    "Abstract something means to give names to things, so that the names captures basic idea of what afunction or a whole program does\n",
    "only showing the require things but not showing the internal functionalities how it works.\n",
    "Data abstraction = Data encapsulation + Data hiding"
   ]
  },
  {
   "cell_type": "markdown",
   "id": "c7ffac1a",
   "metadata": {},
   "source": [
    "### tread"
   ]
  },
  {
   "cell_type": "code",
   "execution_count": 10,
   "id": "2b3d9d80",
   "metadata": {},
   "outputs": [
    {
     "name": "stdout",
     "output_type": "stream",
     "text": [
      "class A\n",
      "class A\n",
      "class A\n",
      "class A\n",
      "class A\n",
      "class A\n",
      "class A\n",
      "class A\n",
      "class A\n",
      "class A\n",
      "class A\n",
      "class A\n",
      "class A\n",
      "class A\n",
      "class A\n",
      "class A\n",
      "class A\n",
      "class A\n",
      "class A\n",
      "class A\n",
      "class A\n",
      "class A\n",
      "class A\n",
      "class A\n",
      "class A\n",
      "0\n",
      "1\n",
      "2\n",
      "3\n",
      "4\n",
      "5\n",
      "6\n",
      "7\n",
      "8\n",
      "9\n",
      "10\n",
      "11\n",
      "12\n",
      "13\n",
      "14\n"
     ]
    }
   ],
   "source": [
    "class A:\n",
    "    def run(self):\n",
    "        for i in range(25):\n",
    "            print(\"class A\")\n",
    "            \n",
    "class B:\n",
    "    def run(self):\n",
    "        for i in range(15):\n",
    "            print(i)\n",
    "            \n",
    "a1=A()\n",
    "a2=B()\n",
    "\n",
    "a1.run()\n",
    "a2.run()"
   ]
  },
  {
   "cell_type": "code",
   "execution_count": 13,
   "id": "444eab4b",
   "metadata": {},
   "outputs": [
    {
     "name": "stdout",
     "output_type": "stream",
     "text": [
      "class A\n",
      "class A\n",
      "class A\n",
      "class A\n",
      "class A\n",
      "class A\n",
      "class A\n",
      "class A\n",
      "class A\n",
      "class A\n",
      "class A\n",
      "class A\n",
      "class A\n",
      "class A\n",
      "class A\n",
      "class A\n",
      "class A\n",
      "class A\n",
      "class A\n",
      "class A\n",
      "class A\n",
      "class A\n",
      "class A\n",
      "class A\n",
      "class A\n",
      "class A\n",
      "class A\n",
      "class A\n",
      "class A\n",
      "class A\n",
      "class A\n",
      "class A\n",
      "class A\n",
      "class A\n",
      "class A\n",
      "class A\n",
      "class A\n",
      "class A\n",
      "class A\n",
      "class A\n",
      "class A\n",
      "class A\n",
      "class A\n",
      "class A\n",
      "class A\n",
      "class A\n",
      "class A\n",
      "class A\n",
      "class A\n",
      "class A\n",
      "class A\n",
      "class A\n",
      "class A\n",
      "class A\n",
      "class A\n",
      "class A\n",
      "class A\n",
      "class A\n",
      "class A\n",
      "class A\n",
      "class A\n",
      "class A\n",
      "class A\n",
      "class A\n",
      "class A\n",
      "class A\n",
      "class A\n",
      "class A\n",
      "class A\n",
      "class A\n",
      "class A\n",
      "class A\n",
      "class A\n",
      "class A\n",
      "class A\n",
      "class A\n",
      "class A\n",
      "class A\n",
      "class A\n",
      "class A\n",
      "class A\n",
      "class A\n",
      "class A\n",
      "class A\n",
      "class A\n",
      "class A\n",
      "class A\n",
      "class A\n",
      "class A\n",
      "class A\n",
      "class A\n",
      "class A\n",
      "class A\n",
      "class A\n",
      "class A\n",
      "class A\n",
      "class A\n",
      "class A\n",
      "class A\n",
      "class A\n",
      "0\n",
      "1\n",
      "2\n",
      "3\n",
      "4\n",
      "5\n",
      "6\n",
      "7\n",
      "8\n",
      "9\n",
      "10\n",
      "11\n",
      "12\n",
      "13\n",
      "14\n",
      "15\n",
      "16\n",
      "17\n",
      "18\n",
      "19\n",
      "20\n",
      "21\n",
      "22\n",
      "23\n",
      "24\n",
      "25\n",
      "26\n",
      "27\n",
      "28\n",
      "29\n",
      "30\n",
      "31\n",
      "32\n",
      "33\n",
      "34\n",
      "35\n",
      "36\n",
      "37\n",
      "38\n",
      "39\n",
      "40\n",
      "41\n",
      "42\n",
      "43\n",
      "44\n",
      "45\n",
      "46\n",
      "47\n",
      "48\n",
      "49\n"
     ]
    }
   ],
   "source": [
    "from threading import *\n",
    "class A(Thread):\n",
    "    def run(self):\n",
    "        for i in range(100):\n",
    "            print(\"class A\")\n",
    "            \n",
    "class B(Thread):\n",
    "    def run(self):\n",
    "        for i in range(50):\n",
    "            print(i)\n",
    "a1=A()\n",
    "a2=B()\n",
    "a1.start()\n",
    "a2.start()"
   ]
  },
  {
   "cell_type": "markdown",
   "id": "c06b9585",
   "metadata": {},
   "source": [
    "##### multitreading"
   ]
  },
  {
   "cell_type": "code",
   "execution_count": 17,
   "id": "ef0a1be3",
   "metadata": {},
   "outputs": [
    {
     "name": "stdout",
     "output_type": "stream",
     "text": [
      "43\n",
      "class A\n",
      "0\n",
      "class A\n",
      "class A\n",
      "class A\n",
      "44\n",
      "1\n",
      "class A\n",
      "class A\n",
      "class A\n",
      "45\n",
      "2\n",
      "class A\n",
      "class A\n",
      "class A\n",
      "46\n",
      "3class A\n",
      "\n",
      "class A\n",
      "class A\n",
      "class A\n",
      "47\n",
      "4\n",
      "class A\n",
      "class A\n",
      "class A\n",
      "48\n",
      "5\n",
      "class A\n",
      "class A\n",
      "class A\n",
      "49\n",
      "6\n",
      "class A\n",
      "class A\n",
      "class A\n",
      "class A\n",
      "7\n",
      "class A\n",
      "class A\n",
      "class A\n",
      "8\n",
      "class A\n",
      "class A\n",
      "class A\n",
      "9\n",
      "class A\n",
      "class A\n",
      "class A\n",
      "class A\n",
      "10\n",
      "class A\n",
      "class A\n",
      "class A\n",
      "11\n",
      "class A\n",
      "class A\n",
      "class A\n",
      "12\n",
      "class A\n",
      "class A\n",
      "class A\n",
      "class A\n",
      "13\n",
      "class A\n",
      "class A\n",
      "class A\n",
      "14\n",
      "class A\n",
      "class A\n",
      "class A\n",
      "15\n",
      "class A\n",
      "class A\n",
      "class A\n",
      "class A\n",
      "16\n",
      "class A\n",
      "class A\n",
      "class A\n",
      "17\n",
      "class A\n",
      "18\n",
      "class A\n",
      "class A\n",
      "19\n",
      "class A\n"
     ]
    }
   ],
   "source": [
    "from threading import *\n",
    "from time import sleep\n",
    "class A(Thread):\n",
    "    def run(self):\n",
    "        for i in range(100):\n",
    "            print(\"class A\")\n",
    "            sleep(3) ### sleep is used to make a gyap in tread here 3 sec gyap then only next line will execute\n",
    "            \n",
    "class B(Thread):\n",
    "    def run(self):\n",
    "        for i in range(50):\n",
    "            print(i)\n",
    "            sleep(5)\n",
    "            \n",
    "a1=A()\n",
    "a2=B()\n",
    "\n",
    "a1.start()\n",
    "a2.start()"
   ]
  },
  {
   "cell_type": "code",
   "execution_count": null,
   "id": "8be9940c",
   "metadata": {},
   "outputs": [],
   "source": [
    "How to create threads in Python::\n",
    "Three ways::\n",
    "Without creating a class.\n",
    "By extending thread class\n",
    "Without extending thread class\n",
    "Advantages of using multithreading::\n",
    "Better utilization of resources.\n",
    "Simplifies the code.\n",
    "Reduce the time consumption.\n",
    "Increase the performance\n",
    "Allow concurrent or parallel occurence at various tasks.\n",
    "Methods of Thread::\n",
    "threading.activeCount() == Returns the number of thread objects that are active.\n",
    "threading.currentThread() == Returns the number of thread objects in the callers thread control.\n",
    "These method are provide by the Thread class\n",
    "run() == This method is the entry point for a thread.\n",
    "start() == The start method starts a thread by calling a run method.\n",
    "join() == The join waits for a thread to terminate.\n",
    "sleep() == This method sleeps the thread for a specific time.\n",
    "isAlive() == This method checks whether a thread is still executing( active or not).\n",
    "getName() == It returns the name of the thread.\n",
    "set Name() == This method sets the name of the thread."
   ]
  },
  {
   "cell_type": "code",
   "execution_count": 19,
   "id": "7c49a206",
   "metadata": {},
   "outputs": [
    {
     "name": "stdout",
     "output_type": "stream",
     "text": [
      "class A\n",
      "0\n",
      "1\n",
      "2\n",
      "class Ajoin is executing\n",
      "\n",
      "3\n",
      "4\n",
      "execution is completed\n",
      "class A\n",
      "class A\n",
      "class A\n",
      "class A\n",
      "class A\n",
      "class A\n",
      "class A\n",
      "class A\n"
     ]
    }
   ],
   "source": [
    "from threading import * ##import all function\n",
    "from time import ##sleep time module\n",
    "class A(Thread):\n",
    "    def run(self):\n",
    "        for i in range(10):\n",
    "            print(\"class A\")\n",
    "            sleep(3) ##gyap between printing\n",
    "class B(Thread):\n",
    "    def run(self):\n",
    "        for i in range(5):\n",
    "            print(i)\n",
    "            sleep(1)\n",
    "            \n",
    "a1=A()\n",
    "a2=B()\n",
    "\n",
    "a1.start()\n",
    "a2.start()\n",
    "\n",
    "a1.join(3)\n",
    "print(\"join is executing\")\n",
    "a2.join(5)\n",
    "print(\"execution is completed\")"
   ]
  },
  {
   "cell_type": "code",
   "execution_count": 20,
   "id": "73116922",
   "metadata": {},
   "outputs": [
    {
     "name": "stdout",
     "output_type": "stream",
     "text": [
      "class A\n",
      "class A\n",
      "0\n",
      "class A\n",
      "class A\n",
      "class A\n",
      "class A\n",
      "class A\n",
      "class A\n",
      "class A\n",
      "class A\n",
      "join is executing\n",
      "1\n",
      "2\n",
      "3\n",
      "4\n"
     ]
    }
   ],
   "source": [
    "from threading import *\n",
    "from time import sleep\n",
    "class A(Thread):\n",
    "    def run(self):\n",
    "        for i in range(10):\n",
    "            print(\"class A\")\n",
    "            \n",
    "class B(Thread):\n",
    "    def run(self):\n",
    "        for i in range(5):\n",
    "            print(i)\n",
    "            sleep(15)\n",
    "            \n",
    "a1=A()\n",
    "a2=B()\n",
    "\n",
    "a1.start()\n",
    "a2.start()\n",
    "a1.join(3)\n",
    "print(\"join is executing\")\n",
    "a2.join(5)"
   ]
  },
  {
   "cell_type": "code",
   "execution_count": 21,
   "id": "df794b6c",
   "metadata": {},
   "outputs": [
    {
     "name": "stdout",
     "output_type": "stream",
     "text": [
      "class A0\n",
      "class A\n",
      "class A\n",
      "class A\n",
      "class A\n",
      "class A\n",
      "class A\n",
      "class A\n",
      "class A\n",
      "class A\n",
      "class A\n",
      "class A\n",
      "class A\n",
      "class A\n",
      "class A\n",
      "class A\n",
      "class A\n",
      "class A\n",
      "class A\n",
      "class A\n",
      "\n",
      "1\n",
      "2\n",
      "3\n",
      "4\n",
      "join is executing\n"
     ]
    }
   ],
   "source": [
    "from threading import *\n",
    "from time import sleep\n",
    "class A(Thread):\n",
    "    def run(self):\n",
    "        for i in range(20):\n",
    "            print(\"class A\")\n",
    "            \n",
    "class B(Thread):\n",
    "    def run(self):\n",
    "        for i in range(5):\n",
    "            print(i)\n",
    "            \n",
    "            \n",
    "a1=A()\n",
    "a2=B()\n",
    "\n",
    "a1.start()\n",
    "a2.start()\n",
    "a1.join()\n",
    "a2.join()\n",
    "print(\"join is executing\")\n"
   ]
  },
  {
   "cell_type": "code",
   "execution_count": 22,
   "id": "2204339b",
   "metadata": {},
   "outputs": [
    {
     "name": "stdout",
     "output_type": "stream",
     "text": [
      "happy bithday!!!\n",
      "happy bithday!!!\n",
      "happy bithday!!!\n",
      "happy bithday!!!\n",
      "happy bithday!!!\n",
      "MainThread\n",
      "creating a thread object without class... MainThread\n"
     ]
    }
   ],
   "source": [
    "### thread without using class\n",
    "from threading import *\n",
    "def show():\n",
    "    for i in range(5):\n",
    "        print(\"happy bithday!!!\")\n",
    "obj=Thread(target=show())\n",
    "print(current_thread().getName())\n",
    "obj.start()\n",
    "obj.join()\n",
    "print(\"creating a thread object without class...\",current_thread().getName())"
   ]
  },
  {
   "cell_type": "code",
   "execution_count": 23,
   "id": "480c6849",
   "metadata": {},
   "outputs": [
    {
     "name": "stdout",
     "output_type": "stream",
     "text": [
      "helloworld Thread-19\n",
      " Thread-18\n",
      "hello Thread-18\n",
      "worldhello Thread-18\n",
      " Thread-19\n",
      "hello Thread-18\n",
      "world Thread-19\n",
      "hello Thread-18\n",
      "world Thread-19\n",
      "world Thread-19\n",
      "multithreading is completed MainThread\n"
     ]
    }
   ],
   "source": [
    "from threading import *\n",
    "from time import sleep\n",
    "## running simultaniously\n",
    "class A (Thread):\n",
    "    def run(self):\n",
    "        for i in range(5):\n",
    "            print(\"hello\",current_thread().getName())\n",
    "            sleep(5)\n",
    "class B(Thread):\n",
    "    def run(self):\n",
    "        for i in range(5):\n",
    "            print(\"world\",current_thread().getName())\n",
    "            sleep(10)\n",
    "            \n",
    "obj1=A()\n",
    "obj2=B()\n",
    "obj1.start()\n",
    "obj2.start()\n",
    "obj1.join()\n",
    "obj2.join()\n",
    "print(\"multithreading is completed\",current_thread().getName())"
   ]
  },
  {
   "cell_type": "code",
   "execution_count": 1,
   "id": "65330ba8",
   "metadata": {},
   "outputs": [
    {
     "name": "stdout",
     "output_type": "stream",
     "text": [
      "best of luck 0\n",
      "best of luck 1\n",
      "best of luck 2\n",
      "best of luck 3\n",
      "best of luck 4\n",
      "multithreading ending\n"
     ]
    }
   ],
   "source": [
    "### without extending thread class\n",
    "from threading import *\n",
    "class A:\n",
    "    def show(self):\n",
    "        for i in range(5):\n",
    "            print(\"best of luck\",i)\n",
    "            \n",
    "obj=A()\n",
    "T1=Thread(target=obj.show)\n",
    "T1.start()\n",
    "T1.join()\n",
    "print(\"multithreading ending\")"
   ]
  },
  {
   "cell_type": "code",
   "execution_count": 3,
   "id": "a77a4c32",
   "metadata": {},
   "outputs": [
    {
     "name": "stdout",
     "output_type": "stream",
     "text": [
      "best of luck 0\n",
      "luck 0\n",
      "best of luck 1\n",
      "luck 1\n",
      "best of luck 2\n",
      "best of luck 3\n",
      "luck 2\n",
      "best of luck 4\n",
      "luck 3\n",
      "luck 4\n",
      "multithread ending\n"
     ]
    }
   ],
   "source": [
    "from threading import *\n",
    "from time import sleep\n",
    "class A:\n",
    "    def show(self):\n",
    "        for i in range(5):\n",
    "            print(\"best of luck\",i)\n",
    "            sleep(3)\n",
    "            \n",
    "class B:\n",
    "    def showdata(self):\n",
    "        for i in range(5):\n",
    "            print(\"luck\",i)\n",
    "            sleep(5)\n",
    "            \n",
    "obj=A()\n",
    "obj1=B()\n",
    "T1=Thread(target=obj.show)\n",
    "T2=Thread(target=obj1.showdata)\n",
    "T1.start()\n",
    "T2.start()\n",
    "T1.join()\n",
    "T2.join()\n",
    "print(\"multithread ending\")"
   ]
  },
  {
   "cell_type": "code",
   "execution_count": 8,
   "id": "8c61bb78",
   "metadata": {
    "scrolled": true
   },
   "outputs": [
    {
     "name": "stdout",
     "output_type": "stream",
     "text": [
      "is thread1 alive: False\n",
      "is thread alive: False\n",
      "\n",
      "value by thread 2: 10\n",
      "is thread1 alive: True\n",
      "is thread2 alive: True\n",
      "value by thread 1: 5\n"
     ]
    }
   ],
   "source": [
    "\n",
    "from threading import *\n",
    "from time import sleep\n",
    "def fun1(i):\n",
    "    sleep(5)\n",
    "    print(\"value by thread 1:\",i)\n",
    "    \n",
    "def fun2(i):\n",
    "    print(\"value by thread 2:\",i)\n",
    "    sleep(3)\n",
    "    \n",
    "t1=Thread(target=fun1,args=(5,))\n",
    "t2=Thread(target=fun2,args=(10,))\n",
    "\n",
    "##before calling start(),both thread are not alive\n",
    "print(\"is thread1 alive:\",t1.is_alive())\n",
    "print(\"is thread alive:\",t1.is_alive())\n",
    "print()##is alive used to check thred alive or not\n",
    "\n",
    "t1.start()\n",
    "t2.start()\n",
    "##since t1 is on sleep for 5 second it is alive\n",
    "##while t2 is executed instantly\n",
    "print(\"is thread1 alive:\",t1.is_alive())\n",
    "print(\"is thread2 alive:\",t2.is_alive())"
   ]
  },
  {
   "cell_type": "code",
   "execution_count": 15,
   "id": "51b8da80",
   "metadata": {},
   "outputs": [
    {
     "name": "stdout",
     "output_type": "stream",
     "text": [
      "value by thread 1: 5\n",
      "value by thread 2: 3\n",
      "is thread1 alive: False\n",
      "is thread alive: False\n",
      "\n",
      "is thread1 alive: False\n",
      "is thread2 alive: False\n"
     ]
    }
   ],
   "source": [
    "\n",
    "from threading import *\n",
    "from time import sleep\n",
    "def fun1(i):\n",
    "    sleep(5)\n",
    "    print(\"value by thread 1:\",i)\n",
    "    \n",
    "def fun2(i):\n",
    "    print(\"value by thread 2:\",i)\n",
    "    sleep(3)\n",
    "    \n",
    "t1=Thread(target=fun1(5))\n",
    "t2=Thread(target=fun2(3))\n",
    "\n",
    "##before calling start(),both thread are not alive\n",
    "print(\"is thread1 alive:\",t1.is_alive())\n",
    "print(\"is thread alive:\",t2.is_alive())\n",
    "print()##is alive used to check thred alive or not\n",
    "\n",
    "t1.start()\n",
    "t2.start()\n",
    "##since t1 is on sleep for 5 second it is alive\n",
    "##while t2 is executed instantly\n",
    "print(\"is thread1 alive:\",t1.is_alive())\n",
    "print(\"is thread2 alive:\",t2.is_alive())"
   ]
  },
  {
   "cell_type": "code",
   "execution_count": 16,
   "id": "269269d7",
   "metadata": {},
   "outputs": [
    {
     "ename": "TypeError",
     "evalue": "fun1() missing 1 required positional argument: 'i'",
     "output_type": "error",
     "traceback": [
      "\u001b[1;31m---------------------------------------------------------------------------\u001b[0m",
      "\u001b[1;31mTypeError\u001b[0m                                 Traceback (most recent call last)",
      "Input \u001b[1;32mIn [16]\u001b[0m, in \u001b[0;36m<cell line: 13>\u001b[1;34m()\u001b[0m\n\u001b[0;32m      9\u001b[0m     \u001b[38;5;28;01mfor\u001b[39;00m i \u001b[38;5;129;01min\u001b[39;00m \u001b[38;5;28mrange\u001b[39m(\u001b[38;5;241m10\u001b[39m):\n\u001b[0;32m     10\u001b[0m         \u001b[38;5;28mprint\u001b[39m(\u001b[38;5;124m\"\u001b[39m\u001b[38;5;124mvalue by thread 2:\u001b[39m\u001b[38;5;124m\"\u001b[39m,i)\n\u001b[1;32m---> 13\u001b[0m t1\u001b[38;5;241m=\u001b[39mThread(target\u001b[38;5;241m=\u001b[39m\u001b[43mfun1\u001b[49m\u001b[43m(\u001b[49m\u001b[43m)\u001b[49m)\n\u001b[0;32m     14\u001b[0m t2\u001b[38;5;241m=\u001b[39mThread(target\u001b[38;5;241m=\u001b[39mfun2())\n\u001b[0;32m     16\u001b[0m \u001b[38;5;66;03m##before calling start(),both thread are not alive\u001b[39;00m\n",
      "\u001b[1;31mTypeError\u001b[0m: fun1() missing 1 required positional argument: 'i'"
     ]
    }
   ],
   "source": [
    "from threading import *\n",
    "from time import sleep\n",
    "def fun1(i):\n",
    "    for i in range(5):\n",
    "        sleep(5)\n",
    "        print(\"value by thread 1:\",i)\n",
    "    \n",
    "def fun2(i):\n",
    "    for i in range(10):\n",
    "        print(\"value by thread 2:\",i)\n",
    "    \n",
    "    \n",
    "t1=Thread(target=fun1())\n",
    "t2=Thread(target=fun2())\n",
    "\n",
    "##before calling start(),both thread are not alive\n",
    "print(\"is thread1 alive:\",t1.is_alive())\n",
    "print(\"is thread alive:\",t1.is_alive())\n",
    "print()##is alive used to check thred alive or not\n",
    "\n",
    "t1.start()\n",
    "t2.start()\n",
    "##since t1 is on sleep for 5 second it is alive\n",
    "##while t2 is executed instantly\n",
    "print(\"is thread1 alive:\",t1.is_alive())\n",
    "print(\"is thread2 alive:\",t2.is_alive())"
   ]
  },
  {
   "cell_type": "code",
   "execution_count": 7,
   "id": "20bbc635",
   "metadata": {},
   "outputs": [
    {
     "name": "stdout",
     "output_type": "stream",
     "text": [
      "value byload is: 10\n",
      "value byload1 is:value byload2 is: 30\n",
      " 20\n"
     ]
    }
   ],
   "source": [
    "def thread_1(i):\n",
    "    print(\"value by\"+str(current_thread().getName())+\" is:\",i)\n",
    "    \n",
    "def thread_2(i):\n",
    "    sleep(15)\n",
    "    print(\"value by\"+str(current_thread().getName())+\" is:\",i)\n",
    "    \n",
    "def thread_3(i):\n",
    "    sleep(15)\n",
    "    print(\"value by\"+str(current_thread().getName())+\" is:\",i)\n",
    "##creating three sample thread    \n",
    "t1=Thread(target=thread_1,args=(10,))\n",
    "t1.setName(\"load\")\n",
    "t2=Thread(target=thread_2,args=(20,))\n",
    "t2.setName(\"load1\")\n",
    "t3=Thread(target=thread_2,args=(30,))\n",
    "t3.setName(\"load2\")\n",
    "##running thread\n",
    "t1.start()\n",
    "t2.start()\n",
    "t3.start()"
   ]
  },
  {
   "cell_type": "code",
   "execution_count": null,
   "id": "ac01ef84",
   "metadata": {},
   "outputs": [],
   "source": []
  }
 ],
 "metadata": {
  "kernelspec": {
   "display_name": "Python 3 (ipykernel)",
   "language": "python",
   "name": "python3"
  },
  "language_info": {
   "codemirror_mode": {
    "name": "ipython",
    "version": 3
   },
   "file_extension": ".py",
   "mimetype": "text/x-python",
   "name": "python",
   "nbconvert_exporter": "python",
   "pygments_lexer": "ipython3",
   "version": "3.9.12"
  }
 },
 "nbformat": 4,
 "nbformat_minor": 5
}
