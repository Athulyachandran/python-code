{
 "cells": [
  {
   "cell_type": "markdown",
   "id": "2238e30b",
   "metadata": {},
   "source": [
    "### program to check number is even or odd"
   ]
  },
  {
   "cell_type": "code",
   "execution_count": 3,
   "id": "e58e0f99",
   "metadata": {},
   "outputs": [
    {
     "name": "stdout",
     "output_type": "stream",
     "text": [
      "enter the number10\n",
      "10 is even number\n"
     ]
    }
   ],
   "source": [
    "num=int(input(\"enter the number\"))\n",
    "if num%2==0:\n",
    "    print(num,\"is even number\")\n",
    "else:\n",
    "    print(num,\"is an odd number\")"
   ]
  },
  {
   "cell_type": "markdown",
   "id": "60d9600a",
   "metadata": {},
   "source": [
    "### check whether the alpabet is vowel or consonant"
   ]
  },
  {
   "cell_type": "code",
   "execution_count": 3,
   "id": "5d3d596f",
   "metadata": {},
   "outputs": [
    {
     "name": "stdout",
     "output_type": "stream",
     "text": [
      "enter an alphabet:z\n",
      "z it is a consonant\n"
     ]
    }
   ],
   "source": [
    "alphabet=input(\"enter an alphabet:\")\n",
    "if alphabet in (\"a\",\"e\",\"i\",\"o\",\"u\"):\n",
    "    print(\"it is a vowel\")\n",
    "else:\n",
    "    print(alphabet,\"it is a consonant\")\n",
    "   "
   ]
  },
  {
   "cell_type": "markdown",
   "id": "6c47c683",
   "metadata": {},
   "source": [
    "### program to check a person is eligible for vote or not"
   ]
  },
  {
   "cell_type": "code",
   "execution_count": 5,
   "id": "1b954e13",
   "metadata": {},
   "outputs": [
    {
     "name": "stdout",
     "output_type": "stream",
     "text": [
      "enter the age5\n",
      "person is not eligble for vote\n"
     ]
    }
   ],
   "source": [
    "age=int(input(\"enter the age\"))\n",
    "if age>=18:\n",
    "    print(\"person is able to vote\")\n",
    "else:\n",
    "    print(\"person is not eligble for vote\")"
   ]
  },
  {
   "cell_type": "markdown",
   "id": "5efed1c3",
   "metadata": {},
   "source": [
    "### check the number is positive negative or zero"
   ]
  },
  {
   "cell_type": "code",
   "execution_count": 8,
   "id": "0b1c03a0",
   "metadata": {},
   "outputs": [
    {
     "name": "stdout",
     "output_type": "stream",
     "text": [
      "enter the number:0\n",
      "number is zero\n"
     ]
    }
   ],
   "source": [
    "num=int(input(\"enter the number:\"))\n",
    "if num>0:\n",
    "    print(num,\"is positive number\")\n",
    "elif num<0:\n",
    "    print(num,\"is negative number\")\n",
    "else:\n",
    "    print(\"number is zero\")"
   ]
  },
  {
   "cell_type": "markdown",
   "id": "1962171f",
   "metadata": {},
   "source": [
    "### program to check the year is leapyear or not"
   ]
  },
  {
   "cell_type": "code",
   "execution_count": 12,
   "id": "bea04e98",
   "metadata": {},
   "outputs": [
    {
     "name": "stdout",
     "output_type": "stream",
     "text": [
      "enter year:2009\n",
      "2009 is not a leap year\n"
     ]
    }
   ],
   "source": [
    "year=int(input(\"enter year:\"))\n",
    "if(year%4==0 and year%100!=0)or(year%400==0):\n",
    "    print(year,\"is a leapyear\")\n",
    "else:\n",
    "    print(year,\"is not a leap year\")"
   ]
  },
  {
   "cell_type": "markdown",
   "id": "ac4fd4e7",
   "metadata": {},
   "source": [
    "### program to check given triangle is equitorial ,isosceles or scalene"
   ]
  },
  {
   "cell_type": "code",
   "execution_count": 22,
   "id": "678fe1da",
   "metadata": {},
   "outputs": [
    {
     "name": "stdout",
     "output_type": "stream",
     "text": [
      "enter side13\n",
      "enter side26\n",
      "enter side37\n",
      "this s a scalene triangle\n"
     ]
    }
   ],
   "source": [
    "side1=int(input(\"enter side1\"))\n",
    "side2=int(input(\"enter side2\"))\n",
    "side3=int(input(\"enter side3\"))\n",
    "if side1==side2==side3:\n",
    "    print(\"this is a equitorial triangle\")\n",
    "elif side1==side2 or side1==side3 or side2==side3:\n",
    "    print(\"this is isosceles triangle\")\n",
    "else:\n",
    "    print(\"this s a scalene triangle\")"
   ]
  },
  {
   "cell_type": "markdown",
   "id": "884a4306",
   "metadata": {},
   "source": [
    "### program to check whether after  the product sale it is profit or loss"
   ]
  },
  {
   "cell_type": "code",
   "execution_count": 21,
   "id": "50e39ef2",
   "metadata": {},
   "outputs": [
    {
     "name": "stdout",
     "output_type": "stream",
     "text": [
      "enter the price1000\n",
      "enter the saleprice1000\n",
      "product have no profit no loss\n"
     ]
    }
   ],
   "source": [
    "actualprice=int(input(\"enter the price\"))\n",
    "saleprice=int(input(\"enter the saleprice\"))\n",
    "if saleprice>actualprice:\n",
    "    print(\"product is profitable\")\n",
    "elif saleprice<actualprice:\n",
    "    print(\"product is loss\")\n",
    "else:\n",
    "    print(\"product have no profit no loss\")"
   ]
  },
  {
   "cell_type": "code",
   "execution_count": null,
   "id": "28a2d9a3",
   "metadata": {},
   "outputs": [],
   "source": []
  }
 ],
 "metadata": {
  "kernelspec": {
   "display_name": "Python 3 (ipykernel)",
   "language": "python",
   "name": "python3"
  },
  "language_info": {
   "codemirror_mode": {
    "name": "ipython",
    "version": 3
   },
   "file_extension": ".py",
   "mimetype": "text/x-python",
   "name": "python",
   "nbconvert_exporter": "python",
   "pygments_lexer": "ipython3",
   "version": "3.9.12"
  }
 },
 "nbformat": 4,
 "nbformat_minor": 5
}
