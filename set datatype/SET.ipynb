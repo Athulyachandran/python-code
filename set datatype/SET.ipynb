{
 "cells": [
  {
   "cell_type": "markdown",
   "id": "47da3846",
   "metadata": {},
   "source": [
    "a={1,2,3}\n",
    "type(a)"
   ]
  },
  {
   "cell_type": "code",
   "execution_count": 2,
   "id": "89b5587e",
   "metadata": {},
   "outputs": [
    {
     "name": "stdout",
     "output_type": "stream",
     "text": [
      "{1, 2, 3}\n"
     ]
    }
   ],
   "source": [
    "print(a)"
   ]
  },
  {
   "cell_type": "code",
   "execution_count": 3,
   "id": "ecdbc6fb",
   "metadata": {},
   "outputs": [
    {
     "name": "stdout",
     "output_type": "stream",
     "text": [
      "{'t', 'y', 'a', 'l', 'u', 'h'}\n"
     ]
    }
   ],
   "source": [
    "a={1,2,3}#unorderd\n",
    "a=set(\"athulya\")\n",
    "print(a)"
   ]
  },
  {
   "cell_type": "code",
   "execution_count": 4,
   "id": "dc6ab500",
   "metadata": {},
   "outputs": [
    {
     "name": "stdout",
     "output_type": "stream",
     "text": [
      "{1, 2, 3, 4}\n"
     ]
    }
   ],
   "source": [
    "a={1,2,3,3,4,1}## duplicate value not allowed\n",
    "print(a)"
   ]
  },
  {
   "cell_type": "code",
   "execution_count": 5,
   "id": "55eddff3",
   "metadata": {},
   "outputs": [
    {
     "name": "stdout",
     "output_type": "stream",
     "text": [
      "athulya\n",
      "appu\n",
      "anandhu\n"
     ]
    }
   ],
   "source": [
    "name={\"athulya\",\"anandhu\",\"appu\"}\n",
    "for x in name:\n",
    "    print(x)"
   ]
  },
  {
   "cell_type": "code",
   "execution_count": 6,
   "id": "4e934939",
   "metadata": {},
   "outputs": [
    {
     "data": {
      "text/plain": [
       "3"
      ]
     },
     "execution_count": 6,
     "metadata": {},
     "output_type": "execute_result"
    }
   ],
   "source": [
    "name={\"athulya\",\"anandhu\",\"appu\"}\n",
    "len(name)"
   ]
  },
  {
   "cell_type": "code",
   "execution_count": 7,
   "id": "512c153b",
   "metadata": {},
   "outputs": [
    {
     "data": {
      "text/plain": [
       "{'akhil', 'anandhu', 'appu', 'athulya'}"
      ]
     },
     "execution_count": 7,
     "metadata": {},
     "output_type": "execute_result"
    }
   ],
   "source": [
    "name.add(\"akhil\")\n",
    "name"
   ]
  },
  {
   "cell_type": "code",
   "execution_count": 8,
   "id": "4184e912",
   "metadata": {},
   "outputs": [
    {
     "data": {
      "text/plain": [
       "{'akhil', 'ammu', 'anandhu', 'appu', 'athulya'}"
      ]
     },
     "execution_count": 8,
     "metadata": {},
     "output_type": "execute_result"
    }
   ],
   "source": [
    "name.update([\"appu\",\"ammu\"])\n",
    "name"
   ]
  },
  {
   "cell_type": "code",
   "execution_count": 9,
   "id": "79c40543",
   "metadata": {},
   "outputs": [
    {
     "data": {
      "text/plain": [
       "{'anandhu', 'appu', 'athulya'}"
      ]
     },
     "execution_count": 9,
     "metadata": {},
     "output_type": "execute_result"
    }
   ],
   "source": [
    "name={\"athulya\",\"anandhu\",\"appu\",\"ammu\"}#remove method\n",
    "name.remove(\"ammu\")\n",
    "name"
   ]
  },
  {
   "cell_type": "code",
   "execution_count": 10,
   "id": "11c4bcc5",
   "metadata": {},
   "outputs": [
    {
     "data": {
      "text/plain": [
       "{'ammu', 'anandhu', 'appu'}"
      ]
     },
     "execution_count": 10,
     "metadata": {},
     "output_type": "execute_result"
    }
   ],
   "source": [
    "name={\"athulya\",\"anandhu\",\"appu\",\"ammu\"}#pop metrod\n",
    "name.pop()\n",
    "name"
   ]
  },
  {
   "cell_type": "code",
   "execution_count": 14,
   "id": "bdae4d2b",
   "metadata": {},
   "outputs": [
    {
     "data": {
      "text/plain": [
       "{1, 2, 3, 'ammu', 'anandhu', 'appu', 'athulya'}"
      ]
     },
     "execution_count": 14,
     "metadata": {},
     "output_type": "execute_result"
    }
   ],
   "source": [
    "name={\"athulya\",\"anandhu\",\"appu\",\"ammu\"}\n",
    "number={1,2,3}\n",
    "group=name.union(number)\n",
    "group"
   ]
  },
  {
   "cell_type": "code",
   "execution_count": 15,
   "id": "600137e9",
   "metadata": {},
   "outputs": [
    {
     "data": {
      "text/plain": [
       "{1, 2}"
      ]
     },
     "execution_count": 15,
     "metadata": {},
     "output_type": "execute_result"
    }
   ],
   "source": [
    "name={1,2,\"athulya\",\"anandhu\",\"appu\",\"ammu\"}\n",
    "number={1,2,3}\n",
    "group=name.intersection(number)\n",
    "group"
   ]
  },
  {
   "cell_type": "code",
   "execution_count": 1,
   "id": "4fd0a477",
   "metadata": {},
   "outputs": [
    {
     "name": "stdout",
     "output_type": "stream",
     "text": [
      "{2, 3}\n"
     ]
    }
   ],
   "source": [
    "set1={1,2,3}\n",
    "set2={1,4,5,6}\n",
    "set3=set1.difference(set2)\n",
    "print(set3)"
   ]
  },
  {
   "cell_type": "code",
   "execution_count": 1,
   "id": "2d49aa5a",
   "metadata": {},
   "outputs": [
    {
     "data": {
      "text/plain": [
       "{11, 12, 13, 14, 15}"
      ]
     },
     "execution_count": 1,
     "metadata": {},
     "output_type": "execute_result"
    }
   ],
   "source": [
    "s={11,12,13,14,15}\n",
    "s"
   ]
  },
  {
   "cell_type": "code",
   "execution_count": 2,
   "id": "e6be64c0",
   "metadata": {},
   "outputs": [
    {
     "data": {
      "text/plain": [
       "set"
      ]
     },
     "execution_count": 2,
     "metadata": {},
     "output_type": "execute_result"
    }
   ],
   "source": [
    "type(s)"
   ]
  },
  {
   "cell_type": "code",
   "execution_count": 3,
   "id": "6870ace9",
   "metadata": {},
   "outputs": [
    {
     "data": {
      "text/plain": [
       "5"
      ]
     },
     "execution_count": 3,
     "metadata": {},
     "output_type": "execute_result"
    }
   ],
   "source": [
    "len(s)"
   ]
  },
  {
   "cell_type": "code",
   "execution_count": 4,
   "id": "76881d1d",
   "metadata": {},
   "outputs": [
    {
     "data": {
      "text/plain": [
       "{21, 45, 66, 89, 90}"
      ]
     },
     "execution_count": 4,
     "metadata": {},
     "output_type": "execute_result"
    }
   ],
   "source": [
    "s={45,89,21,90,66}## set is unorderd so it will reflect like asending order\n",
    "s"
   ]
  },
  {
   "cell_type": "code",
   "execution_count": null,
   "id": "dc022497",
   "metadata": {},
   "outputs": [],
   "source": [
    "s1={45,56,78,45,45}##set not consider duplicate item so 45 only came onces remaining two will eliminated\n",
    "s1"
   ]
  },
  {
   "cell_type": "markdown",
   "id": "8afe30d0",
   "metadata": {},
   "source": [
    "### empty set"
   ]
  },
  {
   "cell_type": "markdown",
   "id": "25fb6ba4",
   "metadata": {},
   "source": [
    "s3=set()\n",
    "s3"
   ]
  },
  {
   "cell_type": "markdown",
   "id": "a3017a73",
   "metadata": {},
   "source": [
    "### set using constructoe"
   ]
  },
  {
   "cell_type": "code",
   "execution_count": 8,
   "id": "9aecf103",
   "metadata": {},
   "outputs": [
    {
     "data": {
      "text/plain": [
       "{1, 2, 3, 4, 45, 56}"
      ]
     },
     "execution_count": 8,
     "metadata": {},
     "output_type": "execute_result"
    }
   ],
   "source": [
    "s=set((1,2,3,4,45,56))##when crat a set using constructor it will provide same as set\n",
    "s"
   ]
  },
  {
   "cell_type": "code",
   "execution_count": 10,
   "id": "cfd3d83c",
   "metadata": {},
   "outputs": [
    {
     "data": {
      "text/plain": [
       "True"
      ]
     },
     "execution_count": 10,
     "metadata": {},
     "output_type": "execute_result"
    }
   ],
   "source": [
    "set1={1,2,3,4}##membership function\n",
    "1 in set1"
   ]
  },
  {
   "cell_type": "code",
   "execution_count": 11,
   "id": "3b47c60f",
   "metadata": {},
   "outputs": [
    {
     "data": {
      "text/plain": [
       "{1, 2, 3, 4, 5}"
      ]
     },
     "execution_count": 11,
     "metadata": {},
     "output_type": "execute_result"
    }
   ],
   "source": [
    "set1={1,2,3,4}##add a single element\n",
    "set1.add(5)\n",
    "set1"
   ]
  },
  {
   "cell_type": "code",
   "execution_count": 18,
   "id": "f58dbffb",
   "metadata": {},
   "outputs": [
    {
     "name": "stdout",
     "output_type": "stream",
     "text": [
      "1\n",
      "2\n",
      "3\n",
      "5\n"
     ]
    }
   ],
   "source": [
    "s={1,3,2,5}##loop\n",
    "for x in s:\n",
    "    print(x)"
   ]
  },
  {
   "cell_type": "code",
   "execution_count": 19,
   "id": "c1962dfd",
   "metadata": {},
   "outputs": [
    {
     "ename": "TypeError",
     "evalue": "'set' object does not support item assignment",
     "output_type": "error",
     "traceback": [
      "\u001b[1;31m---------------------------------------------------------------------------\u001b[0m",
      "\u001b[1;31mTypeError\u001b[0m                                 Traceback (most recent call last)",
      "Input \u001b[1;32mIn [19]\u001b[0m, in \u001b[0;36m<cell line: 2>\u001b[1;34m()\u001b[0m\n\u001b[0;32m      1\u001b[0m set1\u001b[38;5;241m=\u001b[39m{\u001b[38;5;241m1\u001b[39m,\u001b[38;5;241m2\u001b[39m,\u001b[38;5;241m3\u001b[39m,\u001b[38;5;241m4\u001b[39m}\n\u001b[1;32m----> 2\u001b[0m set1[\u001b[38;5;241m2\u001b[39m]\u001b[38;5;241m=\u001b[39m\u001b[38;5;241m56\u001b[39m\n\u001b[0;32m      3\u001b[0m set1\n",
      "\u001b[1;31mTypeError\u001b[0m: 'set' object does not support item assignment"
     ]
    }
   ],
   "source": [
    "set1={1,2,3,4}##set not allow item asignment\n",
    "set1[2]=56\n",
    "set1"
   ]
  },
  {
   "cell_type": "markdown",
   "id": "8999a304",
   "metadata": {},
   "source": [
    "#### add multiple element"
   ]
  },
  {
   "cell_type": "code",
   "execution_count": 23,
   "id": "6e68742c",
   "metadata": {},
   "outputs": [
    {
     "data": {
      "text/plain": [
       "{1, 2, 5, 34}"
      ]
     },
     "execution_count": 23,
     "metadata": {},
     "output_type": "execute_result"
    }
   ],
   "source": [
    "s3={1,2,34,5}\n",
    "s3"
   ]
  },
  {
   "cell_type": "code",
   "execution_count": 24,
   "id": "a9ca7fbb",
   "metadata": {},
   "outputs": [
    {
     "data": {
      "text/plain": [
       "{1, 2, 5, 34, 56}"
      ]
     },
     "execution_count": 24,
     "metadata": {},
     "output_type": "execute_result"
    }
   ],
   "source": [
    "s3.update([34,56])\n",
    "s3"
   ]
  },
  {
   "cell_type": "markdown",
   "id": "1d7335a4",
   "metadata": {},
   "source": [
    "### add one set to other"
   ]
  },
  {
   "cell_type": "code",
   "execution_count": 25,
   "id": "c065aaea",
   "metadata": {},
   "outputs": [
    {
     "data": {
      "text/plain": [
       "{1, 2, 5, 34, 44, 56, 78, 89}"
      ]
     },
     "execution_count": 25,
     "metadata": {},
     "output_type": "execute_result"
    }
   ],
   "source": [
    "s3={1,2,34,5}\n",
    "s4={44,56,78,89}\n",
    "s3.update(s4)\n",
    "s3"
   ]
  },
  {
   "cell_type": "markdown",
   "id": "d4e7e9d4",
   "metadata": {},
   "source": [
    "### remove"
   ]
  },
  {
   "cell_type": "code",
   "execution_count": 27,
   "id": "5d2f1d87",
   "metadata": {},
   "outputs": [
    {
     "data": {
      "text/plain": [
       "{2, 5, 34}"
      ]
     },
     "execution_count": 27,
     "metadata": {},
     "output_type": "execute_result"
    }
   ],
   "source": [
    "s3={1,2,34,5}\n",
    "s3.remove(1)\n",
    "s3"
   ]
  },
  {
   "cell_type": "code",
   "execution_count": 28,
   "id": "f49c3d5a",
   "metadata": {},
   "outputs": [
    {
     "ename": "KeyError",
     "evalue": "45",
     "output_type": "error",
     "traceback": [
      "\u001b[1;31m---------------------------------------------------------------------------\u001b[0m",
      "\u001b[1;31mKeyError\u001b[0m                                  Traceback (most recent call last)",
      "Input \u001b[1;32mIn [28]\u001b[0m, in \u001b[0;36m<cell line: 1>\u001b[1;34m()\u001b[0m\n\u001b[1;32m----> 1\u001b[0m \u001b[43ms3\u001b[49m\u001b[38;5;241;43m.\u001b[39;49m\u001b[43mremove\u001b[49m\u001b[43m(\u001b[49m\u001b[38;5;241;43m45\u001b[39;49m\u001b[43m)\u001b[49m\n\u001b[0;32m      2\u001b[0m s3\n",
      "\u001b[1;31mKeyError\u001b[0m: 45"
     ]
    }
   ],
   "source": [
    "s3.remove(45)##here is no such elemnt 45 so it produce error\n",
    "s3"
   ]
  },
  {
   "cell_type": "code",
   "execution_count": 29,
   "id": "49e3976d",
   "metadata": {},
   "outputs": [
    {
     "data": {
      "text/plain": [
       "{1, 2, 5, 34}"
      ]
     },
     "execution_count": 29,
     "metadata": {},
     "output_type": "execute_result"
    }
   ],
   "source": [
    "s3={1,2,34,5}##discard same as remove but diff is that if particular elemnt not there it not shows error just execute it\n",
    "s3.discard(6)\n",
    "s3"
   ]
  },
  {
   "cell_type": "code",
   "execution_count": 30,
   "id": "981ff97e",
   "metadata": {},
   "outputs": [
    {
     "data": {
      "text/plain": [
       "1"
      ]
     },
     "execution_count": 30,
     "metadata": {},
     "output_type": "execute_result"
    }
   ],
   "source": [
    "s3={1,2,34,5}##pop is normaly delete last one but set not ordered so it remove initial index\n",
    "s3.pop()"
   ]
  },
  {
   "cell_type": "code",
   "execution_count": 31,
   "id": "b4888ce5",
   "metadata": {},
   "outputs": [
    {
     "data": {
      "text/plain": [
       "2"
      ]
     },
     "execution_count": 31,
     "metadata": {},
     "output_type": "execute_result"
    }
   ],
   "source": [
    "s3.pop()"
   ]
  },
  {
   "cell_type": "code",
   "execution_count": 33,
   "id": "37e90fee",
   "metadata": {},
   "outputs": [
    {
     "data": {
      "text/plain": [
       "set()"
      ]
     },
     "execution_count": 33,
     "metadata": {},
     "output_type": "execute_result"
    }
   ],
   "source": [
    "s3.clear()#clear used to clear entire set\n",
    "s3"
   ]
  },
  {
   "cell_type": "code",
   "execution_count": 34,
   "id": "984a4760",
   "metadata": {},
   "outputs": [
    {
     "ename": "NameError",
     "evalue": "name 's3' is not defined",
     "output_type": "error",
     "traceback": [
      "\u001b[1;31m---------------------------------------------------------------------------\u001b[0m",
      "\u001b[1;31mNameError\u001b[0m                                 Traceback (most recent call last)",
      "Input \u001b[1;32mIn [34]\u001b[0m, in \u001b[0;36m<cell line: 2>\u001b[1;34m()\u001b[0m\n\u001b[0;32m      1\u001b[0m \u001b[38;5;28;01mdel\u001b[39;00m s3\n\u001b[1;32m----> 2\u001b[0m \u001b[43ms3\u001b[49m\n",
      "\u001b[1;31mNameError\u001b[0m: name 's3' is not defined"
     ]
    }
   ],
   "source": [
    "del s3##it show error bz we clear s3\n",
    "s3"
   ]
  },
  {
   "cell_type": "markdown",
   "id": "34ccc791",
   "metadata": {},
   "source": [
    "s3={1,2,3}##delete the set\n",
    "del s3"
   ]
  },
  {
   "cell_type": "markdown",
   "id": "ac98883b",
   "metadata": {},
   "source": [
    "## copy"
   ]
  },
  {
   "cell_type": "code",
   "execution_count": 38,
   "id": "bbda8e86",
   "metadata": {},
   "outputs": [
    {
     "data": {
      "text/plain": [
       "{3, 4, 5, 6}"
      ]
     },
     "execution_count": 38,
     "metadata": {},
     "output_type": "execute_result"
    }
   ],
   "source": [
    "s={3,4,5,6}\n",
    "s"
   ]
  },
  {
   "cell_type": "code",
   "execution_count": 39,
   "id": "686affe0",
   "metadata": {},
   "outputs": [
    {
     "data": {
      "text/plain": [
       "{3, 4, 5, 6}"
      ]
     },
     "execution_count": 39,
     "metadata": {},
     "output_type": "execute_result"
    }
   ],
   "source": [
    "s1=s.copy()\n",
    "s1"
   ]
  },
  {
   "cell_type": "code",
   "execution_count": 40,
   "id": "c9447516",
   "metadata": {},
   "outputs": [
    {
     "data": {
      "text/plain": [
       "1774416998464"
      ]
     },
     "execution_count": 40,
     "metadata": {},
     "output_type": "execute_result"
    }
   ],
   "source": [
    "id(s)"
   ]
  },
  {
   "cell_type": "code",
   "execution_count": 41,
   "id": "9c4a39d8",
   "metadata": {},
   "outputs": [
    {
     "data": {
      "text/plain": [
       "1774417001600"
      ]
     },
     "execution_count": 41,
     "metadata": {},
     "output_type": "execute_result"
    }
   ],
   "source": [
    "id(s1)"
   ]
  },
  {
   "cell_type": "markdown",
   "id": "722820b1",
   "metadata": {},
   "source": [
    "### set operation"
   ]
  },
  {
   "cell_type": "markdown",
   "id": "380d5e2a",
   "metadata": {},
   "source": [
    "#### union,intersection,update"
   ]
  },
  {
   "cell_type": "code",
   "execution_count": null,
   "id": "067c434d",
   "metadata": {},
   "outputs": [],
   "source": [
    "s={1,2,3}\n",
    "s1={4,5,6}\n",
    "s2={12,34}"
   ]
  },
  {
   "cell_type": "code",
   "execution_count": 43,
   "id": "935409c6",
   "metadata": {},
   "outputs": [
    {
     "data": {
      "text/plain": [
       "{3, 4, 5, 6}"
      ]
     },
     "execution_count": 43,
     "metadata": {},
     "output_type": "execute_result"
    }
   ],
   "source": [
    "s"
   ]
  },
  {
   "cell_type": "code",
   "execution_count": 44,
   "id": "4d93c2ed",
   "metadata": {},
   "outputs": [
    {
     "data": {
      "text/plain": [
       "{3, 4, 5, 6}"
      ]
     },
     "execution_count": 44,
     "metadata": {},
     "output_type": "execute_result"
    }
   ],
   "source": [
    "s1"
   ]
  },
  {
   "cell_type": "code",
   "execution_count": 45,
   "id": "f9a944a1",
   "metadata": {},
   "outputs": [
    {
     "data": {
      "text/plain": [
       "{4, 5, 6}"
      ]
     },
     "execution_count": 45,
     "metadata": {},
     "output_type": "execute_result"
    }
   ],
   "source": [
    "s2"
   ]
  },
  {
   "cell_type": "code",
   "execution_count": 51,
   "id": "ca3a6aac",
   "metadata": {},
   "outputs": [
    {
     "data": {
      "text/plain": [
       "{3, 4, 5, 6}"
      ]
     },
     "execution_count": 51,
     "metadata": {},
     "output_type": "execute_result"
    }
   ],
   "source": [
    "s | s1"
   ]
  },
  {
   "cell_type": "code",
   "execution_count": 47,
   "id": "a9ec8c6f",
   "metadata": {},
   "outputs": [],
   "source": [
    "a={1,2,3}\n",
    "b={4,5,6}\n"
   ]
  },
  {
   "cell_type": "code",
   "execution_count": 48,
   "id": "8feae33f",
   "metadata": {},
   "outputs": [
    {
     "data": {
      "text/plain": [
       "set()"
      ]
     },
     "execution_count": 48,
     "metadata": {},
     "output_type": "execute_result"
    }
   ],
   "source": [
    "a & b##intersection"
   ]
  },
  {
   "cell_type": "code",
   "execution_count": 49,
   "id": "7da6ec44",
   "metadata": {},
   "outputs": [],
   "source": [
    "a={1,2,3}\n",
    "b={4,5,6,1}"
   ]
  },
  {
   "cell_type": "code",
   "execution_count": 50,
   "id": "b748bd39",
   "metadata": {},
   "outputs": [
    {
     "data": {
      "text/plain": [
       "{1}"
      ]
     },
     "execution_count": 50,
     "metadata": {},
     "output_type": "execute_result"
    }
   ],
   "source": [
    "a & b"
   ]
  },
  {
   "cell_type": "code",
   "execution_count": 52,
   "id": "e8746e18",
   "metadata": {},
   "outputs": [],
   "source": [
    "a={1,2,3}\n",
    "b={4,5,6}"
   ]
  },
  {
   "cell_type": "code",
   "execution_count": 53,
   "id": "eca4e8e2",
   "metadata": {},
   "outputs": [
    {
     "data": {
      "text/plain": [
       "{1, 2, 3, 4, 5, 6}"
      ]
     },
     "execution_count": 53,
     "metadata": {},
     "output_type": "execute_result"
    }
   ],
   "source": [
    "a | b##union"
   ]
  },
  {
   "cell_type": "code",
   "execution_count": 54,
   "id": "9634bd8d",
   "metadata": {},
   "outputs": [],
   "source": [
    "a={1,2,3}\n",
    "b={4,5,6}"
   ]
  },
  {
   "cell_type": "code",
   "execution_count": 55,
   "id": "b00b6c46",
   "metadata": {},
   "outputs": [
    {
     "data": {
      "text/plain": [
       "{1, 2, 3}"
      ]
     },
     "execution_count": 55,
     "metadata": {},
     "output_type": "execute_result"
    }
   ],
   "source": [
    "a-b##difference"
   ]
  },
  {
   "cell_type": "code",
   "execution_count": 56,
   "id": "0104e6a4",
   "metadata": {},
   "outputs": [],
   "source": [
    "x={1,2,3,4,5}\n",
    "y={4,5,6,7,8}"
   ]
  },
  {
   "cell_type": "code",
   "execution_count": 57,
   "id": "8314dad6",
   "metadata": {},
   "outputs": [
    {
     "data": {
      "text/plain": [
       "{1, 2, 3}"
      ]
     },
     "execution_count": 57,
     "metadata": {},
     "output_type": "execute_result"
    }
   ],
   "source": [
    "x-y"
   ]
  },
  {
   "cell_type": "markdown",
   "id": "c435c353",
   "metadata": {},
   "source": [
    "x={1,2,3,4,5}\n",
    "y={4,5,6,7,8}## diference"
   ]
  },
  {
   "cell_type": "code",
   "execution_count": 61,
   "id": "15b79ea6",
   "metadata": {},
   "outputs": [
    {
     "data": {
      "text/plain": [
       "{6, 7, 8}"
      ]
     },
     "execution_count": 61,
     "metadata": {},
     "output_type": "execute_result"
    }
   ],
   "source": [
    "y.difference(x)\n"
   ]
  },
  {
   "cell_type": "markdown",
   "id": "be637fbd",
   "metadata": {},
   "source": [
    "### symetric diff"
   ]
  },
  {
   "cell_type": "code",
   "execution_count": 62,
   "id": "2dec6464",
   "metadata": {},
   "outputs": [],
   "source": [
    "i={1,2,3,4,5}##symetric dif provide new set that not contain in both set here 4,5 include in both set so remaining will print\n",
    "j={4,5,6,7,8}"
   ]
  },
  {
   "cell_type": "code",
   "execution_count": 63,
   "id": "ba5848cd",
   "metadata": {},
   "outputs": [
    {
     "data": {
      "text/plain": [
       "{1, 2, 3, 6, 7, 8}"
      ]
     },
     "execution_count": 63,
     "metadata": {},
     "output_type": "execute_result"
    }
   ],
   "source": [
    "i ^ j"
   ]
  },
  {
   "cell_type": "code",
   "execution_count": 65,
   "id": "e655d552",
   "metadata": {},
   "outputs": [
    {
     "data": {
      "text/plain": [
       "{1, 2, 3, 6, 7, 8}"
      ]
     },
     "execution_count": 65,
     "metadata": {},
     "output_type": "execute_result"
    }
   ],
   "source": [
    "i.symmetric_difference(j)"
   ]
  },
  {
   "cell_type": "code",
   "execution_count": 66,
   "id": "2c971ebc",
   "metadata": {},
   "outputs": [
    {
     "data": {
      "text/plain": [
       "{1, 2, 3, 4, 5}"
      ]
     },
     "execution_count": 66,
     "metadata": {},
     "output_type": "execute_result"
    }
   ],
   "source": [
    "i"
   ]
  },
  {
   "cell_type": "code",
   "execution_count": 67,
   "id": "6e82e3a6",
   "metadata": {},
   "outputs": [
    {
     "data": {
      "text/plain": [
       "{4, 5, 6, 7, 8}"
      ]
     },
     "execution_count": 67,
     "metadata": {},
     "output_type": "execute_result"
    }
   ],
   "source": [
    "j"
   ]
  },
  {
   "cell_type": "markdown",
   "id": "1b98feb8",
   "metadata": {},
   "source": [
    "### issubset"
   ]
  },
  {
   "cell_type": "code",
   "execution_count": 1,
   "id": "e7352911",
   "metadata": {},
   "outputs": [
    {
     "data": {
      "text/plain": [
       "False"
      ]
     },
     "execution_count": 1,
     "metadata": {},
     "output_type": "execute_result"
    }
   ],
   "source": [
    "i={1,2,3,4}\n",
    "j={5,6,7,8}\n",
    "x=i.issubset(j)\n",
    "x"
   ]
  },
  {
   "cell_type": "code",
   "execution_count": 2,
   "id": "1ef0be19",
   "metadata": {},
   "outputs": [
    {
     "data": {
      "text/plain": [
       "True"
      ]
     },
     "execution_count": 2,
     "metadata": {},
     "output_type": "execute_result"
    }
   ],
   "source": [
    "i={1,2,3,4}\n",
    "j={1,2,3,4,5,6,7,8}\n",
    "x=i.issubset(j)\n",
    "x"
   ]
  },
  {
   "cell_type": "markdown",
   "id": "2c6dd5e9",
   "metadata": {},
   "source": [
    "### is disjoint"
   ]
  },
  {
   "cell_type": "code",
   "execution_count": 3,
   "id": "121e984b",
   "metadata": {},
   "outputs": [
    {
     "data": {
      "text/plain": [
       "False"
      ]
     },
     "execution_count": 3,
     "metadata": {},
     "output_type": "execute_result"
    }
   ],
   "source": [
    "i={1,2,3,4,5}## is disjoint is return true if none of the elemnt in both set otherwise false\n",
    "j={4,5,6,7,8}\n",
    "x=i.isdisjoint(j)\n",
    "x"
   ]
  },
  {
   "cell_type": "code",
   "execution_count": 4,
   "id": "1d4209e5",
   "metadata": {},
   "outputs": [
    {
     "data": {
      "text/plain": [
       "True"
      ]
     },
     "execution_count": 4,
     "metadata": {},
     "output_type": "execute_result"
    }
   ],
   "source": [
    "i={1,2,3,4}\n",
    "j={5,6,7,8}\n",
    "x=i.isdisjoint(j)\n",
    "x"
   ]
  },
  {
   "cell_type": "code",
   "execution_count": 50,
   "id": "f4895164",
   "metadata": {},
   "outputs": [
    {
     "data": {
      "text/plain": [
       "set"
      ]
     },
     "execution_count": 50,
     "metadata": {},
     "output_type": "execute_result"
    }
   ],
   "source": [
    "type(i)"
   ]
  },
  {
   "cell_type": "markdown",
   "id": "d4b91a31",
   "metadata": {},
   "source": [
    "### issuperset"
   ]
  },
  {
   "cell_type": "code",
   "execution_count": null,
   "id": "29715977",
   "metadata": {},
   "outputs": [],
   "source": [
    "###it return true if all item in the specified set exist in the original set"
   ]
  },
  {
   "cell_type": "code",
   "execution_count": 5,
   "id": "7195f8ee",
   "metadata": {},
   "outputs": [
    {
     "data": {
      "text/plain": [
       "True"
      ]
     },
     "execution_count": 5,
     "metadata": {},
     "output_type": "execute_result"
    }
   ],
   "source": [
    "i={1,2,3,4,5,6,7,8}\n",
    "j={6,7,8}\n",
    "x=i.issuperset(j)\n",
    "x"
   ]
  },
  {
   "cell_type": "code",
   "execution_count": 9,
   "id": "b3dac119",
   "metadata": {},
   "outputs": [
    {
     "data": {
      "text/plain": [
       "False"
      ]
     },
     "execution_count": 9,
     "metadata": {},
     "output_type": "execute_result"
    }
   ],
   "source": [
    "i={1,2,3,4,5,6,7,8}\n",
    "j={6,7,8}\n",
    "x=j.issuperset(i)\n",
    "x"
   ]
  },
  {
   "cell_type": "code",
   "execution_count": 8,
   "id": "1e8cdb81",
   "metadata": {},
   "outputs": [
    {
     "data": {
      "text/plain": [
       "False"
      ]
     },
     "execution_count": 8,
     "metadata": {},
     "output_type": "execute_result"
    }
   ],
   "source": [
    "i={1,2,3,4} ##superset need to include every elemnt in the subset\n",
    "j={1,2,3,4,5,6,7,8}\n",
    "x=i.issuperset(j)\n",
    "x"
   ]
  },
  {
   "cell_type": "markdown",
   "id": "d35ead24",
   "metadata": {},
   "source": [
    "### frozenset"
   ]
  },
  {
   "cell_type": "code",
   "execution_count": 10,
   "id": "9d0a4f37",
   "metadata": {},
   "outputs": [
    {
     "data": {
      "text/plain": [
       "frozenset"
      ]
     },
     "execution_count": 10,
     "metadata": {},
     "output_type": "execute_result"
    }
   ],
   "source": [
    "s={1,2,3,4,5}##making a frozen set,normalset exist use frozensetfunction\n",
    "f=frozenset(s)\n",
    "type(f)"
   ]
  },
  {
   "cell_type": "code",
   "execution_count": 11,
   "id": "e54c68d3",
   "metadata": {},
   "outputs": [
    {
     "data": {
      "text/plain": [
       "set"
      ]
     },
     "execution_count": 11,
     "metadata": {},
     "output_type": "execute_result"
    }
   ],
   "source": [
    "type(s)##s is set"
   ]
  },
  {
   "cell_type": "code",
   "execution_count": 12,
   "id": "0ed755f2",
   "metadata": {},
   "outputs": [
    {
     "data": {
      "text/plain": [
       "frozenset"
      ]
     },
     "execution_count": 12,
     "metadata": {},
     "output_type": "execute_result"
    }
   ],
   "source": [
    "type(f)##whwn we convert it with frozen() it is frozenset"
   ]
  },
  {
   "cell_type": "code",
   "execution_count": 13,
   "id": "35f63041",
   "metadata": {},
   "outputs": [
    {
     "ename": "AttributeError",
     "evalue": "'frozenset' object has no attribute 'add'",
     "output_type": "error",
     "traceback": [
      "\u001b[1;31m---------------------------------------------------------------------------\u001b[0m",
      "\u001b[1;31mAttributeError\u001b[0m                            Traceback (most recent call last)",
      "Input \u001b[1;32mIn [13]\u001b[0m, in \u001b[0;36m<cell line: 1>\u001b[1;34m()\u001b[0m\n\u001b[1;32m----> 1\u001b[0m \u001b[43mf\u001b[49m\u001b[38;5;241;43m.\u001b[39;49m\u001b[43madd\u001b[49m(\u001b[38;5;241m12\u001b[39m)\n",
      "\u001b[1;31mAttributeError\u001b[0m: 'frozenset' object has no attribute 'add'"
     ]
    }
   ],
   "source": [
    "f.add(12)##cant add elemnt it is immutable\n"
   ]
  },
  {
   "cell_type": "code",
   "execution_count": 14,
   "id": "b4a62aa4",
   "metadata": {},
   "outputs": [
    {
     "ename": "TypeError",
     "evalue": "'frozenset' object is not subscriptable",
     "output_type": "error",
     "traceback": [
      "\u001b[1;31m---------------------------------------------------------------------------\u001b[0m",
      "\u001b[1;31mTypeError\u001b[0m                                 Traceback (most recent call last)",
      "Input \u001b[1;32mIn [14]\u001b[0m, in \u001b[0;36m<cell line: 1>\u001b[1;34m()\u001b[0m\n\u001b[1;32m----> 1\u001b[0m \u001b[43mf\u001b[49m\u001b[43m[\u001b[49m\u001b[38;5;241;43m1\u001b[39;49m\u001b[43m]\u001b[49m\n",
      "\u001b[1;31mTypeError\u001b[0m: 'frozenset' object is not subscriptable"
     ]
    }
   ],
   "source": [
    "f[1]##we cant take index in frozen set not orderdset"
   ]
  },
  {
   "cell_type": "code",
   "execution_count": 24,
   "id": "4bdbe114",
   "metadata": {},
   "outputs": [
    {
     "data": {
      "text/plain": [
       "frozenset({(6+8j), 2, 3, 4, 5, 'divya'})"
      ]
     },
     "execution_count": 24,
     "metadata": {},
     "output_type": "execute_result"
    }
   ],
   "source": [
    "f=frozenset({\"divya\",2,3,4,5,6+8j})###frozenset unorderd so order may change from input order\n",
    "f"
   ]
  },
  {
   "cell_type": "markdown",
   "id": "d9d4b2bf",
   "metadata": {},
   "source": [
    "### operations"
   ]
  },
  {
   "cell_type": "code",
   "execution_count": 16,
   "id": "ea5f59b4",
   "metadata": {},
   "outputs": [
    {
     "data": {
      "text/plain": [
       "frozenset"
      ]
     },
     "execution_count": 16,
     "metadata": {},
     "output_type": "execute_result"
    }
   ],
   "source": [
    "s={1,2,3,4,5}\n",
    "f=frozenset(s)\n",
    "type(f)"
   ]
  },
  {
   "cell_type": "code",
   "execution_count": 17,
   "id": "3e0aff86",
   "metadata": {},
   "outputs": [
    {
     "ename": "AttributeError",
     "evalue": "'frozenset' object has no attribute 'remove'",
     "output_type": "error",
     "traceback": [
      "\u001b[1;31m---------------------------------------------------------------------------\u001b[0m",
      "\u001b[1;31mAttributeError\u001b[0m                            Traceback (most recent call last)",
      "Input \u001b[1;32mIn [17]\u001b[0m, in \u001b[0;36m<cell line: 1>\u001b[1;34m()\u001b[0m\n\u001b[1;32m----> 1\u001b[0m \u001b[43mf\u001b[49m\u001b[38;5;241;43m.\u001b[39;49m\u001b[43mremove\u001b[49m(\u001b[38;5;241m1\u001b[39m)\n\u001b[0;32m      2\u001b[0m f\n",
      "\u001b[1;31mAttributeError\u001b[0m: 'frozenset' object has no attribute 'remove'"
     ]
    }
   ],
   "source": [
    "f.remove(1)\n",
    "f"
   ]
  },
  {
   "cell_type": "code",
   "execution_count": 18,
   "id": "3364a973",
   "metadata": {},
   "outputs": [
    {
     "ename": "AttributeError",
     "evalue": "'frozenset' object has no attribute 'add'",
     "output_type": "error",
     "traceback": [
      "\u001b[1;31m---------------------------------------------------------------------------\u001b[0m",
      "\u001b[1;31mAttributeError\u001b[0m                            Traceback (most recent call last)",
      "Input \u001b[1;32mIn [18]\u001b[0m, in \u001b[0;36m<cell line: 1>\u001b[1;34m()\u001b[0m\n\u001b[1;32m----> 1\u001b[0m \u001b[43mf\u001b[49m\u001b[38;5;241;43m.\u001b[39;49m\u001b[43madd\u001b[49m(\u001b[38;5;241m6\u001b[39m)\n",
      "\u001b[1;31mAttributeError\u001b[0m: 'frozenset' object has no attribute 'add'"
     ]
    }
   ],
   "source": [
    "f.add(6)"
   ]
  },
  {
   "cell_type": "code",
   "execution_count": 19,
   "id": "e6c7edae",
   "metadata": {},
   "outputs": [
    {
     "ename": "AttributeError",
     "evalue": "'frozenset' object has no attribute 'pop'",
     "output_type": "error",
     "traceback": [
      "\u001b[1;31m---------------------------------------------------------------------------\u001b[0m",
      "\u001b[1;31mAttributeError\u001b[0m                            Traceback (most recent call last)",
      "Input \u001b[1;32mIn [19]\u001b[0m, in \u001b[0;36m<cell line: 1>\u001b[1;34m()\u001b[0m\n\u001b[1;32m----> 1\u001b[0m \u001b[43mf\u001b[49m\u001b[38;5;241;43m.\u001b[39;49m\u001b[43mpop\u001b[49m()\n\u001b[0;32m      2\u001b[0m f\n",
      "\u001b[1;31mAttributeError\u001b[0m: 'frozenset' object has no attribute 'pop'"
     ]
    }
   ],
   "source": [
    "f.pop()\n",
    "f"
   ]
  },
  {
   "cell_type": "code",
   "execution_count": 20,
   "id": "1f8808ae",
   "metadata": {},
   "outputs": [
    {
     "ename": "AttributeError",
     "evalue": "'frozenset' object has no attribute 'pop'",
     "output_type": "error",
     "traceback": [
      "\u001b[1;31m---------------------------------------------------------------------------\u001b[0m",
      "\u001b[1;31mAttributeError\u001b[0m                            Traceback (most recent call last)",
      "Input \u001b[1;32mIn [20]\u001b[0m, in \u001b[0;36m<cell line: 1>\u001b[1;34m()\u001b[0m\n\u001b[1;32m----> 1\u001b[0m \u001b[43mf\u001b[49m\u001b[38;5;241;43m.\u001b[39;49m\u001b[43mpop\u001b[49m(\u001b[38;5;241m5\u001b[39m)\n\u001b[0;32m      2\u001b[0m f\n",
      "\u001b[1;31mAttributeError\u001b[0m: 'frozenset' object has no attribute 'pop'"
     ]
    }
   ],
   "source": [
    "f.pop(5)\n",
    "f"
   ]
  },
  {
   "cell_type": "code",
   "execution_count": 26,
   "id": "2475483e",
   "metadata": {},
   "outputs": [
    {
     "ename": "AttributeError",
     "evalue": "'frozenset' object has no attribute 'clear'",
     "output_type": "error",
     "traceback": [
      "\u001b[1;31m---------------------------------------------------------------------------\u001b[0m",
      "\u001b[1;31mAttributeError\u001b[0m                            Traceback (most recent call last)",
      "Input \u001b[1;32mIn [26]\u001b[0m, in \u001b[0;36m<cell line: 1>\u001b[1;34m()\u001b[0m\n\u001b[1;32m----> 1\u001b[0m \u001b[43mf\u001b[49m\u001b[38;5;241;43m.\u001b[39;49m\u001b[43mclear\u001b[49m(\u001b[38;5;241m3\u001b[39m)\n\u001b[0;32m      2\u001b[0m f\n",
      "\u001b[1;31mAttributeError\u001b[0m: 'frozenset' object has no attribute 'clear'"
     ]
    }
   ],
   "source": [
    "f.clear(3)\n",
    "f"
   ]
  },
  {
   "cell_type": "code",
   "execution_count": 27,
   "id": "3f4d7ebd",
   "metadata": {},
   "outputs": [],
   "source": [
    "del f "
   ]
  },
  {
   "cell_type": "code",
   "execution_count": 28,
   "id": "e6e61de2",
   "metadata": {},
   "outputs": [
    {
     "ename": "NameError",
     "evalue": "name 'f' is not defined",
     "output_type": "error",
     "traceback": [
      "\u001b[1;31m---------------------------------------------------------------------------\u001b[0m",
      "\u001b[1;31mNameError\u001b[0m                                 Traceback (most recent call last)",
      "Input \u001b[1;32mIn [28]\u001b[0m, in \u001b[0;36m<cell line: 1>\u001b[1;34m()\u001b[0m\n\u001b[1;32m----> 1\u001b[0m \u001b[43mf\u001b[49m\n",
      "\u001b[1;31mNameError\u001b[0m: name 'f' is not defined"
     ]
    }
   ],
   "source": [
    "f"
   ]
  },
  {
   "cell_type": "code",
   "execution_count": 38,
   "id": "39deaea2",
   "metadata": {},
   "outputs": [
    {
     "data": {
      "text/plain": [
       "frozenset({3, 4, 5, 6})"
      ]
     },
     "execution_count": 38,
     "metadata": {},
     "output_type": "execute_result"
    }
   ],
   "source": [
    "i={1,2,3,4}\n",
    "j={3,4,5,6}\n",
    "i1=frozenset(i)\n",
    "j1=frozenset(j)\n",
    "i1\n",
    "j1"
   ]
  },
  {
   "cell_type": "code",
   "execution_count": 39,
   "id": "c4f49700",
   "metadata": {},
   "outputs": [
    {
     "data": {
      "text/plain": [
       "frozenset"
      ]
     },
     "execution_count": 39,
     "metadata": {},
     "output_type": "execute_result"
    }
   ],
   "source": [
    "type(i1)"
   ]
  },
  {
   "cell_type": "code",
   "execution_count": 40,
   "id": "80c953b8",
   "metadata": {},
   "outputs": [
    {
     "data": {
      "text/plain": [
       "frozenset"
      ]
     },
     "execution_count": 40,
     "metadata": {},
     "output_type": "execute_result"
    }
   ],
   "source": [
    "type(j1)"
   ]
  },
  {
   "cell_type": "code",
   "execution_count": 41,
   "id": "bba8d8ef",
   "metadata": {},
   "outputs": [
    {
     "data": {
      "text/plain": [
       "frozenset({1, 2, 3, 4})"
      ]
     },
     "execution_count": 41,
     "metadata": {},
     "output_type": "execute_result"
    }
   ],
   "source": [
    "i1"
   ]
  },
  {
   "cell_type": "code",
   "execution_count": 42,
   "id": "29fd4699",
   "metadata": {},
   "outputs": [
    {
     "data": {
      "text/plain": [
       "frozenset({3, 4, 5, 6})"
      ]
     },
     "execution_count": 42,
     "metadata": {},
     "output_type": "execute_result"
    }
   ],
   "source": [
    "j1"
   ]
  },
  {
   "cell_type": "code",
   "execution_count": 43,
   "id": "20dc3ecf",
   "metadata": {},
   "outputs": [
    {
     "data": {
      "text/plain": [
       "frozenset({1, 2, 3, 4, 5, 6})"
      ]
     },
     "execution_count": 43,
     "metadata": {},
     "output_type": "execute_result"
    }
   ],
   "source": [
    "i1.union(j1)##union"
   ]
  },
  {
   "cell_type": "code",
   "execution_count": 44,
   "id": "b910b542",
   "metadata": {},
   "outputs": [
    {
     "data": {
      "text/plain": [
       "frozenset({3, 4})"
      ]
     },
     "execution_count": 44,
     "metadata": {},
     "output_type": "execute_result"
    }
   ],
   "source": [
    "i1.intersection(j1)##intersection"
   ]
  },
  {
   "cell_type": "code",
   "execution_count": 45,
   "id": "c97cea8b",
   "metadata": {},
   "outputs": [
    {
     "data": {
      "text/plain": [
       "frozenset({1, 2})"
      ]
     },
     "execution_count": 45,
     "metadata": {},
     "output_type": "execute_result"
    }
   ],
   "source": [
    "i1.difference(j1)##diference"
   ]
  },
  {
   "cell_type": "code",
   "execution_count": 46,
   "id": "f21efa89",
   "metadata": {},
   "outputs": [
    {
     "data": {
      "text/plain": [
       "frozenset({1, 2, 5, 6})"
      ]
     },
     "execution_count": 46,
     "metadata": {},
     "output_type": "execute_result"
    }
   ],
   "source": [
    "i1.symmetric_difference(j1)##symmetric diference"
   ]
  },
  {
   "cell_type": "code",
   "execution_count": 47,
   "id": "51d211cd",
   "metadata": {},
   "outputs": [
    {
     "data": {
      "text/plain": [
       "frozenset({1, 2, 3, 4})"
      ]
     },
     "execution_count": 47,
     "metadata": {},
     "output_type": "execute_result"
    }
   ],
   "source": [
    "d=i1.copy()##copy\n",
    "d"
   ]
  },
  {
   "cell_type": "code",
   "execution_count": 48,
   "id": "7e2a8c06",
   "metadata": {},
   "outputs": [
    {
     "data": {
      "text/plain": [
       "2245144038976"
      ]
     },
     "execution_count": 48,
     "metadata": {},
     "output_type": "execute_result"
    }
   ],
   "source": [
    "id(i1)##in every othr after copy the original and copied have diferent id but in frozenset id will became same id"
   ]
  },
  {
   "cell_type": "code",
   "execution_count": 49,
   "id": "e3b90178",
   "metadata": {},
   "outputs": [
    {
     "data": {
      "text/plain": [
       "2245144038976"
      ]
     },
     "execution_count": 49,
     "metadata": {},
     "output_type": "execute_result"
    }
   ],
   "source": [
    "id(d)##both id are same"
   ]
  },
  {
   "cell_type": "code",
   "execution_count": null,
   "id": "f595813f",
   "metadata": {},
   "outputs": [],
   "source": []
  }
 ],
 "metadata": {
  "kernelspec": {
   "display_name": "Python 3 (ipykernel)",
   "language": "python",
   "name": "python3"
  },
  "language_info": {
   "codemirror_mode": {
    "name": "ipython",
    "version": 3
   },
   "file_extension": ".py",
   "mimetype": "text/x-python",
   "name": "python",
   "nbconvert_exporter": "python",
   "pygments_lexer": "ipython3",
   "version": "3.9.12"
  }
 },
 "nbformat": 4,
 "nbformat_minor": 5
}
