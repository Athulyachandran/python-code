{
 "cells": [
  {
   "cell_type": "markdown",
   "id": "c9ef60e3",
   "metadata": {},
   "source": [
    "#### 1.Write a program to check whether given number is ever or odd."
   ]
  },
  {
   "cell_type": "code",
   "execution_count": 1,
   "id": "c1da4ef0",
   "metadata": {},
   "outputs": [
    {
     "name": "stdout",
     "output_type": "stream",
     "text": [
      "Enter the number2\n",
      "2 is even number\n"
     ]
    }
   ],
   "source": [
    "num=int(input(\"Enter the number\"))\n",
    "if num%2==0:\n",
    "    print(num,\"Is even number\")\n",
    "else:\n",
    "    print(num,\"Is an odd number\")"
   ]
  },
  {
   "cell_type": "markdown",
   "id": "233ba52b",
   "metadata": {},
   "source": [
    "#### 2.Write a program to check an alphabet is vowel or consonant."
   ]
  },
  {
   "cell_type": "code",
   "execution_count": 2,
   "id": "e5e43e11",
   "metadata": {},
   "outputs": [
    {
     "name": "stdout",
     "output_type": "stream",
     "text": [
      "Enter an alphabet:M\n",
      "M it is a consonant\n"
     ]
    }
   ],
   "source": [
    "alphabet=input(\"Enter an alphabet:\")\n",
    "if alphabet in (\"a\",\"e\",\"i\",\"o\",\"u\",\"A\",\"E\",\"I\",\"O\",\"U\"):\n",
    "    print(\"It is a vowel\")\n",
    "else:\n",
    "    print(alphabet,\" Is a consonant\")\n",
    "   "
   ]
  },
  {
   "cell_type": "markdown",
   "id": "68c5adf2",
   "metadata": {},
   "source": [
    "#### 3.Write a program to check whether  a person is eligible to vote or not."
   ]
  },
  {
   "cell_type": "code",
   "execution_count": 3,
   "id": "c7e209f3",
   "metadata": {},
   "outputs": [
    {
     "name": "stdout",
     "output_type": "stream",
     "text": [
      "Enter the age77\n",
      "Person is able to vote\n"
     ]
    }
   ],
   "source": [
    "age=int(input(\"Enter the age\"))\n",
    "if age>=18:\n",
    "    print(\"Person is able to vote\")\n",
    "else:\n",
    "    print(\"Person is not eligble for vote\")"
   ]
  },
  {
   "cell_type": "markdown",
   "id": "f670f04b",
   "metadata": {},
   "source": [
    "#### 4.Write a program to check given number is positive negative or zero."
   ]
  },
  {
   "cell_type": "code",
   "execution_count": 4,
   "id": "75405632",
   "metadata": {},
   "outputs": [
    {
     "name": "stdout",
     "output_type": "stream",
     "text": [
      "Enter the number:8\n",
      "8 is positive number\n"
     ]
    }
   ],
   "source": [
    "num=int(input(\"Enter the number:\"))\n",
    "if num>0:\n",
    "    print(num,\"Is positive number\")\n",
    "elif num<0:\n",
    "    print(num,\"Is negative number\")\n",
    "else:\n",
    "    print(\"Number is zero\")"
   ]
  },
  {
   "cell_type": "markdown",
   "id": "049ea716",
   "metadata": {},
   "source": [
    "#### 5.Write a program to check whether given year is leapyear or not."
   ]
  },
  {
   "cell_type": "code",
   "execution_count": 5,
   "id": "c6c3cb63",
   "metadata": {},
   "outputs": [
    {
     "name": "stdout",
     "output_type": "stream",
     "text": [
      "Enter year:2000\n",
      "2000 Is a leapyear\n"
     ]
    }
   ],
   "source": [
    "year=int(input(\"Enter year:\"))\n",
    "if(year%4==0 and year%100!=0)or(year%400==0):\n",
    "    print(year,\"Is a leapyear\")\n",
    "else:\n",
    "    print(year,\"Is not a leap year\")"
   ]
  },
  {
   "cell_type": "markdown",
   "id": "29082e59",
   "metadata": {},
   "source": [
    "#### 6.Write a program to check whether given triangle is equilateral,isosceles or scalene."
   ]
  },
  {
   "cell_type": "code",
   "execution_count": 6,
   "id": "05ea2263",
   "metadata": {},
   "outputs": [
    {
     "name": "stdout",
     "output_type": "stream",
     "text": [
      "Enter side19\n",
      "Enter side29\n",
      "Enter side39\n",
      "This is a equilateral triangle\n"
     ]
    }
   ],
   "source": [
    "side1=int(input(\"Enter side1\"))\n",
    "side2=int(input(\"Enter side2\"))\n",
    "side3=int(input(\"Enter side3\"))\n",
    "if side1==side2==side3:\n",
    "    print(\"This is a equilateral triangle\")\n",
    "elif side1==side2 or side1==side3 or side2==side3:\n",
    "    print(\"This is isosceles triangle\")\n",
    "else:\n",
    "    print(\"This s a scalene triangle\")"
   ]
  },
  {
   "cell_type": "markdown",
   "id": "c4773b7f",
   "metadata": {},
   "source": [
    "#### 7.Write a program to check the selling product is profit or not."
   ]
  },
  {
   "cell_type": "code",
   "execution_count": 7,
   "id": "0fe3e8e3",
   "metadata": {},
   "outputs": [
    {
     "name": "stdout",
     "output_type": "stream",
     "text": [
      "Enter the price6700\n",
      "Enter the saleprice900\n",
      "Product is loss and the loss is 5800\n"
     ]
    }
   ],
   "source": [
    "actualprice=int(input(\"Enter the price\"))\n",
    "saleprice=int(input(\"Enter the saleprice\"))\n",
    "if saleprice>actualprice:\n",
    "    print(\"Product is profitable and the profit is\",saleprice-actualprice)\n",
    "elif saleprice<actualprice:\n",
    "    print(\"Product is loss and the loss is\",actualprice-saleprice)\n",
    "else:\n",
    "    print(\"Product have no profit no loss\")"
   ]
  },
  {
   "cell_type": "markdown",
   "id": "13ed86fd",
   "metadata": {},
   "source": [
    "#### 8.Write a program to enter two numbers and print the greatest number."
   ]
  },
  {
   "cell_type": "code",
   "execution_count": 8,
   "id": "a6837c42",
   "metadata": {},
   "outputs": [
    {
     "name": "stdout",
     "output_type": "stream",
     "text": [
      "Enter number9\n",
      "Enter number89\n",
      "89 Is greatest number\n"
     ]
    }
   ],
   "source": [
    "num1=int(input(\"Enter number\"))\n",
    "num2=int(input(\"Enter number\"))\n",
    "if num1>num2:\n",
    "    print(num1,\"Is greatest number\" )\n",
    "elif num2>num1:\n",
    "    print(num2,\"Is greatest number\")\n",
    "else:\n",
    "    print(\"Both are same numbers\")"
   ]
  },
  {
   "cell_type": "markdown",
   "id": "dd6a1073",
   "metadata": {},
   "source": [
    "#### 9.Write a program to enter two numbers and print the smallest number."
   ]
  },
  {
   "cell_type": "code",
   "execution_count": 9,
   "id": "c9db39c6",
   "metadata": {},
   "outputs": [
    {
     "name": "stdout",
     "output_type": "stream",
     "text": [
      "Enter number90\n",
      "Enter number9\n",
      "9 Is smallest number\n"
     ]
    }
   ],
   "source": [
    "num1=int(input(\"Enter number\"))\n",
    "num2=int(input(\"Enter number\"))\n",
    "if num1<num2:\n",
    "    print(num1,\"Is smallest number\" )\n",
    "elif num2<num1:\n",
    "    print(num2,\"Is smallest number\")\n",
    "else:\n",
    "    print(\"Both are same numbers\")"
   ]
  },
  {
   "cell_type": "markdown",
   "id": "de3adcd6",
   "metadata": {},
   "source": [
    "#### 10.Write a program to enter three numbers and print the greater number."
   ]
  },
  {
   "cell_type": "code",
   "execution_count": 10,
   "id": "fa924756",
   "metadata": {},
   "outputs": [
    {
     "name": "stdout",
     "output_type": "stream",
     "text": [
      "Enter number8\n",
      "Enter nuber9\n",
      "Enter number78\n",
      "78 Is greter\n"
     ]
    }
   ],
   "source": [
    "num1=int(input(\"Enter number\"))\n",
    "num2=int(input(\"Enter nuber\"))\n",
    "num3=int(input(\"Enter number\"))\n",
    "if num1>num2 and num1>num3:\n",
    "    print(num1,\"Is greter number\")\n",
    "elif num2>num1 and num2>num3:\n",
    "    print(num2,\"Is greter number\")\n",
    "    \n",
    "elif num3>num1 and num3>num2:\n",
    "    print(num3,\"Is greter number\")\n",
    "else:\n",
    "    print(\"All 3 are same number\")"
   ]
  },
  {
   "cell_type": "markdown",
   "id": "5220eb33",
   "metadata": {},
   "source": [
    "#### 11.Write a program to enter three numbers and print the smallest number."
   ]
  },
  {
   "cell_type": "code",
   "execution_count": 11,
   "id": "d797eaef",
   "metadata": {},
   "outputs": [
    {
     "name": "stdout",
     "output_type": "stream",
     "text": [
      "Enter number8\n",
      "Enter nuber9\n",
      "Enter number7\n",
      "7 Is smallest number\n"
     ]
    }
   ],
   "source": [
    "num1=int(input(\"Enter number\"))\n",
    "num2=int(input(\"Enter nuber\"))\n",
    "num3=int(input(\"Enter number\"))\n",
    "if num1<num2 and num1<num3:\n",
    "    print(num1,\"Is smallest number\")\n",
    "elif num2<num1 and num2<num3:\n",
    "    print(num2,\"Is smallest number\")\n",
    "    \n",
    "elif num3<num1 and num3<num2:\n",
    "    print(num3,\"Is smallest number\")\n",
    "else:\n",
    "    print(\"All 3 are same number\")"
   ]
  },
  {
   "cell_type": "markdown",
   "id": "73f581eb",
   "metadata": {},
   "source": [
    "#### 11.Write a program to calculate the root of quadratic equation."
   ]
  },
  {
   "cell_type": "code",
   "execution_count": 12,
   "id": "caa4812c",
   "metadata": {},
   "outputs": [
    {
     "name": "stdout",
     "output_type": "stream",
     "text": [
      "Enter number8\n",
      "Enter number78\n",
      "Enter number65\n",
      "This is imaginary part of equation 58.0\n"
     ]
    }
   ],
   "source": [
    "b=int(input(\"Enter number\"))\n",
    "a=int(input(\"Enter number\"))\n",
    "c=int(input(\"Enter number\"))\n",
    "r1=(b**2)-(4*a*c)/(2*a)\n",
    "sol1=-b+r1\n",
    "sol2=-b-r1\n",
    "if r1>0:\n",
    "    print(\" This is real part of the equation \",sol1)\n",
    "else:\n",
    "    print(\"This is imaginary part of equation\",sol2)"
   ]
  },
  {
   "cell_type": "markdown",
   "id": "b2067038",
   "metadata": {},
   "source": [
    "#### 12.Write a program to enter number between(1-7) and print the respective day of week."
   ]
  },
  {
   "cell_type": "code",
   "execution_count": 13,
   "id": "18d1f856",
   "metadata": {},
   "outputs": [
    {
     "name": "stdout",
     "output_type": "stream",
     "text": [
      "Enter number8\n",
      "Enter a valid day between 1 to 7\n"
     ]
    }
   ],
   "source": [
    "weekday=int(input(\"Enter number\"))\n",
    "if weekday==1:\n",
    "    print(\"This is monday\")\n",
    "elif weekday==2:\n",
    "    print(\"This is tuesday\")\n",
    "elif weekday==3:\n",
    "    print(\"This is wednesday\")\n",
    "elif weekday==4:\n",
    "    print(\"This is thirsay\")\n",
    "elif weekday==5:\n",
    "    print(\"This is friday\")\n",
    "elif weekday==6:\n",
    "    print(\"This is saturday\")\n",
    "elif weekday==7:\n",
    "    print(\"This is sunday\")\n",
    "else:\n",
    "    print(\"Enter a valid day between 1 to 7\")"
   ]
  },
  {
   "cell_type": "markdown",
   "id": "707a3cbd",
   "metadata": {},
   "source": [
    "#### 13.Write a program to enter number between(1-12) and print the respective month."
   ]
  },
  {
   "cell_type": "code",
   "execution_count": 14,
   "id": "d5f7de8a",
   "metadata": {},
   "outputs": [
    {
     "name": "stdout",
     "output_type": "stream",
     "text": [
      "Enter number7\n",
      "This is july\n"
     ]
    }
   ],
   "source": [
    "month=int(input(\"Enter number\"))\n",
    "if month==1:\n",
    "    print(\"This is january\")\n",
    "elif month==2:\n",
    "    print(\"This is february\")\n",
    "elif month==3:\n",
    "    print(\"This is march\")\n",
    "elif month==4:\n",
    "    print(\"This is april\")\n",
    "elif month==5:\n",
    "    print(\"This is may\")\n",
    "elif month==6:\n",
    "    print(\"This is june\")\n",
    "elif month==7:\n",
    "    print(\"This is july\")\n",
    "\n",
    "elif month==8:\n",
    "    print(\"This is auguest\")\n",
    "elif month==9:\n",
    "    print(\"This is september\")\n",
    "elif month==10:\n",
    "    print(\"This is october\")\n",
    "elif month==11:\n",
    "    print(\"This is november\")\n",
    "elif month==12:\n",
    "    print(\"This is december\")\n",
    "else:\n",
    "    print(\"Enter a valid day between 1 to 12\")"
   ]
  },
  {
   "cell_type": "markdown",
   "id": "ee827b51",
   "metadata": {},
   "source": [
    "#### 14.Write a program to enter a number between(1-4) and perform following operations."
   ]
  },
  {
   "cell_type": "markdown",
   "id": "f38e084e",
   "metadata": {},
   "source": [
    "- Addition\n",
    "- Subtraction\n",
    "- Multiplication\n",
    "- Division"
   ]
  },
  {
   "cell_type": "code",
   "execution_count": 15,
   "id": "b8340bbc",
   "metadata": {},
   "outputs": [
    {
     "name": "stdout",
     "output_type": "stream",
     "text": [
      "Enter num between(1-4)5\n",
      "Enter number between (1-4)2\n",
      "Enter choice1\n",
      "Enter choice\n",
      "Addition of number 7\n"
     ]
    }
   ],
   "source": [
    "a=int(input(\"Enter num between(1-4)\"))\n",
    "b=int(input(\"Enter number between (1-4)\"))\n",
    "addition=a+b\n",
    "subtraction=a-b\n",
    "multiplication=a*b\n",
    "division=a/b\n",
    "choice=int(input(\"Enter choice\"))\n",
    "print(\"Enter choice\")\n",
    "if choice==1:\n",
    "    print(\"Addition of numbers\",addition)\n",
    "elif choice==2:\n",
    "    print(\"Subtraction of numbers is\",subtraction)\n",
    "elif choice==3:\n",
    "    print(\"Multiplication of numbers\",multiplication)\n",
    "elif choice==4:\n",
    "    print(\"Division of numbers\",division)\n",
    "else:\n",
    "    print(\"Enter a valid choice\")"
   ]
  },
  {
   "cell_type": "markdown",
   "id": "89488a8d",
   "metadata": {},
   "source": [
    "#### 15.Write a program to convert temperature to and from celsius to Fahrenheit."
   ]
  },
  {
   "cell_type": "code",
   "execution_count": 1,
   "id": "b251fe60",
   "metadata": {},
   "outputs": [
    {
     "name": "stdout",
     "output_type": "stream",
     "text": [
      "Enter  any temperature,1 for celcius and 0 for fahrenheit1\n",
      "Enter temperature in celcius100\n",
      "Temperature in fahrenheit is 212.0\n"
     ]
    }
   ],
   "source": [
    "temp=int(input(\"Enter  any temperature,1 for celcius and 0 for fahrenheit\"))\n",
    "if temp==1:\n",
    "    x=int(input(\"Enter temperature in celcius\"))\n",
    "    y=(x*1.8)+32\n",
    "    print(\"Temperature in fahrenheit is\",y)\n",
    "if temp==0:\n",
    "    x=int(input(\"enter temperature in fahrenheit\"))\n",
    "    y=((x-32)*5)/9\n",
    "    print(\"Temperature in celcis is\",y)"
   ]
  },
  {
   "cell_type": "markdown",
   "id": "1dd0cc7e",
   "metadata": {},
   "source": [
    "#### 16.A school has following rules for grading system:\n",
    "- Below 25:F\n",
    "- 25 to 45:E\n",
    "- 45 to 50:D\n",
    "- 50 TO 60:C\n",
    "- 60 TO 80:B\n",
    "- Above 80:A`\n",
    "#### Ask user to enter mark and print the corresponding grade"
   ]
  },
  {
   "cell_type": "code",
   "execution_count": null,
   "id": "ce3bc34a",
   "metadata": {},
   "outputs": [],
   "source": [
    "mark=int(input(\"Enter mark\"))\n",
    "if mark<25:\n",
    "    print(\"The grade is F\")\n",
    "elif mark>=25 and mark<45:\n",
    "    print(\"The grade is E\")\n",
    "elif mark>=45 and mark<50:\n",
    "    print(\"The grade is D\")\n",
    "elif mark>=50 and mark<60:\n",
    "    print(\"The grade is C\")\n",
    "elif mark>=60 and mark<80:\n",
    "    print(\"The grade is B\")\n",
    "elif mark>=80:\n",
    "    print(\"The grade is A\")\n",
    "else:\n",
    "    print(\"Please enter valid marks\")\n"
   ]
  },
  {
   "cell_type": "markdown",
   "id": "abd104de",
   "metadata": {},
   "source": [
    "#### 17.A company decided to give a bonus of 5% to an employee if his/her year of service is more than 5 years. Ask user for their salary and year of service and print  net bonus amount"
   ]
  },
  {
   "cell_type": "code",
   "execution_count": 2,
   "id": "da950851",
   "metadata": {},
   "outputs": [
    {
     "name": "stdout",
     "output_type": "stream",
     "text": [
      "enter salary56777\n",
      "enter year of experience6\n",
      "The bonus amount is added and the salary is 2838.8500000000004\n"
     ]
    }
   ],
   "source": [
    "sal=int(input(\"enter salary\"))\n",
    "year=int(input(\"enter year of experience\"))\n",
    "if year>5:\n",
    "    print(\"The bonus amount is added and the salary is\",sal*0.05)\n",
    "else:\n",
    "    print(\"Experience is is not eligible for bonus\")"
   ]
  },
  {
   "cell_type": "markdown",
   "id": "c8cc8ce5",
   "metadata": {},
   "source": [
    "#### 18.Write a program to take input of length and breadth of rectangle from user and check it is square or not."
   ]
  },
  {
   "cell_type": "code",
   "execution_count": 1,
   "id": "24ee8232",
   "metadata": {},
   "outputs": [
    {
     "name": "stdout",
     "output_type": "stream",
     "text": [
      "Enter length7\n",
      "Enter breadth7\n",
      "This is a square\n"
     ]
    }
   ],
   "source": [
    "length=int(input(\"Enter length\"))\n",
    "breadth=int(input(\"Enter breadth\"))\n",
    "if length==breadth:\n",
    "    print(\"This is a square\")\n",
    "else:\n",
    "    print(\"This is not square\")"
   ]
  },
  {
   "cell_type": "markdown",
   "id": "6b4ea9fd",
   "metadata": {},
   "source": [
    "#### 19 Take input of age of 3 people by user and determine oldest and youngest among them"
   ]
  },
  {
   "cell_type": "code",
   "execution_count": 7,
   "id": "84bfe6c3",
   "metadata": {},
   "outputs": [
    {
     "name": "stdout",
     "output_type": "stream",
     "text": [
      "Enter age of person14\n",
      "Enter age of person24\n",
      "Enter age of person34\n",
      "All three person are in same age group\n"
     ]
    }
   ],
   "source": [
    "age1=int(input(\"Enter age of person1\"))\n",
    "age2=int(input(\"Enter age of person2\"))\n",
    "age3=int(input(\"Enter age of person3\"))\n",
    "if (age1>age2) and (age1>age3):\n",
    "    print(\"person1 is the oldest and the age is\",age1)\n",
    "    if (age2<age3):\n",
    "        print(\"Person2 is youngest and the age is\",age2)\n",
    "    else:\n",
    "        print(\"Person3 is youngest and age is\",age3)\n",
    "if (age2>age1) and(age2>age3):\n",
    "    print(\"person2 is oldest and the age is\",age2)\n",
    "    if age1<age3:\n",
    "        print(\"person1 is youngest and age is\",age1)\n",
    "    else:\n",
    "        print(\"person3 is youngest and age is\",age3)\n",
    "if (age3>age1) and(age3>age2):\n",
    "    print(\"person3 is oldest and the age is\",age3)\n",
    "    if age2<age1:\n",
    "        print(\"person2 is youngest and the age is\",age2)\n",
    "    else:print(\"person1 is youngest\")\n",
    "if age1==age2==age3:\n",
    "    print(\"All three person are in same age group\")\n",
    "\n"
   ]
  },
  {
   "cell_type": "code",
   "execution_count": null,
   "id": "ea33fc35",
   "metadata": {},
   "outputs": [],
   "source": []
  }
 ],
 "metadata": {
  "kernelspec": {
   "display_name": "Python 3 (ipykernel)",
   "language": "python",
   "name": "python3"
  },
  "language_info": {
   "codemirror_mode": {
    "name": "ipython",
    "version": 3
   },
   "file_extension": ".py",
   "mimetype": "text/x-python",
   "name": "python",
   "nbconvert_exporter": "python",
   "pygments_lexer": "ipython3",
   "version": "3.9.12"
  }
 },
 "nbformat": 4,
 "nbformat_minor": 5
}
