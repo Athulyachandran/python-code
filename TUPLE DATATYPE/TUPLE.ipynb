{
 "cells": [
  {
   "cell_type": "markdown",
   "id": "04ff75f0",
   "metadata": {},
   "source": [
    "fruit= (\"apple\",\"banana\",\"cherry\")\n",
    "print(fruit)"
   ]
  },
  {
   "cell_type": "code",
   "execution_count": 5,
   "id": "8ca3870d",
   "metadata": {},
   "outputs": [
    {
     "name": "stdout",
     "output_type": "stream",
     "text": [
      "3\n"
     ]
    }
   ],
   "source": [
    "print(len(fruit))#find lenghth of tuple"
   ]
  },
  {
   "cell_type": "code",
   "execution_count": 9,
   "id": "8c5ed863",
   "metadata": {
    "scrolled": true
   },
   "outputs": [
    {
     "name": "stdout",
     "output_type": "stream",
     "text": [
      "1\n"
     ]
    }
   ],
   "source": [
    "fruit= (\"apple\",\"banana\",\"cherry\")#no.of an item use count\n",
    "print(fruit.count(\"apple\"))"
   ]
  },
  {
   "cell_type": "code",
   "execution_count": 10,
   "id": "3a7e0137",
   "metadata": {},
   "outputs": [
    {
     "data": {
      "text/plain": [
       "tuple"
      ]
     },
     "execution_count": 10,
     "metadata": {},
     "output_type": "execute_result"
    }
   ],
   "source": [
    "type(fruit)#type"
   ]
  },
  {
   "cell_type": "code",
   "execution_count": 11,
   "id": "9bceec11",
   "metadata": {},
   "outputs": [
    {
     "name": "stdout",
     "output_type": "stream",
     "text": [
      "banana\n"
     ]
    }
   ],
   "source": [
    "print(fruit[1])#item in index 1"
   ]
  },
  {
   "cell_type": "markdown",
   "id": "20b7567c",
   "metadata": {},
   "source": [
    "print(len(fruit))"
   ]
  },
  {
   "cell_type": "code",
   "execution_count": 13,
   "id": "597c99d2",
   "metadata": {},
   "outputs": [
    {
     "name": "stdout",
     "output_type": "stream",
     "text": [
      "0\n"
     ]
    }
   ],
   "source": [
    "print(fruit.index(\"apple\"))#what is the item in index 0"
   ]
  },
  {
   "cell_type": "markdown",
   "id": "50657002",
   "metadata": {},
   "source": [
    "### creating a tuple with one elemnt"
   ]
  },
  {
   "cell_type": "code",
   "execution_count": 1,
   "id": "0607042a",
   "metadata": {},
   "outputs": [
    {
     "data": {
      "text/plain": [
       "33"
      ]
     },
     "execution_count": 1,
     "metadata": {},
     "output_type": "execute_result"
    }
   ],
   "source": [
    "a=(33)#it is considered as integer\n",
    "a"
   ]
  },
  {
   "cell_type": "code",
   "execution_count": 2,
   "id": "df09164e",
   "metadata": {},
   "outputs": [
    {
     "data": {
      "text/plain": [
       "int"
      ]
     },
     "execution_count": 2,
     "metadata": {},
     "output_type": "execute_result"
    }
   ],
   "source": [
    "type(a)"
   ]
  },
  {
   "cell_type": "code",
   "execution_count": 3,
   "id": "019d8d06",
   "metadata": {},
   "outputs": [
    {
     "data": {
      "text/plain": [
       "tuple"
      ]
     },
     "execution_count": 3,
     "metadata": {},
     "output_type": "execute_result"
    }
   ],
   "source": [
    "a=(33,)# one number end with coma after single number it is tuple\n",
    "type(a)"
   ]
  },
  {
   "cell_type": "markdown",
   "id": "4fddbe2c",
   "metadata": {},
   "source": [
    "## tuple without paranthesis"
   ]
  },
  {
   "cell_type": "code",
   "execution_count": 4,
   "id": "9a91c3c0",
   "metadata": {},
   "outputs": [
    {
     "data": {
      "text/plain": [
       "('divya', 89, 45.7, 90)"
      ]
     },
     "execution_count": 4,
     "metadata": {},
     "output_type": "execute_result"
    }
   ],
   "source": [
    "t=\"divya\",89,45.7,90#tuple without paranthesis known as tuple packing\n",
    "t"
   ]
  },
  {
   "cell_type": "code",
   "execution_count": 5,
   "id": "f6ce2f18",
   "metadata": {},
   "outputs": [
    {
     "data": {
      "text/plain": [
       "tuple"
      ]
     },
     "execution_count": 5,
     "metadata": {},
     "output_type": "execute_result"
    }
   ],
   "source": [
    "type(t)"
   ]
  },
  {
   "cell_type": "markdown",
   "id": "bdf14117",
   "metadata": {},
   "source": [
    "### creating tuple"
   ]
  },
  {
   "cell_type": "code",
   "execution_count": 7,
   "id": "03501e31",
   "metadata": {},
   "outputs": [
    {
     "data": {
      "text/plain": [
       "(934, 'athu', 67, (7+1j))"
      ]
     },
     "execution_count": 7,
     "metadata": {},
     "output_type": "execute_result"
    }
   ],
   "source": [
    "t=(934,\"athu\",67,7+1j)# tuple using parathesis\n",
    "t"
   ]
  },
  {
   "cell_type": "code",
   "execution_count": 8,
   "id": "c0ebdaba",
   "metadata": {},
   "outputs": [
    {
     "data": {
      "text/plain": [
       "tuple"
      ]
     },
     "execution_count": 8,
     "metadata": {},
     "output_type": "execute_result"
    }
   ],
   "source": [
    "type(t)"
   ]
  },
  {
   "cell_type": "code",
   "execution_count": 9,
   "id": "600076fe",
   "metadata": {},
   "outputs": [
    {
     "data": {
      "text/plain": [
       "tuple"
      ]
     },
     "execution_count": 9,
     "metadata": {},
     "output_type": "execute_result"
    }
   ],
   "source": [
    "t=934,\"athu\",67,7+1j,#same tuple without paranthesis use coma\n",
    "type(t)"
   ]
  },
  {
   "cell_type": "markdown",
   "id": "380ab35d",
   "metadata": {},
   "source": [
    "### tuple using constuctor"
   ]
  },
  {
   "cell_type": "code",
   "execution_count": 10,
   "id": "6b7ab7c5",
   "metadata": {},
   "outputs": [
    {
     "data": {
      "text/plain": [
       "('athu', 45, 67, 'anandh')"
      ]
     },
     "execution_count": 10,
     "metadata": {},
     "output_type": "execute_result"
    }
   ],
   "source": [
    "t=tuple((\"athu\",45,67,\"anandh\"))\n",
    "t"
   ]
  },
  {
   "cell_type": "code",
   "execution_count": 11,
   "id": "3c3c92a0",
   "metadata": {},
   "outputs": [
    {
     "data": {
      "text/plain": [
       "tuple"
      ]
     },
     "execution_count": 11,
     "metadata": {},
     "output_type": "execute_result"
    }
   ],
   "source": [
    "type(t)"
   ]
  },
  {
   "cell_type": "code",
   "execution_count": 12,
   "id": "cb17d5b3",
   "metadata": {},
   "outputs": [
    {
     "data": {
      "text/plain": [
       "'athu'"
      ]
     },
     "execution_count": 12,
     "metadata": {},
     "output_type": "execute_result"
    }
   ],
   "source": [
    "t[0]#0 th position item"
   ]
  },
  {
   "cell_type": "code",
   "execution_count": 13,
   "id": "1f0c05f6",
   "metadata": {},
   "outputs": [
    {
     "data": {
      "text/plain": [
       "45"
      ]
     },
     "execution_count": 13,
     "metadata": {},
     "output_type": "execute_result"
    }
   ],
   "source": [
    "t[1]"
   ]
  },
  {
   "cell_type": "code",
   "execution_count": 14,
   "id": "de01abe6",
   "metadata": {},
   "outputs": [
    {
     "ename": "TypeError",
     "evalue": "'tuple' object doesn't support item deletion",
     "output_type": "error",
     "traceback": [
      "\u001b[1;31m---------------------------------------------------------------------------\u001b[0m",
      "\u001b[1;31mTypeError\u001b[0m                                 Traceback (most recent call last)",
      "Input \u001b[1;32mIn [14]\u001b[0m, in \u001b[0;36m<cell line: 1>\u001b[1;34m()\u001b[0m\n\u001b[1;32m----> 1\u001b[0m \u001b[38;5;28;01mdel\u001b[39;00m t[\u001b[38;5;241m0\u001b[39m]\n",
      "\u001b[1;31mTypeError\u001b[0m: 'tuple' object doesn't support item deletion"
     ]
    }
   ],
   "source": [
    "del t[0]# cant delete any item from tuple"
   ]
  },
  {
   "cell_type": "code",
   "execution_count": 15,
   "id": "88c2aa98",
   "metadata": {},
   "outputs": [
    {
     "ename": "TypeError",
     "evalue": "'tuple' object does not support item assignment",
     "output_type": "error",
     "traceback": [
      "\u001b[1;31m---------------------------------------------------------------------------\u001b[0m",
      "\u001b[1;31mTypeError\u001b[0m                                 Traceback (most recent call last)",
      "Input \u001b[1;32mIn [15]\u001b[0m, in \u001b[0;36m<cell line: 1>\u001b[1;34m()\u001b[0m\n\u001b[1;32m----> 1\u001b[0m t[\u001b[38;5;241m0\u001b[39m]\u001b[38;5;241m=\u001b[39m\u001b[38;5;124m\"\u001b[39m\u001b[38;5;124mteena\u001b[39m\u001b[38;5;124m\"\u001b[39m\n",
      "\u001b[1;31mTypeError\u001b[0m: 'tuple' object does not support item assignment"
     ]
    }
   ],
   "source": [
    "t[0]=\"teena\"## we cant add any elemnt in tuple it is immutable"
   ]
  },
  {
   "cell_type": "code",
   "execution_count": 16,
   "id": "c0b46995",
   "metadata": {},
   "outputs": [
    {
     "data": {
      "text/plain": [
       "4"
      ]
     },
     "execution_count": 16,
     "metadata": {},
     "output_type": "execute_result"
    }
   ],
   "source": [
    "len(t)"
   ]
  },
  {
   "cell_type": "code",
   "execution_count": 17,
   "id": "82a230c3",
   "metadata": {},
   "outputs": [
    {
     "ename": "NameError",
     "evalue": "name 't' is not defined",
     "output_type": "error",
     "traceback": [
      "\u001b[1;31m---------------------------------------------------------------------------\u001b[0m",
      "\u001b[1;31mNameError\u001b[0m                                 Traceback (most recent call last)",
      "Input \u001b[1;32mIn [17]\u001b[0m, in \u001b[0;36m<cell line: 2>\u001b[1;34m()\u001b[0m\n\u001b[0;32m      1\u001b[0m \u001b[38;5;28;01mdel\u001b[39;00m t\n\u001b[1;32m----> 2\u001b[0m \u001b[43mt\u001b[49m\n",
      "\u001b[1;31mNameError\u001b[0m: name 't' is not defined"
     ]
    }
   ],
   "source": [
    "del t ## we cant delete a tuple,it is immutable \n",
    "t"
   ]
  },
  {
   "cell_type": "markdown",
   "id": "cab068cd",
   "metadata": {},
   "source": [
    "### convert tuple in to list"
   ]
  },
  {
   "cell_type": "code",
   "execution_count": 18,
   "id": "3e71a573",
   "metadata": {},
   "outputs": [
    {
     "name": "stdout",
     "output_type": "stream",
     "text": [
      "[23, 56.8, 'athulya', 'anu']\n"
     ]
    }
   ],
   "source": [
    "t=(23,56.8,\"athulya\",\"anu\")\n",
    "x=list(t)\n",
    "print(x)"
   ]
  },
  {
   "cell_type": "code",
   "execution_count": 19,
   "id": "87b22176",
   "metadata": {},
   "outputs": [
    {
     "data": {
      "text/plain": [
       "list"
      ]
     },
     "execution_count": 19,
     "metadata": {},
     "output_type": "execute_result"
    }
   ],
   "source": [
    "type(x)"
   ]
  },
  {
   "cell_type": "code",
   "execution_count": 20,
   "id": "2b262ff4",
   "metadata": {},
   "outputs": [
    {
     "ename": "TypeError",
     "evalue": "'tuple' object does not support item assignment",
     "output_type": "error",
     "traceback": [
      "\u001b[1;31m---------------------------------------------------------------------------\u001b[0m",
      "\u001b[1;31mTypeError\u001b[0m                                 Traceback (most recent call last)",
      "Input \u001b[1;32mIn [20]\u001b[0m, in \u001b[0;36m<cell line: 1>\u001b[1;34m()\u001b[0m\n\u001b[1;32m----> 1\u001b[0m t[\u001b[38;5;241m0\u001b[39m]\u001b[38;5;241m=\u001b[39m\u001b[38;5;241m90\u001b[39m\n",
      "\u001b[1;31mTypeError\u001b[0m: 'tuple' object does not support item assignment"
     ]
    }
   ],
   "source": [
    "t[0]=90## we cant assign value to tuple"
   ]
  },
  {
   "cell_type": "code",
   "execution_count": 22,
   "id": "5771c8b4",
   "metadata": {},
   "outputs": [
    {
     "data": {
      "text/plain": [
       "[90, 56.8, 'athulya', 'anu']"
      ]
     },
     "execution_count": 22,
     "metadata": {},
     "output_type": "execute_result"
    }
   ],
   "source": [
    "x[0]=90## x is that we converted tuple to list so we can make changes\n",
    "x"
   ]
  },
  {
   "cell_type": "code",
   "execution_count": 23,
   "id": "2c7d6f9e",
   "metadata": {},
   "outputs": [
    {
     "data": {
      "text/plain": [
       "(90, 56.8, 'athulya', 'anu')"
      ]
     },
     "execution_count": 23,
     "metadata": {},
     "output_type": "execute_result"
    }
   ],
   "source": [
    "t=tuple(x)## again converting the list tu tuple\n",
    "t"
   ]
  },
  {
   "cell_type": "markdown",
   "id": "54abc7d0",
   "metadata": {},
   "source": [
    "### loop through a tuple"
   ]
  },
  {
   "cell_type": "code",
   "execution_count": 24,
   "id": "c40eab97",
   "metadata": {},
   "outputs": [
    {
     "name": "stdout",
     "output_type": "stream",
     "text": [
      "78\n",
      "athulya\n",
      "45.8\n",
      "78\n",
      "adhi\n"
     ]
    }
   ],
   "source": [
    "t=(78,\"athulya\",45.8,78,\"adhi\")\n",
    "for i in t:\n",
    "    print(i)"
   ]
  },
  {
   "cell_type": "markdown",
   "id": "25c2877b",
   "metadata": {},
   "source": [
    "### count element of tuple"
   ]
  },
  {
   "cell_type": "code",
   "execution_count": 25,
   "id": "6a8ee856",
   "metadata": {},
   "outputs": [
    {
     "data": {
      "text/plain": [
       "2"
      ]
     },
     "execution_count": 25,
     "metadata": {},
     "output_type": "execute_result"
    }
   ],
   "source": [
    "t.count(78)"
   ]
  },
  {
   "cell_type": "code",
   "execution_count": 38,
   "id": "d74ff084",
   "metadata": {},
   "outputs": [
    {
     "data": {
      "text/plain": [
       "(7, 7, 7, 7, 7)"
      ]
     },
     "execution_count": 38,
     "metadata": {},
     "output_type": "execute_result"
    }
   ],
   "source": [
    "s=(7,)## repeatation of tuple\n",
    "re=(s*5)\n",
    "re"
   ]
  },
  {
   "cell_type": "code",
   "execution_count": 39,
   "id": "7a43868a",
   "metadata": {},
   "outputs": [
    {
     "data": {
      "text/plain": [
       "9"
      ]
     },
     "execution_count": 39,
     "metadata": {},
     "output_type": "execute_result"
    }
   ],
   "source": [
    "s=(2,6,7,8,8,9,)#max tuple\n",
    "max(s)"
   ]
  },
  {
   "cell_type": "code",
   "execution_count": 40,
   "id": "1cbd85cf",
   "metadata": {},
   "outputs": [
    {
     "data": {
      "text/plain": [
       "2"
      ]
     },
     "execution_count": 40,
     "metadata": {},
     "output_type": "execute_result"
    }
   ],
   "source": [
    "min(s)#min of tuple"
   ]
  },
  {
   "cell_type": "code",
   "execution_count": 41,
   "id": "112539dd",
   "metadata": {},
   "outputs": [
    {
     "data": {
      "text/plain": [
       "6"
      ]
     },
     "execution_count": 41,
     "metadata": {},
     "output_type": "execute_result"
    }
   ],
   "source": [
    "len(s)#legth of tuple"
   ]
  },
  {
   "cell_type": "code",
   "execution_count": 42,
   "id": "3bb161a9",
   "metadata": {},
   "outputs": [
    {
     "data": {
      "text/plain": [
       "(2, 6, 7, 8, 8, 9, 1, 2)"
      ]
     },
     "execution_count": 42,
     "metadata": {},
     "output_type": "execute_result"
    }
   ],
   "source": [
    "s=(2,6,7,8,8,9,)##concatination\n",
    "r=(1,2,)\n",
    "p=s+r\n",
    "p"
   ]
  },
  {
   "cell_type": "code",
   "execution_count": 43,
   "id": "60412b04",
   "metadata": {},
   "outputs": [
    {
     "data": {
      "text/plain": [
       "['athulya', 'achu', 1, 34.6, 89]"
      ]
     },
     "execution_count": 43,
     "metadata": {},
     "output_type": "execute_result"
    }
   ],
   "source": [
    "m=(\"athulya\",\"achu\",1,34.6,89)\n",
    "my=[i for i in m]\n",
    "my"
   ]
  },
  {
   "cell_type": "code",
   "execution_count": 46,
   "id": "07a21778",
   "metadata": {},
   "outputs": [
    {
     "data": {
      "text/plain": [
       "[1, 2, 3, 4, 5, 5, 3]"
      ]
     },
     "execution_count": 46,
     "metadata": {},
     "output_type": "execute_result"
    }
   ],
   "source": [
    "m=1,2,3,4,5,5,3,\n",
    "my=[i for i in m]\n",
    "my"
   ]
  },
  {
   "cell_type": "markdown",
   "id": "e5c194ac",
   "metadata": {},
   "source": [
    "### converting sequence in to tuple"
   ]
  },
  {
   "cell_type": "code",
   "execution_count": 1,
   "id": "82892de0",
   "metadata": {},
   "outputs": [
    {
     "data": {
      "text/plain": [
       "('l', 'e', 'a', 'r', 'n', ' ', 'p', 'y', 't', 'h', 'o', 'n')"
      ]
     },
     "execution_count": 1,
     "metadata": {},
     "output_type": "execute_result"
    }
   ],
   "source": [
    "t=\"learn python\"\n",
    "t1=tuple(t)\n",
    "t1"
   ]
  },
  {
   "cell_type": "code",
   "execution_count": 2,
   "id": "f2ef4a1d",
   "metadata": {},
   "outputs": [
    {
     "data": {
      "text/plain": [
       "tuple"
      ]
     },
     "execution_count": 2,
     "metadata": {},
     "output_type": "execute_result"
    }
   ],
   "source": [
    "type(t1)"
   ]
  },
  {
   "cell_type": "markdown",
   "id": "25ed3e99",
   "metadata": {},
   "source": [
    "### index position"
   ]
  },
  {
   "cell_type": "code",
   "execution_count": 3,
   "id": "0e6fce93",
   "metadata": {},
   "outputs": [
    {
     "data": {
      "text/plain": [
       "1"
      ]
     },
     "execution_count": 3,
     "metadata": {},
     "output_type": "execute_result"
    }
   ],
   "source": [
    "t=(56,\"athu\",67.9,\"anandhu\")\n",
    "t.index(\"athu\")"
   ]
  },
  {
   "cell_type": "markdown",
   "id": "27d1de73",
   "metadata": {},
   "source": [
    "## sorting tuple"
   ]
  },
  {
   "cell_type": "code",
   "execution_count": 4,
   "id": "a9ce7d99",
   "metadata": {},
   "outputs": [
    {
     "data": {
      "text/plain": [
       "[11, 45, 67, 89, 90]"
      ]
     },
     "execution_count": 4,
     "metadata": {},
     "output_type": "execute_result"
    }
   ],
   "source": [
    "t=(45,67,89,90,11)\n",
    "sorted(t)"
   ]
  },
  {
   "cell_type": "code",
   "execution_count": 5,
   "id": "b3737d00",
   "metadata": {},
   "outputs": [
    {
     "data": {
      "text/plain": [
       "(45, 67, 89, 90, 11)"
      ]
     },
     "execution_count": 5,
     "metadata": {},
     "output_type": "execute_result"
    }
   ],
   "source": [
    "t ## after sorting there will be no change in the initial one"
   ]
  },
  {
   "cell_type": "code",
   "execution_count": 6,
   "id": "316df606",
   "metadata": {},
   "outputs": [
    {
     "data": {
      "text/plain": [
       "['athu', 'deva', 'rinky', 'zeba']"
      ]
     },
     "execution_count": 6,
     "metadata": {},
     "output_type": "execute_result"
    }
   ],
   "source": [
    "f=(\"athu\",\"deva\",\"zeba\",\"rinky\")\n",
    "sorted(f)"
   ]
  },
  {
   "cell_type": "code",
   "execution_count": 7,
   "id": "3a477055",
   "metadata": {},
   "outputs": [
    {
     "data": {
      "text/plain": [
       "[90, 89, 67, 45, 11]"
      ]
     },
     "execution_count": 7,
     "metadata": {},
     "output_type": "execute_result"
    }
   ],
   "source": [
    "sorted(t,reverse=True)"
   ]
  },
  {
   "cell_type": "code",
   "execution_count": 8,
   "id": "580f4abd",
   "metadata": {},
   "outputs": [
    {
     "data": {
      "text/plain": [
       "list"
      ]
     },
     "execution_count": 8,
     "metadata": {},
     "output_type": "execute_result"
    }
   ],
   "source": [
    "type(sorted(t))"
   ]
  },
  {
   "cell_type": "code",
   "execution_count": 9,
   "id": "0d459980",
   "metadata": {},
   "outputs": [
    {
     "ename": "AttributeError",
     "evalue": "'tuple' object has no attribute 'sort'",
     "output_type": "error",
     "traceback": [
      "\u001b[1;31m---------------------------------------------------------------------------\u001b[0m",
      "\u001b[1;31mAttributeError\u001b[0m                            Traceback (most recent call last)",
      "Input \u001b[1;32mIn [9]\u001b[0m, in \u001b[0;36m<cell line: 1>\u001b[1;34m()\u001b[0m\n\u001b[1;32m----> 1\u001b[0m \u001b[43mt\u001b[49m\u001b[38;5;241;43m.\u001b[39;49m\u001b[43msort\u001b[49m()\n",
      "\u001b[1;31mAttributeError\u001b[0m: 'tuple' object has no attribute 'sort'"
     ]
    }
   ],
   "source": [
    "t.sort()\n",
    "## tuple not support sort() it will suport only sorted "
   ]
  },
  {
   "cell_type": "code",
   "execution_count": 10,
   "id": "5ef76419",
   "metadata": {},
   "outputs": [
    {
     "data": {
      "text/plain": [
       "(56, 67, 89, ('athu', 'anandhu'), 90)"
      ]
     },
     "execution_count": 10,
     "metadata": {},
     "output_type": "execute_result"
    }
   ],
   "source": [
    "t=(56,67,89,(\"athu\",\"anandhu\"),90)\n",
    "t"
   ]
  },
  {
   "cell_type": "code",
   "execution_count": 11,
   "id": "71d01a45",
   "metadata": {},
   "outputs": [
    {
     "data": {
      "text/plain": [
       "('athu', 'anandhu')"
      ]
     },
     "execution_count": 11,
     "metadata": {},
     "output_type": "execute_result"
    }
   ],
   "source": [
    "t[3]"
   ]
  },
  {
   "cell_type": "code",
   "execution_count": 12,
   "id": "96a62459",
   "metadata": {},
   "outputs": [
    {
     "data": {
      "text/plain": [
       "'athu'"
      ]
     },
     "execution_count": 12,
     "metadata": {},
     "output_type": "execute_result"
    }
   ],
   "source": [
    "t[3][0]"
   ]
  },
  {
   "cell_type": "code",
   "execution_count": 13,
   "id": "ff0a5e3e",
   "metadata": {},
   "outputs": [
    {
     "data": {
      "text/plain": [
       "'anandhu'"
      ]
     },
     "execution_count": 13,
     "metadata": {},
     "output_type": "execute_result"
    }
   ],
   "source": [
    "t[3][1]"
   ]
  },
  {
   "cell_type": "code",
   "execution_count": 14,
   "id": "8bfb4b92",
   "metadata": {},
   "outputs": [
    {
     "ename": "AttributeError",
     "evalue": "'tuple' object has no attribute 'append'",
     "output_type": "error",
     "traceback": [
      "\u001b[1;31m---------------------------------------------------------------------------\u001b[0m",
      "\u001b[1;31mAttributeError\u001b[0m                            Traceback (most recent call last)",
      "Input \u001b[1;32mIn [14]\u001b[0m, in \u001b[0;36m<cell line: 1>\u001b[1;34m()\u001b[0m\n\u001b[1;32m----> 1\u001b[0m \u001b[43mt\u001b[49m\u001b[38;5;241;43m.\u001b[39;49m\u001b[43mappend\u001b[49m(\u001b[38;5;241m45\u001b[39m)\n",
      "\u001b[1;31mAttributeError\u001b[0m: 'tuple' object has no attribute 'append'"
     ]
    }
   ],
   "source": [
    "t.append(45)## we cant make any change so we cant add delete etc"
   ]
  },
  {
   "cell_type": "code",
   "execution_count": 15,
   "id": "cefe5517",
   "metadata": {},
   "outputs": [
    {
     "data": {
      "text/plain": [
       "['__add__',\n",
       " '__class__',\n",
       " '__class_getitem__',\n",
       " '__contains__',\n",
       " '__delattr__',\n",
       " '__dir__',\n",
       " '__doc__',\n",
       " '__eq__',\n",
       " '__format__',\n",
       " '__ge__',\n",
       " '__getattribute__',\n",
       " '__getitem__',\n",
       " '__getnewargs__',\n",
       " '__gt__',\n",
       " '__hash__',\n",
       " '__init__',\n",
       " '__init_subclass__',\n",
       " '__iter__',\n",
       " '__le__',\n",
       " '__len__',\n",
       " '__lt__',\n",
       " '__mul__',\n",
       " '__ne__',\n",
       " '__new__',\n",
       " '__reduce__',\n",
       " '__reduce_ex__',\n",
       " '__repr__',\n",
       " '__rmul__',\n",
       " '__setattr__',\n",
       " '__sizeof__',\n",
       " '__str__',\n",
       " '__subclasshook__',\n",
       " 'count',\n",
       " 'index']"
      ]
     },
     "execution_count": 15,
     "metadata": {},
     "output_type": "execute_result"
    }
   ],
   "source": [
    "dir(t)"
   ]
  },
  {
   "cell_type": "code",
   "execution_count": null,
   "id": "68b89f86",
   "metadata": {},
   "outputs": [],
   "source": []
  }
 ],
 "metadata": {
  "kernelspec": {
   "display_name": "Python 3 (ipykernel)",
   "language": "python",
   "name": "python3"
  },
  "language_info": {
   "codemirror_mode": {
    "name": "ipython",
    "version": 3
   },
   "file_extension": ".py",
   "mimetype": "text/x-python",
   "name": "python",
   "nbconvert_exporter": "python",
   "pygments_lexer": "ipython3",
   "version": "3.9.12"
  }
 },
 "nbformat": 4,
 "nbformat_minor": 5
}
