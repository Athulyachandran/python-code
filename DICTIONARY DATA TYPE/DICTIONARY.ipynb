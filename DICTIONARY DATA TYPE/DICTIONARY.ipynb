{
 "cells": [
  {
   "cell_type": "code",
   "execution_count": 1,
   "id": "2f3635cc",
   "metadata": {},
   "outputs": [
    {
     "name": "stdout",
     "output_type": "stream",
     "text": [
      "{'brand': 'ford', 'model': 'mustag', 'year': 1991}\n"
     ]
    }
   ],
   "source": [
    "vehicle={\"brand\":\"ford\",\"model\":\"mustag\",\"year\":1991}\n",
    "print(vehicle)"
   ]
  },
  {
   "cell_type": "code",
   "execution_count": 2,
   "id": "e4a5ea6e",
   "metadata": {},
   "outputs": [
    {
     "data": {
      "text/plain": [
       "'mustag'"
      ]
     },
     "execution_count": 2,
     "metadata": {},
     "output_type": "execute_result"
    }
   ],
   "source": [
    "x=vehicle.get(\"model\")\n",
    "x"
   ]
  },
  {
   "cell_type": "code",
   "execution_count": 3,
   "id": "c11cfba0",
   "metadata": {},
   "outputs": [
    {
     "data": {
      "text/plain": [
       "3"
      ]
     },
     "execution_count": 3,
     "metadata": {},
     "output_type": "execute_result"
    }
   ],
   "source": [
    "len(vehicle)"
   ]
  },
  {
   "cell_type": "code",
   "execution_count": 4,
   "id": "1f376af3",
   "metadata": {},
   "outputs": [
    {
     "data": {
      "text/plain": [
       "'mustag'"
      ]
     },
     "execution_count": 4,
     "metadata": {},
     "output_type": "execute_result"
    }
   ],
   "source": [
    "x=vehicle[\"model\"]\n",
    "x"
   ]
  },
  {
   "cell_type": "code",
   "execution_count": 5,
   "id": "bd65e7e5",
   "metadata": {},
   "outputs": [
    {
     "data": {
      "text/plain": [
       "{'brand': 'ford', 'model': 'mustard', 'year': 1997}"
      ]
     },
     "execution_count": 5,
     "metadata": {},
     "output_type": "execute_result"
    }
   ],
   "source": [
    "vehicle={\"brand\":\"ford\",\"model\":\"mustard\",\"year\":1997}\n",
    "vehicle"
   ]
  },
  {
   "cell_type": "code",
   "execution_count": 6,
   "id": "2517ffbe",
   "metadata": {},
   "outputs": [
    {
     "data": {
      "text/plain": [
       "{'brand': 'ford', 'year': 1997}"
      ]
     },
     "execution_count": 6,
     "metadata": {},
     "output_type": "execute_result"
    }
   ],
   "source": [
    "vehicle.pop(\"model\")\n",
    "vehicle"
   ]
  },
  {
   "cell_type": "code",
   "execution_count": 7,
   "id": "9b56738e",
   "metadata": {},
   "outputs": [
    {
     "data": {
      "text/plain": [
       "{'brand': 'ford'}"
      ]
     },
     "execution_count": 7,
     "metadata": {},
     "output_type": "execute_result"
    }
   ],
   "source": [
    "vehicle.popitem()\n",
    "vehicle"
   ]
  },
  {
   "cell_type": "code",
   "execution_count": 8,
   "id": "d385d370",
   "metadata": {},
   "outputs": [
    {
     "name": "stdout",
     "output_type": "stream",
     "text": [
      "available\n"
     ]
    }
   ],
   "source": [
    "l2=[\"divya\",\"athulya\",\"anandhu\",\"sheethal\"]\n",
    "if \"athulya\" in l2:\n",
    "    print(\"available\")\n",
    "else:\n",
    "    print(\"not available\")"
   ]
  },
  {
   "cell_type": "code",
   "execution_count": 9,
   "id": "bd4bcd98",
   "metadata": {},
   "outputs": [
    {
     "name": "stdout",
     "output_type": "stream",
     "text": [
      "{'brand': 'ford', 'year': 1991}\n"
     ]
    }
   ],
   "source": [
    "vehicle={\"brand\":\"ford\",\"model\":\"mustag\",\"year\":1991}\n",
    "del vehicle[\"model\"]\n",
    "print(vehicle)"
   ]
  },
  {
   "cell_type": "code",
   "execution_count": 10,
   "id": "8fe0423f",
   "metadata": {},
   "outputs": [
    {
     "data": {
      "text/plain": [
       "{}"
      ]
     },
     "execution_count": 10,
     "metadata": {},
     "output_type": "execute_result"
    }
   ],
   "source": [
    "vehicle.clear()\n",
    "vehicle"
   ]
  },
  {
   "cell_type": "code",
   "execution_count": 1,
   "id": "998821a4",
   "metadata": {},
   "outputs": [
    {
     "data": {
      "text/plain": [
       "dict"
      ]
     },
     "execution_count": 1,
     "metadata": {},
     "output_type": "execute_result"
    }
   ],
   "source": [
    "d={\"one\":10,\"two\":20,\"three\":30}\n",
    "type(d)"
   ]
  },
  {
   "cell_type": "code",
   "execution_count": 2,
   "id": "0215a658",
   "metadata": {},
   "outputs": [
    {
     "data": {
      "text/plain": [
       "2198163203776"
      ]
     },
     "execution_count": 2,
     "metadata": {},
     "output_type": "execute_result"
    }
   ],
   "source": [
    "id(d)"
   ]
  },
  {
   "cell_type": "code",
   "execution_count": 3,
   "id": "7a9d7e41",
   "metadata": {},
   "outputs": [
    {
     "data": {
      "text/plain": [
       "3"
      ]
     },
     "execution_count": 3,
     "metadata": {},
     "output_type": "execute_result"
    }
   ],
   "source": [
    "len(d)"
   ]
  },
  {
   "cell_type": "markdown",
   "id": "2c2712ec",
   "metadata": {},
   "source": [
    "## create dictionary"
   ]
  },
  {
   "cell_type": "markdown",
   "id": "3531d981",
   "metadata": {},
   "source": [
    "#### empty dictionary"
   ]
  },
  {
   "cell_type": "code",
   "execution_count": 4,
   "id": "e97462dd",
   "metadata": {},
   "outputs": [
    {
     "data": {
      "text/plain": [
       "{}"
      ]
     },
     "execution_count": 4,
     "metadata": {},
     "output_type": "execute_result"
    }
   ],
   "source": [
    "d1={}\n",
    "d1"
   ]
  },
  {
   "cell_type": "code",
   "execution_count": 5,
   "id": "f345906f",
   "metadata": {},
   "outputs": [
    {
     "data": {
      "text/plain": [
       "dict"
      ]
     },
     "execution_count": 5,
     "metadata": {},
     "output_type": "execute_result"
    }
   ],
   "source": [
    "type(d1)"
   ]
  },
  {
   "cell_type": "code",
   "execution_count": 6,
   "id": "1f627af6",
   "metadata": {},
   "outputs": [
    {
     "data": {
      "text/plain": [
       "{}"
      ]
     },
     "execution_count": 6,
     "metadata": {},
     "output_type": "execute_result"
    }
   ],
   "source": [
    "d2=dict()\n",
    "d2"
   ]
  },
  {
   "cell_type": "code",
   "execution_count": 7,
   "id": "eb5ae5aa",
   "metadata": {},
   "outputs": [
    {
     "data": {
      "text/plain": [
       "dict"
      ]
     },
     "execution_count": 7,
     "metadata": {},
     "output_type": "execute_result"
    }
   ],
   "source": [
    "type(d2)"
   ]
  },
  {
   "cell_type": "code",
   "execution_count": 8,
   "id": "fbcf5a09",
   "metadata": {},
   "outputs": [
    {
     "data": {
      "text/plain": [
       "dict_keys(['one', 'two', 'three'])"
      ]
     },
     "execution_count": 8,
     "metadata": {},
     "output_type": "execute_result"
    }
   ],
   "source": [
    "d.keys()"
   ]
  },
  {
   "cell_type": "code",
   "execution_count": 10,
   "id": "f3316860",
   "metadata": {},
   "outputs": [
    {
     "data": {
      "text/plain": [
       "dict_values([10, 20, 30])"
      ]
     },
     "execution_count": 10,
     "metadata": {},
     "output_type": "execute_result"
    }
   ],
   "source": [
    "d.values()"
   ]
  },
  {
   "cell_type": "code",
   "execution_count": 11,
   "id": "d140b7fc",
   "metadata": {},
   "outputs": [
    {
     "data": {
      "text/plain": [
       "dict_items([('one', 10), ('two', 20), ('three', 30)])"
      ]
     },
     "execution_count": 11,
     "metadata": {},
     "output_type": "execute_result"
    }
   ],
   "source": [
    "d.items()"
   ]
  },
  {
   "cell_type": "code",
   "execution_count": 15,
   "id": "437c64d0",
   "metadata": {},
   "outputs": [
    {
     "data": {
      "text/plain": [
       "{'name': ['shiv', 'riyas', 'reena'],\n",
       " 'class': [8, 9, 10],\n",
       " 'marks': [45, 67, 89]}"
      ]
     },
     "execution_count": 15,
     "metadata": {},
     "output_type": "execute_result"
    }
   ],
   "source": [
    "d3={\"name\":[\"shiv\",\"riyas\",\"reena\"],\"class\":[8,9,10],\"marks\":[45,67,89]}\n",
    "d3"
   ]
  },
  {
   "cell_type": "code",
   "execution_count": 16,
   "id": "3e00a5e4",
   "metadata": {},
   "outputs": [
    {
     "data": {
      "text/plain": [
       "dict_values([['shiv', 'riyas', 'reena'], [8, 9, 10], [45, 67, 89]])"
      ]
     },
     "execution_count": 16,
     "metadata": {},
     "output_type": "execute_result"
    }
   ],
   "source": [
    "d3.values()"
   ]
  },
  {
   "cell_type": "code",
   "execution_count": 17,
   "id": "ff632397",
   "metadata": {},
   "outputs": [
    {
     "data": {
      "text/plain": [
       "45"
      ]
     },
     "execution_count": 17,
     "metadata": {},
     "output_type": "execute_result"
    }
   ],
   "source": [
    "d3[\"marks\"][0]"
   ]
  },
  {
   "cell_type": "code",
   "execution_count": 18,
   "id": "64b93c9b",
   "metadata": {},
   "outputs": [
    {
     "data": {
      "text/plain": [
       "67"
      ]
     },
     "execution_count": 18,
     "metadata": {},
     "output_type": "execute_result"
    }
   ],
   "source": [
    "d3[\"marks\"][1]"
   ]
  },
  {
   "cell_type": "code",
   "execution_count": 19,
   "id": "c45ca2c5",
   "metadata": {},
   "outputs": [
    {
     "data": {
      "text/plain": [
       "['shiv', 'riyas', 'reena']"
      ]
     },
     "execution_count": 19,
     "metadata": {},
     "output_type": "execute_result"
    }
   ],
   "source": [
    "d3[\"name\"]"
   ]
  },
  {
   "cell_type": "code",
   "execution_count": 20,
   "id": "d6b89493",
   "metadata": {},
   "outputs": [
    {
     "data": {
      "text/plain": [
       "'reena'"
      ]
     },
     "execution_count": 20,
     "metadata": {},
     "output_type": "execute_result"
    }
   ],
   "source": [
    "d3[\"name\"][2]"
   ]
  },
  {
   "cell_type": "markdown",
   "id": "bf9f95af",
   "metadata": {},
   "source": [
    "x=d3.get(\"name\")## used to retrive values\n",
    "x"
   ]
  },
  {
   "cell_type": "markdown",
   "id": "ed35eac1",
   "metadata": {},
   "source": [
    "### create a dictionary from sequence of mixed keys"
   ]
  },
  {
   "cell_type": "code",
   "execution_count": 22,
   "id": "e08a41b2",
   "metadata": {},
   "outputs": [
    {
     "data": {
      "text/plain": [
       "{'b': None, 'a': None, 'c': None, 'd': None}"
      ]
     },
     "execution_count": 22,
     "metadata": {},
     "output_type": "execute_result"
    }
   ],
   "source": [
    "k={\"a\",\"b\",\"c\",\"d\"}\n",
    "d4=dict.fromkeys(k)\n",
    "d4"
   ]
  },
  {
   "cell_type": "code",
   "execution_count": 23,
   "id": "ad82449c",
   "metadata": {},
   "outputs": [
    {
     "data": {
      "text/plain": [
       "set"
      ]
     },
     "execution_count": 23,
     "metadata": {},
     "output_type": "execute_result"
    }
   ],
   "source": [
    "type(k)"
   ]
  },
  {
   "cell_type": "code",
   "execution_count": 26,
   "id": "a9955fae",
   "metadata": {},
   "outputs": [
    {
     "data": {
      "text/plain": [
       "{'b': 56, 'a': 56, 'c': 56, 'd': 56}"
      ]
     },
     "execution_count": 26,
     "metadata": {},
     "output_type": "execute_result"
    }
   ],
   "source": [
    "k={\"a\",\"b\",\"c\",\"d\"}\n",
    "v=56\n",
    "d4=dict.fromkeys(k,v)\n",
    "d4"
   ]
  },
  {
   "cell_type": "code",
   "execution_count": 27,
   "id": "cdde8f9d",
   "metadata": {},
   "outputs": [
    {
     "data": {
      "text/plain": [
       "{'n': [10, 20, 30, 40],\n",
       " 'a': [10, 20, 30, 40],\n",
       " 'd': [10, 20, 30, 40],\n",
       " 'l': [10, 20, 30, 40]}"
      ]
     },
     "execution_count": 27,
     "metadata": {},
     "output_type": "execute_result"
    }
   ],
   "source": [
    "k={\"d\",\"l\",\"n\",\"a\"}\n",
    "v=[10,20,30,40]\n",
    "d4=dict.fromkeys(k,v)\n",
    "d4"
   ]
  },
  {
   "cell_type": "code",
   "execution_count": 28,
   "id": "b0a9aa18",
   "metadata": {},
   "outputs": [
    {
     "data": {
      "text/plain": [
       "{'n': [10, 20, 30, 40, 60],\n",
       " 'a': [10, 20, 30, 40, 60],\n",
       " 'd': [10, 20, 30, 40, 60],\n",
       " 'l': [10, 20, 30, 40, 60]}"
      ]
     },
     "execution_count": 28,
     "metadata": {},
     "output_type": "execute_result"
    }
   ],
   "source": [
    "v.append(60)\n",
    "d4"
   ]
  },
  {
   "cell_type": "code",
   "execution_count": 29,
   "id": "9c1a59b8",
   "metadata": {},
   "outputs": [
    {
     "data": {
      "text/plain": [
       "{56: ['divya', 'joy', 'shiv', 'kiran'],\n",
       " 57: ['divya', 'joy', 'shiv', 'kiran'],\n",
       " 90: ['divya', 'joy', 'shiv', 'kiran'],\n",
       " 89: ['divya', 'joy', 'shiv', 'kiran']}"
      ]
     },
     "execution_count": 29,
     "metadata": {},
     "output_type": "execute_result"
    }
   ],
   "source": [
    "k={56,57,89,90}\n",
    "v=[\"divya\",\"joy\",\"shiv\",\"kiran\"]\n",
    "d5=dict.fromkeys(k,v)\n",
    "d5"
   ]
  },
  {
   "cell_type": "markdown",
   "id": "4ef8a053",
   "metadata": {},
   "source": [
    "### acessing items"
   ]
  },
  {
   "cell_type": "code",
   "execution_count": 30,
   "id": "35d32125",
   "metadata": {},
   "outputs": [
    {
     "data": {
      "text/plain": [
       "{'one': 10, 'two': 20, 'three': 30}"
      ]
     },
     "execution_count": 30,
     "metadata": {},
     "output_type": "execute_result"
    }
   ],
   "source": [
    "d"
   ]
  },
  {
   "cell_type": "code",
   "execution_count": 31,
   "id": "2aa28fac",
   "metadata": {},
   "outputs": [
    {
     "data": {
      "text/plain": [
       "20"
      ]
     },
     "execution_count": 31,
     "metadata": {},
     "output_type": "execute_result"
    }
   ],
   "source": [
    "d[\"two\"]"
   ]
  },
  {
   "cell_type": "code",
   "execution_count": 32,
   "id": "00793369",
   "metadata": {},
   "outputs": [
    {
     "data": {
      "text/plain": [
       "20"
      ]
     },
     "execution_count": 32,
     "metadata": {},
     "output_type": "execute_result"
    }
   ],
   "source": [
    "d.get(\"two\")"
   ]
  },
  {
   "cell_type": "markdown",
   "id": "cf739e04",
   "metadata": {},
   "source": [
    "## change items of dictionary"
   ]
  },
  {
   "cell_type": "code",
   "execution_count": 33,
   "id": "04d006d0",
   "metadata": {},
   "outputs": [
    {
     "data": {
      "text/plain": [
       "{'one': 10, 'two': 20, 'three': 30}"
      ]
     },
     "execution_count": 33,
     "metadata": {},
     "output_type": "execute_result"
    }
   ],
   "source": [
    "d"
   ]
  },
  {
   "cell_type": "code",
   "execution_count": 34,
   "id": "b612ffff",
   "metadata": {},
   "outputs": [
    {
     "data": {
      "text/plain": [
       "{'one': 2017, 'two': 20, 'three': 30}"
      ]
     },
     "execution_count": 34,
     "metadata": {},
     "output_type": "execute_result"
    }
   ],
   "source": [
    "d[\"one\"]=2017\n",
    "d"
   ]
  },
  {
   "cell_type": "code",
   "execution_count": 36,
   "id": "4cf9ef0f",
   "metadata": {},
   "outputs": [
    {
     "data": {
      "text/plain": [
       "{'one': 2017, 'two': 80, 'three': 30}"
      ]
     },
     "execution_count": 36,
     "metadata": {},
     "output_type": "execute_result"
    }
   ],
   "source": [
    "du={\"two\":80}\n",
    "d.update(du)\n",
    "d"
   ]
  },
  {
   "cell_type": "code",
   "execution_count": 37,
   "id": "981e3232",
   "metadata": {},
   "outputs": [
    {
     "data": {
      "text/plain": [
       "{'one': 2017, 'two': 80, 'three': 30, 'four': 76}"
      ]
     },
     "execution_count": 37,
     "metadata": {},
     "output_type": "execute_result"
    }
   ],
   "source": [
    "du={\"four\":76}\n",
    "d.update(du)\n",
    "d"
   ]
  },
  {
   "cell_type": "markdown",
   "id": "08c89dfc",
   "metadata": {},
   "source": [
    "### add key valu in the dictionary"
   ]
  },
  {
   "cell_type": "code",
   "execution_count": 38,
   "id": "41a30bef",
   "metadata": {},
   "outputs": [
    {
     "data": {
      "text/plain": [
       "{'one': 2017, 'two': 80, 'three': 30, 'four': 76}"
      ]
     },
     "execution_count": 38,
     "metadata": {},
     "output_type": "execute_result"
    }
   ],
   "source": [
    "d"
   ]
  },
  {
   "cell_type": "code",
   "execution_count": 39,
   "id": "3052c2c0",
   "metadata": {},
   "outputs": [
    {
     "data": {
      "text/plain": [
       "{'one': 2017, 'two': 80, 'three': 30, 'four': 76, 'six': 98}"
      ]
     },
     "execution_count": 39,
     "metadata": {},
     "output_type": "execute_result"
    }
   ],
   "source": [
    "d[\"six\"]=98\n",
    "d"
   ]
  },
  {
   "cell_type": "markdown",
   "id": "87d7dc7a",
   "metadata": {},
   "source": [
    "## remove item from dic"
   ]
  },
  {
   "cell_type": "code",
   "execution_count": 40,
   "id": "8071be02",
   "metadata": {},
   "outputs": [
    {
     "data": {
      "text/plain": [
       "30"
      ]
     },
     "execution_count": 40,
     "metadata": {},
     "output_type": "execute_result"
    }
   ],
   "source": [
    "d.pop(\"three\")#pop remove specified key name"
   ]
  },
  {
   "cell_type": "code",
   "execution_count": 41,
   "id": "fb094704",
   "metadata": {},
   "outputs": [
    {
     "data": {
      "text/plain": [
       "{'one': 2017, 'two': 80, 'four': 76, 'six': 98}"
      ]
     },
     "execution_count": 41,
     "metadata": {},
     "output_type": "execute_result"
    }
   ],
   "source": [
    "d"
   ]
  },
  {
   "cell_type": "code",
   "execution_count": 42,
   "id": "7cae226a",
   "metadata": {},
   "outputs": [
    {
     "data": {
      "text/plain": [
       "('six', 98)"
      ]
     },
     "execution_count": 42,
     "metadata": {},
     "output_type": "execute_result"
    }
   ],
   "source": [
    "d.popitem()#pop item remove last item"
   ]
  },
  {
   "cell_type": "code",
   "execution_count": 49,
   "id": "30f3c5ad",
   "metadata": {},
   "outputs": [
    {
     "data": {
      "text/plain": [
       "{'two': 80, 'four': 76}"
      ]
     },
     "execution_count": 49,
     "metadata": {},
     "output_type": "execute_result"
    }
   ],
   "source": [
    "d"
   ]
  },
  {
   "cell_type": "code",
   "execution_count": 50,
   "id": "f8f0f733",
   "metadata": {},
   "outputs": [],
   "source": [
    "del[d['two']] \n",
    "## del keyword remove the item\n"
   ]
  },
  {
   "cell_type": "code",
   "execution_count": 51,
   "id": "e90fb7d9",
   "metadata": {},
   "outputs": [
    {
     "data": {
      "text/plain": [
       "{'four': 76}"
      ]
     },
     "execution_count": 51,
     "metadata": {},
     "output_type": "execute_result"
    }
   ],
   "source": [
    "d"
   ]
  },
  {
   "cell_type": "markdown",
   "id": "26cc18dc",
   "metadata": {},
   "source": [
    "### clear -clear all item in dic"
   ]
  },
  {
   "cell_type": "code",
   "execution_count": 52,
   "id": "8bb7d68e",
   "metadata": {},
   "outputs": [],
   "source": [
    "d.clear()"
   ]
  },
  {
   "cell_type": "code",
   "execution_count": 53,
   "id": "96ffd5a7",
   "metadata": {},
   "outputs": [
    {
     "data": {
      "text/plain": [
       "{}"
      ]
     },
     "execution_count": 53,
     "metadata": {},
     "output_type": "execute_result"
    }
   ],
   "source": [
    "d"
   ]
  },
  {
   "cell_type": "markdown",
   "id": "fbcc358e",
   "metadata": {},
   "source": [
    "### del-can delete the dictinary completly"
   ]
  },
  {
   "cell_type": "code",
   "execution_count": 54,
   "id": "9720f2a8",
   "metadata": {},
   "outputs": [],
   "source": [
    "del d"
   ]
  },
  {
   "cell_type": "code",
   "execution_count": 55,
   "id": "25649d08",
   "metadata": {},
   "outputs": [
    {
     "ename": "NameError",
     "evalue": "name 'd' is not defined",
     "output_type": "error",
     "traceback": [
      "\u001b[1;31m---------------------------------------------------------------------------\u001b[0m",
      "\u001b[1;31mNameError\u001b[0m                                 Traceback (most recent call last)",
      "Input \u001b[1;32mIn [55]\u001b[0m, in \u001b[0;36m<cell line: 1>\u001b[1;34m()\u001b[0m\n\u001b[1;32m----> 1\u001b[0m \u001b[43md\u001b[49m\n",
      "\u001b[1;31mNameError\u001b[0m: name 'd' is not defined"
     ]
    }
   ],
   "source": [
    "d #no such dictinary bz we deleted"
   ]
  },
  {
   "cell_type": "markdown",
   "id": "7565aaf3",
   "metadata": {},
   "source": [
    "## copy dictionary"
   ]
  },
  {
   "cell_type": "code",
   "execution_count": 61,
   "id": "73f6b93a",
   "metadata": {},
   "outputs": [
    {
     "data": {
      "text/plain": [
       "{1: 'divya', 2: 'shiv', 3: 'radha'}"
      ]
     },
     "execution_count": 61,
     "metadata": {},
     "output_type": "execute_result"
    }
   ],
   "source": [
    "d={1:\"divya\",2:\"shiv\",3:\"radha\"}\n",
    "d"
   ]
  },
  {
   "cell_type": "code",
   "execution_count": 63,
   "id": "8fcfb821",
   "metadata": {},
   "outputs": [
    {
     "data": {
      "text/plain": [
       "2198192335168"
      ]
     },
     "execution_count": 63,
     "metadata": {},
     "output_type": "execute_result"
    }
   ],
   "source": [
    "id(d)"
   ]
  },
  {
   "cell_type": "code",
   "execution_count": 64,
   "id": "be971306",
   "metadata": {},
   "outputs": [
    {
     "data": {
      "text/plain": [
       "{1: 'divya', 2: 'shiv', 3: 'radha'}"
      ]
     },
     "execution_count": 64,
     "metadata": {},
     "output_type": "execute_result"
    }
   ],
   "source": [
    "d1=d\n",
    "d1"
   ]
  },
  {
   "cell_type": "code",
   "execution_count": 58,
   "id": "608e6061",
   "metadata": {},
   "outputs": [
    {
     "data": {
      "text/plain": [
       "2198162385024"
      ]
     },
     "execution_count": 58,
     "metadata": {},
     "output_type": "execute_result"
    }
   ],
   "source": [
    "id(d1)"
   ]
  },
  {
   "cell_type": "code",
   "execution_count": 65,
   "id": "26f53491",
   "metadata": {},
   "outputs": [
    {
     "data": {
      "text/plain": [
       "{1: 'divya', 2: 'shiv', 3: 'radha'}"
      ]
     },
     "execution_count": 65,
     "metadata": {},
     "output_type": "execute_result"
    }
   ],
   "source": [
    "d2=d.copy()\n",
    "d2"
   ]
  },
  {
   "cell_type": "code",
   "execution_count": 70,
   "id": "a070d386",
   "metadata": {},
   "outputs": [
    {
     "data": {
      "text/plain": [
       "{1: 'divya', 2: 'shiv', 3: 'radha'}"
      ]
     },
     "execution_count": 70,
     "metadata": {},
     "output_type": "execute_result"
    }
   ],
   "source": [
    "d={1:\"divya\",2:\"shiv\",3:\"radha\"}\n",
    "d"
   ]
  },
  {
   "cell_type": "code",
   "execution_count": 71,
   "id": "050246eb",
   "metadata": {},
   "outputs": [
    {
     "data": {
      "text/plain": [
       "False"
      ]
     },
     "execution_count": 71,
     "metadata": {},
     "output_type": "execute_result"
    }
   ],
   "source": [
    "\"divya\" in d ## membership function"
   ]
  },
  {
   "cell_type": "code",
   "execution_count": 72,
   "id": "39758edd",
   "metadata": {},
   "outputs": [
    {
     "data": {
      "text/plain": [
       "True"
      ]
     },
     "execution_count": 72,
     "metadata": {},
     "output_type": "execute_result"
    }
   ],
   "source": [
    "2 in d"
   ]
  },
  {
   "cell_type": "code",
   "execution_count": 73,
   "id": "43d30533",
   "metadata": {},
   "outputs": [
    {
     "name": "stdout",
     "output_type": "stream",
     "text": [
      "1 : divya\n",
      "2 : shiv\n",
      "3 : radha\n"
     ]
    }
   ],
   "source": [
    "for i in d:## loop through dictionary\n",
    "    print(i,\":\",d[i])"
   ]
  },
  {
   "cell_type": "code",
   "execution_count": 5,
   "id": "a46bf439",
   "metadata": {},
   "outputs": [
    {
     "data": {
      "text/plain": [
       "True"
      ]
     },
     "execution_count": 5,
     "metadata": {},
     "output_type": "execute_result"
    }
   ],
   "source": [
    "d={1:\"divya\",2:\"shiv\",3:\"radha\"}## nested dictionary\n",
    "1 in d"
   ]
  },
  {
   "cell_type": "code",
   "execution_count": 4,
   "id": "18047d3a",
   "metadata": {},
   "outputs": [
    {
     "name": "stdout",
     "output_type": "stream",
     "text": [
      "{1: {'name': 'athu', 'age': 10, 'sex': 'female'}, 2: {'name': 'anandhu', 'age': 20, 'sex': 'male'}}\n"
     ]
    }
   ],
   "source": [
    "people={1:{\"name\":\"athu\",\"age\":10,\"sex\":\"female\"},\n",
    "        2:{\"name\":\"anandhu\",\"age\":20,\"sex\":\"male\"}}\n",
    "print(people)"
   ]
  },
  {
   "cell_type": "code",
   "execution_count": 6,
   "id": "c6493e4a",
   "metadata": {},
   "outputs": [
    {
     "data": {
      "text/plain": [
       "{'name': 'athu', 'age': 10, 'sex': 'female'}"
      ]
     },
     "execution_count": 6,
     "metadata": {},
     "output_type": "execute_result"
    }
   ],
   "source": [
    "people[1]"
   ]
  },
  {
   "cell_type": "code",
   "execution_count": 7,
   "id": "97cf5de1",
   "metadata": {},
   "outputs": [
    {
     "data": {
      "text/plain": [
       "{'name': 'anandhu', 'age': 20, 'sex': 'male'}"
      ]
     },
     "execution_count": 7,
     "metadata": {},
     "output_type": "execute_result"
    }
   ],
   "source": [
    "people[2]"
   ]
  },
  {
   "cell_type": "code",
   "execution_count": 4,
   "id": "cd0f2311",
   "metadata": {},
   "outputs": [
    {
     "data": {
      "text/plain": [
       "{1: {'name': 'athu', 'age': 10, 'sex': 'female'},\n",
       " 2: {'name': 'anandhu', 'age': 20, 'sex': 'male'}}"
      ]
     },
     "execution_count": 4,
     "metadata": {},
     "output_type": "execute_result"
    }
   ],
   "source": [
    "people={1:{\"name\":\"athu\",\"age\":10,\"sex\":\"female\"},\n",
    "        2:{\"name\":\"anandhu\",\"age\":20,\"sex\":\"male\"}}\n",
    "people"
   ]
  },
  {
   "cell_type": "code",
   "execution_count": 5,
   "id": "f6afdae5",
   "metadata": {},
   "outputs": [
    {
     "data": {
      "text/plain": [
       "'athu'"
      ]
     },
     "execution_count": 5,
     "metadata": {},
     "output_type": "execute_result"
    }
   ],
   "source": [
    "people[1][\"name\"]"
   ]
  },
  {
   "cell_type": "code",
   "execution_count": 6,
   "id": "1a81a454",
   "metadata": {},
   "outputs": [
    {
     "data": {
      "text/plain": [
       "'male'"
      ]
     },
     "execution_count": 6,
     "metadata": {},
     "output_type": "execute_result"
    }
   ],
   "source": [
    "people[2][\"sex\"]"
   ]
  },
  {
   "cell_type": "markdown",
   "id": "0b41de6c",
   "metadata": {},
   "source": [
    "## comprehension"
   ]
  },
  {
   "cell_type": "code",
   "execution_count": 74,
   "id": "f347f237",
   "metadata": {},
   "outputs": [
    {
     "data": {
      "text/plain": [
       "{0: 0, 1: 2, 2: 4, 3: 6, 4: 8, 5: 10, 6: 12, 7: 14, 8: 16, 9: 18}"
      ]
     },
     "execution_count": 74,
     "metadata": {},
     "output_type": "execute_result"
    }
   ],
   "source": [
    "d={i:i*2 for i in range(10)}\n",
    "d"
   ]
  },
  {
   "cell_type": "code",
   "execution_count": 76,
   "id": "fc8763b8",
   "metadata": {},
   "outputs": [
    {
     "data": {
      "text/plain": [
       "{0: 0, 1: 1, 2: 4, 3: 9, 4: 16, 5: 25, 6: 36, 7: 49, 8: 64, 9: 81}"
      ]
     },
     "execution_count": 76,
     "metadata": {},
     "output_type": "execute_result"
    }
   ],
   "source": [
    "d={i:i**2 for i in range(10)}\n",
    "d"
   ]
  },
  {
   "cell_type": "markdown",
   "id": "60ef031c",
   "metadata": {},
   "source": [
    "### word freequency using dictionary"
   ]
  },
  {
   "cell_type": "code",
   "execution_count": 77,
   "id": "cd6de7a3",
   "metadata": {},
   "outputs": [
    {
     "data": {
      "text/plain": [
       "str"
      ]
     },
     "execution_count": 77,
     "metadata": {},
     "output_type": "execute_result"
    }
   ],
   "source": [
    "m=\"one two three four five one two five six seven one eight four five\"\n",
    "type(m)"
   ]
  },
  {
   "cell_type": "code",
   "execution_count": 78,
   "id": "4e891e61",
   "metadata": {},
   "outputs": [
    {
     "data": {
      "text/plain": [
       "['one',\n",
       " 'two',\n",
       " 'three',\n",
       " 'four',\n",
       " 'five',\n",
       " 'one',\n",
       " 'two',\n",
       " 'five',\n",
       " 'six',\n",
       " 'seven',\n",
       " 'one',\n",
       " 'eight',\n",
       " 'four',\n",
       " 'five']"
      ]
     },
     "execution_count": 78,
     "metadata": {},
     "output_type": "execute_result"
    }
   ],
   "source": [
    "m1=m.split()\n",
    "m1"
   ]
  },
  {
   "cell_type": "code",
   "execution_count": 80,
   "id": "bd71860c",
   "metadata": {},
   "outputs": [
    {
     "data": {
      "text/plain": [
       "list"
      ]
     },
     "execution_count": 80,
     "metadata": {},
     "output_type": "execute_result"
    }
   ],
   "source": [
    "type(m1)"
   ]
  },
  {
   "cell_type": "markdown",
   "id": "a9c11f50",
   "metadata": {},
   "source": [
    "### double each value in dictionary"
   ]
  },
  {
   "cell_type": "code",
   "execution_count": 7,
   "id": "2426c37d",
   "metadata": {},
   "outputs": [
    {
     "name": "stdout",
     "output_type": "stream",
     "text": [
      "{'athu': 200, 'anand': 100, 'appu': 70}\n"
     ]
    }
   ],
   "source": [
    "dic1={\"athu\":100,\"anand\":50,\"appu\":35}\n",
    "dic1[\"athu\"]=100*2\n",
    "dic1[\"anand\"]=50*2\n",
    "dic1[\"appu\"]=35*2\n",
    "print(dic1)"
   ]
  },
  {
   "cell_type": "code",
   "execution_count": 14,
   "id": "3ea6ebce",
   "metadata": {},
   "outputs": [
    {
     "data": {
      "text/plain": [
       "{'name': 'athu', 'sex': 'female', 'couse': 'data'}"
      ]
     },
     "execution_count": 14,
     "metadata": {},
     "output_type": "execute_result"
    }
   ],
   "source": [
    "dic1={\"name\":\"athu\",\"sex\":\"female\",\"couse\":\"data\"}\n",
    "dic1\n"
   ]
  },
  {
   "cell_type": "code",
   "execution_count": 2,
   "id": "4e1eb3e9",
   "metadata": {},
   "outputs": [
    {
     "data": {
      "text/plain": [
       "str"
      ]
     },
     "execution_count": 2,
     "metadata": {},
     "output_type": "execute_result"
    }
   ],
   "source": [
    "m=\"one two three four five one two five six seven one eight four five\"\n",
    "type(m)"
   ]
  },
  {
   "cell_type": "code",
   "execution_count": 3,
   "id": "0fc4ff03",
   "metadata": {},
   "outputs": [
    {
     "data": {
      "text/plain": [
       "['one',\n",
       " 'two',\n",
       " 'three',\n",
       " 'four',\n",
       " 'five',\n",
       " 'one',\n",
       " 'two',\n",
       " 'five',\n",
       " 'six',\n",
       " 'seven',\n",
       " 'one',\n",
       " 'eight',\n",
       " 'four',\n",
       " 'five']"
      ]
     },
     "execution_count": 3,
     "metadata": {},
     "output_type": "execute_result"
    }
   ],
   "source": [
    "m1=m.split()\n",
    "m1"
   ]
  },
  {
   "cell_type": "code",
   "execution_count": 4,
   "id": "f613d090",
   "metadata": {},
   "outputs": [
    {
     "data": {
      "text/plain": [
       "list"
      ]
     },
     "execution_count": 4,
     "metadata": {},
     "output_type": "execute_result"
    }
   ],
   "source": [
    "type(m1)"
   ]
  },
  {
   "cell_type": "code",
   "execution_count": 6,
   "id": "92cd268a",
   "metadata": {},
   "outputs": [
    {
     "data": {
      "text/plain": [
       "['one',\n",
       " 'two',\n",
       " 'three',\n",
       " 'four',\n",
       " 'five',\n",
       " 'one',\n",
       " 'two',\n",
       " 'five',\n",
       " 'six',\n",
       " 'seven',\n",
       " 'one',\n",
       " 'eight',\n",
       " 'four',\n",
       " 'five']"
      ]
     },
     "execution_count": 6,
     "metadata": {},
     "output_type": "execute_result"
    }
   ],
   "source": [
    "m2=list(m1)\n",
    "m2"
   ]
  },
  {
   "cell_type": "code",
   "execution_count": 7,
   "id": "7a7fa80e",
   "metadata": {},
   "outputs": [
    {
     "data": {
      "text/plain": [
       "list"
      ]
     },
     "execution_count": 7,
     "metadata": {},
     "output_type": "execute_result"
    }
   ],
   "source": [
    "type(m2)"
   ]
  },
  {
   "cell_type": "code",
   "execution_count": 8,
   "id": "d2bd693a",
   "metadata": {},
   "outputs": [
    {
     "data": {
      "text/plain": [
       "2246129796928"
      ]
     },
     "execution_count": 8,
     "metadata": {},
     "output_type": "execute_result"
    }
   ],
   "source": [
    "id(m1)"
   ]
  },
  {
   "cell_type": "code",
   "execution_count": 9,
   "id": "9e2c1cc2",
   "metadata": {},
   "outputs": [
    {
     "data": {
      "text/plain": [
       "2246158056064"
      ]
     },
     "execution_count": 9,
     "metadata": {},
     "output_type": "execute_result"
    }
   ],
   "source": [
    "id(m2)"
   ]
  },
  {
   "cell_type": "code",
   "execution_count": 10,
   "id": "9f3f68a2",
   "metadata": {},
   "outputs": [
    {
     "data": {
      "text/plain": [
       "3"
      ]
     },
     "execution_count": 10,
     "metadata": {},
     "output_type": "execute_result"
    }
   ],
   "source": [
    "int(3.3)"
   ]
  },
  {
   "cell_type": "code",
   "execution_count": 11,
   "id": "247031d9",
   "metadata": {},
   "outputs": [
    {
     "data": {
      "text/plain": [
       "3.0"
      ]
     },
     "execution_count": 11,
     "metadata": {},
     "output_type": "execute_result"
    }
   ],
   "source": [
    "float(3)"
   ]
  },
  {
   "cell_type": "code",
   "execution_count": 12,
   "id": "466d2dcb",
   "metadata": {},
   "outputs": [
    {
     "data": {
      "text/plain": [
       "7"
      ]
     },
     "execution_count": 12,
     "metadata": {},
     "output_type": "execute_result"
    }
   ],
   "source": [
    "int(\"7\")"
   ]
  },
  {
   "cell_type": "code",
   "execution_count": 13,
   "id": "5b55c46b",
   "metadata": {},
   "outputs": [
    {
     "ename": "ValueError",
     "evalue": "invalid literal for int() with base 10: '7.1'",
     "output_type": "error",
     "traceback": [
      "\u001b[1;31m---------------------------------------------------------------------------\u001b[0m",
      "\u001b[1;31mValueError\u001b[0m                                Traceback (most recent call last)",
      "Input \u001b[1;32mIn [13]\u001b[0m, in \u001b[0;36m<cell line: 1>\u001b[1;34m()\u001b[0m\n\u001b[1;32m----> 1\u001b[0m \u001b[38;5;28;43mint\u001b[39;49m\u001b[43m(\u001b[49m\u001b[38;5;124;43m\"\u001b[39;49m\u001b[38;5;124;43m7.1\u001b[39;49m\u001b[38;5;124;43m\"\u001b[39;49m\u001b[43m)\u001b[49m\n",
      "\u001b[1;31mValueError\u001b[0m: invalid literal for int() with base 10: '7.1'"
     ]
    }
   ],
   "source": [
    "int(\"7.1\")"
   ]
  },
  {
   "cell_type": "code",
   "execution_count": 14,
   "id": "cd18aea6",
   "metadata": {},
   "outputs": [
    {
     "ename": "ValueError",
     "evalue": "could not convert string to float: 'test'",
     "output_type": "error",
     "traceback": [
      "\u001b[1;31m---------------------------------------------------------------------------\u001b[0m",
      "\u001b[1;31mValueError\u001b[0m                                Traceback (most recent call last)",
      "Input \u001b[1;32mIn [14]\u001b[0m, in \u001b[0;36m<cell line: 1>\u001b[1;34m()\u001b[0m\n\u001b[1;32m----> 1\u001b[0m \u001b[38;5;28;43mfloat\u001b[39;49m\u001b[43m(\u001b[49m\u001b[38;5;124;43m\"\u001b[39;49m\u001b[38;5;124;43mtest\u001b[39;49m\u001b[38;5;124;43m\"\u001b[39;49m\u001b[43m)\u001b[49m\n",
      "\u001b[1;31mValueError\u001b[0m: could not convert string to float: 'test'"
     ]
    }
   ],
   "source": [
    "float(\"test\")"
   ]
  },
  {
   "cell_type": "code",
   "execution_count": 15,
   "id": "27b21457",
   "metadata": {},
   "outputs": [
    {
     "name": "stdout",
     "output_type": "stream",
     "text": [
      "{'one': 3, 'two': 2, 'three': 1, 'four': 2, 'five': 3, 'six': 1, 'seven': 1, 'eight': 1}\n"
     ]
    }
   ],
   "source": [
    "## calculate freequency of each word\n",
    "c=[0]*len(m2)\n",
    "my=dict()\n",
    "for i in range(len(m2)):\n",
    "    for j in range(len(m1)):\n",
    "        if m2[i]==m1[j]:\n",
    "            c[i]+=1\n",
    "    my[m2[i]]=c[i]\n",
    "print(my)"
   ]
  },
  {
   "cell_type": "code",
   "execution_count": 16,
   "id": "c7e09534",
   "metadata": {},
   "outputs": [
    {
     "data": {
      "text/plain": [
       "[0, 0, 0, 0, 0, 0, 0, 0, 0, 0, 0, 0, 0, 0]"
      ]
     },
     "execution_count": 16,
     "metadata": {},
     "output_type": "execute_result"
    }
   ],
   "source": [
    "c=[0]*len(m2)\n",
    "c"
   ]
  },
  {
   "cell_type": "code",
   "execution_count": 17,
   "id": "a1cdee6d",
   "metadata": {},
   "outputs": [
    {
     "data": {
      "text/plain": [
       "14"
      ]
     },
     "execution_count": 17,
     "metadata": {},
     "output_type": "execute_result"
    }
   ],
   "source": [
    "len(c)"
   ]
  },
  {
   "cell_type": "code",
   "execution_count": 18,
   "id": "a3cbcddf",
   "metadata": {},
   "outputs": [
    {
     "data": {
      "text/plain": [
       "14"
      ]
     },
     "execution_count": 18,
     "metadata": {},
     "output_type": "execute_result"
    }
   ],
   "source": [
    "len(m2)"
   ]
  },
  {
   "cell_type": "code",
   "execution_count": 19,
   "id": "b4621da1",
   "metadata": {},
   "outputs": [
    {
     "data": {
      "text/plain": [
       "14"
      ]
     },
     "execution_count": 19,
     "metadata": {},
     "output_type": "execute_result"
    }
   ],
   "source": [
    "len(m1)"
   ]
  },
  {
   "cell_type": "code",
   "execution_count": null,
   "id": "ca6810ba",
   "metadata": {},
   "outputs": [],
   "source": []
  }
 ],
 "metadata": {
  "kernelspec": {
   "display_name": "Python 3 (ipykernel)",
   "language": "python",
   "name": "python3"
  },
  "language_info": {
   "codemirror_mode": {
    "name": "ipython",
    "version": 3
   },
   "file_extension": ".py",
   "mimetype": "text/x-python",
   "name": "python",
   "nbconvert_exporter": "python",
   "pygments_lexer": "ipython3",
   "version": "3.9.12"
  }
 },
 "nbformat": 4,
 "nbformat_minor": 5
}
