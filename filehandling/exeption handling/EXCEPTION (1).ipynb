{
 "cells": [
  {
   "cell_type": "markdown",
   "id": "0daf6d11",
   "metadata": {},
   "source": [
    "#### here exponent of 1000 is impossible so except part will execute"
   ]
  },
  {
   "cell_type": "code",
   "execution_count": 2,
   "id": "34fc91fa",
   "metadata": {},
   "outputs": [
    {
     "name": "stdout",
     "output_type": "stream",
     "text": [
      "(<class 'OverflowError'>, OverflowError('math range error'), <traceback object at 0x0000017287D84CC0>)\n"
     ]
    }
   ],
   "source": [
    "import math ## module import\n",
    "import sys ## module import\n",
    "try:\n",
    "    print(math.exp(1000)) ## cant find the expo of 1000 so error occure except part will execute\n",
    "except OverflowError:\n",
    "    print(sys.exc_info())\n",
    "else:\n",
    "    print(\"no exception occured\")"
   ]
  },
  {
   "cell_type": "markdown",
   "id": "5c5acb94",
   "metadata": {},
   "source": [
    "#### here expo of 100 is possible so answer and else part will execute"
   ]
  },
  {
   "cell_type": "code",
   "execution_count": 4,
   "id": "319b40ac",
   "metadata": {},
   "outputs": [
    {
     "name": "stdout",
     "output_type": "stream",
     "text": [
      "2.6881171418161356e+43\n",
      "no exeption occured\n"
     ]
    }
   ],
   "source": [
    "try:\n",
    "    print(math.exp(100))\n",
    "except OverflowError:\n",
    "    print(sys.exc_info())\n",
    "else:\n",
    "    print(\"no exeption occured\")"
   ]
  },
  {
   "cell_type": "markdown",
   "id": "6e15c607",
   "metadata": {},
   "source": [
    "#### here error occur but we mention index portion so the first error postion only print(over flow eeror track back will avoid)"
   ]
  },
  {
   "cell_type": "code",
   "execution_count": 5,
   "id": "942b7159",
   "metadata": {},
   "outputs": [
    {
     "name": "stdout",
     "output_type": "stream",
     "text": [
      "math range error\n"
     ]
    }
   ],
   "source": [
    "try:\n",
    "    print(math.exp(1000))\n",
    "except:\n",
    "    print(sys.exc_info()[1])\n",
    "else:\n",
    "    print(\"no exeption occured\")"
   ]
  },
  {
   "cell_type": "markdown",
   "id": "bbfc074f",
   "metadata": {},
   "source": [
    "#### if error occcur or not the finally statemnt will execute"
   ]
  },
  {
   "cell_type": "markdown",
   "id": "1bb36461",
   "metadata": {},
   "source": [
    "#### here error exist so exception will execute also finally will execute"
   ]
  },
  {
   "cell_type": "code",
   "execution_count": 6,
   "id": "5ff237c9",
   "metadata": {},
   "outputs": [
    {
     "name": "stdout",
     "output_type": "stream",
     "text": [
      "(<class 'OverflowError'>, OverflowError('math range error'), <traceback object at 0x0000017287D82940>)\n",
      "program is completed...clean the memory\n"
     ]
    }
   ],
   "source": [
    "import math\n",
    "try:\n",
    "    print(math.exp(1000))\n",
    "except OverflowError:\n",
    "    print(sys.exc_info())\n",
    "else:\n",
    "    print(\"no excption occured\")\n",
    "finally:\n",
    "    print('program is completed...clean the memory')"
   ]
  },
  {
   "cell_type": "markdown",
   "id": "b5a99365",
   "metadata": {},
   "source": [
    "#### here is no error so output and finally stamnt will print"
   ]
  },
  {
   "cell_type": "code",
   "execution_count": 7,
   "id": "91a908d7",
   "metadata": {},
   "outputs": [
    {
     "name": "stdout",
     "output_type": "stream",
     "text": [
      "2.6881171418161356e+43\n",
      "no excption occured\n",
      "program is completed...clean the memory\n"
     ]
    }
   ],
   "source": [
    "import math\n",
    "try:\n",
    "    print(math.exp(100))\n",
    "except OverflowError:\n",
    "    print(sys.exc_info())\n",
    "else:\n",
    "    print(\"no excption occured\")\n",
    "finally:\n",
    "    print('program is completed...clean the memory')"
   ]
  },
  {
   "cell_type": "code",
   "execution_count": null,
   "id": "8655edbd",
   "metadata": {},
   "outputs": [],
   "source": []
  },
  {
   "cell_type": "markdown",
   "id": "6d1aeb90",
   "metadata": {},
   "source": [
    "### zero division error"
   ]
  },
  {
   "cell_type": "code",
   "execution_count": null,
   "id": "2ec8d3bf",
   "metadata": {},
   "outputs": [],
   "source": []
  }
 ],
 "metadata": {
  "kernelspec": {
   "display_name": "Python 3 (ipykernel)",
   "language": "python",
   "name": "python3"
  },
  "language_info": {
   "codemirror_mode": {
    "name": "ipython",
    "version": 3
   },
   "file_extension": ".py",
   "mimetype": "text/x-python",
   "name": "python",
   "nbconvert_exporter": "python",
   "pygments_lexer": "ipython3",
   "version": "3.9.12"
  }
 },
 "nbformat": 4,
 "nbformat_minor": 5
}
