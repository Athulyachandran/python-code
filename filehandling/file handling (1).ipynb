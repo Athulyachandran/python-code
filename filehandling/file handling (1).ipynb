{
 "cells": [
  {
   "cell_type": "markdown",
   "id": "7dcc820b",
   "metadata": {},
   "source": [
    "### open()"
   ]
  },
  {
   "cell_type": "code",
   "execution_count": 3,
   "id": "88b8ce7e",
   "metadata": {},
   "outputs": [],
   "source": [
    "f=open('C:/Users/user/Desktop/earth.txt') ##to open file paste the path and file name.txt"
   ]
  },
  {
   "cell_type": "markdown",
   "id": "04f33c65",
   "metadata": {},
   "source": [
    "### read a file"
   ]
  },
  {
   "cell_type": "code",
   "execution_count": 4,
   "id": "792f5006",
   "metadata": {},
   "outputs": [],
   "source": [
    "f=open('C:/Users/user/Desktop/earth.txt','r')"
   ]
  },
  {
   "cell_type": "code",
   "execution_count": 5,
   "id": "bbbef124",
   "metadata": {},
   "outputs": [
    {
     "data": {
      "text/plain": [
       "\"Earth is the third planet from the Sun and the only astronomical object known to harbor life.\\n While large volumes of water can be found throughout the Solar System, \\nonly Earth sustains liquid surface water.\\n About 71% of Earth's surface is made up of the ocean, dwarfing Earth's polar ice, lakes, and rivers.\""
      ]
     },
     "execution_count": 5,
     "metadata": {},
     "output_type": "execute_result"
    }
   ],
   "source": [
    "f.read() 3# for read the content that we wright in notepad"
   ]
  },
  {
   "cell_type": "markdown",
   "id": "7d5d3074",
   "metadata": {},
   "source": [
    "### close file"
   ]
  },
  {
   "cell_type": "code",
   "execution_count": 6,
   "id": "185d95c1",
   "metadata": {},
   "outputs": [],
   "source": [
    "f.close()### for closing a file"
   ]
  },
  {
   "cell_type": "markdown",
   "id": "7d758970",
   "metadata": {},
   "source": [
    "### after close try to read"
   ]
  },
  {
   "cell_type": "code",
   "execution_count": 7,
   "id": "9b3071d5",
   "metadata": {},
   "outputs": [
    {
     "ename": "ValueError",
     "evalue": "I/O operation on closed file.",
     "output_type": "error",
     "traceback": [
      "\u001b[1;31m---------------------------------------------------------------------------\u001b[0m",
      "\u001b[1;31mValueError\u001b[0m                                Traceback (most recent call last)",
      "Input \u001b[1;32mIn [7]\u001b[0m, in \u001b[0;36m<cell line: 1>\u001b[1;34m()\u001b[0m\n\u001b[1;32m----> 1\u001b[0m \u001b[43mf\u001b[49m\u001b[38;5;241;43m.\u001b[39;49m\u001b[43mread\u001b[49m\u001b[43m(\u001b[49m\u001b[43m)\u001b[49m\n",
      "\u001b[1;31mValueError\u001b[0m: I/O operation on closed file."
     ]
    }
   ],
   "source": [
    "f.read() ## after close we cant read again that "
   ]
  },
  {
   "cell_type": "markdown",
   "id": "a7ed07f7",
   "metadata": {},
   "source": [
    "#### reading the defined content from file"
   ]
  },
  {
   "cell_type": "code",
   "execution_count": 8,
   "id": "3b4d2d2a",
   "metadata": {},
   "outputs": [
    {
     "name": "stdout",
     "output_type": "stream",
     "text": [
      "Earth is t\n"
     ]
    }
   ],
   "source": [
    "f=open('C:/Users/user/Desktop/earth.txt','r') ## for reading the number of char we mention\n",
    "print(f.read(10))\n",
    "f.close()"
   ]
  },
  {
   "cell_type": "markdown",
   "id": "5274899d",
   "metadata": {},
   "source": [
    "### readline()\n",
    "#### return one line from a file"
   ]
  },
  {
   "cell_type": "code",
   "execution_count": 9,
   "id": "00c67ea5",
   "metadata": {},
   "outputs": [
    {
     "name": "stdout",
     "output_type": "stream",
     "text": [
      "Earth is the th\n"
     ]
    }
   ],
   "source": [
    "## read line from a line here 15 we mentioned only 15 char will appear\n",
    "f=open('C:/Users/user/Desktop/earth.txt','r')\n",
    "print(f.readline(15))\n",
    "f.close()"
   ]
  },
  {
   "cell_type": "markdown",
   "id": "d7ef145f",
   "metadata": {},
   "source": [
    "#### if we no mention anything inside the readline() it will appear first line fully"
   ]
  },
  {
   "cell_type": "code",
   "execution_count": 10,
   "id": "51bc81e3",
   "metadata": {},
   "outputs": [
    {
     "name": "stdout",
     "output_type": "stream",
     "text": [
      "Earth is the third planet from the Sun and the only astronomical object known to harbor life.\n",
      "\n"
     ]
    }
   ],
   "source": [
    "f=open('C:/Users/user/Desktop/earth.txt','r')\n",
    "print(f.readline())\n",
    "f.close()"
   ]
  },
  {
   "cell_type": "markdown",
   "id": "ee6dffb8",
   "metadata": {},
   "source": [
    "## loop"
   ]
  },
  {
   "cell_type": "markdown",
   "id": "7091c545",
   "metadata": {},
   "source": [
    "#### read content of file using loop"
   ]
  },
  {
   "cell_type": "code",
   "execution_count": 11,
   "id": "d0b1c7ac",
   "metadata": {},
   "outputs": [
    {
     "name": "stdout",
     "output_type": "stream",
     "text": [
      "Earth is the third planet from the Sun and the only astronomical object known to harbor life.\n",
      "\n",
      " While large volumes of water can be found throughout the Solar System, \n",
      "\n",
      "only Earth sustains liquid surface water.\n",
      "\n",
      " About 71% of Earth's surface is made up of the ocean, dwarfing Earth's polar ice, lakes, and rivers.\n"
     ]
    }
   ],
   "source": [
    "f=open('C:/Users/user/Desktop/earth.txt','r')\n",
    "for i in f:\n",
    "    print(i)\n",
    "f.close()"
   ]
  },
  {
   "cell_type": "markdown",
   "id": "af7b7e12",
   "metadata": {},
   "source": [
    "### read lines()"
   ]
  },
  {
   "cell_type": "code",
   "execution_count": 13,
   "id": "97dd302c",
   "metadata": {},
   "outputs": [
    {
     "name": "stdout",
     "output_type": "stream",
     "text": [
      "['Earth is the third planet from the Sun and the only astronomical object known to harbor life.\\n', ' While large volumes of water can be found throughout the Solar System, \\n', 'only Earth sustains liquid surface water.\\n', \" About 71% of Earth's surface is made up of the ocean, dwarfing Earth's polar ice, lakes, and rivers.\"]\n"
     ]
    }
   ],
   "source": [
    "f=open('C:/Users/user/Desktop/earth.txt','r')\n",
    "print(f.readlines())\n",
    "f.close()"
   ]
  },
  {
   "cell_type": "code",
   "execution_count": 14,
   "id": "37443329",
   "metadata": {},
   "outputs": [
    {
     "name": "stdout",
     "output_type": "stream",
     "text": [
      "['Earth is the third planet from the Sun and the only astronomical object known to harbor life.\\n']\n"
     ]
    }
   ],
   "source": [
    "f=open('C:/Users/user/Desktop/earth.txt','r')## how many num provide then only the first line will printed\n",
    "print(f.readlines(3))\n",
    "f.close()"
   ]
  },
  {
   "cell_type": "markdown",
   "id": "8a136c2b",
   "metadata": {},
   "source": [
    "### write file"
   ]
  },
  {
   "cell_type": "markdown",
   "id": "8d3fb43b",
   "metadata": {},
   "source": [
    "#### can create  new file and write content inside it  "
   ]
  },
  {
   "cell_type": "code",
   "execution_count": 1,
   "id": "637dcdfd",
   "metadata": {},
   "outputs": [],
   "source": [
    "f=open('C:/Users/user/Desktop/mydata.txt','w')\n",
    "f.write(\"lets do something in python \\n am new one in the programing.just started to learn things.i think it will be ok for me\")\n",
    "f.close()"
   ]
  },
  {
   "cell_type": "code",
   "execution_count": 2,
   "id": "3518caea",
   "metadata": {},
   "outputs": [],
   "source": [
    "f=open('C:/Users/user/Desktop/mydata.txt','w')\n",
    "f.write(\"python is nice\")\n",
    "f.close()"
   ]
  },
  {
   "cell_type": "code",
   "execution_count": 3,
   "id": "47018a87",
   "metadata": {},
   "outputs": [
    {
     "data": {
      "text/plain": [
       "'python is nice'"
      ]
     },
     "execution_count": 3,
     "metadata": {},
     "output_type": "execute_result"
    }
   ],
   "source": [
    "f=open('C:/Users/user/Desktop/mydata.txt','r')\n",
    "f.read()\n"
   ]
  },
  {
   "cell_type": "code",
   "execution_count": 4,
   "id": "9ef3a59e",
   "metadata": {},
   "outputs": [],
   "source": [
    "f.close()"
   ]
  },
  {
   "cell_type": "markdown",
   "id": "835bbeb4",
   "metadata": {},
   "source": [
    "### append"
   ]
  },
  {
   "cell_type": "markdown",
   "id": "b331984e",
   "metadata": {},
   "source": [
    "##### append is used to attach old content with new"
   ]
  },
  {
   "cell_type": "code",
   "execution_count": 5,
   "id": "40d86554",
   "metadata": {},
   "outputs": [],
   "source": [
    "f=open('C:/Users/user/Desktop/mydata.txt','a')\n",
    "f.write(\"welcome,python is oob languague\")\n",
    "f.close()"
   ]
  },
  {
   "cell_type": "code",
   "execution_count": 6,
   "id": "e60ed34f",
   "metadata": {},
   "outputs": [
    {
     "name": "stdout",
     "output_type": "stream",
     "text": [
      "python is nicewelcome,python is oob languague\n"
     ]
    }
   ],
   "source": [
    "f=open('C:/Users/user/Desktop/mydata.txt','r')\n",
    "print(f.read())\n",
    "f.close()"
   ]
  },
  {
   "cell_type": "markdown",
   "id": "e13f09eb",
   "metadata": {},
   "source": [
    "## create a file"
   ]
  },
  {
   "cell_type": "code",
   "execution_count": 7,
   "id": "d610fa9d",
   "metadata": {},
   "outputs": [],
   "source": [
    "f=open(\"mynew.text\",'x')"
   ]
  },
  {
   "cell_type": "code",
   "execution_count": 9,
   "id": "2cc58bc6",
   "metadata": {},
   "outputs": [
    {
     "data": {
      "text/plain": [
       "7"
      ]
     },
     "execution_count": 9,
     "metadata": {},
     "output_type": "execute_result"
    }
   ],
   "source": [
    "f.write(\"welcome\")"
   ]
  },
  {
   "cell_type": "code",
   "execution_count": 10,
   "id": "aab35a46",
   "metadata": {},
   "outputs": [],
   "source": [
    "f.close()"
   ]
  },
  {
   "cell_type": "code",
   "execution_count": 11,
   "id": "c8eb1867",
   "metadata": {},
   "outputs": [
    {
     "name": "stdout",
     "output_type": "stream",
     "text": [
      "welcome\n"
     ]
    }
   ],
   "source": [
    "f=open('mynew.text','r')\n",
    "print(f.read())\n",
    "f.close()"
   ]
  },
  {
   "cell_type": "code",
   "execution_count": 32,
   "id": "f0419f15",
   "metadata": {},
   "outputs": [],
   "source": [
    "f=open('C:/Users/user/Desktop/earth.txt','r')"
   ]
  },
  {
   "cell_type": "code",
   "execution_count": 33,
   "id": "36f8bd89",
   "metadata": {},
   "outputs": [
    {
     "data": {
      "text/plain": [
       "0"
      ]
     },
     "execution_count": 33,
     "metadata": {},
     "output_type": "execute_result"
    }
   ],
   "source": [
    "f.seek(0)"
   ]
  },
  {
   "cell_type": "code",
   "execution_count": 34,
   "id": "85ba511e",
   "metadata": {},
   "outputs": [
    {
     "data": {
      "text/plain": [
       "\"Earth is the third planet from the Sun and the only astronomical object known to harbor life.\\n While large volumes of water can be found throughout the Solar System, \\nonly Earth sustains liquid surface water.\\n About 71% of Earth's surface is made up of the ocean, dwarfing Earth's polar ice, lakes, and rivers.\""
      ]
     },
     "execution_count": 34,
     "metadata": {},
     "output_type": "execute_result"
    }
   ],
   "source": [
    "f.read()"
   ]
  },
  {
   "cell_type": "code",
   "execution_count": 35,
   "id": "d5a557f0",
   "metadata": {},
   "outputs": [
    {
     "data": {
      "text/plain": [
       "313"
      ]
     },
     "execution_count": 35,
     "metadata": {},
     "output_type": "execute_result"
    }
   ],
   "source": [
    "f.tell()"
   ]
  },
  {
   "cell_type": "code",
   "execution_count": 29,
   "id": "986f4431",
   "metadata": {},
   "outputs": [
    {
     "data": {
      "text/plain": [
       "[]"
      ]
     },
     "execution_count": 29,
     "metadata": {},
     "output_type": "execute_result"
    }
   ],
   "source": [
    "f.readlines(10)"
   ]
  },
  {
   "cell_type": "code",
   "execution_count": 30,
   "id": "7700b554",
   "metadata": {},
   "outputs": [
    {
     "data": {
      "text/plain": [
       "\"ird planet from the Sun and the only astronomical object known to harbor life.\\n While large volumes of water can be found throughout the Solar System, \\nonly Earth sustains liquid surface water.\\n About 71% of Earth's surface is made up of the ocean, dwarfing Earth's polar ice, lakes, and rivers.\""
      ]
     },
     "execution_count": 30,
     "metadata": {},
     "output_type": "execute_result"
    }
   ],
   "source": [
    "f.seek(15) ## it will read from 15 charector\n",
    "f.read()"
   ]
  },
  {
   "cell_type": "code",
   "execution_count": 22,
   "id": "a1b26c67",
   "metadata": {},
   "outputs": [
    {
     "data": {
      "text/plain": [
       "313"
      ]
     },
     "execution_count": 22,
     "metadata": {},
     "output_type": "execute_result"
    }
   ],
   "source": [
    "f.tell() ## get file cursor position(last position)"
   ]
  },
  {
   "cell_type": "code",
   "execution_count": 31,
   "id": "99740153",
   "metadata": {},
   "outputs": [
    {
     "data": {
      "text/plain": [
       "''"
      ]
     },
     "execution_count": 31,
     "metadata": {},
     "output_type": "execute_result"
    }
   ],
   "source": [
    "f.read()"
   ]
  },
  {
   "cell_type": "markdown",
   "id": "d80f9cb8",
   "metadata": {},
   "source": [
    "### delete a file"
   ]
  },
  {
   "cell_type": "code",
   "execution_count": 38,
   "id": "f69fb222",
   "metadata": {},
   "outputs": [
    {
     "ename": "FileNotFoundError",
     "evalue": "[WinError 2] The system cannot find the file specified: 'mydata.txt'",
     "output_type": "error",
     "traceback": [
      "\u001b[1;31m---------------------------------------------------------------------------\u001b[0m",
      "\u001b[1;31mFileNotFoundError\u001b[0m                         Traceback (most recent call last)",
      "Input \u001b[1;32mIn [38]\u001b[0m, in \u001b[0;36m<cell line: 2>\u001b[1;34m()\u001b[0m\n\u001b[0;32m      1\u001b[0m \u001b[38;5;28;01mimport\u001b[39;00m \u001b[38;5;21;01mos\u001b[39;00m\n\u001b[1;32m----> 2\u001b[0m \u001b[43mos\u001b[49m\u001b[38;5;241;43m.\u001b[39;49m\u001b[43mremove\u001b[49m\u001b[43m(\u001b[49m\u001b[38;5;124;43m'\u001b[39;49m\u001b[38;5;124;43mmydata.txt\u001b[39;49m\u001b[38;5;124;43m'\u001b[39;49m\u001b[43m)\u001b[49m\n",
      "\u001b[1;31mFileNotFoundError\u001b[0m: [WinError 2] The system cannot find the file specified: 'mydata.txt'"
     ]
    }
   ],
   "source": [
    "import os\n",
    "os.remove('mydata.txt')"
   ]
  },
  {
   "cell_type": "code",
   "execution_count": 40,
   "id": "5fa07da9",
   "metadata": {},
   "outputs": [
    {
     "name": "stdout",
     "output_type": "stream",
     "text": [
      "file not exist\n"
     ]
    }
   ],
   "source": [
    "if os.path.exists('mydata.txt'):\n",
    "    os.remove('mydata.text')\n",
    "else:\n",
    "    print(\"file not exist\")"
   ]
  },
  {
   "cell_type": "code",
   "execution_count": null,
   "id": "6df4d989",
   "metadata": {},
   "outputs": [],
   "source": []
  }
 ],
 "metadata": {
  "kernelspec": {
   "display_name": "Python 3 (ipykernel)",
   "language": "python",
   "name": "python3"
  },
  "language_info": {
   "codemirror_mode": {
    "name": "ipython",
    "version": 3
   },
   "file_extension": ".py",
   "mimetype": "text/x-python",
   "name": "python",
   "nbconvert_exporter": "python",
   "pygments_lexer": "ipython3",
   "version": "3.9.12"
  }
 },
 "nbformat": 4,
 "nbformat_minor": 5
}
