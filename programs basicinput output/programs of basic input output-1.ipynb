{
 "cells": [
  {
   "cell_type": "code",
   "execution_count": 1,
   "id": "7b6dafa8",
   "metadata": {},
   "outputs": [
    {
     "name": "stdout",
     "output_type": "stream",
     "text": [
      "hi how are you?\n",
      "hello world\n"
     ]
    }
   ],
   "source": [
    "abc=10\n",
    "if(abc==10):\n",
    "    print(\"hi how are you?\")\n",
    "    print(\"hello world\")"
   ]
  },
  {
   "cell_type": "code",
   "execution_count": 2,
   "id": "ea987b70",
   "metadata": {},
   "outputs": [
    {
     "name": "stdout",
     "output_type": "stream",
     "text": [
      "good bye\n"
     ]
    }
   ],
   "source": [
    "a=7\n",
    "b=6\n",
    "if(a==b):\n",
    "    print(\"both are equal\")\n",
    "else:\n",
    "    print(\"good bye\")"
   ]
  },
  {
   "cell_type": "code",
   "execution_count": 3,
   "id": "3e17a4b8",
   "metadata": {},
   "outputs": [
    {
     "name": "stdout",
     "output_type": "stream",
     "text": [
      "both are equal\n"
     ]
    }
   ],
   "source": [
    "a=6\n",
    "b=6\n",
    "if(a==b):\n",
    "    print(\"both are equal\")\n",
    "else:\n",
    "    print(\"good bye\")"
   ]
  },
  {
   "cell_type": "markdown",
   "id": "16e2f70f",
   "metadata": {},
   "source": [
    "### program to check the given year is leap year or not"
   ]
  },
  {
   "cell_type": "code",
   "execution_count": 4,
   "id": "ae7b9cd3",
   "metadata": {},
   "outputs": [
    {
     "name": "stdout",
     "output_type": "stream",
     "text": [
      "enter year:2000\n",
      "2000 is a leapyear\n"
     ]
    }
   ],
   "source": [
    "year=int(input(\"enter year:\"))\n",
    "if(year%4==0 and year%100!=0)or(year%400==0):\n",
    "    print(year,\"is a leapyear\")\n",
    "else:\n",
    "    print(year,\"is not a leap year\")"
   ]
  },
  {
   "cell_type": "markdown",
   "id": "96bfc0d1",
   "metadata": {},
   "source": [
    "### program to find the given num is positive negative or zero"
   ]
  },
  {
   "cell_type": "code",
   "execution_count": null,
   "id": "d1a3b8d0",
   "metadata": {},
   "outputs": [],
   "source": [
    "num=int(input(\"enter number:\"))\n",
    "if num>0:\n",
    "    print(num ,\"the given number is positive\")\n",
    "elif n<0:\n",
    "    print(num,\"the given number is negative\")\n",
    "else:\n",
    "    print(num,\"the given number is zero\")"
   ]
  },
  {
   "cell_type": "markdown",
   "id": "636e44e7",
   "metadata": {},
   "source": [
    "### if else stmnt"
   ]
  },
  {
   "cell_type": "code",
   "execution_count": 7,
   "id": "762feb7a",
   "metadata": {},
   "outputs": [
    {
     "name": "stdout",
     "output_type": "stream",
     "text": [
      "it is true\n",
      "100\n"
     ]
    }
   ],
   "source": [
    "var=100\n",
    "if var:\n",
    "    print(\"it is true\")\n",
    "    print(var)\n",
    "else:\n",
    "    print(\"it is false\")\n",
    "    print(var)"
   ]
  },
  {
   "cell_type": "code",
   "execution_count": 8,
   "id": "8366eb74",
   "metadata": {},
   "outputs": [
    {
     "name": "stdout",
     "output_type": "stream",
     "text": [
      "it is false\n",
      "100\n"
     ]
    }
   ],
   "source": [
    "var=100\n",
    "if var==80:\n",
    "    print(\"it is true\")\n",
    "    print(var)\n",
    "else:\n",
    "    print(\"it is false\")\n",
    "    print(var)"
   ]
  },
  {
   "cell_type": "code",
   "execution_count": 11,
   "id": "3a71a5f1",
   "metadata": {},
   "outputs": [
    {
     "name": "stdout",
     "output_type": "stream",
     "text": [
      "enter key to be checked17\n",
      "key is not present\n"
     ]
    }
   ],
   "source": [
    "d={\"vehicle\":\"car\",\"model\":\"hackey\"}\n",
    "key=input(\"enter key to be checked\")\n",
    "if key in d.keys():\n",
    "    print(\"key value is:\")\n",
    "    print(d[key])\n",
    "else:\n",
    "    print(\"key is not present\")"
   ]
  },
  {
   "cell_type": "markdown",
   "id": "d4b69eaa",
   "metadata": {},
   "source": [
    "### write a program to introduce userself"
   ]
  },
  {
   "cell_type": "code",
   "execution_count": 1,
   "id": "b344108b",
   "metadata": {},
   "outputs": [
    {
     "name": "stdout",
     "output_type": "stream",
     "text": [
      "enter nameathulya\n",
      "enter the age24\n",
      "enter qualificationb.tech\n",
      "enter your locationkerala\n",
      "enter your hobbiessiging\n",
      "athulya is my name and am 24 year old am a b.tech graduate kerala is my state siging my hobby\n"
     ]
    }
   ],
   "source": [
    "name=input(\"enter name\")\n",
    "age=int(input(\"enter the age\"))\n",
    "quali=input(\"enter qualification\")\n",
    "loc=input(\"enter your location\")\n",
    "hobbi=input(\"enter your hobbies\")\n",
    "print(name,\"is my name\",\"and am\",age,\"year old\",\"am a\",quali,\"graduate\",loc,\"is my state\",hobbi, \"my hobby\")"
   ]
  },
  {
   "cell_type": "markdown",
   "id": "3ea3b7bf",
   "metadata": {},
   "source": [
    "### adiition"
   ]
  },
  {
   "cell_type": "code",
   "execution_count": 1,
   "id": "c779ea15",
   "metadata": {},
   "outputs": [
    {
     "name": "stdout",
     "output_type": "stream",
     "text": [
      "enter number15\n",
      "enter number25\n",
      "10\n"
     ]
    }
   ],
   "source": [
    "num1=int(input(\"enter number1\"))\n",
    "num2=int(input(\"enter number2\"))\n",
    "sum=num1+num2\n",
    "print(sum)"
   ]
  },
  {
   "cell_type": "markdown",
   "id": "e67bf190",
   "metadata": {},
   "source": [
    "### subtraction"
   ]
  },
  {
   "cell_type": "code",
   "execution_count": 1,
   "id": "661e3b29",
   "metadata": {},
   "outputs": [
    {
     "name": "stdout",
     "output_type": "stream",
     "text": [
      "enter number110\n",
      "enter number25\n",
      "5\n"
     ]
    }
   ],
   "source": [
    "num1=int(input(\"enter number1\"))\n",
    "num2=int(input(\"enter number2\"))\n",
    "diff=num1-num2\n",
    "print(diff)"
   ]
  },
  {
   "cell_type": "markdown",
   "id": "57e48c51",
   "metadata": {},
   "source": [
    "### multiplication"
   ]
  },
  {
   "cell_type": "code",
   "execution_count": 2,
   "id": "0ba54131",
   "metadata": {},
   "outputs": [
    {
     "name": "stdout",
     "output_type": "stream",
     "text": [
      "enter number15\n",
      "enter number25\n",
      "25\n"
     ]
    }
   ],
   "source": [
    "num1=int(input(\"enter number1\"))\n",
    "num2=int(input(\"enter number2\"))\n",
    "mul=num1*num2\n",
    "print(mul)"
   ]
  },
  {
   "cell_type": "markdown",
   "id": "9791533c",
   "metadata": {},
   "source": [
    "### division"
   ]
  },
  {
   "cell_type": "code",
   "execution_count": 3,
   "id": "c9e6dde2",
   "metadata": {},
   "outputs": [
    {
     "name": "stdout",
     "output_type": "stream",
     "text": [
      "enter number110\n",
      "enter number22\n",
      "5.0\n"
     ]
    }
   ],
   "source": [
    "num1=int(input(\"enter number1\"))\n",
    "num2=int(input(\"enter number2\"))\n",
    "division=num1/num2\n",
    "print(division)"
   ]
  },
  {
   "cell_type": "markdown",
   "id": "6174b8b9",
   "metadata": {},
   "source": [
    "### modulus"
   ]
  },
  {
   "cell_type": "code",
   "execution_count": 4,
   "id": "2032d782",
   "metadata": {},
   "outputs": [
    {
     "name": "stdout",
     "output_type": "stream",
     "text": [
      "enter number115\n",
      "enter number23\n",
      "0\n"
     ]
    }
   ],
   "source": [
    "num1=int(input(\"enter number1\"))\n",
    "num2=int(input(\"enter number2\"))\n",
    "modulus=num1%num2\n",
    "print(modulus)"
   ]
  },
  {
   "cell_type": "markdown",
   "id": "880a9a60",
   "metadata": {},
   "source": [
    "### exponent"
   ]
  },
  {
   "cell_type": "code",
   "execution_count": 6,
   "id": "769f92d7",
   "metadata": {},
   "outputs": [
    {
     "name": "stdout",
     "output_type": "stream",
     "text": [
      "enter the number5\n",
      "25\n"
     ]
    }
   ],
   "source": [
    "num1=int(input(\"enter the number\"))\n",
    "expo=num1**2\n",
    "print(expo)"
   ]
  },
  {
   "cell_type": "markdown",
   "id": "f3ba559c",
   "metadata": {},
   "source": [
    "### program to swap two numbers"
   ]
  },
  {
   "cell_type": "code",
   "execution_count": 1,
   "id": "6bd93e31",
   "metadata": {},
   "outputs": [
    {
     "name": "stdout",
     "output_type": "stream",
     "text": [
      "enter number10\n",
      "enter number5\n",
      "5 10\n"
     ]
    }
   ],
   "source": [
    "x=int(input(\"enter number\"))\n",
    "y=int(input(\"enter number\"))\n",
    "temp=x\n",
    "x=y\n",
    "y=temp\n",
    "print(x,y)"
   ]
  },
  {
   "cell_type": "markdown",
   "id": "ee7a0f44",
   "metadata": {},
   "source": [
    "### swap 2 number without using 3rd variable"
   ]
  },
  {
   "cell_type": "code",
   "execution_count": 2,
   "id": "62be5fbb",
   "metadata": {},
   "outputs": [
    {
     "name": "stdout",
     "output_type": "stream",
     "text": [
      "enter number10\n",
      "enter second number5\n",
      "5 10\n"
     ]
    }
   ],
   "source": [
    "x=int(input(\"enter number\"))\n",
    "y=int(input(\"enter second number\"))\n",
    "x=x+y\n",
    "y=x-y\n",
    "x=x-y\n",
    "print(x,y)\n"
   ]
  },
  {
   "cell_type": "markdown",
   "id": "238238c1",
   "metadata": {},
   "source": [
    "### program to find simple interest"
   ]
  },
  {
   "cell_type": "code",
   "execution_count": 1,
   "id": "b84074e2",
   "metadata": {},
   "outputs": [
    {
     "name": "stdout",
     "output_type": "stream",
     "text": [
      "enter the number56\n",
      "enter the number12\n",
      "enter number40\n",
      "268.8\n"
     ]
    }
   ],
   "source": [
    "p=int(input(\"enter the number\"))\n",
    "r=int(input(\"enter the number\"))\n",
    "t=int(input(\"enter number\"))\n",
    "simple=(p*r*t)/100\n",
    "print(simple)"
   ]
  },
  {
   "cell_type": "markdown",
   "id": "6c8f1122",
   "metadata": {},
   "source": [
    "### average of 5 number with user input"
   ]
  },
  {
   "cell_type": "code",
   "execution_count": 3,
   "id": "5f9b053d",
   "metadata": {},
   "outputs": [
    {
     "name": "stdout",
     "output_type": "stream",
     "text": [
      "enter first number1\n",
      "enter second number2\n",
      "enter third number3\n",
      "enter fourth number4\n",
      "enter fifth number5\n",
      "3.0\n"
     ]
    }
   ],
   "source": [
    "num1=int(input(\"enter first number\"))\n",
    "num2=int(input(\"enter second number\"))\n",
    "num3=int(input(\"enter third number\"))\n",
    "num4=int(input(\"enter fourth number\"))\n",
    "num5=int(input(\"enter fifth number\"))\n",
    "sum=num1+num2+num3+num4+num5\n",
    "average=sum/5\n",
    "print(average)"
   ]
  },
  {
   "cell_type": "markdown",
   "id": "7d6a4040",
   "metadata": {},
   "source": [
    "### area of rectangle"
   ]
  },
  {
   "cell_type": "code",
   "execution_count": 1,
   "id": "192b8725",
   "metadata": {},
   "outputs": [
    {
     "name": "stdout",
     "output_type": "stream",
     "text": [
      "enter length4\n",
      "enter the width2\n",
      "area of rectangle is 8\n"
     ]
    }
   ],
   "source": [
    "lenth=int(input(\"enter length\"))\n",
    "width=int(input(\"enter the width\"))\n",
    "area=lenth*width\n",
    "print(\"area of rectangle is\",area)"
   ]
  },
  {
   "cell_type": "markdown",
   "id": "abbe7924",
   "metadata": {},
   "source": [
    "### area of square"
   ]
  },
  {
   "cell_type": "code",
   "execution_count": 2,
   "id": "a1655cd3",
   "metadata": {},
   "outputs": [
    {
     "name": "stdout",
     "output_type": "stream",
     "text": [
      "enter the side3\n",
      "area of square is 9\n"
     ]
    }
   ],
   "source": [
    "side=int(input(\"enter the side\"))\n",
    "area=side*side\n",
    "print('area of square is',area)"
   ]
  },
  {
   "cell_type": "markdown",
   "id": "07594634",
   "metadata": {},
   "source": [
    "### area of triangle"
   ]
  },
  {
   "cell_type": "code",
   "execution_count": 2,
   "id": "f0692d03",
   "metadata": {},
   "outputs": [
    {
     "name": "stdout",
     "output_type": "stream",
     "text": [
      "enter the base3\n",
      "enter the height2\n",
      "3.0\n"
     ]
    }
   ],
   "source": [
    "base=int(input(\"enter the base\"))\n",
    "height=int(input(\"enter the height\"))\n",
    "area=(base*height)/2\n",
    "print(area)"
   ]
  },
  {
   "cell_type": "markdown",
   "id": "c6982215",
   "metadata": {},
   "source": [
    "### area of circle"
   ]
  },
  {
   "cell_type": "code",
   "execution_count": 9,
   "id": "33d1a6fc",
   "metadata": {},
   "outputs": [
    {
     "name": "stdout",
     "output_type": "stream",
     "text": [
      "enter the radius5\n",
      "area of circle is 78.5\n"
     ]
    }
   ],
   "source": [
    "radius=int(input(\"enter the radius\"))\n",
    "area=3.14*radius*radius\n",
    "print(\"area of circle is\",area)"
   ]
  },
  {
   "cell_type": "markdown",
   "id": "f632f5ae",
   "metadata": {},
   "source": [
    "#### write pgm to calculate the net salary of an employee whose base salary send by user DA is 5%HRA is 7% of base sary and pf are 3% of basic salary"
   ]
  },
  {
   "cell_type": "code",
   "execution_count": 5,
   "id": "c43d8808",
   "metadata": {},
   "outputs": [
    {
     "name": "stdout",
     "output_type": "stream",
     "text": [
      "enter salary4500\n",
      "675.0\n"
     ]
    }
   ],
   "source": [
    "basesalary=int(input(\"enter salary\"))\n",
    "da=basesalary*0.05\n",
    "hra=basesalary*0.07\n",
    "pf=basesalary*0.03\n",
    "netsalary=da+hra+pf\n",
    "print(netsalary)"
   ]
  },
  {
   "cell_type": "markdown",
   "id": "c063003f",
   "metadata": {},
   "source": [
    "### progrm to find power of a number"
   ]
  },
  {
   "cell_type": "code",
   "execution_count": 10,
   "id": "32266627",
   "metadata": {},
   "outputs": [
    {
     "name": "stdout",
     "output_type": "stream",
     "text": [
      "enter number5\n",
      "25\n"
     ]
    }
   ],
   "source": [
    "num=int(input(\"enter number\"))\n",
    "power=num**2\n",
    "print(power)"
   ]
  },
  {
   "cell_type": "markdown",
   "id": "77fab06e",
   "metadata": {},
   "source": [
    "### program to get the python version you are using"
   ]
  },
  {
   "cell_type": "code",
   "execution_count": 12,
   "id": "4befdf78",
   "metadata": {},
   "outputs": [
    {
     "name": "stdout",
     "output_type": "stream",
     "text": [
      "3.9.12\n"
     ]
    }
   ],
   "source": [
    "from platform import python_version\n",
    "print(python_version())"
   ]
  },
  {
   "cell_type": "code",
   "execution_count": null,
   "id": "3904004f",
   "metadata": {},
   "outputs": [],
   "source": []
  }
 ],
 "metadata": {
  "kernelspec": {
   "display_name": "Python 3 (ipykernel)",
   "language": "python",
   "name": "python3"
  },
  "language_info": {
   "codemirror_mode": {
    "name": "ipython",
    "version": 3
   },
   "file_extension": ".py",
   "mimetype": "text/x-python",
   "name": "python",
   "nbconvert_exporter": "python",
   "pygments_lexer": "ipython3",
   "version": "3.9.12"
  }
 },
 "nbformat": 4,
 "nbformat_minor": 5
}
