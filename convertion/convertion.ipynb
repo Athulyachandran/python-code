{
 "cells": [
  {
   "cell_type": "markdown",
   "id": "c148dac6",
   "metadata": {},
   "source": [
    "#### decimal to binary"
   ]
  },
  {
   "cell_type": "code",
   "execution_count": 1,
   "id": "ba9c25e5",
   "metadata": {},
   "outputs": [
    {
     "name": "stdout",
     "output_type": "stream",
     "text": [
      "0b111\n",
      "<class 'str'>\n"
     ]
    }
   ],
   "source": [
    "a=7\n",
    "b=bin(a)\n",
    "print(b)\n",
    "print(type(b))"
   ]
  },
  {
   "cell_type": "markdown",
   "id": "72c537d4",
   "metadata": {},
   "source": [
    "### decimal to octal"
   ]
  },
  {
   "cell_type": "code",
   "execution_count": 2,
   "id": "aed25492",
   "metadata": {},
   "outputs": [
    {
     "name": "stdout",
     "output_type": "stream",
     "text": [
      "0o11\n",
      "<class 'str'>\n"
     ]
    }
   ],
   "source": [
    "a=9\n",
    "b=oct(a)\n",
    "print(b)\n",
    "print(type(b))"
   ]
  },
  {
   "cell_type": "markdown",
   "id": "fe3059fd",
   "metadata": {},
   "source": [
    "### decimal to hexa"
   ]
  },
  {
   "cell_type": "code",
   "execution_count": 3,
   "id": "18f97eee",
   "metadata": {},
   "outputs": [
    {
     "name": "stdout",
     "output_type": "stream",
     "text": [
      "0x9\n",
      "<class 'str'>\n"
     ]
    }
   ],
   "source": [
    "a=9\n",
    "b=hex(a)\n",
    "print(b)\n",
    "print(type(b))"
   ]
  },
  {
   "cell_type": "markdown",
   "id": "393490cc",
   "metadata": {},
   "source": [
    "### binary to octal hexa and decimal"
   ]
  },
  {
   "cell_type": "code",
   "execution_count": 4,
   "id": "90da4e0e",
   "metadata": {},
   "outputs": [
    {
     "name": "stdout",
     "output_type": "stream",
     "text": [
      "0o11\n",
      "0x9\n",
      "0x9\n",
      "9\n"
     ]
    }
   ],
   "source": [
    "a=0b1001\n",
    "print(oct(a))\n",
    "print(hex(a))\n",
    "print(hex(a))\n",
    "print(int(a))"
   ]
  },
  {
   "cell_type": "markdown",
   "id": "26031feb",
   "metadata": {},
   "source": [
    "## comment"
   ]
  },
  {
   "cell_type": "code",
   "execution_count": null,
   "id": "f6997030",
   "metadata": {},
   "outputs": [],
   "source": [
    "#addition of two number showing single line comment\n",
    "a=12\n",
    "b=14\n",
    "c=a+b\n",
    "print(c)"
   ]
  },
  {
   "cell_type": "code",
   "execution_count": 6,
   "id": "6c56a06e",
   "metadata": {},
   "outputs": [
    {
     "name": "stdout",
     "output_type": "stream",
     "text": [
      "26\n"
     ]
    }
   ],
   "source": [
    "'''addition of two number multiline comment'''\n",
    "a=12\n",
    "b=14\n",
    "c=a+b\n",
    "print(c)"
   ]
  },
  {
   "cell_type": "markdown",
   "id": "d67da3d7",
   "metadata": {},
   "source": [
    "### type casting or type convertion"
   ]
  },
  {
   "cell_type": "code",
   "execution_count": null,
   "id": "cc62ec24",
   "metadata": {},
   "outputs": [],
   "source": [
    "x=5 #implicit data convertion\n",
    "y=6.5\n",
    "sum=x+y\n",
    "print(sum)\n",
    "print(type(sum))"
   ]
  },
  {
   "cell_type": "markdown",
   "id": "7c47ad38",
   "metadata": {},
   "source": [
    "### int()"
   ]
  },
  {
   "cell_type": "code",
   "execution_count": 8,
   "id": "e38a3776",
   "metadata": {},
   "outputs": [
    {
     "name": "stdout",
     "output_type": "stream",
     "text": [
      "<class 'int'>\n"
     ]
    }
   ],
   "source": [
    "a=17\n",
    "print(type(a))"
   ]
  },
  {
   "cell_type": "markdown",
   "id": "e9812f4b",
   "metadata": {},
   "source": [
    "### in to str"
   ]
  },
  {
   "cell_type": "code",
   "execution_count": 9,
   "id": "09834bbe",
   "metadata": {},
   "outputs": [
    {
     "name": "stdout",
     "output_type": "stream",
     "text": [
      "17\n",
      "<class 'str'>\n"
     ]
    }
   ],
   "source": [
    "a_str=str(a)\n",
    "print(a_str)\n",
    "print(type(a_str))"
   ]
  },
  {
   "cell_type": "markdown",
   "id": "e40ac1c0",
   "metadata": {},
   "source": [
    "### in to float"
   ]
  },
  {
   "cell_type": "code",
   "execution_count": 10,
   "id": "fef1ad12",
   "metadata": {},
   "outputs": [
    {
     "name": "stdout",
     "output_type": "stream",
     "text": [
      "17.0\n",
      "<class 'float'>\n"
     ]
    }
   ],
   "source": [
    "a_float=float(a)\n",
    "print(a_float)\n",
    "print(type(a_float))"
   ]
  },
  {
   "cell_type": "markdown",
   "id": "8f3f7191",
   "metadata": {},
   "source": [
    "#### in to bool"
   ]
  },
  {
   "cell_type": "code",
   "execution_count": 11,
   "id": "c544d50a",
   "metadata": {},
   "outputs": [
    {
     "data": {
      "text/plain": [
       "-7"
      ]
     },
     "execution_count": 11,
     "metadata": {},
     "output_type": "execute_result"
    }
   ],
   "source": [
    "b=-7\n",
    "b"
   ]
  },
  {
   "cell_type": "code",
   "execution_count": 12,
   "id": "2fd47a00",
   "metadata": {},
   "outputs": [
    {
     "name": "stdout",
     "output_type": "stream",
     "text": [
      "True\n",
      "<class 'bool'>\n"
     ]
    }
   ],
   "source": [
    "a_bool=bool(b)\n",
    "print(a_bool)\n",
    "print(type(a_bool))"
   ]
  },
  {
   "cell_type": "code",
   "execution_count": 14,
   "id": "38b9d697",
   "metadata": {},
   "outputs": [
    {
     "data": {
      "text/plain": [
       "0"
      ]
     },
     "execution_count": 14,
     "metadata": {},
     "output_type": "execute_result"
    }
   ],
   "source": [
    "a=0\n",
    "a"
   ]
  },
  {
   "cell_type": "code",
   "execution_count": 16,
   "id": "703ae274",
   "metadata": {},
   "outputs": [
    {
     "name": "stdout",
     "output_type": "stream",
     "text": [
      "False\n",
      "<class 'bool'>\n"
     ]
    }
   ],
   "source": [
    "a_bool=bool(a)\n",
    "print(a_bool)\n",
    "print(type(a_bool))"
   ]
  },
  {
   "cell_type": "code",
   "execution_count": 17,
   "id": "c50ff2ac",
   "metadata": {},
   "outputs": [
    {
     "data": {
      "text/plain": [
       "7"
      ]
     },
     "execution_count": 17,
     "metadata": {},
     "output_type": "execute_result"
    }
   ],
   "source": [
    "b=7\n",
    "b"
   ]
  },
  {
   "cell_type": "code",
   "execution_count": 18,
   "id": "151f02f3",
   "metadata": {},
   "outputs": [
    {
     "name": "stdout",
     "output_type": "stream",
     "text": [
      "True\n",
      "<class 'bool'>\n"
     ]
    }
   ],
   "source": [
    "a_bool=bool(b)\n",
    "print(a_bool)\n",
    "print(type(a_bool))"
   ]
  },
  {
   "cell_type": "markdown",
   "id": "ad00b33f",
   "metadata": {},
   "source": [
    "### int to complex"
   ]
  },
  {
   "cell_type": "code",
   "execution_count": 19,
   "id": "225de8dd",
   "metadata": {},
   "outputs": [
    {
     "data": {
      "text/plain": [
       "17"
      ]
     },
     "execution_count": 19,
     "metadata": {},
     "output_type": "execute_result"
    }
   ],
   "source": [
    "a=17\n",
    "a"
   ]
  },
  {
   "cell_type": "code",
   "execution_count": 20,
   "id": "ffd5ac1c",
   "metadata": {},
   "outputs": [
    {
     "name": "stdout",
     "output_type": "stream",
     "text": [
      "(17+0j)\n",
      "<class 'complex'>\n"
     ]
    }
   ],
   "source": [
    "a_complex=complex(a)\n",
    "print(a_complex)\n",
    "print(type(a_complex))"
   ]
  },
  {
   "cell_type": "markdown",
   "id": "0e6ca4a2",
   "metadata": {},
   "source": [
    "## float"
   ]
  },
  {
   "cell_type": "code",
   "execution_count": 21,
   "id": "2e71e309",
   "metadata": {},
   "outputs": [
    {
     "data": {
      "text/plain": [
       "15.6"
      ]
     },
     "execution_count": 21,
     "metadata": {},
     "output_type": "execute_result"
    }
   ],
   "source": [
    "b=15.6\n",
    "b"
   ]
  },
  {
   "cell_type": "code",
   "execution_count": 22,
   "id": "22f164fc",
   "metadata": {},
   "outputs": [
    {
     "name": "stdout",
     "output_type": "stream",
     "text": [
      "15.6\n",
      "<class 'str'>\n"
     ]
    }
   ],
   "source": [
    "# float to str\n",
    "b_str=str(b)\n",
    "print(b_str)\n",
    "print(type(b_str))"
   ]
  },
  {
   "cell_type": "code",
   "execution_count": 24,
   "id": "ad621c16",
   "metadata": {},
   "outputs": [
    {
     "name": "stdout",
     "output_type": "stream",
     "text": [
      "True\n",
      "<class 'bool'>\n"
     ]
    }
   ],
   "source": [
    "# float to bool\n",
    "b_bool=bool(b)\n",
    "print(b_bool)\n",
    "print(type(b_bool))"
   ]
  },
  {
   "cell_type": "code",
   "execution_count": 25,
   "id": "ed545a98",
   "metadata": {},
   "outputs": [
    {
     "name": "stdout",
     "output_type": "stream",
     "text": [
      "(15.6+0j)\n",
      "<class 'complex'>\n"
     ]
    }
   ],
   "source": [
    "#float to complex\n",
    "b_complex=complex(b)\n",
    "print(b_complex)\n",
    "print(type(b_complex))"
   ]
  },
  {
   "cell_type": "code",
   "execution_count": 26,
   "id": "781cf90f",
   "metadata": {},
   "outputs": [
    {
     "name": "stdout",
     "output_type": "stream",
     "text": [
      "15\n",
      "<class 'int'>\n"
     ]
    }
   ],
   "source": [
    "#float to int\n",
    "b_int=int(b)\n",
    "print(b_int)\n",
    "print(type(b_int))"
   ]
  },
  {
   "cell_type": "markdown",
   "id": "50a084bd",
   "metadata": {},
   "source": [
    "## str()"
   ]
  },
  {
   "cell_type": "code",
   "execution_count": null,
   "id": "8d848bda",
   "metadata": {},
   "outputs": [],
   "source": [
    "### string can be convert in to bool only"
   ]
  },
  {
   "cell_type": "code",
   "execution_count": 27,
   "id": "ef376fe0",
   "metadata": {},
   "outputs": [
    {
     "name": "stdout",
     "output_type": "stream",
     "text": [
      "<class 'str'>\n"
     ]
    }
   ],
   "source": [
    "c=\"athulya\"\n",
    "print(type(c))"
   ]
  },
  {
   "cell_type": "code",
   "execution_count": 28,
   "id": "ac9595d4",
   "metadata": {},
   "outputs": [
    {
     "ename": "ValueError",
     "evalue": "invalid literal for int() with base 10: 'athulya'",
     "output_type": "error",
     "traceback": [
      "\u001b[1;31m---------------------------------------------------------------------------\u001b[0m",
      "\u001b[1;31mValueError\u001b[0m                                Traceback (most recent call last)",
      "Input \u001b[1;32mIn [28]\u001b[0m, in \u001b[0;36m<cell line: 2>\u001b[1;34m()\u001b[0m\n\u001b[0;32m      1\u001b[0m \u001b[38;5;66;03m# str to int\u001b[39;00m\n\u001b[1;32m----> 2\u001b[0m c1\u001b[38;5;241m=\u001b[39m\u001b[38;5;28;43mint\u001b[39;49m\u001b[43m(\u001b[49m\u001b[43mc\u001b[49m\u001b[43m)\u001b[49m\n\u001b[0;32m      3\u001b[0m \u001b[38;5;28mprint\u001b[39m(c1)\n\u001b[0;32m      4\u001b[0m \u001b[38;5;28mprint\u001b[39m(\u001b[38;5;28mtype\u001b[39m(c1))\n",
      "\u001b[1;31mValueError\u001b[0m: invalid literal for int() with base 10: 'athulya'"
     ]
    }
   ],
   "source": [
    "# str to int\n",
    "c1=int(c)\n",
    "print(c1)\n",
    "print(type(c1))## str cant convert in to int"
   ]
  },
  {
   "cell_type": "code",
   "execution_count": 29,
   "id": "868d3af5",
   "metadata": {},
   "outputs": [
    {
     "name": "stdout",
     "output_type": "stream",
     "text": [
      "True\n",
      "<class 'bool'>\n"
     ]
    }
   ],
   "source": [
    "# str to bool\n",
    "c2=bool(c)\n",
    "print(c2)\n",
    "print(type(c2))"
   ]
  },
  {
   "cell_type": "markdown",
   "id": "67e7b2c1",
   "metadata": {},
   "source": [
    "## bool()"
   ]
  },
  {
   "cell_type": "code",
   "execution_count": 31,
   "id": "69e19525",
   "metadata": {},
   "outputs": [
    {
     "data": {
      "text/plain": [
       "bool"
      ]
     },
     "execution_count": 31,
     "metadata": {},
     "output_type": "execute_result"
    }
   ],
   "source": [
    "d=True\n",
    "type(d)"
   ]
  },
  {
   "cell_type": "code",
   "execution_count": 32,
   "id": "e6481c14",
   "metadata": {},
   "outputs": [
    {
     "name": "stdout",
     "output_type": "stream",
     "text": [
      "<class 'str'>\n",
      "True\n"
     ]
    }
   ],
   "source": [
    "d1=str(d)\n",
    "print(type(d1))\n",
    "print(d1)"
   ]
  },
  {
   "cell_type": "code",
   "execution_count": 33,
   "id": "c43116d2",
   "metadata": {},
   "outputs": [
    {
     "name": "stdout",
     "output_type": "stream",
     "text": [
      "(1+0j)\n"
     ]
    }
   ],
   "source": [
    "d2=complex(d)\n",
    "type(d2)\n",
    "print(d2)"
   ]
  },
  {
   "cell_type": "code",
   "execution_count": 35,
   "id": "4f764a17",
   "metadata": {},
   "outputs": [
    {
     "name": "stdout",
     "output_type": "stream",
     "text": [
      "<class 'int'>\n"
     ]
    },
    {
     "data": {
      "text/plain": [
       "1"
      ]
     },
     "execution_count": 35,
     "metadata": {},
     "output_type": "execute_result"
    }
   ],
   "source": [
    "d3=int(d)\n",
    "print(type(d3))\n",
    "d3"
   ]
  },
  {
   "cell_type": "code",
   "execution_count": 36,
   "id": "bf178294",
   "metadata": {},
   "outputs": [
    {
     "name": "stdout",
     "output_type": "stream",
     "text": [
      "<class 'float'>\n"
     ]
    },
    {
     "data": {
      "text/plain": [
       "1.0"
      ]
     },
     "execution_count": 36,
     "metadata": {},
     "output_type": "execute_result"
    }
   ],
   "source": [
    "d4=float(d)\n",
    "print(type(d4))\n",
    "d4"
   ]
  },
  {
   "cell_type": "code",
   "execution_count": 37,
   "id": "adbc95b9",
   "metadata": {},
   "outputs": [
    {
     "data": {
      "text/plain": [
       "bool"
      ]
     },
     "execution_count": 37,
     "metadata": {},
     "output_type": "execute_result"
    }
   ],
   "source": [
    "d=False\n",
    "type(d)"
   ]
  },
  {
   "cell_type": "code",
   "execution_count": 38,
   "id": "5573372a",
   "metadata": {},
   "outputs": [
    {
     "data": {
      "text/plain": [
       "0.0"
      ]
     },
     "execution_count": 38,
     "metadata": {},
     "output_type": "execute_result"
    }
   ],
   "source": [
    "d4=float(d)\n",
    "type(d4)\n",
    "d4"
   ]
  },
  {
   "cell_type": "markdown",
   "id": "d3f95b80",
   "metadata": {},
   "source": [
    "## complex"
   ]
  },
  {
   "cell_type": "code",
   "execution_count": null,
   "id": "e55e41be",
   "metadata": {},
   "outputs": [],
   "source": [
    "## cant convert to int and float"
   ]
  },
  {
   "cell_type": "code",
   "execution_count": 39,
   "id": "6e3cb5c2",
   "metadata": {},
   "outputs": [
    {
     "data": {
      "text/plain": [
       "complex"
      ]
     },
     "execution_count": 39,
     "metadata": {},
     "output_type": "execute_result"
    }
   ],
   "source": [
    "e=2+3j\n",
    "type(e)"
   ]
  },
  {
   "cell_type": "code",
   "execution_count": 40,
   "id": "c1c49604",
   "metadata": {},
   "outputs": [
    {
     "data": {
      "text/plain": [
       "'(2+3j)'"
      ]
     },
     "execution_count": 40,
     "metadata": {},
     "output_type": "execute_result"
    }
   ],
   "source": [
    "e1=str(e)\n",
    "type(e1)\n",
    "e1"
   ]
  },
  {
   "cell_type": "code",
   "execution_count": 41,
   "id": "e05f071f",
   "metadata": {},
   "outputs": [
    {
     "ename": "TypeError",
     "evalue": "can't convert complex to int",
     "output_type": "error",
     "traceback": [
      "\u001b[1;31m---------------------------------------------------------------------------\u001b[0m",
      "\u001b[1;31mTypeError\u001b[0m                                 Traceback (most recent call last)",
      "Input \u001b[1;32mIn [41]\u001b[0m, in \u001b[0;36m<cell line: 1>\u001b[1;34m()\u001b[0m\n\u001b[1;32m----> 1\u001b[0m e2\u001b[38;5;241m=\u001b[39m\u001b[38;5;28;43mint\u001b[39;49m\u001b[43m(\u001b[49m\u001b[43me\u001b[49m\u001b[43m)\u001b[49m\n\u001b[0;32m      2\u001b[0m \u001b[38;5;28mtype\u001b[39m(e2)\n\u001b[0;32m      3\u001b[0m e2\n",
      "\u001b[1;31mTypeError\u001b[0m: can't convert complex to int"
     ]
    }
   ],
   "source": [
    "e2=int(e)##cant convert to int\n",
    "type(e2)\n",
    "e2"
   ]
  },
  {
   "cell_type": "code",
   "execution_count": 42,
   "id": "765ec4ca",
   "metadata": {},
   "outputs": [
    {
     "ename": "TypeError",
     "evalue": "can't convert complex to float",
     "output_type": "error",
     "traceback": [
      "\u001b[1;31m---------------------------------------------------------------------------\u001b[0m",
      "\u001b[1;31mTypeError\u001b[0m                                 Traceback (most recent call last)",
      "Input \u001b[1;32mIn [42]\u001b[0m, in \u001b[0;36m<cell line: 1>\u001b[1;34m()\u001b[0m\n\u001b[1;32m----> 1\u001b[0m e3\u001b[38;5;241m=\u001b[39m\u001b[38;5;28;43mfloat\u001b[39;49m\u001b[43m(\u001b[49m\u001b[43me\u001b[49m\u001b[43m)\u001b[49m\n\u001b[0;32m      2\u001b[0m \u001b[38;5;28mtype\u001b[39m(e3)\n\u001b[0;32m      3\u001b[0m e3\n",
      "\u001b[1;31mTypeError\u001b[0m: can't convert complex to float"
     ]
    }
   ],
   "source": [
    "e3=float(e)\n",
    "type(e3)\n",
    "e3"
   ]
  },
  {
   "cell_type": "code",
   "execution_count": 43,
   "id": "a1f71847",
   "metadata": {},
   "outputs": [
    {
     "name": "stdout",
     "output_type": "stream",
     "text": [
      "<class 'bool'>\n"
     ]
    },
    {
     "data": {
      "text/plain": [
       "True"
      ]
     },
     "execution_count": 43,
     "metadata": {},
     "output_type": "execute_result"
    }
   ],
   "source": [
    "e4=bool(e)\n",
    "print(type(e4))\n",
    "e4"
   ]
  },
  {
   "cell_type": "markdown",
   "id": "8841451a",
   "metadata": {},
   "source": [
    "## ord()"
   ]
  },
  {
   "cell_type": "markdown",
   "id": "2409a69a",
   "metadata": {},
   "source": [
    "### ord() convert every charector to its integr acording to ascii"
   ]
  },
  {
   "cell_type": "code",
   "execution_count": 44,
   "id": "e8a088ac",
   "metadata": {},
   "outputs": [
    {
     "data": {
      "text/plain": [
       "120"
      ]
     },
     "execution_count": 44,
     "metadata": {},
     "output_type": "execute_result"
    }
   ],
   "source": [
    "ord(\"x\")"
   ]
  },
  {
   "cell_type": "code",
   "execution_count": 45,
   "id": "c5ffb4ff",
   "metadata": {},
   "outputs": [
    {
     "data": {
      "text/plain": [
       "97"
      ]
     },
     "execution_count": 45,
     "metadata": {},
     "output_type": "execute_result"
    }
   ],
   "source": [
    "ord('a')"
   ]
  },
  {
   "cell_type": "code",
   "execution_count": 46,
   "id": "22a9a13e",
   "metadata": {},
   "outputs": [
    {
     "data": {
      "text/plain": [
       "65"
      ]
     },
     "execution_count": 46,
     "metadata": {},
     "output_type": "execute_result"
    }
   ],
   "source": [
    "ord(\"A\")"
   ]
  },
  {
   "cell_type": "markdown",
   "id": "f4ac8d9c",
   "metadata": {},
   "source": [
    "### dict()"
   ]
  },
  {
   "cell_type": "code",
   "execution_count": 49,
   "id": "75e4b3cf",
   "metadata": {},
   "outputs": [
    {
     "data": {
      "text/plain": [
       "(('a', 3), ('f', 4), ('t', 9))"
      ]
     },
     "execution_count": 49,
     "metadata": {},
     "output_type": "execute_result"
    }
   ],
   "source": [
    "x=(('a',3),('f',4),('t',9))\n",
    "x"
   ]
  },
  {
   "cell_type": "code",
   "execution_count": 50,
   "id": "13a30848",
   "metadata": {},
   "outputs": [
    {
     "data": {
      "text/plain": [
       "tuple"
      ]
     },
     "execution_count": 50,
     "metadata": {},
     "output_type": "execute_result"
    }
   ],
   "source": [
    "type(x)"
   ]
  },
  {
   "cell_type": "code",
   "execution_count": 51,
   "id": "45f3b88e",
   "metadata": {},
   "outputs": [
    {
     "data": {
      "text/plain": [
       "{'a': 3, 'f': 4, 't': 9}"
      ]
     },
     "execution_count": 51,
     "metadata": {},
     "output_type": "execute_result"
    }
   ],
   "source": [
    "y=dict(x)\n",
    "y"
   ]
  },
  {
   "cell_type": "markdown",
   "id": "1c681946",
   "metadata": {},
   "source": [
    "## convert string into list tuple and set"
   ]
  },
  {
   "cell_type": "code",
   "execution_count": 52,
   "id": "8faa27c5",
   "metadata": {},
   "outputs": [
    {
     "data": {
      "text/plain": [
       "str"
      ]
     },
     "execution_count": 52,
     "metadata": {},
     "output_type": "execute_result"
    }
   ],
   "source": [
    "s=\"python is languague\"\n",
    "type(s)"
   ]
  },
  {
   "cell_type": "code",
   "execution_count": 54,
   "id": "42fd4f2c",
   "metadata": {},
   "outputs": [
    {
     "name": "stdout",
     "output_type": "stream",
     "text": [
      "<class 'list'>\n"
     ]
    },
    {
     "data": {
      "text/plain": [
       "['p',\n",
       " 'y',\n",
       " 't',\n",
       " 'h',\n",
       " 'o',\n",
       " 'n',\n",
       " ' ',\n",
       " 'i',\n",
       " 's',\n",
       " ' ',\n",
       " 'l',\n",
       " 'a',\n",
       " 'n',\n",
       " 'g',\n",
       " 'u',\n",
       " 'a',\n",
       " 'g',\n",
       " 'u',\n",
       " 'e']"
      ]
     },
     "execution_count": 54,
     "metadata": {},
     "output_type": "execute_result"
    }
   ],
   "source": [
    "s1=list(s)\n",
    "print(type(s1))\n",
    "s1"
   ]
  },
  {
   "cell_type": "code",
   "execution_count": 55,
   "id": "18b6c458",
   "metadata": {},
   "outputs": [
    {
     "name": "stdout",
     "output_type": "stream",
     "text": [
      "<class 'tuple'>\n"
     ]
    },
    {
     "data": {
      "text/plain": [
       "('p',\n",
       " 'y',\n",
       " 't',\n",
       " 'h',\n",
       " 'o',\n",
       " 'n',\n",
       " ' ',\n",
       " 'i',\n",
       " 's',\n",
       " ' ',\n",
       " 'l',\n",
       " 'a',\n",
       " 'n',\n",
       " 'g',\n",
       " 'u',\n",
       " 'a',\n",
       " 'g',\n",
       " 'u',\n",
       " 'e')"
      ]
     },
     "execution_count": 55,
     "metadata": {},
     "output_type": "execute_result"
    }
   ],
   "source": [
    "s2=tuple(s)\n",
    "print(type(s2))\n",
    "s2"
   ]
  },
  {
   "cell_type": "code",
   "execution_count": 56,
   "id": "6abca8cf",
   "metadata": {},
   "outputs": [
    {
     "name": "stdout",
     "output_type": "stream",
     "text": [
      "<class 'set'>\n"
     ]
    },
    {
     "data": {
      "text/plain": [
       "{' ', 'a', 'e', 'g', 'h', 'i', 'l', 'n', 'o', 'p', 's', 't', 'u', 'y'}"
      ]
     },
     "execution_count": 56,
     "metadata": {},
     "output_type": "execute_result"
    }
   ],
   "source": [
    "s3=set(s)\n",
    "print(type(s3))\n",
    "s3"
   ]
  },
  {
   "cell_type": "code",
   "execution_count": 1,
   "id": "3fc56829",
   "metadata": {},
   "outputs": [
    {
     "data": {
      "text/plain": [
       "1707430335952"
      ]
     },
     "execution_count": 1,
     "metadata": {},
     "output_type": "execute_result"
    }
   ],
   "source": [
    "x=100\n",
    "id(x)"
   ]
  },
  {
   "cell_type": "code",
   "execution_count": 2,
   "id": "0b7a55a2",
   "metadata": {},
   "outputs": [
    {
     "data": {
      "text/plain": [
       "1707430336592"
      ]
     },
     "execution_count": 2,
     "metadata": {},
     "output_type": "execute_result"
    }
   ],
   "source": [
    "y=120\n",
    "id(y)"
   ]
  },
  {
   "cell_type": "code",
   "execution_count": 3,
   "id": "127467bd",
   "metadata": {},
   "outputs": [
    {
     "data": {
      "text/plain": [
       "1707430335952"
      ]
     },
     "execution_count": 3,
     "metadata": {},
     "output_type": "execute_result"
    }
   ],
   "source": [
    "z=100\n",
    "id(z)"
   ]
  },
  {
   "cell_type": "code",
   "execution_count": 4,
   "id": "22fa920d",
   "metadata": {},
   "outputs": [
    {
     "data": {
      "text/plain": [
       "False"
      ]
     },
     "execution_count": 4,
     "metadata": {},
     "output_type": "execute_result"
    }
   ],
   "source": [
    "x is y"
   ]
  },
  {
   "cell_type": "code",
   "execution_count": 5,
   "id": "7f3b7e8f",
   "metadata": {},
   "outputs": [
    {
     "data": {
      "text/plain": [
       "True"
      ]
     },
     "execution_count": 5,
     "metadata": {},
     "output_type": "execute_result"
    }
   ],
   "source": [
    "x is not y"
   ]
  },
  {
   "cell_type": "code",
   "execution_count": 6,
   "id": "7816fc04",
   "metadata": {},
   "outputs": [
    {
     "data": {
      "text/plain": [
       "True"
      ]
     },
     "execution_count": 6,
     "metadata": {},
     "output_type": "execute_result"
    }
   ],
   "source": [
    "x is z"
   ]
  },
  {
   "cell_type": "code",
   "execution_count": null,
   "id": "b598fb1e",
   "metadata": {},
   "outputs": [],
   "source": []
  }
 ],
 "metadata": {
  "kernelspec": {
   "display_name": "Python 3 (ipykernel)",
   "language": "python",
   "name": "python3"
  },
  "language_info": {
   "codemirror_mode": {
    "name": "ipython",
    "version": 3
   },
   "file_extension": ".py",
   "mimetype": "text/x-python",
   "name": "python",
   "nbconvert_exporter": "python",
   "pygments_lexer": "ipython3",
   "version": "3.9.12"
  }
 },
 "nbformat": 4,
 "nbformat_minor": 5
}
