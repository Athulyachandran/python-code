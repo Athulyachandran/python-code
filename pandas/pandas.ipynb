{
 "cells": [
  {
   "cell_type": "markdown",
   "id": "c09e6a83",
   "metadata": {},
   "source": [
    "#### import libraries"
   ]
  },
  {
   "cell_type": "code",
   "execution_count": 2,
   "id": "3ea9cfd0",
   "metadata": {},
   "outputs": [],
   "source": [
    "import pandas as pd\n",
    "import numpy as np\n",
    "import warnings ##some warning will come it will ignore the warning\n",
    "warnings.filterwarnings(\"ignore\")"
   ]
  },
  {
   "cell_type": "markdown",
   "id": "21b0f35d",
   "metadata": {},
   "source": [
    "#### check pandas version"
   ]
  },
  {
   "cell_type": "code",
   "execution_count": 3,
   "id": "8f74dfa4",
   "metadata": {},
   "outputs": [
    {
     "name": "stdout",
     "output_type": "stream",
     "text": [
      "1.4.2\n"
     ]
    }
   ],
   "source": [
    "print(pd.__version__) ##use to find version of pandas"
   ]
  },
  {
   "cell_type": "markdown",
   "id": "d7a2bc10",
   "metadata": {},
   "source": [
    "### series"
   ]
  },
  {
   "cell_type": "markdown",
   "id": "02feb80f",
   "metadata": {},
   "source": [
    "#### create empty series"
   ]
  },
  {
   "cell_type": "code",
   "execution_count": 5,
   "id": "074fbf16",
   "metadata": {},
   "outputs": [
    {
     "data": {
      "text/plain": [
       "Series([], dtype: float64)"
      ]
     },
     "execution_count": 5,
     "metadata": {},
     "output_type": "execute_result"
    }
   ],
   "source": [
    "a=pd.Series()\n",
    "a"
   ]
  },
  {
   "cell_type": "markdown",
   "id": "8d42450b",
   "metadata": {},
   "source": [
    "### create series from numpy array"
   ]
  },
  {
   "cell_type": "code",
   "execution_count": 6,
   "id": "4a4f81ca",
   "metadata": {},
   "outputs": [
    {
     "data": {
      "text/plain": [
       "0    11\n",
       "1    12\n",
       "2    13\n",
       "3     4\n",
       "4     5\n",
       "5    61\n",
       "6    71\n",
       "dtype: int32"
      ]
     },
     "execution_count": 6,
     "metadata": {},
     "output_type": "execute_result"
    }
   ],
   "source": [
    "a=np.array([11,12,13,4,5,61,71])\n",
    "v=pd.Series(a)\n",
    "v"
   ]
  },
  {
   "cell_type": "code",
   "execution_count": 7,
   "id": "480b7d48",
   "metadata": {},
   "outputs": [
    {
     "data": {
      "text/plain": [
       "array([11, 12, 13,  4,  5, 61, 71])"
      ]
     },
     "execution_count": 7,
     "metadata": {},
     "output_type": "execute_result"
    }
   ],
   "source": [
    "a"
   ]
  },
  {
   "cell_type": "code",
   "execution_count": 8,
   "id": "ed1fdb0d",
   "metadata": {},
   "outputs": [
    {
     "data": {
      "text/plain": [
       "numpy.ndarray"
      ]
     },
     "execution_count": 8,
     "metadata": {},
     "output_type": "execute_result"
    }
   ],
   "source": [
    "type(a)"
   ]
  },
  {
   "cell_type": "code",
   "execution_count": 9,
   "id": "6aae37da",
   "metadata": {},
   "outputs": [
    {
     "data": {
      "text/plain": [
       "pandas.core.series.Series"
      ]
     },
     "execution_count": 9,
     "metadata": {},
     "output_type": "execute_result"
    }
   ],
   "source": [
    "type(v)"
   ]
  },
  {
   "cell_type": "markdown",
   "id": "2d0390a3",
   "metadata": {},
   "source": [
    "#### create series from list"
   ]
  },
  {
   "cell_type": "code",
   "execution_count": 10,
   "id": "3ea9039b",
   "metadata": {},
   "outputs": [
    {
     "data": {
      "text/plain": [
       "a    1\n",
       "b    2\n",
       "c    3\n",
       "dtype: int64"
      ]
     },
     "execution_count": 10,
     "metadata": {},
     "output_type": "execute_result"
    }
   ],
   "source": [
    "s=pd.Series([1,2,3],index=[\"a\",\"b\",\"c\"])\n",
    "s"
   ]
  },
  {
   "cell_type": "markdown",
   "id": "01900864",
   "metadata": {},
   "source": [
    "#### modifying index"
   ]
  },
  {
   "cell_type": "code",
   "execution_count": 13,
   "id": "31cf4644",
   "metadata": {},
   "outputs": [
    {
     "data": {
      "text/plain": [
       "0    11\n",
       "1    12\n",
       "2    13\n",
       "3     4\n",
       "4     5\n",
       "5    61\n",
       "6    71\n",
       "dtype: int32"
      ]
     },
     "execution_count": 13,
     "metadata": {},
     "output_type": "execute_result"
    }
   ],
   "source": [
    "v"
   ]
  },
  {
   "cell_type": "code",
   "execution_count": 16,
   "id": "ce542526",
   "metadata": {},
   "outputs": [
    {
     "data": {
      "text/plain": [
       "a    11\n",
       "b    12\n",
       "c    13\n",
       "d     4\n",
       "e     5\n",
       "f    61\n",
       "g    71\n",
       "dtype: int32"
      ]
     },
     "execution_count": 16,
     "metadata": {},
     "output_type": "execute_result"
    }
   ],
   "source": [
    "v.index=['a','b','c','d','e','f','g']\n",
    "v"
   ]
  },
  {
   "cell_type": "markdown",
   "id": "04c7df3b",
   "metadata": {},
   "source": [
    "#### create series using random and range function"
   ]
  },
  {
   "cell_type": "code",
   "execution_count": 12,
   "id": "74d7b727",
   "metadata": {},
   "outputs": [
    {
     "data": {
      "text/plain": [
       "array([0.97091202, 0.6886388 , 0.87820918, 0.4399958 , 0.27396056,\n",
       "       0.46775804, 0.05606697, 0.90470429, 0.04103583, 0.93619079,\n",
       "       0.52756212, 0.87638449])"
      ]
     },
     "execution_count": 12,
     "metadata": {},
     "output_type": "execute_result"
    }
   ],
   "source": [
    "v1=np.random.random(12) ##randamly printing 12 number\n",
    "v1"
   ]
  },
  {
   "cell_type": "code",
   "execution_count": 20,
   "id": "1110c54d",
   "metadata": {},
   "outputs": [
    {
     "data": {
      "text/plain": [
       "array([ 2,  3,  4,  5,  6,  7,  8,  9, 10, 11, 12, 13])"
      ]
     },
     "execution_count": 20,
     "metadata": {},
     "output_type": "execute_result"
    }
   ],
   "source": [
    "v2=np.arange(2,14)\n",
    "v2"
   ]
  },
  {
   "cell_type": "code",
   "execution_count": 22,
   "id": "5e291ad9",
   "metadata": {},
   "outputs": [
    {
     "data": {
      "text/plain": [
       "2     0.970912\n",
       "3     0.688639\n",
       "4     0.878209\n",
       "5     0.439996\n",
       "6     0.273961\n",
       "7     0.467758\n",
       "8     0.056067\n",
       "9     0.904704\n",
       "10    0.041036\n",
       "11    0.936191\n",
       "12    0.527562\n",
       "13    0.876384\n",
       "dtype: float64"
      ]
     },
     "execution_count": 22,
     "metadata": {},
     "output_type": "execute_result"
    }
   ],
   "source": [
    "s1=pd.Series(v1,v2)\n",
    "s1"
   ]
  },
  {
   "cell_type": "code",
   "execution_count": 23,
   "id": "af09bc57",
   "metadata": {},
   "outputs": [
    {
     "data": {
      "text/plain": [
       "a    10\n",
       "b    20\n",
       "c    30\n",
       "d    40\n",
       "dtype: int64"
      ]
     },
     "execution_count": 23,
     "metadata": {},
     "output_type": "execute_result"
    }
   ],
   "source": [
    "d={'a':10,'b':20,'c':30,'d':40}\n",
    "s1=pd.Series(d) ##first one is index other is value\n",
    "s1"
   ]
  },
  {
   "cell_type": "markdown",
   "id": "f005f213",
   "metadata": {},
   "source": [
    "### create series from scalar means only from one data"
   ]
  },
  {
   "cell_type": "code",
   "execution_count": 24,
   "id": "6d2c732f",
   "metadata": {},
   "outputs": [
    {
     "data": {
      "text/plain": [
       "10    34\n",
       "11    34\n",
       "12    34\n",
       "13    34\n",
       "dtype: int64"
      ]
     },
     "execution_count": 24,
     "metadata": {},
     "output_type": "execute_result"
    }
   ],
   "source": [
    "pd.Series(34,index=[10,11,12,13])"
   ]
  },
  {
   "cell_type": "code",
   "execution_count": 25,
   "id": "aad4a98e",
   "metadata": {},
   "outputs": [
    {
     "data": {
      "text/plain": [
       "0    45\n",
       "dtype: int64"
      ]
     },
     "execution_count": 25,
     "metadata": {},
     "output_type": "execute_result"
    }
   ],
   "source": [
    "pd.Series(45)"
   ]
  },
  {
   "cell_type": "code",
   "execution_count": 2,
   "id": "45a0964c",
   "metadata": {},
   "outputs": [],
   "source": [
    "import pandas as pd\n",
    "import numpy as np\n",
    "import warnings ##some warning will come it will ignore the warning\n",
    "warnings.filterwarnings(\"ignore\")"
   ]
  },
  {
   "cell_type": "markdown",
   "id": "4dd3105d",
   "metadata": {},
   "source": [
    "### series object attribute"
   ]
  },
  {
   "cell_type": "code",
   "execution_count": 4,
   "id": "c90bbcf2",
   "metadata": {},
   "outputs": [
    {
     "data": {
      "text/plain": [
       "a    10\n",
       "b    22\n",
       "c    31\n",
       "d    42\n",
       "e    55\n",
       "f    36\n",
       "g    47\n",
       "dtype: int32"
      ]
     },
     "execution_count": 4,
     "metadata": {},
     "output_type": "execute_result"
    }
   ],
   "source": [
    "a=np.array([10,22,31,42,55,36,47])\n",
    "v=pd.Series(a,index=[\"a\",\"b\",\"c\",\"d\",\"e\",\"f\",\"g\"])\n",
    "v"
   ]
  },
  {
   "cell_type": "markdown",
   "id": "32c8e9c9",
   "metadata": {},
   "source": [
    "#### data type of series"
   ]
  },
  {
   "cell_type": "markdown",
   "id": "13f1c6f4",
   "metadata": {},
   "source": [
    "##### return the data type of series"
   ]
  },
  {
   "cell_type": "code",
   "execution_count": 5,
   "id": "7eb0c409",
   "metadata": {},
   "outputs": [
    {
     "data": {
      "text/plain": [
       "dtype('int32')"
      ]
     },
     "execution_count": 5,
     "metadata": {},
     "output_type": "execute_result"
    }
   ],
   "source": [
    "v.dtype"
   ]
  },
  {
   "cell_type": "code",
   "execution_count": 9,
   "id": "e15e166f",
   "metadata": {},
   "outputs": [
    {
     "data": {
      "text/plain": [
       "Index(['a', 'b', 'c', 'd', 'e', 'f', 'g'], dtype='object')"
      ]
     },
     "execution_count": 9,
     "metadata": {},
     "output_type": "execute_result"
    }
   ],
   "source": [
    "v.index"
   ]
  },
  {
   "cell_type": "markdown",
   "id": "42aef086",
   "metadata": {},
   "source": [
    "### shape"
   ]
  },
  {
   "cell_type": "code",
   "execution_count": 11,
   "id": "094fa981",
   "metadata": {},
   "outputs": [
    {
     "data": {
      "text/plain": [
       "(7,)"
      ]
     },
     "execution_count": 11,
     "metadata": {},
     "output_type": "execute_result"
    }
   ],
   "source": [
    "v.shape"
   ]
  },
  {
   "cell_type": "markdown",
   "id": "628082aa",
   "metadata": {},
   "source": [
    "### size of series"
   ]
  },
  {
   "cell_type": "code",
   "execution_count": 6,
   "id": "e2987430",
   "metadata": {},
   "outputs": [
    {
     "data": {
      "text/plain": [
       "7"
      ]
     },
     "execution_count": 6,
     "metadata": {},
     "output_type": "execute_result"
    }
   ],
   "source": [
    "v.size"
   ]
  },
  {
   "cell_type": "markdown",
   "id": "9a74fe20",
   "metadata": {},
   "source": [
    "#### number of dimension"
   ]
  },
  {
   "cell_type": "code",
   "execution_count": 7,
   "id": "1379feb4",
   "metadata": {},
   "outputs": [
    {
     "data": {
      "text/plain": [
       "1"
      ]
     },
     "execution_count": 7,
     "metadata": {},
     "output_type": "execute_result"
    }
   ],
   "source": [
    "v.ndim ## it is one dimention "
   ]
  },
  {
   "cell_type": "markdown",
   "id": "1bb0220a",
   "metadata": {},
   "source": [
    "### number of bytes"
   ]
  },
  {
   "cell_type": "code",
   "execution_count": 10,
   "id": "9fe396ca",
   "metadata": {},
   "outputs": [
    {
     "data": {
      "text/plain": [
       "28"
      ]
     },
     "execution_count": 10,
     "metadata": {},
     "output_type": "execute_result"
    }
   ],
   "source": [
    "v.nbytes ### number of element with 4(i elemnt is 4 bytes)"
   ]
  },
  {
   "cell_type": "markdown",
   "id": "bd10891d",
   "metadata": {},
   "source": [
    "### checking whether null is present or not"
   ]
  },
  {
   "cell_type": "code",
   "execution_count": 12,
   "id": "f207f86a",
   "metadata": {},
   "outputs": [
    {
     "data": {
      "text/plain": [
       "False"
      ]
     },
     "execution_count": 12,
     "metadata": {},
     "output_type": "execute_result"
    }
   ],
   "source": [
    "v.empty"
   ]
  },
  {
   "cell_type": "markdown",
   "id": "169b37a3",
   "metadata": {},
   "source": [
    "#### to print series values"
   ]
  },
  {
   "cell_type": "code",
   "execution_count": 13,
   "id": "580986e7",
   "metadata": {},
   "outputs": [
    {
     "data": {
      "text/plain": [
       "array([10, 22, 31, 42, 55, 36, 47])"
      ]
     },
     "execution_count": 13,
     "metadata": {},
     "output_type": "execute_result"
    }
   ],
   "source": [
    "v.values"
   ]
  },
  {
   "cell_type": "markdown",
   "id": "3b3dd7af",
   "metadata": {},
   "source": [
    "### series function"
   ]
  },
  {
   "cell_type": "markdown",
   "id": "b238a91c",
   "metadata": {},
   "source": [
    "#### value_counts()"
   ]
  },
  {
   "cell_type": "code",
   "execution_count": 14,
   "id": "8bf024a2",
   "metadata": {},
   "outputs": [
    {
     "data": {
      "text/plain": [
       "0    1\n",
       "1    2\n",
       "2    1\n",
       "3    3\n",
       "4    3\n",
       "5    4\n",
       "6    2\n",
       "7    5\n",
       "dtype: int64"
      ]
     },
     "execution_count": 14,
     "metadata": {},
     "output_type": "execute_result"
    }
   ],
   "source": [
    "s=pd.Series([1,2,1,3,3,4,2,5]) ### it will print value according to index value\n",
    "s"
   ]
  },
  {
   "cell_type": "code",
   "execution_count": 15,
   "id": "bb426e76",
   "metadata": {},
   "outputs": [
    {
     "data": {
      "text/plain": [
       "1    2\n",
       "2    2\n",
       "3    2\n",
       "4    1\n",
       "5    1\n",
       "dtype: int64"
      ]
     },
     "execution_count": 15,
     "metadata": {},
     "output_type": "execute_result"
    }
   ],
   "source": [
    "s.value_counts() ### how many time each value is repeating"
   ]
  },
  {
   "cell_type": "markdown",
   "id": "26ee14b5",
   "metadata": {},
   "source": [
    "### append series"
   ]
  },
  {
   "cell_type": "code",
   "execution_count": 16,
   "id": "1955832c",
   "metadata": {},
   "outputs": [
    {
     "data": {
      "text/plain": [
       "a    10\n",
       "b    20\n",
       "c    30\n",
       "d    40\n",
       "dtype: int64"
      ]
     },
     "execution_count": 16,
     "metadata": {},
     "output_type": "execute_result"
    }
   ],
   "source": [
    "d={\"a\":10,\"b\":20,\"c\":30,\"d\":40}\n",
    "s1=pd.Series(d)\n",
    "s1"
   ]
  },
  {
   "cell_type": "code",
   "execution_count": 17,
   "id": "c467175e",
   "metadata": {},
   "outputs": [
    {
     "data": {
      "text/plain": [
       "a    10\n",
       "b    20\n",
       "c    30\n",
       "d    40\n",
       "dtype: int64"
      ]
     },
     "execution_count": 17,
     "metadata": {},
     "output_type": "execute_result"
    }
   ],
   "source": [
    "s1"
   ]
  },
  {
   "cell_type": "code",
   "execution_count": 19,
   "id": "78bb9267",
   "metadata": {},
   "outputs": [
    {
     "data": {
      "text/plain": [
       "a    10\n",
       "b    20\n",
       "c    30\n",
       "d    40\n",
       "dtype: int64"
      ]
     },
     "execution_count": 19,
     "metadata": {},
     "output_type": "execute_result"
    }
   ],
   "source": [
    "s2=s1.copy() ## copy the content of one series to other but id is different\n",
    "s2"
   ]
  },
  {
   "cell_type": "code",
   "execution_count": 20,
   "id": "0e35545a",
   "metadata": {},
   "outputs": [
    {
     "data": {
      "text/plain": [
       "e    50\n",
       "f    60\n",
       "g    70\n",
       "h    80\n",
       "dtype: int64"
      ]
     },
     "execution_count": 20,
     "metadata": {},
     "output_type": "execute_result"
    }
   ],
   "source": [
    "d={\"e\":50,\"f\":60,\"g\":70,\"h\":80}\n",
    "s3=pd.Series(d)\n",
    "s3"
   ]
  },
  {
   "cell_type": "code",
   "execution_count": 21,
   "id": "7c82cb97",
   "metadata": {},
   "outputs": [
    {
     "data": {
      "text/plain": [
       "a    10\n",
       "b    20\n",
       "c    30\n",
       "d    40\n",
       "e    50\n",
       "f    60\n",
       "g    70\n",
       "h    80\n",
       "dtype: int64"
      ]
     },
     "execution_count": 21,
     "metadata": {},
     "output_type": "execute_result"
    }
   ],
   "source": [
    "s4=s2.append(s3)\n",
    "s4"
   ]
  },
  {
   "cell_type": "markdown",
   "id": "3f39e95c",
   "metadata": {},
   "source": [
    "### operation on series"
   ]
  },
  {
   "cell_type": "markdown",
   "id": "c299593c",
   "metadata": {},
   "source": [
    "#### addition"
   ]
  },
  {
   "cell_type": "code",
   "execution_count": 22,
   "id": "a0a143f4",
   "metadata": {},
   "outputs": [
    {
     "data": {
      "text/plain": [
       "a    10\n",
       "b    20\n",
       "c    30\n",
       "d    40\n",
       "dtype: int64"
      ]
     },
     "execution_count": 22,
     "metadata": {},
     "output_type": "execute_result"
    }
   ],
   "source": [
    "s1\n"
   ]
  },
  {
   "cell_type": "code",
   "execution_count": 23,
   "id": "59e7ecca",
   "metadata": {},
   "outputs": [
    {
     "data": {
      "text/plain": [
       "a    10\n",
       "b    20\n",
       "c    30\n",
       "d    40\n",
       "dtype: int64"
      ]
     },
     "execution_count": 23,
     "metadata": {},
     "output_type": "execute_result"
    }
   ],
   "source": [
    "s2"
   ]
  },
  {
   "cell_type": "code",
   "execution_count": 24,
   "id": "349ad9d8",
   "metadata": {},
   "outputs": [
    {
     "data": {
      "text/plain": [
       "a    20\n",
       "b    40\n",
       "c    60\n",
       "d    80\n",
       "dtype: int64"
      ]
     },
     "execution_count": 24,
     "metadata": {},
     "output_type": "execute_result"
    }
   ],
   "source": [
    "s1.add(s2)"
   ]
  },
  {
   "cell_type": "markdown",
   "id": "538d8a0b",
   "metadata": {},
   "source": [
    "### creating series and perform operation"
   ]
  },
  {
   "cell_type": "code",
   "execution_count": 27,
   "id": "4fe14aee",
   "metadata": {},
   "outputs": [
    {
     "data": {
      "text/plain": [
       "(0    10\n",
       " 1    20\n",
       " 2    30\n",
       " 3    40\n",
       " dtype: int32,\n",
       " 0    1\n",
       " 1    2\n",
       " 2    3\n",
       " 3    4\n",
       " dtype: int32)"
      ]
     },
     "execution_count": 27,
     "metadata": {},
     "output_type": "execute_result"
    }
   ],
   "source": [
    "x=np.array([10,20,30,40])\n",
    "y=np.array([1,2,3,4])\n",
    "s1=pd.Series(x)\n",
    "s2=pd.Series(y)\n",
    "s1,s2"
   ]
  },
  {
   "cell_type": "markdown",
   "id": "e6ce06ac",
   "metadata": {},
   "source": [
    "### add"
   ]
  },
  {
   "cell_type": "code",
   "execution_count": 28,
   "id": "7bae6e80",
   "metadata": {},
   "outputs": [],
   "source": [
    "### addition of two series\n",
    "s1=s1.add(s2)"
   ]
  },
  {
   "cell_type": "code",
   "execution_count": 29,
   "id": "ca02787b",
   "metadata": {},
   "outputs": [
    {
     "data": {
      "text/plain": [
       "0    11\n",
       "1    22\n",
       "2    33\n",
       "3    44\n",
       "dtype: int32"
      ]
     },
     "execution_count": 29,
     "metadata": {},
     "output_type": "execute_result"
    }
   ],
   "source": [
    "s1"
   ]
  },
  {
   "cell_type": "markdown",
   "id": "ffe833b1",
   "metadata": {},
   "source": [
    "### subtraction"
   ]
  },
  {
   "cell_type": "code",
   "execution_count": 30,
   "id": "6240e4b6",
   "metadata": {},
   "outputs": [
    {
     "data": {
      "text/plain": [
       "0    10\n",
       "1    20\n",
       "2    30\n",
       "3    40\n",
       "dtype: int32"
      ]
     },
     "execution_count": 30,
     "metadata": {},
     "output_type": "execute_result"
    }
   ],
   "source": [
    "### subtraction of 2 series\n",
    "s1.subtract(s2)"
   ]
  },
  {
   "cell_type": "code",
   "execution_count": 32,
   "id": "8de4631b",
   "metadata": {},
   "outputs": [
    {
     "data": {
      "text/plain": [
       "0    10\n",
       "1    20\n",
       "2    30\n",
       "3    40\n",
       "dtype: int32"
      ]
     },
     "execution_count": 32,
     "metadata": {},
     "output_type": "execute_result"
    }
   ],
   "source": [
    "s1.sub(s2) ## sub also we can use for subtraction "
   ]
  },
  {
   "cell_type": "markdown",
   "id": "e6ea745a",
   "metadata": {},
   "source": [
    "### multiplication"
   ]
  },
  {
   "cell_type": "code",
   "execution_count": 31,
   "id": "a1eb03c3",
   "metadata": {},
   "outputs": [
    {
     "data": {
      "text/plain": [
       "0     11\n",
       "1     44\n",
       "2     99\n",
       "3    176\n",
       "dtype: int32"
      ]
     },
     "execution_count": 31,
     "metadata": {},
     "output_type": "execute_result"
    }
   ],
   "source": [
    "## multiplication of 2 series\n",
    "s1.mul(s2)"
   ]
  },
  {
   "cell_type": "markdown",
   "id": "e38af345",
   "metadata": {},
   "source": [
    "### division"
   ]
  },
  {
   "cell_type": "code",
   "execution_count": 33,
   "id": "9b924ada",
   "metadata": {},
   "outputs": [
    {
     "data": {
      "text/plain": [
       "0    11.0\n",
       "1    11.0\n",
       "2    11.0\n",
       "3    11.0\n",
       "dtype: float64"
      ]
     },
     "execution_count": 33,
     "metadata": {},
     "output_type": "execute_result"
    }
   ],
   "source": [
    "### division of 2 series \n",
    "s1.divide(s2)"
   ]
  },
  {
   "cell_type": "code",
   "execution_count": 34,
   "id": "dfe3f03e",
   "metadata": {},
   "outputs": [
    {
     "data": {
      "text/plain": [
       "0    11.0\n",
       "1    11.0\n",
       "2    11.0\n",
       "3    11.0\n",
       "dtype: float64"
      ]
     },
     "execution_count": 34,
     "metadata": {},
     "output_type": "execute_result"
    }
   ],
   "source": [
    "### division of 2 series\n",
    "s1.div(s2)"
   ]
  },
  {
   "cell_type": "markdown",
   "id": "ebf43762",
   "metadata": {},
   "source": [
    "### maximum in series"
   ]
  },
  {
   "cell_type": "code",
   "execution_count": 35,
   "id": "a22d2ce2",
   "metadata": {},
   "outputs": [
    {
     "data": {
      "text/plain": [
       "44"
      ]
     },
     "execution_count": 35,
     "metadata": {},
     "output_type": "execute_result"
    }
   ],
   "source": [
    "### maximum number in a series\n",
    "s1.max()"
   ]
  },
  {
   "cell_type": "markdown",
   "id": "246f1137",
   "metadata": {},
   "source": [
    "### minimum in series"
   ]
  },
  {
   "cell_type": "code",
   "execution_count": 36,
   "id": "eb7e677d",
   "metadata": {},
   "outputs": [
    {
     "data": {
      "text/plain": [
       "11"
      ]
     },
     "execution_count": 36,
     "metadata": {},
     "output_type": "execute_result"
    }
   ],
   "source": [
    "s1.min()"
   ]
  },
  {
   "cell_type": "markdown",
   "id": "6b016dc9",
   "metadata": {},
   "source": [
    "### average of series"
   ]
  },
  {
   "cell_type": "code",
   "execution_count": 37,
   "id": "4ecf4bf0",
   "metadata": {},
   "outputs": [
    {
     "data": {
      "text/plain": [
       "27.5"
      ]
     },
     "execution_count": 37,
     "metadata": {},
     "output_type": "execute_result"
    }
   ],
   "source": [
    "### average\n",
    "s1.mean()"
   ]
  },
  {
   "cell_type": "markdown",
   "id": "1b1aa986",
   "metadata": {},
   "source": [
    "### median"
   ]
  },
  {
   "cell_type": "code",
   "execution_count": 38,
   "id": "024ee950",
   "metadata": {},
   "outputs": [
    {
     "data": {
      "text/plain": [
       "27.5"
      ]
     },
     "execution_count": 38,
     "metadata": {},
     "output_type": "execute_result"
    }
   ],
   "source": [
    "s1.median()"
   ]
  },
  {
   "cell_type": "markdown",
   "id": "f07c0c5c",
   "metadata": {},
   "source": [
    "### standard deviation"
   ]
  },
  {
   "cell_type": "code",
   "execution_count": 39,
   "id": "f0339afe",
   "metadata": {},
   "outputs": [
    {
     "data": {
      "text/plain": [
       "14.200938936093861"
      ]
     },
     "execution_count": 39,
     "metadata": {},
     "output_type": "execute_result"
    }
   ],
   "source": [
    "s1.std()"
   ]
  },
  {
   "cell_type": "markdown",
   "id": "3721ac0f",
   "metadata": {},
   "source": [
    "### adding a value in each elemnt in sries"
   ]
  },
  {
   "cell_type": "code",
   "execution_count": 40,
   "id": "2b719bb7",
   "metadata": {},
   "outputs": [
    {
     "data": {
      "text/plain": [
       "0    19\n",
       "1    30\n",
       "2    41\n",
       "3    52\n",
       "dtype: int32"
      ]
     },
     "execution_count": 40,
     "metadata": {},
     "output_type": "execute_result"
    }
   ],
   "source": [
    "s1.add(8) ### every elemnt will add value 8"
   ]
  },
  {
   "cell_type": "markdown",
   "id": "33782811",
   "metadata": {},
   "source": [
    "### series comparison"
   ]
  },
  {
   "cell_type": "code",
   "execution_count": 41,
   "id": "7c6be97d",
   "metadata": {},
   "outputs": [
    {
     "data": {
      "text/plain": [
       "0    11\n",
       "1    22\n",
       "2    33\n",
       "3    44\n",
       "dtype: int32"
      ]
     },
     "execution_count": 41,
     "metadata": {},
     "output_type": "execute_result"
    }
   ],
   "source": [
    "s1"
   ]
  },
  {
   "cell_type": "code",
   "execution_count": 42,
   "id": "b7964293",
   "metadata": {},
   "outputs": [
    {
     "data": {
      "text/plain": [
       "0    1\n",
       "1    2\n",
       "2    3\n",
       "3    4\n",
       "dtype: int32"
      ]
     },
     "execution_count": 42,
     "metadata": {},
     "output_type": "execute_result"
    }
   ],
   "source": [
    "s2"
   ]
  },
  {
   "cell_type": "code",
   "execution_count": 43,
   "id": "2bbd8832",
   "metadata": {},
   "outputs": [
    {
     "data": {
      "text/plain": [
       "False"
      ]
     },
     "execution_count": 43,
     "metadata": {},
     "output_type": "execute_result"
    }
   ],
   "source": [
    "s1.equals(s2)"
   ]
  },
  {
   "cell_type": "markdown",
   "id": "4514bf2b",
   "metadata": {},
   "source": [
    "### data frames"
   ]
  },
  {
   "cell_type": "code",
   "execution_count": null,
   "id": "c4c36021",
   "metadata": {},
   "outputs": [],
   "source": [
    "used in data structure of pandas and work with two dimentional array (colom and )\n",
    "std way to store data(ow index coloum index)"
   ]
  },
  {
   "cell_type": "markdown",
   "id": "203dc422",
   "metadata": {},
   "source": [
    "#### create an empty data frame"
   ]
  },
  {
   "cell_type": "code",
   "execution_count": 44,
   "id": "e5c7f18c",
   "metadata": {},
   "outputs": [
    {
     "name": "stdout",
     "output_type": "stream",
     "text": [
      "Empty DataFrame\n",
      "Columns: []\n",
      "Index: []\n"
     ]
    }
   ],
   "source": [
    "a=pd.DataFrame()\n",
    "print(a)"
   ]
  },
  {
   "cell_type": "markdown",
   "id": "342aa8ae",
   "metadata": {},
   "source": [
    "### create dataframe from list"
   ]
  },
  {
   "cell_type": "code",
   "execution_count": 46,
   "id": "85a004a2",
   "metadata": {},
   "outputs": [
    {
     "data": {
      "text/html": [
       "<div>\n",
       "<style scoped>\n",
       "    .dataframe tbody tr th:only-of-type {\n",
       "        vertical-align: middle;\n",
       "    }\n",
       "\n",
       "    .dataframe tbody tr th {\n",
       "        vertical-align: top;\n",
       "    }\n",
       "\n",
       "    .dataframe thead th {\n",
       "        text-align: right;\n",
       "    }\n",
       "</style>\n",
       "<table border=\"1\" class=\"dataframe\">\n",
       "  <thead>\n",
       "    <tr style=\"text-align: right;\">\n",
       "      <th></th>\n",
       "      <th>0</th>\n",
       "    </tr>\n",
       "  </thead>\n",
       "  <tbody>\n",
       "    <tr>\n",
       "      <th>0</th>\n",
       "      <td>divya</td>\n",
       "    </tr>\n",
       "    <tr>\n",
       "      <th>1</th>\n",
       "      <td>karan</td>\n",
       "    </tr>\n",
       "    <tr>\n",
       "      <th>2</th>\n",
       "      <td>jyothi</td>\n",
       "    </tr>\n",
       "    <tr>\n",
       "      <th>3</th>\n",
       "      <td>shika</td>\n",
       "    </tr>\n",
       "  </tbody>\n",
       "</table>\n",
       "</div>"
      ],
      "text/plain": [
       "        0\n",
       "0   divya\n",
       "1   karan\n",
       "2  jyothi\n",
       "3   shika"
      ]
     },
     "execution_count": 46,
     "metadata": {},
     "output_type": "execute_result"
    }
   ],
   "source": [
    "l=[\"divya\",\"karan\",\"jyothi\",\"shika\"]\n",
    "d=pd.DataFrame(l)\n",
    "d"
   ]
  },
  {
   "cell_type": "code",
   "execution_count": 47,
   "id": "efc249ce",
   "metadata": {},
   "outputs": [
    {
     "data": {
      "text/plain": [
       "pandas.core.frame.DataFrame"
      ]
     },
     "execution_count": 47,
     "metadata": {},
     "output_type": "execute_result"
    }
   ],
   "source": [
    "type(d)"
   ]
  },
  {
   "cell_type": "markdown",
   "id": "2e5f00fc",
   "metadata": {},
   "source": [
    "#### add column in the data frame"
   ]
  },
  {
   "cell_type": "code",
   "execution_count": 48,
   "id": "28432f75",
   "metadata": {},
   "outputs": [
    {
     "data": {
      "text/html": [
       "<div>\n",
       "<style scoped>\n",
       "    .dataframe tbody tr th:only-of-type {\n",
       "        vertical-align: middle;\n",
       "    }\n",
       "\n",
       "    .dataframe tbody tr th {\n",
       "        vertical-align: top;\n",
       "    }\n",
       "\n",
       "    .dataframe thead th {\n",
       "        text-align: right;\n",
       "    }\n",
       "</style>\n",
       "<table border=\"1\" class=\"dataframe\">\n",
       "  <thead>\n",
       "    <tr style=\"text-align: right;\">\n",
       "      <th></th>\n",
       "      <th>0</th>\n",
       "      <th>1</th>\n",
       "    </tr>\n",
       "  </thead>\n",
       "  <tbody>\n",
       "    <tr>\n",
       "      <th>0</th>\n",
       "      <td>divya</td>\n",
       "      <td>67</td>\n",
       "    </tr>\n",
       "    <tr>\n",
       "      <th>1</th>\n",
       "      <td>karan</td>\n",
       "      <td>54</td>\n",
       "    </tr>\n",
       "    <tr>\n",
       "      <th>2</th>\n",
       "      <td>jyothi</td>\n",
       "      <td>89</td>\n",
       "    </tr>\n",
       "    <tr>\n",
       "      <th>3</th>\n",
       "      <td>shika</td>\n",
       "      <td>96</td>\n",
       "    </tr>\n",
       "  </tbody>\n",
       "</table>\n",
       "</div>"
      ],
      "text/plain": [
       "        0   1\n",
       "0   divya  67\n",
       "1   karan  54\n",
       "2  jyothi  89\n",
       "3   shika  96"
      ]
     },
     "execution_count": 48,
     "metadata": {},
     "output_type": "execute_result"
    }
   ],
   "source": [
    "marks=[67,54,89,96]\n",
    "d[1]=marks ### we defined mark in 1 so 1th postion mark will present\n",
    "d"
   ]
  },
  {
   "cell_type": "markdown",
   "id": "6ca58aca",
   "metadata": {},
   "source": [
    "####  give name to column"
   ]
  },
  {
   "cell_type": "code",
   "execution_count": 50,
   "id": "ad84c1b7",
   "metadata": {},
   "outputs": [
    {
     "data": {
      "text/html": [
       "<div>\n",
       "<style scoped>\n",
       "    .dataframe tbody tr th:only-of-type {\n",
       "        vertical-align: middle;\n",
       "    }\n",
       "\n",
       "    .dataframe tbody tr th {\n",
       "        vertical-align: top;\n",
       "    }\n",
       "\n",
       "    .dataframe thead th {\n",
       "        text-align: right;\n",
       "    }\n",
       "</style>\n",
       "<table border=\"1\" class=\"dataframe\">\n",
       "  <thead>\n",
       "    <tr style=\"text-align: right;\">\n",
       "      <th></th>\n",
       "      <th>Name</th>\n",
       "      <th>Marks</th>\n",
       "    </tr>\n",
       "  </thead>\n",
       "  <tbody>\n",
       "    <tr>\n",
       "      <th>0</th>\n",
       "      <td>divya</td>\n",
       "      <td>67</td>\n",
       "    </tr>\n",
       "    <tr>\n",
       "      <th>1</th>\n",
       "      <td>karan</td>\n",
       "      <td>54</td>\n",
       "    </tr>\n",
       "    <tr>\n",
       "      <th>2</th>\n",
       "      <td>jyothi</td>\n",
       "      <td>89</td>\n",
       "    </tr>\n",
       "    <tr>\n",
       "      <th>3</th>\n",
       "      <td>shika</td>\n",
       "      <td>96</td>\n",
       "    </tr>\n",
       "  </tbody>\n",
       "</table>\n",
       "</div>"
      ],
      "text/plain": [
       "     Name  Marks\n",
       "0   divya     67\n",
       "1   karan     54\n",
       "2  jyothi     89\n",
       "3   shika     96"
      ]
     },
     "execution_count": 50,
     "metadata": {},
     "output_type": "execute_result"
    }
   ],
   "source": [
    "d.columns=[\"Name\",\"Marks\"] ### name and marks will printt to output\n",
    "d"
   ]
  },
  {
   "cell_type": "markdown",
   "id": "1413d0bb",
   "metadata": {},
   "source": [
    "### create dataframe from dictionary"
   ]
  },
  {
   "cell_type": "code",
   "execution_count": 1,
   "id": "7af841eb",
   "metadata": {},
   "outputs": [],
   "source": [
    "import pandas as pd\n",
    "import numpy as np\n",
    "import warnings ##some warning will come it will ignore the warning\n",
    "warnings.filterwarnings(\"ignore\")"
   ]
  },
  {
   "cell_type": "code",
   "execution_count": 2,
   "id": "473cf493",
   "metadata": {},
   "outputs": [
    {
     "data": {
      "text/plain": [
       "array([[0.82690138, 0.9958184 , 0.82006534, 0.99441009, 0.57007929,\n",
       "        0.67228516, 0.97354098],\n",
       "       [0.84858474, 0.7583332 , 0.40098457, 0.39782882, 0.61169773,\n",
       "        0.52690595, 0.38564301],\n",
       "       [0.16394582, 0.12013811, 0.42526305, 0.34203417, 0.42806055,\n",
       "        0.58187271, 0.62879552],\n",
       "       [0.76417049, 0.99210854, 0.13771183, 0.00518423, 0.65069031,\n",
       "        0.86787944, 0.99810578],\n",
       "       [0.62506946, 0.24316365, 0.21395515, 0.93820123, 0.77794429,\n",
       "        0.46130357, 0.26841864],\n",
       "       [0.74541273, 0.52189627, 0.82300431, 0.74273137, 0.33957562,\n",
       "        0.36630881, 0.96700972],\n",
       "       [0.31761455, 0.08264048, 0.31451966, 0.04725603, 0.78149833,\n",
       "        0.46595652, 0.24610761]])"
      ]
     },
     "execution_count": 2,
     "metadata": {},
     "output_type": "execute_result"
    }
   ],
   "source": [
    "r=np.random.random((7,7))\n",
    "r"
   ]
  },
  {
   "cell_type": "code",
   "execution_count": 3,
   "id": "451cfe63",
   "metadata": {},
   "outputs": [
    {
     "data": {
      "text/html": [
       "<div>\n",
       "<style scoped>\n",
       "    .dataframe tbody tr th:only-of-type {\n",
       "        vertical-align: middle;\n",
       "    }\n",
       "\n",
       "    .dataframe tbody tr th {\n",
       "        vertical-align: top;\n",
       "    }\n",
       "\n",
       "    .dataframe thead th {\n",
       "        text-align: right;\n",
       "    }\n",
       "</style>\n",
       "<table border=\"1\" class=\"dataframe\">\n",
       "  <thead>\n",
       "    <tr style=\"text-align: right;\">\n",
       "      <th></th>\n",
       "      <th>0</th>\n",
       "      <th>1</th>\n",
       "      <th>2</th>\n",
       "      <th>3</th>\n",
       "      <th>4</th>\n",
       "      <th>5</th>\n",
       "      <th>6</th>\n",
       "    </tr>\n",
       "  </thead>\n",
       "  <tbody>\n",
       "    <tr>\n",
       "      <th>0</th>\n",
       "      <td>0.826901</td>\n",
       "      <td>0.995818</td>\n",
       "      <td>0.820065</td>\n",
       "      <td>0.994410</td>\n",
       "      <td>0.570079</td>\n",
       "      <td>0.672285</td>\n",
       "      <td>0.973541</td>\n",
       "    </tr>\n",
       "    <tr>\n",
       "      <th>1</th>\n",
       "      <td>0.848585</td>\n",
       "      <td>0.758333</td>\n",
       "      <td>0.400985</td>\n",
       "      <td>0.397829</td>\n",
       "      <td>0.611698</td>\n",
       "      <td>0.526906</td>\n",
       "      <td>0.385643</td>\n",
       "    </tr>\n",
       "    <tr>\n",
       "      <th>2</th>\n",
       "      <td>0.163946</td>\n",
       "      <td>0.120138</td>\n",
       "      <td>0.425263</td>\n",
       "      <td>0.342034</td>\n",
       "      <td>0.428061</td>\n",
       "      <td>0.581873</td>\n",
       "      <td>0.628796</td>\n",
       "    </tr>\n",
       "    <tr>\n",
       "      <th>3</th>\n",
       "      <td>0.764170</td>\n",
       "      <td>0.992109</td>\n",
       "      <td>0.137712</td>\n",
       "      <td>0.005184</td>\n",
       "      <td>0.650690</td>\n",
       "      <td>0.867879</td>\n",
       "      <td>0.998106</td>\n",
       "    </tr>\n",
       "    <tr>\n",
       "      <th>4</th>\n",
       "      <td>0.625069</td>\n",
       "      <td>0.243164</td>\n",
       "      <td>0.213955</td>\n",
       "      <td>0.938201</td>\n",
       "      <td>0.777944</td>\n",
       "      <td>0.461304</td>\n",
       "      <td>0.268419</td>\n",
       "    </tr>\n",
       "    <tr>\n",
       "      <th>5</th>\n",
       "      <td>0.745413</td>\n",
       "      <td>0.521896</td>\n",
       "      <td>0.823004</td>\n",
       "      <td>0.742731</td>\n",
       "      <td>0.339576</td>\n",
       "      <td>0.366309</td>\n",
       "      <td>0.967010</td>\n",
       "    </tr>\n",
       "    <tr>\n",
       "      <th>6</th>\n",
       "      <td>0.317615</td>\n",
       "      <td>0.082640</td>\n",
       "      <td>0.314520</td>\n",
       "      <td>0.047256</td>\n",
       "      <td>0.781498</td>\n",
       "      <td>0.465957</td>\n",
       "      <td>0.246108</td>\n",
       "    </tr>\n",
       "  </tbody>\n",
       "</table>\n",
       "</div>"
      ],
      "text/plain": [
       "          0         1         2         3         4         5         6\n",
       "0  0.826901  0.995818  0.820065  0.994410  0.570079  0.672285  0.973541\n",
       "1  0.848585  0.758333  0.400985  0.397829  0.611698  0.526906  0.385643\n",
       "2  0.163946  0.120138  0.425263  0.342034  0.428061  0.581873  0.628796\n",
       "3  0.764170  0.992109  0.137712  0.005184  0.650690  0.867879  0.998106\n",
       "4  0.625069  0.243164  0.213955  0.938201  0.777944  0.461304  0.268419\n",
       "5  0.745413  0.521896  0.823004  0.742731  0.339576  0.366309  0.967010\n",
       "6  0.317615  0.082640  0.314520  0.047256  0.781498  0.465957  0.246108"
      ]
     },
     "execution_count": 3,
     "metadata": {},
     "output_type": "execute_result"
    }
   ],
   "source": [
    "d2=pd.DataFrame(r)\n",
    "d2"
   ]
  },
  {
   "cell_type": "code",
   "execution_count": 5,
   "id": "711db28b",
   "metadata": {},
   "outputs": [
    {
     "data": {
      "text/plain": [
       "DatetimeIndex(['2022-08-01 18:46:56.306198', '2022-08-02 18:46:56.306198',\n",
       "               '2022-08-03 18:46:56.306198', '2022-08-04 18:46:56.306198',\n",
       "               '2022-08-05 18:46:56.306198', '2022-08-06 18:46:56.306198',\n",
       "               '2022-08-07 18:46:56.306198'],\n",
       "              dtype='datetime64[ns]', freq='D')"
      ]
     },
     "execution_count": 5,
     "metadata": {},
     "output_type": "execute_result"
    }
   ],
   "source": [
    "date1=pd.date_range(\"today\",periods=7) ### date_range used to get date range\n",
    "date1"
   ]
  },
  {
   "cell_type": "code",
   "execution_count": 6,
   "id": "8520843a",
   "metadata": {},
   "outputs": [
    {
     "data": {
      "text/plain": [
       "DatetimeIndex(['2021-01-20', '2021-01-21', '2021-01-22', '2021-01-23',\n",
       "               '2021-01-24', '2021-01-25', '2021-01-26', '2021-01-27',\n",
       "               '2021-01-28', '2021-01-29', '2021-01-30', '2021-01-31',\n",
       "               '2021-02-01', '2021-02-02', '2021-02-03', '2021-02-04',\n",
       "               '2021-02-05'],\n",
       "              dtype='datetime64[ns]', freq='D')"
      ]
     },
     "execution_count": 6,
     "metadata": {},
     "output_type": "execute_result"
    }
   ],
   "source": [
    "date2=pd.date_range(start=\"2021-01-20,\",end=\"2021-02-05\")\n",
    "date2"
   ]
  },
  {
   "cell_type": "code",
   "execution_count": 7,
   "id": "0d5df4af",
   "metadata": {},
   "outputs": [
    {
     "data": {
      "text/plain": [
       "DatetimeIndex(['2021-01-20', '2021-01-21', '2021-01-22', '2021-01-23',\n",
       "               '2021-01-24', '2021-01-25', '2021-01-26'],\n",
       "              dtype='datetime64[ns]', freq='D')"
      ]
     },
     "execution_count": 7,
     "metadata": {},
     "output_type": "execute_result"
    }
   ],
   "source": [
    "date3=pd.date_range(start=\"2021-01-20\",periods=7)\n",
    "date3"
   ]
  },
  {
   "cell_type": "code",
   "execution_count": 8,
   "id": "a9d52a5f",
   "metadata": {},
   "outputs": [
    {
     "data": {
      "text/html": [
       "<div>\n",
       "<style scoped>\n",
       "    .dataframe tbody tr th:only-of-type {\n",
       "        vertical-align: middle;\n",
       "    }\n",
       "\n",
       "    .dataframe tbody tr th {\n",
       "        vertical-align: top;\n",
       "    }\n",
       "\n",
       "    .dataframe thead th {\n",
       "        text-align: right;\n",
       "    }\n",
       "</style>\n",
       "<table border=\"1\" class=\"dataframe\">\n",
       "  <thead>\n",
       "    <tr style=\"text-align: right;\">\n",
       "      <th></th>\n",
       "      <th>0</th>\n",
       "      <th>1</th>\n",
       "      <th>2</th>\n",
       "      <th>3</th>\n",
       "      <th>4</th>\n",
       "      <th>5</th>\n",
       "      <th>6</th>\n",
       "    </tr>\n",
       "  </thead>\n",
       "  <tbody>\n",
       "    <tr>\n",
       "      <th>2021-01-20</th>\n",
       "      <td>0.826901</td>\n",
       "      <td>0.995818</td>\n",
       "      <td>0.820065</td>\n",
       "      <td>0.994410</td>\n",
       "      <td>0.570079</td>\n",
       "      <td>0.672285</td>\n",
       "      <td>0.973541</td>\n",
       "    </tr>\n",
       "    <tr>\n",
       "      <th>2021-01-21</th>\n",
       "      <td>0.848585</td>\n",
       "      <td>0.758333</td>\n",
       "      <td>0.400985</td>\n",
       "      <td>0.397829</td>\n",
       "      <td>0.611698</td>\n",
       "      <td>0.526906</td>\n",
       "      <td>0.385643</td>\n",
       "    </tr>\n",
       "    <tr>\n",
       "      <th>2021-01-22</th>\n",
       "      <td>0.163946</td>\n",
       "      <td>0.120138</td>\n",
       "      <td>0.425263</td>\n",
       "      <td>0.342034</td>\n",
       "      <td>0.428061</td>\n",
       "      <td>0.581873</td>\n",
       "      <td>0.628796</td>\n",
       "    </tr>\n",
       "    <tr>\n",
       "      <th>2021-01-23</th>\n",
       "      <td>0.764170</td>\n",
       "      <td>0.992109</td>\n",
       "      <td>0.137712</td>\n",
       "      <td>0.005184</td>\n",
       "      <td>0.650690</td>\n",
       "      <td>0.867879</td>\n",
       "      <td>0.998106</td>\n",
       "    </tr>\n",
       "    <tr>\n",
       "      <th>2021-01-24</th>\n",
       "      <td>0.625069</td>\n",
       "      <td>0.243164</td>\n",
       "      <td>0.213955</td>\n",
       "      <td>0.938201</td>\n",
       "      <td>0.777944</td>\n",
       "      <td>0.461304</td>\n",
       "      <td>0.268419</td>\n",
       "    </tr>\n",
       "    <tr>\n",
       "      <th>2021-01-25</th>\n",
       "      <td>0.745413</td>\n",
       "      <td>0.521896</td>\n",
       "      <td>0.823004</td>\n",
       "      <td>0.742731</td>\n",
       "      <td>0.339576</td>\n",
       "      <td>0.366309</td>\n",
       "      <td>0.967010</td>\n",
       "    </tr>\n",
       "    <tr>\n",
       "      <th>2021-01-26</th>\n",
       "      <td>0.317615</td>\n",
       "      <td>0.082640</td>\n",
       "      <td>0.314520</td>\n",
       "      <td>0.047256</td>\n",
       "      <td>0.781498</td>\n",
       "      <td>0.465957</td>\n",
       "      <td>0.246108</td>\n",
       "    </tr>\n",
       "  </tbody>\n",
       "</table>\n",
       "</div>"
      ],
      "text/plain": [
       "                   0         1         2         3         4         5  \\\n",
       "2021-01-20  0.826901  0.995818  0.820065  0.994410  0.570079  0.672285   \n",
       "2021-01-21  0.848585  0.758333  0.400985  0.397829  0.611698  0.526906   \n",
       "2021-01-22  0.163946  0.120138  0.425263  0.342034  0.428061  0.581873   \n",
       "2021-01-23  0.764170  0.992109  0.137712  0.005184  0.650690  0.867879   \n",
       "2021-01-24  0.625069  0.243164  0.213955  0.938201  0.777944  0.461304   \n",
       "2021-01-25  0.745413  0.521896  0.823004  0.742731  0.339576  0.366309   \n",
       "2021-01-26  0.317615  0.082640  0.314520  0.047256  0.781498  0.465957   \n",
       "\n",
       "                   6  \n",
       "2021-01-20  0.973541  \n",
       "2021-01-21  0.385643  \n",
       "2021-01-22  0.628796  \n",
       "2021-01-23  0.998106  \n",
       "2021-01-24  0.268419  \n",
       "2021-01-25  0.967010  \n",
       "2021-01-26  0.246108  "
      ]
     },
     "execution_count": 8,
     "metadata": {},
     "output_type": "execute_result"
    }
   ],
   "source": [
    "d2=pd.DataFrame(r,date3) ##r is random value here index we got as date3 values\n",
    "d2"
   ]
  },
  {
   "cell_type": "code",
   "execution_count": 9,
   "id": "8c91eba5",
   "metadata": {},
   "outputs": [
    {
     "data": {
      "text/html": [
       "<div>\n",
       "<style scoped>\n",
       "    .dataframe tbody tr th:only-of-type {\n",
       "        vertical-align: middle;\n",
       "    }\n",
       "\n",
       "    .dataframe tbody tr th {\n",
       "        vertical-align: top;\n",
       "    }\n",
       "\n",
       "    .dataframe thead th {\n",
       "        text-align: right;\n",
       "    }\n",
       "</style>\n",
       "<table border=\"1\" class=\"dataframe\">\n",
       "  <thead>\n",
       "    <tr style=\"text-align: right;\">\n",
       "      <th></th>\n",
       "      <th>A</th>\n",
       "      <th>B</th>\n",
       "      <th>C</th>\n",
       "      <th>D</th>\n",
       "      <th>E</th>\n",
       "      <th>F</th>\n",
       "      <th>G</th>\n",
       "    </tr>\n",
       "  </thead>\n",
       "  <tbody>\n",
       "    <tr>\n",
       "      <th>2021-01-20</th>\n",
       "      <td>0.826901</td>\n",
       "      <td>0.995818</td>\n",
       "      <td>0.820065</td>\n",
       "      <td>0.994410</td>\n",
       "      <td>0.570079</td>\n",
       "      <td>0.672285</td>\n",
       "      <td>0.973541</td>\n",
       "    </tr>\n",
       "    <tr>\n",
       "      <th>2021-01-21</th>\n",
       "      <td>0.848585</td>\n",
       "      <td>0.758333</td>\n",
       "      <td>0.400985</td>\n",
       "      <td>0.397829</td>\n",
       "      <td>0.611698</td>\n",
       "      <td>0.526906</td>\n",
       "      <td>0.385643</td>\n",
       "    </tr>\n",
       "    <tr>\n",
       "      <th>2021-01-22</th>\n",
       "      <td>0.163946</td>\n",
       "      <td>0.120138</td>\n",
       "      <td>0.425263</td>\n",
       "      <td>0.342034</td>\n",
       "      <td>0.428061</td>\n",
       "      <td>0.581873</td>\n",
       "      <td>0.628796</td>\n",
       "    </tr>\n",
       "    <tr>\n",
       "      <th>2021-01-23</th>\n",
       "      <td>0.764170</td>\n",
       "      <td>0.992109</td>\n",
       "      <td>0.137712</td>\n",
       "      <td>0.005184</td>\n",
       "      <td>0.650690</td>\n",
       "      <td>0.867879</td>\n",
       "      <td>0.998106</td>\n",
       "    </tr>\n",
       "    <tr>\n",
       "      <th>2021-01-24</th>\n",
       "      <td>0.625069</td>\n",
       "      <td>0.243164</td>\n",
       "      <td>0.213955</td>\n",
       "      <td>0.938201</td>\n",
       "      <td>0.777944</td>\n",
       "      <td>0.461304</td>\n",
       "      <td>0.268419</td>\n",
       "    </tr>\n",
       "    <tr>\n",
       "      <th>2021-01-25</th>\n",
       "      <td>0.745413</td>\n",
       "      <td>0.521896</td>\n",
       "      <td>0.823004</td>\n",
       "      <td>0.742731</td>\n",
       "      <td>0.339576</td>\n",
       "      <td>0.366309</td>\n",
       "      <td>0.967010</td>\n",
       "    </tr>\n",
       "    <tr>\n",
       "      <th>2021-01-26</th>\n",
       "      <td>0.317615</td>\n",
       "      <td>0.082640</td>\n",
       "      <td>0.314520</td>\n",
       "      <td>0.047256</td>\n",
       "      <td>0.781498</td>\n",
       "      <td>0.465957</td>\n",
       "      <td>0.246108</td>\n",
       "    </tr>\n",
       "  </tbody>\n",
       "</table>\n",
       "</div>"
      ],
      "text/plain": [
       "                   A         B         C         D         E         F  \\\n",
       "2021-01-20  0.826901  0.995818  0.820065  0.994410  0.570079  0.672285   \n",
       "2021-01-21  0.848585  0.758333  0.400985  0.397829  0.611698  0.526906   \n",
       "2021-01-22  0.163946  0.120138  0.425263  0.342034  0.428061  0.581873   \n",
       "2021-01-23  0.764170  0.992109  0.137712  0.005184  0.650690  0.867879   \n",
       "2021-01-24  0.625069  0.243164  0.213955  0.938201  0.777944  0.461304   \n",
       "2021-01-25  0.745413  0.521896  0.823004  0.742731  0.339576  0.366309   \n",
       "2021-01-26  0.317615  0.082640  0.314520  0.047256  0.781498  0.465957   \n",
       "\n",
       "                   G  \n",
       "2021-01-20  0.973541  \n",
       "2021-01-21  0.385643  \n",
       "2021-01-22  0.628796  \n",
       "2021-01-23  0.998106  \n",
       "2021-01-24  0.268419  \n",
       "2021-01-25  0.967010  \n",
       "2021-01-26  0.246108  "
      ]
     },
     "execution_count": 9,
     "metadata": {},
     "output_type": "execute_result"
    }
   ],
   "source": [
    "### changing column names\n",
    "d2.columns=[\"A\",\"B\",\"C\",\"D\",\"E\",\"F\",\"G\"]\n",
    "d2"
   ]
  },
  {
   "cell_type": "code",
   "execution_count": 10,
   "id": "736e51e7",
   "metadata": {},
   "outputs": [
    {
     "data": {
      "text/plain": [
       "DatetimeIndex(['2021-01-20', '2021-01-21', '2021-01-22', '2021-01-23',\n",
       "               '2021-01-24', '2021-01-25', '2021-01-26'],\n",
       "              dtype='datetime64[ns]', freq='D')"
      ]
     },
     "execution_count": 10,
     "metadata": {},
     "output_type": "execute_result"
    }
   ],
   "source": [
    "## list index\n",
    "d2.index"
   ]
  },
  {
   "cell_type": "code",
   "execution_count": 11,
   "id": "55a6d661",
   "metadata": {},
   "outputs": [
    {
     "data": {
      "text/plain": [
       "Index(['A', 'B', 'C', 'D', 'E', 'F', 'G'], dtype='object')"
      ]
     },
     "execution_count": 11,
     "metadata": {},
     "output_type": "execute_result"
    }
   ],
   "source": [
    "##list column names\n",
    "d2.columns"
   ]
  },
  {
   "cell_type": "code",
   "execution_count": 13,
   "id": "f5cb18c2",
   "metadata": {},
   "outputs": [
    {
     "data": {
      "text/plain": [
       "A    float64\n",
       "B    float64\n",
       "C    float64\n",
       "D    float64\n",
       "E    float64\n",
       "F    float64\n",
       "G    float64\n",
       "dtype: object"
      ]
     },
     "execution_count": 13,
     "metadata": {},
     "output_type": "execute_result"
    }
   ],
   "source": [
    "## data type of each column\n",
    "d2.dtypes"
   ]
  },
  {
   "cell_type": "code",
   "execution_count": 14,
   "id": "6ba871ac",
   "metadata": {},
   "outputs": [
    {
     "data": {
      "text/html": [
       "<div>\n",
       "<style scoped>\n",
       "    .dataframe tbody tr th:only-of-type {\n",
       "        vertical-align: middle;\n",
       "    }\n",
       "\n",
       "    .dataframe tbody tr th {\n",
       "        vertical-align: top;\n",
       "    }\n",
       "\n",
       "    .dataframe thead th {\n",
       "        text-align: right;\n",
       "    }\n",
       "</style>\n",
       "<table border=\"1\" class=\"dataframe\">\n",
       "  <thead>\n",
       "    <tr style=\"text-align: right;\">\n",
       "      <th></th>\n",
       "      <th>A</th>\n",
       "      <th>B</th>\n",
       "      <th>C</th>\n",
       "      <th>D</th>\n",
       "      <th>E</th>\n",
       "      <th>F</th>\n",
       "      <th>G</th>\n",
       "    </tr>\n",
       "  </thead>\n",
       "  <tbody>\n",
       "    <tr>\n",
       "      <th>2021-01-22</th>\n",
       "      <td>0.163946</td>\n",
       "      <td>0.120138</td>\n",
       "      <td>0.425263</td>\n",
       "      <td>0.342034</td>\n",
       "      <td>0.428061</td>\n",
       "      <td>0.581873</td>\n",
       "      <td>0.628796</td>\n",
       "    </tr>\n",
       "    <tr>\n",
       "      <th>2021-01-26</th>\n",
       "      <td>0.317615</td>\n",
       "      <td>0.082640</td>\n",
       "      <td>0.314520</td>\n",
       "      <td>0.047256</td>\n",
       "      <td>0.781498</td>\n",
       "      <td>0.465957</td>\n",
       "      <td>0.246108</td>\n",
       "    </tr>\n",
       "    <tr>\n",
       "      <th>2021-01-24</th>\n",
       "      <td>0.625069</td>\n",
       "      <td>0.243164</td>\n",
       "      <td>0.213955</td>\n",
       "      <td>0.938201</td>\n",
       "      <td>0.777944</td>\n",
       "      <td>0.461304</td>\n",
       "      <td>0.268419</td>\n",
       "    </tr>\n",
       "    <tr>\n",
       "      <th>2021-01-25</th>\n",
       "      <td>0.745413</td>\n",
       "      <td>0.521896</td>\n",
       "      <td>0.823004</td>\n",
       "      <td>0.742731</td>\n",
       "      <td>0.339576</td>\n",
       "      <td>0.366309</td>\n",
       "      <td>0.967010</td>\n",
       "    </tr>\n",
       "    <tr>\n",
       "      <th>2021-01-23</th>\n",
       "      <td>0.764170</td>\n",
       "      <td>0.992109</td>\n",
       "      <td>0.137712</td>\n",
       "      <td>0.005184</td>\n",
       "      <td>0.650690</td>\n",
       "      <td>0.867879</td>\n",
       "      <td>0.998106</td>\n",
       "    </tr>\n",
       "    <tr>\n",
       "      <th>2021-01-20</th>\n",
       "      <td>0.826901</td>\n",
       "      <td>0.995818</td>\n",
       "      <td>0.820065</td>\n",
       "      <td>0.994410</td>\n",
       "      <td>0.570079</td>\n",
       "      <td>0.672285</td>\n",
       "      <td>0.973541</td>\n",
       "    </tr>\n",
       "    <tr>\n",
       "      <th>2021-01-21</th>\n",
       "      <td>0.848585</td>\n",
       "      <td>0.758333</td>\n",
       "      <td>0.400985</td>\n",
       "      <td>0.397829</td>\n",
       "      <td>0.611698</td>\n",
       "      <td>0.526906</td>\n",
       "      <td>0.385643</td>\n",
       "    </tr>\n",
       "  </tbody>\n",
       "</table>\n",
       "</div>"
      ],
      "text/plain": [
       "                   A         B         C         D         E         F  \\\n",
       "2021-01-22  0.163946  0.120138  0.425263  0.342034  0.428061  0.581873   \n",
       "2021-01-26  0.317615  0.082640  0.314520  0.047256  0.781498  0.465957   \n",
       "2021-01-24  0.625069  0.243164  0.213955  0.938201  0.777944  0.461304   \n",
       "2021-01-25  0.745413  0.521896  0.823004  0.742731  0.339576  0.366309   \n",
       "2021-01-23  0.764170  0.992109  0.137712  0.005184  0.650690  0.867879   \n",
       "2021-01-20  0.826901  0.995818  0.820065  0.994410  0.570079  0.672285   \n",
       "2021-01-21  0.848585  0.758333  0.400985  0.397829  0.611698  0.526906   \n",
       "\n",
       "                   G  \n",
       "2021-01-22  0.628796  \n",
       "2021-01-26  0.246108  \n",
       "2021-01-24  0.268419  \n",
       "2021-01-25  0.967010  \n",
       "2021-01-23  0.998106  \n",
       "2021-01-20  0.973541  \n",
       "2021-01-21  0.385643  "
      ]
     },
     "execution_count": 14,
     "metadata": {},
     "output_type": "execute_result"
    }
   ],
   "source": [
    "## SORT DATA FRAME BY COLUMN A IN ASCENDING ORDER\n",
    "d2.sort_values(by=\"A\")"
   ]
  },
  {
   "cell_type": "code",
   "execution_count": 16,
   "id": "f995289c",
   "metadata": {},
   "outputs": [
    {
     "data": {
      "text/html": [
       "<div>\n",
       "<style scoped>\n",
       "    .dataframe tbody tr th:only-of-type {\n",
       "        vertical-align: middle;\n",
       "    }\n",
       "\n",
       "    .dataframe tbody tr th {\n",
       "        vertical-align: top;\n",
       "    }\n",
       "\n",
       "    .dataframe thead th {\n",
       "        text-align: right;\n",
       "    }\n",
       "</style>\n",
       "<table border=\"1\" class=\"dataframe\">\n",
       "  <thead>\n",
       "    <tr style=\"text-align: right;\">\n",
       "      <th></th>\n",
       "      <th>A</th>\n",
       "      <th>B</th>\n",
       "      <th>C</th>\n",
       "      <th>D</th>\n",
       "      <th>E</th>\n",
       "      <th>F</th>\n",
       "      <th>G</th>\n",
       "    </tr>\n",
       "  </thead>\n",
       "  <tbody>\n",
       "    <tr>\n",
       "      <th>2021-01-21</th>\n",
       "      <td>0.848585</td>\n",
       "      <td>0.758333</td>\n",
       "      <td>0.400985</td>\n",
       "      <td>0.397829</td>\n",
       "      <td>0.611698</td>\n",
       "      <td>0.526906</td>\n",
       "      <td>0.385643</td>\n",
       "    </tr>\n",
       "    <tr>\n",
       "      <th>2021-01-20</th>\n",
       "      <td>0.826901</td>\n",
       "      <td>0.995818</td>\n",
       "      <td>0.820065</td>\n",
       "      <td>0.994410</td>\n",
       "      <td>0.570079</td>\n",
       "      <td>0.672285</td>\n",
       "      <td>0.973541</td>\n",
       "    </tr>\n",
       "    <tr>\n",
       "      <th>2021-01-23</th>\n",
       "      <td>0.764170</td>\n",
       "      <td>0.992109</td>\n",
       "      <td>0.137712</td>\n",
       "      <td>0.005184</td>\n",
       "      <td>0.650690</td>\n",
       "      <td>0.867879</td>\n",
       "      <td>0.998106</td>\n",
       "    </tr>\n",
       "    <tr>\n",
       "      <th>2021-01-25</th>\n",
       "      <td>0.745413</td>\n",
       "      <td>0.521896</td>\n",
       "      <td>0.823004</td>\n",
       "      <td>0.742731</td>\n",
       "      <td>0.339576</td>\n",
       "      <td>0.366309</td>\n",
       "      <td>0.967010</td>\n",
       "    </tr>\n",
       "    <tr>\n",
       "      <th>2021-01-24</th>\n",
       "      <td>0.625069</td>\n",
       "      <td>0.243164</td>\n",
       "      <td>0.213955</td>\n",
       "      <td>0.938201</td>\n",
       "      <td>0.777944</td>\n",
       "      <td>0.461304</td>\n",
       "      <td>0.268419</td>\n",
       "    </tr>\n",
       "    <tr>\n",
       "      <th>2021-01-26</th>\n",
       "      <td>0.317615</td>\n",
       "      <td>0.082640</td>\n",
       "      <td>0.314520</td>\n",
       "      <td>0.047256</td>\n",
       "      <td>0.781498</td>\n",
       "      <td>0.465957</td>\n",
       "      <td>0.246108</td>\n",
       "    </tr>\n",
       "    <tr>\n",
       "      <th>2021-01-22</th>\n",
       "      <td>0.163946</td>\n",
       "      <td>0.120138</td>\n",
       "      <td>0.425263</td>\n",
       "      <td>0.342034</td>\n",
       "      <td>0.428061</td>\n",
       "      <td>0.581873</td>\n",
       "      <td>0.628796</td>\n",
       "    </tr>\n",
       "  </tbody>\n",
       "</table>\n",
       "</div>"
      ],
      "text/plain": [
       "                   A         B         C         D         E         F  \\\n",
       "2021-01-21  0.848585  0.758333  0.400985  0.397829  0.611698  0.526906   \n",
       "2021-01-20  0.826901  0.995818  0.820065  0.994410  0.570079  0.672285   \n",
       "2021-01-23  0.764170  0.992109  0.137712  0.005184  0.650690  0.867879   \n",
       "2021-01-25  0.745413  0.521896  0.823004  0.742731  0.339576  0.366309   \n",
       "2021-01-24  0.625069  0.243164  0.213955  0.938201  0.777944  0.461304   \n",
       "2021-01-26  0.317615  0.082640  0.314520  0.047256  0.781498  0.465957   \n",
       "2021-01-22  0.163946  0.120138  0.425263  0.342034  0.428061  0.581873   \n",
       "\n",
       "                   G  \n",
       "2021-01-21  0.385643  \n",
       "2021-01-20  0.973541  \n",
       "2021-01-23  0.998106  \n",
       "2021-01-25  0.967010  \n",
       "2021-01-24  0.268419  \n",
       "2021-01-26  0.246108  \n",
       "2021-01-22  0.628796  "
      ]
     },
     "execution_count": 16,
     "metadata": {},
     "output_type": "execute_result"
    }
   ],
   "source": [
    "## sort dataframe by column A in descending order\n",
    "d2.sort_values(by=\"A\",ascending=False)"
   ]
  },
  {
   "cell_type": "markdown",
   "id": "e02d58d5",
   "metadata": {},
   "source": [
    "### delete column in data frame"
   ]
  },
  {
   "cell_type": "code",
   "execution_count": 17,
   "id": "ea2cdf99",
   "metadata": {},
   "outputs": [
    {
     "data": {
      "text/html": [
       "<div>\n",
       "<style scoped>\n",
       "    .dataframe tbody tr th:only-of-type {\n",
       "        vertical-align: middle;\n",
       "    }\n",
       "\n",
       "    .dataframe tbody tr th {\n",
       "        vertical-align: top;\n",
       "    }\n",
       "\n",
       "    .dataframe thead th {\n",
       "        text-align: right;\n",
       "    }\n",
       "</style>\n",
       "<table border=\"1\" class=\"dataframe\">\n",
       "  <thead>\n",
       "    <tr style=\"text-align: right;\">\n",
       "      <th></th>\n",
       "      <th>A</th>\n",
       "      <th>B</th>\n",
       "      <th>C</th>\n",
       "      <th>D</th>\n",
       "      <th>E</th>\n",
       "      <th>F</th>\n",
       "      <th>G</th>\n",
       "    </tr>\n",
       "  </thead>\n",
       "  <tbody>\n",
       "    <tr>\n",
       "      <th>2021-01-20</th>\n",
       "      <td>0.826901</td>\n",
       "      <td>0.995818</td>\n",
       "      <td>0.820065</td>\n",
       "      <td>0.994410</td>\n",
       "      <td>0.570079</td>\n",
       "      <td>0.672285</td>\n",
       "      <td>0.973541</td>\n",
       "    </tr>\n",
       "    <tr>\n",
       "      <th>2021-01-21</th>\n",
       "      <td>0.848585</td>\n",
       "      <td>0.758333</td>\n",
       "      <td>0.400985</td>\n",
       "      <td>0.397829</td>\n",
       "      <td>0.611698</td>\n",
       "      <td>0.526906</td>\n",
       "      <td>0.385643</td>\n",
       "    </tr>\n",
       "    <tr>\n",
       "      <th>2021-01-22</th>\n",
       "      <td>0.163946</td>\n",
       "      <td>0.120138</td>\n",
       "      <td>0.425263</td>\n",
       "      <td>0.342034</td>\n",
       "      <td>0.428061</td>\n",
       "      <td>0.581873</td>\n",
       "      <td>0.628796</td>\n",
       "    </tr>\n",
       "    <tr>\n",
       "      <th>2021-01-23</th>\n",
       "      <td>0.764170</td>\n",
       "      <td>0.992109</td>\n",
       "      <td>0.137712</td>\n",
       "      <td>0.005184</td>\n",
       "      <td>0.650690</td>\n",
       "      <td>0.867879</td>\n",
       "      <td>0.998106</td>\n",
       "    </tr>\n",
       "    <tr>\n",
       "      <th>2021-01-24</th>\n",
       "      <td>0.625069</td>\n",
       "      <td>0.243164</td>\n",
       "      <td>0.213955</td>\n",
       "      <td>0.938201</td>\n",
       "      <td>0.777944</td>\n",
       "      <td>0.461304</td>\n",
       "      <td>0.268419</td>\n",
       "    </tr>\n",
       "    <tr>\n",
       "      <th>2021-01-25</th>\n",
       "      <td>0.745413</td>\n",
       "      <td>0.521896</td>\n",
       "      <td>0.823004</td>\n",
       "      <td>0.742731</td>\n",
       "      <td>0.339576</td>\n",
       "      <td>0.366309</td>\n",
       "      <td>0.967010</td>\n",
       "    </tr>\n",
       "    <tr>\n",
       "      <th>2021-01-26</th>\n",
       "      <td>0.317615</td>\n",
       "      <td>0.082640</td>\n",
       "      <td>0.314520</td>\n",
       "      <td>0.047256</td>\n",
       "      <td>0.781498</td>\n",
       "      <td>0.465957</td>\n",
       "      <td>0.246108</td>\n",
       "    </tr>\n",
       "  </tbody>\n",
       "</table>\n",
       "</div>"
      ],
      "text/plain": [
       "                   A         B         C         D         E         F  \\\n",
       "2021-01-20  0.826901  0.995818  0.820065  0.994410  0.570079  0.672285   \n",
       "2021-01-21  0.848585  0.758333  0.400985  0.397829  0.611698  0.526906   \n",
       "2021-01-22  0.163946  0.120138  0.425263  0.342034  0.428061  0.581873   \n",
       "2021-01-23  0.764170  0.992109  0.137712  0.005184  0.650690  0.867879   \n",
       "2021-01-24  0.625069  0.243164  0.213955  0.938201  0.777944  0.461304   \n",
       "2021-01-25  0.745413  0.521896  0.823004  0.742731  0.339576  0.366309   \n",
       "2021-01-26  0.317615  0.082640  0.314520  0.047256  0.781498  0.465957   \n",
       "\n",
       "                   G  \n",
       "2021-01-20  0.973541  \n",
       "2021-01-21  0.385643  \n",
       "2021-01-22  0.628796  \n",
       "2021-01-23  0.998106  \n",
       "2021-01-24  0.268419  \n",
       "2021-01-25  0.967010  \n",
       "2021-01-26  0.246108  "
      ]
     },
     "execution_count": 17,
     "metadata": {},
     "output_type": "execute_result"
    }
   ],
   "source": [
    "d2"
   ]
  },
  {
   "cell_type": "code",
   "execution_count": 19,
   "id": "6f84a1f3",
   "metadata": {},
   "outputs": [
    {
     "data": {
      "text/html": [
       "<div>\n",
       "<style scoped>\n",
       "    .dataframe tbody tr th:only-of-type {\n",
       "        vertical-align: middle;\n",
       "    }\n",
       "\n",
       "    .dataframe tbody tr th {\n",
       "        vertical-align: top;\n",
       "    }\n",
       "\n",
       "    .dataframe thead th {\n",
       "        text-align: right;\n",
       "    }\n",
       "</style>\n",
       "<table border=\"1\" class=\"dataframe\">\n",
       "  <thead>\n",
       "    <tr style=\"text-align: right;\">\n",
       "      <th></th>\n",
       "      <th>A</th>\n",
       "      <th>B</th>\n",
       "      <th>D</th>\n",
       "      <th>E</th>\n",
       "      <th>F</th>\n",
       "      <th>G</th>\n",
       "    </tr>\n",
       "  </thead>\n",
       "  <tbody>\n",
       "    <tr>\n",
       "      <th>2021-01-20</th>\n",
       "      <td>0.826901</td>\n",
       "      <td>0.995818</td>\n",
       "      <td>0.994410</td>\n",
       "      <td>0.570079</td>\n",
       "      <td>0.672285</td>\n",
       "      <td>0.973541</td>\n",
       "    </tr>\n",
       "    <tr>\n",
       "      <th>2021-01-21</th>\n",
       "      <td>0.848585</td>\n",
       "      <td>0.758333</td>\n",
       "      <td>0.397829</td>\n",
       "      <td>0.611698</td>\n",
       "      <td>0.526906</td>\n",
       "      <td>0.385643</td>\n",
       "    </tr>\n",
       "    <tr>\n",
       "      <th>2021-01-22</th>\n",
       "      <td>0.163946</td>\n",
       "      <td>0.120138</td>\n",
       "      <td>0.342034</td>\n",
       "      <td>0.428061</td>\n",
       "      <td>0.581873</td>\n",
       "      <td>0.628796</td>\n",
       "    </tr>\n",
       "    <tr>\n",
       "      <th>2021-01-23</th>\n",
       "      <td>0.764170</td>\n",
       "      <td>0.992109</td>\n",
       "      <td>0.005184</td>\n",
       "      <td>0.650690</td>\n",
       "      <td>0.867879</td>\n",
       "      <td>0.998106</td>\n",
       "    </tr>\n",
       "    <tr>\n",
       "      <th>2021-01-24</th>\n",
       "      <td>0.625069</td>\n",
       "      <td>0.243164</td>\n",
       "      <td>0.938201</td>\n",
       "      <td>0.777944</td>\n",
       "      <td>0.461304</td>\n",
       "      <td>0.268419</td>\n",
       "    </tr>\n",
       "    <tr>\n",
       "      <th>2021-01-25</th>\n",
       "      <td>0.745413</td>\n",
       "      <td>0.521896</td>\n",
       "      <td>0.742731</td>\n",
       "      <td>0.339576</td>\n",
       "      <td>0.366309</td>\n",
       "      <td>0.967010</td>\n",
       "    </tr>\n",
       "    <tr>\n",
       "      <th>2021-01-26</th>\n",
       "      <td>0.317615</td>\n",
       "      <td>0.082640</td>\n",
       "      <td>0.047256</td>\n",
       "      <td>0.781498</td>\n",
       "      <td>0.465957</td>\n",
       "      <td>0.246108</td>\n",
       "    </tr>\n",
       "  </tbody>\n",
       "</table>\n",
       "</div>"
      ],
      "text/plain": [
       "                   A         B         D         E         F         G\n",
       "2021-01-20  0.826901  0.995818  0.994410  0.570079  0.672285  0.973541\n",
       "2021-01-21  0.848585  0.758333  0.397829  0.611698  0.526906  0.385643\n",
       "2021-01-22  0.163946  0.120138  0.342034  0.428061  0.581873  0.628796\n",
       "2021-01-23  0.764170  0.992109  0.005184  0.650690  0.867879  0.998106\n",
       "2021-01-24  0.625069  0.243164  0.938201  0.777944  0.461304  0.268419\n",
       "2021-01-25  0.745413  0.521896  0.742731  0.339576  0.366309  0.967010\n",
       "2021-01-26  0.317615  0.082640  0.047256  0.781498  0.465957  0.246108"
      ]
     },
     "execution_count": 19,
     "metadata": {},
     "output_type": "execute_result"
    }
   ],
   "source": [
    "del d2[\"C\"] ## deleting c column and resulting column doesnt contain c \n",
    "d2\n"
   ]
  },
  {
   "cell_type": "code",
   "execution_count": 20,
   "id": "b14823f5",
   "metadata": {},
   "outputs": [
    {
     "data": {
      "text/html": [
       "<div>\n",
       "<style scoped>\n",
       "    .dataframe tbody tr th:only-of-type {\n",
       "        vertical-align: middle;\n",
       "    }\n",
       "\n",
       "    .dataframe tbody tr th {\n",
       "        vertical-align: top;\n",
       "    }\n",
       "\n",
       "    .dataframe thead th {\n",
       "        text-align: right;\n",
       "    }\n",
       "</style>\n",
       "<table border=\"1\" class=\"dataframe\">\n",
       "  <thead>\n",
       "    <tr style=\"text-align: right;\">\n",
       "      <th></th>\n",
       "      <th>B</th>\n",
       "      <th>D</th>\n",
       "      <th>E</th>\n",
       "      <th>F</th>\n",
       "      <th>G</th>\n",
       "    </tr>\n",
       "  </thead>\n",
       "  <tbody>\n",
       "    <tr>\n",
       "      <th>2021-01-20</th>\n",
       "      <td>0.995818</td>\n",
       "      <td>0.994410</td>\n",
       "      <td>0.570079</td>\n",
       "      <td>0.672285</td>\n",
       "      <td>0.973541</td>\n",
       "    </tr>\n",
       "    <tr>\n",
       "      <th>2021-01-21</th>\n",
       "      <td>0.758333</td>\n",
       "      <td>0.397829</td>\n",
       "      <td>0.611698</td>\n",
       "      <td>0.526906</td>\n",
       "      <td>0.385643</td>\n",
       "    </tr>\n",
       "    <tr>\n",
       "      <th>2021-01-22</th>\n",
       "      <td>0.120138</td>\n",
       "      <td>0.342034</td>\n",
       "      <td>0.428061</td>\n",
       "      <td>0.581873</td>\n",
       "      <td>0.628796</td>\n",
       "    </tr>\n",
       "    <tr>\n",
       "      <th>2021-01-23</th>\n",
       "      <td>0.992109</td>\n",
       "      <td>0.005184</td>\n",
       "      <td>0.650690</td>\n",
       "      <td>0.867879</td>\n",
       "      <td>0.998106</td>\n",
       "    </tr>\n",
       "    <tr>\n",
       "      <th>2021-01-24</th>\n",
       "      <td>0.243164</td>\n",
       "      <td>0.938201</td>\n",
       "      <td>0.777944</td>\n",
       "      <td>0.461304</td>\n",
       "      <td>0.268419</td>\n",
       "    </tr>\n",
       "    <tr>\n",
       "      <th>2021-01-25</th>\n",
       "      <td>0.521896</td>\n",
       "      <td>0.742731</td>\n",
       "      <td>0.339576</td>\n",
       "      <td>0.366309</td>\n",
       "      <td>0.967010</td>\n",
       "    </tr>\n",
       "    <tr>\n",
       "      <th>2021-01-26</th>\n",
       "      <td>0.082640</td>\n",
       "      <td>0.047256</td>\n",
       "      <td>0.781498</td>\n",
       "      <td>0.465957</td>\n",
       "      <td>0.246108</td>\n",
       "    </tr>\n",
       "  </tbody>\n",
       "</table>\n",
       "</div>"
      ],
      "text/plain": [
       "                   B         D         E         F         G\n",
       "2021-01-20  0.995818  0.994410  0.570079  0.672285  0.973541\n",
       "2021-01-21  0.758333  0.397829  0.611698  0.526906  0.385643\n",
       "2021-01-22  0.120138  0.342034  0.428061  0.581873  0.628796\n",
       "2021-01-23  0.992109  0.005184  0.650690  0.867879  0.998106\n",
       "2021-01-24  0.243164  0.938201  0.777944  0.461304  0.268419\n",
       "2021-01-25  0.521896  0.742731  0.339576  0.366309  0.967010\n",
       "2021-01-26  0.082640  0.047256  0.781498  0.465957  0.246108"
      ]
     },
     "execution_count": 20,
     "metadata": {},
     "output_type": "execute_result"
    }
   ],
   "source": [
    "d2.pop(\"A\") ### pop also used to dlete column in dataframe\n",
    "d2"
   ]
  },
  {
   "cell_type": "code",
   "execution_count": 21,
   "id": "08bfb8ed",
   "metadata": {},
   "outputs": [
    {
     "data": {
      "text/html": [
       "<div>\n",
       "<style scoped>\n",
       "    .dataframe tbody tr th:only-of-type {\n",
       "        vertical-align: middle;\n",
       "    }\n",
       "\n",
       "    .dataframe tbody tr th {\n",
       "        vertical-align: top;\n",
       "    }\n",
       "\n",
       "    .dataframe thead th {\n",
       "        text-align: right;\n",
       "    }\n",
       "</style>\n",
       "<table border=\"1\" class=\"dataframe\">\n",
       "  <thead>\n",
       "    <tr style=\"text-align: right;\">\n",
       "      <th></th>\n",
       "      <th>B</th>\n",
       "      <th>D</th>\n",
       "      <th>F</th>\n",
       "      <th>G</th>\n",
       "    </tr>\n",
       "  </thead>\n",
       "  <tbody>\n",
       "    <tr>\n",
       "      <th>2021-01-20</th>\n",
       "      <td>0.995818</td>\n",
       "      <td>0.994410</td>\n",
       "      <td>0.672285</td>\n",
       "      <td>0.973541</td>\n",
       "    </tr>\n",
       "    <tr>\n",
       "      <th>2021-01-21</th>\n",
       "      <td>0.758333</td>\n",
       "      <td>0.397829</td>\n",
       "      <td>0.526906</td>\n",
       "      <td>0.385643</td>\n",
       "    </tr>\n",
       "    <tr>\n",
       "      <th>2021-01-22</th>\n",
       "      <td>0.120138</td>\n",
       "      <td>0.342034</td>\n",
       "      <td>0.581873</td>\n",
       "      <td>0.628796</td>\n",
       "    </tr>\n",
       "    <tr>\n",
       "      <th>2021-01-23</th>\n",
       "      <td>0.992109</td>\n",
       "      <td>0.005184</td>\n",
       "      <td>0.867879</td>\n",
       "      <td>0.998106</td>\n",
       "    </tr>\n",
       "    <tr>\n",
       "      <th>2021-01-24</th>\n",
       "      <td>0.243164</td>\n",
       "      <td>0.938201</td>\n",
       "      <td>0.461304</td>\n",
       "      <td>0.268419</td>\n",
       "    </tr>\n",
       "    <tr>\n",
       "      <th>2021-01-25</th>\n",
       "      <td>0.521896</td>\n",
       "      <td>0.742731</td>\n",
       "      <td>0.366309</td>\n",
       "      <td>0.967010</td>\n",
       "    </tr>\n",
       "    <tr>\n",
       "      <th>2021-01-26</th>\n",
       "      <td>0.082640</td>\n",
       "      <td>0.047256</td>\n",
       "      <td>0.465957</td>\n",
       "      <td>0.246108</td>\n",
       "    </tr>\n",
       "  </tbody>\n",
       "</table>\n",
       "</div>"
      ],
      "text/plain": [
       "                   B         D         F         G\n",
       "2021-01-20  0.995818  0.994410  0.672285  0.973541\n",
       "2021-01-21  0.758333  0.397829  0.526906  0.385643\n",
       "2021-01-22  0.120138  0.342034  0.581873  0.628796\n",
       "2021-01-23  0.992109  0.005184  0.867879  0.998106\n",
       "2021-01-24  0.243164  0.938201  0.461304  0.268419\n",
       "2021-01-25  0.521896  0.742731  0.366309  0.967010\n",
       "2021-01-26  0.082640  0.047256  0.465957  0.246108"
      ]
     },
     "execution_count": 21,
     "metadata": {},
     "output_type": "execute_result"
    }
   ],
   "source": [
    "d2.drop(['E'],axis=1,inplace=True) ## inplace used to permenant chnade\n",
    "d2"
   ]
  },
  {
   "cell_type": "markdown",
   "id": "6db1922b",
   "metadata": {},
   "source": [
    "### delete row in dataframe"
   ]
  },
  {
   "cell_type": "code",
   "execution_count": 22,
   "id": "dc4663c3",
   "metadata": {},
   "outputs": [
    {
     "data": {
      "text/plain": [
       "array([[0.40968991, 0.86851702, 0.04910877, 0.13459604, 0.29987945,\n",
       "        0.13566316, 0.09220193, 0.01892749, 0.80251469, 0.4402969 ],\n",
       "       [0.24571986, 0.80180596, 0.00379398, 0.63925424, 0.39661123,\n",
       "        0.29576213, 0.4606662 , 0.55308367, 0.33918822, 0.71257454],\n",
       "       [0.05994575, 0.52636509, 0.34476237, 0.28999455, 0.67324824,\n",
       "        0.579126  , 0.55793365, 0.34188167, 0.26856434, 0.60311742],\n",
       "       [0.22306785, 0.22667446, 0.85406933, 0.52291861, 0.30755587,\n",
       "        0.76457741, 0.23006889, 0.76060974, 0.23707498, 0.01284909],\n",
       "       [0.73375031, 0.57446583, 0.31190393, 0.80951646, 0.02545774,\n",
       "        0.94215416, 0.22925211, 0.13389336, 0.6365868 , 0.9203318 ],\n",
       "       [0.70562512, 0.36382708, 0.69143086, 0.03335389, 0.36481353,\n",
       "        0.02803583, 0.60141325, 0.27693292, 0.76208649, 0.23057448],\n",
       "       [0.19745256, 0.73126328, 0.57402627, 0.30762746, 0.34435012,\n",
       "        0.61337419, 0.26415899, 0.69226206, 0.76299316, 0.84563101],\n",
       "       [0.06269791, 0.06162211, 0.38540742, 0.34905937, 0.09735062,\n",
       "        0.10488392, 0.30998903, 0.9116658 , 0.21574758, 0.11463518],\n",
       "       [0.73020438, 0.22907722, 0.7447353 , 0.27296266, 0.79185321,\n",
       "        0.94793896, 0.80745339, 0.60086986, 0.73202066, 0.48001905],\n",
       "       [0.89737778, 0.69549842, 0.7458245 , 0.21029702, 0.99550531,\n",
       "        0.51412461, 0.10112448, 0.49999229, 0.17053025, 0.27864238]])"
      ]
     },
     "execution_count": 22,
     "metadata": {},
     "output_type": "execute_result"
    }
   ],
   "source": [
    "r=np.random.random((10,10))\n",
    "r"
   ]
  },
  {
   "cell_type": "code",
   "execution_count": 24,
   "id": "737e0a99",
   "metadata": {},
   "outputs": [
    {
     "data": {
      "text/html": [
       "<div>\n",
       "<style scoped>\n",
       "    .dataframe tbody tr th:only-of-type {\n",
       "        vertical-align: middle;\n",
       "    }\n",
       "\n",
       "    .dataframe tbody tr th {\n",
       "        vertical-align: top;\n",
       "    }\n",
       "\n",
       "    .dataframe thead th {\n",
       "        text-align: right;\n",
       "    }\n",
       "</style>\n",
       "<table border=\"1\" class=\"dataframe\">\n",
       "  <thead>\n",
       "    <tr style=\"text-align: right;\">\n",
       "      <th></th>\n",
       "      <th>0</th>\n",
       "      <th>1</th>\n",
       "      <th>2</th>\n",
       "      <th>3</th>\n",
       "      <th>4</th>\n",
       "      <th>5</th>\n",
       "      <th>6</th>\n",
       "      <th>7</th>\n",
       "      <th>8</th>\n",
       "      <th>9</th>\n",
       "    </tr>\n",
       "  </thead>\n",
       "  <tbody>\n",
       "    <tr>\n",
       "      <th>0</th>\n",
       "      <td>0.409690</td>\n",
       "      <td>0.868517</td>\n",
       "      <td>0.049109</td>\n",
       "      <td>0.134596</td>\n",
       "      <td>0.299879</td>\n",
       "      <td>0.135663</td>\n",
       "      <td>0.092202</td>\n",
       "      <td>0.018927</td>\n",
       "      <td>0.802515</td>\n",
       "      <td>0.440297</td>\n",
       "    </tr>\n",
       "    <tr>\n",
       "      <th>1</th>\n",
       "      <td>0.245720</td>\n",
       "      <td>0.801806</td>\n",
       "      <td>0.003794</td>\n",
       "      <td>0.639254</td>\n",
       "      <td>0.396611</td>\n",
       "      <td>0.295762</td>\n",
       "      <td>0.460666</td>\n",
       "      <td>0.553084</td>\n",
       "      <td>0.339188</td>\n",
       "      <td>0.712575</td>\n",
       "    </tr>\n",
       "    <tr>\n",
       "      <th>2</th>\n",
       "      <td>0.059946</td>\n",
       "      <td>0.526365</td>\n",
       "      <td>0.344762</td>\n",
       "      <td>0.289995</td>\n",
       "      <td>0.673248</td>\n",
       "      <td>0.579126</td>\n",
       "      <td>0.557934</td>\n",
       "      <td>0.341882</td>\n",
       "      <td>0.268564</td>\n",
       "      <td>0.603117</td>\n",
       "    </tr>\n",
       "    <tr>\n",
       "      <th>3</th>\n",
       "      <td>0.223068</td>\n",
       "      <td>0.226674</td>\n",
       "      <td>0.854069</td>\n",
       "      <td>0.522919</td>\n",
       "      <td>0.307556</td>\n",
       "      <td>0.764577</td>\n",
       "      <td>0.230069</td>\n",
       "      <td>0.760610</td>\n",
       "      <td>0.237075</td>\n",
       "      <td>0.012849</td>\n",
       "    </tr>\n",
       "    <tr>\n",
       "      <th>4</th>\n",
       "      <td>0.733750</td>\n",
       "      <td>0.574466</td>\n",
       "      <td>0.311904</td>\n",
       "      <td>0.809516</td>\n",
       "      <td>0.025458</td>\n",
       "      <td>0.942154</td>\n",
       "      <td>0.229252</td>\n",
       "      <td>0.133893</td>\n",
       "      <td>0.636587</td>\n",
       "      <td>0.920332</td>\n",
       "    </tr>\n",
       "    <tr>\n",
       "      <th>5</th>\n",
       "      <td>0.705625</td>\n",
       "      <td>0.363827</td>\n",
       "      <td>0.691431</td>\n",
       "      <td>0.033354</td>\n",
       "      <td>0.364814</td>\n",
       "      <td>0.028036</td>\n",
       "      <td>0.601413</td>\n",
       "      <td>0.276933</td>\n",
       "      <td>0.762086</td>\n",
       "      <td>0.230574</td>\n",
       "    </tr>\n",
       "    <tr>\n",
       "      <th>6</th>\n",
       "      <td>0.197453</td>\n",
       "      <td>0.731263</td>\n",
       "      <td>0.574026</td>\n",
       "      <td>0.307627</td>\n",
       "      <td>0.344350</td>\n",
       "      <td>0.613374</td>\n",
       "      <td>0.264159</td>\n",
       "      <td>0.692262</td>\n",
       "      <td>0.762993</td>\n",
       "      <td>0.845631</td>\n",
       "    </tr>\n",
       "    <tr>\n",
       "      <th>7</th>\n",
       "      <td>0.062698</td>\n",
       "      <td>0.061622</td>\n",
       "      <td>0.385407</td>\n",
       "      <td>0.349059</td>\n",
       "      <td>0.097351</td>\n",
       "      <td>0.104884</td>\n",
       "      <td>0.309989</td>\n",
       "      <td>0.911666</td>\n",
       "      <td>0.215748</td>\n",
       "      <td>0.114635</td>\n",
       "    </tr>\n",
       "    <tr>\n",
       "      <th>8</th>\n",
       "      <td>0.730204</td>\n",
       "      <td>0.229077</td>\n",
       "      <td>0.744735</td>\n",
       "      <td>0.272963</td>\n",
       "      <td>0.791853</td>\n",
       "      <td>0.947939</td>\n",
       "      <td>0.807453</td>\n",
       "      <td>0.600870</td>\n",
       "      <td>0.732021</td>\n",
       "      <td>0.480019</td>\n",
       "    </tr>\n",
       "    <tr>\n",
       "      <th>9</th>\n",
       "      <td>0.897378</td>\n",
       "      <td>0.695498</td>\n",
       "      <td>0.745825</td>\n",
       "      <td>0.210297</td>\n",
       "      <td>0.995505</td>\n",
       "      <td>0.514125</td>\n",
       "      <td>0.101124</td>\n",
       "      <td>0.499992</td>\n",
       "      <td>0.170530</td>\n",
       "      <td>0.278642</td>\n",
       "    </tr>\n",
       "  </tbody>\n",
       "</table>\n",
       "</div>"
      ],
      "text/plain": [
       "          0         1         2         3         4         5         6  \\\n",
       "0  0.409690  0.868517  0.049109  0.134596  0.299879  0.135663  0.092202   \n",
       "1  0.245720  0.801806  0.003794  0.639254  0.396611  0.295762  0.460666   \n",
       "2  0.059946  0.526365  0.344762  0.289995  0.673248  0.579126  0.557934   \n",
       "3  0.223068  0.226674  0.854069  0.522919  0.307556  0.764577  0.230069   \n",
       "4  0.733750  0.574466  0.311904  0.809516  0.025458  0.942154  0.229252   \n",
       "5  0.705625  0.363827  0.691431  0.033354  0.364814  0.028036  0.601413   \n",
       "6  0.197453  0.731263  0.574026  0.307627  0.344350  0.613374  0.264159   \n",
       "7  0.062698  0.061622  0.385407  0.349059  0.097351  0.104884  0.309989   \n",
       "8  0.730204  0.229077  0.744735  0.272963  0.791853  0.947939  0.807453   \n",
       "9  0.897378  0.695498  0.745825  0.210297  0.995505  0.514125  0.101124   \n",
       "\n",
       "          7         8         9  \n",
       "0  0.018927  0.802515  0.440297  \n",
       "1  0.553084  0.339188  0.712575  \n",
       "2  0.341882  0.268564  0.603117  \n",
       "3  0.760610  0.237075  0.012849  \n",
       "4  0.133893  0.636587  0.920332  \n",
       "5  0.276933  0.762086  0.230574  \n",
       "6  0.692262  0.762993  0.845631  \n",
       "7  0.911666  0.215748  0.114635  \n",
       "8  0.600870  0.732021  0.480019  \n",
       "9  0.499992  0.170530  0.278642  "
      ]
     },
     "execution_count": 24,
     "metadata": {},
     "output_type": "execute_result"
    }
   ],
   "source": [
    "d2=pd.DataFrame(r)\n",
    "d2"
   ]
  },
  {
   "cell_type": "code",
   "execution_count": 25,
   "id": "fa4642df",
   "metadata": {},
   "outputs": [
    {
     "data": {
      "text/html": [
       "<div>\n",
       "<style scoped>\n",
       "    .dataframe tbody tr th:only-of-type {\n",
       "        vertical-align: middle;\n",
       "    }\n",
       "\n",
       "    .dataframe tbody tr th {\n",
       "        vertical-align: top;\n",
       "    }\n",
       "\n",
       "    .dataframe thead th {\n",
       "        text-align: right;\n",
       "    }\n",
       "</style>\n",
       "<table border=\"1\" class=\"dataframe\">\n",
       "  <thead>\n",
       "    <tr style=\"text-align: right;\">\n",
       "      <th></th>\n",
       "      <th>0</th>\n",
       "      <th>1</th>\n",
       "      <th>2</th>\n",
       "      <th>3</th>\n",
       "      <th>4</th>\n",
       "      <th>5</th>\n",
       "      <th>6</th>\n",
       "      <th>7</th>\n",
       "      <th>8</th>\n",
       "      <th>9</th>\n",
       "    </tr>\n",
       "  </thead>\n",
       "  <tbody>\n",
       "    <tr>\n",
       "      <th>0</th>\n",
       "      <td>0.409690</td>\n",
       "      <td>0.868517</td>\n",
       "      <td>0.049109</td>\n",
       "      <td>0.134596</td>\n",
       "      <td>0.299879</td>\n",
       "      <td>0.135663</td>\n",
       "      <td>0.092202</td>\n",
       "      <td>0.018927</td>\n",
       "      <td>0.802515</td>\n",
       "      <td>0.440297</td>\n",
       "    </tr>\n",
       "    <tr>\n",
       "      <th>1</th>\n",
       "      <td>0.245720</td>\n",
       "      <td>0.801806</td>\n",
       "      <td>0.003794</td>\n",
       "      <td>0.639254</td>\n",
       "      <td>0.396611</td>\n",
       "      <td>0.295762</td>\n",
       "      <td>0.460666</td>\n",
       "      <td>0.553084</td>\n",
       "      <td>0.339188</td>\n",
       "      <td>0.712575</td>\n",
       "    </tr>\n",
       "    <tr>\n",
       "      <th>2</th>\n",
       "      <td>0.059946</td>\n",
       "      <td>0.526365</td>\n",
       "      <td>0.344762</td>\n",
       "      <td>0.289995</td>\n",
       "      <td>0.673248</td>\n",
       "      <td>0.579126</td>\n",
       "      <td>0.557934</td>\n",
       "      <td>0.341882</td>\n",
       "      <td>0.268564</td>\n",
       "      <td>0.603117</td>\n",
       "    </tr>\n",
       "    <tr>\n",
       "      <th>3</th>\n",
       "      <td>0.223068</td>\n",
       "      <td>0.226674</td>\n",
       "      <td>0.854069</td>\n",
       "      <td>0.522919</td>\n",
       "      <td>0.307556</td>\n",
       "      <td>0.764577</td>\n",
       "      <td>0.230069</td>\n",
       "      <td>0.760610</td>\n",
       "      <td>0.237075</td>\n",
       "      <td>0.012849</td>\n",
       "    </tr>\n",
       "    <tr>\n",
       "      <th>6</th>\n",
       "      <td>0.197453</td>\n",
       "      <td>0.731263</td>\n",
       "      <td>0.574026</td>\n",
       "      <td>0.307627</td>\n",
       "      <td>0.344350</td>\n",
       "      <td>0.613374</td>\n",
       "      <td>0.264159</td>\n",
       "      <td>0.692262</td>\n",
       "      <td>0.762993</td>\n",
       "      <td>0.845631</td>\n",
       "    </tr>\n",
       "    <tr>\n",
       "      <th>7</th>\n",
       "      <td>0.062698</td>\n",
       "      <td>0.061622</td>\n",
       "      <td>0.385407</td>\n",
       "      <td>0.349059</td>\n",
       "      <td>0.097351</td>\n",
       "      <td>0.104884</td>\n",
       "      <td>0.309989</td>\n",
       "      <td>0.911666</td>\n",
       "      <td>0.215748</td>\n",
       "      <td>0.114635</td>\n",
       "    </tr>\n",
       "    <tr>\n",
       "      <th>8</th>\n",
       "      <td>0.730204</td>\n",
       "      <td>0.229077</td>\n",
       "      <td>0.744735</td>\n",
       "      <td>0.272963</td>\n",
       "      <td>0.791853</td>\n",
       "      <td>0.947939</td>\n",
       "      <td>0.807453</td>\n",
       "      <td>0.600870</td>\n",
       "      <td>0.732021</td>\n",
       "      <td>0.480019</td>\n",
       "    </tr>\n",
       "    <tr>\n",
       "      <th>9</th>\n",
       "      <td>0.897378</td>\n",
       "      <td>0.695498</td>\n",
       "      <td>0.745825</td>\n",
       "      <td>0.210297</td>\n",
       "      <td>0.995505</td>\n",
       "      <td>0.514125</td>\n",
       "      <td>0.101124</td>\n",
       "      <td>0.499992</td>\n",
       "      <td>0.170530</td>\n",
       "      <td>0.278642</td>\n",
       "    </tr>\n",
       "  </tbody>\n",
       "</table>\n",
       "</div>"
      ],
      "text/plain": [
       "          0         1         2         3         4         5         6  \\\n",
       "0  0.409690  0.868517  0.049109  0.134596  0.299879  0.135663  0.092202   \n",
       "1  0.245720  0.801806  0.003794  0.639254  0.396611  0.295762  0.460666   \n",
       "2  0.059946  0.526365  0.344762  0.289995  0.673248  0.579126  0.557934   \n",
       "3  0.223068  0.226674  0.854069  0.522919  0.307556  0.764577  0.230069   \n",
       "6  0.197453  0.731263  0.574026  0.307627  0.344350  0.613374  0.264159   \n",
       "7  0.062698  0.061622  0.385407  0.349059  0.097351  0.104884  0.309989   \n",
       "8  0.730204  0.229077  0.744735  0.272963  0.791853  0.947939  0.807453   \n",
       "9  0.897378  0.695498  0.745825  0.210297  0.995505  0.514125  0.101124   \n",
       "\n",
       "          7         8         9  \n",
       "0  0.018927  0.802515  0.440297  \n",
       "1  0.553084  0.339188  0.712575  \n",
       "2  0.341882  0.268564  0.603117  \n",
       "3  0.760610  0.237075  0.012849  \n",
       "6  0.692262  0.762993  0.845631  \n",
       "7  0.911666  0.215748  0.114635  \n",
       "8  0.600870  0.732021  0.480019  \n",
       "9  0.499992  0.170530  0.278642  "
      ]
     },
     "execution_count": 25,
     "metadata": {},
     "output_type": "execute_result"
    }
   ],
   "source": [
    "d2=d2.drop([4,5],axis=0) ## axis means the row and axis 1 is column here row 4,5 will deleted\n",
    "d2"
   ]
  },
  {
   "cell_type": "code",
   "execution_count": 27,
   "id": "b95f7742",
   "metadata": {},
   "outputs": [
    {
     "data": {
      "text/html": [
       "<div>\n",
       "<style scoped>\n",
       "    .dataframe tbody tr th:only-of-type {\n",
       "        vertical-align: middle;\n",
       "    }\n",
       "\n",
       "    .dataframe tbody tr th {\n",
       "        vertical-align: top;\n",
       "    }\n",
       "\n",
       "    .dataframe thead th {\n",
       "        text-align: right;\n",
       "    }\n",
       "</style>\n",
       "<table border=\"1\" class=\"dataframe\">\n",
       "  <thead>\n",
       "    <tr style=\"text-align: right;\">\n",
       "      <th></th>\n",
       "      <th>0</th>\n",
       "      <th>1</th>\n",
       "      <th>2</th>\n",
       "      <th>3</th>\n",
       "      <th>4</th>\n",
       "      <th>5</th>\n",
       "      <th>6</th>\n",
       "      <th>7</th>\n",
       "      <th>8</th>\n",
       "      <th>9</th>\n",
       "    </tr>\n",
       "  </thead>\n",
       "  <tbody>\n",
       "    <tr>\n",
       "      <th>0</th>\n",
       "      <td>0.409690</td>\n",
       "      <td>0.868517</td>\n",
       "      <td>0.049109</td>\n",
       "      <td>0.134596</td>\n",
       "      <td>0.299879</td>\n",
       "      <td>0.135663</td>\n",
       "      <td>0.092202</td>\n",
       "      <td>0.018927</td>\n",
       "      <td>0.802515</td>\n",
       "      <td>0.440297</td>\n",
       "    </tr>\n",
       "    <tr>\n",
       "      <th>1</th>\n",
       "      <td>0.245720</td>\n",
       "      <td>0.801806</td>\n",
       "      <td>0.003794</td>\n",
       "      <td>0.639254</td>\n",
       "      <td>0.396611</td>\n",
       "      <td>0.295762</td>\n",
       "      <td>0.460666</td>\n",
       "      <td>0.553084</td>\n",
       "      <td>0.339188</td>\n",
       "      <td>0.712575</td>\n",
       "    </tr>\n",
       "    <tr>\n",
       "      <th>3</th>\n",
       "      <td>0.223068</td>\n",
       "      <td>0.226674</td>\n",
       "      <td>0.854069</td>\n",
       "      <td>0.522919</td>\n",
       "      <td>0.307556</td>\n",
       "      <td>0.764577</td>\n",
       "      <td>0.230069</td>\n",
       "      <td>0.760610</td>\n",
       "      <td>0.237075</td>\n",
       "      <td>0.012849</td>\n",
       "    </tr>\n",
       "    <tr>\n",
       "      <th>6</th>\n",
       "      <td>0.197453</td>\n",
       "      <td>0.731263</td>\n",
       "      <td>0.574026</td>\n",
       "      <td>0.307627</td>\n",
       "      <td>0.344350</td>\n",
       "      <td>0.613374</td>\n",
       "      <td>0.264159</td>\n",
       "      <td>0.692262</td>\n",
       "      <td>0.762993</td>\n",
       "      <td>0.845631</td>\n",
       "    </tr>\n",
       "    <tr>\n",
       "      <th>7</th>\n",
       "      <td>0.062698</td>\n",
       "      <td>0.061622</td>\n",
       "      <td>0.385407</td>\n",
       "      <td>0.349059</td>\n",
       "      <td>0.097351</td>\n",
       "      <td>0.104884</td>\n",
       "      <td>0.309989</td>\n",
       "      <td>0.911666</td>\n",
       "      <td>0.215748</td>\n",
       "      <td>0.114635</td>\n",
       "    </tr>\n",
       "    <tr>\n",
       "      <th>8</th>\n",
       "      <td>0.730204</td>\n",
       "      <td>0.229077</td>\n",
       "      <td>0.744735</td>\n",
       "      <td>0.272963</td>\n",
       "      <td>0.791853</td>\n",
       "      <td>0.947939</td>\n",
       "      <td>0.807453</td>\n",
       "      <td>0.600870</td>\n",
       "      <td>0.732021</td>\n",
       "      <td>0.480019</td>\n",
       "    </tr>\n",
       "    <tr>\n",
       "      <th>9</th>\n",
       "      <td>0.897378</td>\n",
       "      <td>0.695498</td>\n",
       "      <td>0.745825</td>\n",
       "      <td>0.210297</td>\n",
       "      <td>0.995505</td>\n",
       "      <td>0.514125</td>\n",
       "      <td>0.101124</td>\n",
       "      <td>0.499992</td>\n",
       "      <td>0.170530</td>\n",
       "      <td>0.278642</td>\n",
       "    </tr>\n",
       "  </tbody>\n",
       "</table>\n",
       "</div>"
      ],
      "text/plain": [
       "          0         1         2         3         4         5         6  \\\n",
       "0  0.409690  0.868517  0.049109  0.134596  0.299879  0.135663  0.092202   \n",
       "1  0.245720  0.801806  0.003794  0.639254  0.396611  0.295762  0.460666   \n",
       "3  0.223068  0.226674  0.854069  0.522919  0.307556  0.764577  0.230069   \n",
       "6  0.197453  0.731263  0.574026  0.307627  0.344350  0.613374  0.264159   \n",
       "7  0.062698  0.061622  0.385407  0.349059  0.097351  0.104884  0.309989   \n",
       "8  0.730204  0.229077  0.744735  0.272963  0.791853  0.947939  0.807453   \n",
       "9  0.897378  0.695498  0.745825  0.210297  0.995505  0.514125  0.101124   \n",
       "\n",
       "          7         8         9  \n",
       "0  0.018927  0.802515  0.440297  \n",
       "1  0.553084  0.339188  0.712575  \n",
       "3  0.760610  0.237075  0.012849  \n",
       "6  0.692262  0.762993  0.845631  \n",
       "7  0.911666  0.215748  0.114635  \n",
       "8  0.600870  0.732021  0.480019  \n",
       "9  0.499992  0.170530  0.278642  "
      ]
     },
     "execution_count": 27,
     "metadata": {},
     "output_type": "execute_result"
    }
   ],
   "source": [
    "d2.drop(d2.index[2],inplace=True) ## inplace permenant change index mention the row\n",
    "d2"
   ]
  },
  {
   "cell_type": "code",
   "execution_count": 28,
   "id": "b51a83f9",
   "metadata": {},
   "outputs": [
    {
     "data": {
      "text/html": [
       "<div>\n",
       "<style scoped>\n",
       "    .dataframe tbody tr th:only-of-type {\n",
       "        vertical-align: middle;\n",
       "    }\n",
       "\n",
       "    .dataframe tbody tr th {\n",
       "        vertical-align: top;\n",
       "    }\n",
       "\n",
       "    .dataframe thead th {\n",
       "        text-align: right;\n",
       "    }\n",
       "</style>\n",
       "<table border=\"1\" class=\"dataframe\">\n",
       "  <thead>\n",
       "    <tr style=\"text-align: right;\">\n",
       "      <th></th>\n",
       "      <th>0</th>\n",
       "      <th>1</th>\n",
       "      <th>2</th>\n",
       "      <th>3</th>\n",
       "      <th>4</th>\n",
       "      <th>5</th>\n",
       "      <th>6</th>\n",
       "      <th>7</th>\n",
       "      <th>8</th>\n",
       "      <th>9</th>\n",
       "    </tr>\n",
       "  </thead>\n",
       "  <tbody>\n",
       "    <tr>\n",
       "      <th>0</th>\n",
       "      <td>0.409690</td>\n",
       "      <td>0.868517</td>\n",
       "      <td>0.049109</td>\n",
       "      <td>0.134596</td>\n",
       "      <td>0.299879</td>\n",
       "      <td>0.135663</td>\n",
       "      <td>0.092202</td>\n",
       "      <td>0.018927</td>\n",
       "      <td>0.802515</td>\n",
       "      <td>0.440297</td>\n",
       "    </tr>\n",
       "    <tr>\n",
       "      <th>1</th>\n",
       "      <td>0.245720</td>\n",
       "      <td>0.801806</td>\n",
       "      <td>0.003794</td>\n",
       "      <td>0.639254</td>\n",
       "      <td>0.396611</td>\n",
       "      <td>0.295762</td>\n",
       "      <td>0.460666</td>\n",
       "      <td>0.553084</td>\n",
       "      <td>0.339188</td>\n",
       "      <td>0.712575</td>\n",
       "    </tr>\n",
       "    <tr>\n",
       "      <th>3</th>\n",
       "      <td>0.223068</td>\n",
       "      <td>0.226674</td>\n",
       "      <td>0.854069</td>\n",
       "      <td>0.522919</td>\n",
       "      <td>0.307556</td>\n",
       "      <td>0.764577</td>\n",
       "      <td>0.230069</td>\n",
       "      <td>0.760610</td>\n",
       "      <td>0.237075</td>\n",
       "      <td>0.012849</td>\n",
       "    </tr>\n",
       "    <tr>\n",
       "      <th>6</th>\n",
       "      <td>0.197453</td>\n",
       "      <td>0.731263</td>\n",
       "      <td>0.574026</td>\n",
       "      <td>0.307627</td>\n",
       "      <td>0.344350</td>\n",
       "      <td>0.613374</td>\n",
       "      <td>0.264159</td>\n",
       "      <td>0.692262</td>\n",
       "      <td>0.762993</td>\n",
       "      <td>0.845631</td>\n",
       "    </tr>\n",
       "    <tr>\n",
       "      <th>7</th>\n",
       "      <td>0.062698</td>\n",
       "      <td>0.061622</td>\n",
       "      <td>0.385407</td>\n",
       "      <td>0.349059</td>\n",
       "      <td>0.097351</td>\n",
       "      <td>0.104884</td>\n",
       "      <td>0.309989</td>\n",
       "      <td>0.911666</td>\n",
       "      <td>0.215748</td>\n",
       "      <td>0.114635</td>\n",
       "    </tr>\n",
       "    <tr>\n",
       "      <th>8</th>\n",
       "      <td>0.730204</td>\n",
       "      <td>0.229077</td>\n",
       "      <td>0.744735</td>\n",
       "      <td>0.272963</td>\n",
       "      <td>0.791853</td>\n",
       "      <td>0.947939</td>\n",
       "      <td>0.807453</td>\n",
       "      <td>0.600870</td>\n",
       "      <td>0.732021</td>\n",
       "      <td>0.480019</td>\n",
       "    </tr>\n",
       "    <tr>\n",
       "      <th>9</th>\n",
       "      <td>0.897378</td>\n",
       "      <td>0.695498</td>\n",
       "      <td>0.745825</td>\n",
       "      <td>0.210297</td>\n",
       "      <td>0.995505</td>\n",
       "      <td>0.514125</td>\n",
       "      <td>0.101124</td>\n",
       "      <td>0.499992</td>\n",
       "      <td>0.170530</td>\n",
       "      <td>0.278642</td>\n",
       "    </tr>\n",
       "  </tbody>\n",
       "</table>\n",
       "</div>"
      ],
      "text/plain": [
       "          0         1         2         3         4         5         6  \\\n",
       "0  0.409690  0.868517  0.049109  0.134596  0.299879  0.135663  0.092202   \n",
       "1  0.245720  0.801806  0.003794  0.639254  0.396611  0.295762  0.460666   \n",
       "3  0.223068  0.226674  0.854069  0.522919  0.307556  0.764577  0.230069   \n",
       "6  0.197453  0.731263  0.574026  0.307627  0.344350  0.613374  0.264159   \n",
       "7  0.062698  0.061622  0.385407  0.349059  0.097351  0.104884  0.309989   \n",
       "8  0.730204  0.229077  0.744735  0.272963  0.791853  0.947939  0.807453   \n",
       "9  0.897378  0.695498  0.745825  0.210297  0.995505  0.514125  0.101124   \n",
       "\n",
       "          7         8         9  \n",
       "0  0.018927  0.802515  0.440297  \n",
       "1  0.553084  0.339188  0.712575  \n",
       "3  0.760610  0.237075  0.012849  \n",
       "6  0.692262  0.762993  0.845631  \n",
       "7  0.911666  0.215748  0.114635  \n",
       "8  0.600870  0.732021  0.480019  \n",
       "9  0.499992  0.170530  0.278642  "
      ]
     },
     "execution_count": 28,
     "metadata": {},
     "output_type": "execute_result"
    }
   ],
   "source": [
    "d2"
   ]
  },
  {
   "cell_type": "code",
   "execution_count": 29,
   "id": "99462b3c",
   "metadata": {},
   "outputs": [
    {
     "data": {
      "text/html": [
       "<div>\n",
       "<style scoped>\n",
       "    .dataframe tbody tr th:only-of-type {\n",
       "        vertical-align: middle;\n",
       "    }\n",
       "\n",
       "    .dataframe tbody tr th {\n",
       "        vertical-align: top;\n",
       "    }\n",
       "\n",
       "    .dataframe thead th {\n",
       "        text-align: right;\n",
       "    }\n",
       "</style>\n",
       "<table border=\"1\" class=\"dataframe\">\n",
       "  <thead>\n",
       "    <tr style=\"text-align: right;\">\n",
       "      <th></th>\n",
       "      <th>0</th>\n",
       "      <th>1</th>\n",
       "      <th>2</th>\n",
       "      <th>3</th>\n",
       "      <th>4</th>\n",
       "      <th>5</th>\n",
       "      <th>6</th>\n",
       "      <th>7</th>\n",
       "      <th>8</th>\n",
       "      <th>9</th>\n",
       "    </tr>\n",
       "  </thead>\n",
       "  <tbody>\n",
       "    <tr>\n",
       "      <th>3</th>\n",
       "      <td>0.223068</td>\n",
       "      <td>0.226674</td>\n",
       "      <td>0.854069</td>\n",
       "      <td>0.522919</td>\n",
       "      <td>0.307556</td>\n",
       "      <td>0.764577</td>\n",
       "      <td>0.230069</td>\n",
       "      <td>0.760610</td>\n",
       "      <td>0.237075</td>\n",
       "      <td>0.012849</td>\n",
       "    </tr>\n",
       "    <tr>\n",
       "      <th>6</th>\n",
       "      <td>0.197453</td>\n",
       "      <td>0.731263</td>\n",
       "      <td>0.574026</td>\n",
       "      <td>0.307627</td>\n",
       "      <td>0.344350</td>\n",
       "      <td>0.613374</td>\n",
       "      <td>0.264159</td>\n",
       "      <td>0.692262</td>\n",
       "      <td>0.762993</td>\n",
       "      <td>0.845631</td>\n",
       "    </tr>\n",
       "    <tr>\n",
       "      <th>7</th>\n",
       "      <td>0.062698</td>\n",
       "      <td>0.061622</td>\n",
       "      <td>0.385407</td>\n",
       "      <td>0.349059</td>\n",
       "      <td>0.097351</td>\n",
       "      <td>0.104884</td>\n",
       "      <td>0.309989</td>\n",
       "      <td>0.911666</td>\n",
       "      <td>0.215748</td>\n",
       "      <td>0.114635</td>\n",
       "    </tr>\n",
       "    <tr>\n",
       "      <th>8</th>\n",
       "      <td>0.730204</td>\n",
       "      <td>0.229077</td>\n",
       "      <td>0.744735</td>\n",
       "      <td>0.272963</td>\n",
       "      <td>0.791853</td>\n",
       "      <td>0.947939</td>\n",
       "      <td>0.807453</td>\n",
       "      <td>0.600870</td>\n",
       "      <td>0.732021</td>\n",
       "      <td>0.480019</td>\n",
       "    </tr>\n",
       "    <tr>\n",
       "      <th>9</th>\n",
       "      <td>0.897378</td>\n",
       "      <td>0.695498</td>\n",
       "      <td>0.745825</td>\n",
       "      <td>0.210297</td>\n",
       "      <td>0.995505</td>\n",
       "      <td>0.514125</td>\n",
       "      <td>0.101124</td>\n",
       "      <td>0.499992</td>\n",
       "      <td>0.170530</td>\n",
       "      <td>0.278642</td>\n",
       "    </tr>\n",
       "  </tbody>\n",
       "</table>\n",
       "</div>"
      ],
      "text/plain": [
       "          0         1         2         3         4         5         6  \\\n",
       "3  0.223068  0.226674  0.854069  0.522919  0.307556  0.764577  0.230069   \n",
       "6  0.197453  0.731263  0.574026  0.307627  0.344350  0.613374  0.264159   \n",
       "7  0.062698  0.061622  0.385407  0.349059  0.097351  0.104884  0.309989   \n",
       "8  0.730204  0.229077  0.744735  0.272963  0.791853  0.947939  0.807453   \n",
       "9  0.897378  0.695498  0.745825  0.210297  0.995505  0.514125  0.101124   \n",
       "\n",
       "          7         8         9  \n",
       "3  0.760610  0.237075  0.012849  \n",
       "6  0.692262  0.762993  0.845631  \n",
       "7  0.911666  0.215748  0.114635  \n",
       "8  0.600870  0.732021  0.480019  \n",
       "9  0.499992  0.170530  0.278642  "
      ]
     },
     "execution_count": 29,
     "metadata": {},
     "output_type": "execute_result"
    }
   ],
   "source": [
    "d2=d2.loc[3:,] ##loc means location here 3 mention so from 3 it is starting 1,2 is eliminated\n",
    "d2"
   ]
  },
  {
   "cell_type": "code",
   "execution_count": 30,
   "id": "591a3f78",
   "metadata": {},
   "outputs": [
    {
     "data": {
      "text/plain": [
       "0    0.197453\n",
       "1    0.731263\n",
       "2    0.574026\n",
       "3    0.307627\n",
       "4    0.344350\n",
       "5    0.613374\n",
       "6    0.264159\n",
       "7    0.692262\n",
       "8    0.762993\n",
       "9    0.845631\n",
       "Name: 6, dtype: float64"
      ]
     },
     "execution_count": 30,
     "metadata": {},
     "output_type": "execute_result"
    }
   ],
   "source": [
    "d2=d2.loc[6] ##it only taken the values in the 6 row\n",
    "d2"
   ]
  },
  {
   "cell_type": "code",
   "execution_count": 31,
   "id": "bfa52a20",
   "metadata": {},
   "outputs": [
    {
     "data": {
      "text/html": [
       "<div>\n",
       "<style scoped>\n",
       "    .dataframe tbody tr th:only-of-type {\n",
       "        vertical-align: middle;\n",
       "    }\n",
       "\n",
       "    .dataframe tbody tr th {\n",
       "        vertical-align: top;\n",
       "    }\n",
       "\n",
       "    .dataframe thead th {\n",
       "        text-align: right;\n",
       "    }\n",
       "</style>\n",
       "<table border=\"1\" class=\"dataframe\">\n",
       "  <thead>\n",
       "    <tr style=\"text-align: right;\">\n",
       "      <th></th>\n",
       "      <th>0</th>\n",
       "      <th>1</th>\n",
       "      <th>2</th>\n",
       "      <th>3</th>\n",
       "      <th>4</th>\n",
       "      <th>5</th>\n",
       "      <th>6</th>\n",
       "      <th>7</th>\n",
       "      <th>8</th>\n",
       "      <th>9</th>\n",
       "    </tr>\n",
       "  </thead>\n",
       "  <tbody>\n",
       "    <tr>\n",
       "      <th>0</th>\n",
       "      <td>0.409690</td>\n",
       "      <td>0.868517</td>\n",
       "      <td>0.049109</td>\n",
       "      <td>0.134596</td>\n",
       "      <td>0.299879</td>\n",
       "      <td>0.135663</td>\n",
       "      <td>0.092202</td>\n",
       "      <td>0.018927</td>\n",
       "      <td>0.802515</td>\n",
       "      <td>0.440297</td>\n",
       "    </tr>\n",
       "    <tr>\n",
       "      <th>1</th>\n",
       "      <td>0.245720</td>\n",
       "      <td>0.801806</td>\n",
       "      <td>0.003794</td>\n",
       "      <td>0.639254</td>\n",
       "      <td>0.396611</td>\n",
       "      <td>0.295762</td>\n",
       "      <td>0.460666</td>\n",
       "      <td>0.553084</td>\n",
       "      <td>0.339188</td>\n",
       "      <td>0.712575</td>\n",
       "    </tr>\n",
       "    <tr>\n",
       "      <th>2</th>\n",
       "      <td>0.059946</td>\n",
       "      <td>0.526365</td>\n",
       "      <td>0.344762</td>\n",
       "      <td>0.289995</td>\n",
       "      <td>0.673248</td>\n",
       "      <td>0.579126</td>\n",
       "      <td>0.557934</td>\n",
       "      <td>0.341882</td>\n",
       "      <td>0.268564</td>\n",
       "      <td>0.603117</td>\n",
       "    </tr>\n",
       "    <tr>\n",
       "      <th>3</th>\n",
       "      <td>0.223068</td>\n",
       "      <td>0.226674</td>\n",
       "      <td>0.854069</td>\n",
       "      <td>0.522919</td>\n",
       "      <td>0.307556</td>\n",
       "      <td>0.764577</td>\n",
       "      <td>0.230069</td>\n",
       "      <td>0.760610</td>\n",
       "      <td>0.237075</td>\n",
       "      <td>0.012849</td>\n",
       "    </tr>\n",
       "    <tr>\n",
       "      <th>4</th>\n",
       "      <td>0.733750</td>\n",
       "      <td>0.574466</td>\n",
       "      <td>0.311904</td>\n",
       "      <td>0.809516</td>\n",
       "      <td>0.025458</td>\n",
       "      <td>0.942154</td>\n",
       "      <td>0.229252</td>\n",
       "      <td>0.133893</td>\n",
       "      <td>0.636587</td>\n",
       "      <td>0.920332</td>\n",
       "    </tr>\n",
       "    <tr>\n",
       "      <th>5</th>\n",
       "      <td>0.705625</td>\n",
       "      <td>0.363827</td>\n",
       "      <td>0.691431</td>\n",
       "      <td>0.033354</td>\n",
       "      <td>0.364814</td>\n",
       "      <td>0.028036</td>\n",
       "      <td>0.601413</td>\n",
       "      <td>0.276933</td>\n",
       "      <td>0.762086</td>\n",
       "      <td>0.230574</td>\n",
       "    </tr>\n",
       "    <tr>\n",
       "      <th>6</th>\n",
       "      <td>0.197453</td>\n",
       "      <td>0.731263</td>\n",
       "      <td>0.574026</td>\n",
       "      <td>0.307627</td>\n",
       "      <td>0.344350</td>\n",
       "      <td>0.613374</td>\n",
       "      <td>0.264159</td>\n",
       "      <td>0.692262</td>\n",
       "      <td>0.762993</td>\n",
       "      <td>0.845631</td>\n",
       "    </tr>\n",
       "    <tr>\n",
       "      <th>7</th>\n",
       "      <td>0.062698</td>\n",
       "      <td>0.061622</td>\n",
       "      <td>0.385407</td>\n",
       "      <td>0.349059</td>\n",
       "      <td>0.097351</td>\n",
       "      <td>0.104884</td>\n",
       "      <td>0.309989</td>\n",
       "      <td>0.911666</td>\n",
       "      <td>0.215748</td>\n",
       "      <td>0.114635</td>\n",
       "    </tr>\n",
       "    <tr>\n",
       "      <th>8</th>\n",
       "      <td>0.730204</td>\n",
       "      <td>0.229077</td>\n",
       "      <td>0.744735</td>\n",
       "      <td>0.272963</td>\n",
       "      <td>0.791853</td>\n",
       "      <td>0.947939</td>\n",
       "      <td>0.807453</td>\n",
       "      <td>0.600870</td>\n",
       "      <td>0.732021</td>\n",
       "      <td>0.480019</td>\n",
       "    </tr>\n",
       "    <tr>\n",
       "      <th>9</th>\n",
       "      <td>0.897378</td>\n",
       "      <td>0.695498</td>\n",
       "      <td>0.745825</td>\n",
       "      <td>0.210297</td>\n",
       "      <td>0.995505</td>\n",
       "      <td>0.514125</td>\n",
       "      <td>0.101124</td>\n",
       "      <td>0.499992</td>\n",
       "      <td>0.170530</td>\n",
       "      <td>0.278642</td>\n",
       "    </tr>\n",
       "  </tbody>\n",
       "</table>\n",
       "</div>"
      ],
      "text/plain": [
       "          0         1         2         3         4         5         6  \\\n",
       "0  0.409690  0.868517  0.049109  0.134596  0.299879  0.135663  0.092202   \n",
       "1  0.245720  0.801806  0.003794  0.639254  0.396611  0.295762  0.460666   \n",
       "2  0.059946  0.526365  0.344762  0.289995  0.673248  0.579126  0.557934   \n",
       "3  0.223068  0.226674  0.854069  0.522919  0.307556  0.764577  0.230069   \n",
       "4  0.733750  0.574466  0.311904  0.809516  0.025458  0.942154  0.229252   \n",
       "5  0.705625  0.363827  0.691431  0.033354  0.364814  0.028036  0.601413   \n",
       "6  0.197453  0.731263  0.574026  0.307627  0.344350  0.613374  0.264159   \n",
       "7  0.062698  0.061622  0.385407  0.349059  0.097351  0.104884  0.309989   \n",
       "8  0.730204  0.229077  0.744735  0.272963  0.791853  0.947939  0.807453   \n",
       "9  0.897378  0.695498  0.745825  0.210297  0.995505  0.514125  0.101124   \n",
       "\n",
       "          7         8         9  \n",
       "0  0.018927  0.802515  0.440297  \n",
       "1  0.553084  0.339188  0.712575  \n",
       "2  0.341882  0.268564  0.603117  \n",
       "3  0.760610  0.237075  0.012849  \n",
       "4  0.133893  0.636587  0.920332  \n",
       "5  0.276933  0.762086  0.230574  \n",
       "6  0.692262  0.762993  0.845631  \n",
       "7  0.911666  0.215748  0.114635  \n",
       "8  0.600870  0.732021  0.480019  \n",
       "9  0.499992  0.170530  0.278642  "
      ]
     },
     "execution_count": 31,
     "metadata": {},
     "output_type": "execute_result"
    }
   ],
   "source": [
    "d2=pd.DataFrame(r)\n",
    "d2"
   ]
  },
  {
   "cell_type": "code",
   "execution_count": 32,
   "id": "c36529b6",
   "metadata": {},
   "outputs": [
    {
     "data": {
      "text/html": [
       "<div>\n",
       "<style scoped>\n",
       "    .dataframe tbody tr th:only-of-type {\n",
       "        vertical-align: middle;\n",
       "    }\n",
       "\n",
       "    .dataframe tbody tr th {\n",
       "        vertical-align: top;\n",
       "    }\n",
       "\n",
       "    .dataframe thead th {\n",
       "        text-align: right;\n",
       "    }\n",
       "</style>\n",
       "<table border=\"1\" class=\"dataframe\">\n",
       "  <thead>\n",
       "    <tr style=\"text-align: right;\">\n",
       "      <th></th>\n",
       "      <th>0</th>\n",
       "      <th>1</th>\n",
       "      <th>2</th>\n",
       "      <th>3</th>\n",
       "      <th>4</th>\n",
       "      <th>5</th>\n",
       "      <th>6</th>\n",
       "      <th>7</th>\n",
       "      <th>8</th>\n",
       "      <th>9</th>\n",
       "    </tr>\n",
       "  </thead>\n",
       "  <tbody>\n",
       "    <tr>\n",
       "      <th>0</th>\n",
       "      <td>0.409690</td>\n",
       "      <td>0.868517</td>\n",
       "      <td>0.049109</td>\n",
       "      <td>0.134596</td>\n",
       "      <td>0.299879</td>\n",
       "      <td>0.135663</td>\n",
       "      <td>0.092202</td>\n",
       "      <td>0.018927</td>\n",
       "      <td>0.802515</td>\n",
       "      <td>0.440297</td>\n",
       "    </tr>\n",
       "    <tr>\n",
       "      <th>1</th>\n",
       "      <td>0.245720</td>\n",
       "      <td>0.801806</td>\n",
       "      <td>0.003794</td>\n",
       "      <td>0.639254</td>\n",
       "      <td>0.396611</td>\n",
       "      <td>0.295762</td>\n",
       "      <td>0.460666</td>\n",
       "      <td>0.553084</td>\n",
       "      <td>0.339188</td>\n",
       "      <td>0.712575</td>\n",
       "    </tr>\n",
       "    <tr>\n",
       "      <th>2</th>\n",
       "      <td>0.059946</td>\n",
       "      <td>0.526365</td>\n",
       "      <td>0.344762</td>\n",
       "      <td>0.289995</td>\n",
       "      <td>0.673248</td>\n",
       "      <td>0.579126</td>\n",
       "      <td>0.557934</td>\n",
       "      <td>0.341882</td>\n",
       "      <td>0.268564</td>\n",
       "      <td>0.603117</td>\n",
       "    </tr>\n",
       "    <tr>\n",
       "      <th>3</th>\n",
       "      <td>0.223068</td>\n",
       "      <td>0.226674</td>\n",
       "      <td>0.854069</td>\n",
       "      <td>0.522919</td>\n",
       "      <td>0.307556</td>\n",
       "      <td>0.764577</td>\n",
       "      <td>0.230069</td>\n",
       "      <td>0.760610</td>\n",
       "      <td>0.237075</td>\n",
       "      <td>0.012849</td>\n",
       "    </tr>\n",
       "    <tr>\n",
       "      <th>4</th>\n",
       "      <td>0.733750</td>\n",
       "      <td>0.574466</td>\n",
       "      <td>0.311904</td>\n",
       "      <td>0.809516</td>\n",
       "      <td>0.025458</td>\n",
       "      <td>0.942154</td>\n",
       "      <td>0.229252</td>\n",
       "      <td>0.133893</td>\n",
       "      <td>0.636587</td>\n",
       "      <td>0.920332</td>\n",
       "    </tr>\n",
       "    <tr>\n",
       "      <th>5</th>\n",
       "      <td>0.705625</td>\n",
       "      <td>0.363827</td>\n",
       "      <td>0.691431</td>\n",
       "      <td>0.033354</td>\n",
       "      <td>0.364814</td>\n",
       "      <td>0.028036</td>\n",
       "      <td>0.601413</td>\n",
       "      <td>0.276933</td>\n",
       "      <td>0.762086</td>\n",
       "      <td>0.230574</td>\n",
       "    </tr>\n",
       "    <tr>\n",
       "      <th>6</th>\n",
       "      <td>0.197453</td>\n",
       "      <td>0.731263</td>\n",
       "      <td>0.574026</td>\n",
       "      <td>0.307627</td>\n",
       "      <td>0.344350</td>\n",
       "      <td>0.613374</td>\n",
       "      <td>0.264159</td>\n",
       "      <td>0.692262</td>\n",
       "      <td>0.762993</td>\n",
       "      <td>0.845631</td>\n",
       "    </tr>\n",
       "    <tr>\n",
       "      <th>7</th>\n",
       "      <td>0.062698</td>\n",
       "      <td>0.061622</td>\n",
       "      <td>0.385407</td>\n",
       "      <td>0.349059</td>\n",
       "      <td>0.097351</td>\n",
       "      <td>0.104884</td>\n",
       "      <td>0.309989</td>\n",
       "      <td>0.911666</td>\n",
       "      <td>0.215748</td>\n",
       "      <td>0.114635</td>\n",
       "    </tr>\n",
       "  </tbody>\n",
       "</table>\n",
       "</div>"
      ],
      "text/plain": [
       "          0         1         2         3         4         5         6  \\\n",
       "0  0.409690  0.868517  0.049109  0.134596  0.299879  0.135663  0.092202   \n",
       "1  0.245720  0.801806  0.003794  0.639254  0.396611  0.295762  0.460666   \n",
       "2  0.059946  0.526365  0.344762  0.289995  0.673248  0.579126  0.557934   \n",
       "3  0.223068  0.226674  0.854069  0.522919  0.307556  0.764577  0.230069   \n",
       "4  0.733750  0.574466  0.311904  0.809516  0.025458  0.942154  0.229252   \n",
       "5  0.705625  0.363827  0.691431  0.033354  0.364814  0.028036  0.601413   \n",
       "6  0.197453  0.731263  0.574026  0.307627  0.344350  0.613374  0.264159   \n",
       "7  0.062698  0.061622  0.385407  0.349059  0.097351  0.104884  0.309989   \n",
       "\n",
       "          7         8         9  \n",
       "0  0.018927  0.802515  0.440297  \n",
       "1  0.553084  0.339188  0.712575  \n",
       "2  0.341882  0.268564  0.603117  \n",
       "3  0.760610  0.237075  0.012849  \n",
       "4  0.133893  0.636587  0.920332  \n",
       "5  0.276933  0.762086  0.230574  \n",
       "6  0.692262  0.762993  0.845631  \n",
       "7  0.911666  0.215748  0.114635  "
      ]
     },
     "execution_count": 32,
     "metadata": {},
     "output_type": "execute_result"
    }
   ],
   "source": [
    "d2=d2.loc[0:7] ### it will print 0 to 7\n",
    "d2"
   ]
  },
  {
   "cell_type": "code",
   "execution_count": 33,
   "id": "7f2899a2",
   "metadata": {},
   "outputs": [
    {
     "data": {
      "text/html": [
       "<div>\n",
       "<style scoped>\n",
       "    .dataframe tbody tr th:only-of-type {\n",
       "        vertical-align: middle;\n",
       "    }\n",
       "\n",
       "    .dataframe tbody tr th {\n",
       "        vertical-align: top;\n",
       "    }\n",
       "\n",
       "    .dataframe thead th {\n",
       "        text-align: right;\n",
       "    }\n",
       "</style>\n",
       "<table border=\"1\" class=\"dataframe\">\n",
       "  <thead>\n",
       "    <tr style=\"text-align: right;\">\n",
       "      <th></th>\n",
       "      <th>0</th>\n",
       "      <th>1</th>\n",
       "      <th>2</th>\n",
       "      <th>3</th>\n",
       "      <th>4</th>\n",
       "      <th>5</th>\n",
       "      <th>6</th>\n",
       "      <th>7</th>\n",
       "      <th>8</th>\n",
       "      <th>9</th>\n",
       "    </tr>\n",
       "  </thead>\n",
       "  <tbody>\n",
       "    <tr>\n",
       "      <th>0</th>\n",
       "      <td>0.409690</td>\n",
       "      <td>0.868517</td>\n",
       "      <td>0.049109</td>\n",
       "      <td>0.134596</td>\n",
       "      <td>0.299879</td>\n",
       "      <td>0.135663</td>\n",
       "      <td>0.092202</td>\n",
       "      <td>0.018927</td>\n",
       "      <td>0.802515</td>\n",
       "      <td>0.440297</td>\n",
       "    </tr>\n",
       "    <tr>\n",
       "      <th>1</th>\n",
       "      <td>0.245720</td>\n",
       "      <td>0.801806</td>\n",
       "      <td>0.003794</td>\n",
       "      <td>0.639254</td>\n",
       "      <td>0.396611</td>\n",
       "      <td>0.295762</td>\n",
       "      <td>0.460666</td>\n",
       "      <td>0.553084</td>\n",
       "      <td>0.339188</td>\n",
       "      <td>0.712575</td>\n",
       "    </tr>\n",
       "    <tr>\n",
       "      <th>2</th>\n",
       "      <td>0.059946</td>\n",
       "      <td>0.526365</td>\n",
       "      <td>0.344762</td>\n",
       "      <td>0.289995</td>\n",
       "      <td>0.673248</td>\n",
       "      <td>0.579126</td>\n",
       "      <td>0.557934</td>\n",
       "      <td>0.341882</td>\n",
       "      <td>0.268564</td>\n",
       "      <td>0.603117</td>\n",
       "    </tr>\n",
       "    <tr>\n",
       "      <th>3</th>\n",
       "      <td>0.223068</td>\n",
       "      <td>0.226674</td>\n",
       "      <td>0.854069</td>\n",
       "      <td>0.522919</td>\n",
       "      <td>0.307556</td>\n",
       "      <td>0.764577</td>\n",
       "      <td>0.230069</td>\n",
       "      <td>0.760610</td>\n",
       "      <td>0.237075</td>\n",
       "      <td>0.012849</td>\n",
       "    </tr>\n",
       "    <tr>\n",
       "      <th>4</th>\n",
       "      <td>0.733750</td>\n",
       "      <td>0.574466</td>\n",
       "      <td>0.311904</td>\n",
       "      <td>0.809516</td>\n",
       "      <td>0.025458</td>\n",
       "      <td>0.942154</td>\n",
       "      <td>0.229252</td>\n",
       "      <td>0.133893</td>\n",
       "      <td>0.636587</td>\n",
       "      <td>0.920332</td>\n",
       "    </tr>\n",
       "    <tr>\n",
       "      <th>5</th>\n",
       "      <td>0.705625</td>\n",
       "      <td>0.363827</td>\n",
       "      <td>0.691431</td>\n",
       "      <td>0.033354</td>\n",
       "      <td>0.364814</td>\n",
       "      <td>0.028036</td>\n",
       "      <td>0.601413</td>\n",
       "      <td>0.276933</td>\n",
       "      <td>0.762086</td>\n",
       "      <td>0.230574</td>\n",
       "    </tr>\n",
       "    <tr>\n",
       "      <th>6</th>\n",
       "      <td>0.197453</td>\n",
       "      <td>0.731263</td>\n",
       "      <td>0.574026</td>\n",
       "      <td>0.307627</td>\n",
       "      <td>0.344350</td>\n",
       "      <td>0.613374</td>\n",
       "      <td>0.264159</td>\n",
       "      <td>0.692262</td>\n",
       "      <td>0.762993</td>\n",
       "      <td>0.845631</td>\n",
       "    </tr>\n",
       "    <tr>\n",
       "      <th>7</th>\n",
       "      <td>0.062698</td>\n",
       "      <td>0.061622</td>\n",
       "      <td>0.385407</td>\n",
       "      <td>0.349059</td>\n",
       "      <td>0.097351</td>\n",
       "      <td>0.104884</td>\n",
       "      <td>0.309989</td>\n",
       "      <td>0.911666</td>\n",
       "      <td>0.215748</td>\n",
       "      <td>0.114635</td>\n",
       "    </tr>\n",
       "    <tr>\n",
       "      <th>8</th>\n",
       "      <td>0.730204</td>\n",
       "      <td>0.229077</td>\n",
       "      <td>0.744735</td>\n",
       "      <td>0.272963</td>\n",
       "      <td>0.791853</td>\n",
       "      <td>0.947939</td>\n",
       "      <td>0.807453</td>\n",
       "      <td>0.600870</td>\n",
       "      <td>0.732021</td>\n",
       "      <td>0.480019</td>\n",
       "    </tr>\n",
       "    <tr>\n",
       "      <th>9</th>\n",
       "      <td>0.897378</td>\n",
       "      <td>0.695498</td>\n",
       "      <td>0.745825</td>\n",
       "      <td>0.210297</td>\n",
       "      <td>0.995505</td>\n",
       "      <td>0.514125</td>\n",
       "      <td>0.101124</td>\n",
       "      <td>0.499992</td>\n",
       "      <td>0.170530</td>\n",
       "      <td>0.278642</td>\n",
       "    </tr>\n",
       "  </tbody>\n",
       "</table>\n",
       "</div>"
      ],
      "text/plain": [
       "          0         1         2         3         4         5         6  \\\n",
       "0  0.409690  0.868517  0.049109  0.134596  0.299879  0.135663  0.092202   \n",
       "1  0.245720  0.801806  0.003794  0.639254  0.396611  0.295762  0.460666   \n",
       "2  0.059946  0.526365  0.344762  0.289995  0.673248  0.579126  0.557934   \n",
       "3  0.223068  0.226674  0.854069  0.522919  0.307556  0.764577  0.230069   \n",
       "4  0.733750  0.574466  0.311904  0.809516  0.025458  0.942154  0.229252   \n",
       "5  0.705625  0.363827  0.691431  0.033354  0.364814  0.028036  0.601413   \n",
       "6  0.197453  0.731263  0.574026  0.307627  0.344350  0.613374  0.264159   \n",
       "7  0.062698  0.061622  0.385407  0.349059  0.097351  0.104884  0.309989   \n",
       "8  0.730204  0.229077  0.744735  0.272963  0.791853  0.947939  0.807453   \n",
       "9  0.897378  0.695498  0.745825  0.210297  0.995505  0.514125  0.101124   \n",
       "\n",
       "          7         8         9  \n",
       "0  0.018927  0.802515  0.440297  \n",
       "1  0.553084  0.339188  0.712575  \n",
       "2  0.341882  0.268564  0.603117  \n",
       "3  0.760610  0.237075  0.012849  \n",
       "4  0.133893  0.636587  0.920332  \n",
       "5  0.276933  0.762086  0.230574  \n",
       "6  0.692262  0.762993  0.845631  \n",
       "7  0.911666  0.215748  0.114635  \n",
       "8  0.600870  0.732021  0.480019  \n",
       "9  0.499992  0.170530  0.278642  "
      ]
     },
     "execution_count": 33,
     "metadata": {},
     "output_type": "execute_result"
    }
   ],
   "source": [
    "d2=pd.DataFrame(r)\n",
    "d2"
   ]
  },
  {
   "cell_type": "code",
   "execution_count": 34,
   "id": "3015df19",
   "metadata": {},
   "outputs": [
    {
     "data": {
      "text/html": [
       "<div>\n",
       "<style scoped>\n",
       "    .dataframe tbody tr th:only-of-type {\n",
       "        vertical-align: middle;\n",
       "    }\n",
       "\n",
       "    .dataframe tbody tr th {\n",
       "        vertical-align: top;\n",
       "    }\n",
       "\n",
       "    .dataframe thead th {\n",
       "        text-align: right;\n",
       "    }\n",
       "</style>\n",
       "<table border=\"1\" class=\"dataframe\">\n",
       "  <thead>\n",
       "    <tr style=\"text-align: right;\">\n",
       "      <th></th>\n",
       "      <th>0</th>\n",
       "      <th>1</th>\n",
       "      <th>2</th>\n",
       "      <th>3</th>\n",
       "      <th>4</th>\n",
       "      <th>5</th>\n",
       "      <th>6</th>\n",
       "      <th>7</th>\n",
       "      <th>8</th>\n",
       "      <th>9</th>\n",
       "    </tr>\n",
       "  </thead>\n",
       "  <tbody>\n",
       "    <tr>\n",
       "      <th>6</th>\n",
       "      <td>0.197453</td>\n",
       "      <td>0.731263</td>\n",
       "      <td>0.574026</td>\n",
       "      <td>0.307627</td>\n",
       "      <td>0.344350</td>\n",
       "      <td>0.613374</td>\n",
       "      <td>0.264159</td>\n",
       "      <td>0.692262</td>\n",
       "      <td>0.762993</td>\n",
       "      <td>0.845631</td>\n",
       "    </tr>\n",
       "    <tr>\n",
       "      <th>7</th>\n",
       "      <td>0.062698</td>\n",
       "      <td>0.061622</td>\n",
       "      <td>0.385407</td>\n",
       "      <td>0.349059</td>\n",
       "      <td>0.097351</td>\n",
       "      <td>0.104884</td>\n",
       "      <td>0.309989</td>\n",
       "      <td>0.911666</td>\n",
       "      <td>0.215748</td>\n",
       "      <td>0.114635</td>\n",
       "    </tr>\n",
       "    <tr>\n",
       "      <th>8</th>\n",
       "      <td>0.730204</td>\n",
       "      <td>0.229077</td>\n",
       "      <td>0.744735</td>\n",
       "      <td>0.272963</td>\n",
       "      <td>0.791853</td>\n",
       "      <td>0.947939</td>\n",
       "      <td>0.807453</td>\n",
       "      <td>0.600870</td>\n",
       "      <td>0.732021</td>\n",
       "      <td>0.480019</td>\n",
       "    </tr>\n",
       "  </tbody>\n",
       "</table>\n",
       "</div>"
      ],
      "text/plain": [
       "          0         1         2         3         4         5         6  \\\n",
       "6  0.197453  0.731263  0.574026  0.307627  0.344350  0.613374  0.264159   \n",
       "7  0.062698  0.061622  0.385407  0.349059  0.097351  0.104884  0.309989   \n",
       "8  0.730204  0.229077  0.744735  0.272963  0.791853  0.947939  0.807453   \n",
       "\n",
       "          7         8         9  \n",
       "6  0.692262  0.762993  0.845631  \n",
       "7  0.911666  0.215748  0.114635  \n",
       "8  0.600870  0.732021  0.480019  "
      ]
     },
     "execution_count": 34,
     "metadata": {},
     "output_type": "execute_result"
    }
   ],
   "source": [
    "d2.iloc[-4:-1] ##iloc is index location"
   ]
  },
  {
   "cell_type": "code",
   "execution_count": 35,
   "id": "1d922a31",
   "metadata": {},
   "outputs": [
    {
     "data": {
      "text/html": [
       "<div>\n",
       "<style scoped>\n",
       "    .dataframe tbody tr th:only-of-type {\n",
       "        vertical-align: middle;\n",
       "    }\n",
       "\n",
       "    .dataframe tbody tr th {\n",
       "        vertical-align: top;\n",
       "    }\n",
       "\n",
       "    .dataframe thead th {\n",
       "        text-align: right;\n",
       "    }\n",
       "</style>\n",
       "<table border=\"1\" class=\"dataframe\">\n",
       "  <thead>\n",
       "    <tr style=\"text-align: right;\">\n",
       "      <th></th>\n",
       "      <th>0</th>\n",
       "      <th>1</th>\n",
       "      <th>2</th>\n",
       "      <th>3</th>\n",
       "      <th>4</th>\n",
       "      <th>5</th>\n",
       "      <th>6</th>\n",
       "      <th>7</th>\n",
       "      <th>8</th>\n",
       "      <th>9</th>\n",
       "    </tr>\n",
       "  </thead>\n",
       "  <tbody>\n",
       "    <tr>\n",
       "      <th>0</th>\n",
       "      <td>0.409690</td>\n",
       "      <td>0.868517</td>\n",
       "      <td>0.049109</td>\n",
       "      <td>0.134596</td>\n",
       "      <td>0.299879</td>\n",
       "      <td>0.135663</td>\n",
       "      <td>0.092202</td>\n",
       "      <td>0.018927</td>\n",
       "      <td>0.802515</td>\n",
       "      <td>0.440297</td>\n",
       "    </tr>\n",
       "    <tr>\n",
       "      <th>1</th>\n",
       "      <td>0.245720</td>\n",
       "      <td>0.801806</td>\n",
       "      <td>0.003794</td>\n",
       "      <td>0.639254</td>\n",
       "      <td>0.396611</td>\n",
       "      <td>0.295762</td>\n",
       "      <td>0.460666</td>\n",
       "      <td>0.553084</td>\n",
       "      <td>0.339188</td>\n",
       "      <td>0.712575</td>\n",
       "    </tr>\n",
       "    <tr>\n",
       "      <th>2</th>\n",
       "      <td>0.059946</td>\n",
       "      <td>0.526365</td>\n",
       "      <td>0.344762</td>\n",
       "      <td>0.289995</td>\n",
       "      <td>0.673248</td>\n",
       "      <td>0.579126</td>\n",
       "      <td>0.557934</td>\n",
       "      <td>0.341882</td>\n",
       "      <td>0.268564</td>\n",
       "      <td>0.603117</td>\n",
       "    </tr>\n",
       "    <tr>\n",
       "      <th>3</th>\n",
       "      <td>0.223068</td>\n",
       "      <td>0.226674</td>\n",
       "      <td>0.854069</td>\n",
       "      <td>0.522919</td>\n",
       "      <td>0.307556</td>\n",
       "      <td>0.764577</td>\n",
       "      <td>0.230069</td>\n",
       "      <td>0.760610</td>\n",
       "      <td>0.237075</td>\n",
       "      <td>0.012849</td>\n",
       "    </tr>\n",
       "    <tr>\n",
       "      <th>4</th>\n",
       "      <td>0.733750</td>\n",
       "      <td>0.574466</td>\n",
       "      <td>0.311904</td>\n",
       "      <td>0.809516</td>\n",
       "      <td>0.025458</td>\n",
       "      <td>0.942154</td>\n",
       "      <td>0.229252</td>\n",
       "      <td>0.133893</td>\n",
       "      <td>0.636587</td>\n",
       "      <td>0.920332</td>\n",
       "    </tr>\n",
       "    <tr>\n",
       "      <th>5</th>\n",
       "      <td>0.705625</td>\n",
       "      <td>0.363827</td>\n",
       "      <td>0.691431</td>\n",
       "      <td>0.033354</td>\n",
       "      <td>0.364814</td>\n",
       "      <td>0.028036</td>\n",
       "      <td>0.601413</td>\n",
       "      <td>0.276933</td>\n",
       "      <td>0.762086</td>\n",
       "      <td>0.230574</td>\n",
       "    </tr>\n",
       "    <tr>\n",
       "      <th>6</th>\n",
       "      <td>0.197453</td>\n",
       "      <td>0.731263</td>\n",
       "      <td>0.574026</td>\n",
       "      <td>0.307627</td>\n",
       "      <td>0.344350</td>\n",
       "      <td>0.613374</td>\n",
       "      <td>0.264159</td>\n",
       "      <td>0.692262</td>\n",
       "      <td>0.762993</td>\n",
       "      <td>0.845631</td>\n",
       "    </tr>\n",
       "    <tr>\n",
       "      <th>7</th>\n",
       "      <td>0.062698</td>\n",
       "      <td>0.061622</td>\n",
       "      <td>0.385407</td>\n",
       "      <td>0.349059</td>\n",
       "      <td>0.097351</td>\n",
       "      <td>0.104884</td>\n",
       "      <td>0.309989</td>\n",
       "      <td>0.911666</td>\n",
       "      <td>0.215748</td>\n",
       "      <td>0.114635</td>\n",
       "    </tr>\n",
       "    <tr>\n",
       "      <th>8</th>\n",
       "      <td>0.730204</td>\n",
       "      <td>0.229077</td>\n",
       "      <td>0.744735</td>\n",
       "      <td>0.272963</td>\n",
       "      <td>0.791853</td>\n",
       "      <td>0.947939</td>\n",
       "      <td>0.807453</td>\n",
       "      <td>0.600870</td>\n",
       "      <td>0.732021</td>\n",
       "      <td>0.480019</td>\n",
       "    </tr>\n",
       "    <tr>\n",
       "      <th>9</th>\n",
       "      <td>0.897378</td>\n",
       "      <td>0.695498</td>\n",
       "      <td>0.745825</td>\n",
       "      <td>0.210297</td>\n",
       "      <td>0.995505</td>\n",
       "      <td>0.514125</td>\n",
       "      <td>0.101124</td>\n",
       "      <td>0.499992</td>\n",
       "      <td>0.170530</td>\n",
       "      <td>0.278642</td>\n",
       "    </tr>\n",
       "  </tbody>\n",
       "</table>\n",
       "</div>"
      ],
      "text/plain": [
       "          0         1         2         3         4         5         6  \\\n",
       "0  0.409690  0.868517  0.049109  0.134596  0.299879  0.135663  0.092202   \n",
       "1  0.245720  0.801806  0.003794  0.639254  0.396611  0.295762  0.460666   \n",
       "2  0.059946  0.526365  0.344762  0.289995  0.673248  0.579126  0.557934   \n",
       "3  0.223068  0.226674  0.854069  0.522919  0.307556  0.764577  0.230069   \n",
       "4  0.733750  0.574466  0.311904  0.809516  0.025458  0.942154  0.229252   \n",
       "5  0.705625  0.363827  0.691431  0.033354  0.364814  0.028036  0.601413   \n",
       "6  0.197453  0.731263  0.574026  0.307627  0.344350  0.613374  0.264159   \n",
       "7  0.062698  0.061622  0.385407  0.349059  0.097351  0.104884  0.309989   \n",
       "8  0.730204  0.229077  0.744735  0.272963  0.791853  0.947939  0.807453   \n",
       "9  0.897378  0.695498  0.745825  0.210297  0.995505  0.514125  0.101124   \n",
       "\n",
       "          7         8         9  \n",
       "0  0.018927  0.802515  0.440297  \n",
       "1  0.553084  0.339188  0.712575  \n",
       "2  0.341882  0.268564  0.603117  \n",
       "3  0.760610  0.237075  0.012849  \n",
       "4  0.133893  0.636587  0.920332  \n",
       "5  0.276933  0.762086  0.230574  \n",
       "6  0.692262  0.762993  0.845631  \n",
       "7  0.911666  0.215748  0.114635  \n",
       "8  0.600870  0.732021  0.480019  \n",
       "9  0.499992  0.170530  0.278642  "
      ]
     },
     "execution_count": 35,
     "metadata": {},
     "output_type": "execute_result"
    }
   ],
   "source": [
    "d2=pd.DataFrame(r)\n",
    "d2"
   ]
  },
  {
   "cell_type": "code",
   "execution_count": 36,
   "id": "7a5338b7",
   "metadata": {},
   "outputs": [
    {
     "data": {
      "text/html": [
       "<div>\n",
       "<style scoped>\n",
       "    .dataframe tbody tr th:only-of-type {\n",
       "        vertical-align: middle;\n",
       "    }\n",
       "\n",
       "    .dataframe tbody tr th {\n",
       "        vertical-align: top;\n",
       "    }\n",
       "\n",
       "    .dataframe thead th {\n",
       "        text-align: right;\n",
       "    }\n",
       "</style>\n",
       "<table border=\"1\" class=\"dataframe\">\n",
       "  <thead>\n",
       "    <tr style=\"text-align: right;\">\n",
       "      <th></th>\n",
       "      <th>0</th>\n",
       "      <th>1</th>\n",
       "      <th>2</th>\n",
       "      <th>3</th>\n",
       "      <th>4</th>\n",
       "      <th>5</th>\n",
       "      <th>6</th>\n",
       "      <th>7</th>\n",
       "      <th>8</th>\n",
       "      <th>9</th>\n",
       "    </tr>\n",
       "  </thead>\n",
       "  <tbody>\n",
       "    <tr>\n",
       "      <th>1</th>\n",
       "      <td>0.245720</td>\n",
       "      <td>0.801806</td>\n",
       "      <td>0.003794</td>\n",
       "      <td>0.639254</td>\n",
       "      <td>0.396611</td>\n",
       "      <td>0.295762</td>\n",
       "      <td>0.460666</td>\n",
       "      <td>0.553084</td>\n",
       "      <td>0.339188</td>\n",
       "      <td>0.712575</td>\n",
       "    </tr>\n",
       "    <tr>\n",
       "      <th>2</th>\n",
       "      <td>0.059946</td>\n",
       "      <td>0.526365</td>\n",
       "      <td>0.344762</td>\n",
       "      <td>0.289995</td>\n",
       "      <td>0.673248</td>\n",
       "      <td>0.579126</td>\n",
       "      <td>0.557934</td>\n",
       "      <td>0.341882</td>\n",
       "      <td>0.268564</td>\n",
       "      <td>0.603117</td>\n",
       "    </tr>\n",
       "    <tr>\n",
       "      <th>3</th>\n",
       "      <td>0.223068</td>\n",
       "      <td>0.226674</td>\n",
       "      <td>0.854069</td>\n",
       "      <td>0.522919</td>\n",
       "      <td>0.307556</td>\n",
       "      <td>0.764577</td>\n",
       "      <td>0.230069</td>\n",
       "      <td>0.760610</td>\n",
       "      <td>0.237075</td>\n",
       "      <td>0.012849</td>\n",
       "    </tr>\n",
       "  </tbody>\n",
       "</table>\n",
       "</div>"
      ],
      "text/plain": [
       "          0         1         2         3         4         5         6  \\\n",
       "1  0.245720  0.801806  0.003794  0.639254  0.396611  0.295762  0.460666   \n",
       "2  0.059946  0.526365  0.344762  0.289995  0.673248  0.579126  0.557934   \n",
       "3  0.223068  0.226674  0.854069  0.522919  0.307556  0.764577  0.230069   \n",
       "\n",
       "          7         8         9  \n",
       "1  0.553084  0.339188  0.712575  \n",
       "2  0.341882  0.268564  0.603117  \n",
       "3  0.760610  0.237075  0.012849  "
      ]
     },
     "execution_count": 36,
     "metadata": {},
     "output_type": "execute_result"
    }
   ],
   "source": [
    "d2.iloc[1:4]"
   ]
  },
  {
   "cell_type": "code",
   "execution_count": 37,
   "id": "4d1ba1f2",
   "metadata": {},
   "outputs": [
    {
     "data": {
      "text/html": [
       "<div>\n",
       "<style scoped>\n",
       "    .dataframe tbody tr th:only-of-type {\n",
       "        vertical-align: middle;\n",
       "    }\n",
       "\n",
       "    .dataframe tbody tr th {\n",
       "        vertical-align: top;\n",
       "    }\n",
       "\n",
       "    .dataframe thead th {\n",
       "        text-align: right;\n",
       "    }\n",
       "</style>\n",
       "<table border=\"1\" class=\"dataframe\">\n",
       "  <thead>\n",
       "    <tr style=\"text-align: right;\">\n",
       "      <th></th>\n",
       "      <th>0</th>\n",
       "      <th>1</th>\n",
       "      <th>2</th>\n",
       "      <th>3</th>\n",
       "      <th>4</th>\n",
       "      <th>5</th>\n",
       "      <th>6</th>\n",
       "      <th>7</th>\n",
       "      <th>8</th>\n",
       "      <th>9</th>\n",
       "    </tr>\n",
       "  </thead>\n",
       "  <tbody>\n",
       "    <tr>\n",
       "      <th>0</th>\n",
       "      <td>0.409690</td>\n",
       "      <td>0.868517</td>\n",
       "      <td>0.049109</td>\n",
       "      <td>0.134596</td>\n",
       "      <td>0.299879</td>\n",
       "      <td>0.135663</td>\n",
       "      <td>0.092202</td>\n",
       "      <td>0.018927</td>\n",
       "      <td>0.802515</td>\n",
       "      <td>0.440297</td>\n",
       "    </tr>\n",
       "    <tr>\n",
       "      <th>1</th>\n",
       "      <td>0.245720</td>\n",
       "      <td>0.801806</td>\n",
       "      <td>0.003794</td>\n",
       "      <td>0.639254</td>\n",
       "      <td>0.396611</td>\n",
       "      <td>0.295762</td>\n",
       "      <td>0.460666</td>\n",
       "      <td>0.553084</td>\n",
       "      <td>0.339188</td>\n",
       "      <td>0.712575</td>\n",
       "    </tr>\n",
       "    <tr>\n",
       "      <th>2</th>\n",
       "      <td>0.059946</td>\n",
       "      <td>0.526365</td>\n",
       "      <td>0.344762</td>\n",
       "      <td>0.289995</td>\n",
       "      <td>0.673248</td>\n",
       "      <td>0.579126</td>\n",
       "      <td>0.557934</td>\n",
       "      <td>0.341882</td>\n",
       "      <td>0.268564</td>\n",
       "      <td>0.603117</td>\n",
       "    </tr>\n",
       "    <tr>\n",
       "      <th>3</th>\n",
       "      <td>0.223068</td>\n",
       "      <td>0.226674</td>\n",
       "      <td>0.854069</td>\n",
       "      <td>0.522919</td>\n",
       "      <td>0.307556</td>\n",
       "      <td>0.764577</td>\n",
       "      <td>0.230069</td>\n",
       "      <td>0.760610</td>\n",
       "      <td>0.237075</td>\n",
       "      <td>0.012849</td>\n",
       "    </tr>\n",
       "    <tr>\n",
       "      <th>4</th>\n",
       "      <td>0.733750</td>\n",
       "      <td>0.574466</td>\n",
       "      <td>0.311904</td>\n",
       "      <td>0.809516</td>\n",
       "      <td>0.025458</td>\n",
       "      <td>0.942154</td>\n",
       "      <td>0.229252</td>\n",
       "      <td>0.133893</td>\n",
       "      <td>0.636587</td>\n",
       "      <td>0.920332</td>\n",
       "    </tr>\n",
       "    <tr>\n",
       "      <th>5</th>\n",
       "      <td>0.705625</td>\n",
       "      <td>0.363827</td>\n",
       "      <td>0.691431</td>\n",
       "      <td>0.033354</td>\n",
       "      <td>0.364814</td>\n",
       "      <td>0.028036</td>\n",
       "      <td>0.601413</td>\n",
       "      <td>0.276933</td>\n",
       "      <td>0.762086</td>\n",
       "      <td>0.230574</td>\n",
       "    </tr>\n",
       "    <tr>\n",
       "      <th>6</th>\n",
       "      <td>0.197453</td>\n",
       "      <td>0.731263</td>\n",
       "      <td>0.574026</td>\n",
       "      <td>0.307627</td>\n",
       "      <td>0.344350</td>\n",
       "      <td>0.613374</td>\n",
       "      <td>0.264159</td>\n",
       "      <td>0.692262</td>\n",
       "      <td>0.762993</td>\n",
       "      <td>0.845631</td>\n",
       "    </tr>\n",
       "    <tr>\n",
       "      <th>7</th>\n",
       "      <td>0.062698</td>\n",
       "      <td>0.061622</td>\n",
       "      <td>0.385407</td>\n",
       "      <td>0.349059</td>\n",
       "      <td>0.097351</td>\n",
       "      <td>0.104884</td>\n",
       "      <td>0.309989</td>\n",
       "      <td>0.911666</td>\n",
       "      <td>0.215748</td>\n",
       "      <td>0.114635</td>\n",
       "    </tr>\n",
       "    <tr>\n",
       "      <th>8</th>\n",
       "      <td>0.730204</td>\n",
       "      <td>0.229077</td>\n",
       "      <td>0.744735</td>\n",
       "      <td>0.272963</td>\n",
       "      <td>0.791853</td>\n",
       "      <td>0.947939</td>\n",
       "      <td>0.807453</td>\n",
       "      <td>0.600870</td>\n",
       "      <td>0.732021</td>\n",
       "      <td>0.480019</td>\n",
       "    </tr>\n",
       "    <tr>\n",
       "      <th>9</th>\n",
       "      <td>0.897378</td>\n",
       "      <td>0.695498</td>\n",
       "      <td>0.745825</td>\n",
       "      <td>0.210297</td>\n",
       "      <td>0.995505</td>\n",
       "      <td>0.514125</td>\n",
       "      <td>0.101124</td>\n",
       "      <td>0.499992</td>\n",
       "      <td>0.170530</td>\n",
       "      <td>0.278642</td>\n",
       "    </tr>\n",
       "  </tbody>\n",
       "</table>\n",
       "</div>"
      ],
      "text/plain": [
       "          0         1         2         3         4         5         6  \\\n",
       "0  0.409690  0.868517  0.049109  0.134596  0.299879  0.135663  0.092202   \n",
       "1  0.245720  0.801806  0.003794  0.639254  0.396611  0.295762  0.460666   \n",
       "2  0.059946  0.526365  0.344762  0.289995  0.673248  0.579126  0.557934   \n",
       "3  0.223068  0.226674  0.854069  0.522919  0.307556  0.764577  0.230069   \n",
       "4  0.733750  0.574466  0.311904  0.809516  0.025458  0.942154  0.229252   \n",
       "5  0.705625  0.363827  0.691431  0.033354  0.364814  0.028036  0.601413   \n",
       "6  0.197453  0.731263  0.574026  0.307627  0.344350  0.613374  0.264159   \n",
       "7  0.062698  0.061622  0.385407  0.349059  0.097351  0.104884  0.309989   \n",
       "8  0.730204  0.229077  0.744735  0.272963  0.791853  0.947939  0.807453   \n",
       "9  0.897378  0.695498  0.745825  0.210297  0.995505  0.514125  0.101124   \n",
       "\n",
       "          7         8         9  \n",
       "0  0.018927  0.802515  0.440297  \n",
       "1  0.553084  0.339188  0.712575  \n",
       "2  0.341882  0.268564  0.603117  \n",
       "3  0.760610  0.237075  0.012849  \n",
       "4  0.133893  0.636587  0.920332  \n",
       "5  0.276933  0.762086  0.230574  \n",
       "6  0.692262  0.762993  0.845631  \n",
       "7  0.911666  0.215748  0.114635  \n",
       "8  0.600870  0.732021  0.480019  \n",
       "9  0.499992  0.170530  0.278642  "
      ]
     },
     "execution_count": 37,
     "metadata": {},
     "output_type": "execute_result"
    }
   ],
   "source": [
    "d2"
   ]
  },
  {
   "cell_type": "code",
   "execution_count": 38,
   "id": "a0408b9f",
   "metadata": {},
   "outputs": [
    {
     "data": {
      "text/plain": [
       "0    0.705625\n",
       "1    0.363827\n",
       "2    0.691431\n",
       "3    0.033354\n",
       "4    0.364814\n",
       "5    0.028036\n",
       "6    0.601413\n",
       "7    0.276933\n",
       "8    0.762086\n",
       "9    0.230574\n",
       "Name: 5, dtype: float64"
      ]
     },
     "execution_count": 38,
     "metadata": {},
     "output_type": "execute_result"
    }
   ],
   "source": [
    "d2.loc[5] ## loc for location"
   ]
  },
  {
   "cell_type": "code",
   "execution_count": 39,
   "id": "60911585",
   "metadata": {},
   "outputs": [
    {
     "data": {
      "text/plain": [
       "0    0.705625\n",
       "1    0.363827\n",
       "2    0.691431\n",
       "3    0.033354\n",
       "4    0.364814\n",
       "5    0.028036\n",
       "6    0.601413\n",
       "7    0.276933\n",
       "8    0.762086\n",
       "9    0.230574\n",
       "Name: 5, dtype: float64"
      ]
     },
     "execution_count": 39,
     "metadata": {},
     "output_type": "execute_result"
    }
   ],
   "source": [
    "d2.iloc[5] ##iloc for index location"
   ]
  },
  {
   "cell_type": "markdown",
   "id": "72233c66",
   "metadata": {},
   "source": [
    "### data selection"
   ]
  },
  {
   "cell_type": "code",
   "execution_count": 41,
   "id": "7fc16a3b",
   "metadata": {},
   "outputs": [
    {
     "data": {
      "text/html": [
       "<div>\n",
       "<style scoped>\n",
       "    .dataframe tbody tr th:only-of-type {\n",
       "        vertical-align: middle;\n",
       "    }\n",
       "\n",
       "    .dataframe tbody tr th {\n",
       "        vertical-align: top;\n",
       "    }\n",
       "\n",
       "    .dataframe thead th {\n",
       "        text-align: right;\n",
       "    }\n",
       "</style>\n",
       "<table border=\"1\" class=\"dataframe\">\n",
       "  <thead>\n",
       "    <tr style=\"text-align: right;\">\n",
       "      <th></th>\n",
       "      <th>ID</th>\n",
       "      <th>name</th>\n",
       "    </tr>\n",
       "  </thead>\n",
       "  <tbody>\n",
       "    <tr>\n",
       "      <th>0</th>\n",
       "      <td>1</td>\n",
       "      <td>divya</td>\n",
       "    </tr>\n",
       "    <tr>\n",
       "      <th>1</th>\n",
       "      <td>2</td>\n",
       "      <td>athu</td>\n",
       "    </tr>\n",
       "    <tr>\n",
       "      <th>2</th>\n",
       "      <td>3</td>\n",
       "      <td>chippy</td>\n",
       "    </tr>\n",
       "    <tr>\n",
       "      <th>3</th>\n",
       "      <td>4</td>\n",
       "      <td>sree</td>\n",
       "    </tr>\n",
       "  </tbody>\n",
       "</table>\n",
       "</div>"
      ],
      "text/plain": [
       "   ID    name\n",
       "0   1   divya\n",
       "1   2    athu\n",
       "2   3  chippy\n",
       "3   4    sree"
      ]
     },
     "execution_count": 41,
     "metadata": {},
     "output_type": "execute_result"
    }
   ],
   "source": [
    "d1=pd.DataFrame({\"ID\":[1,2,3,4],\"name\":[\"divya\",\"athu\",\"chippy\",\"sree\"]})\n",
    "d1"
   ]
  },
  {
   "cell_type": "code",
   "execution_count": 42,
   "id": "b25d270a",
   "metadata": {},
   "outputs": [
    {
     "data": {
      "text/html": [
       "<div>\n",
       "<style scoped>\n",
       "    .dataframe tbody tr th:only-of-type {\n",
       "        vertical-align: middle;\n",
       "    }\n",
       "\n",
       "    .dataframe tbody tr th {\n",
       "        vertical-align: top;\n",
       "    }\n",
       "\n",
       "    .dataframe thead th {\n",
       "        text-align: right;\n",
       "    }\n",
       "</style>\n",
       "<table border=\"1\" class=\"dataframe\">\n",
       "  <thead>\n",
       "    <tr style=\"text-align: right;\">\n",
       "      <th></th>\n",
       "      <th>ID</th>\n",
       "      <th>name</th>\n",
       "    </tr>\n",
       "  </thead>\n",
       "  <tbody>\n",
       "    <tr>\n",
       "      <th>A</th>\n",
       "      <td>1</td>\n",
       "      <td>divya</td>\n",
       "    </tr>\n",
       "    <tr>\n",
       "      <th>B</th>\n",
       "      <td>2</td>\n",
       "      <td>athu</td>\n",
       "    </tr>\n",
       "    <tr>\n",
       "      <th>C</th>\n",
       "      <td>3</td>\n",
       "      <td>chippy</td>\n",
       "    </tr>\n",
       "    <tr>\n",
       "      <th>D</th>\n",
       "      <td>4</td>\n",
       "      <td>sree</td>\n",
       "    </tr>\n",
       "  </tbody>\n",
       "</table>\n",
       "</div>"
      ],
      "text/plain": [
       "   ID    name\n",
       "A   1   divya\n",
       "B   2    athu\n",
       "C   3  chippy\n",
       "D   4    sree"
      ]
     },
     "execution_count": 42,
     "metadata": {},
     "output_type": "execute_result"
    }
   ],
   "source": [
    "d1.index=[\"A\",\"B\",\"C\",\"D\"]\n",
    "d1"
   ]
  },
  {
   "cell_type": "code",
   "execution_count": 43,
   "id": "bddb6f1f",
   "metadata": {},
   "outputs": [
    {
     "data": {
      "text/plain": [
       "ID          1\n",
       "name    divya\n",
       "Name: A, dtype: object"
      ]
     },
     "execution_count": 43,
     "metadata": {},
     "output_type": "execute_result"
    }
   ],
   "source": [
    "d1.loc[\"A\"]"
   ]
  },
  {
   "cell_type": "code",
   "execution_count": 44,
   "id": "5d1bb316",
   "metadata": {},
   "outputs": [
    {
     "ename": "KeyError",
     "evalue": "0",
     "output_type": "error",
     "traceback": [
      "\u001b[1;31m---------------------------------------------------------------------------\u001b[0m",
      "\u001b[1;31mKeyError\u001b[0m                                  Traceback (most recent call last)",
      "File \u001b[1;32m~\\anaconda3\\lib\\site-packages\\pandas\\core\\indexes\\base.py:3621\u001b[0m, in \u001b[0;36mIndex.get_loc\u001b[1;34m(self, key, method, tolerance)\u001b[0m\n\u001b[0;32m   3620\u001b[0m \u001b[38;5;28;01mtry\u001b[39;00m:\n\u001b[1;32m-> 3621\u001b[0m     \u001b[38;5;28;01mreturn\u001b[39;00m \u001b[38;5;28;43mself\u001b[39;49m\u001b[38;5;241;43m.\u001b[39;49m\u001b[43m_engine\u001b[49m\u001b[38;5;241;43m.\u001b[39;49m\u001b[43mget_loc\u001b[49m\u001b[43m(\u001b[49m\u001b[43mcasted_key\u001b[49m\u001b[43m)\u001b[49m\n\u001b[0;32m   3622\u001b[0m \u001b[38;5;28;01mexcept\u001b[39;00m \u001b[38;5;167;01mKeyError\u001b[39;00m \u001b[38;5;28;01mas\u001b[39;00m err:\n",
      "File \u001b[1;32m~\\anaconda3\\lib\\site-packages\\pandas\\_libs\\index.pyx:136\u001b[0m, in \u001b[0;36mpandas._libs.index.IndexEngine.get_loc\u001b[1;34m()\u001b[0m\n",
      "File \u001b[1;32m~\\anaconda3\\lib\\site-packages\\pandas\\_libs\\index.pyx:163\u001b[0m, in \u001b[0;36mpandas._libs.index.IndexEngine.get_loc\u001b[1;34m()\u001b[0m\n",
      "File \u001b[1;32mpandas\\_libs\\hashtable_class_helper.pxi:5198\u001b[0m, in \u001b[0;36mpandas._libs.hashtable.PyObjectHashTable.get_item\u001b[1;34m()\u001b[0m\n",
      "File \u001b[1;32mpandas\\_libs\\hashtable_class_helper.pxi:5206\u001b[0m, in \u001b[0;36mpandas._libs.hashtable.PyObjectHashTable.get_item\u001b[1;34m()\u001b[0m\n",
      "\u001b[1;31mKeyError\u001b[0m: 0",
      "\nThe above exception was the direct cause of the following exception:\n",
      "\u001b[1;31mKeyError\u001b[0m                                  Traceback (most recent call last)",
      "Input \u001b[1;32mIn [44]\u001b[0m, in \u001b[0;36m<cell line: 1>\u001b[1;34m()\u001b[0m\n\u001b[1;32m----> 1\u001b[0m \u001b[43md1\u001b[49m\u001b[38;5;241;43m.\u001b[39;49m\u001b[43mloc\u001b[49m\u001b[43m[\u001b[49m\u001b[38;5;241;43m0\u001b[39;49m\u001b[43m]\u001b[49m\n",
      "File \u001b[1;32m~\\anaconda3\\lib\\site-packages\\pandas\\core\\indexing.py:967\u001b[0m, in \u001b[0;36m_LocationIndexer.__getitem__\u001b[1;34m(self, key)\u001b[0m\n\u001b[0;32m    964\u001b[0m axis \u001b[38;5;241m=\u001b[39m \u001b[38;5;28mself\u001b[39m\u001b[38;5;241m.\u001b[39maxis \u001b[38;5;129;01mor\u001b[39;00m \u001b[38;5;241m0\u001b[39m\n\u001b[0;32m    966\u001b[0m maybe_callable \u001b[38;5;241m=\u001b[39m com\u001b[38;5;241m.\u001b[39mapply_if_callable(key, \u001b[38;5;28mself\u001b[39m\u001b[38;5;241m.\u001b[39mobj)\n\u001b[1;32m--> 967\u001b[0m \u001b[38;5;28;01mreturn\u001b[39;00m \u001b[38;5;28;43mself\u001b[39;49m\u001b[38;5;241;43m.\u001b[39;49m\u001b[43m_getitem_axis\u001b[49m\u001b[43m(\u001b[49m\u001b[43mmaybe_callable\u001b[49m\u001b[43m,\u001b[49m\u001b[43m \u001b[49m\u001b[43maxis\u001b[49m\u001b[38;5;241;43m=\u001b[39;49m\u001b[43maxis\u001b[49m\u001b[43m)\u001b[49m\n",
      "File \u001b[1;32m~\\anaconda3\\lib\\site-packages\\pandas\\core\\indexing.py:1202\u001b[0m, in \u001b[0;36m_LocIndexer._getitem_axis\u001b[1;34m(self, key, axis)\u001b[0m\n\u001b[0;32m   1200\u001b[0m \u001b[38;5;66;03m# fall thru to straight lookup\u001b[39;00m\n\u001b[0;32m   1201\u001b[0m \u001b[38;5;28mself\u001b[39m\u001b[38;5;241m.\u001b[39m_validate_key(key, axis)\n\u001b[1;32m-> 1202\u001b[0m \u001b[38;5;28;01mreturn\u001b[39;00m \u001b[38;5;28;43mself\u001b[39;49m\u001b[38;5;241;43m.\u001b[39;49m\u001b[43m_get_label\u001b[49m\u001b[43m(\u001b[49m\u001b[43mkey\u001b[49m\u001b[43m,\u001b[49m\u001b[43m \u001b[49m\u001b[43maxis\u001b[49m\u001b[38;5;241;43m=\u001b[39;49m\u001b[43maxis\u001b[49m\u001b[43m)\u001b[49m\n",
      "File \u001b[1;32m~\\anaconda3\\lib\\site-packages\\pandas\\core\\indexing.py:1153\u001b[0m, in \u001b[0;36m_LocIndexer._get_label\u001b[1;34m(self, label, axis)\u001b[0m\n\u001b[0;32m   1151\u001b[0m \u001b[38;5;28;01mdef\u001b[39;00m \u001b[38;5;21m_get_label\u001b[39m(\u001b[38;5;28mself\u001b[39m, label, axis: \u001b[38;5;28mint\u001b[39m):\n\u001b[0;32m   1152\u001b[0m     \u001b[38;5;66;03m# GH#5667 this will fail if the label is not present in the axis.\u001b[39;00m\n\u001b[1;32m-> 1153\u001b[0m     \u001b[38;5;28;01mreturn\u001b[39;00m \u001b[38;5;28;43mself\u001b[39;49m\u001b[38;5;241;43m.\u001b[39;49m\u001b[43mobj\u001b[49m\u001b[38;5;241;43m.\u001b[39;49m\u001b[43mxs\u001b[49m\u001b[43m(\u001b[49m\u001b[43mlabel\u001b[49m\u001b[43m,\u001b[49m\u001b[43m \u001b[49m\u001b[43maxis\u001b[49m\u001b[38;5;241;43m=\u001b[39;49m\u001b[43maxis\u001b[49m\u001b[43m)\u001b[49m\n",
      "File \u001b[1;32m~\\anaconda3\\lib\\site-packages\\pandas\\core\\generic.py:3864\u001b[0m, in \u001b[0;36mNDFrame.xs\u001b[1;34m(self, key, axis, level, drop_level)\u001b[0m\n\u001b[0;32m   3862\u001b[0m             new_index \u001b[38;5;241m=\u001b[39m index[loc]\n\u001b[0;32m   3863\u001b[0m \u001b[38;5;28;01melse\u001b[39;00m:\n\u001b[1;32m-> 3864\u001b[0m     loc \u001b[38;5;241m=\u001b[39m \u001b[43mindex\u001b[49m\u001b[38;5;241;43m.\u001b[39;49m\u001b[43mget_loc\u001b[49m\u001b[43m(\u001b[49m\u001b[43mkey\u001b[49m\u001b[43m)\u001b[49m\n\u001b[0;32m   3866\u001b[0m     \u001b[38;5;28;01mif\u001b[39;00m \u001b[38;5;28misinstance\u001b[39m(loc, np\u001b[38;5;241m.\u001b[39mndarray):\n\u001b[0;32m   3867\u001b[0m         \u001b[38;5;28;01mif\u001b[39;00m loc\u001b[38;5;241m.\u001b[39mdtype \u001b[38;5;241m==\u001b[39m np\u001b[38;5;241m.\u001b[39mbool_:\n",
      "File \u001b[1;32m~\\anaconda3\\lib\\site-packages\\pandas\\core\\indexes\\base.py:3623\u001b[0m, in \u001b[0;36mIndex.get_loc\u001b[1;34m(self, key, method, tolerance)\u001b[0m\n\u001b[0;32m   3621\u001b[0m     \u001b[38;5;28;01mreturn\u001b[39;00m \u001b[38;5;28mself\u001b[39m\u001b[38;5;241m.\u001b[39m_engine\u001b[38;5;241m.\u001b[39mget_loc(casted_key)\n\u001b[0;32m   3622\u001b[0m \u001b[38;5;28;01mexcept\u001b[39;00m \u001b[38;5;167;01mKeyError\u001b[39;00m \u001b[38;5;28;01mas\u001b[39;00m err:\n\u001b[1;32m-> 3623\u001b[0m     \u001b[38;5;28;01mraise\u001b[39;00m \u001b[38;5;167;01mKeyError\u001b[39;00m(key) \u001b[38;5;28;01mfrom\u001b[39;00m \u001b[38;5;21;01merr\u001b[39;00m\n\u001b[0;32m   3624\u001b[0m \u001b[38;5;28;01mexcept\u001b[39;00m \u001b[38;5;167;01mTypeError\u001b[39;00m:\n\u001b[0;32m   3625\u001b[0m     \u001b[38;5;66;03m# If we have a listlike key, _check_indexing_error will raise\u001b[39;00m\n\u001b[0;32m   3626\u001b[0m     \u001b[38;5;66;03m#  InvalidIndexError. Otherwise we fall through and re-raise\u001b[39;00m\n\u001b[0;32m   3627\u001b[0m     \u001b[38;5;66;03m#  the TypeError.\u001b[39;00m\n\u001b[0;32m   3628\u001b[0m     \u001b[38;5;28mself\u001b[39m\u001b[38;5;241m.\u001b[39m_check_indexing_error(key)\n",
      "\u001b[1;31mKeyError\u001b[0m: 0"
     ]
    }
   ],
   "source": [
    "d1.loc[0]"
   ]
  },
  {
   "cell_type": "code",
   "execution_count": 45,
   "id": "ad132453",
   "metadata": {},
   "outputs": [
    {
     "data": {
      "text/plain": [
       "ID          1\n",
       "name    divya\n",
       "Name: A, dtype: object"
      ]
     },
     "execution_count": 45,
     "metadata": {},
     "output_type": "execute_result"
    }
   ],
   "source": [
    "d1.iloc[0] ##data selection using postion(integer index based)"
   ]
  },
  {
   "cell_type": "code",
   "execution_count": 46,
   "id": "6f26029f",
   "metadata": {},
   "outputs": [
    {
     "ename": "TypeError",
     "evalue": "Cannot index by location index with a non-integer key",
     "output_type": "error",
     "traceback": [
      "\u001b[1;31m---------------------------------------------------------------------------\u001b[0m",
      "\u001b[1;31mTypeError\u001b[0m                                 Traceback (most recent call last)",
      "Input \u001b[1;32mIn [46]\u001b[0m, in \u001b[0;36m<cell line: 1>\u001b[1;34m()\u001b[0m\n\u001b[1;32m----> 1\u001b[0m \u001b[43md1\u001b[49m\u001b[38;5;241;43m.\u001b[39;49m\u001b[43miloc\u001b[49m\u001b[43m[\u001b[49m\u001b[38;5;124;43m\"\u001b[39;49m\u001b[38;5;124;43mA\u001b[39;49m\u001b[38;5;124;43m\"\u001b[39;49m\u001b[43m]\u001b[49m\n",
      "File \u001b[1;32m~\\anaconda3\\lib\\site-packages\\pandas\\core\\indexing.py:967\u001b[0m, in \u001b[0;36m_LocationIndexer.__getitem__\u001b[1;34m(self, key)\u001b[0m\n\u001b[0;32m    964\u001b[0m axis \u001b[38;5;241m=\u001b[39m \u001b[38;5;28mself\u001b[39m\u001b[38;5;241m.\u001b[39maxis \u001b[38;5;129;01mor\u001b[39;00m \u001b[38;5;241m0\u001b[39m\n\u001b[0;32m    966\u001b[0m maybe_callable \u001b[38;5;241m=\u001b[39m com\u001b[38;5;241m.\u001b[39mapply_if_callable(key, \u001b[38;5;28mself\u001b[39m\u001b[38;5;241m.\u001b[39mobj)\n\u001b[1;32m--> 967\u001b[0m \u001b[38;5;28;01mreturn\u001b[39;00m \u001b[38;5;28;43mself\u001b[39;49m\u001b[38;5;241;43m.\u001b[39;49m\u001b[43m_getitem_axis\u001b[49m\u001b[43m(\u001b[49m\u001b[43mmaybe_callable\u001b[49m\u001b[43m,\u001b[49m\u001b[43m \u001b[49m\u001b[43maxis\u001b[49m\u001b[38;5;241;43m=\u001b[39;49m\u001b[43maxis\u001b[49m\u001b[43m)\u001b[49m\n",
      "File \u001b[1;32m~\\anaconda3\\lib\\site-packages\\pandas\\core\\indexing.py:1517\u001b[0m, in \u001b[0;36m_iLocIndexer._getitem_axis\u001b[1;34m(self, key, axis)\u001b[0m\n\u001b[0;32m   1515\u001b[0m key \u001b[38;5;241m=\u001b[39m item_from_zerodim(key)\n\u001b[0;32m   1516\u001b[0m \u001b[38;5;28;01mif\u001b[39;00m \u001b[38;5;129;01mnot\u001b[39;00m is_integer(key):\n\u001b[1;32m-> 1517\u001b[0m     \u001b[38;5;28;01mraise\u001b[39;00m \u001b[38;5;167;01mTypeError\u001b[39;00m(\u001b[38;5;124m\"\u001b[39m\u001b[38;5;124mCannot index by location index with a non-integer key\u001b[39m\u001b[38;5;124m\"\u001b[39m)\n\u001b[0;32m   1519\u001b[0m \u001b[38;5;66;03m# validate the location\u001b[39;00m\n\u001b[0;32m   1520\u001b[0m \u001b[38;5;28mself\u001b[39m\u001b[38;5;241m.\u001b[39m_validate_integer(key, axis)\n",
      "\u001b[1;31mTypeError\u001b[0m: Cannot index by location index with a non-integer key"
     ]
    }
   ],
   "source": [
    "d1.iloc[\"A\"]"
   ]
  },
  {
   "cell_type": "code",
   "execution_count": 47,
   "id": "a1842061",
   "metadata": {},
   "outputs": [
    {
     "data": {
      "text/html": [
       "<div>\n",
       "<style scoped>\n",
       "    .dataframe tbody tr th:only-of-type {\n",
       "        vertical-align: middle;\n",
       "    }\n",
       "\n",
       "    .dataframe tbody tr th {\n",
       "        vertical-align: top;\n",
       "    }\n",
       "\n",
       "    .dataframe thead th {\n",
       "        text-align: right;\n",
       "    }\n",
       "</style>\n",
       "<table border=\"1\" class=\"dataframe\">\n",
       "  <thead>\n",
       "    <tr style=\"text-align: right;\">\n",
       "      <th></th>\n",
       "      <th>ID</th>\n",
       "      <th>name</th>\n",
       "    </tr>\n",
       "  </thead>\n",
       "  <tbody>\n",
       "    <tr>\n",
       "      <th>A</th>\n",
       "      <td>1</td>\n",
       "      <td>divya</td>\n",
       "    </tr>\n",
       "    <tr>\n",
       "      <th>B</th>\n",
       "      <td>2</td>\n",
       "      <td>athu</td>\n",
       "    </tr>\n",
       "    <tr>\n",
       "      <th>C</th>\n",
       "      <td>3</td>\n",
       "      <td>chippy</td>\n",
       "    </tr>\n",
       "    <tr>\n",
       "      <th>D</th>\n",
       "      <td>4</td>\n",
       "      <td>sree</td>\n",
       "    </tr>\n",
       "  </tbody>\n",
       "</table>\n",
       "</div>"
      ],
      "text/plain": [
       "   ID    name\n",
       "A   1   divya\n",
       "B   2    athu\n",
       "C   3  chippy\n",
       "D   4    sree"
      ]
     },
     "execution_count": 47,
     "metadata": {},
     "output_type": "execute_result"
    }
   ],
   "source": [
    "d1"
   ]
  },
  {
   "cell_type": "code",
   "execution_count": 48,
   "id": "cf42ad74",
   "metadata": {},
   "outputs": [
    {
     "data": {
      "text/html": [
       "<div>\n",
       "<style scoped>\n",
       "    .dataframe tbody tr th:only-of-type {\n",
       "        vertical-align: middle;\n",
       "    }\n",
       "\n",
       "    .dataframe tbody tr th {\n",
       "        vertical-align: top;\n",
       "    }\n",
       "\n",
       "    .dataframe thead th {\n",
       "        text-align: right;\n",
       "    }\n",
       "</style>\n",
       "<table border=\"1\" class=\"dataframe\">\n",
       "  <thead>\n",
       "    <tr style=\"text-align: right;\">\n",
       "      <th></th>\n",
       "      <th>ID</th>\n",
       "      <th>name</th>\n",
       "    </tr>\n",
       "  </thead>\n",
       "  <tbody>\n",
       "    <tr>\n",
       "      <th>A</th>\n",
       "      <td>1</td>\n",
       "      <td>divya</td>\n",
       "    </tr>\n",
       "    <tr>\n",
       "      <th>B</th>\n",
       "      <td>2</td>\n",
       "      <td>athu</td>\n",
       "    </tr>\n",
       "    <tr>\n",
       "      <th>C</th>\n",
       "      <td>3</td>\n",
       "      <td>chippy</td>\n",
       "    </tr>\n",
       "  </tbody>\n",
       "</table>\n",
       "</div>"
      ],
      "text/plain": [
       "   ID    name\n",
       "A   1   divya\n",
       "B   2    athu\n",
       "C   3  chippy"
      ]
     },
     "execution_count": 48,
     "metadata": {},
     "output_type": "execute_result"
    }
   ],
   "source": [
    "d1.loc[\"A\":\"C\"]"
   ]
  },
  {
   "cell_type": "code",
   "execution_count": 49,
   "id": "551360d2",
   "metadata": {},
   "outputs": [
    {
     "data": {
      "text/html": [
       "<div>\n",
       "<style scoped>\n",
       "    .dataframe tbody tr th:only-of-type {\n",
       "        vertical-align: middle;\n",
       "    }\n",
       "\n",
       "    .dataframe tbody tr th {\n",
       "        vertical-align: top;\n",
       "    }\n",
       "\n",
       "    .dataframe thead th {\n",
       "        text-align: right;\n",
       "    }\n",
       "</style>\n",
       "<table border=\"1\" class=\"dataframe\">\n",
       "  <thead>\n",
       "    <tr style=\"text-align: right;\">\n",
       "      <th></th>\n",
       "      <th>ID</th>\n",
       "      <th>name</th>\n",
       "    </tr>\n",
       "  </thead>\n",
       "  <tbody>\n",
       "    <tr>\n",
       "      <th>A</th>\n",
       "      <td>1</td>\n",
       "      <td>divya</td>\n",
       "    </tr>\n",
       "    <tr>\n",
       "      <th>B</th>\n",
       "      <td>2</td>\n",
       "      <td>athu</td>\n",
       "    </tr>\n",
       "  </tbody>\n",
       "</table>\n",
       "</div>"
      ],
      "text/plain": [
       "   ID   name\n",
       "A   1  divya\n",
       "B   2   athu"
      ]
     },
     "execution_count": 49,
     "metadata": {},
     "output_type": "execute_result"
    }
   ],
   "source": [
    "d1.iloc[0:2]"
   ]
  },
  {
   "cell_type": "code",
   "execution_count": 50,
   "id": "d7f5f069",
   "metadata": {},
   "outputs": [
    {
     "data": {
      "text/html": [
       "<div>\n",
       "<style scoped>\n",
       "    .dataframe tbody tr th:only-of-type {\n",
       "        vertical-align: middle;\n",
       "    }\n",
       "\n",
       "    .dataframe tbody tr th {\n",
       "        vertical-align: top;\n",
       "    }\n",
       "\n",
       "    .dataframe thead th {\n",
       "        text-align: right;\n",
       "    }\n",
       "</style>\n",
       "<table border=\"1\" class=\"dataframe\">\n",
       "  <thead>\n",
       "    <tr style=\"text-align: right;\">\n",
       "      <th></th>\n",
       "      <th>ID</th>\n",
       "      <th>name</th>\n",
       "    </tr>\n",
       "  </thead>\n",
       "  <tbody>\n",
       "    <tr>\n",
       "      <th>A</th>\n",
       "      <td>1</td>\n",
       "      <td>divya</td>\n",
       "    </tr>\n",
       "    <tr>\n",
       "      <th>B</th>\n",
       "      <td>2</td>\n",
       "      <td>athu</td>\n",
       "    </tr>\n",
       "    <tr>\n",
       "      <th>C</th>\n",
       "      <td>3</td>\n",
       "      <td>chippy</td>\n",
       "    </tr>\n",
       "    <tr>\n",
       "      <th>D</th>\n",
       "      <td>4</td>\n",
       "      <td>sree</td>\n",
       "    </tr>\n",
       "  </tbody>\n",
       "</table>\n",
       "</div>"
      ],
      "text/plain": [
       "   ID    name\n",
       "A   1   divya\n",
       "B   2    athu\n",
       "C   3  chippy\n",
       "D   4    sree"
      ]
     },
     "execution_count": 50,
     "metadata": {},
     "output_type": "execute_result"
    }
   ],
   "source": [
    "d1"
   ]
  },
  {
   "cell_type": "code",
   "execution_count": 51,
   "id": "37d3a4b5",
   "metadata": {},
   "outputs": [
    {
     "data": {
      "text/html": [
       "<div>\n",
       "<style scoped>\n",
       "    .dataframe tbody tr th:only-of-type {\n",
       "        vertical-align: middle;\n",
       "    }\n",
       "\n",
       "    .dataframe tbody tr th {\n",
       "        vertical-align: top;\n",
       "    }\n",
       "\n",
       "    .dataframe thead th {\n",
       "        text-align: right;\n",
       "    }\n",
       "</style>\n",
       "<table border=\"1\" class=\"dataframe\">\n",
       "  <thead>\n",
       "    <tr style=\"text-align: right;\">\n",
       "      <th></th>\n",
       "      <th>ID</th>\n",
       "      <th>name</th>\n",
       "    </tr>\n",
       "  </thead>\n",
       "  <tbody>\n",
       "    <tr>\n",
       "      <th>C</th>\n",
       "      <td>3</td>\n",
       "      <td>chippy</td>\n",
       "    </tr>\n",
       "    <tr>\n",
       "      <th>D</th>\n",
       "      <td>4</td>\n",
       "      <td>sree</td>\n",
       "    </tr>\n",
       "  </tbody>\n",
       "</table>\n",
       "</div>"
      ],
      "text/plain": [
       "   ID    name\n",
       "C   3  chippy\n",
       "D   4    sree"
      ]
     },
     "execution_count": 51,
     "metadata": {},
     "output_type": "execute_result"
    }
   ],
   "source": [
    "d1.loc[d1.ID>2] ##it will print id >2"
   ]
  },
  {
   "cell_type": "markdown",
   "id": "4a38ffa9",
   "metadata": {},
   "source": [
    "### set value"
   ]
  },
  {
   "cell_type": "code",
   "execution_count": 52,
   "id": "16f8346d",
   "metadata": {},
   "outputs": [
    {
     "data": {
      "text/plain": [
       "DatetimeIndex(['2021-01-25', '2021-01-26', '2021-01-27', '2021-01-28',\n",
       "               '2021-01-29', '2021-01-30', '2021-01-31'],\n",
       "              dtype='datetime64[ns]', freq='D')"
      ]
     },
     "execution_count": 52,
     "metadata": {},
     "output_type": "execute_result"
    }
   ],
   "source": [
    "date3=pd.date_range(start=\"2021-01-25\",periods=7)\n",
    "date3"
   ]
  },
  {
   "cell_type": "code",
   "execution_count": 53,
   "id": "e4867722",
   "metadata": {},
   "outputs": [
    {
     "data": {
      "text/plain": [
       "array([[0.06467617, 0.2364453 , 0.19723597, 0.9057836 , 0.02655853,\n",
       "        0.86225537, 0.48672559],\n",
       "       [0.65837656, 0.4261347 , 0.12698222, 0.91840124, 0.08734607,\n",
       "        0.43093119, 0.2443978 ],\n",
       "       [0.92451456, 0.17113349, 0.48622618, 0.64028169, 0.85172499,\n",
       "        0.04173405, 0.48303449],\n",
       "       [0.48444108, 0.74695173, 0.70010699, 0.15549901, 0.63000721,\n",
       "        0.93663874, 0.11472994],\n",
       "       [0.61657713, 0.49433918, 0.0705714 , 0.90964553, 0.25298669,\n",
       "        0.11652698, 0.8122148 ],\n",
       "       [0.38895142, 0.80496715, 0.85444713, 0.70214171, 0.3342881 ,\n",
       "        0.45629979, 0.87792819],\n",
       "       [0.30373577, 0.81775096, 0.24994054, 0.65899508, 0.73104881,\n",
       "        0.33305562, 0.40283705]])"
      ]
     },
     "execution_count": 53,
     "metadata": {},
     "output_type": "execute_result"
    }
   ],
   "source": [
    "r=np.random.random((7,7))\n",
    "r"
   ]
  },
  {
   "cell_type": "code",
   "execution_count": 55,
   "id": "8ca499e9",
   "metadata": {},
   "outputs": [
    {
     "data": {
      "text/html": [
       "<div>\n",
       "<style scoped>\n",
       "    .dataframe tbody tr th:only-of-type {\n",
       "        vertical-align: middle;\n",
       "    }\n",
       "\n",
       "    .dataframe tbody tr th {\n",
       "        vertical-align: top;\n",
       "    }\n",
       "\n",
       "    .dataframe thead th {\n",
       "        text-align: right;\n",
       "    }\n",
       "</style>\n",
       "<table border=\"1\" class=\"dataframe\">\n",
       "  <thead>\n",
       "    <tr style=\"text-align: right;\">\n",
       "      <th></th>\n",
       "      <th>0</th>\n",
       "      <th>1</th>\n",
       "      <th>2</th>\n",
       "      <th>3</th>\n",
       "      <th>4</th>\n",
       "      <th>5</th>\n",
       "      <th>6</th>\n",
       "    </tr>\n",
       "  </thead>\n",
       "  <tbody>\n",
       "    <tr>\n",
       "      <th>0</th>\n",
       "      <td>0.064676</td>\n",
       "      <td>0.236445</td>\n",
       "      <td>0.197236</td>\n",
       "      <td>0.905784</td>\n",
       "      <td>0.026559</td>\n",
       "      <td>0.862255</td>\n",
       "      <td>0.486726</td>\n",
       "    </tr>\n",
       "    <tr>\n",
       "      <th>1</th>\n",
       "      <td>0.658377</td>\n",
       "      <td>0.426135</td>\n",
       "      <td>0.126982</td>\n",
       "      <td>0.918401</td>\n",
       "      <td>0.087346</td>\n",
       "      <td>0.430931</td>\n",
       "      <td>0.244398</td>\n",
       "    </tr>\n",
       "    <tr>\n",
       "      <th>2</th>\n",
       "      <td>0.924515</td>\n",
       "      <td>0.171133</td>\n",
       "      <td>0.486226</td>\n",
       "      <td>0.640282</td>\n",
       "      <td>0.851725</td>\n",
       "      <td>0.041734</td>\n",
       "      <td>0.483034</td>\n",
       "    </tr>\n",
       "    <tr>\n",
       "      <th>3</th>\n",
       "      <td>0.484441</td>\n",
       "      <td>0.746952</td>\n",
       "      <td>0.700107</td>\n",
       "      <td>0.155499</td>\n",
       "      <td>0.630007</td>\n",
       "      <td>0.936639</td>\n",
       "      <td>0.114730</td>\n",
       "    </tr>\n",
       "    <tr>\n",
       "      <th>4</th>\n",
       "      <td>0.616577</td>\n",
       "      <td>0.494339</td>\n",
       "      <td>0.070571</td>\n",
       "      <td>0.909646</td>\n",
       "      <td>0.252987</td>\n",
       "      <td>0.116527</td>\n",
       "      <td>0.812215</td>\n",
       "    </tr>\n",
       "    <tr>\n",
       "      <th>5</th>\n",
       "      <td>0.388951</td>\n",
       "      <td>0.804967</td>\n",
       "      <td>0.854447</td>\n",
       "      <td>0.702142</td>\n",
       "      <td>0.334288</td>\n",
       "      <td>0.456300</td>\n",
       "      <td>0.877928</td>\n",
       "    </tr>\n",
       "    <tr>\n",
       "      <th>6</th>\n",
       "      <td>0.303736</td>\n",
       "      <td>0.817751</td>\n",
       "      <td>0.249941</td>\n",
       "      <td>0.658995</td>\n",
       "      <td>0.731049</td>\n",
       "      <td>0.333056</td>\n",
       "      <td>0.402837</td>\n",
       "    </tr>\n",
       "  </tbody>\n",
       "</table>\n",
       "</div>"
      ],
      "text/plain": [
       "          0         1         2         3         4         5         6\n",
       "0  0.064676  0.236445  0.197236  0.905784  0.026559  0.862255  0.486726\n",
       "1  0.658377  0.426135  0.126982  0.918401  0.087346  0.430931  0.244398\n",
       "2  0.924515  0.171133  0.486226  0.640282  0.851725  0.041734  0.483034\n",
       "3  0.484441  0.746952  0.700107  0.155499  0.630007  0.936639  0.114730\n",
       "4  0.616577  0.494339  0.070571  0.909646  0.252987  0.116527  0.812215\n",
       "5  0.388951  0.804967  0.854447  0.702142  0.334288  0.456300  0.877928\n",
       "6  0.303736  0.817751  0.249941  0.658995  0.731049  0.333056  0.402837"
      ]
     },
     "execution_count": 55,
     "metadata": {},
     "output_type": "execute_result"
    }
   ],
   "source": [
    "d2=pd.DataFrame(r)\n",
    "d2"
   ]
  },
  {
   "cell_type": "code",
   "execution_count": 58,
   "id": "35d559eb",
   "metadata": {},
   "outputs": [
    {
     "data": {
      "text/html": [
       "<div>\n",
       "<style scoped>\n",
       "    .dataframe tbody tr th:only-of-type {\n",
       "        vertical-align: middle;\n",
       "    }\n",
       "\n",
       "    .dataframe tbody tr th {\n",
       "        vertical-align: top;\n",
       "    }\n",
       "\n",
       "    .dataframe thead th {\n",
       "        text-align: right;\n",
       "    }\n",
       "</style>\n",
       "<table border=\"1\" class=\"dataframe\">\n",
       "  <thead>\n",
       "    <tr style=\"text-align: right;\">\n",
       "      <th></th>\n",
       "      <th>0</th>\n",
       "      <th>1</th>\n",
       "      <th>2</th>\n",
       "      <th>3</th>\n",
       "      <th>4</th>\n",
       "      <th>5</th>\n",
       "      <th>6</th>\n",
       "    </tr>\n",
       "  </thead>\n",
       "  <tbody>\n",
       "    <tr>\n",
       "      <th>2021-01-25</th>\n",
       "      <td>0.064676</td>\n",
       "      <td>0.236445</td>\n",
       "      <td>0.197236</td>\n",
       "      <td>0.905784</td>\n",
       "      <td>0.026559</td>\n",
       "      <td>0.862255</td>\n",
       "      <td>0.486726</td>\n",
       "    </tr>\n",
       "    <tr>\n",
       "      <th>2021-01-26</th>\n",
       "      <td>0.658377</td>\n",
       "      <td>0.426135</td>\n",
       "      <td>0.126982</td>\n",
       "      <td>0.918401</td>\n",
       "      <td>0.087346</td>\n",
       "      <td>0.430931</td>\n",
       "      <td>0.244398</td>\n",
       "    </tr>\n",
       "    <tr>\n",
       "      <th>2021-01-27</th>\n",
       "      <td>0.924515</td>\n",
       "      <td>0.171133</td>\n",
       "      <td>0.486226</td>\n",
       "      <td>0.640282</td>\n",
       "      <td>0.851725</td>\n",
       "      <td>0.041734</td>\n",
       "      <td>0.483034</td>\n",
       "    </tr>\n",
       "    <tr>\n",
       "      <th>2021-01-28</th>\n",
       "      <td>0.484441</td>\n",
       "      <td>0.746952</td>\n",
       "      <td>0.700107</td>\n",
       "      <td>0.155499</td>\n",
       "      <td>0.630007</td>\n",
       "      <td>0.936639</td>\n",
       "      <td>0.114730</td>\n",
       "    </tr>\n",
       "    <tr>\n",
       "      <th>2021-01-29</th>\n",
       "      <td>0.616577</td>\n",
       "      <td>0.494339</td>\n",
       "      <td>0.070571</td>\n",
       "      <td>0.909646</td>\n",
       "      <td>0.252987</td>\n",
       "      <td>0.116527</td>\n",
       "      <td>0.812215</td>\n",
       "    </tr>\n",
       "    <tr>\n",
       "      <th>2021-01-30</th>\n",
       "      <td>0.388951</td>\n",
       "      <td>0.804967</td>\n",
       "      <td>0.854447</td>\n",
       "      <td>0.702142</td>\n",
       "      <td>0.334288</td>\n",
       "      <td>0.456300</td>\n",
       "      <td>0.877928</td>\n",
       "    </tr>\n",
       "    <tr>\n",
       "      <th>2021-01-31</th>\n",
       "      <td>0.303736</td>\n",
       "      <td>0.817751</td>\n",
       "      <td>0.249941</td>\n",
       "      <td>0.658995</td>\n",
       "      <td>0.731049</td>\n",
       "      <td>0.333056</td>\n",
       "      <td>0.402837</td>\n",
       "    </tr>\n",
       "  </tbody>\n",
       "</table>\n",
       "</div>"
      ],
      "text/plain": [
       "                   0         1         2         3         4         5  \\\n",
       "2021-01-25  0.064676  0.236445  0.197236  0.905784  0.026559  0.862255   \n",
       "2021-01-26  0.658377  0.426135  0.126982  0.918401  0.087346  0.430931   \n",
       "2021-01-27  0.924515  0.171133  0.486226  0.640282  0.851725  0.041734   \n",
       "2021-01-28  0.484441  0.746952  0.700107  0.155499  0.630007  0.936639   \n",
       "2021-01-29  0.616577  0.494339  0.070571  0.909646  0.252987  0.116527   \n",
       "2021-01-30  0.388951  0.804967  0.854447  0.702142  0.334288  0.456300   \n",
       "2021-01-31  0.303736  0.817751  0.249941  0.658995  0.731049  0.333056   \n",
       "\n",
       "                   6  \n",
       "2021-01-25  0.486726  \n",
       "2021-01-26  0.244398  \n",
       "2021-01-27  0.483034  \n",
       "2021-01-28  0.114730  \n",
       "2021-01-29  0.812215  \n",
       "2021-01-30  0.877928  \n",
       "2021-01-31  0.402837  "
      ]
     },
     "execution_count": 58,
     "metadata": {},
     "output_type": "execute_result"
    }
   ],
   "source": [
    "d2=pd.DataFrame(r,date3)\n",
    "d2"
   ]
  },
  {
   "cell_type": "code",
   "execution_count": 90,
   "id": "09ce8435",
   "metadata": {},
   "outputs": [
    {
     "data": {
      "text/html": [
       "<div>\n",
       "<style scoped>\n",
       "    .dataframe tbody tr th:only-of-type {\n",
       "        vertical-align: middle;\n",
       "    }\n",
       "\n",
       "    .dataframe tbody tr th {\n",
       "        vertical-align: top;\n",
       "    }\n",
       "\n",
       "    .dataframe thead th {\n",
       "        text-align: right;\n",
       "    }\n",
       "</style>\n",
       "<table border=\"1\" class=\"dataframe\">\n",
       "  <thead>\n",
       "    <tr style=\"text-align: right;\">\n",
       "      <th></th>\n",
       "      <th>A</th>\n",
       "      <th>B</th>\n",
       "      <th>C</th>\n",
       "      <th>D</th>\n",
       "      <th>E</th>\n",
       "      <th>F</th>\n",
       "      <th>G</th>\n",
       "    </tr>\n",
       "  </thead>\n",
       "  <tbody>\n",
       "    <tr>\n",
       "      <th>2021-01-25</th>\n",
       "      <td>0.064676</td>\n",
       "      <td>0.236445</td>\n",
       "      <td>0.197236</td>\n",
       "      <td>0.905784</td>\n",
       "      <td>100.000000</td>\n",
       "      <td>0.862255</td>\n",
       "      <td>0.486726</td>\n",
       "    </tr>\n",
       "    <tr>\n",
       "      <th>2021-01-26</th>\n",
       "      <td>0.658377</td>\n",
       "      <td>0.426135</td>\n",
       "      <td>0.126982</td>\n",
       "      <td>0.918401</td>\n",
       "      <td>0.087346</td>\n",
       "      <td>0.430931</td>\n",
       "      <td>0.244398</td>\n",
       "    </tr>\n",
       "    <tr>\n",
       "      <th>2021-01-27</th>\n",
       "      <td>0.924515</td>\n",
       "      <td>0.171133</td>\n",
       "      <td>0.486226</td>\n",
       "      <td>0.640282</td>\n",
       "      <td>0.851725</td>\n",
       "      <td>0.041734</td>\n",
       "      <td>0.483034</td>\n",
       "    </tr>\n",
       "    <tr>\n",
       "      <th>2021-01-28</th>\n",
       "      <td>0.484441</td>\n",
       "      <td>0.746952</td>\n",
       "      <td>0.700107</td>\n",
       "      <td>0.155499</td>\n",
       "      <td>0.630007</td>\n",
       "      <td>0.936639</td>\n",
       "      <td>0.114730</td>\n",
       "    </tr>\n",
       "    <tr>\n",
       "      <th>2021-01-29</th>\n",
       "      <td>0.616577</td>\n",
       "      <td>0.494339</td>\n",
       "      <td>0.070571</td>\n",
       "      <td>0.909646</td>\n",
       "      <td>0.252987</td>\n",
       "      <td>0.116527</td>\n",
       "      <td>0.812215</td>\n",
       "    </tr>\n",
       "    <tr>\n",
       "      <th>2021-01-30</th>\n",
       "      <td>0.388951</td>\n",
       "      <td>0.804967</td>\n",
       "      <td>0.854447</td>\n",
       "      <td>0.702142</td>\n",
       "      <td>0.334288</td>\n",
       "      <td>0.456300</td>\n",
       "      <td>0.877928</td>\n",
       "    </tr>\n",
       "    <tr>\n",
       "      <th>2021-01-31</th>\n",
       "      <td>0.303736</td>\n",
       "      <td>0.817751</td>\n",
       "      <td>0.249941</td>\n",
       "      <td>0.658995</td>\n",
       "      <td>0.731049</td>\n",
       "      <td>0.333056</td>\n",
       "      <td>0.402837</td>\n",
       "    </tr>\n",
       "  </tbody>\n",
       "</table>\n",
       "</div>"
      ],
      "text/plain": [
       "                   A         B         C         D           E         F  \\\n",
       "2021-01-25  0.064676  0.236445  0.197236  0.905784  100.000000  0.862255   \n",
       "2021-01-26  0.658377  0.426135  0.126982  0.918401    0.087346  0.430931   \n",
       "2021-01-27  0.924515  0.171133  0.486226  0.640282    0.851725  0.041734   \n",
       "2021-01-28  0.484441  0.746952  0.700107  0.155499    0.630007  0.936639   \n",
       "2021-01-29  0.616577  0.494339  0.070571  0.909646    0.252987  0.116527   \n",
       "2021-01-30  0.388951  0.804967  0.854447  0.702142    0.334288  0.456300   \n",
       "2021-01-31  0.303736  0.817751  0.249941  0.658995    0.731049  0.333056   \n",
       "\n",
       "                   G  \n",
       "2021-01-25  0.486726  \n",
       "2021-01-26  0.244398  \n",
       "2021-01-27  0.483034  \n",
       "2021-01-28  0.114730  \n",
       "2021-01-29  0.812215  \n",
       "2021-01-30  0.877928  \n",
       "2021-01-31  0.402837  "
      ]
     },
     "execution_count": 90,
     "metadata": {},
     "output_type": "execute_result"
    }
   ],
   "source": [
    "d2.columns=[\"A\",\"B\",\"C\",\"D\",\"E\",\"F\",\"G\"]\n",
    "d2"
   ]
  },
  {
   "cell_type": "code",
   "execution_count": 91,
   "id": "1ebb1714",
   "metadata": {},
   "outputs": [
    {
     "data": {
      "text/html": [
       "<div>\n",
       "<style scoped>\n",
       "    .dataframe tbody tr th:only-of-type {\n",
       "        vertical-align: middle;\n",
       "    }\n",
       "\n",
       "    .dataframe tbody tr th {\n",
       "        vertical-align: top;\n",
       "    }\n",
       "\n",
       "    .dataframe thead th {\n",
       "        text-align: right;\n",
       "    }\n",
       "</style>\n",
       "<table border=\"1\" class=\"dataframe\">\n",
       "  <thead>\n",
       "    <tr style=\"text-align: right;\">\n",
       "      <th></th>\n",
       "      <th>A</th>\n",
       "      <th>B</th>\n",
       "      <th>C</th>\n",
       "      <th>D</th>\n",
       "      <th>E</th>\n",
       "      <th>F</th>\n",
       "      <th>G</th>\n",
       "    </tr>\n",
       "  </thead>\n",
       "  <tbody>\n",
       "    <tr>\n",
       "      <th>2021-01-25</th>\n",
       "      <td>0.064676</td>\n",
       "      <td>0.236445</td>\n",
       "      <td>0.197236</td>\n",
       "      <td>0.905784</td>\n",
       "      <td>100.000000</td>\n",
       "      <td>0.862255</td>\n",
       "      <td>0.486726</td>\n",
       "    </tr>\n",
       "    <tr>\n",
       "      <th>2021-01-26</th>\n",
       "      <td>0.658377</td>\n",
       "      <td>0.426135</td>\n",
       "      <td>0.126982</td>\n",
       "      <td>0.918401</td>\n",
       "      <td>0.087346</td>\n",
       "      <td>0.430931</td>\n",
       "      <td>0.244398</td>\n",
       "    </tr>\n",
       "    <tr>\n",
       "      <th>2021-01-27</th>\n",
       "      <td>0.924515</td>\n",
       "      <td>0.171133</td>\n",
       "      <td>0.486226</td>\n",
       "      <td>0.640282</td>\n",
       "      <td>0.851725</td>\n",
       "      <td>0.041734</td>\n",
       "      <td>0.483034</td>\n",
       "    </tr>\n",
       "    <tr>\n",
       "      <th>2021-01-28</th>\n",
       "      <td>0.484441</td>\n",
       "      <td>0.746952</td>\n",
       "      <td>0.700107</td>\n",
       "      <td>0.155499</td>\n",
       "      <td>0.630007</td>\n",
       "      <td>0.936639</td>\n",
       "      <td>0.114730</td>\n",
       "    </tr>\n",
       "    <tr>\n",
       "      <th>2021-01-29</th>\n",
       "      <td>0.616577</td>\n",
       "      <td>0.494339</td>\n",
       "      <td>0.070571</td>\n",
       "      <td>0.909646</td>\n",
       "      <td>0.252987</td>\n",
       "      <td>0.116527</td>\n",
       "      <td>0.812215</td>\n",
       "    </tr>\n",
       "    <tr>\n",
       "      <th>2021-01-30</th>\n",
       "      <td>0.388951</td>\n",
       "      <td>0.804967</td>\n",
       "      <td>0.854447</td>\n",
       "      <td>0.702142</td>\n",
       "      <td>0.334288</td>\n",
       "      <td>0.456300</td>\n",
       "      <td>0.877928</td>\n",
       "    </tr>\n",
       "    <tr>\n",
       "      <th>2021-01-31</th>\n",
       "      <td>0.303736</td>\n",
       "      <td>0.817751</td>\n",
       "      <td>0.249941</td>\n",
       "      <td>0.658995</td>\n",
       "      <td>0.731049</td>\n",
       "      <td>0.333056</td>\n",
       "      <td>0.402837</td>\n",
       "    </tr>\n",
       "  </tbody>\n",
       "</table>\n",
       "</div>"
      ],
      "text/plain": [
       "                   A         B         C         D           E         F  \\\n",
       "2021-01-25  0.064676  0.236445  0.197236  0.905784  100.000000  0.862255   \n",
       "2021-01-26  0.658377  0.426135  0.126982  0.918401    0.087346  0.430931   \n",
       "2021-01-27  0.924515  0.171133  0.486226  0.640282    0.851725  0.041734   \n",
       "2021-01-28  0.484441  0.746952  0.700107  0.155499    0.630007  0.936639   \n",
       "2021-01-29  0.616577  0.494339  0.070571  0.909646    0.252987  0.116527   \n",
       "2021-01-30  0.388951  0.804967  0.854447  0.702142    0.334288  0.456300   \n",
       "2021-01-31  0.303736  0.817751  0.249941  0.658995    0.731049  0.333056   \n",
       "\n",
       "                   G  \n",
       "2021-01-25  0.486726  \n",
       "2021-01-26  0.244398  \n",
       "2021-01-27  0.483034  \n",
       "2021-01-28  0.114730  \n",
       "2021-01-29  0.812215  \n",
       "2021-01-30  0.877928  \n",
       "2021-01-31  0.402837  "
      ]
     },
     "execution_count": 91,
     "metadata": {},
     "output_type": "execute_result"
    }
   ],
   "source": [
    "d2.iat[0,4]=100\n",
    "d2"
   ]
  },
  {
   "cell_type": "code",
   "execution_count": 92,
   "id": "9365f391",
   "metadata": {},
   "outputs": [
    {
     "data": {
      "text/html": [
       "<div>\n",
       "<style scoped>\n",
       "    .dataframe tbody tr th:only-of-type {\n",
       "        vertical-align: middle;\n",
       "    }\n",
       "\n",
       "    .dataframe tbody tr th {\n",
       "        vertical-align: top;\n",
       "    }\n",
       "\n",
       "    .dataframe thead th {\n",
       "        text-align: right;\n",
       "    }\n",
       "</style>\n",
       "<table border=\"1\" class=\"dataframe\">\n",
       "  <thead>\n",
       "    <tr style=\"text-align: right;\">\n",
       "      <th></th>\n",
       "      <th>A</th>\n",
       "      <th>B</th>\n",
       "      <th>C</th>\n",
       "      <th>D</th>\n",
       "      <th>E</th>\n",
       "      <th>F</th>\n",
       "      <th>G</th>\n",
       "    </tr>\n",
       "  </thead>\n",
       "  <tbody>\n",
       "    <tr>\n",
       "      <th>2021-01-25</th>\n",
       "      <td>0.064676</td>\n",
       "      <td>0.236445</td>\n",
       "      <td>0.197236</td>\n",
       "      <td>0.905784</td>\n",
       "      <td>88.000000</td>\n",
       "      <td>0.862255</td>\n",
       "      <td>0.486726</td>\n",
       "    </tr>\n",
       "    <tr>\n",
       "      <th>2021-01-26</th>\n",
       "      <td>0.658377</td>\n",
       "      <td>0.426135</td>\n",
       "      <td>0.126982</td>\n",
       "      <td>0.918401</td>\n",
       "      <td>0.087346</td>\n",
       "      <td>0.430931</td>\n",
       "      <td>0.244398</td>\n",
       "    </tr>\n",
       "    <tr>\n",
       "      <th>2021-01-27</th>\n",
       "      <td>0.924515</td>\n",
       "      <td>0.171133</td>\n",
       "      <td>0.486226</td>\n",
       "      <td>0.640282</td>\n",
       "      <td>0.851725</td>\n",
       "      <td>0.041734</td>\n",
       "      <td>0.483034</td>\n",
       "    </tr>\n",
       "    <tr>\n",
       "      <th>2021-01-28</th>\n",
       "      <td>0.484441</td>\n",
       "      <td>0.746952</td>\n",
       "      <td>0.700107</td>\n",
       "      <td>0.155499</td>\n",
       "      <td>0.630007</td>\n",
       "      <td>0.936639</td>\n",
       "      <td>0.114730</td>\n",
       "    </tr>\n",
       "    <tr>\n",
       "      <th>2021-01-29</th>\n",
       "      <td>0.616577</td>\n",
       "      <td>0.494339</td>\n",
       "      <td>0.070571</td>\n",
       "      <td>0.909646</td>\n",
       "      <td>0.252987</td>\n",
       "      <td>0.116527</td>\n",
       "      <td>0.812215</td>\n",
       "    </tr>\n",
       "    <tr>\n",
       "      <th>2021-01-30</th>\n",
       "      <td>0.388951</td>\n",
       "      <td>0.804967</td>\n",
       "      <td>0.854447</td>\n",
       "      <td>0.702142</td>\n",
       "      <td>0.334288</td>\n",
       "      <td>0.456300</td>\n",
       "      <td>0.877928</td>\n",
       "    </tr>\n",
       "    <tr>\n",
       "      <th>2021-01-31</th>\n",
       "      <td>0.303736</td>\n",
       "      <td>0.817751</td>\n",
       "      <td>0.249941</td>\n",
       "      <td>0.658995</td>\n",
       "      <td>0.731049</td>\n",
       "      <td>0.333056</td>\n",
       "      <td>0.402837</td>\n",
       "    </tr>\n",
       "  </tbody>\n",
       "</table>\n",
       "</div>"
      ],
      "text/plain": [
       "                   A         B         C         D          E         F  \\\n",
       "2021-01-25  0.064676  0.236445  0.197236  0.905784  88.000000  0.862255   \n",
       "2021-01-26  0.658377  0.426135  0.126982  0.918401   0.087346  0.430931   \n",
       "2021-01-27  0.924515  0.171133  0.486226  0.640282   0.851725  0.041734   \n",
       "2021-01-28  0.484441  0.746952  0.700107  0.155499   0.630007  0.936639   \n",
       "2021-01-29  0.616577  0.494339  0.070571  0.909646   0.252987  0.116527   \n",
       "2021-01-30  0.388951  0.804967  0.854447  0.702142   0.334288  0.456300   \n",
       "2021-01-31  0.303736  0.817751  0.249941  0.658995   0.731049  0.333056   \n",
       "\n",
       "                   G  \n",
       "2021-01-25  0.486726  \n",
       "2021-01-26  0.244398  \n",
       "2021-01-27  0.483034  \n",
       "2021-01-28  0.114730  \n",
       "2021-01-29  0.812215  \n",
       "2021-01-30  0.877928  \n",
       "2021-01-31  0.402837  "
      ]
     },
     "execution_count": 92,
     "metadata": {},
     "output_type": "execute_result"
    }
   ],
   "source": [
    "d2[d2.isin([100])]=88\n",
    "d2"
   ]
  },
  {
   "cell_type": "code",
   "execution_count": 59,
   "id": "78e26ff6",
   "metadata": {},
   "outputs": [
    {
     "data": {
      "text/html": [
       "<div>\n",
       "<style scoped>\n",
       "    .dataframe tbody tr th:only-of-type {\n",
       "        vertical-align: middle;\n",
       "    }\n",
       "\n",
       "    .dataframe tbody tr th {\n",
       "        vertical-align: top;\n",
       "    }\n",
       "\n",
       "    .dataframe thead th {\n",
       "        text-align: right;\n",
       "    }\n",
       "</style>\n",
       "<table border=\"1\" class=\"dataframe\">\n",
       "  <thead>\n",
       "    <tr style=\"text-align: right;\">\n",
       "      <th></th>\n",
       "      <th>0</th>\n",
       "      <th>1</th>\n",
       "      <th>2</th>\n",
       "      <th>3</th>\n",
       "      <th>4</th>\n",
       "      <th>5</th>\n",
       "      <th>6</th>\n",
       "      <th>C</th>\n",
       "    </tr>\n",
       "  </thead>\n",
       "  <tbody>\n",
       "    <tr>\n",
       "      <th>2021-01-25</th>\n",
       "      <td>0.064676</td>\n",
       "      <td>0.236445</td>\n",
       "      <td>0.197236</td>\n",
       "      <td>0.905784</td>\n",
       "      <td>0.026559</td>\n",
       "      <td>0.862255</td>\n",
       "      <td>0.486726</td>\n",
       "      <td>90.0</td>\n",
       "    </tr>\n",
       "    <tr>\n",
       "      <th>2021-01-26</th>\n",
       "      <td>0.658377</td>\n",
       "      <td>0.426135</td>\n",
       "      <td>0.126982</td>\n",
       "      <td>0.918401</td>\n",
       "      <td>0.087346</td>\n",
       "      <td>0.430931</td>\n",
       "      <td>0.244398</td>\n",
       "      <td>90.0</td>\n",
       "    </tr>\n",
       "    <tr>\n",
       "      <th>2021-01-27</th>\n",
       "      <td>0.924515</td>\n",
       "      <td>0.171133</td>\n",
       "      <td>0.486226</td>\n",
       "      <td>0.640282</td>\n",
       "      <td>0.851725</td>\n",
       "      <td>0.041734</td>\n",
       "      <td>0.483034</td>\n",
       "      <td>90.0</td>\n",
       "    </tr>\n",
       "    <tr>\n",
       "      <th>2021-01-28</th>\n",
       "      <td>0.484441</td>\n",
       "      <td>0.746952</td>\n",
       "      <td>0.700107</td>\n",
       "      <td>0.155499</td>\n",
       "      <td>0.630007</td>\n",
       "      <td>0.936639</td>\n",
       "      <td>0.114730</td>\n",
       "      <td>NaN</td>\n",
       "    </tr>\n",
       "    <tr>\n",
       "      <th>2021-01-29</th>\n",
       "      <td>0.616577</td>\n",
       "      <td>0.494339</td>\n",
       "      <td>0.070571</td>\n",
       "      <td>0.909646</td>\n",
       "      <td>0.252987</td>\n",
       "      <td>0.116527</td>\n",
       "      <td>0.812215</td>\n",
       "      <td>NaN</td>\n",
       "    </tr>\n",
       "    <tr>\n",
       "      <th>2021-01-30</th>\n",
       "      <td>0.388951</td>\n",
       "      <td>0.804967</td>\n",
       "      <td>0.854447</td>\n",
       "      <td>0.702142</td>\n",
       "      <td>0.334288</td>\n",
       "      <td>0.456300</td>\n",
       "      <td>0.877928</td>\n",
       "      <td>NaN</td>\n",
       "    </tr>\n",
       "    <tr>\n",
       "      <th>2021-01-31</th>\n",
       "      <td>0.303736</td>\n",
       "      <td>0.817751</td>\n",
       "      <td>0.249941</td>\n",
       "      <td>0.658995</td>\n",
       "      <td>0.731049</td>\n",
       "      <td>0.333056</td>\n",
       "      <td>0.402837</td>\n",
       "      <td>NaN</td>\n",
       "    </tr>\n",
       "  </tbody>\n",
       "</table>\n",
       "</div>"
      ],
      "text/plain": [
       "                   0         1         2         3         4         5  \\\n",
       "2021-01-25  0.064676  0.236445  0.197236  0.905784  0.026559  0.862255   \n",
       "2021-01-26  0.658377  0.426135  0.126982  0.918401  0.087346  0.430931   \n",
       "2021-01-27  0.924515  0.171133  0.486226  0.640282  0.851725  0.041734   \n",
       "2021-01-28  0.484441  0.746952  0.700107  0.155499  0.630007  0.936639   \n",
       "2021-01-29  0.616577  0.494339  0.070571  0.909646  0.252987  0.116527   \n",
       "2021-01-30  0.388951  0.804967  0.854447  0.702142  0.334288  0.456300   \n",
       "2021-01-31  0.303736  0.817751  0.249941  0.658995  0.731049  0.333056   \n",
       "\n",
       "                   6     C  \n",
       "2021-01-25  0.486726  90.0  \n",
       "2021-01-26  0.244398  90.0  \n",
       "2021-01-27  0.483034  90.0  \n",
       "2021-01-28  0.114730   NaN  \n",
       "2021-01-29  0.812215   NaN  \n",
       "2021-01-30  0.877928   NaN  \n",
       "2021-01-31  0.402837   NaN  "
      ]
     },
     "execution_count": 59,
     "metadata": {},
     "output_type": "execute_result"
    }
   ],
   "source": [
    "d2.at[0:3,\"C\"]=90\n",
    "d2\n"
   ]
  },
  {
   "cell_type": "code",
   "execution_count": 94,
   "id": "a4918912",
   "metadata": {},
   "outputs": [
    {
     "data": {
      "text/html": [
       "<div>\n",
       "<style scoped>\n",
       "    .dataframe tbody tr th:only-of-type {\n",
       "        vertical-align: middle;\n",
       "    }\n",
       "\n",
       "    .dataframe tbody tr th {\n",
       "        vertical-align: top;\n",
       "    }\n",
       "\n",
       "    .dataframe thead th {\n",
       "        text-align: right;\n",
       "    }\n",
       "</style>\n",
       "<table border=\"1\" class=\"dataframe\">\n",
       "  <thead>\n",
       "    <tr style=\"text-align: right;\">\n",
       "      <th></th>\n",
       "      <th>A</th>\n",
       "      <th>B</th>\n",
       "      <th>C</th>\n",
       "      <th>D</th>\n",
       "      <th>E</th>\n",
       "      <th>F</th>\n",
       "      <th>G</th>\n",
       "    </tr>\n",
       "  </thead>\n",
       "  <tbody>\n",
       "    <tr>\n",
       "      <th>2021-01-25</th>\n",
       "      <td>0.064676</td>\n",
       "      <td>0.236445</td>\n",
       "      <td>0.197236</td>\n",
       "      <td>0.905784</td>\n",
       "      <td>100.000000</td>\n",
       "      <td>0.862255</td>\n",
       "      <td>0.486726</td>\n",
       "    </tr>\n",
       "    <tr>\n",
       "      <th>2021-01-26</th>\n",
       "      <td>0.658377</td>\n",
       "      <td>0.426135</td>\n",
       "      <td>0.126982</td>\n",
       "      <td>0.918401</td>\n",
       "      <td>0.087346</td>\n",
       "      <td>0.430931</td>\n",
       "      <td>0.244398</td>\n",
       "    </tr>\n",
       "    <tr>\n",
       "      <th>2021-01-27</th>\n",
       "      <td>0.924515</td>\n",
       "      <td>0.171133</td>\n",
       "      <td>0.486226</td>\n",
       "      <td>0.640282</td>\n",
       "      <td>0.851725</td>\n",
       "      <td>0.041734</td>\n",
       "      <td>0.483034</td>\n",
       "    </tr>\n",
       "    <tr>\n",
       "      <th>2021-01-28</th>\n",
       "      <td>0.484441</td>\n",
       "      <td>0.746952</td>\n",
       "      <td>0.700107</td>\n",
       "      <td>0.155499</td>\n",
       "      <td>0.630007</td>\n",
       "      <td>0.936639</td>\n",
       "      <td>0.114730</td>\n",
       "    </tr>\n",
       "    <tr>\n",
       "      <th>2021-01-29</th>\n",
       "      <td>0.616577</td>\n",
       "      <td>0.494339</td>\n",
       "      <td>0.070571</td>\n",
       "      <td>0.909646</td>\n",
       "      <td>0.252987</td>\n",
       "      <td>0.116527</td>\n",
       "      <td>0.812215</td>\n",
       "    </tr>\n",
       "    <tr>\n",
       "      <th>2021-01-30</th>\n",
       "      <td>0.388951</td>\n",
       "      <td>0.804967</td>\n",
       "      <td>0.854447</td>\n",
       "      <td>0.702142</td>\n",
       "      <td>0.334288</td>\n",
       "      <td>0.456300</td>\n",
       "      <td>0.877928</td>\n",
       "    </tr>\n",
       "    <tr>\n",
       "      <th>2021-01-31</th>\n",
       "      <td>0.303736</td>\n",
       "      <td>0.817751</td>\n",
       "      <td>0.249941</td>\n",
       "      <td>0.658995</td>\n",
       "      <td>0.731049</td>\n",
       "      <td>0.333056</td>\n",
       "      <td>0.402837</td>\n",
       "    </tr>\n",
       "  </tbody>\n",
       "</table>\n",
       "</div>"
      ],
      "text/plain": [
       "                   A         B         C         D           E         F  \\\n",
       "2021-01-25  0.064676  0.236445  0.197236  0.905784  100.000000  0.862255   \n",
       "2021-01-26  0.658377  0.426135  0.126982  0.918401    0.087346  0.430931   \n",
       "2021-01-27  0.924515  0.171133  0.486226  0.640282    0.851725  0.041734   \n",
       "2021-01-28  0.484441  0.746952  0.700107  0.155499    0.630007  0.936639   \n",
       "2021-01-29  0.616577  0.494339  0.070571  0.909646    0.252987  0.116527   \n",
       "2021-01-30  0.388951  0.804967  0.854447  0.702142    0.334288  0.456300   \n",
       "2021-01-31  0.303736  0.817751  0.249941  0.658995    0.731049  0.333056   \n",
       "\n",
       "                   G  \n",
       "2021-01-25  0.486726  \n",
       "2021-01-26  0.244398  \n",
       "2021-01-27  0.483034  \n",
       "2021-01-28  0.114730  \n",
       "2021-01-29  0.812215  \n",
       "2021-01-30  0.877928  \n",
       "2021-01-31  0.402837  "
      ]
     },
     "execution_count": 94,
     "metadata": {},
     "output_type": "execute_result"
    }
   ],
   "source": [
    "d2.iat[0,4]=100\n",
    "d2"
   ]
  },
  {
   "cell_type": "code",
   "execution_count": 95,
   "id": "72cf3671",
   "metadata": {},
   "outputs": [
    {
     "data": {
      "text/html": [
       "<div>\n",
       "<style scoped>\n",
       "    .dataframe tbody tr th:only-of-type {\n",
       "        vertical-align: middle;\n",
       "    }\n",
       "\n",
       "    .dataframe tbody tr th {\n",
       "        vertical-align: top;\n",
       "    }\n",
       "\n",
       "    .dataframe thead th {\n",
       "        text-align: right;\n",
       "    }\n",
       "</style>\n",
       "<table border=\"1\" class=\"dataframe\">\n",
       "  <thead>\n",
       "    <tr style=\"text-align: right;\">\n",
       "      <th></th>\n",
       "      <th>A</th>\n",
       "      <th>B</th>\n",
       "      <th>C</th>\n",
       "      <th>D</th>\n",
       "      <th>E</th>\n",
       "      <th>F</th>\n",
       "      <th>G</th>\n",
       "    </tr>\n",
       "  </thead>\n",
       "  <tbody>\n",
       "    <tr>\n",
       "      <th>2021-01-25</th>\n",
       "      <td>0.064676</td>\n",
       "      <td>0.236445</td>\n",
       "      <td>0.197236</td>\n",
       "      <td>0.905784</td>\n",
       "      <td>88.000000</td>\n",
       "      <td>0.862255</td>\n",
       "      <td>0.486726</td>\n",
       "    </tr>\n",
       "    <tr>\n",
       "      <th>2021-01-26</th>\n",
       "      <td>0.658377</td>\n",
       "      <td>0.426135</td>\n",
       "      <td>0.126982</td>\n",
       "      <td>0.918401</td>\n",
       "      <td>0.087346</td>\n",
       "      <td>0.430931</td>\n",
       "      <td>0.244398</td>\n",
       "    </tr>\n",
       "    <tr>\n",
       "      <th>2021-01-27</th>\n",
       "      <td>0.924515</td>\n",
       "      <td>0.171133</td>\n",
       "      <td>0.486226</td>\n",
       "      <td>0.640282</td>\n",
       "      <td>0.851725</td>\n",
       "      <td>0.041734</td>\n",
       "      <td>0.483034</td>\n",
       "    </tr>\n",
       "    <tr>\n",
       "      <th>2021-01-28</th>\n",
       "      <td>0.484441</td>\n",
       "      <td>0.746952</td>\n",
       "      <td>0.700107</td>\n",
       "      <td>0.155499</td>\n",
       "      <td>0.630007</td>\n",
       "      <td>0.936639</td>\n",
       "      <td>0.114730</td>\n",
       "    </tr>\n",
       "    <tr>\n",
       "      <th>2021-01-29</th>\n",
       "      <td>0.616577</td>\n",
       "      <td>0.494339</td>\n",
       "      <td>0.070571</td>\n",
       "      <td>0.909646</td>\n",
       "      <td>0.252987</td>\n",
       "      <td>0.116527</td>\n",
       "      <td>0.812215</td>\n",
       "    </tr>\n",
       "    <tr>\n",
       "      <th>2021-01-30</th>\n",
       "      <td>0.388951</td>\n",
       "      <td>0.804967</td>\n",
       "      <td>0.854447</td>\n",
       "      <td>0.702142</td>\n",
       "      <td>0.334288</td>\n",
       "      <td>0.456300</td>\n",
       "      <td>0.877928</td>\n",
       "    </tr>\n",
       "    <tr>\n",
       "      <th>2021-01-31</th>\n",
       "      <td>0.303736</td>\n",
       "      <td>0.817751</td>\n",
       "      <td>0.249941</td>\n",
       "      <td>0.658995</td>\n",
       "      <td>0.731049</td>\n",
       "      <td>0.333056</td>\n",
       "      <td>0.402837</td>\n",
       "    </tr>\n",
       "  </tbody>\n",
       "</table>\n",
       "</div>"
      ],
      "text/plain": [
       "                   A         B         C         D          E         F  \\\n",
       "2021-01-25  0.064676  0.236445  0.197236  0.905784  88.000000  0.862255   \n",
       "2021-01-26  0.658377  0.426135  0.126982  0.918401   0.087346  0.430931   \n",
       "2021-01-27  0.924515  0.171133  0.486226  0.640282   0.851725  0.041734   \n",
       "2021-01-28  0.484441  0.746952  0.700107  0.155499   0.630007  0.936639   \n",
       "2021-01-29  0.616577  0.494339  0.070571  0.909646   0.252987  0.116527   \n",
       "2021-01-30  0.388951  0.804967  0.854447  0.702142   0.334288  0.456300   \n",
       "2021-01-31  0.303736  0.817751  0.249941  0.658995   0.731049  0.333056   \n",
       "\n",
       "                   G  \n",
       "2021-01-25  0.486726  \n",
       "2021-01-26  0.244398  \n",
       "2021-01-27  0.483034  \n",
       "2021-01-28  0.114730  \n",
       "2021-01-29  0.812215  \n",
       "2021-01-30  0.877928  \n",
       "2021-01-31  0.402837  "
      ]
     },
     "execution_count": 95,
     "metadata": {},
     "output_type": "execute_result"
    }
   ],
   "source": [
    "d2[d2.isin([100])]=88\n",
    "d2"
   ]
  },
  {
   "cell_type": "code",
   "execution_count": 93,
   "id": "1ba4ff3b",
   "metadata": {},
   "outputs": [
    {
     "data": {
      "text/html": [
       "<div>\n",
       "<style scoped>\n",
       "    .dataframe tbody tr th:only-of-type {\n",
       "        vertical-align: middle;\n",
       "    }\n",
       "\n",
       "    .dataframe tbody tr th {\n",
       "        vertical-align: top;\n",
       "    }\n",
       "\n",
       "    .dataframe thead th {\n",
       "        text-align: right;\n",
       "    }\n",
       "</style>\n",
       "<table border=\"1\" class=\"dataframe\">\n",
       "  <thead>\n",
       "    <tr style=\"text-align: right;\">\n",
       "      <th></th>\n",
       "      <th>A</th>\n",
       "      <th>B</th>\n",
       "      <th>C</th>\n",
       "      <th>D</th>\n",
       "      <th>E</th>\n",
       "      <th>F</th>\n",
       "      <th>G</th>\n",
       "    </tr>\n",
       "  </thead>\n",
       "  <tbody>\n",
       "  </tbody>\n",
       "</table>\n",
       "</div>"
      ],
      "text/plain": [
       "Empty DataFrame\n",
       "Columns: [A, B, C, D, E, F, G]\n",
       "Index: []"
      ]
     },
     "execution_count": 93,
     "metadata": {},
     "output_type": "execute_result"
    }
   ],
   "source": [
    "d2[d2[\"C\"]==95]"
   ]
  },
  {
   "cell_type": "code",
   "execution_count": 96,
   "id": "8fcdf50f",
   "metadata": {},
   "outputs": [
    {
     "data": {
      "text/html": [
       "<div>\n",
       "<style scoped>\n",
       "    .dataframe tbody tr th:only-of-type {\n",
       "        vertical-align: middle;\n",
       "    }\n",
       "\n",
       "    .dataframe tbody tr th {\n",
       "        vertical-align: top;\n",
       "    }\n",
       "\n",
       "    .dataframe thead th {\n",
       "        text-align: right;\n",
       "    }\n",
       "</style>\n",
       "<table border=\"1\" class=\"dataframe\">\n",
       "  <thead>\n",
       "    <tr style=\"text-align: right;\">\n",
       "      <th></th>\n",
       "      <th>A</th>\n",
       "      <th>B</th>\n",
       "      <th>C</th>\n",
       "      <th>D</th>\n",
       "      <th>E</th>\n",
       "      <th>F</th>\n",
       "      <th>G</th>\n",
       "    </tr>\n",
       "  </thead>\n",
       "  <tbody>\n",
       "  </tbody>\n",
       "</table>\n",
       "</div>"
      ],
      "text/plain": [
       "Empty DataFrame\n",
       "Columns: [A, B, C, D, E, F, G]\n",
       "Index: []"
      ]
     },
     "execution_count": 96,
     "metadata": {},
     "output_type": "execute_result"
    }
   ],
   "source": [
    "d2[d2[\"C\"]==90]"
   ]
  },
  {
   "cell_type": "code",
   "execution_count": 61,
   "id": "1e8df2a5",
   "metadata": {},
   "outputs": [
    {
     "data": {
      "text/html": [
       "<div>\n",
       "<style scoped>\n",
       "    .dataframe tbody tr th:only-of-type {\n",
       "        vertical-align: middle;\n",
       "    }\n",
       "\n",
       "    .dataframe tbody tr th {\n",
       "        vertical-align: top;\n",
       "    }\n",
       "\n",
       "    .dataframe thead th {\n",
       "        text-align: right;\n",
       "    }\n",
       "</style>\n",
       "<table border=\"1\" class=\"dataframe\">\n",
       "  <thead>\n",
       "    <tr style=\"text-align: right;\">\n",
       "      <th></th>\n",
       "      <th>0</th>\n",
       "      <th>1</th>\n",
       "      <th>2</th>\n",
       "      <th>3</th>\n",
       "      <th>4</th>\n",
       "      <th>5</th>\n",
       "      <th>6</th>\n",
       "      <th>C</th>\n",
       "    </tr>\n",
       "  </thead>\n",
       "  <tbody>\n",
       "    <tr>\n",
       "      <th>2021-01-25</th>\n",
       "      <td>0.064676</td>\n",
       "      <td>0.236445</td>\n",
       "      <td>0.197236</td>\n",
       "      <td>0.905784</td>\n",
       "      <td>88.000000</td>\n",
       "      <td>0.862255</td>\n",
       "      <td>0.486726</td>\n",
       "      <td>90.0</td>\n",
       "    </tr>\n",
       "    <tr>\n",
       "      <th>2021-01-26</th>\n",
       "      <td>0.658377</td>\n",
       "      <td>0.426135</td>\n",
       "      <td>0.126982</td>\n",
       "      <td>0.918401</td>\n",
       "      <td>0.087346</td>\n",
       "      <td>0.430931</td>\n",
       "      <td>0.244398</td>\n",
       "      <td>90.0</td>\n",
       "    </tr>\n",
       "    <tr>\n",
       "      <th>2021-01-27</th>\n",
       "      <td>0.924515</td>\n",
       "      <td>0.171133</td>\n",
       "      <td>0.486226</td>\n",
       "      <td>0.640282</td>\n",
       "      <td>0.851725</td>\n",
       "      <td>0.041734</td>\n",
       "      <td>0.483034</td>\n",
       "      <td>90.0</td>\n",
       "    </tr>\n",
       "    <tr>\n",
       "      <th>2021-01-28</th>\n",
       "      <td>0.484441</td>\n",
       "      <td>0.746952</td>\n",
       "      <td>0.700107</td>\n",
       "      <td>0.155499</td>\n",
       "      <td>0.630007</td>\n",
       "      <td>0.936639</td>\n",
       "      <td>0.114730</td>\n",
       "      <td>NaN</td>\n",
       "    </tr>\n",
       "    <tr>\n",
       "      <th>2021-01-29</th>\n",
       "      <td>0.616577</td>\n",
       "      <td>0.494339</td>\n",
       "      <td>0.070571</td>\n",
       "      <td>0.909646</td>\n",
       "      <td>0.252987</td>\n",
       "      <td>0.116527</td>\n",
       "      <td>0.812215</td>\n",
       "      <td>NaN</td>\n",
       "    </tr>\n",
       "    <tr>\n",
       "      <th>2021-01-30</th>\n",
       "      <td>0.388951</td>\n",
       "      <td>0.804967</td>\n",
       "      <td>0.854447</td>\n",
       "      <td>0.702142</td>\n",
       "      <td>0.334288</td>\n",
       "      <td>0.456300</td>\n",
       "      <td>0.877928</td>\n",
       "      <td>NaN</td>\n",
       "    </tr>\n",
       "    <tr>\n",
       "      <th>2021-01-31</th>\n",
       "      <td>0.303736</td>\n",
       "      <td>0.817751</td>\n",
       "      <td>0.249941</td>\n",
       "      <td>0.658995</td>\n",
       "      <td>0.731049</td>\n",
       "      <td>0.333056</td>\n",
       "      <td>0.402837</td>\n",
       "      <td>NaN</td>\n",
       "    </tr>\n",
       "  </tbody>\n",
       "</table>\n",
       "</div>"
      ],
      "text/plain": [
       "                   0         1         2         3          4         5  \\\n",
       "2021-01-25  0.064676  0.236445  0.197236  0.905784  88.000000  0.862255   \n",
       "2021-01-26  0.658377  0.426135  0.126982  0.918401   0.087346  0.430931   \n",
       "2021-01-27  0.924515  0.171133  0.486226  0.640282   0.851725  0.041734   \n",
       "2021-01-28  0.484441  0.746952  0.700107  0.155499   0.630007  0.936639   \n",
       "2021-01-29  0.616577  0.494339  0.070571  0.909646   0.252987  0.116527   \n",
       "2021-01-30  0.388951  0.804967  0.854447  0.702142   0.334288  0.456300   \n",
       "2021-01-31  0.303736  0.817751  0.249941  0.658995   0.731049  0.333056   \n",
       "\n",
       "                   6     C  \n",
       "2021-01-25  0.486726  90.0  \n",
       "2021-01-26  0.244398  90.0  \n",
       "2021-01-27  0.483034  90.0  \n",
       "2021-01-28  0.114730   NaN  \n",
       "2021-01-29  0.812215   NaN  \n",
       "2021-01-30  0.877928   NaN  \n",
       "2021-01-31  0.402837   NaN  "
      ]
     },
     "execution_count": 61,
     "metadata": {},
     "output_type": "execute_result"
    }
   ],
   "source": [
    "d2[d2.isin([100])]=88\n",
    "d2"
   ]
  },
  {
   "cell_type": "code",
   "execution_count": 62,
   "id": "20b46935",
   "metadata": {},
   "outputs": [
    {
     "data": {
      "text/html": [
       "<div>\n",
       "<style scoped>\n",
       "    .dataframe tbody tr th:only-of-type {\n",
       "        vertical-align: middle;\n",
       "    }\n",
       "\n",
       "    .dataframe tbody tr th {\n",
       "        vertical-align: top;\n",
       "    }\n",
       "\n",
       "    .dataframe thead th {\n",
       "        text-align: right;\n",
       "    }\n",
       "</style>\n",
       "<table border=\"1\" class=\"dataframe\">\n",
       "  <thead>\n",
       "    <tr style=\"text-align: right;\">\n",
       "      <th></th>\n",
       "      <th>0</th>\n",
       "      <th>1</th>\n",
       "      <th>2</th>\n",
       "      <th>3</th>\n",
       "      <th>4</th>\n",
       "      <th>5</th>\n",
       "      <th>6</th>\n",
       "      <th>C</th>\n",
       "    </tr>\n",
       "  </thead>\n",
       "  <tbody>\n",
       "    <tr>\n",
       "      <th>2021-01-25</th>\n",
       "      <td>0.064676</td>\n",
       "      <td>0.236445</td>\n",
       "      <td>0.197236</td>\n",
       "      <td>0.905784</td>\n",
       "      <td>88.000000</td>\n",
       "      <td>0.862255</td>\n",
       "      <td>0.486726</td>\n",
       "      <td>90.0</td>\n",
       "    </tr>\n",
       "    <tr>\n",
       "      <th>2021-01-26</th>\n",
       "      <td>0.658377</td>\n",
       "      <td>0.426135</td>\n",
       "      <td>0.126982</td>\n",
       "      <td>0.918401</td>\n",
       "      <td>0.087346</td>\n",
       "      <td>0.430931</td>\n",
       "      <td>0.244398</td>\n",
       "      <td>90.0</td>\n",
       "    </tr>\n",
       "    <tr>\n",
       "      <th>2021-01-27</th>\n",
       "      <td>0.924515</td>\n",
       "      <td>0.171133</td>\n",
       "      <td>0.486226</td>\n",
       "      <td>0.640282</td>\n",
       "      <td>0.851725</td>\n",
       "      <td>0.041734</td>\n",
       "      <td>0.483034</td>\n",
       "      <td>90.0</td>\n",
       "    </tr>\n",
       "  </tbody>\n",
       "</table>\n",
       "</div>"
      ],
      "text/plain": [
       "                   0         1         2         3          4         5  \\\n",
       "2021-01-25  0.064676  0.236445  0.197236  0.905784  88.000000  0.862255   \n",
       "2021-01-26  0.658377  0.426135  0.126982  0.918401   0.087346  0.430931   \n",
       "2021-01-27  0.924515  0.171133  0.486226  0.640282   0.851725  0.041734   \n",
       "\n",
       "                   6     C  \n",
       "2021-01-25  0.486726  90.0  \n",
       "2021-01-26  0.244398  90.0  \n",
       "2021-01-27  0.483034  90.0  "
      ]
     },
     "execution_count": 62,
     "metadata": {},
     "output_type": "execute_result"
    }
   ],
   "source": [
    "d2[d2[\"C\"]==90]"
   ]
  },
  {
   "cell_type": "code",
   "execution_count": 64,
   "id": "773e3184",
   "metadata": {},
   "outputs": [
    {
     "data": {
      "text/html": [
       "<div>\n",
       "<style scoped>\n",
       "    .dataframe tbody tr th:only-of-type {\n",
       "        vertical-align: middle;\n",
       "    }\n",
       "\n",
       "    .dataframe tbody tr th {\n",
       "        vertical-align: top;\n",
       "    }\n",
       "\n",
       "    .dataframe thead th {\n",
       "        text-align: right;\n",
       "    }\n",
       "</style>\n",
       "<table border=\"1\" class=\"dataframe\">\n",
       "  <thead>\n",
       "    <tr style=\"text-align: right;\">\n",
       "      <th></th>\n",
       "      <th>0</th>\n",
       "      <th>1</th>\n",
       "      <th>2</th>\n",
       "      <th>3</th>\n",
       "      <th>4</th>\n",
       "      <th>5</th>\n",
       "      <th>6</th>\n",
       "      <th>C</th>\n",
       "    </tr>\n",
       "  </thead>\n",
       "  <tbody>\n",
       "  </tbody>\n",
       "</table>\n",
       "</div>"
      ],
      "text/plain": [
       "Empty DataFrame\n",
       "Columns: [0, 1, 2, 3, 4, 5, 6, C]\n",
       "Index: []"
      ]
     },
     "execution_count": 64,
     "metadata": {},
     "output_type": "execute_result"
    }
   ],
   "source": [
    "d2[d2[\"C\"]==95]"
   ]
  },
  {
   "cell_type": "markdown",
   "id": "2393dede",
   "metadata": {},
   "source": [
    "### DESCRIPTIVE STATITICS"
   ]
  },
  {
   "cell_type": "code",
   "execution_count": 65,
   "id": "167fa804",
   "metadata": {},
   "outputs": [
    {
     "data": {
      "text/html": [
       "<div>\n",
       "<style scoped>\n",
       "    .dataframe tbody tr th:only-of-type {\n",
       "        vertical-align: middle;\n",
       "    }\n",
       "\n",
       "    .dataframe tbody tr th {\n",
       "        vertical-align: top;\n",
       "    }\n",
       "\n",
       "    .dataframe thead th {\n",
       "        text-align: right;\n",
       "    }\n",
       "</style>\n",
       "<table border=\"1\" class=\"dataframe\">\n",
       "  <thead>\n",
       "    <tr style=\"text-align: right;\">\n",
       "      <th></th>\n",
       "      <th>0</th>\n",
       "      <th>1</th>\n",
       "      <th>2</th>\n",
       "      <th>3</th>\n",
       "      <th>4</th>\n",
       "      <th>5</th>\n",
       "      <th>6</th>\n",
       "      <th>C</th>\n",
       "    </tr>\n",
       "  </thead>\n",
       "  <tbody>\n",
       "    <tr>\n",
       "      <th>2021-01-25</th>\n",
       "      <td>0.064676</td>\n",
       "      <td>0.236445</td>\n",
       "      <td>0.197236</td>\n",
       "      <td>0.905784</td>\n",
       "      <td>88.000000</td>\n",
       "      <td>0.862255</td>\n",
       "      <td>0.486726</td>\n",
       "      <td>90.0</td>\n",
       "    </tr>\n",
       "    <tr>\n",
       "      <th>2021-01-26</th>\n",
       "      <td>0.658377</td>\n",
       "      <td>0.426135</td>\n",
       "      <td>0.126982</td>\n",
       "      <td>0.918401</td>\n",
       "      <td>0.087346</td>\n",
       "      <td>0.430931</td>\n",
       "      <td>0.244398</td>\n",
       "      <td>90.0</td>\n",
       "    </tr>\n",
       "    <tr>\n",
       "      <th>2021-01-27</th>\n",
       "      <td>0.924515</td>\n",
       "      <td>0.171133</td>\n",
       "      <td>0.486226</td>\n",
       "      <td>0.640282</td>\n",
       "      <td>0.851725</td>\n",
       "      <td>0.041734</td>\n",
       "      <td>0.483034</td>\n",
       "      <td>90.0</td>\n",
       "    </tr>\n",
       "    <tr>\n",
       "      <th>2021-01-28</th>\n",
       "      <td>0.484441</td>\n",
       "      <td>0.746952</td>\n",
       "      <td>0.700107</td>\n",
       "      <td>0.155499</td>\n",
       "      <td>0.630007</td>\n",
       "      <td>0.936639</td>\n",
       "      <td>0.114730</td>\n",
       "      <td>NaN</td>\n",
       "    </tr>\n",
       "    <tr>\n",
       "      <th>2021-01-29</th>\n",
       "      <td>0.616577</td>\n",
       "      <td>0.494339</td>\n",
       "      <td>0.070571</td>\n",
       "      <td>0.909646</td>\n",
       "      <td>0.252987</td>\n",
       "      <td>0.116527</td>\n",
       "      <td>0.812215</td>\n",
       "      <td>NaN</td>\n",
       "    </tr>\n",
       "    <tr>\n",
       "      <th>2021-01-30</th>\n",
       "      <td>0.388951</td>\n",
       "      <td>0.804967</td>\n",
       "      <td>0.854447</td>\n",
       "      <td>0.702142</td>\n",
       "      <td>0.334288</td>\n",
       "      <td>0.456300</td>\n",
       "      <td>0.877928</td>\n",
       "      <td>NaN</td>\n",
       "    </tr>\n",
       "    <tr>\n",
       "      <th>2021-01-31</th>\n",
       "      <td>0.303736</td>\n",
       "      <td>0.817751</td>\n",
       "      <td>0.249941</td>\n",
       "      <td>0.658995</td>\n",
       "      <td>0.731049</td>\n",
       "      <td>0.333056</td>\n",
       "      <td>0.402837</td>\n",
       "      <td>NaN</td>\n",
       "    </tr>\n",
       "  </tbody>\n",
       "</table>\n",
       "</div>"
      ],
      "text/plain": [
       "                   0         1         2         3          4         5  \\\n",
       "2021-01-25  0.064676  0.236445  0.197236  0.905784  88.000000  0.862255   \n",
       "2021-01-26  0.658377  0.426135  0.126982  0.918401   0.087346  0.430931   \n",
       "2021-01-27  0.924515  0.171133  0.486226  0.640282   0.851725  0.041734   \n",
       "2021-01-28  0.484441  0.746952  0.700107  0.155499   0.630007  0.936639   \n",
       "2021-01-29  0.616577  0.494339  0.070571  0.909646   0.252987  0.116527   \n",
       "2021-01-30  0.388951  0.804967  0.854447  0.702142   0.334288  0.456300   \n",
       "2021-01-31  0.303736  0.817751  0.249941  0.658995   0.731049  0.333056   \n",
       "\n",
       "                   6     C  \n",
       "2021-01-25  0.486726  90.0  \n",
       "2021-01-26  0.244398  90.0  \n",
       "2021-01-27  0.483034  90.0  \n",
       "2021-01-28  0.114730   NaN  \n",
       "2021-01-29  0.812215   NaN  \n",
       "2021-01-30  0.877928   NaN  \n",
       "2021-01-31  0.402837   NaN  "
      ]
     },
     "execution_count": 65,
     "metadata": {},
     "output_type": "execute_result"
    }
   ],
   "source": [
    "d2"
   ]
  },
  {
   "cell_type": "code",
   "execution_count": 67,
   "id": "4279d99b",
   "metadata": {},
   "outputs": [
    {
     "data": {
      "text/plain": [
       "0     0.924515\n",
       "1     0.817751\n",
       "2     0.854447\n",
       "3     0.918401\n",
       "4    88.000000\n",
       "5     0.936639\n",
       "6     0.877928\n",
       "C    90.000000\n",
       "dtype: float64"
      ]
     },
     "execution_count": 67,
     "metadata": {},
     "output_type": "execute_result"
    }
   ],
   "source": [
    "d2.max()"
   ]
  },
  {
   "cell_type": "code",
   "execution_count": 68,
   "id": "ae1f7157",
   "metadata": {},
   "outputs": [
    {
     "data": {
      "text/plain": [
       "0     0.064676\n",
       "1     0.171133\n",
       "2     0.070571\n",
       "3     0.155499\n",
       "4     0.087346\n",
       "5     0.041734\n",
       "6     0.114730\n",
       "C    90.000000\n",
       "dtype: float64"
      ]
     },
     "execution_count": 68,
     "metadata": {},
     "output_type": "execute_result"
    }
   ],
   "source": [
    "d2.min()"
   ]
  },
  {
   "cell_type": "code",
   "execution_count": 70,
   "id": "82b2a3d9",
   "metadata": {},
   "outputs": [
    {
     "data": {
      "text/plain": [
       "0     0.484441\n",
       "1     0.494339\n",
       "2     0.249941\n",
       "3     0.702142\n",
       "4     0.630007\n",
       "5     0.430931\n",
       "6     0.483034\n",
       "C    90.000000\n",
       "dtype: float64"
      ]
     },
     "execution_count": 70,
     "metadata": {},
     "output_type": "execute_result"
    }
   ],
   "source": [
    "d2.median()"
   ]
  },
  {
   "cell_type": "code",
   "execution_count": 71,
   "id": "b9cc68c2",
   "metadata": {},
   "outputs": [
    {
     "data": {
      "text/plain": [
       "0     0.276584\n",
       "1     0.268475\n",
       "2     0.302446\n",
       "3     0.269481\n",
       "4    33.080120\n",
       "5     0.341230\n",
       "6     0.277821\n",
       "C     0.000000\n",
       "dtype: float64"
      ]
     },
     "execution_count": 71,
     "metadata": {},
     "output_type": "execute_result"
    }
   ],
   "source": [
    "d2.std() ##std deviation"
   ]
  },
  {
   "cell_type": "code",
   "execution_count": 72,
   "id": "6fa31f8f",
   "metadata": {},
   "outputs": [
    {
     "data": {
      "text/html": [
       "<div>\n",
       "<style scoped>\n",
       "    .dataframe tbody tr th:only-of-type {\n",
       "        vertical-align: middle;\n",
       "    }\n",
       "\n",
       "    .dataframe tbody tr th {\n",
       "        vertical-align: top;\n",
       "    }\n",
       "\n",
       "    .dataframe thead th {\n",
       "        text-align: right;\n",
       "    }\n",
       "</style>\n",
       "<table border=\"1\" class=\"dataframe\">\n",
       "  <thead>\n",
       "    <tr style=\"text-align: right;\">\n",
       "      <th></th>\n",
       "      <th>0</th>\n",
       "      <th>1</th>\n",
       "      <th>2</th>\n",
       "      <th>3</th>\n",
       "      <th>4</th>\n",
       "      <th>5</th>\n",
       "      <th>6</th>\n",
       "    </tr>\n",
       "  </thead>\n",
       "  <tbody>\n",
       "    <tr>\n",
       "      <th>2021-01-25</th>\n",
       "      <td>0.064676</td>\n",
       "      <td>0.236445</td>\n",
       "      <td>0.197236</td>\n",
       "      <td>0.905784</td>\n",
       "      <td>100.000000</td>\n",
       "      <td>0.862255</td>\n",
       "      <td>0.486726</td>\n",
       "    </tr>\n",
       "    <tr>\n",
       "      <th>2021-01-26</th>\n",
       "      <td>0.658377</td>\n",
       "      <td>0.426135</td>\n",
       "      <td>0.126982</td>\n",
       "      <td>0.918401</td>\n",
       "      <td>0.087346</td>\n",
       "      <td>0.430931</td>\n",
       "      <td>0.244398</td>\n",
       "    </tr>\n",
       "    <tr>\n",
       "      <th>2021-01-27</th>\n",
       "      <td>0.924515</td>\n",
       "      <td>0.171133</td>\n",
       "      <td>0.486226</td>\n",
       "      <td>0.640282</td>\n",
       "      <td>0.851725</td>\n",
       "      <td>0.041734</td>\n",
       "      <td>0.483034</td>\n",
       "    </tr>\n",
       "    <tr>\n",
       "      <th>2021-01-28</th>\n",
       "      <td>0.484441</td>\n",
       "      <td>0.746952</td>\n",
       "      <td>0.700107</td>\n",
       "      <td>0.155499</td>\n",
       "      <td>0.630007</td>\n",
       "      <td>0.936639</td>\n",
       "      <td>0.114730</td>\n",
       "    </tr>\n",
       "    <tr>\n",
       "      <th>2021-01-29</th>\n",
       "      <td>0.616577</td>\n",
       "      <td>0.494339</td>\n",
       "      <td>0.070571</td>\n",
       "      <td>0.909646</td>\n",
       "      <td>0.252987</td>\n",
       "      <td>0.116527</td>\n",
       "      <td>0.812215</td>\n",
       "    </tr>\n",
       "    <tr>\n",
       "      <th>2021-01-30</th>\n",
       "      <td>0.388951</td>\n",
       "      <td>0.804967</td>\n",
       "      <td>0.854447</td>\n",
       "      <td>0.702142</td>\n",
       "      <td>0.334288</td>\n",
       "      <td>0.456300</td>\n",
       "      <td>0.877928</td>\n",
       "    </tr>\n",
       "    <tr>\n",
       "      <th>2021-01-31</th>\n",
       "      <td>0.303736</td>\n",
       "      <td>0.817751</td>\n",
       "      <td>0.249941</td>\n",
       "      <td>0.658995</td>\n",
       "      <td>0.731049</td>\n",
       "      <td>0.333056</td>\n",
       "      <td>0.402837</td>\n",
       "    </tr>\n",
       "  </tbody>\n",
       "</table>\n",
       "</div>"
      ],
      "text/plain": [
       "                   0         1         2         3           4         5  \\\n",
       "2021-01-25  0.064676  0.236445  0.197236  0.905784  100.000000  0.862255   \n",
       "2021-01-26  0.658377  0.426135  0.126982  0.918401    0.087346  0.430931   \n",
       "2021-01-27  0.924515  0.171133  0.486226  0.640282    0.851725  0.041734   \n",
       "2021-01-28  0.484441  0.746952  0.700107  0.155499    0.630007  0.936639   \n",
       "2021-01-29  0.616577  0.494339  0.070571  0.909646    0.252987  0.116527   \n",
       "2021-01-30  0.388951  0.804967  0.854447  0.702142    0.334288  0.456300   \n",
       "2021-01-31  0.303736  0.817751  0.249941  0.658995    0.731049  0.333056   \n",
       "\n",
       "                   6  \n",
       "2021-01-25  0.486726  \n",
       "2021-01-26  0.244398  \n",
       "2021-01-27  0.483034  \n",
       "2021-01-28  0.114730  \n",
       "2021-01-29  0.812215  \n",
       "2021-01-30  0.877928  \n",
       "2021-01-31  0.402837  "
      ]
     },
     "execution_count": 72,
     "metadata": {},
     "output_type": "execute_result"
    }
   ],
   "source": [
    "d2=pd.DataFrame(r,date3)\n",
    "d2"
   ]
  },
  {
   "cell_type": "code",
   "execution_count": 73,
   "id": "f26438ef",
   "metadata": {},
   "outputs": [
    {
     "data": {
      "text/html": [
       "<div>\n",
       "<style scoped>\n",
       "    .dataframe tbody tr th:only-of-type {\n",
       "        vertical-align: middle;\n",
       "    }\n",
       "\n",
       "    .dataframe tbody tr th {\n",
       "        vertical-align: top;\n",
       "    }\n",
       "\n",
       "    .dataframe thead th {\n",
       "        text-align: right;\n",
       "    }\n",
       "</style>\n",
       "<table border=\"1\" class=\"dataframe\">\n",
       "  <thead>\n",
       "    <tr style=\"text-align: right;\">\n",
       "      <th></th>\n",
       "      <th>A</th>\n",
       "      <th>B</th>\n",
       "      <th>C</th>\n",
       "      <th>D</th>\n",
       "      <th>E</th>\n",
       "      <th>F</th>\n",
       "      <th>G</th>\n",
       "    </tr>\n",
       "  </thead>\n",
       "  <tbody>\n",
       "    <tr>\n",
       "      <th>2021-01-25</th>\n",
       "      <td>0.064676</td>\n",
       "      <td>0.236445</td>\n",
       "      <td>0.197236</td>\n",
       "      <td>0.905784</td>\n",
       "      <td>100.000000</td>\n",
       "      <td>0.862255</td>\n",
       "      <td>0.486726</td>\n",
       "    </tr>\n",
       "    <tr>\n",
       "      <th>2021-01-26</th>\n",
       "      <td>0.658377</td>\n",
       "      <td>0.426135</td>\n",
       "      <td>0.126982</td>\n",
       "      <td>0.918401</td>\n",
       "      <td>0.087346</td>\n",
       "      <td>0.430931</td>\n",
       "      <td>0.244398</td>\n",
       "    </tr>\n",
       "    <tr>\n",
       "      <th>2021-01-27</th>\n",
       "      <td>0.924515</td>\n",
       "      <td>0.171133</td>\n",
       "      <td>0.486226</td>\n",
       "      <td>0.640282</td>\n",
       "      <td>0.851725</td>\n",
       "      <td>0.041734</td>\n",
       "      <td>0.483034</td>\n",
       "    </tr>\n",
       "    <tr>\n",
       "      <th>2021-01-28</th>\n",
       "      <td>0.484441</td>\n",
       "      <td>0.746952</td>\n",
       "      <td>0.700107</td>\n",
       "      <td>0.155499</td>\n",
       "      <td>0.630007</td>\n",
       "      <td>0.936639</td>\n",
       "      <td>0.114730</td>\n",
       "    </tr>\n",
       "    <tr>\n",
       "      <th>2021-01-29</th>\n",
       "      <td>0.616577</td>\n",
       "      <td>0.494339</td>\n",
       "      <td>0.070571</td>\n",
       "      <td>0.909646</td>\n",
       "      <td>0.252987</td>\n",
       "      <td>0.116527</td>\n",
       "      <td>0.812215</td>\n",
       "    </tr>\n",
       "    <tr>\n",
       "      <th>2021-01-30</th>\n",
       "      <td>0.388951</td>\n",
       "      <td>0.804967</td>\n",
       "      <td>0.854447</td>\n",
       "      <td>0.702142</td>\n",
       "      <td>0.334288</td>\n",
       "      <td>0.456300</td>\n",
       "      <td>0.877928</td>\n",
       "    </tr>\n",
       "    <tr>\n",
       "      <th>2021-01-31</th>\n",
       "      <td>0.303736</td>\n",
       "      <td>0.817751</td>\n",
       "      <td>0.249941</td>\n",
       "      <td>0.658995</td>\n",
       "      <td>0.731049</td>\n",
       "      <td>0.333056</td>\n",
       "      <td>0.402837</td>\n",
       "    </tr>\n",
       "  </tbody>\n",
       "</table>\n",
       "</div>"
      ],
      "text/plain": [
       "                   A         B         C         D           E         F  \\\n",
       "2021-01-25  0.064676  0.236445  0.197236  0.905784  100.000000  0.862255   \n",
       "2021-01-26  0.658377  0.426135  0.126982  0.918401    0.087346  0.430931   \n",
       "2021-01-27  0.924515  0.171133  0.486226  0.640282    0.851725  0.041734   \n",
       "2021-01-28  0.484441  0.746952  0.700107  0.155499    0.630007  0.936639   \n",
       "2021-01-29  0.616577  0.494339  0.070571  0.909646    0.252987  0.116527   \n",
       "2021-01-30  0.388951  0.804967  0.854447  0.702142    0.334288  0.456300   \n",
       "2021-01-31  0.303736  0.817751  0.249941  0.658995    0.731049  0.333056   \n",
       "\n",
       "                   G  \n",
       "2021-01-25  0.486726  \n",
       "2021-01-26  0.244398  \n",
       "2021-01-27  0.483034  \n",
       "2021-01-28  0.114730  \n",
       "2021-01-29  0.812215  \n",
       "2021-01-30  0.877928  \n",
       "2021-01-31  0.402837  "
      ]
     },
     "execution_count": 73,
     "metadata": {},
     "output_type": "execute_result"
    }
   ],
   "source": [
    "d2.columns=[\"A\",\"B\",\"C\",\"D\",\"E\",\"F\",\"G\"]\n",
    "d2"
   ]
  },
  {
   "cell_type": "code",
   "execution_count": 84,
   "id": "1661f18d",
   "metadata": {},
   "outputs": [
    {
     "data": {
      "text/plain": [
       "A      0.924515\n",
       "B      0.817751\n",
       "C      0.854447\n",
       "D      0.918401\n",
       "E    100.000000\n",
       "F      0.936639\n",
       "G      0.877928\n",
       "dtype: float64"
      ]
     },
     "execution_count": 84,
     "metadata": {},
     "output_type": "execute_result"
    }
   ],
   "source": [
    "d2.max()"
   ]
  },
  {
   "cell_type": "code",
   "execution_count": 85,
   "id": "f5147773",
   "metadata": {},
   "outputs": [
    {
     "data": {
      "text/plain": [
       "A    0.064676\n",
       "B    0.171133\n",
       "C    0.070571\n",
       "D    0.155499\n",
       "E    0.087346\n",
       "F    0.041734\n",
       "G    0.114730\n",
       "dtype: float64"
      ]
     },
     "execution_count": 85,
     "metadata": {},
     "output_type": "execute_result"
    }
   ],
   "source": [
    "d2.min()"
   ]
  },
  {
   "cell_type": "code",
   "execution_count": 87,
   "id": "d90d1be9",
   "metadata": {},
   "outputs": [
    {
     "data": {
      "text/plain": [
       "A    0.484441\n",
       "B    0.494339\n",
       "C    0.249941\n",
       "D    0.702142\n",
       "E    0.630007\n",
       "F    0.430931\n",
       "G    0.483034\n",
       "dtype: float64"
      ]
     },
     "execution_count": 87,
     "metadata": {},
     "output_type": "execute_result"
    }
   ],
   "source": [
    "d2.median()"
   ]
  },
  {
   "cell_type": "code",
   "execution_count": 74,
   "id": "0af99f47",
   "metadata": {},
   "outputs": [
    {
     "data": {
      "text/plain": [
       "A       0.076499\n",
       "B       0.072079\n",
       "C       0.091474\n",
       "D       0.072620\n",
       "E    1414.930087\n",
       "F       0.116438\n",
       "G       0.077184\n",
       "dtype: float64"
      ]
     },
     "execution_count": 74,
     "metadata": {},
     "output_type": "execute_result"
    }
   ],
   "source": [
    "d2.var() ## variane"
   ]
  },
  {
   "cell_type": "code",
   "execution_count": 89,
   "id": "6b253ebd",
   "metadata": {},
   "outputs": [
    {
     "data": {
      "text/plain": [
       "A     0.276584\n",
       "B     0.268475\n",
       "C     0.302446\n",
       "D     0.269481\n",
       "E    37.615556\n",
       "F     0.341230\n",
       "G     0.277821\n",
       "dtype: float64"
      ]
     },
     "execution_count": 89,
     "metadata": {},
     "output_type": "execute_result"
    }
   ],
   "source": [
    "d2.std()"
   ]
  },
  {
   "cell_type": "code",
   "execution_count": 83,
   "id": "51145b27",
   "metadata": {},
   "outputs": [
    {
     "data": {
      "text/plain": [
       "0.06467617070275733"
      ]
     },
     "execution_count": 83,
     "metadata": {},
     "output_type": "execute_result"
    }
   ],
   "source": [
    "d2[\"A\"].min()"
   ]
  },
  {
   "cell_type": "code",
   "execution_count": 75,
   "id": "822ec115",
   "metadata": {},
   "outputs": [
    {
     "data": {
      "text/plain": [
       "A    0.346344\n",
       "B    0.331290\n",
       "C    0.162109\n",
       "D    0.649638\n",
       "E    0.293637\n",
       "F    0.224791\n",
       "G    0.323617\n",
       "Name: 0.25, dtype: float64"
      ]
     },
     "execution_count": 75,
     "metadata": {},
     "output_type": "execute_result"
    }
   ],
   "source": [
    "d2.quantile(0.25) ##lower quartile/first quartile"
   ]
  },
  {
   "cell_type": "code",
   "execution_count": 76,
   "id": "94646738",
   "metadata": {},
   "outputs": [
    {
     "data": {
      "text/plain": [
       "A    0.484441\n",
       "B    0.494339\n",
       "C    0.249941\n",
       "D    0.702142\n",
       "E    0.630007\n",
       "F    0.430931\n",
       "G    0.483034\n",
       "Name: 0.5, dtype: float64"
      ]
     },
     "execution_count": 76,
     "metadata": {},
     "output_type": "execute_result"
    }
   ],
   "source": [
    "d2.quantile(0.50) ##second quartile/median"
   ]
  },
  {
   "cell_type": "code",
   "execution_count": 78,
   "id": "b8544496",
   "metadata": {},
   "outputs": [
    {
     "data": {
      "text/plain": [
       "A    0.637477\n",
       "B    0.775959\n",
       "C    0.593167\n",
       "D    0.907715\n",
       "E    0.791387\n",
       "F    0.659278\n",
       "G    0.649470\n",
       "Name: 0.75, dtype: float64"
      ]
     },
     "execution_count": 78,
     "metadata": {},
     "output_type": "execute_result"
    }
   ],
   "source": [
    "##upper quartile\n",
    "d2.quantile(0.75)"
   ]
  },
  {
   "cell_type": "code",
   "execution_count": 79,
   "id": "04e0fe6e",
   "metadata": {},
   "outputs": [
    {
     "data": {
      "text/plain": [
       "A    0.291133\n",
       "B    0.444669\n",
       "C    0.431057\n",
       "D    0.258076\n",
       "E    0.497750\n",
       "F    0.434486\n",
       "G    0.325853\n",
       "dtype: float64"
      ]
     },
     "execution_count": 79,
     "metadata": {},
     "output_type": "execute_result"
    }
   ],
   "source": [
    "##IQR (interquantile range)\n",
    "d2.quantile(0.75)-d2.quantile(0.25)"
   ]
  },
  {
   "cell_type": "code",
   "execution_count": 80,
   "id": "67e07c4c",
   "metadata": {},
   "outputs": [
    {
     "data": {
      "text/plain": [
       "A      3.441273\n",
       "B      3.697723\n",
       "C      2.685510\n",
       "D      4.890748\n",
       "E    102.887402\n",
       "F      3.177442\n",
       "G      3.421868\n",
       "dtype: float64"
      ]
     },
     "execution_count": 80,
     "metadata": {},
     "output_type": "execute_result"
    }
   ],
   "source": [
    "## sum of column values\n",
    "d2.sum()"
   ]
  },
  {
   "cell_type": "code",
   "execution_count": 81,
   "id": "89534680",
   "metadata": {},
   "outputs": [
    {
     "data": {
      "text/html": [
       "<div>\n",
       "<style scoped>\n",
       "    .dataframe tbody tr th:only-of-type {\n",
       "        vertical-align: middle;\n",
       "    }\n",
       "\n",
       "    .dataframe tbody tr th {\n",
       "        vertical-align: top;\n",
       "    }\n",
       "\n",
       "    .dataframe thead th {\n",
       "        text-align: right;\n",
       "    }\n",
       "</style>\n",
       "<table border=\"1\" class=\"dataframe\">\n",
       "  <thead>\n",
       "    <tr style=\"text-align: right;\">\n",
       "      <th></th>\n",
       "      <th>A</th>\n",
       "      <th>B</th>\n",
       "      <th>C</th>\n",
       "      <th>D</th>\n",
       "      <th>E</th>\n",
       "      <th>F</th>\n",
       "      <th>G</th>\n",
       "    </tr>\n",
       "  </thead>\n",
       "  <tbody>\n",
       "    <tr>\n",
       "      <th>count</th>\n",
       "      <td>7.000000</td>\n",
       "      <td>7.000000</td>\n",
       "      <td>7.000000</td>\n",
       "      <td>7.000000</td>\n",
       "      <td>7.000000</td>\n",
       "      <td>7.000000</td>\n",
       "      <td>7.000000</td>\n",
       "    </tr>\n",
       "    <tr>\n",
       "      <th>mean</th>\n",
       "      <td>0.491610</td>\n",
       "      <td>0.528246</td>\n",
       "      <td>0.383644</td>\n",
       "      <td>0.698678</td>\n",
       "      <td>14.698200</td>\n",
       "      <td>0.453920</td>\n",
       "      <td>0.488838</td>\n",
       "    </tr>\n",
       "    <tr>\n",
       "      <th>std</th>\n",
       "      <td>0.276584</td>\n",
       "      <td>0.268475</td>\n",
       "      <td>0.302446</td>\n",
       "      <td>0.269481</td>\n",
       "      <td>37.615556</td>\n",
       "      <td>0.341230</td>\n",
       "      <td>0.277821</td>\n",
       "    </tr>\n",
       "    <tr>\n",
       "      <th>min</th>\n",
       "      <td>0.064676</td>\n",
       "      <td>0.171133</td>\n",
       "      <td>0.070571</td>\n",
       "      <td>0.155499</td>\n",
       "      <td>0.087346</td>\n",
       "      <td>0.041734</td>\n",
       "      <td>0.114730</td>\n",
       "    </tr>\n",
       "    <tr>\n",
       "      <th>25%</th>\n",
       "      <td>0.346344</td>\n",
       "      <td>0.331290</td>\n",
       "      <td>0.162109</td>\n",
       "      <td>0.649638</td>\n",
       "      <td>0.293637</td>\n",
       "      <td>0.224791</td>\n",
       "      <td>0.323617</td>\n",
       "    </tr>\n",
       "    <tr>\n",
       "      <th>50%</th>\n",
       "      <td>0.484441</td>\n",
       "      <td>0.494339</td>\n",
       "      <td>0.249941</td>\n",
       "      <td>0.702142</td>\n",
       "      <td>0.630007</td>\n",
       "      <td>0.430931</td>\n",
       "      <td>0.483034</td>\n",
       "    </tr>\n",
       "    <tr>\n",
       "      <th>75%</th>\n",
       "      <td>0.637477</td>\n",
       "      <td>0.775959</td>\n",
       "      <td>0.593167</td>\n",
       "      <td>0.907715</td>\n",
       "      <td>0.791387</td>\n",
       "      <td>0.659278</td>\n",
       "      <td>0.649470</td>\n",
       "    </tr>\n",
       "    <tr>\n",
       "      <th>max</th>\n",
       "      <td>0.924515</td>\n",
       "      <td>0.817751</td>\n",
       "      <td>0.854447</td>\n",
       "      <td>0.918401</td>\n",
       "      <td>100.000000</td>\n",
       "      <td>0.936639</td>\n",
       "      <td>0.877928</td>\n",
       "    </tr>\n",
       "  </tbody>\n",
       "</table>\n",
       "</div>"
      ],
      "text/plain": [
       "              A         B         C         D           E         F         G\n",
       "count  7.000000  7.000000  7.000000  7.000000    7.000000  7.000000  7.000000\n",
       "mean   0.491610  0.528246  0.383644  0.698678   14.698200  0.453920  0.488838\n",
       "std    0.276584  0.268475  0.302446  0.269481   37.615556  0.341230  0.277821\n",
       "min    0.064676  0.171133  0.070571  0.155499    0.087346  0.041734  0.114730\n",
       "25%    0.346344  0.331290  0.162109  0.649638    0.293637  0.224791  0.323617\n",
       "50%    0.484441  0.494339  0.249941  0.702142    0.630007  0.430931  0.483034\n",
       "75%    0.637477  0.775959  0.593167  0.907715    0.791387  0.659278  0.649470\n",
       "max    0.924515  0.817751  0.854447  0.918401  100.000000  0.936639  0.877928"
      ]
     },
     "execution_count": 81,
     "metadata": {},
     "output_type": "execute_result"
    }
   ],
   "source": [
    "##3 generate descriptive stats\n",
    "d2.describe()"
   ]
  },
  {
   "cell_type": "code",
   "execution_count": 86,
   "id": "a8bcd7d3",
   "metadata": {},
   "outputs": [
    {
     "data": {
      "text/html": [
       "<div>\n",
       "<style scoped>\n",
       "    .dataframe tbody tr th:only-of-type {\n",
       "        vertical-align: middle;\n",
       "    }\n",
       "\n",
       "    .dataframe tbody tr th {\n",
       "        vertical-align: top;\n",
       "    }\n",
       "\n",
       "    .dataframe thead th {\n",
       "        text-align: right;\n",
       "    }\n",
       "</style>\n",
       "<table border=\"1\" class=\"dataframe\">\n",
       "  <thead>\n",
       "    <tr style=\"text-align: right;\">\n",
       "      <th></th>\n",
       "      <th>A</th>\n",
       "      <th>B</th>\n",
       "      <th>C</th>\n",
       "      <th>D</th>\n",
       "      <th>E</th>\n",
       "      <th>F</th>\n",
       "      <th>G</th>\n",
       "    </tr>\n",
       "  </thead>\n",
       "  <tbody>\n",
       "    <tr>\n",
       "      <th>A</th>\n",
       "      <td>1.000000</td>\n",
       "      <td>-0.304461</td>\n",
       "      <td>0.033043</td>\n",
       "      <td>-0.088774</td>\n",
       "      <td>-0.680110</td>\n",
       "      <td>-0.670636</td>\n",
       "      <td>-0.050033</td>\n",
       "    </tr>\n",
       "    <tr>\n",
       "      <th>B</th>\n",
       "      <td>-0.304461</td>\n",
       "      <td>1.000000</td>\n",
       "      <td>0.442060</td>\n",
       "      <td>-0.457264</td>\n",
       "      <td>-0.479590</td>\n",
       "      <td>0.205710</td>\n",
       "      <td>0.039409</td>\n",
       "    </tr>\n",
       "    <tr>\n",
       "      <th>C</th>\n",
       "      <td>0.033043</td>\n",
       "      <td>0.442060</td>\n",
       "      <td>1.000000</td>\n",
       "      <td>-0.678906</td>\n",
       "      <td>-0.269500</td>\n",
       "      <td>0.263511</td>\n",
       "      <td>0.074558</td>\n",
       "    </tr>\n",
       "    <tr>\n",
       "      <th>D</th>\n",
       "      <td>-0.088774</td>\n",
       "      <td>-0.457264</td>\n",
       "      <td>-0.678906</td>\n",
       "      <td>1.000000</td>\n",
       "      <td>0.334813</td>\n",
       "      <td>-0.407790</td>\n",
       "      <td>0.495059</td>\n",
       "    </tr>\n",
       "    <tr>\n",
       "      <th>E</th>\n",
       "      <td>-0.680110</td>\n",
       "      <td>-0.479590</td>\n",
       "      <td>-0.269500</td>\n",
       "      <td>0.334813</td>\n",
       "      <td>1.000000</td>\n",
       "      <td>0.527332</td>\n",
       "      <td>-0.005171</td>\n",
       "    </tr>\n",
       "    <tr>\n",
       "      <th>F</th>\n",
       "      <td>-0.670636</td>\n",
       "      <td>0.205710</td>\n",
       "      <td>0.263511</td>\n",
       "      <td>-0.407790</td>\n",
       "      <td>0.527332</td>\n",
       "      <td>1.000000</td>\n",
       "      <td>-0.476832</td>\n",
       "    </tr>\n",
       "    <tr>\n",
       "      <th>G</th>\n",
       "      <td>-0.050033</td>\n",
       "      <td>0.039409</td>\n",
       "      <td>0.074558</td>\n",
       "      <td>0.495059</td>\n",
       "      <td>-0.005171</td>\n",
       "      <td>-0.476832</td>\n",
       "      <td>1.000000</td>\n",
       "    </tr>\n",
       "  </tbody>\n",
       "</table>\n",
       "</div>"
      ],
      "text/plain": [
       "          A         B         C         D         E         F         G\n",
       "A  1.000000 -0.304461  0.033043 -0.088774 -0.680110 -0.670636 -0.050033\n",
       "B -0.304461  1.000000  0.442060 -0.457264 -0.479590  0.205710  0.039409\n",
       "C  0.033043  0.442060  1.000000 -0.678906 -0.269500  0.263511  0.074558\n",
       "D -0.088774 -0.457264 -0.678906  1.000000  0.334813 -0.407790  0.495059\n",
       "E -0.680110 -0.479590 -0.269500  0.334813  1.000000  0.527332 -0.005171\n",
       "F -0.670636  0.205710  0.263511 -0.407790  0.527332  1.000000 -0.476832\n",
       "G -0.050033  0.039409  0.074558  0.495059 -0.005171 -0.476832  1.000000"
      ]
     },
     "execution_count": 86,
     "metadata": {},
     "output_type": "execute_result"
    }
   ],
   "source": [
    "### correlation (-1 to 1)\n",
    "d2.corr()"
   ]
  },
  {
   "cell_type": "code",
   "execution_count": 88,
   "id": "2e166659",
   "metadata": {},
   "outputs": [
    {
     "data": {
      "text/html": [
       "<div>\n",
       "<style scoped>\n",
       "    .dataframe tbody tr th:only-of-type {\n",
       "        vertical-align: middle;\n",
       "    }\n",
       "\n",
       "    .dataframe tbody tr th {\n",
       "        vertical-align: top;\n",
       "    }\n",
       "\n",
       "    .dataframe thead th {\n",
       "        text-align: right;\n",
       "    }\n",
       "</style>\n",
       "<table border=\"1\" class=\"dataframe\">\n",
       "  <thead>\n",
       "    <tr style=\"text-align: right;\">\n",
       "      <th></th>\n",
       "      <th>A</th>\n",
       "      <th>B</th>\n",
       "      <th>C</th>\n",
       "      <th>D</th>\n",
       "      <th>E</th>\n",
       "      <th>F</th>\n",
       "      <th>G</th>\n",
       "    </tr>\n",
       "  </thead>\n",
       "  <tbody>\n",
       "    <tr>\n",
       "      <th>A</th>\n",
       "      <td>0.076499</td>\n",
       "      <td>-0.022608</td>\n",
       "      <td>0.002764</td>\n",
       "      <td>-0.006617</td>\n",
       "      <td>-7.075784</td>\n",
       "      <td>-0.063294</td>\n",
       "      <td>-0.003845</td>\n",
       "    </tr>\n",
       "    <tr>\n",
       "      <th>B</th>\n",
       "      <td>-0.022608</td>\n",
       "      <td>0.072079</td>\n",
       "      <td>0.035895</td>\n",
       "      <td>-0.033083</td>\n",
       "      <td>-4.843300</td>\n",
       "      <td>0.018845</td>\n",
       "      <td>0.002939</td>\n",
       "    </tr>\n",
       "    <tr>\n",
       "      <th>C</th>\n",
       "      <td>0.002764</td>\n",
       "      <td>0.035895</td>\n",
       "      <td>0.091474</td>\n",
       "      <td>-0.055333</td>\n",
       "      <td>-3.066012</td>\n",
       "      <td>0.027195</td>\n",
       "      <td>0.006265</td>\n",
       "    </tr>\n",
       "    <tr>\n",
       "      <th>D</th>\n",
       "      <td>-0.006617</td>\n",
       "      <td>-0.033083</td>\n",
       "      <td>-0.055333</td>\n",
       "      <td>0.072620</td>\n",
       "      <td>3.393883</td>\n",
       "      <td>-0.037498</td>\n",
       "      <td>0.037064</td>\n",
       "    </tr>\n",
       "    <tr>\n",
       "      <th>E</th>\n",
       "      <td>-7.075784</td>\n",
       "      <td>-4.843300</td>\n",
       "      <td>-3.066012</td>\n",
       "      <td>3.393883</td>\n",
       "      <td>1414.930087</td>\n",
       "      <td>6.768605</td>\n",
       "      <td>-0.054041</td>\n",
       "    </tr>\n",
       "    <tr>\n",
       "      <th>F</th>\n",
       "      <td>-0.063294</td>\n",
       "      <td>0.018845</td>\n",
       "      <td>0.027195</td>\n",
       "      <td>-0.037498</td>\n",
       "      <td>6.768605</td>\n",
       "      <td>0.116438</td>\n",
       "      <td>-0.045204</td>\n",
       "    </tr>\n",
       "    <tr>\n",
       "      <th>G</th>\n",
       "      <td>-0.003845</td>\n",
       "      <td>0.002939</td>\n",
       "      <td>0.006265</td>\n",
       "      <td>0.037064</td>\n",
       "      <td>-0.054041</td>\n",
       "      <td>-0.045204</td>\n",
       "      <td>0.077184</td>\n",
       "    </tr>\n",
       "  </tbody>\n",
       "</table>\n",
       "</div>"
      ],
      "text/plain": [
       "          A         B         C         D            E         F         G\n",
       "A  0.076499 -0.022608  0.002764 -0.006617    -7.075784 -0.063294 -0.003845\n",
       "B -0.022608  0.072079  0.035895 -0.033083    -4.843300  0.018845  0.002939\n",
       "C  0.002764  0.035895  0.091474 -0.055333    -3.066012  0.027195  0.006265\n",
       "D -0.006617 -0.033083 -0.055333  0.072620     3.393883 -0.037498  0.037064\n",
       "E -7.075784 -4.843300 -3.066012  3.393883  1414.930087  6.768605 -0.054041\n",
       "F -0.063294  0.018845  0.027195 -0.037498     6.768605  0.116438 -0.045204\n",
       "G -0.003845  0.002939  0.006265  0.037064    -0.054041 -0.045204  0.077184"
      ]
     },
     "execution_count": 88,
     "metadata": {},
     "output_type": "execute_result"
    }
   ],
   "source": [
    "### covariance\n",
    "d2.cov()"
   ]
  },
  {
   "cell_type": "code",
   "execution_count": 1,
   "id": "de09ea0f",
   "metadata": {},
   "outputs": [],
   "source": [
    "import pandas as pd\n",
    "import numpy as np\n",
    "import warnings ##some warning will come it will ignore the warning\n",
    "warnings.filterwarnings(\"ignore\")"
   ]
  },
  {
   "cell_type": "code",
   "execution_count": 2,
   "id": "b669ba65",
   "metadata": {},
   "outputs": [
    {
     "data": {
      "text/plain": [
       "DatetimeIndex(['2021-01-25', '2021-01-26', '2021-01-27', '2021-01-28',\n",
       "               '2021-01-29', '2021-01-30', '2021-01-31'],\n",
       "              dtype='datetime64[ns]', freq='D')"
      ]
     },
     "execution_count": 2,
     "metadata": {},
     "output_type": "execute_result"
    }
   ],
   "source": [
    "date3=pd.date_range(start=\"2021-01-25\",periods=7)\n",
    "date3"
   ]
  },
  {
   "cell_type": "code",
   "execution_count": 3,
   "id": "901b3fee",
   "metadata": {},
   "outputs": [
    {
     "data": {
      "text/plain": [
       "array([[0.53683858, 0.66996294, 0.51014267, 0.50405169, 0.89005337,\n",
       "        0.71305592, 0.12024216],\n",
       "       [0.25609668, 0.59864545, 0.97929891, 0.73158569, 0.55313558,\n",
       "        0.62246755, 0.51007565],\n",
       "       [0.59362726, 0.24727955, 0.69105299, 0.57317254, 0.89560399,\n",
       "        0.99460852, 0.76799871],\n",
       "       [0.84274753, 0.20793735, 0.53120038, 0.80093895, 0.95996458,\n",
       "        0.74984538, 0.49929385],\n",
       "       [0.46847954, 0.31905249, 0.16181021, 0.69649739, 0.62934563,\n",
       "        0.38205059, 0.59177438],\n",
       "       [0.051444  , 0.86443718, 0.74416717, 0.58637974, 0.37976738,\n",
       "        0.94309114, 0.89703429],\n",
       "       [0.13055929, 0.3437351 , 0.70043057, 0.05125576, 0.57072794,\n",
       "        0.60415688, 0.49284408]])"
      ]
     },
     "execution_count": 3,
     "metadata": {},
     "output_type": "execute_result"
    }
   ],
   "source": [
    "r=np.random.random((7,7))\n",
    "r"
   ]
  },
  {
   "cell_type": "code",
   "execution_count": 4,
   "id": "04785480",
   "metadata": {},
   "outputs": [
    {
     "data": {
      "text/html": [
       "<div>\n",
       "<style scoped>\n",
       "    .dataframe tbody tr th:only-of-type {\n",
       "        vertical-align: middle;\n",
       "    }\n",
       "\n",
       "    .dataframe tbody tr th {\n",
       "        vertical-align: top;\n",
       "    }\n",
       "\n",
       "    .dataframe thead th {\n",
       "        text-align: right;\n",
       "    }\n",
       "</style>\n",
       "<table border=\"1\" class=\"dataframe\">\n",
       "  <thead>\n",
       "    <tr style=\"text-align: right;\">\n",
       "      <th></th>\n",
       "      <th>0</th>\n",
       "      <th>1</th>\n",
       "      <th>2</th>\n",
       "      <th>3</th>\n",
       "      <th>4</th>\n",
       "      <th>5</th>\n",
       "      <th>6</th>\n",
       "    </tr>\n",
       "  </thead>\n",
       "  <tbody>\n",
       "    <tr>\n",
       "      <th>0</th>\n",
       "      <td>0.536839</td>\n",
       "      <td>0.669963</td>\n",
       "      <td>0.510143</td>\n",
       "      <td>0.504052</td>\n",
       "      <td>0.890053</td>\n",
       "      <td>0.713056</td>\n",
       "      <td>0.120242</td>\n",
       "    </tr>\n",
       "    <tr>\n",
       "      <th>1</th>\n",
       "      <td>0.256097</td>\n",
       "      <td>0.598645</td>\n",
       "      <td>0.979299</td>\n",
       "      <td>0.731586</td>\n",
       "      <td>0.553136</td>\n",
       "      <td>0.622468</td>\n",
       "      <td>0.510076</td>\n",
       "    </tr>\n",
       "    <tr>\n",
       "      <th>2</th>\n",
       "      <td>0.593627</td>\n",
       "      <td>0.247280</td>\n",
       "      <td>0.691053</td>\n",
       "      <td>0.573173</td>\n",
       "      <td>0.895604</td>\n",
       "      <td>0.994609</td>\n",
       "      <td>0.767999</td>\n",
       "    </tr>\n",
       "    <tr>\n",
       "      <th>3</th>\n",
       "      <td>0.842748</td>\n",
       "      <td>0.207937</td>\n",
       "      <td>0.531200</td>\n",
       "      <td>0.800939</td>\n",
       "      <td>0.959965</td>\n",
       "      <td>0.749845</td>\n",
       "      <td>0.499294</td>\n",
       "    </tr>\n",
       "    <tr>\n",
       "      <th>4</th>\n",
       "      <td>0.468480</td>\n",
       "      <td>0.319052</td>\n",
       "      <td>0.161810</td>\n",
       "      <td>0.696497</td>\n",
       "      <td>0.629346</td>\n",
       "      <td>0.382051</td>\n",
       "      <td>0.591774</td>\n",
       "    </tr>\n",
       "    <tr>\n",
       "      <th>5</th>\n",
       "      <td>0.051444</td>\n",
       "      <td>0.864437</td>\n",
       "      <td>0.744167</td>\n",
       "      <td>0.586380</td>\n",
       "      <td>0.379767</td>\n",
       "      <td>0.943091</td>\n",
       "      <td>0.897034</td>\n",
       "    </tr>\n",
       "    <tr>\n",
       "      <th>6</th>\n",
       "      <td>0.130559</td>\n",
       "      <td>0.343735</td>\n",
       "      <td>0.700431</td>\n",
       "      <td>0.051256</td>\n",
       "      <td>0.570728</td>\n",
       "      <td>0.604157</td>\n",
       "      <td>0.492844</td>\n",
       "    </tr>\n",
       "  </tbody>\n",
       "</table>\n",
       "</div>"
      ],
      "text/plain": [
       "          0         1         2         3         4         5         6\n",
       "0  0.536839  0.669963  0.510143  0.504052  0.890053  0.713056  0.120242\n",
       "1  0.256097  0.598645  0.979299  0.731586  0.553136  0.622468  0.510076\n",
       "2  0.593627  0.247280  0.691053  0.573173  0.895604  0.994609  0.767999\n",
       "3  0.842748  0.207937  0.531200  0.800939  0.959965  0.749845  0.499294\n",
       "4  0.468480  0.319052  0.161810  0.696497  0.629346  0.382051  0.591774\n",
       "5  0.051444  0.864437  0.744167  0.586380  0.379767  0.943091  0.897034\n",
       "6  0.130559  0.343735  0.700431  0.051256  0.570728  0.604157  0.492844"
      ]
     },
     "execution_count": 4,
     "metadata": {},
     "output_type": "execute_result"
    }
   ],
   "source": [
    "d2=pd.DataFrame(r)\n",
    "d2"
   ]
  },
  {
   "cell_type": "code",
   "execution_count": 5,
   "id": "73dd8b6b",
   "metadata": {},
   "outputs": [
    {
     "data": {
      "text/html": [
       "<div>\n",
       "<style scoped>\n",
       "    .dataframe tbody tr th:only-of-type {\n",
       "        vertical-align: middle;\n",
       "    }\n",
       "\n",
       "    .dataframe tbody tr th {\n",
       "        vertical-align: top;\n",
       "    }\n",
       "\n",
       "    .dataframe thead th {\n",
       "        text-align: right;\n",
       "    }\n",
       "</style>\n",
       "<table border=\"1\" class=\"dataframe\">\n",
       "  <thead>\n",
       "    <tr style=\"text-align: right;\">\n",
       "      <th></th>\n",
       "      <th>0</th>\n",
       "      <th>1</th>\n",
       "      <th>2</th>\n",
       "      <th>3</th>\n",
       "      <th>4</th>\n",
       "      <th>5</th>\n",
       "      <th>6</th>\n",
       "    </tr>\n",
       "  </thead>\n",
       "  <tbody>\n",
       "    <tr>\n",
       "      <th>2021-01-25</th>\n",
       "      <td>0.536839</td>\n",
       "      <td>0.669963</td>\n",
       "      <td>0.510143</td>\n",
       "      <td>0.504052</td>\n",
       "      <td>0.890053</td>\n",
       "      <td>0.713056</td>\n",
       "      <td>0.120242</td>\n",
       "    </tr>\n",
       "    <tr>\n",
       "      <th>2021-01-26</th>\n",
       "      <td>0.256097</td>\n",
       "      <td>0.598645</td>\n",
       "      <td>0.979299</td>\n",
       "      <td>0.731586</td>\n",
       "      <td>0.553136</td>\n",
       "      <td>0.622468</td>\n",
       "      <td>0.510076</td>\n",
       "    </tr>\n",
       "    <tr>\n",
       "      <th>2021-01-27</th>\n",
       "      <td>0.593627</td>\n",
       "      <td>0.247280</td>\n",
       "      <td>0.691053</td>\n",
       "      <td>0.573173</td>\n",
       "      <td>0.895604</td>\n",
       "      <td>0.994609</td>\n",
       "      <td>0.767999</td>\n",
       "    </tr>\n",
       "    <tr>\n",
       "      <th>2021-01-28</th>\n",
       "      <td>0.842748</td>\n",
       "      <td>0.207937</td>\n",
       "      <td>0.531200</td>\n",
       "      <td>0.800939</td>\n",
       "      <td>0.959965</td>\n",
       "      <td>0.749845</td>\n",
       "      <td>0.499294</td>\n",
       "    </tr>\n",
       "    <tr>\n",
       "      <th>2021-01-29</th>\n",
       "      <td>0.468480</td>\n",
       "      <td>0.319052</td>\n",
       "      <td>0.161810</td>\n",
       "      <td>0.696497</td>\n",
       "      <td>0.629346</td>\n",
       "      <td>0.382051</td>\n",
       "      <td>0.591774</td>\n",
       "    </tr>\n",
       "    <tr>\n",
       "      <th>2021-01-30</th>\n",
       "      <td>0.051444</td>\n",
       "      <td>0.864437</td>\n",
       "      <td>0.744167</td>\n",
       "      <td>0.586380</td>\n",
       "      <td>0.379767</td>\n",
       "      <td>0.943091</td>\n",
       "      <td>0.897034</td>\n",
       "    </tr>\n",
       "    <tr>\n",
       "      <th>2021-01-31</th>\n",
       "      <td>0.130559</td>\n",
       "      <td>0.343735</td>\n",
       "      <td>0.700431</td>\n",
       "      <td>0.051256</td>\n",
       "      <td>0.570728</td>\n",
       "      <td>0.604157</td>\n",
       "      <td>0.492844</td>\n",
       "    </tr>\n",
       "  </tbody>\n",
       "</table>\n",
       "</div>"
      ],
      "text/plain": [
       "                   0         1         2         3         4         5  \\\n",
       "2021-01-25  0.536839  0.669963  0.510143  0.504052  0.890053  0.713056   \n",
       "2021-01-26  0.256097  0.598645  0.979299  0.731586  0.553136  0.622468   \n",
       "2021-01-27  0.593627  0.247280  0.691053  0.573173  0.895604  0.994609   \n",
       "2021-01-28  0.842748  0.207937  0.531200  0.800939  0.959965  0.749845   \n",
       "2021-01-29  0.468480  0.319052  0.161810  0.696497  0.629346  0.382051   \n",
       "2021-01-30  0.051444  0.864437  0.744167  0.586380  0.379767  0.943091   \n",
       "2021-01-31  0.130559  0.343735  0.700431  0.051256  0.570728  0.604157   \n",
       "\n",
       "                   6  \n",
       "2021-01-25  0.120242  \n",
       "2021-01-26  0.510076  \n",
       "2021-01-27  0.767999  \n",
       "2021-01-28  0.499294  \n",
       "2021-01-29  0.591774  \n",
       "2021-01-30  0.897034  \n",
       "2021-01-31  0.492844  "
      ]
     },
     "execution_count": 5,
     "metadata": {},
     "output_type": "execute_result"
    }
   ],
   "source": [
    "d2=pd.DataFrame(r,date3)\n",
    "d2"
   ]
  },
  {
   "cell_type": "code",
   "execution_count": 6,
   "id": "081f3a12",
   "metadata": {},
   "outputs": [
    {
     "data": {
      "text/html": [
       "<div>\n",
       "<style scoped>\n",
       "    .dataframe tbody tr th:only-of-type {\n",
       "        vertical-align: middle;\n",
       "    }\n",
       "\n",
       "    .dataframe tbody tr th {\n",
       "        vertical-align: top;\n",
       "    }\n",
       "\n",
       "    .dataframe thead th {\n",
       "        text-align: right;\n",
       "    }\n",
       "</style>\n",
       "<table border=\"1\" class=\"dataframe\">\n",
       "  <thead>\n",
       "    <tr style=\"text-align: right;\">\n",
       "      <th></th>\n",
       "      <th>A</th>\n",
       "      <th>B</th>\n",
       "      <th>C</th>\n",
       "      <th>D</th>\n",
       "      <th>E</th>\n",
       "      <th>F</th>\n",
       "      <th>G</th>\n",
       "    </tr>\n",
       "  </thead>\n",
       "  <tbody>\n",
       "    <tr>\n",
       "      <th>2021-01-25</th>\n",
       "      <td>0.536839</td>\n",
       "      <td>0.669963</td>\n",
       "      <td>0.510143</td>\n",
       "      <td>0.504052</td>\n",
       "      <td>0.890053</td>\n",
       "      <td>0.713056</td>\n",
       "      <td>0.120242</td>\n",
       "    </tr>\n",
       "    <tr>\n",
       "      <th>2021-01-26</th>\n",
       "      <td>0.256097</td>\n",
       "      <td>0.598645</td>\n",
       "      <td>0.979299</td>\n",
       "      <td>0.731586</td>\n",
       "      <td>0.553136</td>\n",
       "      <td>0.622468</td>\n",
       "      <td>0.510076</td>\n",
       "    </tr>\n",
       "    <tr>\n",
       "      <th>2021-01-27</th>\n",
       "      <td>0.593627</td>\n",
       "      <td>0.247280</td>\n",
       "      <td>0.691053</td>\n",
       "      <td>0.573173</td>\n",
       "      <td>0.895604</td>\n",
       "      <td>0.994609</td>\n",
       "      <td>0.767999</td>\n",
       "    </tr>\n",
       "    <tr>\n",
       "      <th>2021-01-28</th>\n",
       "      <td>0.842748</td>\n",
       "      <td>0.207937</td>\n",
       "      <td>0.531200</td>\n",
       "      <td>0.800939</td>\n",
       "      <td>0.959965</td>\n",
       "      <td>0.749845</td>\n",
       "      <td>0.499294</td>\n",
       "    </tr>\n",
       "    <tr>\n",
       "      <th>2021-01-29</th>\n",
       "      <td>0.468480</td>\n",
       "      <td>0.319052</td>\n",
       "      <td>0.161810</td>\n",
       "      <td>0.696497</td>\n",
       "      <td>0.629346</td>\n",
       "      <td>0.382051</td>\n",
       "      <td>0.591774</td>\n",
       "    </tr>\n",
       "    <tr>\n",
       "      <th>2021-01-30</th>\n",
       "      <td>0.051444</td>\n",
       "      <td>0.864437</td>\n",
       "      <td>0.744167</td>\n",
       "      <td>0.586380</td>\n",
       "      <td>0.379767</td>\n",
       "      <td>0.943091</td>\n",
       "      <td>0.897034</td>\n",
       "    </tr>\n",
       "    <tr>\n",
       "      <th>2021-01-31</th>\n",
       "      <td>0.130559</td>\n",
       "      <td>0.343735</td>\n",
       "      <td>0.700431</td>\n",
       "      <td>0.051256</td>\n",
       "      <td>0.570728</td>\n",
       "      <td>0.604157</td>\n",
       "      <td>0.492844</td>\n",
       "    </tr>\n",
       "  </tbody>\n",
       "</table>\n",
       "</div>"
      ],
      "text/plain": [
       "                   A         B         C         D         E         F  \\\n",
       "2021-01-25  0.536839  0.669963  0.510143  0.504052  0.890053  0.713056   \n",
       "2021-01-26  0.256097  0.598645  0.979299  0.731586  0.553136  0.622468   \n",
       "2021-01-27  0.593627  0.247280  0.691053  0.573173  0.895604  0.994609   \n",
       "2021-01-28  0.842748  0.207937  0.531200  0.800939  0.959965  0.749845   \n",
       "2021-01-29  0.468480  0.319052  0.161810  0.696497  0.629346  0.382051   \n",
       "2021-01-30  0.051444  0.864437  0.744167  0.586380  0.379767  0.943091   \n",
       "2021-01-31  0.130559  0.343735  0.700431  0.051256  0.570728  0.604157   \n",
       "\n",
       "                   G  \n",
       "2021-01-25  0.120242  \n",
       "2021-01-26  0.510076  \n",
       "2021-01-27  0.767999  \n",
       "2021-01-28  0.499294  \n",
       "2021-01-29  0.591774  \n",
       "2021-01-30  0.897034  \n",
       "2021-01-31  0.492844  "
      ]
     },
     "execution_count": 6,
     "metadata": {},
     "output_type": "execute_result"
    }
   ],
   "source": [
    "d2.columns=[\"A\",\"B\",\"C\",\"D\",\"E\",\"F\",\"G\"]\n",
    "d2"
   ]
  },
  {
   "cell_type": "code",
   "execution_count": 7,
   "id": "2e8c2dab",
   "metadata": {},
   "outputs": [],
   "source": [
    "import statistics as st"
   ]
  },
  {
   "cell_type": "code",
   "execution_count": 8,
   "id": "2cb8b8cf",
   "metadata": {},
   "outputs": [
    {
     "data": {
      "text/plain": [
       "0.6168718428703114"
      ]
     },
     "execution_count": 8,
     "metadata": {},
     "output_type": "execute_result"
    }
   ],
   "source": [
    "st.mean(d2['C']) ##average"
   ]
  },
  {
   "cell_type": "code",
   "execution_count": 9,
   "id": "75f57e50",
   "metadata": {},
   "outputs": [
    {
     "data": {
      "text/plain": [
       "4.5"
      ]
     },
     "execution_count": 9,
     "metadata": {},
     "output_type": "execute_result"
    }
   ],
   "source": [
    "##return average of 2 middle numbers when length is even\n",
    "a=np.array([1,2,3,4,5,6,7,8])\n",
    "st.median(a)"
   ]
  },
  {
   "cell_type": "code",
   "execution_count": 10,
   "id": "9e70eb16",
   "metadata": {},
   "outputs": [
    {
     "data": {
      "text/plain": [
       "4"
      ]
     },
     "execution_count": 10,
     "metadata": {},
     "output_type": "execute_result"
    }
   ],
   "source": [
    "st.median_low(a) ##low median of data with even length"
   ]
  },
  {
   "cell_type": "code",
   "execution_count": 11,
   "id": "ac3a4b82",
   "metadata": {},
   "outputs": [
    {
     "data": {
      "text/plain": [
       "5"
      ]
     },
     "execution_count": 11,
     "metadata": {},
     "output_type": "execute_result"
    }
   ],
   "source": [
    "st.median_high(a) ## high median of data with even length"
   ]
  },
  {
   "cell_type": "code",
   "execution_count": 12,
   "id": "b5003f69",
   "metadata": {},
   "outputs": [
    {
     "data": {
      "text/plain": [
       "0.5101426675770896"
      ]
     },
     "execution_count": 12,
     "metadata": {},
     "output_type": "execute_result"
    }
   ],
   "source": [
    "##mode of dataset\n",
    "st.mode(d2[\"C\"])"
   ]
  },
  {
   "cell_type": "markdown",
   "id": "e189bdd8",
   "metadata": {},
   "source": [
    "### variance"
   ]
  },
  {
   "cell_type": "code",
   "execution_count": null,
   "id": "934bfe43",
   "metadata": {},
   "outputs": [],
   "source": [
    "## sum of squared distance each term in the distribution from mean divided by the number of terms in the distribution from this you subtract the square of the mean"
   ]
  },
  {
   "cell_type": "code",
   "execution_count": 13,
   "id": "b1b7b06d",
   "metadata": {},
   "outputs": [
    {
     "data": {
      "text/plain": [
       "0.0643090317855976"
      ]
     },
     "execution_count": 13,
     "metadata": {},
     "output_type": "execute_result"
    }
   ],
   "source": [
    "st.variance(d2[\"C\"])"
   ]
  },
  {
   "cell_type": "markdown",
   "id": "3ffdbb42",
   "metadata": {},
   "source": [
    "### population variance"
   ]
  },
  {
   "cell_type": "code",
   "execution_count": null,
   "id": "9f1bf1c6",
   "metadata": {},
   "outputs": [],
   "source": [
    "###population variance is measure of spread of population data"
   ]
  },
  {
   "cell_type": "code",
   "execution_count": 14,
   "id": "cc4a81f4",
   "metadata": {},
   "outputs": [
    {
     "data": {
      "text/plain": [
       "0.05512202724479794"
      ]
     },
     "execution_count": 14,
     "metadata": {},
     "output_type": "execute_result"
    }
   ],
   "source": [
    "st.pvariance(d2[\"C\"])"
   ]
  },
  {
   "cell_type": "markdown",
   "id": "1bfc4650",
   "metadata": {},
   "source": [
    "### STANDARED DEVIATION"
   ]
  },
  {
   "cell_type": "code",
   "execution_count": 15,
   "id": "1d161622",
   "metadata": {},
   "outputs": [
    {
     "data": {
      "text/plain": [
       "0.24796101593841408"
      ]
     },
     "execution_count": 15,
     "metadata": {},
     "output_type": "execute_result"
    }
   ],
   "source": [
    "st.stdev(d2[\"B\"]) ### SAMPLE STANDARED DEVIATION"
   ]
  },
  {
   "cell_type": "code",
   "execution_count": 16,
   "id": "b74a760d",
   "metadata": {},
   "outputs": [
    {
     "data": {
      "text/plain": [
       "0.22956729251580574"
      ]
     },
     "execution_count": 16,
     "metadata": {},
     "output_type": "execute_result"
    }
   ],
   "source": [
    "st.pstdev(d2[\"B\"]) ### population standard deviation"
   ]
  },
  {
   "cell_type": "markdown",
   "id": "bc1ebcd2",
   "metadata": {},
   "source": [
    "### merge dataframe"
   ]
  },
  {
   "cell_type": "code",
   "execution_count": 18,
   "id": "b6d117c4",
   "metadata": {},
   "outputs": [
    {
     "data": {
      "text/html": [
       "<div>\n",
       "<style scoped>\n",
       "    .dataframe tbody tr th:only-of-type {\n",
       "        vertical-align: middle;\n",
       "    }\n",
       "\n",
       "    .dataframe tbody tr th {\n",
       "        vertical-align: top;\n",
       "    }\n",
       "\n",
       "    .dataframe thead th {\n",
       "        text-align: right;\n",
       "    }\n",
       "</style>\n",
       "<table border=\"1\" class=\"dataframe\">\n",
       "  <thead>\n",
       "    <tr style=\"text-align: right;\">\n",
       "      <th></th>\n",
       "      <th>id</th>\n",
       "      <th>Name</th>\n",
       "    </tr>\n",
       "  </thead>\n",
       "  <tbody>\n",
       "    <tr>\n",
       "      <th>0</th>\n",
       "      <td>1</td>\n",
       "      <td>divya</td>\n",
       "    </tr>\n",
       "    <tr>\n",
       "      <th>1</th>\n",
       "      <td>2</td>\n",
       "      <td>karan</td>\n",
       "    </tr>\n",
       "    <tr>\n",
       "      <th>2</th>\n",
       "      <td>3</td>\n",
       "      <td>jyothi</td>\n",
       "    </tr>\n",
       "    <tr>\n",
       "      <th>3</th>\n",
       "      <td>4</td>\n",
       "      <td>kiran</td>\n",
       "    </tr>\n",
       "  </tbody>\n",
       "</table>\n",
       "</div>"
      ],
      "text/plain": [
       "   id    Name\n",
       "0   1   divya\n",
       "1   2   karan\n",
       "2   3  jyothi\n",
       "3   4   kiran"
      ]
     },
     "execution_count": 18,
     "metadata": {},
     "output_type": "execute_result"
    }
   ],
   "source": [
    "d=pd.DataFrame({\"id\":[1,2,3,4],\"Name\":[\"divya\",\"karan\",\"jyothi\",\"kiran\"]})\n",
    "d"
   ]
  },
  {
   "cell_type": "code",
   "execution_count": 19,
   "id": "acbf063a",
   "metadata": {},
   "outputs": [
    {
     "data": {
      "text/html": [
       "<div>\n",
       "<style scoped>\n",
       "    .dataframe tbody tr th:only-of-type {\n",
       "        vertical-align: middle;\n",
       "    }\n",
       "\n",
       "    .dataframe tbody tr th {\n",
       "        vertical-align: top;\n",
       "    }\n",
       "\n",
       "    .dataframe thead th {\n",
       "        text-align: right;\n",
       "    }\n",
       "</style>\n",
       "<table border=\"1\" class=\"dataframe\">\n",
       "  <thead>\n",
       "    <tr style=\"text-align: right;\">\n",
       "      <th></th>\n",
       "      <th>id</th>\n",
       "      <th>Name</th>\n",
       "    </tr>\n",
       "  </thead>\n",
       "  <tbody>\n",
       "    <tr>\n",
       "      <th>0</th>\n",
       "      <td>1</td>\n",
       "      <td>div</td>\n",
       "    </tr>\n",
       "    <tr>\n",
       "      <th>1</th>\n",
       "      <td>3</td>\n",
       "      <td>kirthi</td>\n",
       "    </tr>\n",
       "    <tr>\n",
       "      <th>2</th>\n",
       "      <td>5</td>\n",
       "      <td>joy</td>\n",
       "    </tr>\n",
       "    <tr>\n",
       "      <th>3</th>\n",
       "      <td>6</td>\n",
       "      <td>shivani</td>\n",
       "    </tr>\n",
       "  </tbody>\n",
       "</table>\n",
       "</div>"
      ],
      "text/plain": [
       "   id     Name\n",
       "0   1      div\n",
       "1   3   kirthi\n",
       "2   5      joy\n",
       "3   6  shivani"
      ]
     },
     "execution_count": 19,
     "metadata": {},
     "output_type": "execute_result"
    }
   ],
   "source": [
    "d1=pd.DataFrame({\"id\":[1,3,5,6],\"Name\":[\"div\",\"kirthi\",\"joy\",\"shivani\"]})\n",
    "d1"
   ]
  },
  {
   "cell_type": "code",
   "execution_count": 20,
   "id": "42a63177",
   "metadata": {},
   "outputs": [
    {
     "data": {
      "text/html": [
       "<div>\n",
       "<style scoped>\n",
       "    .dataframe tbody tr th:only-of-type {\n",
       "        vertical-align: middle;\n",
       "    }\n",
       "\n",
       "    .dataframe tbody tr th {\n",
       "        vertical-align: top;\n",
       "    }\n",
       "\n",
       "    .dataframe thead th {\n",
       "        text-align: right;\n",
       "    }\n",
       "</style>\n",
       "<table border=\"1\" class=\"dataframe\">\n",
       "  <thead>\n",
       "    <tr style=\"text-align: right;\">\n",
       "      <th></th>\n",
       "      <th>id</th>\n",
       "      <th>Name_x</th>\n",
       "      <th>Name_y</th>\n",
       "    </tr>\n",
       "  </thead>\n",
       "  <tbody>\n",
       "    <tr>\n",
       "      <th>0</th>\n",
       "      <td>1</td>\n",
       "      <td>divya</td>\n",
       "      <td>div</td>\n",
       "    </tr>\n",
       "    <tr>\n",
       "      <th>1</th>\n",
       "      <td>3</td>\n",
       "      <td>jyothi</td>\n",
       "      <td>kirthi</td>\n",
       "    </tr>\n",
       "  </tbody>\n",
       "</table>\n",
       "</div>"
      ],
      "text/plain": [
       "   id  Name_x  Name_y\n",
       "0   1   divya     div\n",
       "1   3  jyothi  kirthi"
      ]
     },
     "execution_count": 20,
     "metadata": {},
     "output_type": "execute_result"
    }
   ],
   "source": [
    "###inner join\n",
    "pd.merge(d,d1,on=\"id\",how=\"inner\") ### common value in both frame will print"
   ]
  },
  {
   "cell_type": "code",
   "execution_count": 21,
   "id": "0752f794",
   "metadata": {},
   "outputs": [
    {
     "data": {
      "text/html": [
       "<div>\n",
       "<style scoped>\n",
       "    .dataframe tbody tr th:only-of-type {\n",
       "        vertical-align: middle;\n",
       "    }\n",
       "\n",
       "    .dataframe tbody tr th {\n",
       "        vertical-align: top;\n",
       "    }\n",
       "\n",
       "    .dataframe thead th {\n",
       "        text-align: right;\n",
       "    }\n",
       "</style>\n",
       "<table border=\"1\" class=\"dataframe\">\n",
       "  <thead>\n",
       "    <tr style=\"text-align: right;\">\n",
       "      <th></th>\n",
       "      <th>id</th>\n",
       "      <th>Name_x</th>\n",
       "      <th>Name_y</th>\n",
       "    </tr>\n",
       "  </thead>\n",
       "  <tbody>\n",
       "    <tr>\n",
       "      <th>0</th>\n",
       "      <td>1</td>\n",
       "      <td>divya</td>\n",
       "      <td>div</td>\n",
       "    </tr>\n",
       "    <tr>\n",
       "      <th>1</th>\n",
       "      <td>2</td>\n",
       "      <td>karan</td>\n",
       "      <td>NaN</td>\n",
       "    </tr>\n",
       "    <tr>\n",
       "      <th>2</th>\n",
       "      <td>3</td>\n",
       "      <td>jyothi</td>\n",
       "      <td>kirthi</td>\n",
       "    </tr>\n",
       "    <tr>\n",
       "      <th>3</th>\n",
       "      <td>4</td>\n",
       "      <td>kiran</td>\n",
       "      <td>NaN</td>\n",
       "    </tr>\n",
       "    <tr>\n",
       "      <th>4</th>\n",
       "      <td>5</td>\n",
       "      <td>NaN</td>\n",
       "      <td>joy</td>\n",
       "    </tr>\n",
       "    <tr>\n",
       "      <th>5</th>\n",
       "      <td>6</td>\n",
       "      <td>NaN</td>\n",
       "      <td>shivani</td>\n",
       "    </tr>\n",
       "  </tbody>\n",
       "</table>\n",
       "</div>"
      ],
      "text/plain": [
       "   id  Name_x   Name_y\n",
       "0   1   divya      div\n",
       "1   2   karan      NaN\n",
       "2   3  jyothi   kirthi\n",
       "3   4   kiran      NaN\n",
       "4   5     NaN      joy\n",
       "5   6     NaN  shivani"
      ]
     },
     "execution_count": 21,
     "metadata": {},
     "output_type": "execute_result"
    }
   ],
   "source": [
    "### full outer join\n",
    "pd.merge(d,d1,on=\"id\",how=\"outer\") ##print all data in both dataframe but which id not in it will sjow NAN"
   ]
  },
  {
   "cell_type": "code",
   "execution_count": 22,
   "id": "ebaa8537",
   "metadata": {},
   "outputs": [
    {
     "data": {
      "text/html": [
       "<div>\n",
       "<style scoped>\n",
       "    .dataframe tbody tr th:only-of-type {\n",
       "        vertical-align: middle;\n",
       "    }\n",
       "\n",
       "    .dataframe tbody tr th {\n",
       "        vertical-align: top;\n",
       "    }\n",
       "\n",
       "    .dataframe thead th {\n",
       "        text-align: right;\n",
       "    }\n",
       "</style>\n",
       "<table border=\"1\" class=\"dataframe\">\n",
       "  <thead>\n",
       "    <tr style=\"text-align: right;\">\n",
       "      <th></th>\n",
       "      <th>id</th>\n",
       "      <th>Name</th>\n",
       "    </tr>\n",
       "  </thead>\n",
       "  <tbody>\n",
       "    <tr>\n",
       "      <th>0</th>\n",
       "      <td>1</td>\n",
       "      <td>divya</td>\n",
       "    </tr>\n",
       "    <tr>\n",
       "      <th>1</th>\n",
       "      <td>2</td>\n",
       "      <td>karan</td>\n",
       "    </tr>\n",
       "    <tr>\n",
       "      <th>2</th>\n",
       "      <td>3</td>\n",
       "      <td>jyothi</td>\n",
       "    </tr>\n",
       "    <tr>\n",
       "      <th>3</th>\n",
       "      <td>4</td>\n",
       "      <td>kiran</td>\n",
       "    </tr>\n",
       "  </tbody>\n",
       "</table>\n",
       "</div>"
      ],
      "text/plain": [
       "   id    Name\n",
       "0   1   divya\n",
       "1   2   karan\n",
       "2   3  jyothi\n",
       "3   4   kiran"
      ]
     },
     "execution_count": 22,
     "metadata": {},
     "output_type": "execute_result"
    }
   ],
   "source": [
    "d"
   ]
  },
  {
   "cell_type": "code",
   "execution_count": 23,
   "id": "45f93ef7",
   "metadata": {},
   "outputs": [
    {
     "data": {
      "text/html": [
       "<div>\n",
       "<style scoped>\n",
       "    .dataframe tbody tr th:only-of-type {\n",
       "        vertical-align: middle;\n",
       "    }\n",
       "\n",
       "    .dataframe tbody tr th {\n",
       "        vertical-align: top;\n",
       "    }\n",
       "\n",
       "    .dataframe thead th {\n",
       "        text-align: right;\n",
       "    }\n",
       "</style>\n",
       "<table border=\"1\" class=\"dataframe\">\n",
       "  <thead>\n",
       "    <tr style=\"text-align: right;\">\n",
       "      <th></th>\n",
       "      <th>id</th>\n",
       "      <th>Name</th>\n",
       "    </tr>\n",
       "  </thead>\n",
       "  <tbody>\n",
       "    <tr>\n",
       "      <th>0</th>\n",
       "      <td>1</td>\n",
       "      <td>div</td>\n",
       "    </tr>\n",
       "    <tr>\n",
       "      <th>1</th>\n",
       "      <td>3</td>\n",
       "      <td>kirthi</td>\n",
       "    </tr>\n",
       "    <tr>\n",
       "      <th>2</th>\n",
       "      <td>5</td>\n",
       "      <td>joy</td>\n",
       "    </tr>\n",
       "    <tr>\n",
       "      <th>3</th>\n",
       "      <td>6</td>\n",
       "      <td>shivani</td>\n",
       "    </tr>\n",
       "  </tbody>\n",
       "</table>\n",
       "</div>"
      ],
      "text/plain": [
       "   id     Name\n",
       "0   1      div\n",
       "1   3   kirthi\n",
       "2   5      joy\n",
       "3   6  shivani"
      ]
     },
     "execution_count": 23,
     "metadata": {},
     "output_type": "execute_result"
    }
   ],
   "source": [
    "d1"
   ]
  },
  {
   "cell_type": "code",
   "execution_count": 24,
   "id": "24698078",
   "metadata": {},
   "outputs": [
    {
     "data": {
      "text/html": [
       "<div>\n",
       "<style scoped>\n",
       "    .dataframe tbody tr th:only-of-type {\n",
       "        vertical-align: middle;\n",
       "    }\n",
       "\n",
       "    .dataframe tbody tr th {\n",
       "        vertical-align: top;\n",
       "    }\n",
       "\n",
       "    .dataframe thead th {\n",
       "        text-align: right;\n",
       "    }\n",
       "</style>\n",
       "<table border=\"1\" class=\"dataframe\">\n",
       "  <thead>\n",
       "    <tr style=\"text-align: right;\">\n",
       "      <th></th>\n",
       "      <th>id</th>\n",
       "      <th>Name_x</th>\n",
       "      <th>Name_y</th>\n",
       "    </tr>\n",
       "  </thead>\n",
       "  <tbody>\n",
       "    <tr>\n",
       "      <th>0</th>\n",
       "      <td>1</td>\n",
       "      <td>divya</td>\n",
       "      <td>div</td>\n",
       "    </tr>\n",
       "    <tr>\n",
       "      <th>1</th>\n",
       "      <td>2</td>\n",
       "      <td>karan</td>\n",
       "      <td>NaN</td>\n",
       "    </tr>\n",
       "    <tr>\n",
       "      <th>2</th>\n",
       "      <td>3</td>\n",
       "      <td>jyothi</td>\n",
       "      <td>kirthi</td>\n",
       "    </tr>\n",
       "    <tr>\n",
       "      <th>3</th>\n",
       "      <td>4</td>\n",
       "      <td>kiran</td>\n",
       "      <td>NaN</td>\n",
       "    </tr>\n",
       "  </tbody>\n",
       "</table>\n",
       "</div>"
      ],
      "text/plain": [
       "   id  Name_x  Name_y\n",
       "0   1   divya     div\n",
       "1   2   karan     NaN\n",
       "2   3  jyothi  kirthi\n",
       "3   4   kiran     NaN"
      ]
     },
     "execution_count": 24,
     "metadata": {},
     "output_type": "execute_result"
    }
   ],
   "source": [
    "###LEFT OUTER JOIN\n",
    "pd.merge(d,d1,on=\"id\",how=\"left\") ##show values in left show nan that no"
   ]
  },
  {
   "cell_type": "code",
   "execution_count": 25,
   "id": "b8bcb79c",
   "metadata": {},
   "outputs": [
    {
     "data": {
      "text/html": [
       "<div>\n",
       "<style scoped>\n",
       "    .dataframe tbody tr th:only-of-type {\n",
       "        vertical-align: middle;\n",
       "    }\n",
       "\n",
       "    .dataframe tbody tr th {\n",
       "        vertical-align: top;\n",
       "    }\n",
       "\n",
       "    .dataframe thead th {\n",
       "        text-align: right;\n",
       "    }\n",
       "</style>\n",
       "<table border=\"1\" class=\"dataframe\">\n",
       "  <thead>\n",
       "    <tr style=\"text-align: right;\">\n",
       "      <th></th>\n",
       "      <th>id</th>\n",
       "      <th>Name_x</th>\n",
       "      <th>Name_y</th>\n",
       "    </tr>\n",
       "  </thead>\n",
       "  <tbody>\n",
       "    <tr>\n",
       "      <th>0</th>\n",
       "      <td>1</td>\n",
       "      <td>divya</td>\n",
       "      <td>div</td>\n",
       "    </tr>\n",
       "    <tr>\n",
       "      <th>1</th>\n",
       "      <td>3</td>\n",
       "      <td>jyothi</td>\n",
       "      <td>kirthi</td>\n",
       "    </tr>\n",
       "    <tr>\n",
       "      <th>2</th>\n",
       "      <td>5</td>\n",
       "      <td>NaN</td>\n",
       "      <td>joy</td>\n",
       "    </tr>\n",
       "    <tr>\n",
       "      <th>3</th>\n",
       "      <td>6</td>\n",
       "      <td>NaN</td>\n",
       "      <td>shivani</td>\n",
       "    </tr>\n",
       "  </tbody>\n",
       "</table>\n",
       "</div>"
      ],
      "text/plain": [
       "   id  Name_x   Name_y\n",
       "0   1   divya      div\n",
       "1   3  jyothi   kirthi\n",
       "2   5     NaN      joy\n",
       "3   6     NaN  shivani"
      ]
     },
     "execution_count": 25,
     "metadata": {},
     "output_type": "execute_result"
    }
   ],
   "source": [
    "###right outer join\n",
    "pd.merge(d,d1,on=\"id\",how=\"right\")"
   ]
  },
  {
   "cell_type": "markdown",
   "id": "6e2a48ec",
   "metadata": {},
   "source": [
    "### dealing with null values"
   ]
  },
  {
   "cell_type": "code",
   "execution_count": 26,
   "id": "8a7071a6",
   "metadata": {},
   "outputs": [
    {
     "data": {
      "text/plain": [
       "DatetimeIndex(['2021-01-25', '2021-01-26', '2021-01-27', '2021-01-28',\n",
       "               '2021-01-29', '2021-01-30', '2021-01-31'],\n",
       "              dtype='datetime64[ns]', freq='D')"
      ]
     },
     "execution_count": 26,
     "metadata": {},
     "output_type": "execute_result"
    }
   ],
   "source": [
    "date3=pd.date_range(start=\"2021-01-25\",periods=7)\n",
    "date3"
   ]
  },
  {
   "cell_type": "code",
   "execution_count": 27,
   "id": "64b80925",
   "metadata": {},
   "outputs": [
    {
     "data": {
      "text/plain": [
       "array([[0.07732244, 0.34117306, 0.09330585, 0.35050408, 0.24462808,\n",
       "        0.9520408 , 0.84704276],\n",
       "       [0.44906088, 0.98557468, 0.50870661, 0.67990778, 0.43589339,\n",
       "        0.16055437, 0.29634923],\n",
       "       [0.25761406, 0.17536259, 0.37009646, 0.32849414, 0.40776071,\n",
       "        0.4054478 , 0.76406315],\n",
       "       [0.74265604, 0.90992889, 0.83176247, 0.30943712, 0.96377613,\n",
       "        0.99020969, 0.65949892],\n",
       "       [0.37040476, 0.83368381, 0.69678148, 0.30928369, 0.23048208,\n",
       "        0.70344641, 0.64463606],\n",
       "       [0.543591  , 0.00219126, 0.87733312, 0.21039707, 0.28477683,\n",
       "        0.56791287, 0.05632658],\n",
       "       [0.97167245, 0.47518778, 0.76812994, 0.70974571, 0.08271093,\n",
       "        0.75997173, 0.95207788]])"
      ]
     },
     "execution_count": 27,
     "metadata": {},
     "output_type": "execute_result"
    }
   ],
   "source": [
    "r=np.random.random((7,7))\n",
    "r"
   ]
  },
  {
   "cell_type": "code",
   "execution_count": 28,
   "id": "e9463e32",
   "metadata": {},
   "outputs": [
    {
     "data": {
      "text/html": [
       "<div>\n",
       "<style scoped>\n",
       "    .dataframe tbody tr th:only-of-type {\n",
       "        vertical-align: middle;\n",
       "    }\n",
       "\n",
       "    .dataframe tbody tr th {\n",
       "        vertical-align: top;\n",
       "    }\n",
       "\n",
       "    .dataframe thead th {\n",
       "        text-align: right;\n",
       "    }\n",
       "</style>\n",
       "<table border=\"1\" class=\"dataframe\">\n",
       "  <thead>\n",
       "    <tr style=\"text-align: right;\">\n",
       "      <th></th>\n",
       "      <th>0</th>\n",
       "      <th>1</th>\n",
       "      <th>2</th>\n",
       "      <th>3</th>\n",
       "      <th>4</th>\n",
       "      <th>5</th>\n",
       "      <th>6</th>\n",
       "    </tr>\n",
       "  </thead>\n",
       "  <tbody>\n",
       "    <tr>\n",
       "      <th>2021-01-25</th>\n",
       "      <td>0.077322</td>\n",
       "      <td>0.341173</td>\n",
       "      <td>0.093306</td>\n",
       "      <td>0.350504</td>\n",
       "      <td>0.244628</td>\n",
       "      <td>0.952041</td>\n",
       "      <td>0.847043</td>\n",
       "    </tr>\n",
       "    <tr>\n",
       "      <th>2021-01-26</th>\n",
       "      <td>0.449061</td>\n",
       "      <td>0.985575</td>\n",
       "      <td>0.508707</td>\n",
       "      <td>0.679908</td>\n",
       "      <td>0.435893</td>\n",
       "      <td>0.160554</td>\n",
       "      <td>0.296349</td>\n",
       "    </tr>\n",
       "    <tr>\n",
       "      <th>2021-01-27</th>\n",
       "      <td>0.257614</td>\n",
       "      <td>0.175363</td>\n",
       "      <td>0.370096</td>\n",
       "      <td>0.328494</td>\n",
       "      <td>0.407761</td>\n",
       "      <td>0.405448</td>\n",
       "      <td>0.764063</td>\n",
       "    </tr>\n",
       "    <tr>\n",
       "      <th>2021-01-28</th>\n",
       "      <td>0.742656</td>\n",
       "      <td>0.909929</td>\n",
       "      <td>0.831762</td>\n",
       "      <td>0.309437</td>\n",
       "      <td>0.963776</td>\n",
       "      <td>0.990210</td>\n",
       "      <td>0.659499</td>\n",
       "    </tr>\n",
       "    <tr>\n",
       "      <th>2021-01-29</th>\n",
       "      <td>0.370405</td>\n",
       "      <td>0.833684</td>\n",
       "      <td>0.696781</td>\n",
       "      <td>0.309284</td>\n",
       "      <td>0.230482</td>\n",
       "      <td>0.703446</td>\n",
       "      <td>0.644636</td>\n",
       "    </tr>\n",
       "    <tr>\n",
       "      <th>2021-01-30</th>\n",
       "      <td>0.543591</td>\n",
       "      <td>0.002191</td>\n",
       "      <td>0.877333</td>\n",
       "      <td>0.210397</td>\n",
       "      <td>0.284777</td>\n",
       "      <td>0.567913</td>\n",
       "      <td>0.056327</td>\n",
       "    </tr>\n",
       "    <tr>\n",
       "      <th>2021-01-31</th>\n",
       "      <td>0.971672</td>\n",
       "      <td>0.475188</td>\n",
       "      <td>0.768130</td>\n",
       "      <td>0.709746</td>\n",
       "      <td>0.082711</td>\n",
       "      <td>0.759972</td>\n",
       "      <td>0.952078</td>\n",
       "    </tr>\n",
       "  </tbody>\n",
       "</table>\n",
       "</div>"
      ],
      "text/plain": [
       "                   0         1         2         3         4         5  \\\n",
       "2021-01-25  0.077322  0.341173  0.093306  0.350504  0.244628  0.952041   \n",
       "2021-01-26  0.449061  0.985575  0.508707  0.679908  0.435893  0.160554   \n",
       "2021-01-27  0.257614  0.175363  0.370096  0.328494  0.407761  0.405448   \n",
       "2021-01-28  0.742656  0.909929  0.831762  0.309437  0.963776  0.990210   \n",
       "2021-01-29  0.370405  0.833684  0.696781  0.309284  0.230482  0.703446   \n",
       "2021-01-30  0.543591  0.002191  0.877333  0.210397  0.284777  0.567913   \n",
       "2021-01-31  0.971672  0.475188  0.768130  0.709746  0.082711  0.759972   \n",
       "\n",
       "                   6  \n",
       "2021-01-25  0.847043  \n",
       "2021-01-26  0.296349  \n",
       "2021-01-27  0.764063  \n",
       "2021-01-28  0.659499  \n",
       "2021-01-29  0.644636  \n",
       "2021-01-30  0.056327  \n",
       "2021-01-31  0.952078  "
      ]
     },
     "execution_count": 28,
     "metadata": {},
     "output_type": "execute_result"
    }
   ],
   "source": [
    "d2=pd.DataFrame(r,date3)\n",
    "d2"
   ]
  },
  {
   "cell_type": "code",
   "execution_count": 29,
   "id": "3918c697",
   "metadata": {},
   "outputs": [
    {
     "data": {
      "text/html": [
       "<div>\n",
       "<style scoped>\n",
       "    .dataframe tbody tr th:only-of-type {\n",
       "        vertical-align: middle;\n",
       "    }\n",
       "\n",
       "    .dataframe tbody tr th {\n",
       "        vertical-align: top;\n",
       "    }\n",
       "\n",
       "    .dataframe thead th {\n",
       "        text-align: right;\n",
       "    }\n",
       "</style>\n",
       "<table border=\"1\" class=\"dataframe\">\n",
       "  <thead>\n",
       "    <tr style=\"text-align: right;\">\n",
       "      <th></th>\n",
       "      <th>A</th>\n",
       "      <th>B</th>\n",
       "      <th>C</th>\n",
       "      <th>D</th>\n",
       "      <th>E</th>\n",
       "      <th>F</th>\n",
       "      <th>G</th>\n",
       "    </tr>\n",
       "  </thead>\n",
       "  <tbody>\n",
       "    <tr>\n",
       "      <th>2021-01-25</th>\n",
       "      <td>0.077322</td>\n",
       "      <td>0.341173</td>\n",
       "      <td>0.093306</td>\n",
       "      <td>0.350504</td>\n",
       "      <td>0.244628</td>\n",
       "      <td>0.952041</td>\n",
       "      <td>0.847043</td>\n",
       "    </tr>\n",
       "    <tr>\n",
       "      <th>2021-01-26</th>\n",
       "      <td>0.449061</td>\n",
       "      <td>0.985575</td>\n",
       "      <td>0.508707</td>\n",
       "      <td>0.679908</td>\n",
       "      <td>0.435893</td>\n",
       "      <td>0.160554</td>\n",
       "      <td>0.296349</td>\n",
       "    </tr>\n",
       "    <tr>\n",
       "      <th>2021-01-27</th>\n",
       "      <td>0.257614</td>\n",
       "      <td>0.175363</td>\n",
       "      <td>0.370096</td>\n",
       "      <td>0.328494</td>\n",
       "      <td>0.407761</td>\n",
       "      <td>0.405448</td>\n",
       "      <td>0.764063</td>\n",
       "    </tr>\n",
       "    <tr>\n",
       "      <th>2021-01-28</th>\n",
       "      <td>0.742656</td>\n",
       "      <td>0.909929</td>\n",
       "      <td>0.831762</td>\n",
       "      <td>0.309437</td>\n",
       "      <td>0.963776</td>\n",
       "      <td>0.990210</td>\n",
       "      <td>0.659499</td>\n",
       "    </tr>\n",
       "    <tr>\n",
       "      <th>2021-01-29</th>\n",
       "      <td>0.370405</td>\n",
       "      <td>0.833684</td>\n",
       "      <td>0.696781</td>\n",
       "      <td>0.309284</td>\n",
       "      <td>0.230482</td>\n",
       "      <td>0.703446</td>\n",
       "      <td>0.644636</td>\n",
       "    </tr>\n",
       "    <tr>\n",
       "      <th>2021-01-30</th>\n",
       "      <td>0.543591</td>\n",
       "      <td>0.002191</td>\n",
       "      <td>0.877333</td>\n",
       "      <td>0.210397</td>\n",
       "      <td>0.284777</td>\n",
       "      <td>0.567913</td>\n",
       "      <td>0.056327</td>\n",
       "    </tr>\n",
       "    <tr>\n",
       "      <th>2021-01-31</th>\n",
       "      <td>0.971672</td>\n",
       "      <td>0.475188</td>\n",
       "      <td>0.768130</td>\n",
       "      <td>0.709746</td>\n",
       "      <td>0.082711</td>\n",
       "      <td>0.759972</td>\n",
       "      <td>0.952078</td>\n",
       "    </tr>\n",
       "  </tbody>\n",
       "</table>\n",
       "</div>"
      ],
      "text/plain": [
       "                   A         B         C         D         E         F  \\\n",
       "2021-01-25  0.077322  0.341173  0.093306  0.350504  0.244628  0.952041   \n",
       "2021-01-26  0.449061  0.985575  0.508707  0.679908  0.435893  0.160554   \n",
       "2021-01-27  0.257614  0.175363  0.370096  0.328494  0.407761  0.405448   \n",
       "2021-01-28  0.742656  0.909929  0.831762  0.309437  0.963776  0.990210   \n",
       "2021-01-29  0.370405  0.833684  0.696781  0.309284  0.230482  0.703446   \n",
       "2021-01-30  0.543591  0.002191  0.877333  0.210397  0.284777  0.567913   \n",
       "2021-01-31  0.971672  0.475188  0.768130  0.709746  0.082711  0.759972   \n",
       "\n",
       "                   G  \n",
       "2021-01-25  0.847043  \n",
       "2021-01-26  0.296349  \n",
       "2021-01-27  0.764063  \n",
       "2021-01-28  0.659499  \n",
       "2021-01-29  0.644636  \n",
       "2021-01-30  0.056327  \n",
       "2021-01-31  0.952078  "
      ]
     },
     "execution_count": 29,
     "metadata": {},
     "output_type": "execute_result"
    }
   ],
   "source": [
    "d2.columns=[\"A\",\"B\",\"C\",\"D\",\"E\",\"F\",\"G\"]\n",
    "d2"
   ]
  },
  {
   "cell_type": "code",
   "execution_count": 34,
   "id": "86c492ed",
   "metadata": {},
   "outputs": [],
   "source": [
    "d2.iat[0,3]=np.NAN"
   ]
  },
  {
   "cell_type": "code",
   "execution_count": 35,
   "id": "0610a16c",
   "metadata": {},
   "outputs": [
    {
     "data": {
      "text/html": [
       "<div>\n",
       "<style scoped>\n",
       "    .dataframe tbody tr th:only-of-type {\n",
       "        vertical-align: middle;\n",
       "    }\n",
       "\n",
       "    .dataframe tbody tr th {\n",
       "        vertical-align: top;\n",
       "    }\n",
       "\n",
       "    .dataframe thead th {\n",
       "        text-align: right;\n",
       "    }\n",
       "</style>\n",
       "<table border=\"1\" class=\"dataframe\">\n",
       "  <thead>\n",
       "    <tr style=\"text-align: right;\">\n",
       "      <th></th>\n",
       "      <th>A</th>\n",
       "      <th>B</th>\n",
       "      <th>C</th>\n",
       "      <th>D</th>\n",
       "      <th>E</th>\n",
       "      <th>F</th>\n",
       "      <th>G</th>\n",
       "    </tr>\n",
       "  </thead>\n",
       "  <tbody>\n",
       "    <tr>\n",
       "      <th>2021-01-25</th>\n",
       "      <td>0.077322</td>\n",
       "      <td>0.341173</td>\n",
       "      <td>0.093306</td>\n",
       "      <td>NaN</td>\n",
       "      <td>0.244628</td>\n",
       "      <td>0.952041</td>\n",
       "      <td>0.847043</td>\n",
       "    </tr>\n",
       "    <tr>\n",
       "      <th>2021-01-26</th>\n",
       "      <td>0.449061</td>\n",
       "      <td>0.985575</td>\n",
       "      <td>0.508707</td>\n",
       "      <td>0.679908</td>\n",
       "      <td>0.435893</td>\n",
       "      <td>0.160554</td>\n",
       "      <td>0.296349</td>\n",
       "    </tr>\n",
       "    <tr>\n",
       "      <th>2021-01-27</th>\n",
       "      <td>0.257614</td>\n",
       "      <td>0.175363</td>\n",
       "      <td>0.370096</td>\n",
       "      <td>0.328494</td>\n",
       "      <td>0.407761</td>\n",
       "      <td>0.405448</td>\n",
       "      <td>0.764063</td>\n",
       "    </tr>\n",
       "    <tr>\n",
       "      <th>2021-01-28</th>\n",
       "      <td>0.742656</td>\n",
       "      <td>0.909929</td>\n",
       "      <td>0.831762</td>\n",
       "      <td>0.309437</td>\n",
       "      <td>0.963776</td>\n",
       "      <td>0.990210</td>\n",
       "      <td>0.659499</td>\n",
       "    </tr>\n",
       "    <tr>\n",
       "      <th>2021-01-29</th>\n",
       "      <td>0.370405</td>\n",
       "      <td>0.833684</td>\n",
       "      <td>0.696781</td>\n",
       "      <td>0.309284</td>\n",
       "      <td>0.230482</td>\n",
       "      <td>0.703446</td>\n",
       "      <td>0.644636</td>\n",
       "    </tr>\n",
       "    <tr>\n",
       "      <th>2021-01-30</th>\n",
       "      <td>0.543591</td>\n",
       "      <td>0.002191</td>\n",
       "      <td>0.877333</td>\n",
       "      <td>0.210397</td>\n",
       "      <td>0.284777</td>\n",
       "      <td>0.567913</td>\n",
       "      <td>0.056327</td>\n",
       "    </tr>\n",
       "    <tr>\n",
       "      <th>2021-01-31</th>\n",
       "      <td>0.971672</td>\n",
       "      <td>0.475188</td>\n",
       "      <td>0.768130</td>\n",
       "      <td>0.709746</td>\n",
       "      <td>0.082711</td>\n",
       "      <td>0.759972</td>\n",
       "      <td>0.952078</td>\n",
       "    </tr>\n",
       "  </tbody>\n",
       "</table>\n",
       "</div>"
      ],
      "text/plain": [
       "                   A         B         C         D         E         F  \\\n",
       "2021-01-25  0.077322  0.341173  0.093306       NaN  0.244628  0.952041   \n",
       "2021-01-26  0.449061  0.985575  0.508707  0.679908  0.435893  0.160554   \n",
       "2021-01-27  0.257614  0.175363  0.370096  0.328494  0.407761  0.405448   \n",
       "2021-01-28  0.742656  0.909929  0.831762  0.309437  0.963776  0.990210   \n",
       "2021-01-29  0.370405  0.833684  0.696781  0.309284  0.230482  0.703446   \n",
       "2021-01-30  0.543591  0.002191  0.877333  0.210397  0.284777  0.567913   \n",
       "2021-01-31  0.971672  0.475188  0.768130  0.709746  0.082711  0.759972   \n",
       "\n",
       "                   G  \n",
       "2021-01-25  0.847043  \n",
       "2021-01-26  0.296349  \n",
       "2021-01-27  0.764063  \n",
       "2021-01-28  0.659499  \n",
       "2021-01-29  0.644636  \n",
       "2021-01-30  0.056327  \n",
       "2021-01-31  0.952078  "
      ]
     },
     "execution_count": 35,
     "metadata": {},
     "output_type": "execute_result"
    }
   ],
   "source": [
    "d2"
   ]
  },
  {
   "cell_type": "code",
   "execution_count": 36,
   "id": "51f27ade",
   "metadata": {},
   "outputs": [
    {
     "data": {
      "text/html": [
       "<div>\n",
       "<style scoped>\n",
       "    .dataframe tbody tr th:only-of-type {\n",
       "        vertical-align: middle;\n",
       "    }\n",
       "\n",
       "    .dataframe tbody tr th {\n",
       "        vertical-align: top;\n",
       "    }\n",
       "\n",
       "    .dataframe thead th {\n",
       "        text-align: right;\n",
       "    }\n",
       "</style>\n",
       "<table border=\"1\" class=\"dataframe\">\n",
       "  <thead>\n",
       "    <tr style=\"text-align: right;\">\n",
       "      <th></th>\n",
       "      <th>A</th>\n",
       "      <th>B</th>\n",
       "      <th>C</th>\n",
       "      <th>D</th>\n",
       "      <th>E</th>\n",
       "      <th>F</th>\n",
       "      <th>G</th>\n",
       "    </tr>\n",
       "  </thead>\n",
       "  <tbody>\n",
       "    <tr>\n",
       "      <th>2021-01-25</th>\n",
       "      <td>0.077322</td>\n",
       "      <td>0.341173</td>\n",
       "      <td>0.093306</td>\n",
       "      <td>NaN</td>\n",
       "      <td>0.244628</td>\n",
       "      <td>0.952041</td>\n",
       "      <td>0.847043</td>\n",
       "    </tr>\n",
       "    <tr>\n",
       "      <th>2021-01-26</th>\n",
       "      <td>0.449061</td>\n",
       "      <td>0.985575</td>\n",
       "      <td>NaN</td>\n",
       "      <td>0.679908</td>\n",
       "      <td>0.435893</td>\n",
       "      <td>0.160554</td>\n",
       "      <td>0.296349</td>\n",
       "    </tr>\n",
       "    <tr>\n",
       "      <th>2021-01-27</th>\n",
       "      <td>0.257614</td>\n",
       "      <td>0.175363</td>\n",
       "      <td>0.370096</td>\n",
       "      <td>0.328494</td>\n",
       "      <td>0.407761</td>\n",
       "      <td>0.405448</td>\n",
       "      <td>0.764063</td>\n",
       "    </tr>\n",
       "    <tr>\n",
       "      <th>2021-01-28</th>\n",
       "      <td>0.742656</td>\n",
       "      <td>0.909929</td>\n",
       "      <td>0.831762</td>\n",
       "      <td>0.309437</td>\n",
       "      <td>0.963776</td>\n",
       "      <td>0.990210</td>\n",
       "      <td>0.659499</td>\n",
       "    </tr>\n",
       "    <tr>\n",
       "      <th>2021-01-29</th>\n",
       "      <td>0.370405</td>\n",
       "      <td>0.833684</td>\n",
       "      <td>0.696781</td>\n",
       "      <td>0.309284</td>\n",
       "      <td>0.230482</td>\n",
       "      <td>0.703446</td>\n",
       "      <td>0.644636</td>\n",
       "    </tr>\n",
       "    <tr>\n",
       "      <th>2021-01-30</th>\n",
       "      <td>0.543591</td>\n",
       "      <td>0.002191</td>\n",
       "      <td>0.877333</td>\n",
       "      <td>0.210397</td>\n",
       "      <td>0.284777</td>\n",
       "      <td>0.567913</td>\n",
       "      <td>0.056327</td>\n",
       "    </tr>\n",
       "    <tr>\n",
       "      <th>2021-01-31</th>\n",
       "      <td>0.971672</td>\n",
       "      <td>0.475188</td>\n",
       "      <td>0.768130</td>\n",
       "      <td>0.709746</td>\n",
       "      <td>0.082711</td>\n",
       "      <td>0.759972</td>\n",
       "      <td>0.952078</td>\n",
       "    </tr>\n",
       "  </tbody>\n",
       "</table>\n",
       "</div>"
      ],
      "text/plain": [
       "                   A         B         C         D         E         F  \\\n",
       "2021-01-25  0.077322  0.341173  0.093306       NaN  0.244628  0.952041   \n",
       "2021-01-26  0.449061  0.985575       NaN  0.679908  0.435893  0.160554   \n",
       "2021-01-27  0.257614  0.175363  0.370096  0.328494  0.407761  0.405448   \n",
       "2021-01-28  0.742656  0.909929  0.831762  0.309437  0.963776  0.990210   \n",
       "2021-01-29  0.370405  0.833684  0.696781  0.309284  0.230482  0.703446   \n",
       "2021-01-30  0.543591  0.002191  0.877333  0.210397  0.284777  0.567913   \n",
       "2021-01-31  0.971672  0.475188  0.768130  0.709746  0.082711  0.759972   \n",
       "\n",
       "                   G  \n",
       "2021-01-25  0.847043  \n",
       "2021-01-26  0.296349  \n",
       "2021-01-27  0.764063  \n",
       "2021-01-28  0.659499  \n",
       "2021-01-29  0.644636  \n",
       "2021-01-30  0.056327  \n",
       "2021-01-31  0.952078  "
      ]
     },
     "execution_count": 36,
     "metadata": {},
     "output_type": "execute_result"
    }
   ],
   "source": [
    "d2.iat[1,2]=np.NAN\n",
    "d2"
   ]
  },
  {
   "cell_type": "code",
   "execution_count": 37,
   "id": "8a10c224",
   "metadata": {},
   "outputs": [
    {
     "data": {
      "text/html": [
       "<div>\n",
       "<style scoped>\n",
       "    .dataframe tbody tr th:only-of-type {\n",
       "        vertical-align: middle;\n",
       "    }\n",
       "\n",
       "    .dataframe tbody tr th {\n",
       "        vertical-align: top;\n",
       "    }\n",
       "\n",
       "    .dataframe thead th {\n",
       "        text-align: right;\n",
       "    }\n",
       "</style>\n",
       "<table border=\"1\" class=\"dataframe\">\n",
       "  <thead>\n",
       "    <tr style=\"text-align: right;\">\n",
       "      <th></th>\n",
       "      <th>A</th>\n",
       "      <th>B</th>\n",
       "      <th>C</th>\n",
       "      <th>D</th>\n",
       "      <th>E</th>\n",
       "      <th>F</th>\n",
       "      <th>G</th>\n",
       "    </tr>\n",
       "  </thead>\n",
       "  <tbody>\n",
       "    <tr>\n",
       "      <th>2021-01-25</th>\n",
       "      <td>0.077322</td>\n",
       "      <td>0.341173</td>\n",
       "      <td>0.093306</td>\n",
       "      <td>NaN</td>\n",
       "      <td>0.244628</td>\n",
       "      <td>0.952041</td>\n",
       "      <td>0.847043</td>\n",
       "    </tr>\n",
       "    <tr>\n",
       "      <th>2021-01-26</th>\n",
       "      <td>0.449061</td>\n",
       "      <td>0.985575</td>\n",
       "      <td>NaN</td>\n",
       "      <td>0.679908</td>\n",
       "      <td>0.435893</td>\n",
       "      <td>0.160554</td>\n",
       "      <td>0.296349</td>\n",
       "    </tr>\n",
       "    <tr>\n",
       "      <th>2021-01-27</th>\n",
       "      <td>0.257614</td>\n",
       "      <td>0.175363</td>\n",
       "      <td>NaN</td>\n",
       "      <td>0.328494</td>\n",
       "      <td>0.407761</td>\n",
       "      <td>0.405448</td>\n",
       "      <td>0.764063</td>\n",
       "    </tr>\n",
       "    <tr>\n",
       "      <th>2021-01-28</th>\n",
       "      <td>0.742656</td>\n",
       "      <td>0.909929</td>\n",
       "      <td>0.831762</td>\n",
       "      <td>0.309437</td>\n",
       "      <td>0.963776</td>\n",
       "      <td>0.990210</td>\n",
       "      <td>0.659499</td>\n",
       "    </tr>\n",
       "    <tr>\n",
       "      <th>2021-01-29</th>\n",
       "      <td>0.370405</td>\n",
       "      <td>0.833684</td>\n",
       "      <td>0.696781</td>\n",
       "      <td>0.309284</td>\n",
       "      <td>0.230482</td>\n",
       "      <td>0.703446</td>\n",
       "      <td>0.644636</td>\n",
       "    </tr>\n",
       "    <tr>\n",
       "      <th>2021-01-30</th>\n",
       "      <td>0.543591</td>\n",
       "      <td>0.002191</td>\n",
       "      <td>0.877333</td>\n",
       "      <td>0.210397</td>\n",
       "      <td>0.284777</td>\n",
       "      <td>0.567913</td>\n",
       "      <td>0.056327</td>\n",
       "    </tr>\n",
       "    <tr>\n",
       "      <th>2021-01-31</th>\n",
       "      <td>0.971672</td>\n",
       "      <td>0.475188</td>\n",
       "      <td>0.768130</td>\n",
       "      <td>0.709746</td>\n",
       "      <td>0.082711</td>\n",
       "      <td>0.759972</td>\n",
       "      <td>0.952078</td>\n",
       "    </tr>\n",
       "  </tbody>\n",
       "</table>\n",
       "</div>"
      ],
      "text/plain": [
       "                   A         B         C         D         E         F  \\\n",
       "2021-01-25  0.077322  0.341173  0.093306       NaN  0.244628  0.952041   \n",
       "2021-01-26  0.449061  0.985575       NaN  0.679908  0.435893  0.160554   \n",
       "2021-01-27  0.257614  0.175363       NaN  0.328494  0.407761  0.405448   \n",
       "2021-01-28  0.742656  0.909929  0.831762  0.309437  0.963776  0.990210   \n",
       "2021-01-29  0.370405  0.833684  0.696781  0.309284  0.230482  0.703446   \n",
       "2021-01-30  0.543591  0.002191  0.877333  0.210397  0.284777  0.567913   \n",
       "2021-01-31  0.971672  0.475188  0.768130  0.709746  0.082711  0.759972   \n",
       "\n",
       "                   G  \n",
       "2021-01-25  0.847043  \n",
       "2021-01-26  0.296349  \n",
       "2021-01-27  0.764063  \n",
       "2021-01-28  0.659499  \n",
       "2021-01-29  0.644636  \n",
       "2021-01-30  0.056327  \n",
       "2021-01-31  0.952078  "
      ]
     },
     "execution_count": 37,
     "metadata": {},
     "output_type": "execute_result"
    }
   ],
   "source": [
    "d2.iat[2,2]=np.NAN\n",
    "d2"
   ]
  },
  {
   "cell_type": "code",
   "execution_count": 38,
   "id": "41755177",
   "metadata": {},
   "outputs": [
    {
     "data": {
      "text/html": [
       "<div>\n",
       "<style scoped>\n",
       "    .dataframe tbody tr th:only-of-type {\n",
       "        vertical-align: middle;\n",
       "    }\n",
       "\n",
       "    .dataframe tbody tr th {\n",
       "        vertical-align: top;\n",
       "    }\n",
       "\n",
       "    .dataframe thead th {\n",
       "        text-align: right;\n",
       "    }\n",
       "</style>\n",
       "<table border=\"1\" class=\"dataframe\">\n",
       "  <thead>\n",
       "    <tr style=\"text-align: right;\">\n",
       "      <th></th>\n",
       "      <th>A</th>\n",
       "      <th>B</th>\n",
       "      <th>C</th>\n",
       "      <th>D</th>\n",
       "      <th>E</th>\n",
       "      <th>F</th>\n",
       "      <th>G</th>\n",
       "    </tr>\n",
       "  </thead>\n",
       "  <tbody>\n",
       "    <tr>\n",
       "      <th>2021-01-25</th>\n",
       "      <td>0.077322</td>\n",
       "      <td>0.341173</td>\n",
       "      <td>0.093306</td>\n",
       "      <td>NaN</td>\n",
       "      <td>0.244628</td>\n",
       "      <td>0.952041</td>\n",
       "      <td>0.847043</td>\n",
       "    </tr>\n",
       "    <tr>\n",
       "      <th>2021-01-26</th>\n",
       "      <td>0.449061</td>\n",
       "      <td>0.985575</td>\n",
       "      <td>NaN</td>\n",
       "      <td>0.679908</td>\n",
       "      <td>0.435893</td>\n",
       "      <td>0.160554</td>\n",
       "      <td>0.296349</td>\n",
       "    </tr>\n",
       "    <tr>\n",
       "      <th>2021-01-27</th>\n",
       "      <td>0.257614</td>\n",
       "      <td>0.175363</td>\n",
       "      <td>NaN</td>\n",
       "      <td>0.328494</td>\n",
       "      <td>0.407761</td>\n",
       "      <td>0.405448</td>\n",
       "      <td>0.764063</td>\n",
       "    </tr>\n",
       "    <tr>\n",
       "      <th>2021-01-28</th>\n",
       "      <td>0.742656</td>\n",
       "      <td>0.909929</td>\n",
       "      <td>0.831762</td>\n",
       "      <td>0.309437</td>\n",
       "      <td>0.963776</td>\n",
       "      <td>0.990210</td>\n",
       "      <td>0.659499</td>\n",
       "    </tr>\n",
       "    <tr>\n",
       "      <th>2021-01-29</th>\n",
       "      <td>0.370405</td>\n",
       "      <td>NaN</td>\n",
       "      <td>0.696781</td>\n",
       "      <td>0.309284</td>\n",
       "      <td>0.230482</td>\n",
       "      <td>0.703446</td>\n",
       "      <td>0.644636</td>\n",
       "    </tr>\n",
       "    <tr>\n",
       "      <th>2021-01-30</th>\n",
       "      <td>0.543591</td>\n",
       "      <td>0.002191</td>\n",
       "      <td>0.877333</td>\n",
       "      <td>0.210397</td>\n",
       "      <td>0.284777</td>\n",
       "      <td>0.567913</td>\n",
       "      <td>0.056327</td>\n",
       "    </tr>\n",
       "    <tr>\n",
       "      <th>2021-01-31</th>\n",
       "      <td>0.971672</td>\n",
       "      <td>0.475188</td>\n",
       "      <td>0.768130</td>\n",
       "      <td>0.709746</td>\n",
       "      <td>0.082711</td>\n",
       "      <td>0.759972</td>\n",
       "      <td>0.952078</td>\n",
       "    </tr>\n",
       "  </tbody>\n",
       "</table>\n",
       "</div>"
      ],
      "text/plain": [
       "                   A         B         C         D         E         F  \\\n",
       "2021-01-25  0.077322  0.341173  0.093306       NaN  0.244628  0.952041   \n",
       "2021-01-26  0.449061  0.985575       NaN  0.679908  0.435893  0.160554   \n",
       "2021-01-27  0.257614  0.175363       NaN  0.328494  0.407761  0.405448   \n",
       "2021-01-28  0.742656  0.909929  0.831762  0.309437  0.963776  0.990210   \n",
       "2021-01-29  0.370405       NaN  0.696781  0.309284  0.230482  0.703446   \n",
       "2021-01-30  0.543591  0.002191  0.877333  0.210397  0.284777  0.567913   \n",
       "2021-01-31  0.971672  0.475188  0.768130  0.709746  0.082711  0.759972   \n",
       "\n",
       "                   G  \n",
       "2021-01-25  0.847043  \n",
       "2021-01-26  0.296349  \n",
       "2021-01-27  0.764063  \n",
       "2021-01-28  0.659499  \n",
       "2021-01-29  0.644636  \n",
       "2021-01-30  0.056327  \n",
       "2021-01-31  0.952078  "
      ]
     },
     "execution_count": 38,
     "metadata": {},
     "output_type": "execute_result"
    }
   ],
   "source": [
    "d2.iat[4,1]=np.NAN\n",
    "d2"
   ]
  },
  {
   "cell_type": "code",
   "execution_count": 39,
   "id": "4baf6389",
   "metadata": {},
   "outputs": [
    {
     "data": {
      "text/html": [
       "<div>\n",
       "<style scoped>\n",
       "    .dataframe tbody tr th:only-of-type {\n",
       "        vertical-align: middle;\n",
       "    }\n",
       "\n",
       "    .dataframe tbody tr th {\n",
       "        vertical-align: top;\n",
       "    }\n",
       "\n",
       "    .dataframe thead th {\n",
       "        text-align: right;\n",
       "    }\n",
       "</style>\n",
       "<table border=\"1\" class=\"dataframe\">\n",
       "  <thead>\n",
       "    <tr style=\"text-align: right;\">\n",
       "      <th></th>\n",
       "      <th>A</th>\n",
       "      <th>B</th>\n",
       "      <th>C</th>\n",
       "      <th>D</th>\n",
       "      <th>E</th>\n",
       "      <th>F</th>\n",
       "      <th>G</th>\n",
       "    </tr>\n",
       "  </thead>\n",
       "  <tbody>\n",
       "    <tr>\n",
       "      <th>2021-01-25</th>\n",
       "      <td>0.077322</td>\n",
       "      <td>0.341173</td>\n",
       "      <td>0.093306</td>\n",
       "      <td>NaN</td>\n",
       "      <td>0.244628</td>\n",
       "      <td>0.952041</td>\n",
       "      <td>0.847043</td>\n",
       "    </tr>\n",
       "    <tr>\n",
       "      <th>2021-01-26</th>\n",
       "      <td>0.449061</td>\n",
       "      <td>0.985575</td>\n",
       "      <td>NaN</td>\n",
       "      <td>0.679908</td>\n",
       "      <td>0.435893</td>\n",
       "      <td>0.160554</td>\n",
       "      <td>0.296349</td>\n",
       "    </tr>\n",
       "    <tr>\n",
       "      <th>2021-01-27</th>\n",
       "      <td>0.257614</td>\n",
       "      <td>0.175363</td>\n",
       "      <td>NaN</td>\n",
       "      <td>0.328494</td>\n",
       "      <td>0.407761</td>\n",
       "      <td>0.405448</td>\n",
       "      <td>0.764063</td>\n",
       "    </tr>\n",
       "    <tr>\n",
       "      <th>2021-01-28</th>\n",
       "      <td>0.742656</td>\n",
       "      <td>0.909929</td>\n",
       "      <td>0.831762</td>\n",
       "      <td>0.309437</td>\n",
       "      <td>0.963776</td>\n",
       "      <td>0.990210</td>\n",
       "      <td>0.659499</td>\n",
       "    </tr>\n",
       "    <tr>\n",
       "      <th>2021-01-29</th>\n",
       "      <td>0.370405</td>\n",
       "      <td>NaN</td>\n",
       "      <td>0.696781</td>\n",
       "      <td>0.309284</td>\n",
       "      <td>NaN</td>\n",
       "      <td>0.703446</td>\n",
       "      <td>0.644636</td>\n",
       "    </tr>\n",
       "    <tr>\n",
       "      <th>2021-01-30</th>\n",
       "      <td>0.543591</td>\n",
       "      <td>0.002191</td>\n",
       "      <td>0.877333</td>\n",
       "      <td>0.210397</td>\n",
       "      <td>0.284777</td>\n",
       "      <td>0.567913</td>\n",
       "      <td>0.056327</td>\n",
       "    </tr>\n",
       "    <tr>\n",
       "      <th>2021-01-31</th>\n",
       "      <td>0.971672</td>\n",
       "      <td>0.475188</td>\n",
       "      <td>0.768130</td>\n",
       "      <td>0.709746</td>\n",
       "      <td>0.082711</td>\n",
       "      <td>0.759972</td>\n",
       "      <td>0.952078</td>\n",
       "    </tr>\n",
       "  </tbody>\n",
       "</table>\n",
       "</div>"
      ],
      "text/plain": [
       "                   A         B         C         D         E         F  \\\n",
       "2021-01-25  0.077322  0.341173  0.093306       NaN  0.244628  0.952041   \n",
       "2021-01-26  0.449061  0.985575       NaN  0.679908  0.435893  0.160554   \n",
       "2021-01-27  0.257614  0.175363       NaN  0.328494  0.407761  0.405448   \n",
       "2021-01-28  0.742656  0.909929  0.831762  0.309437  0.963776  0.990210   \n",
       "2021-01-29  0.370405       NaN  0.696781  0.309284       NaN  0.703446   \n",
       "2021-01-30  0.543591  0.002191  0.877333  0.210397  0.284777  0.567913   \n",
       "2021-01-31  0.971672  0.475188  0.768130  0.709746  0.082711  0.759972   \n",
       "\n",
       "                   G  \n",
       "2021-01-25  0.847043  \n",
       "2021-01-26  0.296349  \n",
       "2021-01-27  0.764063  \n",
       "2021-01-28  0.659499  \n",
       "2021-01-29  0.644636  \n",
       "2021-01-30  0.056327  \n",
       "2021-01-31  0.952078  "
      ]
     },
     "execution_count": 39,
     "metadata": {},
     "output_type": "execute_result"
    }
   ],
   "source": [
    "d2.iat[4,4]=np.NAN\n",
    "d2"
   ]
  },
  {
   "cell_type": "code",
   "execution_count": 40,
   "id": "e3bdef4d",
   "metadata": {},
   "outputs": [
    {
     "data": {
      "text/html": [
       "<div>\n",
       "<style scoped>\n",
       "    .dataframe tbody tr th:only-of-type {\n",
       "        vertical-align: middle;\n",
       "    }\n",
       "\n",
       "    .dataframe tbody tr th {\n",
       "        vertical-align: top;\n",
       "    }\n",
       "\n",
       "    .dataframe thead th {\n",
       "        text-align: right;\n",
       "    }\n",
       "</style>\n",
       "<table border=\"1\" class=\"dataframe\">\n",
       "  <thead>\n",
       "    <tr style=\"text-align: right;\">\n",
       "      <th></th>\n",
       "      <th>A</th>\n",
       "      <th>B</th>\n",
       "      <th>C</th>\n",
       "      <th>D</th>\n",
       "      <th>E</th>\n",
       "      <th>F</th>\n",
       "      <th>G</th>\n",
       "    </tr>\n",
       "  </thead>\n",
       "  <tbody>\n",
       "    <tr>\n",
       "      <th>2021-01-25</th>\n",
       "      <td>True</td>\n",
       "      <td>True</td>\n",
       "      <td>True</td>\n",
       "      <td>False</td>\n",
       "      <td>True</td>\n",
       "      <td>True</td>\n",
       "      <td>True</td>\n",
       "    </tr>\n",
       "    <tr>\n",
       "      <th>2021-01-26</th>\n",
       "      <td>True</td>\n",
       "      <td>True</td>\n",
       "      <td>False</td>\n",
       "      <td>True</td>\n",
       "      <td>True</td>\n",
       "      <td>True</td>\n",
       "      <td>True</td>\n",
       "    </tr>\n",
       "    <tr>\n",
       "      <th>2021-01-27</th>\n",
       "      <td>True</td>\n",
       "      <td>True</td>\n",
       "      <td>False</td>\n",
       "      <td>True</td>\n",
       "      <td>True</td>\n",
       "      <td>True</td>\n",
       "      <td>True</td>\n",
       "    </tr>\n",
       "    <tr>\n",
       "      <th>2021-01-28</th>\n",
       "      <td>True</td>\n",
       "      <td>True</td>\n",
       "      <td>True</td>\n",
       "      <td>True</td>\n",
       "      <td>True</td>\n",
       "      <td>True</td>\n",
       "      <td>True</td>\n",
       "    </tr>\n",
       "    <tr>\n",
       "      <th>2021-01-29</th>\n",
       "      <td>True</td>\n",
       "      <td>False</td>\n",
       "      <td>True</td>\n",
       "      <td>True</td>\n",
       "      <td>False</td>\n",
       "      <td>True</td>\n",
       "      <td>True</td>\n",
       "    </tr>\n",
       "    <tr>\n",
       "      <th>2021-01-30</th>\n",
       "      <td>True</td>\n",
       "      <td>True</td>\n",
       "      <td>True</td>\n",
       "      <td>True</td>\n",
       "      <td>True</td>\n",
       "      <td>True</td>\n",
       "      <td>True</td>\n",
       "    </tr>\n",
       "    <tr>\n",
       "      <th>2021-01-31</th>\n",
       "      <td>True</td>\n",
       "      <td>True</td>\n",
       "      <td>True</td>\n",
       "      <td>True</td>\n",
       "      <td>True</td>\n",
       "      <td>True</td>\n",
       "      <td>True</td>\n",
       "    </tr>\n",
       "  </tbody>\n",
       "</table>\n",
       "</div>"
      ],
      "text/plain": [
       "               A      B      C      D      E     F     G\n",
       "2021-01-25  True   True   True  False   True  True  True\n",
       "2021-01-26  True   True  False   True   True  True  True\n",
       "2021-01-27  True   True  False   True   True  True  True\n",
       "2021-01-28  True   True   True   True   True  True  True\n",
       "2021-01-29  True  False   True   True  False  True  True\n",
       "2021-01-30  True   True   True   True   True  True  True\n",
       "2021-01-31  True   True   True   True   True  True  True"
      ]
     },
     "execution_count": 40,
     "metadata": {},
     "output_type": "execute_result"
    }
   ],
   "source": [
    "##detect non missing values\n",
    "d2.notna() ##it will return true for not null false for null value"
   ]
  },
  {
   "cell_type": "code",
   "execution_count": 41,
   "id": "a3a938b2",
   "metadata": {},
   "outputs": [
    {
     "data": {
      "text/html": [
       "<div>\n",
       "<style scoped>\n",
       "    .dataframe tbody tr th:only-of-type {\n",
       "        vertical-align: middle;\n",
       "    }\n",
       "\n",
       "    .dataframe tbody tr th {\n",
       "        vertical-align: top;\n",
       "    }\n",
       "\n",
       "    .dataframe thead th {\n",
       "        text-align: right;\n",
       "    }\n",
       "</style>\n",
       "<table border=\"1\" class=\"dataframe\">\n",
       "  <thead>\n",
       "    <tr style=\"text-align: right;\">\n",
       "      <th></th>\n",
       "      <th>A</th>\n",
       "      <th>B</th>\n",
       "      <th>C</th>\n",
       "      <th>D</th>\n",
       "      <th>E</th>\n",
       "      <th>F</th>\n",
       "      <th>G</th>\n",
       "    </tr>\n",
       "  </thead>\n",
       "  <tbody>\n",
       "    <tr>\n",
       "      <th>2021-01-25</th>\n",
       "      <td>False</td>\n",
       "      <td>False</td>\n",
       "      <td>False</td>\n",
       "      <td>True</td>\n",
       "      <td>False</td>\n",
       "      <td>False</td>\n",
       "      <td>False</td>\n",
       "    </tr>\n",
       "    <tr>\n",
       "      <th>2021-01-26</th>\n",
       "      <td>False</td>\n",
       "      <td>False</td>\n",
       "      <td>True</td>\n",
       "      <td>False</td>\n",
       "      <td>False</td>\n",
       "      <td>False</td>\n",
       "      <td>False</td>\n",
       "    </tr>\n",
       "    <tr>\n",
       "      <th>2021-01-27</th>\n",
       "      <td>False</td>\n",
       "      <td>False</td>\n",
       "      <td>True</td>\n",
       "      <td>False</td>\n",
       "      <td>False</td>\n",
       "      <td>False</td>\n",
       "      <td>False</td>\n",
       "    </tr>\n",
       "    <tr>\n",
       "      <th>2021-01-28</th>\n",
       "      <td>False</td>\n",
       "      <td>False</td>\n",
       "      <td>False</td>\n",
       "      <td>False</td>\n",
       "      <td>False</td>\n",
       "      <td>False</td>\n",
       "      <td>False</td>\n",
       "    </tr>\n",
       "    <tr>\n",
       "      <th>2021-01-29</th>\n",
       "      <td>False</td>\n",
       "      <td>True</td>\n",
       "      <td>False</td>\n",
       "      <td>False</td>\n",
       "      <td>True</td>\n",
       "      <td>False</td>\n",
       "      <td>False</td>\n",
       "    </tr>\n",
       "    <tr>\n",
       "      <th>2021-01-30</th>\n",
       "      <td>False</td>\n",
       "      <td>False</td>\n",
       "      <td>False</td>\n",
       "      <td>False</td>\n",
       "      <td>False</td>\n",
       "      <td>False</td>\n",
       "      <td>False</td>\n",
       "    </tr>\n",
       "    <tr>\n",
       "      <th>2021-01-31</th>\n",
       "      <td>False</td>\n",
       "      <td>False</td>\n",
       "      <td>False</td>\n",
       "      <td>False</td>\n",
       "      <td>False</td>\n",
       "      <td>False</td>\n",
       "      <td>False</td>\n",
       "    </tr>\n",
       "  </tbody>\n",
       "</table>\n",
       "</div>"
      ],
      "text/plain": [
       "                A      B      C      D      E      F      G\n",
       "2021-01-25  False  False  False   True  False  False  False\n",
       "2021-01-26  False  False   True  False  False  False  False\n",
       "2021-01-27  False  False   True  False  False  False  False\n",
       "2021-01-28  False  False  False  False  False  False  False\n",
       "2021-01-29  False   True  False  False   True  False  False\n",
       "2021-01-30  False  False  False  False  False  False  False\n",
       "2021-01-31  False  False  False  False  False  False  False"
      ]
     },
     "execution_count": 41,
     "metadata": {},
     "output_type": "execute_result"
    }
   ],
   "source": [
    "d2.isna() ##detect missing null values\n",
    "### it will return true for null values and false for not null"
   ]
  },
  {
   "cell_type": "code",
   "execution_count": 42,
   "id": "d4158a44",
   "metadata": {},
   "outputs": [
    {
     "data": {
      "text/html": [
       "<div>\n",
       "<style scoped>\n",
       "    .dataframe tbody tr th:only-of-type {\n",
       "        vertical-align: middle;\n",
       "    }\n",
       "\n",
       "    .dataframe tbody tr th {\n",
       "        vertical-align: top;\n",
       "    }\n",
       "\n",
       "    .dataframe thead th {\n",
       "        text-align: right;\n",
       "    }\n",
       "</style>\n",
       "<table border=\"1\" class=\"dataframe\">\n",
       "  <thead>\n",
       "    <tr style=\"text-align: right;\">\n",
       "      <th></th>\n",
       "      <th>A</th>\n",
       "      <th>B</th>\n",
       "      <th>C</th>\n",
       "      <th>D</th>\n",
       "      <th>E</th>\n",
       "      <th>F</th>\n",
       "      <th>G</th>\n",
       "    </tr>\n",
       "  </thead>\n",
       "  <tbody>\n",
       "    <tr>\n",
       "      <th>2021-01-25</th>\n",
       "      <td>0.077322</td>\n",
       "      <td>0.341173</td>\n",
       "      <td>0.093306</td>\n",
       "      <td>102</td>\n",
       "      <td>0.244628</td>\n",
       "      <td>0.952041</td>\n",
       "      <td>0.847043</td>\n",
       "    </tr>\n",
       "    <tr>\n",
       "      <th>2021-01-26</th>\n",
       "      <td>0.449061</td>\n",
       "      <td>0.985575</td>\n",
       "      <td>102</td>\n",
       "      <td>0.679908</td>\n",
       "      <td>0.435893</td>\n",
       "      <td>0.160554</td>\n",
       "      <td>0.296349</td>\n",
       "    </tr>\n",
       "    <tr>\n",
       "      <th>2021-01-27</th>\n",
       "      <td>0.257614</td>\n",
       "      <td>0.175363</td>\n",
       "      <td>102</td>\n",
       "      <td>0.328494</td>\n",
       "      <td>0.407761</td>\n",
       "      <td>0.405448</td>\n",
       "      <td>0.764063</td>\n",
       "    </tr>\n",
       "    <tr>\n",
       "      <th>2021-01-28</th>\n",
       "      <td>0.742656</td>\n",
       "      <td>0.909929</td>\n",
       "      <td>0.831762</td>\n",
       "      <td>0.309437</td>\n",
       "      <td>0.963776</td>\n",
       "      <td>0.990210</td>\n",
       "      <td>0.659499</td>\n",
       "    </tr>\n",
       "    <tr>\n",
       "      <th>2021-01-29</th>\n",
       "      <td>0.370405</td>\n",
       "      <td>102</td>\n",
       "      <td>0.696781</td>\n",
       "      <td>0.309284</td>\n",
       "      <td>102</td>\n",
       "      <td>0.703446</td>\n",
       "      <td>0.644636</td>\n",
       "    </tr>\n",
       "    <tr>\n",
       "      <th>2021-01-30</th>\n",
       "      <td>0.543591</td>\n",
       "      <td>0.002191</td>\n",
       "      <td>0.877333</td>\n",
       "      <td>0.210397</td>\n",
       "      <td>0.284777</td>\n",
       "      <td>0.567913</td>\n",
       "      <td>0.056327</td>\n",
       "    </tr>\n",
       "    <tr>\n",
       "      <th>2021-01-31</th>\n",
       "      <td>0.971672</td>\n",
       "      <td>0.475188</td>\n",
       "      <td>0.76813</td>\n",
       "      <td>0.709746</td>\n",
       "      <td>0.082711</td>\n",
       "      <td>0.759972</td>\n",
       "      <td>0.952078</td>\n",
       "    </tr>\n",
       "  </tbody>\n",
       "</table>\n",
       "</div>"
      ],
      "text/plain": [
       "                   A         B         C         D         E         F  \\\n",
       "2021-01-25  0.077322  0.341173  0.093306       102  0.244628  0.952041   \n",
       "2021-01-26  0.449061  0.985575       102  0.679908  0.435893  0.160554   \n",
       "2021-01-27  0.257614  0.175363       102  0.328494  0.407761  0.405448   \n",
       "2021-01-28  0.742656  0.909929  0.831762  0.309437  0.963776  0.990210   \n",
       "2021-01-29  0.370405       102  0.696781  0.309284       102  0.703446   \n",
       "2021-01-30  0.543591  0.002191  0.877333  0.210397  0.284777  0.567913   \n",
       "2021-01-31  0.971672  0.475188   0.76813  0.709746  0.082711  0.759972   \n",
       "\n",
       "                   G  \n",
       "2021-01-25  0.847043  \n",
       "2021-01-26  0.296349  \n",
       "2021-01-27  0.764063  \n",
       "2021-01-28  0.659499  \n",
       "2021-01-29  0.644636  \n",
       "2021-01-30  0.056327  \n",
       "2021-01-31  0.952078  "
      ]
     },
     "execution_count": 42,
     "metadata": {},
     "output_type": "execute_result"
    }
   ],
   "source": [
    "d2=d2.fillna(\"102\") ## null value will fill with 102\n",
    "d2"
   ]
  },
  {
   "cell_type": "code",
   "execution_count": 47,
   "id": "56a1b55b",
   "metadata": {},
   "outputs": [
    {
     "data": {
      "text/html": [
       "<div>\n",
       "<style scoped>\n",
       "    .dataframe tbody tr th:only-of-type {\n",
       "        vertical-align: middle;\n",
       "    }\n",
       "\n",
       "    .dataframe tbody tr th {\n",
       "        vertical-align: top;\n",
       "    }\n",
       "\n",
       "    .dataframe thead th {\n",
       "        text-align: right;\n",
       "    }\n",
       "</style>\n",
       "<table border=\"1\" class=\"dataframe\">\n",
       "  <thead>\n",
       "    <tr style=\"text-align: right;\">\n",
       "      <th></th>\n",
       "      <th>A</th>\n",
       "      <th>B</th>\n",
       "      <th>C</th>\n",
       "      <th>D</th>\n",
       "      <th>E</th>\n",
       "      <th>F</th>\n",
       "      <th>G</th>\n",
       "    </tr>\n",
       "  </thead>\n",
       "  <tbody>\n",
       "    <tr>\n",
       "      <th>2021-01-25</th>\n",
       "      <td>0.077322</td>\n",
       "      <td>0.341173</td>\n",
       "      <td>0.093306</td>\n",
       "      <td>102</td>\n",
       "      <td>0.244628</td>\n",
       "      <td>NaN</td>\n",
       "      <td>0.847043</td>\n",
       "    </tr>\n",
       "    <tr>\n",
       "      <th>2021-01-26</th>\n",
       "      <td>0.449061</td>\n",
       "      <td>0.985575</td>\n",
       "      <td>102</td>\n",
       "      <td>0.679908</td>\n",
       "      <td>0.435893</td>\n",
       "      <td>0.160554</td>\n",
       "      <td>0.296349</td>\n",
       "    </tr>\n",
       "    <tr>\n",
       "      <th>2021-01-27</th>\n",
       "      <td>0.257614</td>\n",
       "      <td>0.175363</td>\n",
       "      <td>102</td>\n",
       "      <td>0.328494</td>\n",
       "      <td>0.407761</td>\n",
       "      <td>NaN</td>\n",
       "      <td>0.764063</td>\n",
       "    </tr>\n",
       "    <tr>\n",
       "      <th>2021-01-28</th>\n",
       "      <td>0.742656</td>\n",
       "      <td>0.909929</td>\n",
       "      <td>0.831762</td>\n",
       "      <td>0.309437</td>\n",
       "      <td>0.963776</td>\n",
       "      <td>0.990210</td>\n",
       "      <td>0.659499</td>\n",
       "    </tr>\n",
       "    <tr>\n",
       "      <th>2021-01-29</th>\n",
       "      <td>0.370405</td>\n",
       "      <td>102</td>\n",
       "      <td>0.696781</td>\n",
       "      <td>0.309284</td>\n",
       "      <td>102</td>\n",
       "      <td>0.703446</td>\n",
       "      <td>0.644636</td>\n",
       "    </tr>\n",
       "    <tr>\n",
       "      <th>2021-01-30</th>\n",
       "      <td>0.543591</td>\n",
       "      <td>0.002191</td>\n",
       "      <td>0.877333</td>\n",
       "      <td>0.210397</td>\n",
       "      <td>0.284777</td>\n",
       "      <td>0.567913</td>\n",
       "      <td>0.056327</td>\n",
       "    </tr>\n",
       "    <tr>\n",
       "      <th>2021-01-31</th>\n",
       "      <td>0.971672</td>\n",
       "      <td>0.475188</td>\n",
       "      <td>0.76813</td>\n",
       "      <td>0.709746</td>\n",
       "      <td>0.082711</td>\n",
       "      <td>0.759972</td>\n",
       "      <td>0.952078</td>\n",
       "    </tr>\n",
       "  </tbody>\n",
       "</table>\n",
       "</div>"
      ],
      "text/plain": [
       "                   A         B         C         D         E         F  \\\n",
       "2021-01-25  0.077322  0.341173  0.093306       102  0.244628       NaN   \n",
       "2021-01-26  0.449061  0.985575       102  0.679908  0.435893  0.160554   \n",
       "2021-01-27  0.257614  0.175363       102  0.328494  0.407761       NaN   \n",
       "2021-01-28  0.742656  0.909929  0.831762  0.309437  0.963776  0.990210   \n",
       "2021-01-29  0.370405       102  0.696781  0.309284       102  0.703446   \n",
       "2021-01-30  0.543591  0.002191  0.877333  0.210397  0.284777  0.567913   \n",
       "2021-01-31  0.971672  0.475188   0.76813  0.709746  0.082711  0.759972   \n",
       "\n",
       "                   G  \n",
       "2021-01-25  0.847043  \n",
       "2021-01-26  0.296349  \n",
       "2021-01-27  0.764063  \n",
       "2021-01-28  0.659499  \n",
       "2021-01-29  0.644636  \n",
       "2021-01-30  0.056327  \n",
       "2021-01-31  0.952078  "
      ]
     },
     "execution_count": 47,
     "metadata": {},
     "output_type": "execute_result"
    }
   ],
   "source": [
    "d2.iat[2,5]=np.NaN\n",
    "d2.iat[0,5]=np.NAN\n",
    "d2"
   ]
  },
  {
   "cell_type": "code",
   "execution_count": 51,
   "id": "533b01a3",
   "metadata": {},
   "outputs": [
    {
     "data": {
      "text/html": [
       "<div>\n",
       "<style scoped>\n",
       "    .dataframe tbody tr th:only-of-type {\n",
       "        vertical-align: middle;\n",
       "    }\n",
       "\n",
       "    .dataframe tbody tr th {\n",
       "        vertical-align: top;\n",
       "    }\n",
       "\n",
       "    .dataframe thead th {\n",
       "        text-align: right;\n",
       "    }\n",
       "</style>\n",
       "<table border=\"1\" class=\"dataframe\">\n",
       "  <thead>\n",
       "    <tr style=\"text-align: right;\">\n",
       "      <th></th>\n",
       "      <th>A</th>\n",
       "      <th>B</th>\n",
       "      <th>C</th>\n",
       "      <th>D</th>\n",
       "      <th>E</th>\n",
       "      <th>F</th>\n",
       "      <th>G</th>\n",
       "    </tr>\n",
       "  </thead>\n",
       "  <tbody>\n",
       "    <tr>\n",
       "      <th>2021-01-25</th>\n",
       "      <td>0.077322</td>\n",
       "      <td>0.341173</td>\n",
       "      <td>0.093306</td>\n",
       "      <td>102</td>\n",
       "      <td>0.244628</td>\n",
       "      <td>122.000000</td>\n",
       "      <td>0.847043</td>\n",
       "    </tr>\n",
       "    <tr>\n",
       "      <th>2021-01-26</th>\n",
       "      <td>0.449061</td>\n",
       "      <td>0.985575</td>\n",
       "      <td>102</td>\n",
       "      <td>0.679908</td>\n",
       "      <td>0.435893</td>\n",
       "      <td>0.160554</td>\n",
       "      <td>0.296349</td>\n",
       "    </tr>\n",
       "    <tr>\n",
       "      <th>2021-01-27</th>\n",
       "      <td>0.257614</td>\n",
       "      <td>0.175363</td>\n",
       "      <td>102</td>\n",
       "      <td>0.328494</td>\n",
       "      <td>0.407761</td>\n",
       "      <td>122.000000</td>\n",
       "      <td>0.764063</td>\n",
       "    </tr>\n",
       "    <tr>\n",
       "      <th>2021-01-28</th>\n",
       "      <td>0.742656</td>\n",
       "      <td>0.909929</td>\n",
       "      <td>0.831762</td>\n",
       "      <td>0.309437</td>\n",
       "      <td>0.963776</td>\n",
       "      <td>0.990210</td>\n",
       "      <td>0.659499</td>\n",
       "    </tr>\n",
       "    <tr>\n",
       "      <th>2021-01-29</th>\n",
       "      <td>0.370405</td>\n",
       "      <td>102</td>\n",
       "      <td>0.696781</td>\n",
       "      <td>0.309284</td>\n",
       "      <td>102</td>\n",
       "      <td>0.703446</td>\n",
       "      <td>0.644636</td>\n",
       "    </tr>\n",
       "    <tr>\n",
       "      <th>2021-01-30</th>\n",
       "      <td>0.543591</td>\n",
       "      <td>0.002191</td>\n",
       "      <td>0.877333</td>\n",
       "      <td>0.210397</td>\n",
       "      <td>0.284777</td>\n",
       "      <td>0.567913</td>\n",
       "      <td>0.056327</td>\n",
       "    </tr>\n",
       "    <tr>\n",
       "      <th>2021-01-31</th>\n",
       "      <td>0.971672</td>\n",
       "      <td>0.475188</td>\n",
       "      <td>0.76813</td>\n",
       "      <td>0.709746</td>\n",
       "      <td>0.082711</td>\n",
       "      <td>0.759972</td>\n",
       "      <td>0.952078</td>\n",
       "    </tr>\n",
       "  </tbody>\n",
       "</table>\n",
       "</div>"
      ],
      "text/plain": [
       "                   A         B         C         D         E           F  \\\n",
       "2021-01-25  0.077322  0.341173  0.093306       102  0.244628  122.000000   \n",
       "2021-01-26  0.449061  0.985575       102  0.679908  0.435893    0.160554   \n",
       "2021-01-27  0.257614  0.175363       102  0.328494  0.407761  122.000000   \n",
       "2021-01-28  0.742656  0.909929  0.831762  0.309437  0.963776    0.990210   \n",
       "2021-01-29  0.370405       102  0.696781  0.309284       102    0.703446   \n",
       "2021-01-30  0.543591  0.002191  0.877333  0.210397  0.284777    0.567913   \n",
       "2021-01-31  0.971672  0.475188   0.76813  0.709746  0.082711    0.759972   \n",
       "\n",
       "                   G  \n",
       "2021-01-25  0.847043  \n",
       "2021-01-26  0.296349  \n",
       "2021-01-27  0.764063  \n",
       "2021-01-28  0.659499  \n",
       "2021-01-29  0.644636  \n",
       "2021-01-30  0.056327  \n",
       "2021-01-31  0.952078  "
      ]
     },
     "execution_count": 51,
     "metadata": {},
     "output_type": "execute_result"
    }
   ],
   "source": [
    "d2=d2.fillna(value={\"F\":122,\"G\":125})\n",
    "d2"
   ]
  },
  {
   "cell_type": "code",
   "execution_count": 54,
   "id": "c4a391ac",
   "metadata": {},
   "outputs": [
    {
     "data": {
      "text/html": [
       "<div>\n",
       "<style scoped>\n",
       "    .dataframe tbody tr th:only-of-type {\n",
       "        vertical-align: middle;\n",
       "    }\n",
       "\n",
       "    .dataframe tbody tr th {\n",
       "        vertical-align: top;\n",
       "    }\n",
       "\n",
       "    .dataframe thead th {\n",
       "        text-align: right;\n",
       "    }\n",
       "</style>\n",
       "<table border=\"1\" class=\"dataframe\">\n",
       "  <thead>\n",
       "    <tr style=\"text-align: right;\">\n",
       "      <th></th>\n",
       "      <th>A</th>\n",
       "      <th>B</th>\n",
       "      <th>C</th>\n",
       "      <th>D</th>\n",
       "      <th>E</th>\n",
       "      <th>F</th>\n",
       "      <th>G</th>\n",
       "    </tr>\n",
       "  </thead>\n",
       "  <tbody>\n",
       "    <tr>\n",
       "      <th>2021-01-25</th>\n",
       "      <td>0.077322</td>\n",
       "      <td>0.341173</td>\n",
       "      <td>0.093306</td>\n",
       "      <td>102</td>\n",
       "      <td>0.244628</td>\n",
       "      <td>122.000000</td>\n",
       "      <td>0.847043</td>\n",
       "    </tr>\n",
       "    <tr>\n",
       "      <th>2021-01-26</th>\n",
       "      <td>0.449061</td>\n",
       "      <td>0.985575</td>\n",
       "      <td>102</td>\n",
       "      <td>0.679908</td>\n",
       "      <td>0.435893</td>\n",
       "      <td>0.160554</td>\n",
       "      <td>0.296349</td>\n",
       "    </tr>\n",
       "    <tr>\n",
       "      <th>2021-01-27</th>\n",
       "      <td>0.257614</td>\n",
       "      <td>0.175363</td>\n",
       "      <td>102</td>\n",
       "      <td>0.328494</td>\n",
       "      <td>0.407761</td>\n",
       "      <td>122.000000</td>\n",
       "      <td>0.764063</td>\n",
       "    </tr>\n",
       "    <tr>\n",
       "      <th>2021-01-28</th>\n",
       "      <td>0.742656</td>\n",
       "      <td>0.909929</td>\n",
       "      <td>0.831762</td>\n",
       "      <td>0.309437</td>\n",
       "      <td>0.963776</td>\n",
       "      <td>0.990210</td>\n",
       "      <td>0.659499</td>\n",
       "    </tr>\n",
       "    <tr>\n",
       "      <th>2021-01-29</th>\n",
       "      <td>0.370405</td>\n",
       "      <td>102</td>\n",
       "      <td>0.696781</td>\n",
       "      <td>0.309284</td>\n",
       "      <td>102</td>\n",
       "      <td>0.703446</td>\n",
       "      <td>0.644636</td>\n",
       "    </tr>\n",
       "    <tr>\n",
       "      <th>2021-01-30</th>\n",
       "      <td>0.543591</td>\n",
       "      <td>0.002191</td>\n",
       "      <td>0.877333</td>\n",
       "      <td>0.210397</td>\n",
       "      <td>0.284777</td>\n",
       "      <td>0.567913</td>\n",
       "      <td>0.056327</td>\n",
       "    </tr>\n",
       "    <tr>\n",
       "      <th>2021-01-31</th>\n",
       "      <td>0.971672</td>\n",
       "      <td>0.475188</td>\n",
       "      <td>0.76813</td>\n",
       "      <td>0.709746</td>\n",
       "      <td>0.082711</td>\n",
       "      <td>0.759972</td>\n",
       "      <td>0.952078</td>\n",
       "    </tr>\n",
       "  </tbody>\n",
       "</table>\n",
       "</div>"
      ],
      "text/plain": [
       "                   A         B         C         D         E           F  \\\n",
       "2021-01-25  0.077322  0.341173  0.093306       102  0.244628  122.000000   \n",
       "2021-01-26  0.449061  0.985575       102  0.679908  0.435893    0.160554   \n",
       "2021-01-27  0.257614  0.175363       102  0.328494  0.407761  122.000000   \n",
       "2021-01-28  0.742656  0.909929  0.831762  0.309437  0.963776    0.990210   \n",
       "2021-01-29  0.370405       102  0.696781  0.309284       102    0.703446   \n",
       "2021-01-30  0.543591  0.002191  0.877333  0.210397  0.284777    0.567913   \n",
       "2021-01-31  0.971672  0.475188   0.76813  0.709746  0.082711    0.759972   \n",
       "\n",
       "                   G  \n",
       "2021-01-25  0.847043  \n",
       "2021-01-26  0.296349  \n",
       "2021-01-27  0.764063  \n",
       "2021-01-28  0.659499  \n",
       "2021-01-29  0.644636  \n",
       "2021-01-30  0.056327  \n",
       "2021-01-31  0.952078  "
      ]
     },
     "execution_count": 54,
     "metadata": {},
     "output_type": "execute_result"
    }
   ],
   "source": [
    "d2.dropna()\n",
    "##null value will eliminate"
   ]
  },
  {
   "cell_type": "code",
   "execution_count": null,
   "id": "941fdead",
   "metadata": {},
   "outputs": [],
   "source": []
  }
 ],
 "metadata": {
  "kernelspec": {
   "display_name": "Python 3 (ipykernel)",
   "language": "python",
   "name": "python3"
  },
  "language_info": {
   "codemirror_mode": {
    "name": "ipython",
    "version": 3
   },
   "file_extension": ".py",
   "mimetype": "text/x-python",
   "name": "python",
   "nbconvert_exporter": "python",
   "pygments_lexer": "ipython3",
   "version": "3.9.12"
  }
 },
 "nbformat": 4,
 "nbformat_minor": 5
}
