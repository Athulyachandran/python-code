{
 "cells": [
  {
   "cell_type": "markdown",
   "id": "075b6aac",
   "metadata": {},
   "source": [
    "#### write a function to find max of 3 numbers"
   ]
  },
  {
   "cell_type": "code",
   "execution_count": 1,
   "id": "bd13a69d",
   "metadata": {},
   "outputs": [
    {
     "name": "stdout",
     "output_type": "stream",
     "text": [
      "10 is greater number\n"
     ]
    }
   ],
   "source": [
    "def maximum(a,b,c):\n",
    "    if a>b and a>c:\n",
    "        print(a,\"is greater number\")\n",
    "    elif b>a and b>c:\n",
    "        print(b,\"is greater number\")\n",
    "    elif c>a and c>b:\n",
    "        print(c,\"is greater number\")\n",
    "maximum(5,7,10)"
   ]
  },
  {
   "cell_type": "code",
   "execution_count": 2,
   "id": "12d5f9ce",
   "metadata": {},
   "outputs": [
    {
     "name": "stdout",
     "output_type": "stream",
     "text": [
      "enter number4\n",
      "enter number8\n",
      "enter number12\n",
      "12 is greater number\n"
     ]
    }
   ],
   "source": [
    "def maximum():\n",
    "    a=int(input(\"enter number\"))\n",
    "    b=int(input(\"enter number\"))\n",
    "    c=int(input(\"enter number\"))\n",
    "    if a>b and a>c:\n",
    "        print(a,\"is greater number\")\n",
    "    elif b>a and b>c:\n",
    "        print(b,\"is greater number\")\n",
    "    elif c>a and c>b:\n",
    "        print(c,\"is greater number\")\n",
    "maximum()"
   ]
  },
  {
   "cell_type": "markdown",
   "id": "d229e518",
   "metadata": {},
   "source": [
    "#### function to print sum all the numbers in a list"
   ]
  },
  {
   "cell_type": "code",
   "execution_count": 19,
   "id": "d9649d8c",
   "metadata": {},
   "outputs": [
    {
     "data": {
      "text/plain": [
       "15"
      ]
     },
     "execution_count": 19,
     "metadata": {},
     "output_type": "execute_result"
    }
   ],
   "source": [
    "def sum(mylist):\n",
    "    total=0\n",
    "    for x in mylist:\n",
    "        total=total+x\n",
    "    return total\n",
    "mylist1=[1,2,3]\n",
    "mylist2=[4,5,6]\n",
    "sum(mylist1)\n",
    "sum(mylist2)        \n",
    "        "
   ]
  },
  {
   "cell_type": "code",
   "execution_count": 18,
   "id": "c5607800",
   "metadata": {},
   "outputs": [
    {
     "data": {
      "text/plain": [
       "6"
      ]
     },
     "execution_count": 18,
     "metadata": {},
     "output_type": "execute_result"
    }
   ],
   "source": [
    "sum(mylist1)"
   ]
  },
  {
   "cell_type": "markdown",
   "id": "347a25cb",
   "metadata": {},
   "source": [
    "#### write function to multiply all numbers in a list"
   ]
  },
  {
   "cell_type": "code",
   "execution_count": 20,
   "id": "49279561",
   "metadata": {},
   "outputs": [
    {
     "name": "stdout",
     "output_type": "stream",
     "text": [
      "6\n",
      "24\n"
     ]
    }
   ],
   "source": [
    "def multiplylist(mylist):\n",
    "    result=1\n",
    "    for x in mylist:\n",
    "        result=result*x\n",
    "    return result\n",
    "mylist1=[1,2,3]\n",
    "mylist2=[3,2,4]\n",
    "print(multiplylist(mylist1))\n",
    "print(multiplylist(mylist2))"
   ]
  },
  {
   "cell_type": "markdown",
   "id": "e3469552",
   "metadata": {},
   "source": [
    "#### write a function to reverse a number"
   ]
  },
  {
   "cell_type": "code",
   "execution_count": 1,
   "id": "659ebf69",
   "metadata": {},
   "outputs": [
    {
     "name": "stdout",
     "output_type": "stream",
     "text": [
      "enter number345\n",
      "5\n",
      "54\n",
      "543\n"
     ]
    }
   ],
   "source": [
    "def reverse():\n",
    "    n=int(input(\"enter number\"))\n",
    "    temp=n\n",
    "    \n",
    "    rev=0\n",
    "    while n>0:\n",
    "        dig=n%10\n",
    "        rev=rev*10+dig\n",
    "        n=n//10\n",
    "        print(rev)\n",
    "reverse()"
   ]
  },
  {
   "cell_type": "code",
   "execution_count": 3,
   "id": "792cdedf",
   "metadata": {},
   "outputs": [
    {
     "data": {
      "text/plain": [
       "'ayluhta'"
      ]
     },
     "execution_count": 3,
     "metadata": {},
     "output_type": "execute_result"
    }
   ],
   "source": [
    "def reverse(n):\n",
    "   \n",
    "     n=n[::-1]\n",
    "     return n\n",
    "\n",
    "\n",
    "reverse(\"athulya\")\n",
    "        "
   ]
  },
  {
   "cell_type": "code",
   "execution_count": null,
   "id": "ce82b186",
   "metadata": {},
   "outputs": [],
   "source": []
  }
 ],
 "metadata": {
  "kernelspec": {
   "display_name": "Python 3 (ipykernel)",
   "language": "python",
   "name": "python3"
  },
  "language_info": {
   "codemirror_mode": {
    "name": "ipython",
    "version": 3
   },
   "file_extension": ".py",
   "mimetype": "text/x-python",
   "name": "python",
   "nbconvert_exporter": "python",
   "pygments_lexer": "ipython3",
   "version": "3.9.12"
  }
 },
 "nbformat": 4,
 "nbformat_minor": 5
}
