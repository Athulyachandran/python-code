{
 "cells": [
  {
   "cell_type": "markdown",
   "id": "6e3721eb",
   "metadata": {},
   "source": [
    "## memory addres of variable"
   ]
  },
  {
   "cell_type": "code",
   "execution_count": 1,
   "id": "b6128adf",
   "metadata": {},
   "outputs": [
    {
     "data": {
      "text/plain": [
       "'0x1ea90cb51b0'"
      ]
     },
     "execution_count": 1,
     "metadata": {},
     "output_type": "execute_result"
    }
   ],
   "source": [
    "x=67\n",
    "hex(id(x))"
   ]
  },
  {
   "cell_type": "code",
   "execution_count": 2,
   "id": "1e08c19f",
   "metadata": {},
   "outputs": [
    {
     "name": "stdout",
     "output_type": "stream",
     "text": [
      "44\n"
     ]
    }
   ],
   "source": [
    "varValue=44\n",
    "print(varValue)"
   ]
  },
  {
   "cell_type": "markdown",
   "id": "88d3e6be",
   "metadata": {},
   "source": [
    "## pascal case"
   ]
  },
  {
   "cell_type": "code",
   "execution_count": 3,
   "id": "5be29b03",
   "metadata": {},
   "outputs": [
    {
     "name": "stdout",
     "output_type": "stream",
     "text": [
      "athulya\n"
     ]
    }
   ],
   "source": [
    "FirstVarName=\"athulya\"\n",
    "print(FirstVarName)"
   ]
  },
  {
   "cell_type": "markdown",
   "id": "3c324827",
   "metadata": {},
   "source": [
    "## snake case"
   ]
  },
  {
   "cell_type": "code",
   "execution_count": 6,
   "id": "26d75b51",
   "metadata": {},
   "outputs": [
    {
     "name": "stdout",
     "output_type": "stream",
     "text": [
      "athulya\n"
     ]
    }
   ],
   "source": [
    "first_var_name=\"athulya\"\n",
    "print(first_var_name)\n"
   ]
  },
  {
   "cell_type": "markdown",
   "id": "dc93761e",
   "metadata": {},
   "source": [
    "## multiple assignment"
   ]
  },
  {
   "cell_type": "code",
   "execution_count": 7,
   "id": "81fae960",
   "metadata": {},
   "outputs": [
    {
     "name": "stdout",
     "output_type": "stream",
     "text": [
      "10 20 30\n"
     ]
    }
   ],
   "source": [
    "a,b,c=10,20,30\n",
    "print(a,b,c)"
   ]
  },
  {
   "cell_type": "code",
   "execution_count": 8,
   "id": "0b5ffc32",
   "metadata": {},
   "outputs": [
    {
     "name": "stdout",
     "output_type": "stream",
     "text": [
      "8 8 8 8\n"
     ]
    }
   ],
   "source": [
    "a=b=c=d=8\n",
    "print(a,b,c,d)"
   ]
  },
  {
   "cell_type": "code",
   "execution_count": 9,
   "id": "119ab0d0",
   "metadata": {},
   "outputs": [
    {
     "name": "stdout",
     "output_type": "stream",
     "text": [
      "1\n",
      "4.5\n",
      "hello\n"
     ]
    }
   ],
   "source": [
    "a,b,c=1,4.5,\"hello\"\n",
    "print(a)\n",
    "print(b)\n",
    "print(c)"
   ]
  },
  {
   "cell_type": "markdown",
   "id": "1067324d",
   "metadata": {},
   "source": [
    "## python guideline"
   ]
  },
  {
   "cell_type": "code",
   "execution_count": 10,
   "id": "dc5dfea2",
   "metadata": {},
   "outputs": [
    {
     "name": "stdout",
     "output_type": "stream",
     "text": [
      "The Zen of Python, by Tim Peters\n",
      "\n",
      "Beautiful is better than ugly.\n",
      "Explicit is better than implicit.\n",
      "Simple is better than complex.\n",
      "Complex is better than complicated.\n",
      "Flat is better than nested.\n",
      "Sparse is better than dense.\n",
      "Readability counts.\n",
      "Special cases aren't special enough to break the rules.\n",
      "Although practicality beats purity.\n",
      "Errors should never pass silently.\n",
      "Unless explicitly silenced.\n",
      "In the face of ambiguity, refuse the temptation to guess.\n",
      "There should be one-- and preferably only one --obvious way to do it.\n",
      "Although that way may not be obvious at first unless you're Dutch.\n",
      "Now is better than never.\n",
      "Although never is often better than *right* now.\n",
      "If the implementation is hard to explain, it's a bad idea.\n",
      "If the implementation is easy to explain, it may be a good idea.\n",
      "Namespaces are one honking great idea -- let's do more of those!\n"
     ]
    }
   ],
   "source": [
    "import this"
   ]
  },
  {
   "cell_type": "markdown",
   "id": "10f00010",
   "metadata": {},
   "source": [
    "## input assigning"
   ]
  },
  {
   "cell_type": "code",
   "execution_count": 1,
   "id": "725ad421",
   "metadata": {},
   "outputs": [
    {
     "name": "stdout",
     "output_type": "stream",
     "text": [
      "enter the nameathulya\n",
      "athulya\n"
     ]
    }
   ],
   "source": [
    "name=input(\"enter the name\")\n",
    "print(name)"
   ]
  },
  {
   "cell_type": "code",
   "execution_count": 2,
   "id": "6719c4da",
   "metadata": {},
   "outputs": [
    {
     "name": "stdout",
     "output_type": "stream",
     "text": [
      "enter number6\n",
      "36\n"
     ]
    }
   ],
   "source": [
    "x=int(input(\"enter number\"))\n",
    "sq=x*x\n",
    "print(sq)"
   ]
  },
  {
   "cell_type": "code",
   "execution_count": 3,
   "id": "36e3f1d2",
   "metadata": {},
   "outputs": [
    {
     "name": "stdout",
     "output_type": "stream",
     "text": [
      "enter number5\n",
      "enter number6\n",
      "11\n"
     ]
    }
   ],
   "source": [
    "x=int(input(\"enter number\"))\n",
    "y=int(input(\"enter number\"))\n",
    "sum=x+y\n",
    "print(sum)"
   ]
  },
  {
   "cell_type": "code",
   "execution_count": 4,
   "id": "35a75afc",
   "metadata": {},
   "outputs": [
    {
     "name": "stdout",
     "output_type": "stream",
     "text": [
      "enter the number5\n",
      "enter the number2\n",
      "3\n"
     ]
    }
   ],
   "source": [
    "num1=int(input(\"enter the number\"))\n",
    "num2=int(input(\"enter the number\"))\n",
    "difference=num1-num2\n",
    "print(difference)"
   ]
  },
  {
   "cell_type": "code",
   "execution_count": 7,
   "id": "1998c647",
   "metadata": {},
   "outputs": [
    {
     "name": "stdout",
     "output_type": "stream",
     "text": [
      "enter the number10\n",
      "enter the number5\n",
      "output is 2.0\n"
     ]
    }
   ],
   "source": [
    "num1=int(input(\"enter the number\"))\n",
    "num2=int(input(\"enter the number\"))\n",
    "division=num1/num2\n",
    "print(\"output is\",division)"
   ]
  },
  {
   "cell_type": "markdown",
   "id": "8b4a693e",
   "metadata": {},
   "source": [
    "## average of 5 number"
   ]
  },
  {
   "cell_type": "code",
   "execution_count": 8,
   "id": "d475354f",
   "metadata": {},
   "outputs": [
    {
     "name": "stdout",
     "output_type": "stream",
     "text": [
      "enter the number1\n",
      "enter the number2\n",
      "enter the number3\n",
      "enter the number4\n",
      "enter the number5\n",
      "15\n",
      "3.0\n"
     ]
    }
   ],
   "source": [
    "num1=int(input(\"enter the number\"))\n",
    "num2=int(input(\"enter the number\"))\n",
    "num3=int(input(\"enter the number\"))\n",
    "num4=int(input(\"enter the number\"))\n",
    "num5=int(input(\"enter the number\"))\n",
    "sum=num1+num2+num3+num4+num5\n",
    "print(sum)\n",
    "average=sum/5\n",
    "print(average)\n"
   ]
  },
  {
   "cell_type": "markdown",
   "id": "cc8bc7f2",
   "metadata": {},
   "source": [
    "## simple interest"
   ]
  },
  {
   "cell_type": "code",
   "execution_count": 9,
   "id": "512a034f",
   "metadata": {},
   "outputs": [
    {
     "name": "stdout",
     "output_type": "stream",
     "text": [
      "enter the number6\n",
      "enter the number7\n",
      "enter the number8\n",
      "3.36\n"
     ]
    }
   ],
   "source": [
    "p=int(input(\"enter the number\"))\n",
    "r=int(input(\"enter the number\"))\n",
    "t=int(input(\"enter the number\"))\n",
    "simpleinterest=p*r*t/100\n",
    "print(simpleinterest)"
   ]
  },
  {
   "cell_type": "markdown",
   "id": "efde71e1",
   "metadata": {},
   "source": [
    "## perimeter of rectangle"
   ]
  },
  {
   "cell_type": "code",
   "execution_count": 1,
   "id": "a9e119b7",
   "metadata": {},
   "outputs": [
    {
     "name": "stdout",
     "output_type": "stream",
     "text": [
      "enter the number4\n",
      "enter the number5\n",
      "perimeter is 18\n"
     ]
    }
   ],
   "source": [
    "l=int(input(\"enter the number\"))\n",
    "p=int(input(\"enter the number\"))\n",
    "perimeter=2*(l+p)\n",
    "print(\"perimeter is\",perimeter)"
   ]
  },
  {
   "cell_type": "markdown",
   "id": "cb492a08",
   "metadata": {},
   "source": [
    "## operator"
   ]
  },
  {
   "cell_type": "code",
   "execution_count": 2,
   "id": "46b258d4",
   "metadata": {},
   "outputs": [
    {
     "name": "stdout",
     "output_type": "stream",
     "text": [
      "addition 30\n"
     ]
    }
   ],
   "source": [
    "#arithmethic operator\n",
    "a=10\n",
    "b=20\n",
    "c=a+b\n",
    "print(\"addition\",c)"
   ]
  },
  {
   "cell_type": "markdown",
   "id": "8dd2c7a1",
   "metadata": {},
   "source": [
    "## write program calculate  area square by user input"
   ]
  },
  {
   "cell_type": "code",
   "execution_count": 4,
   "id": "2923c04d",
   "metadata": {},
   "outputs": [
    {
     "name": "stdout",
     "output_type": "stream",
     "text": [
      "enter the side of sqaure5\n",
      "area of sqaure= 25\n"
     ]
    }
   ],
   "source": [
    "side=int(input(\"enter the side of sqaure\"))\n",
    "area=side*side\n",
    "print(\"area of sqaure=\",area)"
   ]
  },
  {
   "cell_type": "code",
   "execution_count": 5,
   "id": "b9744e2f",
   "metadata": {},
   "outputs": [
    {
     "name": "stdout",
     "output_type": "stream",
     "text": [
      "perimeter of square 32\n"
     ]
    }
   ],
   "source": [
    "side=8 #perimeter square with initialization\n",
    "perimeter=4*side\n",
    "print(\"perimeter of square\",perimeter)"
   ]
  },
  {
   "cell_type": "code",
   "execution_count": 6,
   "id": "4e4bce55",
   "metadata": {},
   "outputs": [
    {
     "name": "stdout",
     "output_type": "stream",
     "text": [
      "divide 4.3478260869565215\n"
     ]
    }
   ],
   "source": [
    "#division\n",
    "a=100\n",
    "b=23\n",
    "c=a/b\n",
    "print(\"divide\",c)"
   ]
  },
  {
   "cell_type": "code",
   "execution_count": 7,
   "id": "fdb3732b",
   "metadata": {},
   "outputs": [
    {
     "name": "stdout",
     "output_type": "stream",
     "text": [
      "floor divisio 4\n"
     ]
    }
   ],
   "source": [
    "#floor division\n",
    "a=100\n",
    "b=23\n",
    "c=a//b\n",
    "print(\"floor divisio\",c)"
   ]
  },
  {
   "cell_type": "code",
   "execution_count": 8,
   "id": "d162ba4c",
   "metadata": {},
   "outputs": [
    {
     "name": "stdout",
     "output_type": "stream",
     "text": [
      "reminder 2\n"
     ]
    }
   ],
   "source": [
    "#reminder\n",
    "a=5\n",
    "b=3\n",
    "c=a%b\n",
    "print(\"reminder\",c)"
   ]
  },
  {
   "cell_type": "code",
   "execution_count": 10,
   "id": "7d522916",
   "metadata": {},
   "outputs": [
    {
     "name": "stdout",
     "output_type": "stream",
     "text": [
      "power 8\n"
     ]
    }
   ],
   "source": [
    "#power\n",
    "a=2\n",
    "b=3\n",
    "c=a**b\n",
    "print(\"power\",c)"
   ]
  },
  {
   "cell_type": "code",
   "execution_count": 11,
   "id": "f5e5f0b9",
   "metadata": {},
   "outputs": [
    {
     "name": "stdout",
     "output_type": "stream",
     "text": [
      "shivvarma\n",
      "shiv varma\n",
      "shiv varma\n"
     ]
    }
   ],
   "source": [
    "#concatination of string\n",
    "a=\"shiv\"\n",
    "b=\"varma\"\n",
    "print(a+b)\n",
    "print(a+\" \"+b)\n",
    "print(a,b)"
   ]
  },
  {
   "cell_type": "code",
   "execution_count": 14,
   "id": "42c905c5",
   "metadata": {},
   "outputs": [
    {
     "name": "stdout",
     "output_type": "stream",
     "text": [
      "enter number5\n",
      "enter number2\n",
      "1\n"
     ]
    }
   ],
   "source": [
    "number1=int(input(\"enter number\"))\n",
    "number2=int(input(\"enter number\"))\n",
    "modulus=number1%number2\n",
    "print(modulus)"
   ]
  },
  {
   "cell_type": "markdown",
   "id": "b3e84956",
   "metadata": {},
   "source": [
    "## swap 2 numbers"
   ]
  },
  {
   "cell_type": "code",
   "execution_count": 15,
   "id": "368d7ca0",
   "metadata": {},
   "outputs": [
    {
     "name": "stdout",
     "output_type": "stream",
     "text": [
      "enter number5\n",
      "enter number4\n",
      "4 5\n"
     ]
    }
   ],
   "source": [
    "x=int(input(\"enter number\"))#swap using a temperary variable\n",
    "y=int(input(\"enter number\"))\n",
    "temp=x\n",
    "x=y\n",
    "y=temp\n",
    "print(x,y)"
   ]
  },
  {
   "cell_type": "code",
   "execution_count": 16,
   "id": "fbe65ebd",
   "metadata": {},
   "outputs": [
    {
     "name": "stdout",
     "output_type": "stream",
     "text": [
      "enter the number5\n",
      "enter the number4\n",
      "4 5\n"
     ]
    }
   ],
   "source": [
    "x=int(input(\"enter the number\"))#swap without temp variable\n",
    "y=int(input(\"enter the number\"))\n",
    "x=x*y\n",
    "y=x//y\n",
    "x=x//y\n",
    "print(x,y)"
   ]
  },
  {
   "cell_type": "code",
   "execution_count": 17,
   "id": "a3e3ae1b",
   "metadata": {},
   "outputs": [
    {
     "name": "stdout",
     "output_type": "stream",
     "text": [
      "enter the number5\n",
      "enter the number4\n",
      "4 5\n"
     ]
    }
   ],
   "source": [
    "x=int(input(\"enter the number\"))\n",
    "y=int(input(\"enter the number\"))\n",
    "x=x+y\n",
    "y=x-y\n",
    "x=x-y\n",
    "print(x,y)"
   ]
  },
  {
   "cell_type": "markdown",
   "id": "8c24ed49",
   "metadata": {},
   "source": [
    "##  salary of employee"
   ]
  },
  {
   "cell_type": "code",
   "execution_count": 2,
   "id": "95cb85b6",
   "metadata": {},
   "outputs": [
    {
     "name": "stdout",
     "output_type": "stream",
     "text": [
      "enter number890\n",
      "final salary is 1023.5\n"
     ]
    }
   ],
   "source": [
    "#salary of an employee hr-10% da-5%\n",
    "basesalary=int(input(\"enter number\"))\n",
    "hr=basesalary*0.1\n",
    "da=basesalary*0.05\n",
    "finalsalary=basesalary+hr+da\n",
    "print(\"final salary is\",finalsalary)"
   ]
  },
  {
   "cell_type": "markdown",
   "id": "80f11027",
   "metadata": {},
   "source": [
    "## perimeter of shapes"
   ]
  },
  {
   "cell_type": "code",
   "execution_count": 3,
   "id": "19d7243f",
   "metadata": {},
   "outputs": [
    {
     "name": "stdout",
     "output_type": "stream",
     "text": [
      "enter the number5\n",
      "enter the number4\n",
      "perimeter is 18\n"
     ]
    }
   ],
   "source": [
    "#perimeter of rectangle\n",
    "l=int(input(\"enter the number\"))\n",
    "p=int(input(\"enter the number\"))\n",
    "perimeter=2*(l+p)\n",
    "print(\"perimeter is\",perimeter)"
   ]
  },
  {
   "cell_type": "code",
   "execution_count": 6,
   "id": "03ec1ba7",
   "metadata": {},
   "outputs": [
    {
     "name": "stdout",
     "output_type": "stream",
     "text": [
      "enter number10\n",
      "perimeter is 40\n"
     ]
    }
   ],
   "source": [
    "#perimeter of square\n",
    "side=int(input(\"enter number\"))\n",
    "perimeter=4*side\n",
    "print(\"perimeter is\",perimeter)"
   ]
  },
  {
   "cell_type": "code",
   "execution_count": 7,
   "id": "7432020a",
   "metadata": {},
   "outputs": [
    {
     "name": "stdout",
     "output_type": "stream",
     "text": [
      "enter radius4\n",
      "perimeter of circle is 25.12\n"
     ]
    }
   ],
   "source": [
    "#perimeter of circle\n",
    "radius=int(input(\"enter radius\"))\n",
    "perimeter=2*3.14*radius\n",
    "print(\"perimeter of circle is\",perimeter)"
   ]
  },
  {
   "cell_type": "code",
   "execution_count": 8,
   "id": "cea26626",
   "metadata": {},
   "outputs": [
    {
     "name": "stdout",
     "output_type": "stream",
     "text": [
      "enter first side10\n",
      "enter second side6\n",
      "enter third side7\n",
      "perimeter of triangle is 23\n"
     ]
    }
   ],
   "source": [
    "#perimeter of triangle\n",
    "side1=int(input(\"enter first side\"))\n",
    "side2=int(input(\"enter second side\"))\n",
    "side3=int(input(\"enter third side\"))\n",
    "perimeter=side1+side2+side3\n",
    "print(\"perimeter of triangle is\",perimeter)"
   ]
  },
  {
   "cell_type": "markdown",
   "id": "a138b3c2",
   "metadata": {},
   "source": [
    "## area of shapes"
   ]
  },
  {
   "cell_type": "code",
   "execution_count": 9,
   "id": "011bf4cb",
   "metadata": {},
   "outputs": [
    {
     "name": "stdout",
     "output_type": "stream",
     "text": [
      "enter the length14\n",
      "enter the width10\n",
      "area of rectangle is 140\n"
     ]
    }
   ],
   "source": [
    "#area of rectangle\n",
    "length=int(input(\"enter the length\"))\n",
    "width=int(input(\"enter the width\"))\n",
    "area=length*width\n",
    "print(\"area of rectangle is\",area)"
   ]
  },
  {
   "cell_type": "code",
   "execution_count": 10,
   "id": "ffde6d94",
   "metadata": {},
   "outputs": [
    {
     "name": "stdout",
     "output_type": "stream",
     "text": [
      "enter the side4\n",
      "area of sqaue is 16\n"
     ]
    }
   ],
   "source": [
    "#area of square\n",
    "side=int(input(\"enter the side\"))\n",
    "area=side*side\n",
    "print(\"area of sqaue is\",area)"
   ]
  },
  {
   "cell_type": "code",
   "execution_count": 12,
   "id": "f723ec36",
   "metadata": {},
   "outputs": [
    {
     "name": "stdout",
     "output_type": "stream",
     "text": [
      "enter the radius5\n",
      "area of circle is 78.5\n"
     ]
    }
   ],
   "source": [
    "#area of circle\n",
    "radius=int(input(\"enter the radius\"))\n",
    "area=3.14*radius*radius\n",
    "print(\"area of circle is\",area)"
   ]
  },
  {
   "cell_type": "code",
   "execution_count": 18,
   "id": "f6cf63da",
   "metadata": {},
   "outputs": [
    {
     "name": "stdout",
     "output_type": "stream",
     "text": [
      "enter the base10\n",
      "enter heigth10\n",
      "area of triangle is 50.0\n"
     ]
    }
   ],
   "source": [
    "#area of triangle\n",
    "base=int(input(\"enter the base\"))\n",
    "height=int(input(\"enter heigth\"))\n",
    "area=(base*height)/2\n",
    "print(\"area of triangle is\",area)"
   ]
  },
  {
   "cell_type": "code",
   "execution_count": 1,
   "id": "07f5da0d",
   "metadata": {},
   "outputs": [
    {
     "name": "stdout",
     "output_type": "stream",
     "text": [
      "is x is greater than y False\n",
      "is x is greater than y True\n",
      "is x is equal to y False\n",
      "is x is greater than or equal to y False\n",
      "is y is greater than or equal to x True\n"
     ]
    }
   ],
   "source": [
    "x=10#comparison operator\n",
    "y=20\n",
    "print(\"is x is greater than y\",x>y)\n",
    "print(\"is x is greater than y\",x<y)\n",
    "print(\"is x is equal to y\",x==y)\n",
    "print(\"is x is greater than or equal to y\",x>=y)\n",
    "print(\"is y is greater than or equal to x\",x<=y)"
   ]
  },
  {
   "cell_type": "code",
   "execution_count": 2,
   "id": "b772578f",
   "metadata": {},
   "outputs": [
    {
     "name": "stdout",
     "output_type": "stream",
     "text": [
      "enter value10\n",
      "enter value20\n",
      "is x is greater than y False\n",
      "is x is greater than y True\n",
      "is x is equal to y False\n",
      "is x is greater than or equal to y False\n",
      "is y is greater than or equal to x True\n"
     ]
    }
   ],
   "source": [
    "x=int(input(\"enter value\"))#comparison operator with user input\n",
    "y=int(input(\"enter value\"))\n",
    "print(\"is x is greater than y\",x>y)\n",
    "print(\"is x is greater than y\",x<y)\n",
    "print(\"is x is equal to y\",x==y)\n",
    "print(\"is x is greater than or equal to y\",x>=y)\n",
    "print(\"is y is greater than or equal to x\",x<=y)"
   ]
  },
  {
   "cell_type": "code",
   "execution_count": 5,
   "id": "461915a3",
   "metadata": {},
   "outputs": [
    {
     "name": "stdout",
     "output_type": "stream",
     "text": [
      "False\n",
      "True\n",
      "True\n"
     ]
    }
   ],
   "source": [
    "a=\"athulya\"#comparison operator for string\n",
    "b=\"chandran\"\n",
    "c=\"athulya\"\n",
    "print(a==b)\n",
    "print(a==c)\n",
    "print(a!=b)"
   ]
  },
  {
   "cell_type": "markdown",
   "id": "1fc450fd",
   "metadata": {},
   "source": [
    "## logical operator"
   ]
  },
  {
   "cell_type": "code",
   "execution_count": 7,
   "id": "2f20d1a9",
   "metadata": {},
   "outputs": [
    {
     "name": "stdout",
     "output_type": "stream",
     "text": [
      "False\n",
      "True\n",
      "False\n"
     ]
    }
   ],
   "source": [
    "x=True\n",
    "y=False\n",
    "print(x and y)\n",
    "print(x or y)\n",
    "print(not x)"
   ]
  },
  {
   "cell_type": "code",
   "execution_count": 11,
   "id": "df640bcd",
   "metadata": {},
   "outputs": [
    {
     "name": "stdout",
     "output_type": "stream",
     "text": [
      "False\n"
     ]
    }
   ],
   "source": [
    "A=10\n",
    "B=12\n",
    "print(A>10 and A<B)"
   ]
  },
  {
   "cell_type": "code",
   "execution_count": 10,
   "id": "b6e64e99",
   "metadata": {},
   "outputs": [
    {
     "name": "stdout",
     "output_type": "stream",
     "text": [
      "True\n"
     ]
    }
   ],
   "source": [
    "a=10\n",
    "b=12\n",
    "print(a>=10 and a<b)"
   ]
  },
  {
   "cell_type": "code",
   "execution_count": 12,
   "id": "2dc87dc3",
   "metadata": {},
   "outputs": [
    {
     "name": "stdout",
     "output_type": "stream",
     "text": [
      "True\n"
     ]
    }
   ],
   "source": [
    "a=10\n",
    "b=12\n",
    "print(a>10 or a<b)"
   ]
  },
  {
   "cell_type": "code",
   "execution_count": 14,
   "id": "ead60a8f",
   "metadata": {},
   "outputs": [
    {
     "name": "stdout",
     "output_type": "stream",
     "text": [
      "False\n"
     ]
    }
   ],
   "source": [
    "a=10\n",
    "b=12\n",
    "print(a>10 or a>b)"
   ]
  },
  {
   "cell_type": "code",
   "execution_count": 17,
   "id": "0ce0dbd5",
   "metadata": {},
   "outputs": [
    {
     "name": "stdout",
     "output_type": "stream",
     "text": [
      "enter the first number4\n",
      "enter second number6\n"
     ]
    }
   ],
   "source": [
    "#use of operator in coditional statement\n",
    "a=int(input(\"enter the first number\"))\n",
    "b=int(input(\"enter second number\"))\n",
    "if a==b:\n",
    "    print(\"both are equal\")"
   ]
  },
  {
   "cell_type": "code",
   "execution_count": 18,
   "id": "c617c34d",
   "metadata": {},
   "outputs": [
    {
     "name": "stdout",
     "output_type": "stream",
     "text": [
      "enter the first number4\n",
      "enter the second number6\n",
      "both are not equal\n"
     ]
    }
   ],
   "source": [
    "a=int(input(\"enter the first number\"))\n",
    "b=int(input(\"enter the second number\"))\n",
    "if a==b:\n",
    "    print(\"both are equal\")\n",
    "else:\n",
    "    print(\"both are not equal\")"
   ]
  },
  {
   "cell_type": "markdown",
   "id": "dba38ae7",
   "metadata": {},
   "source": [
    "### write a program to check whether a student is pass or fail"
   ]
  },
  {
   "cell_type": "code",
   "execution_count": 1,
   "id": "e8b466d5",
   "metadata": {},
   "outputs": [
    {
     "name": "stdout",
     "output_type": "stream",
     "text": [
      "enter the student score50\n",
      "student is pass the exam\n"
     ]
    }
   ],
   "source": [
    "score=int(input(\"enter the student score\"))\n",
    "if score>=50:\n",
    "          print(\"student is pass the exam\")\n",
    "else:\n",
    "          print(\"student fail in the exam\")"
   ]
  },
  {
   "cell_type": "code",
   "execution_count": 1,
   "id": "ffa08e19",
   "metadata": {},
   "outputs": [
    {
     "name": "stdout",
     "output_type": "stream",
     "text": [
      "enter the age18\n",
      "person is eligible for vote\n"
     ]
    }
   ],
   "source": [
    "age=int(input(\"enter the age\"))\n",
    "if age>=18:\n",
    "    print(\"person is eligible for vote\")\n",
    "else:\n",
    "        print(\"person is not eligible for vote\")"
   ]
  },
  {
   "cell_type": "code",
   "execution_count": 3,
   "id": "48e6e725",
   "metadata": {},
   "outputs": [
    {
     "name": "stdout",
     "output_type": "stream",
     "text": [
      "enter number110\n",
      "enter number220\n",
      "20 is greater\n"
     ]
    }
   ],
   "source": [
    "num1=int(input(\"enter number1\"))\n",
    "num2=int(input(\"enter number2\"))\n",
    "if num1>num2:\n",
    "    print(num1,\"is greater\")\n",
    "else:\n",
    "        print(num2,\"is greater\")"
   ]
  },
  {
   "cell_type": "code",
   "execution_count": 4,
   "id": "a348040a",
   "metadata": {},
   "outputs": [
    {
     "name": "stdout",
     "output_type": "stream",
     "text": [
      "enter number110\n",
      "enter number2112\n",
      "10 is smaller\n"
     ]
    }
   ],
   "source": [
    "num1=int(input(\"enter number1\"))\n",
    "num2=int(input(\"enter number2\"))\n",
    "if num1<num2:\n",
    "    print(num1,\"is smaller\")\n",
    "else:\n",
    "        print(num2,\"is greater\")"
   ]
  },
  {
   "cell_type": "markdown",
   "id": "7c5db542",
   "metadata": {},
   "source": [
    "## assignment operator"
   ]
  },
  {
   "cell_type": "code",
   "execution_count": 5,
   "id": "fe24c43d",
   "metadata": {},
   "outputs": [
    {
     "name": "stdout",
     "output_type": "stream",
     "text": [
      "100\n",
      "120\n",
      "100\n",
      "2000\n",
      "100.0\n",
      "5.0\n",
      "25.0\n"
     ]
    }
   ],
   "source": [
    "x=100\n",
    "print(x)\n",
    "x+=20\n",
    "print(x)\n",
    "x-=20\n",
    "print(x)\n",
    "x*=20\n",
    "print(x)\n",
    "x/=20\n",
    "print(x)\n",
    "x//=20\n",
    "print(x)\n",
    "x**=2\n",
    "print(x)"
   ]
  },
  {
   "cell_type": "markdown",
   "id": "3656c3ed",
   "metadata": {},
   "source": [
    "## membership operator"
   ]
  },
  {
   "cell_type": "code",
   "execution_count": 6,
   "id": "710e75d4",
   "metadata": {},
   "outputs": [
    {
     "name": "stdout",
     "output_type": "stream",
     "text": [
      "True\n"
     ]
    }
   ],
   "source": [
    "m=\"my name is athulya\"\n",
    "print(\"is\" in m)"
   ]
  },
  {
   "cell_type": "code",
   "execution_count": 7,
   "id": "01451252",
   "metadata": {},
   "outputs": [
    {
     "name": "stdout",
     "output_type": "stream",
     "text": [
      "False\n"
     ]
    }
   ],
   "source": [
    "m=\"my name is athulya\"\n",
    "print(\"it\" in m)"
   ]
  },
  {
   "cell_type": "code",
   "execution_count": 8,
   "id": "147101f0",
   "metadata": {},
   "outputs": [
    {
     "name": "stdout",
     "output_type": "stream",
     "text": [
      "True\n"
     ]
    }
   ],
   "source": [
    "m=\"my name is athulya\"\n",
    "print(\"it\" not in m)"
   ]
  },
  {
   "cell_type": "code",
   "execution_count": 9,
   "id": "093d085c",
   "metadata": {},
   "outputs": [
    {
     "name": "stdout",
     "output_type": "stream",
     "text": [
      "False\n"
     ]
    }
   ],
   "source": [
    "m=\"my name is athulya\"\n",
    "print(\"is\" not in m)"
   ]
  },
  {
   "cell_type": "markdown",
   "id": "969ffb2b",
   "metadata": {},
   "source": [
    "##  bitwise operator"
   ]
  },
  {
   "cell_type": "code",
   "execution_count": 10,
   "id": "96a37ba2",
   "metadata": {},
   "outputs": [
    {
     "name": "stdout",
     "output_type": "stream",
     "text": [
      "bitwise AND 4\n"
     ]
    }
   ],
   "source": [
    "x=6 #bitwise and return 1 if both the bit are 1 else 0\n",
    "y=4\n",
    "print(\"bitwise AND\",x&y)"
   ]
  },
  {
   "cell_type": "code",
   "execution_count": 13,
   "id": "b99f5544",
   "metadata": {},
   "outputs": [
    {
     "name": "stdout",
     "output_type": "stream",
     "text": [
      "bitwise OR 6\n"
     ]
    }
   ],
   "source": [
    "x=6# return 1 if either of the bit is 1 else 0\n",
    "y=4\n",
    "print(\"bitwise OR\",x|y)"
   ]
  },
  {
   "cell_type": "code",
   "execution_count": 7,
   "id": "391c1240",
   "metadata": {},
   "outputs": [
    {
     "name": "stdout",
     "output_type": "stream",
     "text": [
      "bitwise NOT -7\n"
     ]
    }
   ],
   "source": [
    "x=2 #bitwise not-return one's complement of the number\n",
    "print(\"bitwise NOT\",~X)"
   ]
  },
  {
   "cell_type": "code",
   "execution_count": 5,
   "id": "fab155c6",
   "metadata": {},
   "outputs": [
    {
     "name": "stdout",
     "output_type": "stream",
     "text": [
      "bitwise XOR 20\n"
     ]
    }
   ],
   "source": [
    "X=18#xor return 1 if one of the bit is 1 and other is 0 else return false\n",
    "Y=6\n",
    "print(\"bitwise XOR\",X^Y)"
   ]
  },
  {
   "cell_type": "code",
   "execution_count": 6,
   "id": "8caa360d",
   "metadata": {},
   "outputs": [
    {
     "name": "stdout",
     "output_type": "stream",
     "text": [
      "bitwise right shift 3\n",
      "bitwise left shift 12\n"
     ]
    }
   ],
   "source": [
    "X=6\n",
    "print(\"bitwise right shift\",X>>1)\n",
    "print(\"bitwise left shift\",X<<1)"
   ]
  },
  {
   "cell_type": "code",
   "execution_count": null,
   "id": "69afef5f",
   "metadata": {},
   "outputs": [],
   "source": []
  }
 ],
 "metadata": {
  "kernelspec": {
   "display_name": "Python 3 (ipykernel)",
   "language": "python",
   "name": "python3"
  },
  "language_info": {
   "codemirror_mode": {
    "name": "ipython",
    "version": 3
   },
   "file_extension": ".py",
   "mimetype": "text/x-python",
   "name": "python",
   "nbconvert_exporter": "python",
   "pygments_lexer": "ipython3",
   "version": "3.9.12"
  }
 },
 "nbformat": 4,
 "nbformat_minor": 5
}
