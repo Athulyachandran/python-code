{
 "cells": [
  {
   "cell_type": "markdown",
   "id": "af8af322",
   "metadata": {},
   "source": [
    "#### 1.Write a program to print \"Hello Python\" in ten times."
   ]
  },
  {
   "cell_type": "markdown",
   "id": "30613e8e",
   "metadata": {},
   "source": [
    "##### using for loop"
   ]
  },
  {
   "cell_type": "code",
   "execution_count": 1,
   "id": "5694f875",
   "metadata": {},
   "outputs": [
    {
     "name": "stdout",
     "output_type": "stream",
     "text": [
      "Hello Python\n",
      "Hello Python\n",
      "Hello Python\n",
      "Hello Python\n",
      "Hello Python\n",
      "Hello Python\n",
      "Hello Python\n",
      "Hello Python\n",
      "Hello Python\n",
      "Hello Python\n"
     ]
    }
   ],
   "source": [
    "for i in range(1,11):\n",
    "    print(\"Hello Python\")"
   ]
  },
  {
   "cell_type": "markdown",
   "id": "f1fbe6bf",
   "metadata": {},
   "source": [
    "##### using whileloop"
   ]
  },
  {
   "cell_type": "code",
   "execution_count": 2,
   "id": "14a7cc93",
   "metadata": {},
   "outputs": [
    {
     "name": "stdout",
     "output_type": "stream",
     "text": [
      "Hello Python\n",
      "Hello Python\n",
      "Hello Python\n",
      "Hello Python\n",
      "Hello Python\n",
      "Hello Python\n",
      "Hello Python\n",
      "Hello Python\n",
      "Hello Python\n",
      "Hello Python\n"
     ]
    }
   ],
   "source": [
    "i=1\n",
    "while i<=10:\n",
    "    print(\"Hello Python\")\n",
    "    i=i+1"
   ]
  },
  {
   "cell_type": "markdown",
   "id": "ea954cd8",
   "metadata": {},
   "source": [
    "#### 2. Write a program to print number from 1 to 10"
   ]
  },
  {
   "cell_type": "code",
   "execution_count": 3,
   "id": "8eccb567",
   "metadata": {},
   "outputs": [
    {
     "name": "stdout",
     "output_type": "stream",
     "text": [
      "1\n",
      "2\n",
      "3\n",
      "4\n",
      "5\n",
      "6\n",
      "7\n",
      "8\n",
      "9\n",
      "10\n"
     ]
    }
   ],
   "source": [
    "for i in range(1,11):\n",
    "    print(i)"
   ]
  },
  {
   "cell_type": "markdown",
   "id": "1ad9e213",
   "metadata": {},
   "source": [
    "#### 3.Write a program to print sum of first 10 numbers."
   ]
  },
  {
   "cell_type": "code",
   "execution_count": 4,
   "id": "b44c130f",
   "metadata": {},
   "outputs": [
    {
     "name": "stdout",
     "output_type": "stream",
     "text": [
      "1\n",
      "3\n",
      "6\n",
      "10\n",
      "15\n",
      "21\n",
      "28\n",
      "36\n",
      "45\n",
      "55\n"
     ]
    }
   ],
   "source": [
    "sum=0\n",
    "for i in range(1,11):\n",
    "    sum=sum+i\n",
    "    print(sum)"
   ]
  },
  {
   "cell_type": "markdown",
   "id": "146992b5",
   "metadata": {},
   "source": [
    "#### 4.Write a program  to print n number entered by user."
   ]
  },
  {
   "cell_type": "code",
   "execution_count": 5,
   "id": "a5d02aa0",
   "metadata": {},
   "outputs": [
    {
     "name": "stdout",
     "output_type": "stream",
     "text": [
      "enter number10\n",
      "0\n",
      "1\n",
      "2\n",
      "3\n",
      "4\n",
      "5\n",
      "6\n",
      "7\n",
      "8\n",
      "9\n",
      "10\n"
     ]
    }
   ],
   "source": [
    "n=int(input(\"enter number\"))\n",
    "for i in range(n+1):\n",
    "    print(i)"
   ]
  },
  {
   "cell_type": "markdown",
   "id": "d5a86577",
   "metadata": {},
   "source": [
    "#### 5.Write a program to print sum of n numbers."
   ]
  },
  {
   "cell_type": "code",
   "execution_count": 6,
   "id": "21bcc804",
   "metadata": {},
   "outputs": [
    {
     "name": "stdout",
     "output_type": "stream",
     "text": [
      "enter number5\n",
      "1\n",
      "3\n",
      "6\n",
      "10\n",
      "15\n"
     ]
    }
   ],
   "source": [
    "sum=0\n",
    "n=int(input(\"enter number\"))\n",
    "for i in range(1,n+1):\n",
    "    sum=sum+i\n",
    "    print(sum)"
   ]
  },
  {
   "cell_type": "markdown",
   "id": "8dfe78b8",
   "metadata": {},
   "source": [
    "#### 6.Write a program to print table of a number."
   ]
  },
  {
   "cell_type": "code",
   "execution_count": 7,
   "id": "a8339ad4",
   "metadata": {},
   "outputs": [
    {
     "name": "stdout",
     "output_type": "stream",
     "text": [
      "number5\n",
      "5 * 1 = 5\n",
      "5 * 2 = 10\n",
      "5 * 3 = 15\n",
      "5 * 4 = 20\n",
      "5 * 5 = 25\n",
      "5 * 6 = 30\n",
      "5 * 7 = 35\n",
      "5 * 8 = 40\n",
      "5 * 9 = 45\n",
      "5 * 10 = 50\n"
     ]
    }
   ],
   "source": [
    "n=int(input(\"number\"))\n",
    "for i in range(1,11):\n",
    "    print(n,\"*\",i,\"=\",n*i)"
   ]
  },
  {
   "cell_type": "markdown",
   "id": "0405dec4",
   "metadata": {},
   "source": [
    "#### 7.Write a program to calculate factorial of a number."
   ]
  },
  {
   "cell_type": "code",
   "execution_count": 8,
   "id": "d449cce9",
   "metadata": {},
   "outputs": [
    {
     "name": "stdout",
     "output_type": "stream",
     "text": [
      "num9\n",
      "1\n",
      "2\n",
      "6\n",
      "24\n",
      "120\n",
      "720\n",
      "5040\n",
      "40320\n",
      "362880\n"
     ]
    }
   ],
   "source": [
    "n=int(input(\"num\"))\n",
    "fact=1\n",
    "for i in range(1,n+1):\n",
    "    fact=fact*i\n",
    "    print(fact)\n",
    "    "
   ]
  },
  {
   "cell_type": "markdown",
   "id": "74001fc4",
   "metadata": {},
   "source": [
    "#### 8.Write a program to print even number between 1 to 100.\n"
   ]
  },
  {
   "cell_type": "code",
   "execution_count": 9,
   "id": "45f50548",
   "metadata": {},
   "outputs": [
    {
     "name": "stdout",
     "output_type": "stream",
     "text": [
      "2\n",
      "4\n",
      "6\n",
      "8\n",
      "10\n",
      "12\n",
      "14\n",
      "16\n",
      "18\n",
      "20\n",
      "22\n",
      "24\n",
      "26\n",
      "28\n",
      "30\n",
      "32\n",
      "34\n",
      "36\n",
      "38\n",
      "40\n",
      "42\n",
      "44\n",
      "46\n",
      "48\n",
      "50\n",
      "52\n",
      "54\n",
      "56\n",
      "58\n",
      "60\n",
      "62\n",
      "64\n",
      "66\n",
      "68\n",
      "70\n",
      "72\n",
      "74\n",
      "76\n",
      "78\n",
      "80\n",
      "82\n",
      "84\n",
      "86\n",
      "88\n",
      "90\n",
      "92\n",
      "94\n",
      "96\n",
      "98\n",
      "100\n"
     ]
    }
   ],
   "source": [
    "for i in range(1,101):\n",
    "    if i%2==0:\n",
    "        print(i)"
   ]
  },
  {
   "cell_type": "markdown",
   "id": "56a5c712",
   "metadata": {},
   "source": [
    "#### 9.Write a program to print odd  number between 1 to 100."
   ]
  },
  {
   "cell_type": "code",
   "execution_count": 10,
   "id": "222f967e",
   "metadata": {},
   "outputs": [
    {
     "name": "stdout",
     "output_type": "stream",
     "text": [
      "1\n",
      "3\n",
      "5\n",
      "7\n",
      "9\n",
      "11\n",
      "13\n",
      "15\n",
      "17\n",
      "19\n",
      "21\n",
      "23\n",
      "25\n",
      "27\n",
      "29\n",
      "31\n",
      "33\n",
      "35\n",
      "37\n",
      "39\n",
      "41\n",
      "43\n",
      "45\n",
      "47\n",
      "49\n",
      "51\n",
      "53\n",
      "55\n",
      "57\n",
      "59\n",
      "61\n",
      "63\n",
      "65\n",
      "67\n",
      "69\n",
      "71\n",
      "73\n",
      "75\n",
      "77\n",
      "79\n",
      "81\n",
      "83\n",
      "85\n",
      "87\n",
      "89\n",
      "91\n",
      "93\n",
      "95\n",
      "97\n",
      "99\n"
     ]
    }
   ],
   "source": [
    "for i in range(1,101):\n",
    "    if i%2!=0:\n",
    "        print(i)"
   ]
  },
  {
   "cell_type": "markdown",
   "id": "c723d697",
   "metadata": {},
   "source": [
    "#### 10.Write a program to check the given number is palindrome or not."
   ]
  },
  {
   "cell_type": "code",
   "execution_count": null,
   "id": "474e43dc",
   "metadata": {},
   "outputs": [],
   "source": [
    "n=int(input(\"Enter number\"))\n",
    "temp=n\n",
    "rev=0\n",
    "while n>0:\n",
    "    dig=n%10\n",
    "    rev=rev*10+dig\n",
    "    n=n//10\n",
    "if temp==rev:\n",
    "    print(temp,\"Is a palindrom number\")\n",
    "else:\n",
    "    print(temp,\"Is not palindrom number\")"
   ]
  },
  {
   "cell_type": "markdown",
   "id": "a230552d",
   "metadata": {},
   "source": [
    "#### 11.Write a program to find the factors of a number."
   ]
  },
  {
   "cell_type": "code",
   "execution_count": 1,
   "id": "2dc740c5",
   "metadata": {},
   "outputs": [
    {
     "name": "stdout",
     "output_type": "stream",
     "text": [
      "Enter a number: 125\n",
      "1\n",
      "5\n",
      "25\n",
      "125\n"
     ]
    }
   ],
   "source": [
    "num = int(input(\"Enter a number: \"))\n",
    "for i in range(1,num+1):\n",
    "    if num % i == 0:\n",
    "        print(i)"
   ]
  },
  {
   "cell_type": "markdown",
   "id": "3bae7998",
   "metadata": {},
   "source": [
    "#### 11.Write a program to find reverse of a number."
   ]
  },
  {
   "cell_type": "code",
   "execution_count": null,
   "id": "6d0e547f",
   "metadata": {},
   "outputs": [],
   "source": [
    "n=int(input(\"Enter number\"))\n",
    "temp=n\n",
    "rev=0\n",
    "while n>0:\n",
    "    dig=n%10\n",
    "    rev=rev*10+dig\n",
    "    n=n//10\n",
    "print(rev)"
   ]
  },
  {
   "cell_type": "markdown",
   "id": "5ccd2e53",
   "metadata": {},
   "source": [
    "#### 12.Write a program to check given number is prime or not."
   ]
  },
  {
   "cell_type": "code",
   "execution_count": null,
   "id": "624f26aa",
   "metadata": {},
   "outputs": [],
   "source": [
    "n=int(input(\"Enter number\"))\n",
    "for i in range(2,n):\n",
    "    if n%i==0:\n",
    "        print(\"Not prime number\")\n",
    "    \n",
    "        break\n",
    "else:\n",
    "        print(\"It is a prime number\")"
   ]
  },
  {
   "cell_type": "markdown",
   "id": "2ba00889",
   "metadata": {},
   "source": [
    "#### 13.Write a program to print sum of reverse of a number."
   ]
  },
  {
   "cell_type": "code",
   "execution_count": null,
   "id": "5333e989",
   "metadata": {},
   "outputs": [],
   "source": [
    "n=int(input(\"Enter number\"))\n",
    "temp=n\n",
    "rev=0\n",
    "while n>0:\n",
    "    dig=n%10\n",
    "    rev=rev+dig\n",
    "    n=n//10\n",
    "print(rev)"
   ]
  },
  {
   "cell_type": "markdown",
   "id": "290debfd",
   "metadata": {},
   "source": [
    "#### 14. Write a program to print prime number between 1 to 100."
   ]
  },
  {
   "cell_type": "code",
   "execution_count": null,
   "id": "b0c25e17",
   "metadata": {},
   "outputs": [],
   "source": [
    "for i in range(1,101):\n",
    "    if i>1:\n",
    "        for j in range(2,i):\n",
    "            if i%j==0:\n",
    "                break\n",
    "        else:\n",
    "            print(i)\n",
    "        "
   ]
  },
  {
   "cell_type": "markdown",
   "id": "fcad6da2",
   "metadata": {},
   "source": [
    "#### 15.Write a program to print number in reverse order entered by user."
   ]
  },
  {
   "cell_type": "code",
   "execution_count": null,
   "id": "fd37dfd7",
   "metadata": {},
   "outputs": [],
   "source": [
    "number=int(input(\"enter number\"))\n",
    "while number>0:\n",
    "    print(number)\n",
    "    number=number-1"
   ]
  },
  {
   "cell_type": "markdown",
   "id": "7a9ff333",
   "metadata": {},
   "source": [
    "#### 16. Write a program  to print cube of all numbers from 1 to a given number"
   ]
  },
  {
   "cell_type": "code",
   "execution_count": null,
   "id": "1c6dca4e",
   "metadata": {},
   "outputs": [],
   "source": [
    "n=int(input(\"enter number\"))\n",
    "for i in range(1,n+1):\n",
    "    a=i**3\n",
    "    print(a)"
   ]
  },
  {
   "cell_type": "markdown",
   "id": "b8f1a4b9",
   "metadata": {},
   "source": [
    "#### 17.Write a program to count the total number of digits in a number."
   ]
  },
  {
   "cell_type": "code",
   "execution_count": null,
   "id": "7fb0ea0d",
   "metadata": {},
   "outputs": [],
   "source": [
    "n=int(input(\"Enter number\"))\n",
    "count=0\n",
    "while n>0:\n",
    "    count=count+1\n",
    "    n=n//10\n",
    "print(\"Number of count of digit in the numbers is:\",count)"
   ]
  },
  {
   "cell_type": "markdown",
   "id": "ef3a99a4",
   "metadata": {},
   "source": [
    "#### 18.Write a program to print fibonacci series."
   ]
  },
  {
   "cell_type": "code",
   "execution_count": null,
   "id": "baf2e6aa",
   "metadata": {},
   "outputs": [],
   "source": [
    "t=int(input('Enter number'))\n",
    "n1,n2=0,1\n",
    "count=0\n",
    "if t<=0:\n",
    "    print(\"Please enter +ve value\")\n",
    "elif t==1:\n",
    "    print(n2)\n",
    "else:\n",
    "    while count<=t:\n",
    "        print(n1)\n",
    "        n=n1+n2\n",
    "        n1=n2\n",
    "        n2=n\n",
    "        count+=1"
   ]
  },
  {
   "cell_type": "markdown",
   "id": "08118cd5",
   "metadata": {},
   "source": [
    "#### 19.Write a program to check whether given number is amstrong or not."
   ]
  },
  {
   "cell_type": "code",
   "execution_count": null,
   "id": "74a789a0",
   "metadata": {},
   "outputs": [],
   "source": [
    "n=int(input(\"Enter number\"))\n",
    "x=len(str(n))\n",
    "temp=n\n",
    "sum=0\n",
    "while n>0:\n",
    "    r=n%10\n",
    "    sum=sum+r**x\n",
    "    n=n//10\n",
    "if temp==sum:\n",
    "    print(\"This is an amstrong number\")\n",
    "else:\n",
    "    print(\"This is not an amstrong\")"
   ]
  },
  {
   "cell_type": "markdown",
   "id": "0e898210",
   "metadata": {},
   "source": [
    "#### 20.Write a program to check whether the given number is strong number or not."
   ]
  },
  {
   "cell_type": "code",
   "execution_count": null,
   "id": "0fdbff9b",
   "metadata": {},
   "outputs": [],
   "source": [
    "n=int(input(\"Enter number\"))\n",
    "strong=n\n",
    "sum=0\n",
    "while n>0:\n",
    "    r=n%10\n",
    "    f=1\n",
    "    for i in range(1,r+1):\n",
    "        f=f*i\n",
    "    sum=sum+f\n",
    "    n=n//10\n",
    "if(sum==strong):\n",
    "    print(\"This is a strong number\")\n",
    "else:\n",
    "    print(\"This is not a strong number\")"
   ]
  },
  {
   "cell_type": "markdown",
   "id": "3bf15006",
   "metadata": {},
   "source": [
    "#### 21.Write a program to check whether given number is perfect number or not."
   ]
  },
  {
   "cell_type": "code",
   "execution_count": null,
   "id": "cc0e010e",
   "metadata": {},
   "outputs": [],
   "source": [
    "n=int(input(\"enter number\"))\n",
    "sum=0\n",
    "for i in range(1,int(n/2)+1):\n",
    "    if n%i==0:\n",
    "        sum=sum+i\n",
    "if n==sum:\n",
    "    print(n,\"is perfect number\")\n",
    "else:\n",
    "    print(n,\"is not a perfect number\")"
   ]
  }
 ],
 "metadata": {
  "kernelspec": {
   "display_name": "Python 3 (ipykernel)",
   "language": "python",
   "name": "python3"
  },
  "language_info": {
   "codemirror_mode": {
    "name": "ipython",
    "version": 3
   },
   "file_extension": ".py",
   "mimetype": "text/x-python",
   "name": "python",
   "nbconvert_exporter": "python",
   "pygments_lexer": "ipython3",
   "version": "3.9.12"
  }
 },
 "nbformat": 4,
 "nbformat_minor": 5
}
